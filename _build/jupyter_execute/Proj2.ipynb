{
 "cells": [
  {
   "cell_type": "markdown",
   "id": "60e72687-178a-4ed8-a3f3-13f02ad559aa",
   "metadata": {},
   "source": [
    "# 2. Economic growth and energy efficiency worldwide"
   ]
  },
  {
   "cell_type": "markdown",
   "id": "962abd8a-2a7b-498f-84c9-1a06082b95f5",
   "metadata": {},
   "source": [
    "By [Alex Cañas](https://www.linkedin.com/in/alex-cañas-a29b68128/) (afc2176)"
   ]
  },
  {
   "cell_type": "markdown",
   "id": "e7e592d6-4823-4a99-b9ef-b3ef5a310dff",
   "metadata": {},
   "source": [
    "To be net-zero, the world needs four kinds of measurements: i) retire dirty (high CO2-intensive technologies) early; ii) Make dirty cleaner; iii) build low emissions; and iv) behavioral change and avoid demand. Indeed, the latter has to do with energy efficiency - using less energy to perform the same task or produce the same result, say, the same amount of GDP. Therefore, understanding the advances in energy efficiency is essential to track climate change progress. \n",
    "\n",
    "The indicator of energy intensity, which measures how much energy is required to produce a unit of output or activity (E/GDP), is a way to track how energy use changes over time, and how energy efficiency improvements impact energy markets.\n",
    "\n",
    "This project aims to investigate the relationship between economic growth and energy efficiency. Since energy efficiency depends on technological advances, my hypothesis is that energy efficiency improvements are lower in developing and emerging markets than in developed ones, because in the formers adopting new technologies (advanced technologies) is more costly.\n",
    "\n",
    "The project uses two databases, **one from the [IMF](https://www.imf.org/external/datamapper/NGDP_RPCH@WEO/OEMDC/ADVEC/WEOWORLD/ALB)**, that contains information about economy growth, and one from the **[U.S. International Energy Agency](https://www.eia.gov/international/data/world/other-statistics/energy-intensity-by-gdp-and-population?pd=47&p=000000000000000000000000000000000000000000000000000000000g&u=2&f=A&v=line&a=-&i=none&vo=value&t=C&g=00000000000000000000000000000000000000000000000001&l=249-ruvvvvvfvtvnvv1vrvvvvfvvvvvvfvvvou20evvvvvvvvvvnvvvs0008&s=315532800000&e=1640995200000&&ev=false)**, which has the energy intensity indicator by country - energy consumption per GDP (1000 Btu/2015$ GDP PPP). Also, a **JSON file** was created with the [groups and country classifications](https://www.imf.org/en/Publications/WEO/weo-database/2023/April/groups-and-aggregates)  in order to investigate about the results by group of economies (advanced and Emerging Markets and Developing Economies, EMDEs). \n"
   ]
  },
  {
   "cell_type": "code",
   "execution_count": 39,
   "id": "bdf5022f",
   "metadata": {},
   "outputs": [],
   "source": [
    "import plotly.io as pio\n",
    "\n",
    "pio.renderers.default = \"vscode+jupyterlab+notebook_connected\"\n"
   ]
  },
  {
   "cell_type": "code",
   "execution_count": 40,
   "id": "4de036d5-ad9c-421d-91d3-2eab997cba28",
   "metadata": {},
   "outputs": [],
   "source": [
    "import pandas as pd\n",
    "import plotly.express as px"
   ]
  },
  {
   "cell_type": "markdown",
   "id": "69d3d528-5185-4baa-bdb7-8e31ef198ce3",
   "metadata": {},
   "source": [
    "## 2.1. Energy efficiency"
   ]
  },
  {
   "cell_type": "code",
   "execution_count": 41,
   "id": "3d579c37-21e1-42ac-8482-c70a99abe2e6",
   "metadata": {},
   "outputs": [
    {
     "data": {
      "text/html": [
       "<div>\n",
       "<style scoped>\n",
       "    .dataframe tbody tr th:only-of-type {\n",
       "        vertical-align: middle;\n",
       "    }\n",
       "\n",
       "    .dataframe tbody tr th {\n",
       "        vertical-align: top;\n",
       "    }\n",
       "\n",
       "    .dataframe thead th {\n",
       "        text-align: right;\n",
       "    }\n",
       "</style>\n",
       "<table border=\"1\" class=\"dataframe\">\n",
       "  <thead>\n",
       "    <tr style=\"text-align: right;\">\n",
       "      <th></th>\n",
       "      <th>API</th>\n",
       "      <th>Unnamed: 1</th>\n",
       "      <th>1980</th>\n",
       "      <th>1981</th>\n",
       "      <th>1982</th>\n",
       "      <th>1983</th>\n",
       "      <th>1984</th>\n",
       "      <th>1985</th>\n",
       "      <th>1986</th>\n",
       "      <th>1987</th>\n",
       "      <th>...</th>\n",
       "      <th>2013</th>\n",
       "      <th>2014</th>\n",
       "      <th>2015</th>\n",
       "      <th>2016</th>\n",
       "      <th>2017</th>\n",
       "      <th>2018</th>\n",
       "      <th>2019</th>\n",
       "      <th>2020</th>\n",
       "      <th>2021</th>\n",
       "      <th>2022</th>\n",
       "    </tr>\n",
       "  </thead>\n",
       "  <tbody>\n",
       "    <tr>\n",
       "      <th>0</th>\n",
       "      <td>NaN</td>\n",
       "      <td>energy consumption per GDP (1000 Btu/2015$ GDP...</td>\n",
       "      <td>NaN</td>\n",
       "      <td>NaN</td>\n",
       "      <td>NaN</td>\n",
       "      <td>NaN</td>\n",
       "      <td>NaN</td>\n",
       "      <td>NaN</td>\n",
       "      <td>NaN</td>\n",
       "      <td>NaN</td>\n",
       "      <td>...</td>\n",
       "      <td>NaN</td>\n",
       "      <td>NaN</td>\n",
       "      <td>NaN</td>\n",
       "      <td>NaN</td>\n",
       "      <td>NaN</td>\n",
       "      <td>NaN</td>\n",
       "      <td>NaN</td>\n",
       "      <td>NaN</td>\n",
       "      <td>NaN</td>\n",
       "      <td>NaN</td>\n",
       "    </tr>\n",
       "    <tr>\n",
       "      <th>1</th>\n",
       "      <td>INTL.47-34-WORL-TBTUUSDPP.A</td>\n",
       "      <td>World</td>\n",
       "      <td>9.976817714825058</td>\n",
       "      <td>9.52582315739567</td>\n",
       "      <td>9.467481202307441</td>\n",
       "      <td>9.317233214199083</td>\n",
       "      <td>9.29007033037435</td>\n",
       "      <td>9.192147763159879</td>\n",
       "      <td>9.075658813258539</td>\n",
       "      <td>9.020345759099436</td>\n",
       "      <td>...</td>\n",
       "      <td>5.070982388978843</td>\n",
       "      <td>4.938338802636608</td>\n",
       "      <td>4.783111814006596</td>\n",
       "      <td>4.683533656719483</td>\n",
       "      <td>4.586282124834078</td>\n",
       "      <td>4.525499552005068</td>\n",
       "      <td>4.420504525699052</td>\n",
       "      <td>4.347687280897317</td>\n",
       "      <td>4.29009307281686</td>\n",
       "      <td>4.377207003659074</td>\n",
       "    </tr>\n",
       "    <tr>\n",
       "      <th>2</th>\n",
       "      <td>INTL.47-34-AFG-TBTUUSDPP.A</td>\n",
       "      <td>Afghanistan</td>\n",
       "      <td>0</td>\n",
       "      <td>0</td>\n",
       "      <td>0</td>\n",
       "      <td>0</td>\n",
       "      <td>0</td>\n",
       "      <td>0</td>\n",
       "      <td>0</td>\n",
       "      <td>0</td>\n",
       "      <td>...</td>\n",
       "      <td>1.5048538905636248</td>\n",
       "      <td>1.2292370037521776</td>\n",
       "      <td>1.4657731420487743</td>\n",
       "      <td>1.2934225820561316</td>\n",
       "      <td>1.2544826252447867</td>\n",
       "      <td>1.4363498893691715</td>\n",
       "      <td>1.1598303381612403</td>\n",
       "      <td>1.0792072022825066</td>\n",
       "      <td>1.648049862734497</td>\n",
       "      <td>1.7860947108586451</td>\n",
       "    </tr>\n",
       "    <tr>\n",
       "      <th>3</th>\n",
       "      <td>INTL.47-34-ALB-TBTUUSDPP.A</td>\n",
       "      <td>Albania</td>\n",
       "      <td>0</td>\n",
       "      <td>0</td>\n",
       "      <td>0</td>\n",
       "      <td>0</td>\n",
       "      <td>0</td>\n",
       "      <td>0</td>\n",
       "      <td>0</td>\n",
       "      <td>0</td>\n",
       "      <td>...</td>\n",
       "      <td>2.7857553102300505</td>\n",
       "      <td>2.6729565103842896</td>\n",
       "      <td>2.4414301225975925</td>\n",
       "      <td>2.630687173574365</td>\n",
       "      <td>2.7734286828463928</td>\n",
       "      <td>2.549922740509539</td>\n",
       "      <td>2.229800696987095</td>\n",
       "      <td>2.177161338752181</td>\n",
       "      <td>2.168040614601588</td>\n",
       "      <td>2.0386576579230846</td>\n",
       "    </tr>\n",
       "    <tr>\n",
       "      <th>4</th>\n",
       "      <td>INTL.47-34-DZA-TBTUUSDPP.A</td>\n",
       "      <td>Algeria</td>\n",
       "      <td>3.8177978771427576</td>\n",
       "      <td>3.1445302663240717</td>\n",
       "      <td>4.243396866982315</td>\n",
       "      <td>4.5353919407004435</td>\n",
       "      <td>4.528947340509177</td>\n",
       "      <td>4.037090399427737</td>\n",
       "      <td>4.108380667973795</td>\n",
       "      <td>4.41061383853572</td>\n",
       "      <td>...</td>\n",
       "      <td>4.057169458906325</td>\n",
       "      <td>4.399643399741321</td>\n",
       "      <td>4.360294147032619</td>\n",
       "      <td>4.1669692730820085</td>\n",
       "      <td>4.153569444821653</td>\n",
       "      <td>4.3649171125411375</td>\n",
       "      <td>4.502246427658841</td>\n",
       "      <td>4.48284717697677</td>\n",
       "      <td>4.600365784097424</td>\n",
       "      <td>4.414061263163541</td>\n",
       "    </tr>\n",
       "  </tbody>\n",
       "</table>\n",
       "<p>5 rows × 45 columns</p>\n",
       "</div>"
      ],
      "text/plain": [
       "                           API  \\\n",
       "0                          NaN   \n",
       "1  INTL.47-34-WORL-TBTUUSDPP.A   \n",
       "2   INTL.47-34-AFG-TBTUUSDPP.A   \n",
       "3   INTL.47-34-ALB-TBTUUSDPP.A   \n",
       "4   INTL.47-34-DZA-TBTUUSDPP.A   \n",
       "\n",
       "                                          Unnamed: 1                1980  \\\n",
       "0  energy consumption per GDP (1000 Btu/2015$ GDP...                 NaN   \n",
       "1                                              World   9.976817714825058   \n",
       "2                                        Afghanistan                   0   \n",
       "3                                            Albania                   0   \n",
       "4                                            Algeria  3.8177978771427576   \n",
       "\n",
       "                 1981               1982                1983  \\\n",
       "0                 NaN                NaN                 NaN   \n",
       "1    9.52582315739567  9.467481202307441   9.317233214199083   \n",
       "2                   0                  0                   0   \n",
       "3                   0                  0                   0   \n",
       "4  3.1445302663240717  4.243396866982315  4.5353919407004435   \n",
       "\n",
       "                1984               1985               1986               1987  \\\n",
       "0                NaN                NaN                NaN                NaN   \n",
       "1   9.29007033037435  9.192147763159879  9.075658813258539  9.020345759099436   \n",
       "2                  0                  0                  0                  0   \n",
       "3                  0                  0                  0                  0   \n",
       "4  4.528947340509177  4.037090399427737  4.108380667973795   4.41061383853572   \n",
       "\n",
       "   ...                2013                2014                2015  \\\n",
       "0  ...                 NaN                 NaN                 NaN   \n",
       "1  ...   5.070982388978843   4.938338802636608   4.783111814006596   \n",
       "2  ...  1.5048538905636248  1.2292370037521776  1.4657731420487743   \n",
       "3  ...  2.7857553102300505  2.6729565103842896  2.4414301225975925   \n",
       "4  ...   4.057169458906325   4.399643399741321   4.360294147032619   \n",
       "\n",
       "                 2016                2017                2018  \\\n",
       "0                 NaN                 NaN                 NaN   \n",
       "1   4.683533656719483   4.586282124834078   4.525499552005068   \n",
       "2  1.2934225820561316  1.2544826252447867  1.4363498893691715   \n",
       "3   2.630687173574365  2.7734286828463928   2.549922740509539   \n",
       "4  4.1669692730820085   4.153569444821653  4.3649171125411375   \n",
       "\n",
       "                 2019                2020               2021  \\\n",
       "0                 NaN                 NaN                NaN   \n",
       "1   4.420504525699052   4.347687280897317   4.29009307281686   \n",
       "2  1.1598303381612403  1.0792072022825066  1.648049862734497   \n",
       "3   2.229800696987095   2.177161338752181  2.168040614601588   \n",
       "4   4.502246427658841    4.48284717697677  4.600365784097424   \n",
       "\n",
       "                 2022  \n",
       "0                 NaN  \n",
       "1   4.377207003659074  \n",
       "2  1.7860947108586451  \n",
       "3  2.0386576579230846  \n",
       "4   4.414061263163541  \n",
       "\n",
       "[5 rows x 45 columns]"
      ]
     },
     "execution_count": 41,
     "metadata": {},
     "output_type": "execute_result"
    }
   ],
   "source": [
    "ei=pd.read_csv('energy_intensity.csv', skiprows=1)\n",
    "ei.head()"
   ]
  },
  {
   "cell_type": "code",
   "execution_count": 42,
   "id": "10323eba-ff45-4842-b50c-240bddf7edfe",
   "metadata": {},
   "outputs": [
    {
     "name": "stdout",
     "output_type": "stream",
     "text": [
      "<class 'pandas.core.frame.DataFrame'>\n",
      "RangeIndex: 231 entries, 1 to 231\n",
      "Data columns (total 45 columns):\n",
      " #   Column      Non-Null Count  Dtype \n",
      "---  ------      --------------  ----- \n",
      " 0   API         231 non-null    object\n",
      " 1   Unnamed: 1  231 non-null    object\n",
      " 2   1980        226 non-null    object\n",
      " 3   1981        226 non-null    object\n",
      " 4   1982        226 non-null    object\n",
      " 5   1983        226 non-null    object\n",
      " 6   1984        226 non-null    object\n",
      " 7   1985        226 non-null    object\n",
      " 8   1986        226 non-null    object\n",
      " 9   1987        226 non-null    object\n",
      " 10  1988        226 non-null    object\n",
      " 11  1989        226 non-null    object\n",
      " 12  1990        226 non-null    object\n",
      " 13  1991        226 non-null    object\n",
      " 14  1992        226 non-null    object\n",
      " 15  1993        226 non-null    object\n",
      " 16  1994        226 non-null    object\n",
      " 17  1995        226 non-null    object\n",
      " 18  1996        226 non-null    object\n",
      " 19  1997        226 non-null    object\n",
      " 20  1998        226 non-null    object\n",
      " 21  1999        226 non-null    object\n",
      " 22  2000        226 non-null    object\n",
      " 23  2001        226 non-null    object\n",
      " 24  2002        226 non-null    object\n",
      " 25  2003        226 non-null    object\n",
      " 26  2004        226 non-null    object\n",
      " 27  2005        226 non-null    object\n",
      " 28  2006        226 non-null    object\n",
      " 29  2007        226 non-null    object\n",
      " 30  2008        226 non-null    object\n",
      " 31  2009        226 non-null    object\n",
      " 32  2010        226 non-null    object\n",
      " 33  2011        226 non-null    object\n",
      " 34  2012        226 non-null    object\n",
      " 35  2013        226 non-null    object\n",
      " 36  2014        226 non-null    object\n",
      " 37  2015        226 non-null    object\n",
      " 38  2016        226 non-null    object\n",
      " 39  2017        226 non-null    object\n",
      " 40  2018        226 non-null    object\n",
      " 41  2019        226 non-null    object\n",
      " 42  2020        226 non-null    object\n",
      " 43  2021        226 non-null    object\n",
      " 44  2022        225 non-null    object\n",
      "dtypes: object(45)\n",
      "memory usage: 81.3+ KB\n"
     ]
    }
   ],
   "source": [
    "#The second row is not useful \n",
    "ei=ei.drop(index=0)\n",
    "ei.head()\n",
    "ei.info()"
   ]
  },
  {
   "cell_type": "code",
   "execution_count": 43,
   "id": "49e5986c-bf07-4b99-b18f-961c15d24158",
   "metadata": {},
   "outputs": [
    {
     "data": {
      "text/html": [
       "<div>\n",
       "<style scoped>\n",
       "    .dataframe tbody tr th:only-of-type {\n",
       "        vertical-align: middle;\n",
       "    }\n",
       "\n",
       "    .dataframe tbody tr th {\n",
       "        vertical-align: top;\n",
       "    }\n",
       "\n",
       "    .dataframe thead th {\n",
       "        text-align: right;\n",
       "    }\n",
       "</style>\n",
       "<table border=\"1\" class=\"dataframe\">\n",
       "  <thead>\n",
       "    <tr style=\"text-align: right;\">\n",
       "      <th></th>\n",
       "      <th>API</th>\n",
       "      <th>country/region</th>\n",
       "      <th>1980</th>\n",
       "      <th>1981</th>\n",
       "      <th>1982</th>\n",
       "      <th>1983</th>\n",
       "      <th>1984</th>\n",
       "      <th>1985</th>\n",
       "      <th>1986</th>\n",
       "      <th>1987</th>\n",
       "      <th>...</th>\n",
       "      <th>2013</th>\n",
       "      <th>2014</th>\n",
       "      <th>2015</th>\n",
       "      <th>2016</th>\n",
       "      <th>2017</th>\n",
       "      <th>2018</th>\n",
       "      <th>2019</th>\n",
       "      <th>2020</th>\n",
       "      <th>2021</th>\n",
       "      <th>2022</th>\n",
       "    </tr>\n",
       "  </thead>\n",
       "  <tbody>\n",
       "    <tr>\n",
       "      <th>1</th>\n",
       "      <td>INTL.47-34-WORL-TBTUUSDPP.A</td>\n",
       "      <td>World</td>\n",
       "      <td>9.976817714825058</td>\n",
       "      <td>9.52582315739567</td>\n",
       "      <td>9.467481202307441</td>\n",
       "      <td>9.317233214199083</td>\n",
       "      <td>9.29007033037435</td>\n",
       "      <td>9.192147763159879</td>\n",
       "      <td>9.075658813258539</td>\n",
       "      <td>9.020345759099436</td>\n",
       "      <td>...</td>\n",
       "      <td>5.070982388978843</td>\n",
       "      <td>4.938338802636608</td>\n",
       "      <td>4.783111814006596</td>\n",
       "      <td>4.683533656719483</td>\n",
       "      <td>4.586282124834078</td>\n",
       "      <td>4.525499552005068</td>\n",
       "      <td>4.420504525699052</td>\n",
       "      <td>4.347687280897317</td>\n",
       "      <td>4.29009307281686</td>\n",
       "      <td>4.377207003659074</td>\n",
       "    </tr>\n",
       "    <tr>\n",
       "      <th>2</th>\n",
       "      <td>INTL.47-34-AFG-TBTUUSDPP.A</td>\n",
       "      <td>Afghanistan</td>\n",
       "      <td>0</td>\n",
       "      <td>0</td>\n",
       "      <td>0</td>\n",
       "      <td>0</td>\n",
       "      <td>0</td>\n",
       "      <td>0</td>\n",
       "      <td>0</td>\n",
       "      <td>0</td>\n",
       "      <td>...</td>\n",
       "      <td>1.5048538905636248</td>\n",
       "      <td>1.2292370037521776</td>\n",
       "      <td>1.4657731420487743</td>\n",
       "      <td>1.2934225820561316</td>\n",
       "      <td>1.2544826252447867</td>\n",
       "      <td>1.4363498893691715</td>\n",
       "      <td>1.1598303381612403</td>\n",
       "      <td>1.0792072022825066</td>\n",
       "      <td>1.648049862734497</td>\n",
       "      <td>1.7860947108586451</td>\n",
       "    </tr>\n",
       "    <tr>\n",
       "      <th>3</th>\n",
       "      <td>INTL.47-34-ALB-TBTUUSDPP.A</td>\n",
       "      <td>Albania</td>\n",
       "      <td>0</td>\n",
       "      <td>0</td>\n",
       "      <td>0</td>\n",
       "      <td>0</td>\n",
       "      <td>0</td>\n",
       "      <td>0</td>\n",
       "      <td>0</td>\n",
       "      <td>0</td>\n",
       "      <td>...</td>\n",
       "      <td>2.7857553102300505</td>\n",
       "      <td>2.6729565103842896</td>\n",
       "      <td>2.4414301225975925</td>\n",
       "      <td>2.630687173574365</td>\n",
       "      <td>2.7734286828463928</td>\n",
       "      <td>2.549922740509539</td>\n",
       "      <td>2.229800696987095</td>\n",
       "      <td>2.177161338752181</td>\n",
       "      <td>2.168040614601588</td>\n",
       "      <td>2.0386576579230846</td>\n",
       "    </tr>\n",
       "    <tr>\n",
       "      <th>4</th>\n",
       "      <td>INTL.47-34-DZA-TBTUUSDPP.A</td>\n",
       "      <td>Algeria</td>\n",
       "      <td>3.8177978771427576</td>\n",
       "      <td>3.1445302663240717</td>\n",
       "      <td>4.243396866982315</td>\n",
       "      <td>4.5353919407004435</td>\n",
       "      <td>4.528947340509177</td>\n",
       "      <td>4.037090399427737</td>\n",
       "      <td>4.108380667973795</td>\n",
       "      <td>4.41061383853572</td>\n",
       "      <td>...</td>\n",
       "      <td>4.057169458906325</td>\n",
       "      <td>4.399643399741321</td>\n",
       "      <td>4.360294147032619</td>\n",
       "      <td>4.1669692730820085</td>\n",
       "      <td>4.153569444821653</td>\n",
       "      <td>4.3649171125411375</td>\n",
       "      <td>4.502246427658841</td>\n",
       "      <td>4.48284717697677</td>\n",
       "      <td>4.600365784097424</td>\n",
       "      <td>4.414061263163541</td>\n",
       "    </tr>\n",
       "    <tr>\n",
       "      <th>5</th>\n",
       "      <td>INTL.47-34-ASM-TBTUUSDPP.A</td>\n",
       "      <td>American Samoa</td>\n",
       "      <td>0</td>\n",
       "      <td>0</td>\n",
       "      <td>0</td>\n",
       "      <td>0</td>\n",
       "      <td>0</td>\n",
       "      <td>0</td>\n",
       "      <td>0</td>\n",
       "      <td>0</td>\n",
       "      <td>...</td>\n",
       "      <td>7.672906675699661</td>\n",
       "      <td>7.660955107668976</td>\n",
       "      <td>7.440743376840024</td>\n",
       "      <td>7.569327959324208</td>\n",
       "      <td>8.186992697648302</td>\n",
       "      <td>7.749323276704838</td>\n",
       "      <td>0</td>\n",
       "      <td>0</td>\n",
       "      <td>0</td>\n",
       "      <td>0</td>\n",
       "    </tr>\n",
       "  </tbody>\n",
       "</table>\n",
       "<p>5 rows × 45 columns</p>\n",
       "</div>"
      ],
      "text/plain": [
       "                           API          country/region                1980  \\\n",
       "1  INTL.47-34-WORL-TBTUUSDPP.A                   World   9.976817714825058   \n",
       "2   INTL.47-34-AFG-TBTUUSDPP.A             Afghanistan                   0   \n",
       "3   INTL.47-34-ALB-TBTUUSDPP.A                 Albania                   0   \n",
       "4   INTL.47-34-DZA-TBTUUSDPP.A                 Algeria  3.8177978771427576   \n",
       "5   INTL.47-34-ASM-TBTUUSDPP.A          American Samoa                   0   \n",
       "\n",
       "                 1981               1982                1983  \\\n",
       "1    9.52582315739567  9.467481202307441   9.317233214199083   \n",
       "2                   0                  0                   0   \n",
       "3                   0                  0                   0   \n",
       "4  3.1445302663240717  4.243396866982315  4.5353919407004435   \n",
       "5                   0                  0                   0   \n",
       "\n",
       "                1984               1985               1986               1987  \\\n",
       "1   9.29007033037435  9.192147763159879  9.075658813258539  9.020345759099436   \n",
       "2                  0                  0                  0                  0   \n",
       "3                  0                  0                  0                  0   \n",
       "4  4.528947340509177  4.037090399427737  4.108380667973795   4.41061383853572   \n",
       "5                  0                  0                  0                  0   \n",
       "\n",
       "   ...                2013                2014                2015  \\\n",
       "1  ...   5.070982388978843   4.938338802636608   4.783111814006596   \n",
       "2  ...  1.5048538905636248  1.2292370037521776  1.4657731420487743   \n",
       "3  ...  2.7857553102300505  2.6729565103842896  2.4414301225975925   \n",
       "4  ...   4.057169458906325   4.399643399741321   4.360294147032619   \n",
       "5  ...   7.672906675699661   7.660955107668976   7.440743376840024   \n",
       "\n",
       "                 2016                2017                2018  \\\n",
       "1   4.683533656719483   4.586282124834078   4.525499552005068   \n",
       "2  1.2934225820561316  1.2544826252447867  1.4363498893691715   \n",
       "3   2.630687173574365  2.7734286828463928   2.549922740509539   \n",
       "4  4.1669692730820085   4.153569444821653  4.3649171125411375   \n",
       "5   7.569327959324208   8.186992697648302   7.749323276704838   \n",
       "\n",
       "                 2019                2020               2021  \\\n",
       "1   4.420504525699052   4.347687280897317   4.29009307281686   \n",
       "2  1.1598303381612403  1.0792072022825066  1.648049862734497   \n",
       "3   2.229800696987095   2.177161338752181  2.168040614601588   \n",
       "4   4.502246427658841    4.48284717697677  4.600365784097424   \n",
       "5                   0                   0                  0   \n",
       "\n",
       "                 2022  \n",
       "1   4.377207003659074  \n",
       "2  1.7860947108586451  \n",
       "3  2.0386576579230846  \n",
       "4   4.414061263163541  \n",
       "5                   0  \n",
       "\n",
       "[5 rows x 45 columns]"
      ]
     },
     "execution_count": 43,
     "metadata": {},
     "output_type": "execute_result"
    }
   ],
   "source": [
    "#Renamaing the column that contains information about the countries \n",
    "\n",
    "ei = ei.rename(columns={'Unnamed: 1': 'country/region'})\n",
    "ei.head()\n"
   ]
  },
  {
   "cell_type": "code",
   "execution_count": 44,
   "id": "bd3a6104-5154-4fde-b6af-a4284fb3f39d",
   "metadata": {},
   "outputs": [
    {
     "data": {
      "text/html": [
       "<div>\n",
       "<style scoped>\n",
       "    .dataframe tbody tr th:only-of-type {\n",
       "        vertical-align: middle;\n",
       "    }\n",
       "\n",
       "    .dataframe tbody tr th {\n",
       "        vertical-align: top;\n",
       "    }\n",
       "\n",
       "    .dataframe thead th {\n",
       "        text-align: right;\n",
       "    }\n",
       "</style>\n",
       "<table border=\"1\" class=\"dataframe\">\n",
       "  <thead>\n",
       "    <tr style=\"text-align: right;\">\n",
       "      <th></th>\n",
       "      <th>API</th>\n",
       "      <th>country/region</th>\n",
       "      <th>1980</th>\n",
       "      <th>1981</th>\n",
       "      <th>1982</th>\n",
       "      <th>1983</th>\n",
       "      <th>1984</th>\n",
       "      <th>1985</th>\n",
       "      <th>1986</th>\n",
       "      <th>1987</th>\n",
       "      <th>...</th>\n",
       "      <th>2014</th>\n",
       "      <th>2015</th>\n",
       "      <th>2016</th>\n",
       "      <th>2017</th>\n",
       "      <th>2018</th>\n",
       "      <th>2019</th>\n",
       "      <th>2020</th>\n",
       "      <th>2021</th>\n",
       "      <th>2022</th>\n",
       "      <th>Country_classification</th>\n",
       "    </tr>\n",
       "  </thead>\n",
       "  <tbody>\n",
       "    <tr>\n",
       "      <th>1</th>\n",
       "      <td>INTL.47-34-WORL-TBTUUSDPP.A</td>\n",
       "      <td>World</td>\n",
       "      <td>9.976817714825058</td>\n",
       "      <td>9.52582315739567</td>\n",
       "      <td>9.467481202307441</td>\n",
       "      <td>9.317233214199083</td>\n",
       "      <td>9.29007033037435</td>\n",
       "      <td>9.192147763159879</td>\n",
       "      <td>9.075658813258539</td>\n",
       "      <td>9.020345759099436</td>\n",
       "      <td>...</td>\n",
       "      <td>4.938338802636608</td>\n",
       "      <td>4.783111814006596</td>\n",
       "      <td>4.683533656719483</td>\n",
       "      <td>4.586282124834078</td>\n",
       "      <td>4.525499552005068</td>\n",
       "      <td>4.420504525699052</td>\n",
       "      <td>4.347687280897317</td>\n",
       "      <td>4.29009307281686</td>\n",
       "      <td>4.377207003659074</td>\n",
       "      <td>NA</td>\n",
       "    </tr>\n",
       "    <tr>\n",
       "      <th>2</th>\n",
       "      <td>INTL.47-34-AFG-TBTUUSDPP.A</td>\n",
       "      <td>Afghanistan</td>\n",
       "      <td>0</td>\n",
       "      <td>0</td>\n",
       "      <td>0</td>\n",
       "      <td>0</td>\n",
       "      <td>0</td>\n",
       "      <td>0</td>\n",
       "      <td>0</td>\n",
       "      <td>0</td>\n",
       "      <td>...</td>\n",
       "      <td>1.2292370037521776</td>\n",
       "      <td>1.4657731420487743</td>\n",
       "      <td>1.2934225820561316</td>\n",
       "      <td>1.2544826252447867</td>\n",
       "      <td>1.4363498893691715</td>\n",
       "      <td>1.1598303381612403</td>\n",
       "      <td>1.0792072022825066</td>\n",
       "      <td>1.648049862734497</td>\n",
       "      <td>1.7860947108586451</td>\n",
       "      <td>Emerging and Developing Economies</td>\n",
       "    </tr>\n",
       "    <tr>\n",
       "      <th>3</th>\n",
       "      <td>INTL.47-34-ALB-TBTUUSDPP.A</td>\n",
       "      <td>Albania</td>\n",
       "      <td>0</td>\n",
       "      <td>0</td>\n",
       "      <td>0</td>\n",
       "      <td>0</td>\n",
       "      <td>0</td>\n",
       "      <td>0</td>\n",
       "      <td>0</td>\n",
       "      <td>0</td>\n",
       "      <td>...</td>\n",
       "      <td>2.6729565103842896</td>\n",
       "      <td>2.4414301225975925</td>\n",
       "      <td>2.630687173574365</td>\n",
       "      <td>2.7734286828463928</td>\n",
       "      <td>2.549922740509539</td>\n",
       "      <td>2.229800696987095</td>\n",
       "      <td>2.177161338752181</td>\n",
       "      <td>2.168040614601588</td>\n",
       "      <td>2.0386576579230846</td>\n",
       "      <td>Emerging and Developing Economies</td>\n",
       "    </tr>\n",
       "    <tr>\n",
       "      <th>4</th>\n",
       "      <td>INTL.47-34-DZA-TBTUUSDPP.A</td>\n",
       "      <td>Algeria</td>\n",
       "      <td>3.8177978771427576</td>\n",
       "      <td>3.1445302663240717</td>\n",
       "      <td>4.243396866982315</td>\n",
       "      <td>4.5353919407004435</td>\n",
       "      <td>4.528947340509177</td>\n",
       "      <td>4.037090399427737</td>\n",
       "      <td>4.108380667973795</td>\n",
       "      <td>4.41061383853572</td>\n",
       "      <td>...</td>\n",
       "      <td>4.399643399741321</td>\n",
       "      <td>4.360294147032619</td>\n",
       "      <td>4.1669692730820085</td>\n",
       "      <td>4.153569444821653</td>\n",
       "      <td>4.3649171125411375</td>\n",
       "      <td>4.502246427658841</td>\n",
       "      <td>4.48284717697677</td>\n",
       "      <td>4.600365784097424</td>\n",
       "      <td>4.414061263163541</td>\n",
       "      <td>Emerging and Developing Economies</td>\n",
       "    </tr>\n",
       "    <tr>\n",
       "      <th>5</th>\n",
       "      <td>INTL.47-34-ASM-TBTUUSDPP.A</td>\n",
       "      <td>American Samoa</td>\n",
       "      <td>0</td>\n",
       "      <td>0</td>\n",
       "      <td>0</td>\n",
       "      <td>0</td>\n",
       "      <td>0</td>\n",
       "      <td>0</td>\n",
       "      <td>0</td>\n",
       "      <td>0</td>\n",
       "      <td>...</td>\n",
       "      <td>7.660955107668976</td>\n",
       "      <td>7.440743376840024</td>\n",
       "      <td>7.569327959324208</td>\n",
       "      <td>8.186992697648302</td>\n",
       "      <td>7.749323276704838</td>\n",
       "      <td>0</td>\n",
       "      <td>0</td>\n",
       "      <td>0</td>\n",
       "      <td>0</td>\n",
       "      <td>NA</td>\n",
       "    </tr>\n",
       "    <tr>\n",
       "      <th>...</th>\n",
       "      <td>...</td>\n",
       "      <td>...</td>\n",
       "      <td>...</td>\n",
       "      <td>...</td>\n",
       "      <td>...</td>\n",
       "      <td>...</td>\n",
       "      <td>...</td>\n",
       "      <td>...</td>\n",
       "      <td>...</td>\n",
       "      <td>...</td>\n",
       "      <td>...</td>\n",
       "      <td>...</td>\n",
       "      <td>...</td>\n",
       "      <td>...</td>\n",
       "      <td>...</td>\n",
       "      <td>...</td>\n",
       "      <td>...</td>\n",
       "      <td>...</td>\n",
       "      <td>...</td>\n",
       "      <td>...</td>\n",
       "      <td>...</td>\n",
       "    </tr>\n",
       "    <tr>\n",
       "      <th>227</th>\n",
       "      <td>INTL.47-34-WAK-TBTUUSDPP.A</td>\n",
       "      <td>Wake Island</td>\n",
       "      <td>0</td>\n",
       "      <td>0</td>\n",
       "      <td>0</td>\n",
       "      <td>0</td>\n",
       "      <td>0</td>\n",
       "      <td>0</td>\n",
       "      <td>0</td>\n",
       "      <td>0</td>\n",
       "      <td>...</td>\n",
       "      <td>0</td>\n",
       "      <td>0</td>\n",
       "      <td>0</td>\n",
       "      <td>0</td>\n",
       "      <td>0</td>\n",
       "      <td>0</td>\n",
       "      <td>0</td>\n",
       "      <td>0</td>\n",
       "      <td>0</td>\n",
       "      <td>NA</td>\n",
       "    </tr>\n",
       "    <tr>\n",
       "      <th>228</th>\n",
       "      <td>INTL.47-34-ESH-TBTUUSDPP.A</td>\n",
       "      <td>Western Sahara</td>\n",
       "      <td>0</td>\n",
       "      <td>0</td>\n",
       "      <td>0</td>\n",
       "      <td>0</td>\n",
       "      <td>0</td>\n",
       "      <td>0</td>\n",
       "      <td>0</td>\n",
       "      <td>0</td>\n",
       "      <td>...</td>\n",
       "      <td>0</td>\n",
       "      <td>0</td>\n",
       "      <td>0</td>\n",
       "      <td>0</td>\n",
       "      <td>0</td>\n",
       "      <td>0</td>\n",
       "      <td>0</td>\n",
       "      <td>0</td>\n",
       "      <td>0</td>\n",
       "      <td>NA</td>\n",
       "    </tr>\n",
       "    <tr>\n",
       "      <th>229</th>\n",
       "      <td>INTL.47-34-YEM-TBTUUSDPP.A</td>\n",
       "      <td>Yemen</td>\n",
       "      <td>0</td>\n",
       "      <td>0</td>\n",
       "      <td>0</td>\n",
       "      <td>0</td>\n",
       "      <td>0</td>\n",
       "      <td>0</td>\n",
       "      <td>0</td>\n",
       "      <td>0</td>\n",
       "      <td>...</td>\n",
       "      <td>3.091300802857153</td>\n",
       "      <td>2.6013019608245567</td>\n",
       "      <td>2.444700183682007</td>\n",
       "      <td>2.5178215150353114</td>\n",
       "      <td>2.330934273356625</td>\n",
       "      <td>2.9853030191691774</td>\n",
       "      <td>2.221815551212796</td>\n",
       "      <td>2.208754204066783</td>\n",
       "      <td>2.4939444411059544</td>\n",
       "      <td>Emerging and Developing Economies</td>\n",
       "    </tr>\n",
       "    <tr>\n",
       "      <th>230</th>\n",
       "      <td>INTL.47-34-ZMB-TBTUUSDPP.A</td>\n",
       "      <td>Zambia</td>\n",
       "      <td>0</td>\n",
       "      <td>0</td>\n",
       "      <td>0</td>\n",
       "      <td>0</td>\n",
       "      <td>0</td>\n",
       "      <td>0</td>\n",
       "      <td>0</td>\n",
       "      <td>0</td>\n",
       "      <td>...</td>\n",
       "      <td>1.7795822628419236</td>\n",
       "      <td>1.7788211671704461</td>\n",
       "      <td>1.763998032464555</td>\n",
       "      <td>1.991316932019969</td>\n",
       "      <td>2.2107404937947788</td>\n",
       "      <td>1.9210852112460404</td>\n",
       "      <td>2.1757639079423496</td>\n",
       "      <td>2.247701708024553</td>\n",
       "      <td>2.114451743248529</td>\n",
       "      <td>Emerging and Developing Economies</td>\n",
       "    </tr>\n",
       "    <tr>\n",
       "      <th>231</th>\n",
       "      <td>INTL.47-34-ZWE-TBTUUSDPP.A</td>\n",
       "      <td>Zimbabwe</td>\n",
       "      <td>0</td>\n",
       "      <td>0</td>\n",
       "      <td>0</td>\n",
       "      <td>0</td>\n",
       "      <td>0</td>\n",
       "      <td>0</td>\n",
       "      <td>0</td>\n",
       "      <td>0</td>\n",
       "      <td>...</td>\n",
       "      <td>4.190316976128487</td>\n",
       "      <td>4.228997610398383</td>\n",
       "      <td>3.826764730413033</td>\n",
       "      <td>3.3622382468633685</td>\n",
       "      <td>3.6170093013525717</td>\n",
       "      <td>3.498248196517573</td>\n",
       "      <td>3.4707773838072034</td>\n",
       "      <td>3.342904668627437</td>\n",
       "      <td>4.689344070545617</td>\n",
       "      <td>Emerging and Developing Economies</td>\n",
       "    </tr>\n",
       "  </tbody>\n",
       "</table>\n",
       "<p>231 rows × 46 columns</p>\n",
       "</div>"
      ],
      "text/plain": [
       "                             API  country/region                1980  \\\n",
       "1    INTL.47-34-WORL-TBTUUSDPP.A           World   9.976817714825058   \n",
       "2     INTL.47-34-AFG-TBTUUSDPP.A     Afghanistan                   0   \n",
       "3     INTL.47-34-ALB-TBTUUSDPP.A         Albania                   0   \n",
       "4     INTL.47-34-DZA-TBTUUSDPP.A         Algeria  3.8177978771427576   \n",
       "5     INTL.47-34-ASM-TBTUUSDPP.A  American Samoa                   0   \n",
       "..                           ...             ...                 ...   \n",
       "227   INTL.47-34-WAK-TBTUUSDPP.A     Wake Island                   0   \n",
       "228   INTL.47-34-ESH-TBTUUSDPP.A  Western Sahara                   0   \n",
       "229   INTL.47-34-YEM-TBTUUSDPP.A           Yemen                   0   \n",
       "230   INTL.47-34-ZMB-TBTUUSDPP.A          Zambia                   0   \n",
       "231   INTL.47-34-ZWE-TBTUUSDPP.A        Zimbabwe                   0   \n",
       "\n",
       "                   1981               1982                1983  \\\n",
       "1      9.52582315739567  9.467481202307441   9.317233214199083   \n",
       "2                     0                  0                   0   \n",
       "3                     0                  0                   0   \n",
       "4    3.1445302663240717  4.243396866982315  4.5353919407004435   \n",
       "5                     0                  0                   0   \n",
       "..                  ...                ...                 ...   \n",
       "227                   0                  0                   0   \n",
       "228                   0                  0                   0   \n",
       "229                   0                  0                   0   \n",
       "230                   0                  0                   0   \n",
       "231                   0                  0                   0   \n",
       "\n",
       "                  1984               1985               1986  \\\n",
       "1     9.29007033037435  9.192147763159879  9.075658813258539   \n",
       "2                    0                  0                  0   \n",
       "3                    0                  0                  0   \n",
       "4    4.528947340509177  4.037090399427737  4.108380667973795   \n",
       "5                    0                  0                  0   \n",
       "..                 ...                ...                ...   \n",
       "227                  0                  0                  0   \n",
       "228                  0                  0                  0   \n",
       "229                  0                  0                  0   \n",
       "230                  0                  0                  0   \n",
       "231                  0                  0                  0   \n",
       "\n",
       "                  1987  ...                2014                2015  \\\n",
       "1    9.020345759099436  ...   4.938338802636608   4.783111814006596   \n",
       "2                    0  ...  1.2292370037521776  1.4657731420487743   \n",
       "3                    0  ...  2.6729565103842896  2.4414301225975925   \n",
       "4     4.41061383853572  ...   4.399643399741321   4.360294147032619   \n",
       "5                    0  ...   7.660955107668976   7.440743376840024   \n",
       "..                 ...  ...                 ...                 ...   \n",
       "227                  0  ...                   0                   0   \n",
       "228                  0  ...                   0                   0   \n",
       "229                  0  ...   3.091300802857153  2.6013019608245567   \n",
       "230                  0  ...  1.7795822628419236  1.7788211671704461   \n",
       "231                  0  ...   4.190316976128487   4.228997610398383   \n",
       "\n",
       "                   2016                2017                2018  \\\n",
       "1     4.683533656719483   4.586282124834078   4.525499552005068   \n",
       "2    1.2934225820561316  1.2544826252447867  1.4363498893691715   \n",
       "3     2.630687173574365  2.7734286828463928   2.549922740509539   \n",
       "4    4.1669692730820085   4.153569444821653  4.3649171125411375   \n",
       "5     7.569327959324208   8.186992697648302   7.749323276704838   \n",
       "..                  ...                 ...                 ...   \n",
       "227                   0                   0                   0   \n",
       "228                   0                   0                   0   \n",
       "229   2.444700183682007  2.5178215150353114   2.330934273356625   \n",
       "230   1.763998032464555   1.991316932019969  2.2107404937947788   \n",
       "231   3.826764730413033  3.3622382468633685  3.6170093013525717   \n",
       "\n",
       "                   2019                2020               2021  \\\n",
       "1     4.420504525699052   4.347687280897317   4.29009307281686   \n",
       "2    1.1598303381612403  1.0792072022825066  1.648049862734497   \n",
       "3     2.229800696987095   2.177161338752181  2.168040614601588   \n",
       "4     4.502246427658841    4.48284717697677  4.600365784097424   \n",
       "5                     0                   0                  0   \n",
       "..                  ...                 ...                ...   \n",
       "227                   0                   0                  0   \n",
       "228                   0                   0                  0   \n",
       "229  2.9853030191691774   2.221815551212796  2.208754204066783   \n",
       "230  1.9210852112460404  2.1757639079423496  2.247701708024553   \n",
       "231   3.498248196517573  3.4707773838072034  3.342904668627437   \n",
       "\n",
       "                   2022             Country_classification  \n",
       "1     4.377207003659074                                 NA  \n",
       "2    1.7860947108586451  Emerging and Developing Economies  \n",
       "3    2.0386576579230846  Emerging and Developing Economies  \n",
       "4     4.414061263163541  Emerging and Developing Economies  \n",
       "5                     0                                 NA  \n",
       "..                  ...                                ...  \n",
       "227                   0                                 NA  \n",
       "228                   0                                 NA  \n",
       "229  2.4939444411059544  Emerging and Developing Economies  \n",
       "230   2.114451743248529  Emerging and Developing Economies  \n",
       "231   4.689344070545617  Emerging and Developing Economies  \n",
       "\n",
       "[231 rows x 46 columns]"
      ]
     },
     "execution_count": 44,
     "metadata": {},
     "output_type": "execute_result"
    }
   ],
   "source": [
    "\n",
    "\n",
    "\n",
    "# I used the JSON file to create a new column in the data set to clasify the countries between advanced economies \n",
    "#and Emerging and Developing Economies\n",
    "\n",
    "import json\n",
    "\n",
    "with open('countries.json','r') as file:\n",
    "    data=json.load(file)\n",
    "\n",
    "#check if the key coincides - by performing the following codes I realized that the entries of the column 'country/region' \n",
    "#had spaces in front:\n",
    "\n",
    "#print(ei['country/region'].unique())\n",
    "#print(data['regions']['advanced_economies'])\n",
    "#print(data['regions']['emerging_and_developing_economies'])\n",
    "\n",
    "#Eliminate the spaces in the country/region entries\n",
    "\n",
    "ei['country/region'] = ei['country/region'].str.strip()\n",
    "\n",
    "# Define a function to classify countries\n",
    "def classify_country(row):\n",
    "    if row in data[\"regions\"][\"advanced_economies\"]:\n",
    "        return 'Advanced Economies'\n",
    "    elif row in data[\"regions\"][\"emerging_and_developing_economies\"]:\n",
    "        return 'Emerging and Developing Economies'\n",
    "    else:\n",
    "        return 'NA'\n",
    "\n",
    "ei['Country_classification'] = ei['country/region'].apply(classify_country)\n",
    "\n",
    "\n",
    "ei"
   ]
  },
  {
   "cell_type": "markdown",
   "id": "f222e335-6b2b-4d3b-bcb4-4ee03294a1f8",
   "metadata": {},
   "source": [
    "**Now, I reshaped the database to analyze the trends of advanced economies and EMDEs**"
   ]
  },
  {
   "cell_type": "code",
   "execution_count": 45,
   "id": "22b87a4a-d41b-4c19-b1ef-c2933f846612",
   "metadata": {},
   "outputs": [
    {
     "data": {
      "text/html": [
       "<div>\n",
       "<style scoped>\n",
       "    .dataframe tbody tr th:only-of-type {\n",
       "        vertical-align: middle;\n",
       "    }\n",
       "\n",
       "    .dataframe tbody tr th {\n",
       "        vertical-align: top;\n",
       "    }\n",
       "\n",
       "    .dataframe thead th {\n",
       "        text-align: right;\n",
       "    }\n",
       "</style>\n",
       "<table border=\"1\" class=\"dataframe\">\n",
       "  <thead>\n",
       "    <tr style=\"text-align: right;\">\n",
       "      <th></th>\n",
       "      <th>country/region</th>\n",
       "      <th>Country_classification</th>\n",
       "      <th>Year</th>\n",
       "      <th>Energy Intensity (1000 Btu/2015$ GDP PPP)</th>\n",
       "    </tr>\n",
       "  </thead>\n",
       "  <tbody>\n",
       "    <tr>\n",
       "      <th>0</th>\n",
       "      <td>World</td>\n",
       "      <td>NA</td>\n",
       "      <td>1980</td>\n",
       "      <td>9.976817714825058</td>\n",
       "    </tr>\n",
       "    <tr>\n",
       "      <th>1</th>\n",
       "      <td>Afghanistan</td>\n",
       "      <td>Emerging and Developing Economies</td>\n",
       "      <td>1980</td>\n",
       "      <td>0</td>\n",
       "    </tr>\n",
       "    <tr>\n",
       "      <th>2</th>\n",
       "      <td>Albania</td>\n",
       "      <td>Emerging and Developing Economies</td>\n",
       "      <td>1980</td>\n",
       "      <td>0</td>\n",
       "    </tr>\n",
       "    <tr>\n",
       "      <th>3</th>\n",
       "      <td>Algeria</td>\n",
       "      <td>Emerging and Developing Economies</td>\n",
       "      <td>1980</td>\n",
       "      <td>3.8177978771427576</td>\n",
       "    </tr>\n",
       "    <tr>\n",
       "      <th>4</th>\n",
       "      <td>American Samoa</td>\n",
       "      <td>NA</td>\n",
       "      <td>1980</td>\n",
       "      <td>0</td>\n",
       "    </tr>\n",
       "    <tr>\n",
       "      <th>...</th>\n",
       "      <td>...</td>\n",
       "      <td>...</td>\n",
       "      <td>...</td>\n",
       "      <td>...</td>\n",
       "    </tr>\n",
       "    <tr>\n",
       "      <th>9928</th>\n",
       "      <td>Wake Island</td>\n",
       "      <td>NA</td>\n",
       "      <td>2022</td>\n",
       "      <td>0</td>\n",
       "    </tr>\n",
       "    <tr>\n",
       "      <th>9929</th>\n",
       "      <td>Western Sahara</td>\n",
       "      <td>NA</td>\n",
       "      <td>2022</td>\n",
       "      <td>0</td>\n",
       "    </tr>\n",
       "    <tr>\n",
       "      <th>9930</th>\n",
       "      <td>Yemen</td>\n",
       "      <td>Emerging and Developing Economies</td>\n",
       "      <td>2022</td>\n",
       "      <td>2.4939444411059544</td>\n",
       "    </tr>\n",
       "    <tr>\n",
       "      <th>9931</th>\n",
       "      <td>Zambia</td>\n",
       "      <td>Emerging and Developing Economies</td>\n",
       "      <td>2022</td>\n",
       "      <td>2.114451743248529</td>\n",
       "    </tr>\n",
       "    <tr>\n",
       "      <th>9932</th>\n",
       "      <td>Zimbabwe</td>\n",
       "      <td>Emerging and Developing Economies</td>\n",
       "      <td>2022</td>\n",
       "      <td>4.689344070545617</td>\n",
       "    </tr>\n",
       "  </tbody>\n",
       "</table>\n",
       "<p>9717 rows × 4 columns</p>\n",
       "</div>"
      ],
      "text/plain": [
       "      country/region             Country_classification  Year  \\\n",
       "0              World                                 NA  1980   \n",
       "1        Afghanistan  Emerging and Developing Economies  1980   \n",
       "2            Albania  Emerging and Developing Economies  1980   \n",
       "3            Algeria  Emerging and Developing Economies  1980   \n",
       "4     American Samoa                                 NA  1980   \n",
       "...              ...                                ...   ...   \n",
       "9928     Wake Island                                 NA  2022   \n",
       "9929  Western Sahara                                 NA  2022   \n",
       "9930           Yemen  Emerging and Developing Economies  2022   \n",
       "9931          Zambia  Emerging and Developing Economies  2022   \n",
       "9932        Zimbabwe  Emerging and Developing Economies  2022   \n",
       "\n",
       "     Energy Intensity (1000 Btu/2015$ GDP PPP)  \n",
       "0                            9.976817714825058  \n",
       "1                                            0  \n",
       "2                                            0  \n",
       "3                           3.8177978771427576  \n",
       "4                                            0  \n",
       "...                                        ...  \n",
       "9928                                         0  \n",
       "9929                                         0  \n",
       "9930                        2.4939444411059544  \n",
       "9931                         2.114451743248529  \n",
       "9932                         4.689344070545617  \n",
       "\n",
       "[9717 rows x 4 columns]"
      ]
     },
     "execution_count": 45,
     "metadata": {},
     "output_type": "execute_result"
    }
   ],
   "source": [
    "#Eliminate the column API because it is not necessary\n",
    "\n",
    "ei_by_country_by_year = (\n",
    "   ei.drop(columns=['API'])\n",
    "    .melt(\n",
    "        id_vars=['country/region','Country_classification'],\n",
    "        var_name='Year',\n",
    "        value_name='Energy Intensity (1000 Btu/2015$ GDP PPP)',\n",
    "    )\n",
    "    .dropna()\n",
    ")\n",
    "\n",
    "ei_by_country_by_year"
   ]
  },
  {
   "cell_type": "code",
   "execution_count": 46,
   "id": "70281c01-fb5d-41f0-a61f-ad2a3d2f0598",
   "metadata": {},
   "outputs": [
    {
     "data": {
      "text/plain": [
       "country/region                               object\n",
       "Country_classification                       object\n",
       "Year                                         object\n",
       "Energy Intensity (1000 Btu/2015$ GDP PPP)    object\n",
       "dtype: object"
      ]
     },
     "execution_count": 46,
     "metadata": {},
     "output_type": "execute_result"
    }
   ],
   "source": [
    "ei_by_country_by_year.dtypes"
   ]
  },
  {
   "cell_type": "code",
   "execution_count": 47,
   "id": "f730b8ca-66b1-4e3e-8edb-fc28f0f6b39c",
   "metadata": {},
   "outputs": [
    {
     "name": "stdout",
     "output_type": "stream",
     "text": [
      "     country/region             Country_classification  Year  \\\n",
      "1850        Albania  Emerging and Developing Economies  1988   \n",
      "1867         Belize  Emerging and Developing Economies  1988   \n",
      "1975       Maldives  Emerging and Developing Economies  1988   \n",
      "2073        Vietnam  Emerging and Developing Economies  1988   \n",
      "2081        Albania  Emerging and Developing Economies  1989   \n",
      "2098         Belize  Emerging and Developing Economies  1989   \n",
      "2206       Maldives  Emerging and Developing Economies  1989   \n",
      "2304        Vietnam  Emerging and Developing Economies  1989   \n",
      "2789        Belarus  Emerging and Developing Economies  1992   \n",
      "3020        Belarus  Emerging and Developing Economies  1993   \n",
      "\n",
      "      Energy Intensity (1000 Btu/2015$ GDP PPP)  \n",
      "1850                               5.761809e+09  \n",
      "1867                               3.425651e+06  \n",
      "1975                               4.748918e+06  \n",
      "2073                               2.134561e+08  \n",
      "2081                               5.375412e+09  \n",
      "2098                               4.928364e+06  \n",
      "2206                               4.737345e+06  \n",
      "2304                               2.229722e+08  \n",
      "2789                               1.669081e+02  \n",
      "3020                               1.534000e+02  \n"
     ]
    }
   ],
   "source": [
    "#changing the format of the numbers\n",
    "ei_by_country_by_year['Year'] = ei_by_country_by_year['Year'].astype(int)\n",
    "\n",
    "ei_by_country_by_year['Energy Intensity (1000 Btu/2015$ GDP PPP)'] = ei_by_country_by_year['Energy Intensity (1000 Btu/2015$ GDP PPP)'].str.strip()\n",
    "\n",
    "ei_by_country_by_year['Energy Intensity (1000 Btu/2015$ GDP PPP)'] = pd.to_numeric(\n",
    "    ei_by_country_by_year['Energy Intensity (1000 Btu/2015$ GDP PPP)'], errors='coerce'\n",
    ")\n",
    "\n",
    "#eliminating suspicious values\n",
    "suspicious_values =  ei_by_country_by_year[ ei_by_country_by_year['Energy Intensity (1000 Btu/2015$ GDP PPP)'] > 50]  \n",
    "print(suspicious_values)\n",
    "\n",
    "#keep only the values that are not suspicious\n",
    "ei_by_country_by_year_cleaned = ei_by_country_by_year[\n",
    "    ei_by_country_by_year['Energy Intensity (1000 Btu/2015$ GDP PPP)'] <= 50\n",
    "]"
   ]
  },
  {
   "cell_type": "code",
   "execution_count": 48,
   "id": "da2134a1-88fe-4212-b24d-fca3d3eb5f60",
   "metadata": {},
   "outputs": [
    {
     "name": "stdout",
     "output_type": "stream",
     "text": [
      "[9.97681771 0.         3.81779788 ... 2.49394444 2.11445174 4.68934407]\n"
     ]
    }
   ],
   "source": [
    "print(ei_by_country_by_year_cleaned['Energy Intensity (1000 Btu/2015$ GDP PPP)'].unique())"
   ]
  },
  {
   "cell_type": "code",
   "execution_count": 49,
   "id": "6243ceeb-ac1e-4103-9f6d-f26b961edafd",
   "metadata": {},
   "outputs": [
    {
     "name": "stdout",
     "output_type": "stream",
     "text": [
      "Empty DataFrame\n",
      "Columns: [country/region, Country_classification, Year, Energy Intensity (1000 Btu/2015$ GDP PPP)]\n",
      "Index: []\n"
     ]
    }
   ],
   "source": [
    "suspicious_values_cleaned =  ei_by_country_by_year_cleaned[ ei_by_country_by_year_cleaned['Energy Intensity (1000 Btu/2015$ GDP PPP)'] > 50]  # Adjust threshold as needed\n",
    "print(suspicious_values_cleaned)"
   ]
  },
  {
   "cell_type": "code",
   "execution_count": 50,
   "id": "99c8feb4-90d1-4c87-a86a-6e5d7df45b7f",
   "metadata": {},
   "outputs": [
    {
     "name": "stdout",
     "output_type": "stream",
     "text": [
      "<class 'pandas.core.frame.DataFrame'>\n",
      "Index: 9717 entries, 0 to 9932\n",
      "Data columns (total 4 columns):\n",
      " #   Column                                     Non-Null Count  Dtype  \n",
      "---  ------                                     --------------  -----  \n",
      " 0   country/region                             9717 non-null   object \n",
      " 1   Country_classification                     9717 non-null   object \n",
      " 2   Year                                       9717 non-null   int64  \n",
      " 3   Energy Intensity (1000 Btu/2015$ GDP PPP)  9049 non-null   float64\n",
      "dtypes: float64(1), int64(1), object(2)\n",
      "memory usage: 379.6+ KB\n"
     ]
    }
   ],
   "source": [
    "ei_by_country_by_year.info()"
   ]
  },
  {
   "cell_type": "code",
   "execution_count": 51,
   "id": "cf782357-3d78-4424-87e0-b3b0ad2468f4",
   "metadata": {},
   "outputs": [
    {
     "name": "stdout",
     "output_type": "stream",
     "text": [
      "Missing values in 'Energy Intensity (1000 Btu/2015$ GDP PPP)': 0\n"
     ]
    }
   ],
   "source": [
    "#Dealing with missing information\n",
    "#ei_by_country_by_year_cleaned[['Country_classification','Energy Intensity (1000 Btu/2015$ GDP PPP)']] = ei_by_country_by_year_cleaned[['Country_classification','Energy Intensity (1000 Btu/2015$ GDP PPP)']].replace(\n",
    "#                                                ['','NaN', 'NA', 'null', 'unknown'], pd.NA\n",
    "#)\n",
    "#print(ei_by_country_by_year_cleaned['Energy Intensity (1000 Btu/2015$ GDP PPP)'].isna().sum()) \n",
    "\n",
    "ei_by_country_by_year_cleaned\n",
    "ei_by_country_by_year_cleaned = ei_by_country_by_year_cleaned.replace(\n",
    "    {'Country_classification': ['', 'NaN', 'NA', 'null', 'unknown'],\n",
    "     'Energy Intensity (1000 Btu/2015$ GDP PPP)': ['', 'NaN', 'NA', 'null', 'unknown']},\n",
    "    pd.NA\n",
    ")\n",
    "\n",
    "# Count missing values in 'Energy Intensity (1000 Btu/2015$ GDP PPP)'\n",
    "missing_count = ei_by_country_by_year_cleaned['Energy Intensity (1000 Btu/2015$ GDP PPP)'].isna().sum()\n",
    "print(f\"Missing values in 'Energy Intensity (1000 Btu/2015$ GDP PPP)': {missing_count}\")\n",
    "\n"
   ]
  },
  {
   "cell_type": "code",
   "execution_count": 52,
   "id": "c02009b7-9a46-4ef1-8c63-2087008be3e5",
   "metadata": {},
   "outputs": [
    {
     "data": {
      "text/html": [
       "<div>\n",
       "<style scoped>\n",
       "    .dataframe tbody tr th:only-of-type {\n",
       "        vertical-align: middle;\n",
       "    }\n",
       "\n",
       "    .dataframe tbody tr th {\n",
       "        vertical-align: top;\n",
       "    }\n",
       "\n",
       "    .dataframe thead th {\n",
       "        text-align: right;\n",
       "    }\n",
       "</style>\n",
       "<table border=\"1\" class=\"dataframe\">\n",
       "  <thead>\n",
       "    <tr style=\"text-align: right;\">\n",
       "      <th></th>\n",
       "      <th>country/region</th>\n",
       "      <th>Country_classification</th>\n",
       "      <th>Year</th>\n",
       "      <th>Energy Intensity (1000 Btu/2015$ GDP PPP)</th>\n",
       "    </tr>\n",
       "  </thead>\n",
       "  <tbody>\n",
       "    <tr>\n",
       "      <th>0</th>\n",
       "      <td>World</td>\n",
       "      <td>&lt;NA&gt;</td>\n",
       "      <td>1980</td>\n",
       "      <td>9.976818</td>\n",
       "    </tr>\n",
       "    <tr>\n",
       "      <th>1</th>\n",
       "      <td>Afghanistan</td>\n",
       "      <td>Emerging and Developing Economies</td>\n",
       "      <td>1980</td>\n",
       "      <td>0.000000</td>\n",
       "    </tr>\n",
       "    <tr>\n",
       "      <th>2</th>\n",
       "      <td>Albania</td>\n",
       "      <td>Emerging and Developing Economies</td>\n",
       "      <td>1980</td>\n",
       "      <td>0.000000</td>\n",
       "    </tr>\n",
       "    <tr>\n",
       "      <th>3</th>\n",
       "      <td>Algeria</td>\n",
       "      <td>Emerging and Developing Economies</td>\n",
       "      <td>1980</td>\n",
       "      <td>3.817798</td>\n",
       "    </tr>\n",
       "    <tr>\n",
       "      <th>5</th>\n",
       "      <td>Angola</td>\n",
       "      <td>Emerging and Developing Economies</td>\n",
       "      <td>1980</td>\n",
       "      <td>0.000000</td>\n",
       "    </tr>\n",
       "    <tr>\n",
       "      <th>...</th>\n",
       "      <td>...</td>\n",
       "      <td>...</td>\n",
       "      <td>...</td>\n",
       "      <td>...</td>\n",
       "    </tr>\n",
       "    <tr>\n",
       "      <th>9926</th>\n",
       "      <td>Venezuela</td>\n",
       "      <td>Emerging and Developing Economies</td>\n",
       "      <td>2022</td>\n",
       "      <td>10.469015</td>\n",
       "    </tr>\n",
       "    <tr>\n",
       "      <th>9927</th>\n",
       "      <td>Vietnam</td>\n",
       "      <td>Emerging and Developing Economies</td>\n",
       "      <td>2022</td>\n",
       "      <td>3.652843</td>\n",
       "    </tr>\n",
       "    <tr>\n",
       "      <th>9930</th>\n",
       "      <td>Yemen</td>\n",
       "      <td>Emerging and Developing Economies</td>\n",
       "      <td>2022</td>\n",
       "      <td>2.493944</td>\n",
       "    </tr>\n",
       "    <tr>\n",
       "      <th>9931</th>\n",
       "      <td>Zambia</td>\n",
       "      <td>Emerging and Developing Economies</td>\n",
       "      <td>2022</td>\n",
       "      <td>2.114452</td>\n",
       "    </tr>\n",
       "    <tr>\n",
       "      <th>9932</th>\n",
       "      <td>Zimbabwe</td>\n",
       "      <td>Emerging and Developing Economies</td>\n",
       "      <td>2022</td>\n",
       "      <td>4.689344</td>\n",
       "    </tr>\n",
       "  </tbody>\n",
       "</table>\n",
       "<p>7799 rows × 4 columns</p>\n",
       "</div>"
      ],
      "text/plain": [
       "     country/region             Country_classification  Year  \\\n",
       "0             World                               <NA>  1980   \n",
       "1       Afghanistan  Emerging and Developing Economies  1980   \n",
       "2           Albania  Emerging and Developing Economies  1980   \n",
       "3           Algeria  Emerging and Developing Economies  1980   \n",
       "5            Angola  Emerging and Developing Economies  1980   \n",
       "...             ...                                ...   ...   \n",
       "9926      Venezuela  Emerging and Developing Economies  2022   \n",
       "9927        Vietnam  Emerging and Developing Economies  2022   \n",
       "9930          Yemen  Emerging and Developing Economies  2022   \n",
       "9931         Zambia  Emerging and Developing Economies  2022   \n",
       "9932       Zimbabwe  Emerging and Developing Economies  2022   \n",
       "\n",
       "      Energy Intensity (1000 Btu/2015$ GDP PPP)  \n",
       "0                                      9.976818  \n",
       "1                                      0.000000  \n",
       "2                                      0.000000  \n",
       "3                                      3.817798  \n",
       "5                                      0.000000  \n",
       "...                                         ...  \n",
       "9926                                  10.469015  \n",
       "9927                                   3.652843  \n",
       "9930                                   2.493944  \n",
       "9931                                   2.114452  \n",
       "9932                                   4.689344  \n",
       "\n",
       "[7799 rows x 4 columns]"
      ]
     },
     "execution_count": 52,
     "metadata": {},
     "output_type": "execute_result"
    }
   ],
   "source": [
    "#Delete Not Classified: Regions, historical entities, and territories are generally not classified by the IMF.\n",
    "#Includes territories under U.S., British, French, or other administrative control.\n",
    "\n",
    "countries_to_del=['American Samoa','Antarctica','Bermuda',\n",
    "       'British Virgin Islands','Cayman Islands','Cook Islands',\n",
    "       'Falkland Islands', 'Faroe Islands','Former Czechoslovakia',\n",
    "       'Former Serbia and Montenegro','Former U.S.S.R.',\n",
    "       'Former Yugoslavia', 'French Guiana','French Polynesia',\n",
    "       'Germany, East', 'Germany, West', 'Gibraltar', 'Guadeloupe',\n",
    "       'Guam', 'Hawaiian Trade Zone', 'Martinique', 'Montserrat',\n",
    "       'New Caledonia', 'Niue', 'North Korea', 'Northern Mariana Islands',\n",
    "       'Reunion', 'Saint Helena', 'Saint Pierre and Miquelon',\n",
    "       'Turks and Caicos Islands', 'U.S. Pacific Islands',\n",
    "       'U.S. Territories','Wake Island','Western Sahara']\n",
    "\n",
    "ei_by_country_by_year_filtered=ei_by_country_by_year_cleaned[~ei_by_country_by_year_cleaned[\"country/region\"].isin(countries_to_del)]\n",
    "\n",
    "ei_by_country_by_year_filtered"
   ]
  },
  {
   "cell_type": "code",
   "execution_count": 53,
   "id": "0908e086-a0c5-4edc-ad6c-f3f8d41cd8b1",
   "metadata": {},
   "outputs": [
    {
     "name": "stdout",
     "output_type": "stream",
     "text": [
      "<class 'pandas.core.frame.DataFrame'>\n",
      "Index: 6784 entries, 0 to 9932\n",
      "Data columns (total 4 columns):\n",
      " #   Column                                     Non-Null Count  Dtype  \n",
      "---  ------                                     --------------  -----  \n",
      " 0   country/region                             6784 non-null   object \n",
      " 1   Country_classification                     6741 non-null   object \n",
      " 2   Year                                       6784 non-null   int64  \n",
      " 3   Energy Intensity (1000 Btu/2015$ GDP PPP)  6784 non-null   float64\n",
      "dtypes: float64(1), int64(1), object(2)\n",
      "memory usage: 265.0+ KB\n"
     ]
    }
   ],
   "source": [
    "#Physically is imposible that a country has 0 energy intensity, so if the value of a particular row is zero, there is a potential \n",
    "#mising information, therefore I created a function to change the zeros to missing values \n",
    "def eliminate_zero(db, column):\n",
    "    return db[db[column]!=0]\n",
    "\n",
    "ei_final= eliminate_zero(ei_by_country_by_year_filtered,'Energy Intensity (1000 Btu/2015$ GDP PPP)')\n",
    "ei_final.info()"
   ]
  },
  {
   "cell_type": "code",
   "execution_count": null,
   "id": "7c917c50-a035-4522-8e9f-79888e6ed421",
   "metadata": {},
   "outputs": [],
   "source": []
  },
  {
   "cell_type": "code",
   "execution_count": 54,
   "id": "5a5a92b2-1fec-402e-89ba-ed3616bfcd8b",
   "metadata": {},
   "outputs": [
    {
     "name": "stdout",
     "output_type": "stream",
     "text": [
      "Empty DataFrame\n",
      "Columns: [Country_classification, Year, Average_Energy_Intensity]\n",
      "Index: []\n"
     ]
    }
   ],
   "source": [
    "avg_ei = ei_final.groupby(['Country_classification','Year'])['Energy Intensity (1000 Btu/2015$ GDP PPP)'].mean()\n",
    "avg_ei\n",
    "avg_ei_df = avg_ei.reset_index(name='Average_Energy_Intensity')\n",
    "avg_ei_df['Average_Energy_Intensity'] = avg_ei_df['Average_Energy_Intensity'].round(2)\n",
    "\n",
    "\n",
    "suspicious_values = avg_ei_df[avg_ei_df['Average_Energy_Intensity'] > 100]  # Adjust threshold as needed\n",
    "print(suspicious_values)\n",
    "\n"
   ]
  },
  {
   "cell_type": "code",
   "execution_count": 55,
   "id": "442024e8-5f67-4f59-a99d-cfc9aca1e9cd",
   "metadata": {},
   "outputs": [
    {
     "name": "stdout",
     "output_type": "stream",
     "text": [
      "<class 'pandas.core.frame.DataFrame'>\n",
      "RangeIndex: 86 entries, 0 to 85\n",
      "Data columns (total 3 columns):\n",
      " #   Column                    Non-Null Count  Dtype  \n",
      "---  ------                    --------------  -----  \n",
      " 0   Country_classification    86 non-null     object \n",
      " 1   Year                      86 non-null     int64  \n",
      " 2   Average_Energy_Intensity  86 non-null     float64\n",
      "dtypes: float64(1), int64(1), object(1)\n",
      "memory usage: 2.1+ KB\n"
     ]
    },
    {
     "data": {
      "text/html": [
       "<div>\n",
       "<style scoped>\n",
       "    .dataframe tbody tr th:only-of-type {\n",
       "        vertical-align: middle;\n",
       "    }\n",
       "\n",
       "    .dataframe tbody tr th {\n",
       "        vertical-align: top;\n",
       "    }\n",
       "\n",
       "    .dataframe thead th {\n",
       "        text-align: right;\n",
       "    }\n",
       "</style>\n",
       "<table border=\"1\" class=\"dataframe\">\n",
       "  <thead>\n",
       "    <tr style=\"text-align: right;\">\n",
       "      <th></th>\n",
       "      <th>Country_classification</th>\n",
       "      <th>Year</th>\n",
       "      <th>Average_Energy_Intensity</th>\n",
       "    </tr>\n",
       "  </thead>\n",
       "  <tbody>\n",
       "    <tr>\n",
       "      <th>0</th>\n",
       "      <td>Advanced Economies</td>\n",
       "      <td>1980</td>\n",
       "      <td>6.25</td>\n",
       "    </tr>\n",
       "    <tr>\n",
       "      <th>1</th>\n",
       "      <td>Advanced Economies</td>\n",
       "      <td>1981</td>\n",
       "      <td>5.91</td>\n",
       "    </tr>\n",
       "    <tr>\n",
       "      <th>2</th>\n",
       "      <td>Advanced Economies</td>\n",
       "      <td>1982</td>\n",
       "      <td>5.77</td>\n",
       "    </tr>\n",
       "    <tr>\n",
       "      <th>3</th>\n",
       "      <td>Advanced Economies</td>\n",
       "      <td>1983</td>\n",
       "      <td>5.61</td>\n",
       "    </tr>\n",
       "    <tr>\n",
       "      <th>4</th>\n",
       "      <td>Advanced Economies</td>\n",
       "      <td>1984</td>\n",
       "      <td>5.56</td>\n",
       "    </tr>\n",
       "    <tr>\n",
       "      <th>...</th>\n",
       "      <td>...</td>\n",
       "      <td>...</td>\n",
       "      <td>...</td>\n",
       "    </tr>\n",
       "    <tr>\n",
       "      <th>81</th>\n",
       "      <td>Emerging and Developing Economies</td>\n",
       "      <td>2018</td>\n",
       "      <td>3.59</td>\n",
       "    </tr>\n",
       "    <tr>\n",
       "      <th>82</th>\n",
       "      <td>Emerging and Developing Economies</td>\n",
       "      <td>2019</td>\n",
       "      <td>3.58</td>\n",
       "    </tr>\n",
       "    <tr>\n",
       "      <th>83</th>\n",
       "      <td>Emerging and Developing Economies</td>\n",
       "      <td>2020</td>\n",
       "      <td>3.55</td>\n",
       "    </tr>\n",
       "    <tr>\n",
       "      <th>84</th>\n",
       "      <td>Emerging and Developing Economies</td>\n",
       "      <td>2021</td>\n",
       "      <td>3.53</td>\n",
       "    </tr>\n",
       "    <tr>\n",
       "      <th>85</th>\n",
       "      <td>Emerging and Developing Economies</td>\n",
       "      <td>2022</td>\n",
       "      <td>3.50</td>\n",
       "    </tr>\n",
       "  </tbody>\n",
       "</table>\n",
       "<p>86 rows × 3 columns</p>\n",
       "</div>"
      ],
      "text/plain": [
       "               Country_classification  Year  Average_Energy_Intensity\n",
       "0                  Advanced Economies  1980                      6.25\n",
       "1                  Advanced Economies  1981                      5.91\n",
       "2                  Advanced Economies  1982                      5.77\n",
       "3                  Advanced Economies  1983                      5.61\n",
       "4                  Advanced Economies  1984                      5.56\n",
       "..                                ...   ...                       ...\n",
       "81  Emerging and Developing Economies  2018                      3.59\n",
       "82  Emerging and Developing Economies  2019                      3.58\n",
       "83  Emerging and Developing Economies  2020                      3.55\n",
       "84  Emerging and Developing Economies  2021                      3.53\n",
       "85  Emerging and Developing Economies  2022                      3.50\n",
       "\n",
       "[86 rows x 3 columns]"
      ]
     },
     "execution_count": 55,
     "metadata": {},
     "output_type": "execute_result"
    }
   ],
   "source": [
    "avg_ei_df.info()\n",
    "avg_ei_df"
   ]
  },
  {
   "cell_type": "code",
   "execution_count": 56,
   "id": "c80dfd95-05a9-40c7-8d7b-9586f7561fe2",
   "metadata": {},
   "outputs": [
    {
     "data": {
      "text/html": [
       "        <script type=\"text/javascript\">\n",
       "        window.PlotlyConfig = {MathJaxConfig: 'local'};\n",
       "        if (window.MathJax && window.MathJax.Hub && window.MathJax.Hub.Config) {window.MathJax.Hub.Config({SVG: {font: \"STIX-Web\"}});}\n",
       "        if (typeof require !== 'undefined') {\n",
       "        require.undef(\"plotly\");\n",
       "        requirejs.config({\n",
       "            paths: {\n",
       "                'plotly': ['https://cdn.plot.ly/plotly-2.35.2.min']\n",
       "            }\n",
       "        });\n",
       "        require(['plotly'], function(Plotly) {\n",
       "            window._Plotly = Plotly;\n",
       "        });\n",
       "        }\n",
       "        </script>\n",
       "        "
      ]
     },
     "metadata": {},
     "output_type": "display_data"
    },
    {
     "data": {
      "application/vnd.plotly.v1+json": {
       "config": {
        "plotlyServerURL": "https://plot.ly"
       },
       "data": [
        {
         "hovertemplate": "Country_classification=Advanced Economies<br>Year=%{x}<br>Average_Energy_Intensity=%{y}<extra></extra>",
         "legendgroup": "Advanced Economies",
         "line": {
          "color": "#636efa",
          "dash": "solid"
         },
         "marker": {
          "symbol": "circle"
         },
         "mode": "lines",
         "name": "Advanced Economies",
         "orientation": "v",
         "showlegend": true,
         "type": "scatter",
         "x": [
          1980,
          1981,
          1982,
          1983,
          1984,
          1985,
          1986,
          1987,
          1988,
          1989,
          1990,
          1991,
          1992,
          1993,
          1994,
          1995,
          1996,
          1997,
          1998,
          1999,
          2000,
          2001,
          2002,
          2003,
          2004,
          2005,
          2006,
          2007,
          2008,
          2009,
          2010,
          2011,
          2012,
          2013,
          2014,
          2015,
          2016,
          2017,
          2018,
          2019,
          2020,
          2021,
          2022
         ],
         "xaxis": "x",
         "y": [
          6.25,
          5.91,
          5.77,
          5.61,
          5.56,
          5.55,
          5.59,
          5.55,
          5.27,
          5.2,
          5.19,
          5.23,
          5.49,
          5.74,
          5.61,
          5.47,
          5.47,
          5.28,
          5.23,
          5.06,
          5,
          5.06,
          4.95,
          4.97,
          4.88,
          4.69,
          4.52,
          4.37,
          4.29,
          4.29,
          4.3,
          4.13,
          4.07,
          3.95,
          3.79,
          3.73,
          3.72,
          3.67,
          3.6,
          3.5,
          3.36,
          3.28,
          3.11
         ],
         "yaxis": "y"
        },
        {
         "hovertemplate": "Country_classification=Emerging and Developing Economies<br>Year=%{x}<br>Average_Energy_Intensity=%{y}<extra></extra>",
         "legendgroup": "Emerging and Developing Economies",
         "line": {
          "color": "#EF553B",
          "dash": "solid"
         },
         "marker": {
          "symbol": "circle"
         },
         "mode": "lines",
         "name": "Emerging and Developing Economies",
         "orientation": "v",
         "showlegend": true,
         "type": "scatter",
         "x": [
          1980,
          1981,
          1982,
          1983,
          1984,
          1985,
          1986,
          1987,
          1988,
          1989,
          1990,
          1991,
          1992,
          1993,
          1994,
          1995,
          1996,
          1997,
          1998,
          1999,
          2000,
          2001,
          2002,
          2003,
          2004,
          2005,
          2006,
          2007,
          2008,
          2009,
          2010,
          2011,
          2012,
          2013,
          2014,
          2015,
          2016,
          2017,
          2018,
          2019,
          2020,
          2021,
          2022
         ],
         "xaxis": "x",
         "y": [
          5.12,
          4.68,
          4.76,
          4.87,
          4.75,
          4.75,
          4.61,
          4.54,
          3.9,
          4,
          3.87,
          3.75,
          4.8,
          4.76,
          4.89,
          4.95,
          4.78,
          4.65,
          4.54,
          4.41,
          4.49,
          4.4,
          4.43,
          4.36,
          4.25,
          4.2,
          4.09,
          3.94,
          3.86,
          3.82,
          3.81,
          3.75,
          3.76,
          3.67,
          3.64,
          3.62,
          3.62,
          3.61,
          3.59,
          3.58,
          3.55,
          3.53,
          3.5
         ],
         "yaxis": "y"
        }
       ],
       "layout": {
        "legend": {
         "title": {
          "text": "Country_classification"
         },
         "tracegroupgap": 0
        },
        "template": {
         "data": {
          "bar": [
           {
            "error_x": {
             "color": "#2a3f5f"
            },
            "error_y": {
             "color": "#2a3f5f"
            },
            "marker": {
             "line": {
              "color": "#E5ECF6",
              "width": 0.5
             },
             "pattern": {
              "fillmode": "overlay",
              "size": 10,
              "solidity": 0.2
             }
            },
            "type": "bar"
           }
          ],
          "barpolar": [
           {
            "marker": {
             "line": {
              "color": "#E5ECF6",
              "width": 0.5
             },
             "pattern": {
              "fillmode": "overlay",
              "size": 10,
              "solidity": 0.2
             }
            },
            "type": "barpolar"
           }
          ],
          "carpet": [
           {
            "aaxis": {
             "endlinecolor": "#2a3f5f",
             "gridcolor": "white",
             "linecolor": "white",
             "minorgridcolor": "white",
             "startlinecolor": "#2a3f5f"
            },
            "baxis": {
             "endlinecolor": "#2a3f5f",
             "gridcolor": "white",
             "linecolor": "white",
             "minorgridcolor": "white",
             "startlinecolor": "#2a3f5f"
            },
            "type": "carpet"
           }
          ],
          "choropleth": [
           {
            "colorbar": {
             "outlinewidth": 0,
             "ticks": ""
            },
            "type": "choropleth"
           }
          ],
          "contour": [
           {
            "colorbar": {
             "outlinewidth": 0,
             "ticks": ""
            },
            "colorscale": [
             [
              0,
              "#0d0887"
             ],
             [
              0.1111111111111111,
              "#46039f"
             ],
             [
              0.2222222222222222,
              "#7201a8"
             ],
             [
              0.3333333333333333,
              "#9c179e"
             ],
             [
              0.4444444444444444,
              "#bd3786"
             ],
             [
              0.5555555555555556,
              "#d8576b"
             ],
             [
              0.6666666666666666,
              "#ed7953"
             ],
             [
              0.7777777777777778,
              "#fb9f3a"
             ],
             [
              0.8888888888888888,
              "#fdca26"
             ],
             [
              1,
              "#f0f921"
             ]
            ],
            "type": "contour"
           }
          ],
          "contourcarpet": [
           {
            "colorbar": {
             "outlinewidth": 0,
             "ticks": ""
            },
            "type": "contourcarpet"
           }
          ],
          "heatmap": [
           {
            "colorbar": {
             "outlinewidth": 0,
             "ticks": ""
            },
            "colorscale": [
             [
              0,
              "#0d0887"
             ],
             [
              0.1111111111111111,
              "#46039f"
             ],
             [
              0.2222222222222222,
              "#7201a8"
             ],
             [
              0.3333333333333333,
              "#9c179e"
             ],
             [
              0.4444444444444444,
              "#bd3786"
             ],
             [
              0.5555555555555556,
              "#d8576b"
             ],
             [
              0.6666666666666666,
              "#ed7953"
             ],
             [
              0.7777777777777778,
              "#fb9f3a"
             ],
             [
              0.8888888888888888,
              "#fdca26"
             ],
             [
              1,
              "#f0f921"
             ]
            ],
            "type": "heatmap"
           }
          ],
          "heatmapgl": [
           {
            "colorbar": {
             "outlinewidth": 0,
             "ticks": ""
            },
            "colorscale": [
             [
              0,
              "#0d0887"
             ],
             [
              0.1111111111111111,
              "#46039f"
             ],
             [
              0.2222222222222222,
              "#7201a8"
             ],
             [
              0.3333333333333333,
              "#9c179e"
             ],
             [
              0.4444444444444444,
              "#bd3786"
             ],
             [
              0.5555555555555556,
              "#d8576b"
             ],
             [
              0.6666666666666666,
              "#ed7953"
             ],
             [
              0.7777777777777778,
              "#fb9f3a"
             ],
             [
              0.8888888888888888,
              "#fdca26"
             ],
             [
              1,
              "#f0f921"
             ]
            ],
            "type": "heatmapgl"
           }
          ],
          "histogram": [
           {
            "marker": {
             "pattern": {
              "fillmode": "overlay",
              "size": 10,
              "solidity": 0.2
             }
            },
            "type": "histogram"
           }
          ],
          "histogram2d": [
           {
            "colorbar": {
             "outlinewidth": 0,
             "ticks": ""
            },
            "colorscale": [
             [
              0,
              "#0d0887"
             ],
             [
              0.1111111111111111,
              "#46039f"
             ],
             [
              0.2222222222222222,
              "#7201a8"
             ],
             [
              0.3333333333333333,
              "#9c179e"
             ],
             [
              0.4444444444444444,
              "#bd3786"
             ],
             [
              0.5555555555555556,
              "#d8576b"
             ],
             [
              0.6666666666666666,
              "#ed7953"
             ],
             [
              0.7777777777777778,
              "#fb9f3a"
             ],
             [
              0.8888888888888888,
              "#fdca26"
             ],
             [
              1,
              "#f0f921"
             ]
            ],
            "type": "histogram2d"
           }
          ],
          "histogram2dcontour": [
           {
            "colorbar": {
             "outlinewidth": 0,
             "ticks": ""
            },
            "colorscale": [
             [
              0,
              "#0d0887"
             ],
             [
              0.1111111111111111,
              "#46039f"
             ],
             [
              0.2222222222222222,
              "#7201a8"
             ],
             [
              0.3333333333333333,
              "#9c179e"
             ],
             [
              0.4444444444444444,
              "#bd3786"
             ],
             [
              0.5555555555555556,
              "#d8576b"
             ],
             [
              0.6666666666666666,
              "#ed7953"
             ],
             [
              0.7777777777777778,
              "#fb9f3a"
             ],
             [
              0.8888888888888888,
              "#fdca26"
             ],
             [
              1,
              "#f0f921"
             ]
            ],
            "type": "histogram2dcontour"
           }
          ],
          "mesh3d": [
           {
            "colorbar": {
             "outlinewidth": 0,
             "ticks": ""
            },
            "type": "mesh3d"
           }
          ],
          "parcoords": [
           {
            "line": {
             "colorbar": {
              "outlinewidth": 0,
              "ticks": ""
             }
            },
            "type": "parcoords"
           }
          ],
          "pie": [
           {
            "automargin": true,
            "type": "pie"
           }
          ],
          "scatter": [
           {
            "fillpattern": {
             "fillmode": "overlay",
             "size": 10,
             "solidity": 0.2
            },
            "type": "scatter"
           }
          ],
          "scatter3d": [
           {
            "line": {
             "colorbar": {
              "outlinewidth": 0,
              "ticks": ""
             }
            },
            "marker": {
             "colorbar": {
              "outlinewidth": 0,
              "ticks": ""
             }
            },
            "type": "scatter3d"
           }
          ],
          "scattercarpet": [
           {
            "marker": {
             "colorbar": {
              "outlinewidth": 0,
              "ticks": ""
             }
            },
            "type": "scattercarpet"
           }
          ],
          "scattergeo": [
           {
            "marker": {
             "colorbar": {
              "outlinewidth": 0,
              "ticks": ""
             }
            },
            "type": "scattergeo"
           }
          ],
          "scattergl": [
           {
            "marker": {
             "colorbar": {
              "outlinewidth": 0,
              "ticks": ""
             }
            },
            "type": "scattergl"
           }
          ],
          "scattermapbox": [
           {
            "marker": {
             "colorbar": {
              "outlinewidth": 0,
              "ticks": ""
             }
            },
            "type": "scattermapbox"
           }
          ],
          "scatterpolar": [
           {
            "marker": {
             "colorbar": {
              "outlinewidth": 0,
              "ticks": ""
             }
            },
            "type": "scatterpolar"
           }
          ],
          "scatterpolargl": [
           {
            "marker": {
             "colorbar": {
              "outlinewidth": 0,
              "ticks": ""
             }
            },
            "type": "scatterpolargl"
           }
          ],
          "scatterternary": [
           {
            "marker": {
             "colorbar": {
              "outlinewidth": 0,
              "ticks": ""
             }
            },
            "type": "scatterternary"
           }
          ],
          "surface": [
           {
            "colorbar": {
             "outlinewidth": 0,
             "ticks": ""
            },
            "colorscale": [
             [
              0,
              "#0d0887"
             ],
             [
              0.1111111111111111,
              "#46039f"
             ],
             [
              0.2222222222222222,
              "#7201a8"
             ],
             [
              0.3333333333333333,
              "#9c179e"
             ],
             [
              0.4444444444444444,
              "#bd3786"
             ],
             [
              0.5555555555555556,
              "#d8576b"
             ],
             [
              0.6666666666666666,
              "#ed7953"
             ],
             [
              0.7777777777777778,
              "#fb9f3a"
             ],
             [
              0.8888888888888888,
              "#fdca26"
             ],
             [
              1,
              "#f0f921"
             ]
            ],
            "type": "surface"
           }
          ],
          "table": [
           {
            "cells": {
             "fill": {
              "color": "#EBF0F8"
             },
             "line": {
              "color": "white"
             }
            },
            "header": {
             "fill": {
              "color": "#C8D4E3"
             },
             "line": {
              "color": "white"
             }
            },
            "type": "table"
           }
          ]
         },
         "layout": {
          "annotationdefaults": {
           "arrowcolor": "#2a3f5f",
           "arrowhead": 0,
           "arrowwidth": 1
          },
          "autotypenumbers": "strict",
          "coloraxis": {
           "colorbar": {
            "outlinewidth": 0,
            "ticks": ""
           }
          },
          "colorscale": {
           "diverging": [
            [
             0,
             "#8e0152"
            ],
            [
             0.1,
             "#c51b7d"
            ],
            [
             0.2,
             "#de77ae"
            ],
            [
             0.3,
             "#f1b6da"
            ],
            [
             0.4,
             "#fde0ef"
            ],
            [
             0.5,
             "#f7f7f7"
            ],
            [
             0.6,
             "#e6f5d0"
            ],
            [
             0.7,
             "#b8e186"
            ],
            [
             0.8,
             "#7fbc41"
            ],
            [
             0.9,
             "#4d9221"
            ],
            [
             1,
             "#276419"
            ]
           ],
           "sequential": [
            [
             0,
             "#0d0887"
            ],
            [
             0.1111111111111111,
             "#46039f"
            ],
            [
             0.2222222222222222,
             "#7201a8"
            ],
            [
             0.3333333333333333,
             "#9c179e"
            ],
            [
             0.4444444444444444,
             "#bd3786"
            ],
            [
             0.5555555555555556,
             "#d8576b"
            ],
            [
             0.6666666666666666,
             "#ed7953"
            ],
            [
             0.7777777777777778,
             "#fb9f3a"
            ],
            [
             0.8888888888888888,
             "#fdca26"
            ],
            [
             1,
             "#f0f921"
            ]
           ],
           "sequentialminus": [
            [
             0,
             "#0d0887"
            ],
            [
             0.1111111111111111,
             "#46039f"
            ],
            [
             0.2222222222222222,
             "#7201a8"
            ],
            [
             0.3333333333333333,
             "#9c179e"
            ],
            [
             0.4444444444444444,
             "#bd3786"
            ],
            [
             0.5555555555555556,
             "#d8576b"
            ],
            [
             0.6666666666666666,
             "#ed7953"
            ],
            [
             0.7777777777777778,
             "#fb9f3a"
            ],
            [
             0.8888888888888888,
             "#fdca26"
            ],
            [
             1,
             "#f0f921"
            ]
           ]
          },
          "colorway": [
           "#636efa",
           "#EF553B",
           "#00cc96",
           "#ab63fa",
           "#FFA15A",
           "#19d3f3",
           "#FF6692",
           "#B6E880",
           "#FF97FF",
           "#FECB52"
          ],
          "font": {
           "color": "#2a3f5f"
          },
          "geo": {
           "bgcolor": "white",
           "lakecolor": "white",
           "landcolor": "#E5ECF6",
           "showlakes": true,
           "showland": true,
           "subunitcolor": "white"
          },
          "hoverlabel": {
           "align": "left"
          },
          "hovermode": "closest",
          "mapbox": {
           "style": "light"
          },
          "paper_bgcolor": "white",
          "plot_bgcolor": "#E5ECF6",
          "polar": {
           "angularaxis": {
            "gridcolor": "white",
            "linecolor": "white",
            "ticks": ""
           },
           "bgcolor": "#E5ECF6",
           "radialaxis": {
            "gridcolor": "white",
            "linecolor": "white",
            "ticks": ""
           }
          },
          "scene": {
           "xaxis": {
            "backgroundcolor": "#E5ECF6",
            "gridcolor": "white",
            "gridwidth": 2,
            "linecolor": "white",
            "showbackground": true,
            "ticks": "",
            "zerolinecolor": "white"
           },
           "yaxis": {
            "backgroundcolor": "#E5ECF6",
            "gridcolor": "white",
            "gridwidth": 2,
            "linecolor": "white",
            "showbackground": true,
            "ticks": "",
            "zerolinecolor": "white"
           },
           "zaxis": {
            "backgroundcolor": "#E5ECF6",
            "gridcolor": "white",
            "gridwidth": 2,
            "linecolor": "white",
            "showbackground": true,
            "ticks": "",
            "zerolinecolor": "white"
           }
          },
          "shapedefaults": {
           "line": {
            "color": "#2a3f5f"
           }
          },
          "ternary": {
           "aaxis": {
            "gridcolor": "white",
            "linecolor": "white",
            "ticks": ""
           },
           "baxis": {
            "gridcolor": "white",
            "linecolor": "white",
            "ticks": ""
           },
           "bgcolor": "#E5ECF6",
           "caxis": {
            "gridcolor": "white",
            "linecolor": "white",
            "ticks": ""
           }
          },
          "title": {
           "x": 0.05
          },
          "xaxis": {
           "automargin": true,
           "gridcolor": "white",
           "linecolor": "white",
           "ticks": "",
           "title": {
            "standoff": 15
           },
           "zerolinecolor": "white",
           "zerolinewidth": 2
          },
          "yaxis": {
           "automargin": true,
           "gridcolor": "white",
           "linecolor": "white",
           "ticks": "",
           "title": {
            "standoff": 15
           },
           "zerolinecolor": "white",
           "zerolinewidth": 2
          }
         }
        },
        "title": {
         "text": "Graph 1. Energy Intensity Evolution by Group of Economies"
        },
        "xaxis": {
         "anchor": "y",
         "domain": [
          0,
          1
         ],
         "title": {
          "text": "Year"
         }
        },
        "yaxis": {
         "anchor": "x",
         "domain": [
          0,
          1
         ],
         "title": {
          "text": "Average_Energy_Intensity"
         }
        }
       }
      },
      "text/html": [
       "<div>                            <div id=\"95d522e2-3262-4c20-a9fc-5ce709cc0426\" class=\"plotly-graph-div\" style=\"height:525px; width:100%;\"></div>            <script type=\"text/javascript\">                require([\"plotly\"], function(Plotly) {                    window.PLOTLYENV=window.PLOTLYENV || {};                                    if (document.getElementById(\"95d522e2-3262-4c20-a9fc-5ce709cc0426\")) {                    Plotly.newPlot(                        \"95d522e2-3262-4c20-a9fc-5ce709cc0426\",                        [{\"hovertemplate\":\"Country_classification=Advanced Economies\\u003cbr\\u003eYear=%{x}\\u003cbr\\u003eAverage_Energy_Intensity=%{y}\\u003cextra\\u003e\\u003c\\u002fextra\\u003e\",\"legendgroup\":\"Advanced Economies\",\"line\":{\"color\":\"#636efa\",\"dash\":\"solid\"},\"marker\":{\"symbol\":\"circle\"},\"mode\":\"lines\",\"name\":\"Advanced Economies\",\"orientation\":\"v\",\"showlegend\":true,\"x\":[1980,1981,1982,1983,1984,1985,1986,1987,1988,1989,1990,1991,1992,1993,1994,1995,1996,1997,1998,1999,2000,2001,2002,2003,2004,2005,2006,2007,2008,2009,2010,2011,2012,2013,2014,2015,2016,2017,2018,2019,2020,2021,2022],\"xaxis\":\"x\",\"y\":[6.25,5.91,5.77,5.61,5.56,5.55,5.59,5.55,5.27,5.2,5.19,5.23,5.49,5.74,5.61,5.47,5.47,5.28,5.23,5.06,5.0,5.06,4.95,4.97,4.88,4.69,4.52,4.37,4.29,4.29,4.3,4.13,4.07,3.95,3.79,3.73,3.72,3.67,3.6,3.5,3.36,3.28,3.11],\"yaxis\":\"y\",\"type\":\"scatter\"},{\"hovertemplate\":\"Country_classification=Emerging and Developing Economies\\u003cbr\\u003eYear=%{x}\\u003cbr\\u003eAverage_Energy_Intensity=%{y}\\u003cextra\\u003e\\u003c\\u002fextra\\u003e\",\"legendgroup\":\"Emerging and Developing Economies\",\"line\":{\"color\":\"#EF553B\",\"dash\":\"solid\"},\"marker\":{\"symbol\":\"circle\"},\"mode\":\"lines\",\"name\":\"Emerging and Developing Economies\",\"orientation\":\"v\",\"showlegend\":true,\"x\":[1980,1981,1982,1983,1984,1985,1986,1987,1988,1989,1990,1991,1992,1993,1994,1995,1996,1997,1998,1999,2000,2001,2002,2003,2004,2005,2006,2007,2008,2009,2010,2011,2012,2013,2014,2015,2016,2017,2018,2019,2020,2021,2022],\"xaxis\":\"x\",\"y\":[5.12,4.68,4.76,4.87,4.75,4.75,4.61,4.54,3.9,4.0,3.87,3.75,4.8,4.76,4.89,4.95,4.78,4.65,4.54,4.41,4.49,4.4,4.43,4.36,4.25,4.2,4.09,3.94,3.86,3.82,3.81,3.75,3.76,3.67,3.64,3.62,3.62,3.61,3.59,3.58,3.55,3.53,3.5],\"yaxis\":\"y\",\"type\":\"scatter\"}],                        {\"template\":{\"data\":{\"histogram2dcontour\":[{\"type\":\"histogram2dcontour\",\"colorbar\":{\"outlinewidth\":0,\"ticks\":\"\"},\"colorscale\":[[0.0,\"#0d0887\"],[0.1111111111111111,\"#46039f\"],[0.2222222222222222,\"#7201a8\"],[0.3333333333333333,\"#9c179e\"],[0.4444444444444444,\"#bd3786\"],[0.5555555555555556,\"#d8576b\"],[0.6666666666666666,\"#ed7953\"],[0.7777777777777778,\"#fb9f3a\"],[0.8888888888888888,\"#fdca26\"],[1.0,\"#f0f921\"]]}],\"choropleth\":[{\"type\":\"choropleth\",\"colorbar\":{\"outlinewidth\":0,\"ticks\":\"\"}}],\"histogram2d\":[{\"type\":\"histogram2d\",\"colorbar\":{\"outlinewidth\":0,\"ticks\":\"\"},\"colorscale\":[[0.0,\"#0d0887\"],[0.1111111111111111,\"#46039f\"],[0.2222222222222222,\"#7201a8\"],[0.3333333333333333,\"#9c179e\"],[0.4444444444444444,\"#bd3786\"],[0.5555555555555556,\"#d8576b\"],[0.6666666666666666,\"#ed7953\"],[0.7777777777777778,\"#fb9f3a\"],[0.8888888888888888,\"#fdca26\"],[1.0,\"#f0f921\"]]}],\"heatmap\":[{\"type\":\"heatmap\",\"colorbar\":{\"outlinewidth\":0,\"ticks\":\"\"},\"colorscale\":[[0.0,\"#0d0887\"],[0.1111111111111111,\"#46039f\"],[0.2222222222222222,\"#7201a8\"],[0.3333333333333333,\"#9c179e\"],[0.4444444444444444,\"#bd3786\"],[0.5555555555555556,\"#d8576b\"],[0.6666666666666666,\"#ed7953\"],[0.7777777777777778,\"#fb9f3a\"],[0.8888888888888888,\"#fdca26\"],[1.0,\"#f0f921\"]]}],\"heatmapgl\":[{\"type\":\"heatmapgl\",\"colorbar\":{\"outlinewidth\":0,\"ticks\":\"\"},\"colorscale\":[[0.0,\"#0d0887\"],[0.1111111111111111,\"#46039f\"],[0.2222222222222222,\"#7201a8\"],[0.3333333333333333,\"#9c179e\"],[0.4444444444444444,\"#bd3786\"],[0.5555555555555556,\"#d8576b\"],[0.6666666666666666,\"#ed7953\"],[0.7777777777777778,\"#fb9f3a\"],[0.8888888888888888,\"#fdca26\"],[1.0,\"#f0f921\"]]}],\"contourcarpet\":[{\"type\":\"contourcarpet\",\"colorbar\":{\"outlinewidth\":0,\"ticks\":\"\"}}],\"contour\":[{\"type\":\"contour\",\"colorbar\":{\"outlinewidth\":0,\"ticks\":\"\"},\"colorscale\":[[0.0,\"#0d0887\"],[0.1111111111111111,\"#46039f\"],[0.2222222222222222,\"#7201a8\"],[0.3333333333333333,\"#9c179e\"],[0.4444444444444444,\"#bd3786\"],[0.5555555555555556,\"#d8576b\"],[0.6666666666666666,\"#ed7953\"],[0.7777777777777778,\"#fb9f3a\"],[0.8888888888888888,\"#fdca26\"],[1.0,\"#f0f921\"]]}],\"surface\":[{\"type\":\"surface\",\"colorbar\":{\"outlinewidth\":0,\"ticks\":\"\"},\"colorscale\":[[0.0,\"#0d0887\"],[0.1111111111111111,\"#46039f\"],[0.2222222222222222,\"#7201a8\"],[0.3333333333333333,\"#9c179e\"],[0.4444444444444444,\"#bd3786\"],[0.5555555555555556,\"#d8576b\"],[0.6666666666666666,\"#ed7953\"],[0.7777777777777778,\"#fb9f3a\"],[0.8888888888888888,\"#fdca26\"],[1.0,\"#f0f921\"]]}],\"mesh3d\":[{\"type\":\"mesh3d\",\"colorbar\":{\"outlinewidth\":0,\"ticks\":\"\"}}],\"scatter\":[{\"fillpattern\":{\"fillmode\":\"overlay\",\"size\":10,\"solidity\":0.2},\"type\":\"scatter\"}],\"parcoords\":[{\"type\":\"parcoords\",\"line\":{\"colorbar\":{\"outlinewidth\":0,\"ticks\":\"\"}}}],\"scatterpolargl\":[{\"type\":\"scatterpolargl\",\"marker\":{\"colorbar\":{\"outlinewidth\":0,\"ticks\":\"\"}}}],\"bar\":[{\"error_x\":{\"color\":\"#2a3f5f\"},\"error_y\":{\"color\":\"#2a3f5f\"},\"marker\":{\"line\":{\"color\":\"#E5ECF6\",\"width\":0.5},\"pattern\":{\"fillmode\":\"overlay\",\"size\":10,\"solidity\":0.2}},\"type\":\"bar\"}],\"scattergeo\":[{\"type\":\"scattergeo\",\"marker\":{\"colorbar\":{\"outlinewidth\":0,\"ticks\":\"\"}}}],\"scatterpolar\":[{\"type\":\"scatterpolar\",\"marker\":{\"colorbar\":{\"outlinewidth\":0,\"ticks\":\"\"}}}],\"histogram\":[{\"marker\":{\"pattern\":{\"fillmode\":\"overlay\",\"size\":10,\"solidity\":0.2}},\"type\":\"histogram\"}],\"scattergl\":[{\"type\":\"scattergl\",\"marker\":{\"colorbar\":{\"outlinewidth\":0,\"ticks\":\"\"}}}],\"scatter3d\":[{\"type\":\"scatter3d\",\"line\":{\"colorbar\":{\"outlinewidth\":0,\"ticks\":\"\"}},\"marker\":{\"colorbar\":{\"outlinewidth\":0,\"ticks\":\"\"}}}],\"scattermapbox\":[{\"type\":\"scattermapbox\",\"marker\":{\"colorbar\":{\"outlinewidth\":0,\"ticks\":\"\"}}}],\"scatterternary\":[{\"type\":\"scatterternary\",\"marker\":{\"colorbar\":{\"outlinewidth\":0,\"ticks\":\"\"}}}],\"scattercarpet\":[{\"type\":\"scattercarpet\",\"marker\":{\"colorbar\":{\"outlinewidth\":0,\"ticks\":\"\"}}}],\"carpet\":[{\"aaxis\":{\"endlinecolor\":\"#2a3f5f\",\"gridcolor\":\"white\",\"linecolor\":\"white\",\"minorgridcolor\":\"white\",\"startlinecolor\":\"#2a3f5f\"},\"baxis\":{\"endlinecolor\":\"#2a3f5f\",\"gridcolor\":\"white\",\"linecolor\":\"white\",\"minorgridcolor\":\"white\",\"startlinecolor\":\"#2a3f5f\"},\"type\":\"carpet\"}],\"table\":[{\"cells\":{\"fill\":{\"color\":\"#EBF0F8\"},\"line\":{\"color\":\"white\"}},\"header\":{\"fill\":{\"color\":\"#C8D4E3\"},\"line\":{\"color\":\"white\"}},\"type\":\"table\"}],\"barpolar\":[{\"marker\":{\"line\":{\"color\":\"#E5ECF6\",\"width\":0.5},\"pattern\":{\"fillmode\":\"overlay\",\"size\":10,\"solidity\":0.2}},\"type\":\"barpolar\"}],\"pie\":[{\"automargin\":true,\"type\":\"pie\"}]},\"layout\":{\"autotypenumbers\":\"strict\",\"colorway\":[\"#636efa\",\"#EF553B\",\"#00cc96\",\"#ab63fa\",\"#FFA15A\",\"#19d3f3\",\"#FF6692\",\"#B6E880\",\"#FF97FF\",\"#FECB52\"],\"font\":{\"color\":\"#2a3f5f\"},\"hovermode\":\"closest\",\"hoverlabel\":{\"align\":\"left\"},\"paper_bgcolor\":\"white\",\"plot_bgcolor\":\"#E5ECF6\",\"polar\":{\"bgcolor\":\"#E5ECF6\",\"angularaxis\":{\"gridcolor\":\"white\",\"linecolor\":\"white\",\"ticks\":\"\"},\"radialaxis\":{\"gridcolor\":\"white\",\"linecolor\":\"white\",\"ticks\":\"\"}},\"ternary\":{\"bgcolor\":\"#E5ECF6\",\"aaxis\":{\"gridcolor\":\"white\",\"linecolor\":\"white\",\"ticks\":\"\"},\"baxis\":{\"gridcolor\":\"white\",\"linecolor\":\"white\",\"ticks\":\"\"},\"caxis\":{\"gridcolor\":\"white\",\"linecolor\":\"white\",\"ticks\":\"\"}},\"coloraxis\":{\"colorbar\":{\"outlinewidth\":0,\"ticks\":\"\"}},\"colorscale\":{\"sequential\":[[0.0,\"#0d0887\"],[0.1111111111111111,\"#46039f\"],[0.2222222222222222,\"#7201a8\"],[0.3333333333333333,\"#9c179e\"],[0.4444444444444444,\"#bd3786\"],[0.5555555555555556,\"#d8576b\"],[0.6666666666666666,\"#ed7953\"],[0.7777777777777778,\"#fb9f3a\"],[0.8888888888888888,\"#fdca26\"],[1.0,\"#f0f921\"]],\"sequentialminus\":[[0.0,\"#0d0887\"],[0.1111111111111111,\"#46039f\"],[0.2222222222222222,\"#7201a8\"],[0.3333333333333333,\"#9c179e\"],[0.4444444444444444,\"#bd3786\"],[0.5555555555555556,\"#d8576b\"],[0.6666666666666666,\"#ed7953\"],[0.7777777777777778,\"#fb9f3a\"],[0.8888888888888888,\"#fdca26\"],[1.0,\"#f0f921\"]],\"diverging\":[[0,\"#8e0152\"],[0.1,\"#c51b7d\"],[0.2,\"#de77ae\"],[0.3,\"#f1b6da\"],[0.4,\"#fde0ef\"],[0.5,\"#f7f7f7\"],[0.6,\"#e6f5d0\"],[0.7,\"#b8e186\"],[0.8,\"#7fbc41\"],[0.9,\"#4d9221\"],[1,\"#276419\"]]},\"xaxis\":{\"gridcolor\":\"white\",\"linecolor\":\"white\",\"ticks\":\"\",\"title\":{\"standoff\":15},\"zerolinecolor\":\"white\",\"automargin\":true,\"zerolinewidth\":2},\"yaxis\":{\"gridcolor\":\"white\",\"linecolor\":\"white\",\"ticks\":\"\",\"title\":{\"standoff\":15},\"zerolinecolor\":\"white\",\"automargin\":true,\"zerolinewidth\":2},\"scene\":{\"xaxis\":{\"backgroundcolor\":\"#E5ECF6\",\"gridcolor\":\"white\",\"linecolor\":\"white\",\"showbackground\":true,\"ticks\":\"\",\"zerolinecolor\":\"white\",\"gridwidth\":2},\"yaxis\":{\"backgroundcolor\":\"#E5ECF6\",\"gridcolor\":\"white\",\"linecolor\":\"white\",\"showbackground\":true,\"ticks\":\"\",\"zerolinecolor\":\"white\",\"gridwidth\":2},\"zaxis\":{\"backgroundcolor\":\"#E5ECF6\",\"gridcolor\":\"white\",\"linecolor\":\"white\",\"showbackground\":true,\"ticks\":\"\",\"zerolinecolor\":\"white\",\"gridwidth\":2}},\"shapedefaults\":{\"line\":{\"color\":\"#2a3f5f\"}},\"annotationdefaults\":{\"arrowcolor\":\"#2a3f5f\",\"arrowhead\":0,\"arrowwidth\":1},\"geo\":{\"bgcolor\":\"white\",\"landcolor\":\"#E5ECF6\",\"subunitcolor\":\"white\",\"showland\":true,\"showlakes\":true,\"lakecolor\":\"white\"},\"title\":{\"x\":0.05},\"mapbox\":{\"style\":\"light\"}}},\"xaxis\":{\"anchor\":\"y\",\"domain\":[0.0,1.0],\"title\":{\"text\":\"Year\"}},\"yaxis\":{\"anchor\":\"x\",\"domain\":[0.0,1.0],\"title\":{\"text\":\"Average_Energy_Intensity\"}},\"legend\":{\"title\":{\"text\":\"Country_classification\"},\"tracegroupgap\":0},\"title\":{\"text\":\"Graph 1. Energy Intensity Evolution by Group of Economies\"}},                        {\"responsive\": true}                    ).then(function(){\n",
       "                            \n",
       "var gd = document.getElementById('95d522e2-3262-4c20-a9fc-5ce709cc0426');\n",
       "var x = new MutationObserver(function (mutations, observer) {{\n",
       "        var display = window.getComputedStyle(gd).display;\n",
       "        if (!display || display === 'none') {{\n",
       "            console.log([gd, 'removed!']);\n",
       "            Plotly.purge(gd);\n",
       "            observer.disconnect();\n",
       "        }}\n",
       "}});\n",
       "\n",
       "// Listen for the removal of the full notebook cells\n",
       "var notebookContainer = gd.closest('#notebook-container');\n",
       "if (notebookContainer) {{\n",
       "    x.observe(notebookContainer, {childList: true});\n",
       "}}\n",
       "\n",
       "// Listen for the clearing of the current output cell\n",
       "var outputEl = gd.closest('.output');\n",
       "if (outputEl) {{\n",
       "    x.observe(outputEl, {childList: true});\n",
       "}}\n",
       "\n",
       "                        })                };                });            </script>        </div>"
      ]
     },
     "metadata": {},
     "output_type": "display_data"
    }
   ],
   "source": [
    "\n",
    "\n",
    "# Create the line plot\n",
    "fig = px.line(\n",
    "    avg_ei_df,\n",
    "    x=\"Year\",\n",
    "    y=\"Average_Energy_Intensity\",\n",
    "    color=\"Country_classification\",\n",
    "    title=\"Graph 1. Energy Intensity Evolution by Group of Economies\"\n",
    ")\n",
    "\n",
    "fig.show()\n"
   ]
  },
  {
   "cell_type": "markdown",
   "id": "38b63b49-336b-4fee-b0b3-51c519e7dbfd",
   "metadata": {},
   "source": [
    "This paper aims to capture the relationship between advances in energy efficiency and economic growth. The growth rates of energy intensity by country classification were estimated. **The growth rate can be called energy efficiency improvements if it is multiply by -1\""
   ]
  },
  {
   "cell_type": "code",
   "execution_count": 57,
   "id": "0a6c3e13-a618-4d56-b3c9-ebe2f46de8e5",
   "metadata": {},
   "outputs": [
    {
     "data": {
      "text/html": [
       "<div>\n",
       "<style scoped>\n",
       "    .dataframe tbody tr th:only-of-type {\n",
       "        vertical-align: middle;\n",
       "    }\n",
       "\n",
       "    .dataframe tbody tr th {\n",
       "        vertical-align: top;\n",
       "    }\n",
       "\n",
       "    .dataframe thead th {\n",
       "        text-align: right;\n",
       "    }\n",
       "</style>\n",
       "<table border=\"1\" class=\"dataframe\">\n",
       "  <thead>\n",
       "    <tr style=\"text-align: right;\">\n",
       "      <th></th>\n",
       "      <th>Country_classification</th>\n",
       "      <th>Year</th>\n",
       "      <th>Average_Energy_Intensity</th>\n",
       "      <th>Energy_Efficiency</th>\n",
       "    </tr>\n",
       "  </thead>\n",
       "  <tbody>\n",
       "    <tr>\n",
       "      <th>0</th>\n",
       "      <td>Advanced Economies</td>\n",
       "      <td>1980</td>\n",
       "      <td>6.25</td>\n",
       "      <td>NaN</td>\n",
       "    </tr>\n",
       "    <tr>\n",
       "      <th>1</th>\n",
       "      <td>Advanced Economies</td>\n",
       "      <td>1981</td>\n",
       "      <td>5.91</td>\n",
       "      <td>5.440000</td>\n",
       "    </tr>\n",
       "    <tr>\n",
       "      <th>2</th>\n",
       "      <td>Advanced Economies</td>\n",
       "      <td>1982</td>\n",
       "      <td>5.77</td>\n",
       "      <td>2.368866</td>\n",
       "    </tr>\n",
       "    <tr>\n",
       "      <th>3</th>\n",
       "      <td>Advanced Economies</td>\n",
       "      <td>1983</td>\n",
       "      <td>5.61</td>\n",
       "      <td>2.772964</td>\n",
       "    </tr>\n",
       "    <tr>\n",
       "      <th>4</th>\n",
       "      <td>Advanced Economies</td>\n",
       "      <td>1984</td>\n",
       "      <td>5.56</td>\n",
       "      <td>0.891266</td>\n",
       "    </tr>\n",
       "    <tr>\n",
       "      <th>...</th>\n",
       "      <td>...</td>\n",
       "      <td>...</td>\n",
       "      <td>...</td>\n",
       "      <td>...</td>\n",
       "    </tr>\n",
       "    <tr>\n",
       "      <th>81</th>\n",
       "      <td>Emerging and Developing Economies</td>\n",
       "      <td>2018</td>\n",
       "      <td>3.59</td>\n",
       "      <td>0.554017</td>\n",
       "    </tr>\n",
       "    <tr>\n",
       "      <th>82</th>\n",
       "      <td>Emerging and Developing Economies</td>\n",
       "      <td>2019</td>\n",
       "      <td>3.58</td>\n",
       "      <td>0.278552</td>\n",
       "    </tr>\n",
       "    <tr>\n",
       "      <th>83</th>\n",
       "      <td>Emerging and Developing Economies</td>\n",
       "      <td>2020</td>\n",
       "      <td>3.55</td>\n",
       "      <td>0.837989</td>\n",
       "    </tr>\n",
       "    <tr>\n",
       "      <th>84</th>\n",
       "      <td>Emerging and Developing Economies</td>\n",
       "      <td>2021</td>\n",
       "      <td>3.53</td>\n",
       "      <td>0.563380</td>\n",
       "    </tr>\n",
       "    <tr>\n",
       "      <th>85</th>\n",
       "      <td>Emerging and Developing Economies</td>\n",
       "      <td>2022</td>\n",
       "      <td>3.50</td>\n",
       "      <td>0.849858</td>\n",
       "    </tr>\n",
       "  </tbody>\n",
       "</table>\n",
       "<p>86 rows × 4 columns</p>\n",
       "</div>"
      ],
      "text/plain": [
       "               Country_classification  Year  Average_Energy_Intensity  \\\n",
       "0                  Advanced Economies  1980                      6.25   \n",
       "1                  Advanced Economies  1981                      5.91   \n",
       "2                  Advanced Economies  1982                      5.77   \n",
       "3                  Advanced Economies  1983                      5.61   \n",
       "4                  Advanced Economies  1984                      5.56   \n",
       "..                                ...   ...                       ...   \n",
       "81  Emerging and Developing Economies  2018                      3.59   \n",
       "82  Emerging and Developing Economies  2019                      3.58   \n",
       "83  Emerging and Developing Economies  2020                      3.55   \n",
       "84  Emerging and Developing Economies  2021                      3.53   \n",
       "85  Emerging and Developing Economies  2022                      3.50   \n",
       "\n",
       "    Energy_Efficiency  \n",
       "0                 NaN  \n",
       "1            5.440000  \n",
       "2            2.368866  \n",
       "3            2.772964  \n",
       "4            0.891266  \n",
       "..                ...  \n",
       "81           0.554017  \n",
       "82           0.278552  \n",
       "83           0.837989  \n",
       "84           0.563380  \n",
       "85           0.849858  \n",
       "\n",
       "[86 rows x 4 columns]"
      ]
     },
     "execution_count": 57,
     "metadata": {},
     "output_type": "execute_result"
    }
   ],
   "source": [
    "avg_ei_df['Energy_Efficiency'] = avg_ei_df.groupby('Country_classification')['Average_Energy_Intensity'].pct_change() * 100*(-1)\n",
    "avg_ei_df"
   ]
  },
  {
   "cell_type": "code",
   "execution_count": 58,
   "id": "70e3c29e-73eb-4bcd-8e1d-f9a75a0e42b9",
   "metadata": {},
   "outputs": [
    {
     "data": {
      "application/vnd.plotly.v1+json": {
       "config": {
        "plotlyServerURL": "https://plot.ly"
       },
       "data": [
        {
         "hovertemplate": "Country_classification=Advanced Economies<br>Year=%{x}<br>Energy_Efficiency=%{y}<extra></extra>",
         "legendgroup": "Advanced Economies",
         "line": {
          "color": "#636efa",
          "dash": "solid"
         },
         "marker": {
          "symbol": "circle"
         },
         "mode": "lines",
         "name": "Advanced Economies",
         "orientation": "v",
         "showlegend": true,
         "type": "scatter",
         "x": [
          1980,
          1981,
          1982,
          1983,
          1984,
          1985,
          1986,
          1987,
          1988,
          1989,
          1990,
          1991,
          1992,
          1993,
          1994,
          1995,
          1996,
          1997,
          1998,
          1999,
          2000,
          2001,
          2002,
          2003,
          2004,
          2005,
          2006,
          2007,
          2008,
          2009,
          2010,
          2011,
          2012,
          2013,
          2014,
          2015,
          2016,
          2017,
          2018,
          2019,
          2020,
          2021,
          2022
         ],
         "xaxis": "x",
         "y": [
          null,
          5.44,
          2.368866328257202,
          2.772963604852674,
          0.891265597147961,
          0.17985611510791255,
          -0.7207207207207134,
          0.7155635062611854,
          5.045045045045049,
          1.3282732447817747,
          0.19230769230769162,
          -0.7707129094412402,
          -4.97131931166348,
          -4.553734061930781,
          2.2648083623693416,
          2.4955436720142665,
          0,
          3.4734917733089454,
          0.9469696969696906,
          3.250478011472291,
          1.1857707509881354,
          -1.200000000000001,
          2.1739130434782483,
          -0.40404040404038444,
          1.810865191146882,
          3.8934426229508046,
          3.6247334754797578,
          3.3185840707964487,
          1.830663615560646,
          0,
          -0.2331002331002363,
          3.953488372093017,
          1.4527845036319542,
          2.9484029484029506,
          4.0506329113924044,
          1.58311345646438,
          0.2680965147452974,
          1.3440860215053863,
          1.9073569482288777,
          2.777777777777779,
          4.0000000000000036,
          2.3809523809523836,
          5.182926829268286
         ],
         "yaxis": "y"
        },
        {
         "hovertemplate": "Country_classification=Emerging and Developing Economies<br>Year=%{x}<br>Energy_Efficiency=%{y}<extra></extra>",
         "legendgroup": "Emerging and Developing Economies",
         "line": {
          "color": "#EF553B",
          "dash": "solid"
         },
         "marker": {
          "symbol": "circle"
         },
         "mode": "lines",
         "name": "Emerging and Developing Economies",
         "orientation": "v",
         "showlegend": true,
         "type": "scatter",
         "x": [
          1980,
          1981,
          1982,
          1983,
          1984,
          1985,
          1986,
          1987,
          1988,
          1989,
          1990,
          1991,
          1992,
          1993,
          1994,
          1995,
          1996,
          1997,
          1998,
          1999,
          2000,
          2001,
          2002,
          2003,
          2004,
          2005,
          2006,
          2007,
          2008,
          2009,
          2010,
          2011,
          2012,
          2013,
          2014,
          2015,
          2016,
          2017,
          2018,
          2019,
          2020,
          2021,
          2022
         ],
         "xaxis": "x",
         "y": [
          null,
          8.59375000000001,
          -1.7094017094017033,
          -2.310924369747913,
          2.4640657084188944,
          0,
          2.9473684210526208,
          1.5184381778741929,
          14.09691629955947,
          -2.564102564102577,
          3.2499999999999973,
          3.100775193798455,
          -28.000000000000004,
          0.8333333333333304,
          -2.73109243697478,
          -1.22699386503069,
          3.4343434343434343,
          2.7196652719665204,
          2.3655913978494647,
          2.8634361233480177,
          -1.8140589569161092,
          2.0044543429844075,
          -0.6818181818181612,
          1.5801354401805745,
          2.5229357798165264,
          1.17647058823529,
          2.619047619047632,
          3.6674816625916873,
          2.0304568527918843,
          1.0362694300518172,
          0.2617801047120394,
          1.5748031496062964,
          -0.2666666666666595,
          2.393617021276595,
          0.8174386920980825,
          0.5494505494505475,
          0,
          0.2762430939226568,
          0.5540166204986208,
          0.278551532033422,
          0.8379888268156499,
          0.5633802816901401,
          0.8498583569405027
         ],
         "yaxis": "y"
        }
       ],
       "layout": {
        "legend": {
         "title": {
          "text": "Country_classification"
         },
         "tracegroupgap": 0
        },
        "template": {
         "data": {
          "bar": [
           {
            "error_x": {
             "color": "#2a3f5f"
            },
            "error_y": {
             "color": "#2a3f5f"
            },
            "marker": {
             "line": {
              "color": "#E5ECF6",
              "width": 0.5
             },
             "pattern": {
              "fillmode": "overlay",
              "size": 10,
              "solidity": 0.2
             }
            },
            "type": "bar"
           }
          ],
          "barpolar": [
           {
            "marker": {
             "line": {
              "color": "#E5ECF6",
              "width": 0.5
             },
             "pattern": {
              "fillmode": "overlay",
              "size": 10,
              "solidity": 0.2
             }
            },
            "type": "barpolar"
           }
          ],
          "carpet": [
           {
            "aaxis": {
             "endlinecolor": "#2a3f5f",
             "gridcolor": "white",
             "linecolor": "white",
             "minorgridcolor": "white",
             "startlinecolor": "#2a3f5f"
            },
            "baxis": {
             "endlinecolor": "#2a3f5f",
             "gridcolor": "white",
             "linecolor": "white",
             "minorgridcolor": "white",
             "startlinecolor": "#2a3f5f"
            },
            "type": "carpet"
           }
          ],
          "choropleth": [
           {
            "colorbar": {
             "outlinewidth": 0,
             "ticks": ""
            },
            "type": "choropleth"
           }
          ],
          "contour": [
           {
            "colorbar": {
             "outlinewidth": 0,
             "ticks": ""
            },
            "colorscale": [
             [
              0,
              "#0d0887"
             ],
             [
              0.1111111111111111,
              "#46039f"
             ],
             [
              0.2222222222222222,
              "#7201a8"
             ],
             [
              0.3333333333333333,
              "#9c179e"
             ],
             [
              0.4444444444444444,
              "#bd3786"
             ],
             [
              0.5555555555555556,
              "#d8576b"
             ],
             [
              0.6666666666666666,
              "#ed7953"
             ],
             [
              0.7777777777777778,
              "#fb9f3a"
             ],
             [
              0.8888888888888888,
              "#fdca26"
             ],
             [
              1,
              "#f0f921"
             ]
            ],
            "type": "contour"
           }
          ],
          "contourcarpet": [
           {
            "colorbar": {
             "outlinewidth": 0,
             "ticks": ""
            },
            "type": "contourcarpet"
           }
          ],
          "heatmap": [
           {
            "colorbar": {
             "outlinewidth": 0,
             "ticks": ""
            },
            "colorscale": [
             [
              0,
              "#0d0887"
             ],
             [
              0.1111111111111111,
              "#46039f"
             ],
             [
              0.2222222222222222,
              "#7201a8"
             ],
             [
              0.3333333333333333,
              "#9c179e"
             ],
             [
              0.4444444444444444,
              "#bd3786"
             ],
             [
              0.5555555555555556,
              "#d8576b"
             ],
             [
              0.6666666666666666,
              "#ed7953"
             ],
             [
              0.7777777777777778,
              "#fb9f3a"
             ],
             [
              0.8888888888888888,
              "#fdca26"
             ],
             [
              1,
              "#f0f921"
             ]
            ],
            "type": "heatmap"
           }
          ],
          "heatmapgl": [
           {
            "colorbar": {
             "outlinewidth": 0,
             "ticks": ""
            },
            "colorscale": [
             [
              0,
              "#0d0887"
             ],
             [
              0.1111111111111111,
              "#46039f"
             ],
             [
              0.2222222222222222,
              "#7201a8"
             ],
             [
              0.3333333333333333,
              "#9c179e"
             ],
             [
              0.4444444444444444,
              "#bd3786"
             ],
             [
              0.5555555555555556,
              "#d8576b"
             ],
             [
              0.6666666666666666,
              "#ed7953"
             ],
             [
              0.7777777777777778,
              "#fb9f3a"
             ],
             [
              0.8888888888888888,
              "#fdca26"
             ],
             [
              1,
              "#f0f921"
             ]
            ],
            "type": "heatmapgl"
           }
          ],
          "histogram": [
           {
            "marker": {
             "pattern": {
              "fillmode": "overlay",
              "size": 10,
              "solidity": 0.2
             }
            },
            "type": "histogram"
           }
          ],
          "histogram2d": [
           {
            "colorbar": {
             "outlinewidth": 0,
             "ticks": ""
            },
            "colorscale": [
             [
              0,
              "#0d0887"
             ],
             [
              0.1111111111111111,
              "#46039f"
             ],
             [
              0.2222222222222222,
              "#7201a8"
             ],
             [
              0.3333333333333333,
              "#9c179e"
             ],
             [
              0.4444444444444444,
              "#bd3786"
             ],
             [
              0.5555555555555556,
              "#d8576b"
             ],
             [
              0.6666666666666666,
              "#ed7953"
             ],
             [
              0.7777777777777778,
              "#fb9f3a"
             ],
             [
              0.8888888888888888,
              "#fdca26"
             ],
             [
              1,
              "#f0f921"
             ]
            ],
            "type": "histogram2d"
           }
          ],
          "histogram2dcontour": [
           {
            "colorbar": {
             "outlinewidth": 0,
             "ticks": ""
            },
            "colorscale": [
             [
              0,
              "#0d0887"
             ],
             [
              0.1111111111111111,
              "#46039f"
             ],
             [
              0.2222222222222222,
              "#7201a8"
             ],
             [
              0.3333333333333333,
              "#9c179e"
             ],
             [
              0.4444444444444444,
              "#bd3786"
             ],
             [
              0.5555555555555556,
              "#d8576b"
             ],
             [
              0.6666666666666666,
              "#ed7953"
             ],
             [
              0.7777777777777778,
              "#fb9f3a"
             ],
             [
              0.8888888888888888,
              "#fdca26"
             ],
             [
              1,
              "#f0f921"
             ]
            ],
            "type": "histogram2dcontour"
           }
          ],
          "mesh3d": [
           {
            "colorbar": {
             "outlinewidth": 0,
             "ticks": ""
            },
            "type": "mesh3d"
           }
          ],
          "parcoords": [
           {
            "line": {
             "colorbar": {
              "outlinewidth": 0,
              "ticks": ""
             }
            },
            "type": "parcoords"
           }
          ],
          "pie": [
           {
            "automargin": true,
            "type": "pie"
           }
          ],
          "scatter": [
           {
            "fillpattern": {
             "fillmode": "overlay",
             "size": 10,
             "solidity": 0.2
            },
            "type": "scatter"
           }
          ],
          "scatter3d": [
           {
            "line": {
             "colorbar": {
              "outlinewidth": 0,
              "ticks": ""
             }
            },
            "marker": {
             "colorbar": {
              "outlinewidth": 0,
              "ticks": ""
             }
            },
            "type": "scatter3d"
           }
          ],
          "scattercarpet": [
           {
            "marker": {
             "colorbar": {
              "outlinewidth": 0,
              "ticks": ""
             }
            },
            "type": "scattercarpet"
           }
          ],
          "scattergeo": [
           {
            "marker": {
             "colorbar": {
              "outlinewidth": 0,
              "ticks": ""
             }
            },
            "type": "scattergeo"
           }
          ],
          "scattergl": [
           {
            "marker": {
             "colorbar": {
              "outlinewidth": 0,
              "ticks": ""
             }
            },
            "type": "scattergl"
           }
          ],
          "scattermapbox": [
           {
            "marker": {
             "colorbar": {
              "outlinewidth": 0,
              "ticks": ""
             }
            },
            "type": "scattermapbox"
           }
          ],
          "scatterpolar": [
           {
            "marker": {
             "colorbar": {
              "outlinewidth": 0,
              "ticks": ""
             }
            },
            "type": "scatterpolar"
           }
          ],
          "scatterpolargl": [
           {
            "marker": {
             "colorbar": {
              "outlinewidth": 0,
              "ticks": ""
             }
            },
            "type": "scatterpolargl"
           }
          ],
          "scatterternary": [
           {
            "marker": {
             "colorbar": {
              "outlinewidth": 0,
              "ticks": ""
             }
            },
            "type": "scatterternary"
           }
          ],
          "surface": [
           {
            "colorbar": {
             "outlinewidth": 0,
             "ticks": ""
            },
            "colorscale": [
             [
              0,
              "#0d0887"
             ],
             [
              0.1111111111111111,
              "#46039f"
             ],
             [
              0.2222222222222222,
              "#7201a8"
             ],
             [
              0.3333333333333333,
              "#9c179e"
             ],
             [
              0.4444444444444444,
              "#bd3786"
             ],
             [
              0.5555555555555556,
              "#d8576b"
             ],
             [
              0.6666666666666666,
              "#ed7953"
             ],
             [
              0.7777777777777778,
              "#fb9f3a"
             ],
             [
              0.8888888888888888,
              "#fdca26"
             ],
             [
              1,
              "#f0f921"
             ]
            ],
            "type": "surface"
           }
          ],
          "table": [
           {
            "cells": {
             "fill": {
              "color": "#EBF0F8"
             },
             "line": {
              "color": "white"
             }
            },
            "header": {
             "fill": {
              "color": "#C8D4E3"
             },
             "line": {
              "color": "white"
             }
            },
            "type": "table"
           }
          ]
         },
         "layout": {
          "annotationdefaults": {
           "arrowcolor": "#2a3f5f",
           "arrowhead": 0,
           "arrowwidth": 1
          },
          "autotypenumbers": "strict",
          "coloraxis": {
           "colorbar": {
            "outlinewidth": 0,
            "ticks": ""
           }
          },
          "colorscale": {
           "diverging": [
            [
             0,
             "#8e0152"
            ],
            [
             0.1,
             "#c51b7d"
            ],
            [
             0.2,
             "#de77ae"
            ],
            [
             0.3,
             "#f1b6da"
            ],
            [
             0.4,
             "#fde0ef"
            ],
            [
             0.5,
             "#f7f7f7"
            ],
            [
             0.6,
             "#e6f5d0"
            ],
            [
             0.7,
             "#b8e186"
            ],
            [
             0.8,
             "#7fbc41"
            ],
            [
             0.9,
             "#4d9221"
            ],
            [
             1,
             "#276419"
            ]
           ],
           "sequential": [
            [
             0,
             "#0d0887"
            ],
            [
             0.1111111111111111,
             "#46039f"
            ],
            [
             0.2222222222222222,
             "#7201a8"
            ],
            [
             0.3333333333333333,
             "#9c179e"
            ],
            [
             0.4444444444444444,
             "#bd3786"
            ],
            [
             0.5555555555555556,
             "#d8576b"
            ],
            [
             0.6666666666666666,
             "#ed7953"
            ],
            [
             0.7777777777777778,
             "#fb9f3a"
            ],
            [
             0.8888888888888888,
             "#fdca26"
            ],
            [
             1,
             "#f0f921"
            ]
           ],
           "sequentialminus": [
            [
             0,
             "#0d0887"
            ],
            [
             0.1111111111111111,
             "#46039f"
            ],
            [
             0.2222222222222222,
             "#7201a8"
            ],
            [
             0.3333333333333333,
             "#9c179e"
            ],
            [
             0.4444444444444444,
             "#bd3786"
            ],
            [
             0.5555555555555556,
             "#d8576b"
            ],
            [
             0.6666666666666666,
             "#ed7953"
            ],
            [
             0.7777777777777778,
             "#fb9f3a"
            ],
            [
             0.8888888888888888,
             "#fdca26"
            ],
            [
             1,
             "#f0f921"
            ]
           ]
          },
          "colorway": [
           "#636efa",
           "#EF553B",
           "#00cc96",
           "#ab63fa",
           "#FFA15A",
           "#19d3f3",
           "#FF6692",
           "#B6E880",
           "#FF97FF",
           "#FECB52"
          ],
          "font": {
           "color": "#2a3f5f"
          },
          "geo": {
           "bgcolor": "white",
           "lakecolor": "white",
           "landcolor": "#E5ECF6",
           "showlakes": true,
           "showland": true,
           "subunitcolor": "white"
          },
          "hoverlabel": {
           "align": "left"
          },
          "hovermode": "closest",
          "mapbox": {
           "style": "light"
          },
          "paper_bgcolor": "white",
          "plot_bgcolor": "#E5ECF6",
          "polar": {
           "angularaxis": {
            "gridcolor": "white",
            "linecolor": "white",
            "ticks": ""
           },
           "bgcolor": "#E5ECF6",
           "radialaxis": {
            "gridcolor": "white",
            "linecolor": "white",
            "ticks": ""
           }
          },
          "scene": {
           "xaxis": {
            "backgroundcolor": "#E5ECF6",
            "gridcolor": "white",
            "gridwidth": 2,
            "linecolor": "white",
            "showbackground": true,
            "ticks": "",
            "zerolinecolor": "white"
           },
           "yaxis": {
            "backgroundcolor": "#E5ECF6",
            "gridcolor": "white",
            "gridwidth": 2,
            "linecolor": "white",
            "showbackground": true,
            "ticks": "",
            "zerolinecolor": "white"
           },
           "zaxis": {
            "backgroundcolor": "#E5ECF6",
            "gridcolor": "white",
            "gridwidth": 2,
            "linecolor": "white",
            "showbackground": true,
            "ticks": "",
            "zerolinecolor": "white"
           }
          },
          "shapedefaults": {
           "line": {
            "color": "#2a3f5f"
           }
          },
          "ternary": {
           "aaxis": {
            "gridcolor": "white",
            "linecolor": "white",
            "ticks": ""
           },
           "baxis": {
            "gridcolor": "white",
            "linecolor": "white",
            "ticks": ""
           },
           "bgcolor": "#E5ECF6",
           "caxis": {
            "gridcolor": "white",
            "linecolor": "white",
            "ticks": ""
           }
          },
          "title": {
           "x": 0.05
          },
          "xaxis": {
           "automargin": true,
           "gridcolor": "white",
           "linecolor": "white",
           "ticks": "",
           "title": {
            "standoff": 15
           },
           "zerolinecolor": "white",
           "zerolinewidth": 2
          },
          "yaxis": {
           "automargin": true,
           "gridcolor": "white",
           "linecolor": "white",
           "ticks": "",
           "title": {
            "standoff": 15
           },
           "zerolinecolor": "white",
           "zerolinewidth": 2
          }
         }
        },
        "title": {
         "text": "Graph 2. Energy Efficiency Improvements by Group of Economies"
        },
        "xaxis": {
         "anchor": "y",
         "domain": [
          0,
          1
         ],
         "title": {
          "text": "Year"
         }
        },
        "yaxis": {
         "anchor": "x",
         "domain": [
          0,
          1
         ],
         "title": {
          "text": "Energy_Efficiency"
         }
        }
       }
      },
      "text/html": [
       "<div>                            <div id=\"4ef248f5-81ee-4c4e-86f4-d367590574fe\" class=\"plotly-graph-div\" style=\"height:525px; width:100%;\"></div>            <script type=\"text/javascript\">                require([\"plotly\"], function(Plotly) {                    window.PLOTLYENV=window.PLOTLYENV || {};                                    if (document.getElementById(\"4ef248f5-81ee-4c4e-86f4-d367590574fe\")) {                    Plotly.newPlot(                        \"4ef248f5-81ee-4c4e-86f4-d367590574fe\",                        [{\"hovertemplate\":\"Country_classification=Advanced Economies\\u003cbr\\u003eYear=%{x}\\u003cbr\\u003eEnergy_Efficiency=%{y}\\u003cextra\\u003e\\u003c\\u002fextra\\u003e\",\"legendgroup\":\"Advanced Economies\",\"line\":{\"color\":\"#636efa\",\"dash\":\"solid\"},\"marker\":{\"symbol\":\"circle\"},\"mode\":\"lines\",\"name\":\"Advanced Economies\",\"orientation\":\"v\",\"showlegend\":true,\"x\":[1980,1981,1982,1983,1984,1985,1986,1987,1988,1989,1990,1991,1992,1993,1994,1995,1996,1997,1998,1999,2000,2001,2002,2003,2004,2005,2006,2007,2008,2009,2010,2011,2012,2013,2014,2015,2016,2017,2018,2019,2020,2021,2022],\"xaxis\":\"x\",\"y\":[null,5.44,2.368866328257202,2.772963604852674,0.891265597147961,0.17985611510791255,-0.7207207207207134,0.7155635062611854,5.045045045045049,1.3282732447817747,0.19230769230769162,-0.7707129094412402,-4.97131931166348,-4.553734061930781,2.2648083623693416,2.4955436720142665,-0.0,3.4734917733089454,0.9469696969696906,3.250478011472291,1.1857707509881354,-1.200000000000001,2.1739130434782483,-0.40404040404038444,1.810865191146882,3.8934426229508046,3.6247334754797578,3.3185840707964487,1.830663615560646,-0.0,-0.2331002331002363,3.953488372093017,1.4527845036319542,2.9484029484029506,4.0506329113924044,1.58311345646438,0.2680965147452974,1.3440860215053863,1.9073569482288777,2.777777777777779,4.0000000000000036,2.3809523809523836,5.182926829268286],\"yaxis\":\"y\",\"type\":\"scatter\"},{\"hovertemplate\":\"Country_classification=Emerging and Developing Economies\\u003cbr\\u003eYear=%{x}\\u003cbr\\u003eEnergy_Efficiency=%{y}\\u003cextra\\u003e\\u003c\\u002fextra\\u003e\",\"legendgroup\":\"Emerging and Developing Economies\",\"line\":{\"color\":\"#EF553B\",\"dash\":\"solid\"},\"marker\":{\"symbol\":\"circle\"},\"mode\":\"lines\",\"name\":\"Emerging and Developing Economies\",\"orientation\":\"v\",\"showlegend\":true,\"x\":[1980,1981,1982,1983,1984,1985,1986,1987,1988,1989,1990,1991,1992,1993,1994,1995,1996,1997,1998,1999,2000,2001,2002,2003,2004,2005,2006,2007,2008,2009,2010,2011,2012,2013,2014,2015,2016,2017,2018,2019,2020,2021,2022],\"xaxis\":\"x\",\"y\":[null,8.59375000000001,-1.7094017094017033,-2.310924369747913,2.4640657084188944,-0.0,2.9473684210526208,1.5184381778741929,14.09691629955947,-2.564102564102577,3.2499999999999973,3.100775193798455,-28.000000000000004,0.8333333333333304,-2.73109243697478,-1.22699386503069,3.4343434343434343,2.7196652719665204,2.3655913978494647,2.8634361233480177,-1.8140589569161092,2.0044543429844075,-0.6818181818181612,1.5801354401805745,2.5229357798165264,1.17647058823529,2.619047619047632,3.6674816625916873,2.0304568527918843,1.0362694300518172,0.2617801047120394,1.5748031496062964,-0.2666666666666595,2.393617021276595,0.8174386920980825,0.5494505494505475,-0.0,0.2762430939226568,0.5540166204986208,0.278551532033422,0.8379888268156499,0.5633802816901401,0.8498583569405027],\"yaxis\":\"y\",\"type\":\"scatter\"}],                        {\"template\":{\"data\":{\"histogram2dcontour\":[{\"type\":\"histogram2dcontour\",\"colorbar\":{\"outlinewidth\":0,\"ticks\":\"\"},\"colorscale\":[[0.0,\"#0d0887\"],[0.1111111111111111,\"#46039f\"],[0.2222222222222222,\"#7201a8\"],[0.3333333333333333,\"#9c179e\"],[0.4444444444444444,\"#bd3786\"],[0.5555555555555556,\"#d8576b\"],[0.6666666666666666,\"#ed7953\"],[0.7777777777777778,\"#fb9f3a\"],[0.8888888888888888,\"#fdca26\"],[1.0,\"#f0f921\"]]}],\"choropleth\":[{\"type\":\"choropleth\",\"colorbar\":{\"outlinewidth\":0,\"ticks\":\"\"}}],\"histogram2d\":[{\"type\":\"histogram2d\",\"colorbar\":{\"outlinewidth\":0,\"ticks\":\"\"},\"colorscale\":[[0.0,\"#0d0887\"],[0.1111111111111111,\"#46039f\"],[0.2222222222222222,\"#7201a8\"],[0.3333333333333333,\"#9c179e\"],[0.4444444444444444,\"#bd3786\"],[0.5555555555555556,\"#d8576b\"],[0.6666666666666666,\"#ed7953\"],[0.7777777777777778,\"#fb9f3a\"],[0.8888888888888888,\"#fdca26\"],[1.0,\"#f0f921\"]]}],\"heatmap\":[{\"type\":\"heatmap\",\"colorbar\":{\"outlinewidth\":0,\"ticks\":\"\"},\"colorscale\":[[0.0,\"#0d0887\"],[0.1111111111111111,\"#46039f\"],[0.2222222222222222,\"#7201a8\"],[0.3333333333333333,\"#9c179e\"],[0.4444444444444444,\"#bd3786\"],[0.5555555555555556,\"#d8576b\"],[0.6666666666666666,\"#ed7953\"],[0.7777777777777778,\"#fb9f3a\"],[0.8888888888888888,\"#fdca26\"],[1.0,\"#f0f921\"]]}],\"heatmapgl\":[{\"type\":\"heatmapgl\",\"colorbar\":{\"outlinewidth\":0,\"ticks\":\"\"},\"colorscale\":[[0.0,\"#0d0887\"],[0.1111111111111111,\"#46039f\"],[0.2222222222222222,\"#7201a8\"],[0.3333333333333333,\"#9c179e\"],[0.4444444444444444,\"#bd3786\"],[0.5555555555555556,\"#d8576b\"],[0.6666666666666666,\"#ed7953\"],[0.7777777777777778,\"#fb9f3a\"],[0.8888888888888888,\"#fdca26\"],[1.0,\"#f0f921\"]]}],\"contourcarpet\":[{\"type\":\"contourcarpet\",\"colorbar\":{\"outlinewidth\":0,\"ticks\":\"\"}}],\"contour\":[{\"type\":\"contour\",\"colorbar\":{\"outlinewidth\":0,\"ticks\":\"\"},\"colorscale\":[[0.0,\"#0d0887\"],[0.1111111111111111,\"#46039f\"],[0.2222222222222222,\"#7201a8\"],[0.3333333333333333,\"#9c179e\"],[0.4444444444444444,\"#bd3786\"],[0.5555555555555556,\"#d8576b\"],[0.6666666666666666,\"#ed7953\"],[0.7777777777777778,\"#fb9f3a\"],[0.8888888888888888,\"#fdca26\"],[1.0,\"#f0f921\"]]}],\"surface\":[{\"type\":\"surface\",\"colorbar\":{\"outlinewidth\":0,\"ticks\":\"\"},\"colorscale\":[[0.0,\"#0d0887\"],[0.1111111111111111,\"#46039f\"],[0.2222222222222222,\"#7201a8\"],[0.3333333333333333,\"#9c179e\"],[0.4444444444444444,\"#bd3786\"],[0.5555555555555556,\"#d8576b\"],[0.6666666666666666,\"#ed7953\"],[0.7777777777777778,\"#fb9f3a\"],[0.8888888888888888,\"#fdca26\"],[1.0,\"#f0f921\"]]}],\"mesh3d\":[{\"type\":\"mesh3d\",\"colorbar\":{\"outlinewidth\":0,\"ticks\":\"\"}}],\"scatter\":[{\"fillpattern\":{\"fillmode\":\"overlay\",\"size\":10,\"solidity\":0.2},\"type\":\"scatter\"}],\"parcoords\":[{\"type\":\"parcoords\",\"line\":{\"colorbar\":{\"outlinewidth\":0,\"ticks\":\"\"}}}],\"scatterpolargl\":[{\"type\":\"scatterpolargl\",\"marker\":{\"colorbar\":{\"outlinewidth\":0,\"ticks\":\"\"}}}],\"bar\":[{\"error_x\":{\"color\":\"#2a3f5f\"},\"error_y\":{\"color\":\"#2a3f5f\"},\"marker\":{\"line\":{\"color\":\"#E5ECF6\",\"width\":0.5},\"pattern\":{\"fillmode\":\"overlay\",\"size\":10,\"solidity\":0.2}},\"type\":\"bar\"}],\"scattergeo\":[{\"type\":\"scattergeo\",\"marker\":{\"colorbar\":{\"outlinewidth\":0,\"ticks\":\"\"}}}],\"scatterpolar\":[{\"type\":\"scatterpolar\",\"marker\":{\"colorbar\":{\"outlinewidth\":0,\"ticks\":\"\"}}}],\"histogram\":[{\"marker\":{\"pattern\":{\"fillmode\":\"overlay\",\"size\":10,\"solidity\":0.2}},\"type\":\"histogram\"}],\"scattergl\":[{\"type\":\"scattergl\",\"marker\":{\"colorbar\":{\"outlinewidth\":0,\"ticks\":\"\"}}}],\"scatter3d\":[{\"type\":\"scatter3d\",\"line\":{\"colorbar\":{\"outlinewidth\":0,\"ticks\":\"\"}},\"marker\":{\"colorbar\":{\"outlinewidth\":0,\"ticks\":\"\"}}}],\"scattermapbox\":[{\"type\":\"scattermapbox\",\"marker\":{\"colorbar\":{\"outlinewidth\":0,\"ticks\":\"\"}}}],\"scatterternary\":[{\"type\":\"scatterternary\",\"marker\":{\"colorbar\":{\"outlinewidth\":0,\"ticks\":\"\"}}}],\"scattercarpet\":[{\"type\":\"scattercarpet\",\"marker\":{\"colorbar\":{\"outlinewidth\":0,\"ticks\":\"\"}}}],\"carpet\":[{\"aaxis\":{\"endlinecolor\":\"#2a3f5f\",\"gridcolor\":\"white\",\"linecolor\":\"white\",\"minorgridcolor\":\"white\",\"startlinecolor\":\"#2a3f5f\"},\"baxis\":{\"endlinecolor\":\"#2a3f5f\",\"gridcolor\":\"white\",\"linecolor\":\"white\",\"minorgridcolor\":\"white\",\"startlinecolor\":\"#2a3f5f\"},\"type\":\"carpet\"}],\"table\":[{\"cells\":{\"fill\":{\"color\":\"#EBF0F8\"},\"line\":{\"color\":\"white\"}},\"header\":{\"fill\":{\"color\":\"#C8D4E3\"},\"line\":{\"color\":\"white\"}},\"type\":\"table\"}],\"barpolar\":[{\"marker\":{\"line\":{\"color\":\"#E5ECF6\",\"width\":0.5},\"pattern\":{\"fillmode\":\"overlay\",\"size\":10,\"solidity\":0.2}},\"type\":\"barpolar\"}],\"pie\":[{\"automargin\":true,\"type\":\"pie\"}]},\"layout\":{\"autotypenumbers\":\"strict\",\"colorway\":[\"#636efa\",\"#EF553B\",\"#00cc96\",\"#ab63fa\",\"#FFA15A\",\"#19d3f3\",\"#FF6692\",\"#B6E880\",\"#FF97FF\",\"#FECB52\"],\"font\":{\"color\":\"#2a3f5f\"},\"hovermode\":\"closest\",\"hoverlabel\":{\"align\":\"left\"},\"paper_bgcolor\":\"white\",\"plot_bgcolor\":\"#E5ECF6\",\"polar\":{\"bgcolor\":\"#E5ECF6\",\"angularaxis\":{\"gridcolor\":\"white\",\"linecolor\":\"white\",\"ticks\":\"\"},\"radialaxis\":{\"gridcolor\":\"white\",\"linecolor\":\"white\",\"ticks\":\"\"}},\"ternary\":{\"bgcolor\":\"#E5ECF6\",\"aaxis\":{\"gridcolor\":\"white\",\"linecolor\":\"white\",\"ticks\":\"\"},\"baxis\":{\"gridcolor\":\"white\",\"linecolor\":\"white\",\"ticks\":\"\"},\"caxis\":{\"gridcolor\":\"white\",\"linecolor\":\"white\",\"ticks\":\"\"}},\"coloraxis\":{\"colorbar\":{\"outlinewidth\":0,\"ticks\":\"\"}},\"colorscale\":{\"sequential\":[[0.0,\"#0d0887\"],[0.1111111111111111,\"#46039f\"],[0.2222222222222222,\"#7201a8\"],[0.3333333333333333,\"#9c179e\"],[0.4444444444444444,\"#bd3786\"],[0.5555555555555556,\"#d8576b\"],[0.6666666666666666,\"#ed7953\"],[0.7777777777777778,\"#fb9f3a\"],[0.8888888888888888,\"#fdca26\"],[1.0,\"#f0f921\"]],\"sequentialminus\":[[0.0,\"#0d0887\"],[0.1111111111111111,\"#46039f\"],[0.2222222222222222,\"#7201a8\"],[0.3333333333333333,\"#9c179e\"],[0.4444444444444444,\"#bd3786\"],[0.5555555555555556,\"#d8576b\"],[0.6666666666666666,\"#ed7953\"],[0.7777777777777778,\"#fb9f3a\"],[0.8888888888888888,\"#fdca26\"],[1.0,\"#f0f921\"]],\"diverging\":[[0,\"#8e0152\"],[0.1,\"#c51b7d\"],[0.2,\"#de77ae\"],[0.3,\"#f1b6da\"],[0.4,\"#fde0ef\"],[0.5,\"#f7f7f7\"],[0.6,\"#e6f5d0\"],[0.7,\"#b8e186\"],[0.8,\"#7fbc41\"],[0.9,\"#4d9221\"],[1,\"#276419\"]]},\"xaxis\":{\"gridcolor\":\"white\",\"linecolor\":\"white\",\"ticks\":\"\",\"title\":{\"standoff\":15},\"zerolinecolor\":\"white\",\"automargin\":true,\"zerolinewidth\":2},\"yaxis\":{\"gridcolor\":\"white\",\"linecolor\":\"white\",\"ticks\":\"\",\"title\":{\"standoff\":15},\"zerolinecolor\":\"white\",\"automargin\":true,\"zerolinewidth\":2},\"scene\":{\"xaxis\":{\"backgroundcolor\":\"#E5ECF6\",\"gridcolor\":\"white\",\"linecolor\":\"white\",\"showbackground\":true,\"ticks\":\"\",\"zerolinecolor\":\"white\",\"gridwidth\":2},\"yaxis\":{\"backgroundcolor\":\"#E5ECF6\",\"gridcolor\":\"white\",\"linecolor\":\"white\",\"showbackground\":true,\"ticks\":\"\",\"zerolinecolor\":\"white\",\"gridwidth\":2},\"zaxis\":{\"backgroundcolor\":\"#E5ECF6\",\"gridcolor\":\"white\",\"linecolor\":\"white\",\"showbackground\":true,\"ticks\":\"\",\"zerolinecolor\":\"white\",\"gridwidth\":2}},\"shapedefaults\":{\"line\":{\"color\":\"#2a3f5f\"}},\"annotationdefaults\":{\"arrowcolor\":\"#2a3f5f\",\"arrowhead\":0,\"arrowwidth\":1},\"geo\":{\"bgcolor\":\"white\",\"landcolor\":\"#E5ECF6\",\"subunitcolor\":\"white\",\"showland\":true,\"showlakes\":true,\"lakecolor\":\"white\"},\"title\":{\"x\":0.05},\"mapbox\":{\"style\":\"light\"}}},\"xaxis\":{\"anchor\":\"y\",\"domain\":[0.0,1.0],\"title\":{\"text\":\"Year\"}},\"yaxis\":{\"anchor\":\"x\",\"domain\":[0.0,1.0],\"title\":{\"text\":\"Energy_Efficiency\"}},\"legend\":{\"title\":{\"text\":\"Country_classification\"},\"tracegroupgap\":0},\"title\":{\"text\":\"Graph 2. Energy Efficiency Improvements by Group of Economies\"}},                        {\"responsive\": true}                    ).then(function(){\n",
       "                            \n",
       "var gd = document.getElementById('4ef248f5-81ee-4c4e-86f4-d367590574fe');\n",
       "var x = new MutationObserver(function (mutations, observer) {{\n",
       "        var display = window.getComputedStyle(gd).display;\n",
       "        if (!display || display === 'none') {{\n",
       "            console.log([gd, 'removed!']);\n",
       "            Plotly.purge(gd);\n",
       "            observer.disconnect();\n",
       "        }}\n",
       "}});\n",
       "\n",
       "// Listen for the removal of the full notebook cells\n",
       "var notebookContainer = gd.closest('#notebook-container');\n",
       "if (notebookContainer) {{\n",
       "    x.observe(notebookContainer, {childList: true});\n",
       "}}\n",
       "\n",
       "// Listen for the clearing of the current output cell\n",
       "var outputEl = gd.closest('.output');\n",
       "if (outputEl) {{\n",
       "    x.observe(outputEl, {childList: true});\n",
       "}}\n",
       "\n",
       "                        })                };                });            </script>        </div>"
      ]
     },
     "metadata": {},
     "output_type": "display_data"
    }
   ],
   "source": [
    "fig = px.line(\n",
    "    avg_ei_df,\n",
    "    x=\"Year\",\n",
    "    y=\"Energy_Efficiency\",\n",
    "    color=\"Country_classification\",\n",
    "    title=\"Graph 2. Energy Efficiency Improvements by Group of Economies\"\n",
    ")\n",
    "\n",
    "fig.show()"
   ]
  },
  {
   "cell_type": "markdown",
   "id": "ccc88737-ae77-44da-b05e-0b6da6b35104",
   "metadata": {},
   "source": [
    "## 2.2 Economic growth"
   ]
  },
  {
   "cell_type": "code",
   "execution_count": 59,
   "id": "4f0284a1-d651-43db-a690-beb94aed6585",
   "metadata": {},
   "outputs": [],
   "source": [
    "import pandas as pd\n",
    "import plotly.express as px"
   ]
  },
  {
   "cell_type": "code",
   "execution_count": 60,
   "id": "4b18cf0d-d498-4785-af1e-91161f043fea",
   "metadata": {},
   "outputs": [
    {
     "data": {
      "text/html": [
       "<div>\n",
       "<style scoped>\n",
       "    .dataframe tbody tr th:only-of-type {\n",
       "        vertical-align: middle;\n",
       "    }\n",
       "\n",
       "    .dataframe tbody tr th {\n",
       "        vertical-align: top;\n",
       "    }\n",
       "\n",
       "    .dataframe thead th {\n",
       "        text-align: right;\n",
       "    }\n",
       "</style>\n",
       "<table border=\"1\" class=\"dataframe\">\n",
       "  <thead>\n",
       "    <tr style=\"text-align: right;\">\n",
       "      <th></th>\n",
       "      <th>Real GDP growth (Annual percent change)</th>\n",
       "      <th>1980</th>\n",
       "      <th>1981</th>\n",
       "      <th>1982</th>\n",
       "      <th>1983</th>\n",
       "      <th>1984</th>\n",
       "      <th>1985</th>\n",
       "      <th>1986</th>\n",
       "      <th>1987</th>\n",
       "      <th>1988</th>\n",
       "      <th>...</th>\n",
       "      <th>2020</th>\n",
       "      <th>2021</th>\n",
       "      <th>2022</th>\n",
       "      <th>2023</th>\n",
       "      <th>2024</th>\n",
       "      <th>2025</th>\n",
       "      <th>2026</th>\n",
       "      <th>2027</th>\n",
       "      <th>2028</th>\n",
       "      <th>2029</th>\n",
       "    </tr>\n",
       "  </thead>\n",
       "  <tbody>\n",
       "    <tr>\n",
       "      <th>0</th>\n",
       "      <td>NaN</td>\n",
       "      <td>NaN</td>\n",
       "      <td>NaN</td>\n",
       "      <td>NaN</td>\n",
       "      <td>NaN</td>\n",
       "      <td>NaN</td>\n",
       "      <td>NaN</td>\n",
       "      <td>NaN</td>\n",
       "      <td>NaN</td>\n",
       "      <td>NaN</td>\n",
       "      <td>...</td>\n",
       "      <td>NaN</td>\n",
       "      <td>NaN</td>\n",
       "      <td>NaN</td>\n",
       "      <td>NaN</td>\n",
       "      <td>NaN</td>\n",
       "      <td>NaN</td>\n",
       "      <td>NaN</td>\n",
       "      <td>NaN</td>\n",
       "      <td>NaN</td>\n",
       "      <td>NaN</td>\n",
       "    </tr>\n",
       "    <tr>\n",
       "      <th>1</th>\n",
       "      <td>Afghanistan</td>\n",
       "      <td>no data</td>\n",
       "      <td>no data</td>\n",
       "      <td>no data</td>\n",
       "      <td>no data</td>\n",
       "      <td>no data</td>\n",
       "      <td>no data</td>\n",
       "      <td>no data</td>\n",
       "      <td>no data</td>\n",
       "      <td>no data</td>\n",
       "      <td>...</td>\n",
       "      <td>-2.4</td>\n",
       "      <td>-14.5</td>\n",
       "      <td>-6.2</td>\n",
       "      <td>2.7</td>\n",
       "      <td>no data</td>\n",
       "      <td>no data</td>\n",
       "      <td>no data</td>\n",
       "      <td>no data</td>\n",
       "      <td>no data</td>\n",
       "      <td>no data</td>\n",
       "    </tr>\n",
       "    <tr>\n",
       "      <th>2</th>\n",
       "      <td>Albania</td>\n",
       "      <td>2.7</td>\n",
       "      <td>5.7</td>\n",
       "      <td>2.9</td>\n",
       "      <td>1.1</td>\n",
       "      <td>2</td>\n",
       "      <td>-1.5</td>\n",
       "      <td>5.6</td>\n",
       "      <td>-0.8</td>\n",
       "      <td>-1.4</td>\n",
       "      <td>...</td>\n",
       "      <td>-3.3</td>\n",
       "      <td>8.9</td>\n",
       "      <td>4.9</td>\n",
       "      <td>3.5</td>\n",
       "      <td>3.3</td>\n",
       "      <td>3.4</td>\n",
       "      <td>3.5</td>\n",
       "      <td>3.5</td>\n",
       "      <td>3.5</td>\n",
       "      <td>3.5</td>\n",
       "    </tr>\n",
       "    <tr>\n",
       "      <th>3</th>\n",
       "      <td>Algeria</td>\n",
       "      <td>-5.4</td>\n",
       "      <td>3</td>\n",
       "      <td>6.4</td>\n",
       "      <td>5.4</td>\n",
       "      <td>5.6</td>\n",
       "      <td>5.6</td>\n",
       "      <td>-0.2</td>\n",
       "      <td>-0.7</td>\n",
       "      <td>-1.9</td>\n",
       "      <td>...</td>\n",
       "      <td>-5</td>\n",
       "      <td>3.8</td>\n",
       "      <td>3.6</td>\n",
       "      <td>4.1</td>\n",
       "      <td>3.8</td>\n",
       "      <td>3</td>\n",
       "      <td>2.5</td>\n",
       "      <td>2.1</td>\n",
       "      <td>2.1</td>\n",
       "      <td>2.1</td>\n",
       "    </tr>\n",
       "    <tr>\n",
       "      <th>4</th>\n",
       "      <td>Andorra</td>\n",
       "      <td>no data</td>\n",
       "      <td>no data</td>\n",
       "      <td>no data</td>\n",
       "      <td>no data</td>\n",
       "      <td>no data</td>\n",
       "      <td>no data</td>\n",
       "      <td>no data</td>\n",
       "      <td>no data</td>\n",
       "      <td>no data</td>\n",
       "      <td>...</td>\n",
       "      <td>-11.2</td>\n",
       "      <td>8.3</td>\n",
       "      <td>9.6</td>\n",
       "      <td>1.4</td>\n",
       "      <td>1.4</td>\n",
       "      <td>1.6</td>\n",
       "      <td>1.5</td>\n",
       "      <td>1.5</td>\n",
       "      <td>1.5</td>\n",
       "      <td>1.5</td>\n",
       "    </tr>\n",
       "    <tr>\n",
       "      <th>...</th>\n",
       "      <td>...</td>\n",
       "      <td>...</td>\n",
       "      <td>...</td>\n",
       "      <td>...</td>\n",
       "      <td>...</td>\n",
       "      <td>...</td>\n",
       "      <td>...</td>\n",
       "      <td>...</td>\n",
       "      <td>...</td>\n",
       "      <td>...</td>\n",
       "      <td>...</td>\n",
       "      <td>...</td>\n",
       "      <td>...</td>\n",
       "      <td>...</td>\n",
       "      <td>...</td>\n",
       "      <td>...</td>\n",
       "      <td>...</td>\n",
       "      <td>...</td>\n",
       "      <td>...</td>\n",
       "      <td>...</td>\n",
       "      <td>...</td>\n",
       "    </tr>\n",
       "    <tr>\n",
       "      <th>226</th>\n",
       "      <td>Other advanced economies</td>\n",
       "      <td>3.6</td>\n",
       "      <td>4.2</td>\n",
       "      <td>2.2</td>\n",
       "      <td>4</td>\n",
       "      <td>6.5</td>\n",
       "      <td>4.4</td>\n",
       "      <td>5.5</td>\n",
       "      <td>6.5</td>\n",
       "      <td>5.5</td>\n",
       "      <td>...</td>\n",
       "      <td>-1.6</td>\n",
       "      <td>5.9</td>\n",
       "      <td>2.7</td>\n",
       "      <td>1.8</td>\n",
       "      <td>2.1</td>\n",
       "      <td>2.2</td>\n",
       "      <td>2.3</td>\n",
       "      <td>2.2</td>\n",
       "      <td>2.2</td>\n",
       "      <td>2.1</td>\n",
       "    </tr>\n",
       "    <tr>\n",
       "      <th>227</th>\n",
       "      <td>Sub-Saharan Africa</td>\n",
       "      <td>no data</td>\n",
       "      <td>no data</td>\n",
       "      <td>no data</td>\n",
       "      <td>no data</td>\n",
       "      <td>no data</td>\n",
       "      <td>no data</td>\n",
       "      <td>no data</td>\n",
       "      <td>no data</td>\n",
       "      <td>no data</td>\n",
       "      <td>...</td>\n",
       "      <td>-1.6</td>\n",
       "      <td>4.8</td>\n",
       "      <td>4.1</td>\n",
       "      <td>3.6</td>\n",
       "      <td>3.6</td>\n",
       "      <td>4.2</td>\n",
       "      <td>4.4</td>\n",
       "      <td>4.3</td>\n",
       "      <td>4.4</td>\n",
       "      <td>4.4</td>\n",
       "    </tr>\n",
       "    <tr>\n",
       "      <th>228</th>\n",
       "      <td>World</td>\n",
       "      <td>2.2</td>\n",
       "      <td>2</td>\n",
       "      <td>0.7</td>\n",
       "      <td>2.7</td>\n",
       "      <td>4.6</td>\n",
       "      <td>3.7</td>\n",
       "      <td>3.4</td>\n",
       "      <td>3.9</td>\n",
       "      <td>4.5</td>\n",
       "      <td>...</td>\n",
       "      <td>-2.7</td>\n",
       "      <td>6.6</td>\n",
       "      <td>3.6</td>\n",
       "      <td>3.3</td>\n",
       "      <td>3.2</td>\n",
       "      <td>3.2</td>\n",
       "      <td>3.3</td>\n",
       "      <td>3.2</td>\n",
       "      <td>3.1</td>\n",
       "      <td>3.1</td>\n",
       "    </tr>\n",
       "    <tr>\n",
       "      <th>229</th>\n",
       "      <td>NaN</td>\n",
       "      <td>NaN</td>\n",
       "      <td>NaN</td>\n",
       "      <td>NaN</td>\n",
       "      <td>NaN</td>\n",
       "      <td>NaN</td>\n",
       "      <td>NaN</td>\n",
       "      <td>NaN</td>\n",
       "      <td>NaN</td>\n",
       "      <td>NaN</td>\n",
       "      <td>...</td>\n",
       "      <td>NaN</td>\n",
       "      <td>NaN</td>\n",
       "      <td>NaN</td>\n",
       "      <td>NaN</td>\n",
       "      <td>NaN</td>\n",
       "      <td>NaN</td>\n",
       "      <td>NaN</td>\n",
       "      <td>NaN</td>\n",
       "      <td>NaN</td>\n",
       "      <td>NaN</td>\n",
       "    </tr>\n",
       "    <tr>\n",
       "      <th>230</th>\n",
       "      <td>©IMF, 2024</td>\n",
       "      <td>NaN</td>\n",
       "      <td>NaN</td>\n",
       "      <td>NaN</td>\n",
       "      <td>NaN</td>\n",
       "      <td>NaN</td>\n",
       "      <td>NaN</td>\n",
       "      <td>NaN</td>\n",
       "      <td>NaN</td>\n",
       "      <td>NaN</td>\n",
       "      <td>...</td>\n",
       "      <td>NaN</td>\n",
       "      <td>NaN</td>\n",
       "      <td>NaN</td>\n",
       "      <td>NaN</td>\n",
       "      <td>NaN</td>\n",
       "      <td>NaN</td>\n",
       "      <td>NaN</td>\n",
       "      <td>NaN</td>\n",
       "      <td>NaN</td>\n",
       "      <td>NaN</td>\n",
       "    </tr>\n",
       "  </tbody>\n",
       "</table>\n",
       "<p>231 rows × 51 columns</p>\n",
       "</div>"
      ],
      "text/plain": [
       "    Real GDP growth (Annual percent change)     1980     1981     1982  \\\n",
       "0                                       NaN      NaN      NaN      NaN   \n",
       "1                               Afghanistan  no data  no data  no data   \n",
       "2                                   Albania      2.7      5.7      2.9   \n",
       "3                                   Algeria     -5.4        3      6.4   \n",
       "4                                   Andorra  no data  no data  no data   \n",
       "..                                      ...      ...      ...      ...   \n",
       "226                Other advanced economies      3.6      4.2      2.2   \n",
       "227                      Sub-Saharan Africa  no data  no data  no data   \n",
       "228                                   World      2.2        2      0.7   \n",
       "229                                     NaN      NaN      NaN      NaN   \n",
       "230                              ©IMF, 2024      NaN      NaN      NaN   \n",
       "\n",
       "        1983     1984     1985     1986     1987     1988  ...  2020  2021  \\\n",
       "0        NaN      NaN      NaN      NaN      NaN      NaN  ...   NaN   NaN   \n",
       "1    no data  no data  no data  no data  no data  no data  ...  -2.4 -14.5   \n",
       "2        1.1        2     -1.5      5.6     -0.8     -1.4  ...  -3.3   8.9   \n",
       "3        5.4      5.6      5.6     -0.2     -0.7     -1.9  ...    -5   3.8   \n",
       "4    no data  no data  no data  no data  no data  no data  ... -11.2   8.3   \n",
       "..       ...      ...      ...      ...      ...      ...  ...   ...   ...   \n",
       "226        4      6.5      4.4      5.5      6.5      5.5  ...  -1.6   5.9   \n",
       "227  no data  no data  no data  no data  no data  no data  ...  -1.6   4.8   \n",
       "228      2.7      4.6      3.7      3.4      3.9      4.5  ...  -2.7   6.6   \n",
       "229      NaN      NaN      NaN      NaN      NaN      NaN  ...   NaN   NaN   \n",
       "230      NaN      NaN      NaN      NaN      NaN      NaN  ...   NaN   NaN   \n",
       "\n",
       "    2022 2023     2024     2025     2026     2027     2028     2029  \n",
       "0    NaN  NaN      NaN      NaN      NaN      NaN      NaN      NaN  \n",
       "1   -6.2  2.7  no data  no data  no data  no data  no data  no data  \n",
       "2    4.9  3.5      3.3      3.4      3.5      3.5      3.5      3.5  \n",
       "3    3.6  4.1      3.8        3      2.5      2.1      2.1      2.1  \n",
       "4    9.6  1.4      1.4      1.6      1.5      1.5      1.5      1.5  \n",
       "..   ...  ...      ...      ...      ...      ...      ...      ...  \n",
       "226  2.7  1.8      2.1      2.2      2.3      2.2      2.2      2.1  \n",
       "227  4.1  3.6      3.6      4.2      4.4      4.3      4.4      4.4  \n",
       "228  3.6  3.3      3.2      3.2      3.3      3.2      3.1      3.1  \n",
       "229  NaN  NaN      NaN      NaN      NaN      NaN      NaN      NaN  \n",
       "230  NaN  NaN      NaN      NaN      NaN      NaN      NaN      NaN  \n",
       "\n",
       "[231 rows x 51 columns]"
      ]
     },
     "execution_count": 60,
     "metadata": {},
     "output_type": "execute_result"
    }
   ],
   "source": [
    "eg=pd.read_excel('Real GDP growth.xls')\n",
    "eg"
   ]
  },
  {
   "cell_type": "code",
   "execution_count": 61,
   "id": "5c999771-a662-4a35-9d9e-766915fce8e7",
   "metadata": {},
   "outputs": [
    {
     "data": {
      "text/html": [
       "<div>\n",
       "<style scoped>\n",
       "    .dataframe tbody tr th:only-of-type {\n",
       "        vertical-align: middle;\n",
       "    }\n",
       "\n",
       "    .dataframe tbody tr th {\n",
       "        vertical-align: top;\n",
       "    }\n",
       "\n",
       "    .dataframe thead th {\n",
       "        text-align: right;\n",
       "    }\n",
       "</style>\n",
       "<table border=\"1\" class=\"dataframe\">\n",
       "  <thead>\n",
       "    <tr style=\"text-align: right;\">\n",
       "      <th></th>\n",
       "      <th>country/region</th>\n",
       "      <th>1980</th>\n",
       "      <th>1981</th>\n",
       "      <th>1982</th>\n",
       "      <th>1983</th>\n",
       "      <th>1984</th>\n",
       "      <th>1985</th>\n",
       "      <th>1986</th>\n",
       "      <th>1987</th>\n",
       "      <th>1988</th>\n",
       "      <th>...</th>\n",
       "      <th>2020</th>\n",
       "      <th>2021</th>\n",
       "      <th>2022</th>\n",
       "      <th>2023</th>\n",
       "      <th>2024</th>\n",
       "      <th>2025</th>\n",
       "      <th>2026</th>\n",
       "      <th>2027</th>\n",
       "      <th>2028</th>\n",
       "      <th>2029</th>\n",
       "    </tr>\n",
       "  </thead>\n",
       "  <tbody>\n",
       "    <tr>\n",
       "      <th>0</th>\n",
       "      <td>NaN</td>\n",
       "      <td>NaN</td>\n",
       "      <td>NaN</td>\n",
       "      <td>NaN</td>\n",
       "      <td>NaN</td>\n",
       "      <td>NaN</td>\n",
       "      <td>NaN</td>\n",
       "      <td>NaN</td>\n",
       "      <td>NaN</td>\n",
       "      <td>NaN</td>\n",
       "      <td>...</td>\n",
       "      <td>NaN</td>\n",
       "      <td>NaN</td>\n",
       "      <td>NaN</td>\n",
       "      <td>NaN</td>\n",
       "      <td>NaN</td>\n",
       "      <td>NaN</td>\n",
       "      <td>NaN</td>\n",
       "      <td>NaN</td>\n",
       "      <td>NaN</td>\n",
       "      <td>NaN</td>\n",
       "    </tr>\n",
       "    <tr>\n",
       "      <th>1</th>\n",
       "      <td>Afghanistan</td>\n",
       "      <td>no data</td>\n",
       "      <td>no data</td>\n",
       "      <td>no data</td>\n",
       "      <td>no data</td>\n",
       "      <td>no data</td>\n",
       "      <td>no data</td>\n",
       "      <td>no data</td>\n",
       "      <td>no data</td>\n",
       "      <td>no data</td>\n",
       "      <td>...</td>\n",
       "      <td>-2.4</td>\n",
       "      <td>-14.5</td>\n",
       "      <td>-6.2</td>\n",
       "      <td>2.7</td>\n",
       "      <td>no data</td>\n",
       "      <td>no data</td>\n",
       "      <td>no data</td>\n",
       "      <td>no data</td>\n",
       "      <td>no data</td>\n",
       "      <td>no data</td>\n",
       "    </tr>\n",
       "    <tr>\n",
       "      <th>2</th>\n",
       "      <td>Albania</td>\n",
       "      <td>2.7</td>\n",
       "      <td>5.7</td>\n",
       "      <td>2.9</td>\n",
       "      <td>1.1</td>\n",
       "      <td>2</td>\n",
       "      <td>-1.5</td>\n",
       "      <td>5.6</td>\n",
       "      <td>-0.8</td>\n",
       "      <td>-1.4</td>\n",
       "      <td>...</td>\n",
       "      <td>-3.3</td>\n",
       "      <td>8.9</td>\n",
       "      <td>4.9</td>\n",
       "      <td>3.5</td>\n",
       "      <td>3.3</td>\n",
       "      <td>3.4</td>\n",
       "      <td>3.5</td>\n",
       "      <td>3.5</td>\n",
       "      <td>3.5</td>\n",
       "      <td>3.5</td>\n",
       "    </tr>\n",
       "    <tr>\n",
       "      <th>3</th>\n",
       "      <td>Algeria</td>\n",
       "      <td>-5.4</td>\n",
       "      <td>3</td>\n",
       "      <td>6.4</td>\n",
       "      <td>5.4</td>\n",
       "      <td>5.6</td>\n",
       "      <td>5.6</td>\n",
       "      <td>-0.2</td>\n",
       "      <td>-0.7</td>\n",
       "      <td>-1.9</td>\n",
       "      <td>...</td>\n",
       "      <td>-5</td>\n",
       "      <td>3.8</td>\n",
       "      <td>3.6</td>\n",
       "      <td>4.1</td>\n",
       "      <td>3.8</td>\n",
       "      <td>3</td>\n",
       "      <td>2.5</td>\n",
       "      <td>2.1</td>\n",
       "      <td>2.1</td>\n",
       "      <td>2.1</td>\n",
       "    </tr>\n",
       "    <tr>\n",
       "      <th>4</th>\n",
       "      <td>Andorra</td>\n",
       "      <td>no data</td>\n",
       "      <td>no data</td>\n",
       "      <td>no data</td>\n",
       "      <td>no data</td>\n",
       "      <td>no data</td>\n",
       "      <td>no data</td>\n",
       "      <td>no data</td>\n",
       "      <td>no data</td>\n",
       "      <td>no data</td>\n",
       "      <td>...</td>\n",
       "      <td>-11.2</td>\n",
       "      <td>8.3</td>\n",
       "      <td>9.6</td>\n",
       "      <td>1.4</td>\n",
       "      <td>1.4</td>\n",
       "      <td>1.6</td>\n",
       "      <td>1.5</td>\n",
       "      <td>1.5</td>\n",
       "      <td>1.5</td>\n",
       "      <td>1.5</td>\n",
       "    </tr>\n",
       "    <tr>\n",
       "      <th>...</th>\n",
       "      <td>...</td>\n",
       "      <td>...</td>\n",
       "      <td>...</td>\n",
       "      <td>...</td>\n",
       "      <td>...</td>\n",
       "      <td>...</td>\n",
       "      <td>...</td>\n",
       "      <td>...</td>\n",
       "      <td>...</td>\n",
       "      <td>...</td>\n",
       "      <td>...</td>\n",
       "      <td>...</td>\n",
       "      <td>...</td>\n",
       "      <td>...</td>\n",
       "      <td>...</td>\n",
       "      <td>...</td>\n",
       "      <td>...</td>\n",
       "      <td>...</td>\n",
       "      <td>...</td>\n",
       "      <td>...</td>\n",
       "      <td>...</td>\n",
       "    </tr>\n",
       "    <tr>\n",
       "      <th>226</th>\n",
       "      <td>Other advanced economies</td>\n",
       "      <td>3.6</td>\n",
       "      <td>4.2</td>\n",
       "      <td>2.2</td>\n",
       "      <td>4</td>\n",
       "      <td>6.5</td>\n",
       "      <td>4.4</td>\n",
       "      <td>5.5</td>\n",
       "      <td>6.5</td>\n",
       "      <td>5.5</td>\n",
       "      <td>...</td>\n",
       "      <td>-1.6</td>\n",
       "      <td>5.9</td>\n",
       "      <td>2.7</td>\n",
       "      <td>1.8</td>\n",
       "      <td>2.1</td>\n",
       "      <td>2.2</td>\n",
       "      <td>2.3</td>\n",
       "      <td>2.2</td>\n",
       "      <td>2.2</td>\n",
       "      <td>2.1</td>\n",
       "    </tr>\n",
       "    <tr>\n",
       "      <th>227</th>\n",
       "      <td>Sub-Saharan Africa</td>\n",
       "      <td>no data</td>\n",
       "      <td>no data</td>\n",
       "      <td>no data</td>\n",
       "      <td>no data</td>\n",
       "      <td>no data</td>\n",
       "      <td>no data</td>\n",
       "      <td>no data</td>\n",
       "      <td>no data</td>\n",
       "      <td>no data</td>\n",
       "      <td>...</td>\n",
       "      <td>-1.6</td>\n",
       "      <td>4.8</td>\n",
       "      <td>4.1</td>\n",
       "      <td>3.6</td>\n",
       "      <td>3.6</td>\n",
       "      <td>4.2</td>\n",
       "      <td>4.4</td>\n",
       "      <td>4.3</td>\n",
       "      <td>4.4</td>\n",
       "      <td>4.4</td>\n",
       "    </tr>\n",
       "    <tr>\n",
       "      <th>228</th>\n",
       "      <td>World</td>\n",
       "      <td>2.2</td>\n",
       "      <td>2</td>\n",
       "      <td>0.7</td>\n",
       "      <td>2.7</td>\n",
       "      <td>4.6</td>\n",
       "      <td>3.7</td>\n",
       "      <td>3.4</td>\n",
       "      <td>3.9</td>\n",
       "      <td>4.5</td>\n",
       "      <td>...</td>\n",
       "      <td>-2.7</td>\n",
       "      <td>6.6</td>\n",
       "      <td>3.6</td>\n",
       "      <td>3.3</td>\n",
       "      <td>3.2</td>\n",
       "      <td>3.2</td>\n",
       "      <td>3.3</td>\n",
       "      <td>3.2</td>\n",
       "      <td>3.1</td>\n",
       "      <td>3.1</td>\n",
       "    </tr>\n",
       "    <tr>\n",
       "      <th>229</th>\n",
       "      <td>NaN</td>\n",
       "      <td>NaN</td>\n",
       "      <td>NaN</td>\n",
       "      <td>NaN</td>\n",
       "      <td>NaN</td>\n",
       "      <td>NaN</td>\n",
       "      <td>NaN</td>\n",
       "      <td>NaN</td>\n",
       "      <td>NaN</td>\n",
       "      <td>NaN</td>\n",
       "      <td>...</td>\n",
       "      <td>NaN</td>\n",
       "      <td>NaN</td>\n",
       "      <td>NaN</td>\n",
       "      <td>NaN</td>\n",
       "      <td>NaN</td>\n",
       "      <td>NaN</td>\n",
       "      <td>NaN</td>\n",
       "      <td>NaN</td>\n",
       "      <td>NaN</td>\n",
       "      <td>NaN</td>\n",
       "    </tr>\n",
       "    <tr>\n",
       "      <th>230</th>\n",
       "      <td>©IMF, 2024</td>\n",
       "      <td>NaN</td>\n",
       "      <td>NaN</td>\n",
       "      <td>NaN</td>\n",
       "      <td>NaN</td>\n",
       "      <td>NaN</td>\n",
       "      <td>NaN</td>\n",
       "      <td>NaN</td>\n",
       "      <td>NaN</td>\n",
       "      <td>NaN</td>\n",
       "      <td>...</td>\n",
       "      <td>NaN</td>\n",
       "      <td>NaN</td>\n",
       "      <td>NaN</td>\n",
       "      <td>NaN</td>\n",
       "      <td>NaN</td>\n",
       "      <td>NaN</td>\n",
       "      <td>NaN</td>\n",
       "      <td>NaN</td>\n",
       "      <td>NaN</td>\n",
       "      <td>NaN</td>\n",
       "    </tr>\n",
       "  </tbody>\n",
       "</table>\n",
       "<p>231 rows × 51 columns</p>\n",
       "</div>"
      ],
      "text/plain": [
       "               country/region     1980     1981     1982     1983     1984  \\\n",
       "0                         NaN      NaN      NaN      NaN      NaN      NaN   \n",
       "1                 Afghanistan  no data  no data  no data  no data  no data   \n",
       "2                     Albania      2.7      5.7      2.9      1.1        2   \n",
       "3                     Algeria     -5.4        3      6.4      5.4      5.6   \n",
       "4                     Andorra  no data  no data  no data  no data  no data   \n",
       "..                        ...      ...      ...      ...      ...      ...   \n",
       "226  Other advanced economies      3.6      4.2      2.2        4      6.5   \n",
       "227        Sub-Saharan Africa  no data  no data  no data  no data  no data   \n",
       "228                     World      2.2        2      0.7      2.7      4.6   \n",
       "229                       NaN      NaN      NaN      NaN      NaN      NaN   \n",
       "230                ©IMF, 2024      NaN      NaN      NaN      NaN      NaN   \n",
       "\n",
       "        1985     1986     1987     1988  ...  2020  2021 2022 2023     2024  \\\n",
       "0        NaN      NaN      NaN      NaN  ...   NaN   NaN  NaN  NaN      NaN   \n",
       "1    no data  no data  no data  no data  ...  -2.4 -14.5 -6.2  2.7  no data   \n",
       "2       -1.5      5.6     -0.8     -1.4  ...  -3.3   8.9  4.9  3.5      3.3   \n",
       "3        5.6     -0.2     -0.7     -1.9  ...    -5   3.8  3.6  4.1      3.8   \n",
       "4    no data  no data  no data  no data  ... -11.2   8.3  9.6  1.4      1.4   \n",
       "..       ...      ...      ...      ...  ...   ...   ...  ...  ...      ...   \n",
       "226      4.4      5.5      6.5      5.5  ...  -1.6   5.9  2.7  1.8      2.1   \n",
       "227  no data  no data  no data  no data  ...  -1.6   4.8  4.1  3.6      3.6   \n",
       "228      3.7      3.4      3.9      4.5  ...  -2.7   6.6  3.6  3.3      3.2   \n",
       "229      NaN      NaN      NaN      NaN  ...   NaN   NaN  NaN  NaN      NaN   \n",
       "230      NaN      NaN      NaN      NaN  ...   NaN   NaN  NaN  NaN      NaN   \n",
       "\n",
       "        2025     2026     2027     2028     2029  \n",
       "0        NaN      NaN      NaN      NaN      NaN  \n",
       "1    no data  no data  no data  no data  no data  \n",
       "2        3.4      3.5      3.5      3.5      3.5  \n",
       "3          3      2.5      2.1      2.1      2.1  \n",
       "4        1.6      1.5      1.5      1.5      1.5  \n",
       "..       ...      ...      ...      ...      ...  \n",
       "226      2.2      2.3      2.2      2.2      2.1  \n",
       "227      4.2      4.4      4.3      4.4      4.4  \n",
       "228      3.2      3.3      3.2      3.1      3.1  \n",
       "229      NaN      NaN      NaN      NaN      NaN  \n",
       "230      NaN      NaN      NaN      NaN      NaN  \n",
       "\n",
       "[231 rows x 51 columns]"
      ]
     },
     "execution_count": 61,
     "metadata": {},
     "output_type": "execute_result"
    }
   ],
   "source": [
    "#Organize the database: the initial column Real GDP Growth has the name of the country/regions\n",
    "eg=eg.rename(columns={'Real GDP growth (Annual percent change)': 'country/region'})\n",
    "eg"
   ]
  },
  {
   "cell_type": "code",
   "execution_count": 62,
   "id": "35d8fce0-0990-424f-b9da-44e5d8d95adb",
   "metadata": {},
   "outputs": [
    {
     "data": {
      "text/html": [
       "<div>\n",
       "<style scoped>\n",
       "    .dataframe tbody tr th:only-of-type {\n",
       "        vertical-align: middle;\n",
       "    }\n",
       "\n",
       "    .dataframe tbody tr th {\n",
       "        vertical-align: top;\n",
       "    }\n",
       "\n",
       "    .dataframe thead th {\n",
       "        text-align: right;\n",
       "    }\n",
       "</style>\n",
       "<table border=\"1\" class=\"dataframe\">\n",
       "  <thead>\n",
       "    <tr style=\"text-align: right;\">\n",
       "      <th></th>\n",
       "      <th>country/region</th>\n",
       "      <th>Year</th>\n",
       "      <th>Real GDP growth (Annual percent change)</th>\n",
       "    </tr>\n",
       "  </thead>\n",
       "  <tbody>\n",
       "    <tr>\n",
       "      <th>1</th>\n",
       "      <td>Afghanistan</td>\n",
       "      <td>1980</td>\n",
       "      <td>no data</td>\n",
       "    </tr>\n",
       "    <tr>\n",
       "      <th>2</th>\n",
       "      <td>Albania</td>\n",
       "      <td>1980</td>\n",
       "      <td>2.7</td>\n",
       "    </tr>\n",
       "    <tr>\n",
       "      <th>3</th>\n",
       "      <td>Algeria</td>\n",
       "      <td>1980</td>\n",
       "      <td>-5.4</td>\n",
       "    </tr>\n",
       "    <tr>\n",
       "      <th>4</th>\n",
       "      <td>Andorra</td>\n",
       "      <td>1980</td>\n",
       "      <td>no data</td>\n",
       "    </tr>\n",
       "    <tr>\n",
       "      <th>5</th>\n",
       "      <td>Angola</td>\n",
       "      <td>1980</td>\n",
       "      <td>2.4</td>\n",
       "    </tr>\n",
       "    <tr>\n",
       "      <th>...</th>\n",
       "      <td>...</td>\n",
       "      <td>...</td>\n",
       "      <td>...</td>\n",
       "    </tr>\n",
       "    <tr>\n",
       "      <th>11543</th>\n",
       "      <td>Major advanced economies (G7)</td>\n",
       "      <td>2029</td>\n",
       "      <td>1.6</td>\n",
       "    </tr>\n",
       "    <tr>\n",
       "      <th>11544</th>\n",
       "      <td>Middle East and Central Asia</td>\n",
       "      <td>2029</td>\n",
       "      <td>3.8</td>\n",
       "    </tr>\n",
       "    <tr>\n",
       "      <th>11545</th>\n",
       "      <td>Other advanced economies</td>\n",
       "      <td>2029</td>\n",
       "      <td>2.1</td>\n",
       "    </tr>\n",
       "    <tr>\n",
       "      <th>11546</th>\n",
       "      <td>Sub-Saharan Africa</td>\n",
       "      <td>2029</td>\n",
       "      <td>4.4</td>\n",
       "    </tr>\n",
       "    <tr>\n",
       "      <th>11547</th>\n",
       "      <td>World</td>\n",
       "      <td>2029</td>\n",
       "      <td>3.1</td>\n",
       "    </tr>\n",
       "  </tbody>\n",
       "</table>\n",
       "<p>11400 rows × 3 columns</p>\n",
       "</div>"
      ],
      "text/plain": [
       "                      country/region  Year  \\\n",
       "1                        Afghanistan  1980   \n",
       "2                            Albania  1980   \n",
       "3                            Algeria  1980   \n",
       "4                            Andorra  1980   \n",
       "5                             Angola  1980   \n",
       "...                              ...   ...   \n",
       "11543  Major advanced economies (G7)  2029   \n",
       "11544   Middle East and Central Asia  2029   \n",
       "11545       Other advanced economies  2029   \n",
       "11546             Sub-Saharan Africa  2029   \n",
       "11547                          World  2029   \n",
       "\n",
       "      Real GDP growth (Annual percent change)  \n",
       "1                                     no data  \n",
       "2                                         2.7  \n",
       "3                                        -5.4  \n",
       "4                                     no data  \n",
       "5                                         2.4  \n",
       "...                                       ...  \n",
       "11543                                     1.6  \n",
       "11544                                     3.8  \n",
       "11545                                     2.1  \n",
       "11546                                     4.4  \n",
       "11547                                     3.1  \n",
       "\n",
       "[11400 rows x 3 columns]"
      ]
     },
     "execution_count": 62,
     "metadata": {},
     "output_type": "execute_result"
    }
   ],
   "source": [
    "#Reshape the data\n",
    "\n",
    "eg_by_country_by_year = eg.melt(\n",
    "        id_vars=['country/region'],\n",
    "        var_name='Year',\n",
    "        value_name='Real GDP growth (Annual percent change)',\n",
    "    ).dropna()\n",
    "\n",
    "\n",
    "eg_by_country_by_year"
   ]
  },
  {
   "cell_type": "code",
   "execution_count": 63,
   "id": "1c4185e1-4bdb-4ae0-a8b2-0f37010bf8a0",
   "metadata": {},
   "outputs": [
    {
     "data": {
      "text/html": [
       "<div>\n",
       "<style scoped>\n",
       "    .dataframe tbody tr th:only-of-type {\n",
       "        vertical-align: middle;\n",
       "    }\n",
       "\n",
       "    .dataframe tbody tr th {\n",
       "        vertical-align: top;\n",
       "    }\n",
       "\n",
       "    .dataframe thead th {\n",
       "        text-align: right;\n",
       "    }\n",
       "</style>\n",
       "<table border=\"1\" class=\"dataframe\">\n",
       "  <thead>\n",
       "    <tr style=\"text-align: right;\">\n",
       "      <th></th>\n",
       "      <th>country/region</th>\n",
       "      <th>Year</th>\n",
       "      <th>Real GDP growth (Annual percent change)</th>\n",
       "    </tr>\n",
       "  </thead>\n",
       "  <tbody>\n",
       "    <tr>\n",
       "      <th>1</th>\n",
       "      <td>Afghanistan</td>\n",
       "      <td>1980</td>\n",
       "      <td>&lt;NA&gt;</td>\n",
       "    </tr>\n",
       "    <tr>\n",
       "      <th>2</th>\n",
       "      <td>Albania</td>\n",
       "      <td>1980</td>\n",
       "      <td>2.7</td>\n",
       "    </tr>\n",
       "    <tr>\n",
       "      <th>3</th>\n",
       "      <td>Algeria</td>\n",
       "      <td>1980</td>\n",
       "      <td>-5.4</td>\n",
       "    </tr>\n",
       "    <tr>\n",
       "      <th>4</th>\n",
       "      <td>Andorra</td>\n",
       "      <td>1980</td>\n",
       "      <td>&lt;NA&gt;</td>\n",
       "    </tr>\n",
       "    <tr>\n",
       "      <th>5</th>\n",
       "      <td>Angola</td>\n",
       "      <td>1980</td>\n",
       "      <td>2.4</td>\n",
       "    </tr>\n",
       "    <tr>\n",
       "      <th>...</th>\n",
       "      <td>...</td>\n",
       "      <td>...</td>\n",
       "      <td>...</td>\n",
       "    </tr>\n",
       "    <tr>\n",
       "      <th>11543</th>\n",
       "      <td>Major advanced economies (G7)</td>\n",
       "      <td>2029</td>\n",
       "      <td>1.6</td>\n",
       "    </tr>\n",
       "    <tr>\n",
       "      <th>11544</th>\n",
       "      <td>Middle East and Central Asia</td>\n",
       "      <td>2029</td>\n",
       "      <td>3.8</td>\n",
       "    </tr>\n",
       "    <tr>\n",
       "      <th>11545</th>\n",
       "      <td>Other advanced economies</td>\n",
       "      <td>2029</td>\n",
       "      <td>2.1</td>\n",
       "    </tr>\n",
       "    <tr>\n",
       "      <th>11546</th>\n",
       "      <td>Sub-Saharan Africa</td>\n",
       "      <td>2029</td>\n",
       "      <td>4.4</td>\n",
       "    </tr>\n",
       "    <tr>\n",
       "      <th>11547</th>\n",
       "      <td>World</td>\n",
       "      <td>2029</td>\n",
       "      <td>3.1</td>\n",
       "    </tr>\n",
       "  </tbody>\n",
       "</table>\n",
       "<p>11400 rows × 3 columns</p>\n",
       "</div>"
      ],
      "text/plain": [
       "                      country/region  Year  \\\n",
       "1                        Afghanistan  1980   \n",
       "2                            Albania  1980   \n",
       "3                            Algeria  1980   \n",
       "4                            Andorra  1980   \n",
       "5                             Angola  1980   \n",
       "...                              ...   ...   \n",
       "11543  Major advanced economies (G7)  2029   \n",
       "11544   Middle East and Central Asia  2029   \n",
       "11545       Other advanced economies  2029   \n",
       "11546             Sub-Saharan Africa  2029   \n",
       "11547                          World  2029   \n",
       "\n",
       "      Real GDP growth (Annual percent change)  \n",
       "1                                        <NA>  \n",
       "2                                         2.7  \n",
       "3                                        -5.4  \n",
       "4                                        <NA>  \n",
       "5                                         2.4  \n",
       "...                                       ...  \n",
       "11543                                     1.6  \n",
       "11544                                     3.8  \n",
       "11545                                     2.1  \n",
       "11546                                     4.4  \n",
       "11547                                     3.1  \n",
       "\n",
       "[11400 rows x 3 columns]"
      ]
     },
     "execution_count": 63,
     "metadata": {},
     "output_type": "execute_result"
    }
   ],
   "source": [
    "#Ensure that all the missing values are recognized as that by pandas\n",
    "\n",
    "eg_cleaned= eg_by_country_by_year.replace(\n",
    "    {'Real GDP growth (Annual percent change)': ['','no data', 'NaN', 'NA', 'null', 'unknown']},\n",
    "    pd.NA\n",
    ")\n",
    "eg_cleaned"
   ]
  },
  {
   "cell_type": "markdown",
   "id": "0fcee3f4-48d3-4082-953f-fbfbced7e211",
   "metadata": {},
   "source": [
    "**Merging the datasets**"
   ]
  },
  {
   "cell_type": "markdown",
   "id": "b67bcff3-9d7e-491c-9bbe-3c8598d50c9b",
   "metadata": {},
   "source": [
    "My main challenge was to create the key to merge the datasets from the US Energy Administration and the IMF"
   ]
  },
  {
   "cell_type": "code",
   "execution_count": 64,
   "id": "bd82ceb8-77f3-45cd-be51-4673be7471eb",
   "metadata": {},
   "outputs": [],
   "source": [
    "import pycountry\n",
    "import json"
   ]
  },
  {
   "cell_type": "code",
   "execution_count": 65,
   "id": "fdaa0136-a072-4555-a17c-f614f2581513",
   "metadata": {},
   "outputs": [
    {
     "name": "stderr",
     "output_type": "stream",
     "text": [
      "/var/folders/7m/g81vb7mn1psfxqpqbrwl_lmw0000gn/T/ipykernel_26474/1957140535.py:3: SettingWithCopyWarning:\n",
      "\n",
      "\n",
      "A value is trying to be set on a copy of a slice from a DataFrame.\n",
      "Try using .loc[row_indexer,col_indexer] = value instead\n",
      "\n",
      "See the caveats in the documentation: https://pandas.pydata.org/pandas-docs/stable/user_guide/indexing.html#returning-a-view-versus-a-copy\n",
      "\n",
      "/var/folders/7m/g81vb7mn1psfxqpqbrwl_lmw0000gn/T/ipykernel_26474/1957140535.py:20: SettingWithCopyWarning:\n",
      "\n",
      "\n",
      "A value is trying to be set on a copy of a slice from a DataFrame.\n",
      "Try using .loc[row_indexer,col_indexer] = value instead\n",
      "\n",
      "See the caveats in the documentation: https://pandas.pydata.org/pandas-docs/stable/user_guide/indexing.html#returning-a-view-versus-a-copy\n",
      "\n"
     ]
    }
   ],
   "source": [
    "#I used ChatGPT to create this function\n",
    "\n",
    "ei_final['country/region'] = ei_final['country/region'].str.strip()\n",
    "eg_cleaned['country/region'] = eg_cleaned['country/region'].str.strip()\n",
    "\n",
    "with open('country_codes_mapping.json', 'r') as file:\n",
    "    codes_mapping = json.load(file)\n",
    "\n",
    "# Function to get country codes using pycountry with fallback\n",
    "def get_country_code_with_mapping(country_name):\n",
    "    try:\n",
    "        # Attempt to match the country name using pycountry\n",
    "        match = pycountry.countries.lookup(country_name)\n",
    "        return match.alpha_3  # Use alpha_2 for ISO-2 codes if needed\n",
    "    except LookupError:\n",
    "        # Fallback to the JSON mapping\n",
    "        return codes_mapping.get(country_name, None)\n",
    "\n",
    "# Apply the function to the DataFrame\n",
    "ei_final.loc[:,'Country_Code'] = ei_final['country/region'].apply(get_country_code_with_mapping)\n",
    "eg_cleaned.loc[:,'Country_Code'] = eg_cleaned['country/region'].apply(get_country_code_with_mapping)\n"
   ]
  },
  {
   "cell_type": "code",
   "execution_count": 66,
   "id": "d0f31cc8-f0ad-4a75-8d80-470d6c56df80",
   "metadata": {},
   "outputs": [
    {
     "data": {
      "text/html": [
       "<div>\n",
       "<style scoped>\n",
       "    .dataframe tbody tr th:only-of-type {\n",
       "        vertical-align: middle;\n",
       "    }\n",
       "\n",
       "    .dataframe tbody tr th {\n",
       "        vertical-align: top;\n",
       "    }\n",
       "\n",
       "    .dataframe thead th {\n",
       "        text-align: right;\n",
       "    }\n",
       "</style>\n",
       "<table border=\"1\" class=\"dataframe\">\n",
       "  <thead>\n",
       "    <tr style=\"text-align: right;\">\n",
       "      <th></th>\n",
       "      <th>country/region</th>\n",
       "      <th>Year</th>\n",
       "      <th>Real GDP growth (Annual percent change)</th>\n",
       "      <th>Country_Code</th>\n",
       "    </tr>\n",
       "  </thead>\n",
       "  <tbody>\n",
       "    <tr>\n",
       "      <th>1</th>\n",
       "      <td>Afghanistan</td>\n",
       "      <td>1980</td>\n",
       "      <td>&lt;NA&gt;</td>\n",
       "      <td>AFG</td>\n",
       "    </tr>\n",
       "    <tr>\n",
       "      <th>2</th>\n",
       "      <td>Albania</td>\n",
       "      <td>1980</td>\n",
       "      <td>2.7</td>\n",
       "      <td>ALB</td>\n",
       "    </tr>\n",
       "    <tr>\n",
       "      <th>3</th>\n",
       "      <td>Algeria</td>\n",
       "      <td>1980</td>\n",
       "      <td>-5.4</td>\n",
       "      <td>DZA</td>\n",
       "    </tr>\n",
       "    <tr>\n",
       "      <th>4</th>\n",
       "      <td>Andorra</td>\n",
       "      <td>1980</td>\n",
       "      <td>&lt;NA&gt;</td>\n",
       "      <td>AND</td>\n",
       "    </tr>\n",
       "    <tr>\n",
       "      <th>5</th>\n",
       "      <td>Angola</td>\n",
       "      <td>1980</td>\n",
       "      <td>2.4</td>\n",
       "      <td>AGO</td>\n",
       "    </tr>\n",
       "    <tr>\n",
       "      <th>...</th>\n",
       "      <td>...</td>\n",
       "      <td>...</td>\n",
       "      <td>...</td>\n",
       "      <td>...</td>\n",
       "    </tr>\n",
       "    <tr>\n",
       "      <th>11543</th>\n",
       "      <td>Major advanced economies (G7)</td>\n",
       "      <td>2029</td>\n",
       "      <td>1.6</td>\n",
       "      <td>None</td>\n",
       "    </tr>\n",
       "    <tr>\n",
       "      <th>11544</th>\n",
       "      <td>Middle East and Central Asia</td>\n",
       "      <td>2029</td>\n",
       "      <td>3.8</td>\n",
       "      <td>None</td>\n",
       "    </tr>\n",
       "    <tr>\n",
       "      <th>11545</th>\n",
       "      <td>Other advanced economies</td>\n",
       "      <td>2029</td>\n",
       "      <td>2.1</td>\n",
       "      <td>None</td>\n",
       "    </tr>\n",
       "    <tr>\n",
       "      <th>11546</th>\n",
       "      <td>Sub-Saharan Africa</td>\n",
       "      <td>2029</td>\n",
       "      <td>4.4</td>\n",
       "      <td>None</td>\n",
       "    </tr>\n",
       "    <tr>\n",
       "      <th>11547</th>\n",
       "      <td>World</td>\n",
       "      <td>2029</td>\n",
       "      <td>3.1</td>\n",
       "      <td>World</td>\n",
       "    </tr>\n",
       "  </tbody>\n",
       "</table>\n",
       "<p>11400 rows × 4 columns</p>\n",
       "</div>"
      ],
      "text/plain": [
       "                      country/region  Year  \\\n",
       "1                        Afghanistan  1980   \n",
       "2                            Albania  1980   \n",
       "3                            Algeria  1980   \n",
       "4                            Andorra  1980   \n",
       "5                             Angola  1980   \n",
       "...                              ...   ...   \n",
       "11543  Major advanced economies (G7)  2029   \n",
       "11544   Middle East and Central Asia  2029   \n",
       "11545       Other advanced economies  2029   \n",
       "11546             Sub-Saharan Africa  2029   \n",
       "11547                          World  2029   \n",
       "\n",
       "      Real GDP growth (Annual percent change) Country_Code  \n",
       "1                                        <NA>          AFG  \n",
       "2                                         2.7          ALB  \n",
       "3                                        -5.4          DZA  \n",
       "4                                        <NA>          AND  \n",
       "5                                         2.4          AGO  \n",
       "...                                       ...          ...  \n",
       "11543                                     1.6         None  \n",
       "11544                                     3.8         None  \n",
       "11545                                     2.1         None  \n",
       "11546                                     4.4         None  \n",
       "11547                                     3.1        World  \n",
       "\n",
       "[11400 rows x 4 columns]"
      ]
     },
     "execution_count": 66,
     "metadata": {},
     "output_type": "execute_result"
    }
   ],
   "source": [
    "\n",
    "eg_cleaned"
   ]
  },
  {
   "cell_type": "code",
   "execution_count": 67,
   "id": "aa41038c-4680-4ddb-a03d-89fe47248b45",
   "metadata": {},
   "outputs": [
    {
     "data": {
      "text/html": [
       "<div>\n",
       "<style scoped>\n",
       "    .dataframe tbody tr th:only-of-type {\n",
       "        vertical-align: middle;\n",
       "    }\n",
       "\n",
       "    .dataframe tbody tr th {\n",
       "        vertical-align: top;\n",
       "    }\n",
       "\n",
       "    .dataframe thead th {\n",
       "        text-align: right;\n",
       "    }\n",
       "</style>\n",
       "<table border=\"1\" class=\"dataframe\">\n",
       "  <thead>\n",
       "    <tr style=\"text-align: right;\">\n",
       "      <th></th>\n",
       "      <th>country/region</th>\n",
       "      <th>Country_classification</th>\n",
       "      <th>Year</th>\n",
       "      <th>Energy Intensity (1000 Btu/2015$ GDP PPP)</th>\n",
       "      <th>Country_Code</th>\n",
       "    </tr>\n",
       "  </thead>\n",
       "  <tbody>\n",
       "    <tr>\n",
       "      <th>0</th>\n",
       "      <td>World</td>\n",
       "      <td>&lt;NA&gt;</td>\n",
       "      <td>1980</td>\n",
       "      <td>9.976818</td>\n",
       "      <td>World</td>\n",
       "    </tr>\n",
       "    <tr>\n",
       "      <th>3</th>\n",
       "      <td>Algeria</td>\n",
       "      <td>Emerging and Developing Economies</td>\n",
       "      <td>1980</td>\n",
       "      <td>3.817798</td>\n",
       "      <td>DZA</td>\n",
       "    </tr>\n",
       "    <tr>\n",
       "      <th>8</th>\n",
       "      <td>Argentina</td>\n",
       "      <td>Emerging and Developing Economies</td>\n",
       "      <td>1980</td>\n",
       "      <td>3.564045</td>\n",
       "      <td>ARG</td>\n",
       "    </tr>\n",
       "    <tr>\n",
       "      <th>11</th>\n",
       "      <td>Australia</td>\n",
       "      <td>Advanced Economies</td>\n",
       "      <td>1980</td>\n",
       "      <td>7.929713</td>\n",
       "      <td>AUS</td>\n",
       "    </tr>\n",
       "    <tr>\n",
       "      <th>12</th>\n",
       "      <td>Austria</td>\n",
       "      <td>Advanced Economies</td>\n",
       "      <td>1980</td>\n",
       "      <td>4.227962</td>\n",
       "      <td>AUT</td>\n",
       "    </tr>\n",
       "    <tr>\n",
       "      <th>...</th>\n",
       "      <td>...</td>\n",
       "      <td>...</td>\n",
       "      <td>...</td>\n",
       "      <td>...</td>\n",
       "      <td>...</td>\n",
       "    </tr>\n",
       "    <tr>\n",
       "      <th>9926</th>\n",
       "      <td>Venezuela</td>\n",
       "      <td>Emerging and Developing Economies</td>\n",
       "      <td>2022</td>\n",
       "      <td>10.469015</td>\n",
       "      <td>VEN</td>\n",
       "    </tr>\n",
       "    <tr>\n",
       "      <th>9927</th>\n",
       "      <td>Vietnam</td>\n",
       "      <td>Emerging and Developing Economies</td>\n",
       "      <td>2022</td>\n",
       "      <td>3.652843</td>\n",
       "      <td>VNM</td>\n",
       "    </tr>\n",
       "    <tr>\n",
       "      <th>9930</th>\n",
       "      <td>Yemen</td>\n",
       "      <td>Emerging and Developing Economies</td>\n",
       "      <td>2022</td>\n",
       "      <td>2.493944</td>\n",
       "      <td>YEM</td>\n",
       "    </tr>\n",
       "    <tr>\n",
       "      <th>9931</th>\n",
       "      <td>Zambia</td>\n",
       "      <td>Emerging and Developing Economies</td>\n",
       "      <td>2022</td>\n",
       "      <td>2.114452</td>\n",
       "      <td>ZMB</td>\n",
       "    </tr>\n",
       "    <tr>\n",
       "      <th>9932</th>\n",
       "      <td>Zimbabwe</td>\n",
       "      <td>Emerging and Developing Economies</td>\n",
       "      <td>2022</td>\n",
       "      <td>4.689344</td>\n",
       "      <td>ZWE</td>\n",
       "    </tr>\n",
       "  </tbody>\n",
       "</table>\n",
       "<p>6784 rows × 5 columns</p>\n",
       "</div>"
      ],
      "text/plain": [
       "     country/region             Country_classification  Year  \\\n",
       "0             World                               <NA>  1980   \n",
       "3           Algeria  Emerging and Developing Economies  1980   \n",
       "8         Argentina  Emerging and Developing Economies  1980   \n",
       "11        Australia                 Advanced Economies  1980   \n",
       "12          Austria                 Advanced Economies  1980   \n",
       "...             ...                                ...   ...   \n",
       "9926      Venezuela  Emerging and Developing Economies  2022   \n",
       "9927        Vietnam  Emerging and Developing Economies  2022   \n",
       "9930          Yemen  Emerging and Developing Economies  2022   \n",
       "9931         Zambia  Emerging and Developing Economies  2022   \n",
       "9932       Zimbabwe  Emerging and Developing Economies  2022   \n",
       "\n",
       "      Energy Intensity (1000 Btu/2015$ GDP PPP) Country_Code  \n",
       "0                                      9.976818        World  \n",
       "3                                      3.817798          DZA  \n",
       "8                                      3.564045          ARG  \n",
       "11                                     7.929713          AUS  \n",
       "12                                     4.227962          AUT  \n",
       "...                                         ...          ...  \n",
       "9926                                  10.469015          VEN  \n",
       "9927                                   3.652843          VNM  \n",
       "9930                                   2.493944          YEM  \n",
       "9931                                   2.114452          ZMB  \n",
       "9932                                   4.689344          ZWE  \n",
       "\n",
       "[6784 rows x 5 columns]"
      ]
     },
     "execution_count": 67,
     "metadata": {},
     "output_type": "execute_result"
    }
   ],
   "source": [
    "ei_final"
   ]
  },
  {
   "cell_type": "code",
   "execution_count": 68,
   "id": "4ac53c59-b344-472f-af28-32de00e8a4c6",
   "metadata": {},
   "outputs": [
    {
     "name": "stdout",
     "output_type": "stream",
     "text": [
      "Still unmatched countries: []\n"
     ]
    }
   ],
   "source": [
    "unmatched = ei_final[ei_final['Country_Code'].isna()]['country/region'].unique()\n",
    "print(\"Still unmatched countries:\", unmatched)"
   ]
  },
  {
   "cell_type": "code",
   "execution_count": 69,
   "id": "3b30e179-ba0f-423c-a9cd-062975e3552a",
   "metadata": {},
   "outputs": [
    {
     "name": "stdout",
     "output_type": "stream",
     "text": [
      "Still unmatched countries: ['Africa (Region)' 'Asia and Pacific' 'Australia and New Zealand'\n",
      " 'Caribbean' 'Central America' 'Central Asia and the Caucasus' 'East Asia'\n",
      " 'Eastern Europe' 'Europe' 'Middle East (Region)' 'North Africa'\n",
      " 'North America' 'Pacific Islands' 'South America' 'South Asia'\n",
      " 'Southeast Asia' 'Sub-Saharan Africa (Region)' 'Western Europe'\n",
      " 'Western Hemisphere (Region)' 'ASEAN-5' 'Advanced economies'\n",
      " 'Emerging and Developing Asia' 'Emerging and Developing Europe'\n",
      " 'Emerging market and developing economies' 'Euro area' 'European Union'\n",
      " 'Latin America and the Caribbean' 'Major advanced economies (G7)'\n",
      " 'Middle East and Central Asia' 'Other advanced economies'\n",
      " 'Sub-Saharan Africa']\n"
     ]
    }
   ],
   "source": [
    "unmatched2 = eg_cleaned[eg_cleaned['Country_Code'].isna()]['country/region'].unique()\n",
    "print(\"Still unmatched countries:\", unmatched2)"
   ]
  },
  {
   "cell_type": "code",
   "execution_count": 70,
   "id": "58c3762c-5a46-454e-9609-7d2ffd15f431",
   "metadata": {},
   "outputs": [
    {
     "data": {
      "text/html": [
       "<div>\n",
       "<style scoped>\n",
       "    .dataframe tbody tr th:only-of-type {\n",
       "        vertical-align: middle;\n",
       "    }\n",
       "\n",
       "    .dataframe tbody tr th {\n",
       "        vertical-align: top;\n",
       "    }\n",
       "\n",
       "    .dataframe thead th {\n",
       "        text-align: right;\n",
       "    }\n",
       "</style>\n",
       "<table border=\"1\" class=\"dataframe\">\n",
       "  <thead>\n",
       "    <tr style=\"text-align: right;\">\n",
       "      <th></th>\n",
       "      <th>country/region_x</th>\n",
       "      <th>Country_classification</th>\n",
       "      <th>Year</th>\n",
       "      <th>Energy Intensity (1000 Btu/2015$ GDP PPP)</th>\n",
       "      <th>Country_Code</th>\n",
       "      <th>country/region_y</th>\n",
       "      <th>Real GDP growth (Annual percent change)</th>\n",
       "    </tr>\n",
       "  </thead>\n",
       "  <tbody>\n",
       "    <tr>\n",
       "      <th>0</th>\n",
       "      <td>NaN</td>\n",
       "      <td>NaN</td>\n",
       "      <td>1980</td>\n",
       "      <td>NaN</td>\n",
       "      <td>ABW</td>\n",
       "      <td>Aruba</td>\n",
       "      <td>&lt;NA&gt;</td>\n",
       "    </tr>\n",
       "    <tr>\n",
       "      <th>1</th>\n",
       "      <td>NaN</td>\n",
       "      <td>NaN</td>\n",
       "      <td>1981</td>\n",
       "      <td>NaN</td>\n",
       "      <td>ABW</td>\n",
       "      <td>Aruba</td>\n",
       "      <td>&lt;NA&gt;</td>\n",
       "    </tr>\n",
       "    <tr>\n",
       "      <th>2</th>\n",
       "      <td>NaN</td>\n",
       "      <td>NaN</td>\n",
       "      <td>1982</td>\n",
       "      <td>NaN</td>\n",
       "      <td>ABW</td>\n",
       "      <td>Aruba</td>\n",
       "      <td>&lt;NA&gt;</td>\n",
       "    </tr>\n",
       "    <tr>\n",
       "      <th>3</th>\n",
       "      <td>NaN</td>\n",
       "      <td>NaN</td>\n",
       "      <td>1983</td>\n",
       "      <td>NaN</td>\n",
       "      <td>ABW</td>\n",
       "      <td>Aruba</td>\n",
       "      <td>&lt;NA&gt;</td>\n",
       "    </tr>\n",
       "    <tr>\n",
       "      <th>4</th>\n",
       "      <td>NaN</td>\n",
       "      <td>NaN</td>\n",
       "      <td>1984</td>\n",
       "      <td>NaN</td>\n",
       "      <td>ABW</td>\n",
       "      <td>Aruba</td>\n",
       "      <td>&lt;NA&gt;</td>\n",
       "    </tr>\n",
       "    <tr>\n",
       "      <th>...</th>\n",
       "      <td>...</td>\n",
       "      <td>...</td>\n",
       "      <td>...</td>\n",
       "      <td>...</td>\n",
       "      <td>...</td>\n",
       "      <td>...</td>\n",
       "      <td>...</td>\n",
       "    </tr>\n",
       "    <tr>\n",
       "      <th>11430</th>\n",
       "      <td>NaN</td>\n",
       "      <td>NaN</td>\n",
       "      <td>2029</td>\n",
       "      <td>NaN</td>\n",
       "      <td>None</td>\n",
       "      <td>Latin America and the Caribbean</td>\n",
       "      <td>2.6</td>\n",
       "    </tr>\n",
       "    <tr>\n",
       "      <th>11431</th>\n",
       "      <td>NaN</td>\n",
       "      <td>NaN</td>\n",
       "      <td>2029</td>\n",
       "      <td>NaN</td>\n",
       "      <td>None</td>\n",
       "      <td>Major advanced economies (G7)</td>\n",
       "      <td>1.6</td>\n",
       "    </tr>\n",
       "    <tr>\n",
       "      <th>11432</th>\n",
       "      <td>NaN</td>\n",
       "      <td>NaN</td>\n",
       "      <td>2029</td>\n",
       "      <td>NaN</td>\n",
       "      <td>None</td>\n",
       "      <td>Middle East and Central Asia</td>\n",
       "      <td>3.8</td>\n",
       "    </tr>\n",
       "    <tr>\n",
       "      <th>11433</th>\n",
       "      <td>NaN</td>\n",
       "      <td>NaN</td>\n",
       "      <td>2029</td>\n",
       "      <td>NaN</td>\n",
       "      <td>None</td>\n",
       "      <td>Other advanced economies</td>\n",
       "      <td>2.1</td>\n",
       "    </tr>\n",
       "    <tr>\n",
       "      <th>11434</th>\n",
       "      <td>NaN</td>\n",
       "      <td>NaN</td>\n",
       "      <td>2029</td>\n",
       "      <td>NaN</td>\n",
       "      <td>None</td>\n",
       "      <td>Sub-Saharan Africa</td>\n",
       "      <td>4.4</td>\n",
       "    </tr>\n",
       "  </tbody>\n",
       "</table>\n",
       "<p>11435 rows × 7 columns</p>\n",
       "</div>"
      ],
      "text/plain": [
       "      country/region_x Country_classification  Year  \\\n",
       "0                  NaN                    NaN  1980   \n",
       "1                  NaN                    NaN  1981   \n",
       "2                  NaN                    NaN  1982   \n",
       "3                  NaN                    NaN  1983   \n",
       "4                  NaN                    NaN  1984   \n",
       "...                ...                    ...   ...   \n",
       "11430              NaN                    NaN  2029   \n",
       "11431              NaN                    NaN  2029   \n",
       "11432              NaN                    NaN  2029   \n",
       "11433              NaN                    NaN  2029   \n",
       "11434              NaN                    NaN  2029   \n",
       "\n",
       "       Energy Intensity (1000 Btu/2015$ GDP PPP) Country_Code  \\\n",
       "0                                            NaN          ABW   \n",
       "1                                            NaN          ABW   \n",
       "2                                            NaN          ABW   \n",
       "3                                            NaN          ABW   \n",
       "4                                            NaN          ABW   \n",
       "...                                          ...          ...   \n",
       "11430                                        NaN         None   \n",
       "11431                                        NaN         None   \n",
       "11432                                        NaN         None   \n",
       "11433                                        NaN         None   \n",
       "11434                                        NaN         None   \n",
       "\n",
       "                      country/region_y Real GDP growth (Annual percent change)  \n",
       "0                                Aruba                                    <NA>  \n",
       "1                                Aruba                                    <NA>  \n",
       "2                                Aruba                                    <NA>  \n",
       "3                                Aruba                                    <NA>  \n",
       "4                                Aruba                                    <NA>  \n",
       "...                                ...                                     ...  \n",
       "11430  Latin America and the Caribbean                                     2.6  \n",
       "11431    Major advanced economies (G7)                                     1.6  \n",
       "11432     Middle East and Central Asia                                     3.8  \n",
       "11433         Other advanced economies                                     2.1  \n",
       "11434               Sub-Saharan Africa                                     4.4  \n",
       "\n",
       "[11435 rows x 7 columns]"
      ]
     },
     "execution_count": 70,
     "metadata": {},
     "output_type": "execute_result"
    }
   ],
   "source": [
    "merged_ei_growth=pd.merge(ei_final, eg_cleaned, on=['Country_Code','Year'], how='outer')\n",
    "\n",
    "merged_ei_growth"
   ]
  },
  {
   "cell_type": "code",
   "execution_count": 71,
   "id": "13b7f580-59b2-4661-a441-c48ce3c21be6",
   "metadata": {},
   "outputs": [
    {
     "data": {
      "text/html": [
       "<div>\n",
       "<style scoped>\n",
       "    .dataframe tbody tr th:only-of-type {\n",
       "        vertical-align: middle;\n",
       "    }\n",
       "\n",
       "    .dataframe tbody tr th {\n",
       "        vertical-align: top;\n",
       "    }\n",
       "\n",
       "    .dataframe thead th {\n",
       "        text-align: right;\n",
       "    }\n",
       "</style>\n",
       "<table border=\"1\" class=\"dataframe\">\n",
       "  <thead>\n",
       "    <tr style=\"text-align: right;\">\n",
       "      <th></th>\n",
       "      <th>country/region_x</th>\n",
       "      <th>Country_classification</th>\n",
       "      <th>Year</th>\n",
       "      <th>Energy Intensity (1000 Btu/2015$ GDP PPP)</th>\n",
       "      <th>Country_Code</th>\n",
       "      <th>country/region_y</th>\n",
       "      <th>Real GDP growth (Annual percent change)</th>\n",
       "    </tr>\n",
       "  </thead>\n",
       "  <tbody>\n",
       "    <tr>\n",
       "      <th>8</th>\n",
       "      <td>Aruba</td>\n",
       "      <td>Emerging and Developing Economies</td>\n",
       "      <td>1988</td>\n",
       "      <td>3.526922</td>\n",
       "      <td>ABW</td>\n",
       "      <td>Aruba</td>\n",
       "      <td>18.6</td>\n",
       "    </tr>\n",
       "    <tr>\n",
       "      <th>9</th>\n",
       "      <td>Aruba</td>\n",
       "      <td>Emerging and Developing Economies</td>\n",
       "      <td>1989</td>\n",
       "      <td>4.181221</td>\n",
       "      <td>ABW</td>\n",
       "      <td>Aruba</td>\n",
       "      <td>12.1</td>\n",
       "    </tr>\n",
       "    <tr>\n",
       "      <th>10</th>\n",
       "      <td>Aruba</td>\n",
       "      <td>Emerging and Developing Economies</td>\n",
       "      <td>1990</td>\n",
       "      <td>4.247954</td>\n",
       "      <td>ABW</td>\n",
       "      <td>Aruba</td>\n",
       "      <td>4</td>\n",
       "    </tr>\n",
       "    <tr>\n",
       "      <th>11</th>\n",
       "      <td>Aruba</td>\n",
       "      <td>Emerging and Developing Economies</td>\n",
       "      <td>1991</td>\n",
       "      <td>4.292166</td>\n",
       "      <td>ABW</td>\n",
       "      <td>Aruba</td>\n",
       "      <td>8</td>\n",
       "    </tr>\n",
       "    <tr>\n",
       "      <th>12</th>\n",
       "      <td>Aruba</td>\n",
       "      <td>Emerging and Developing Economies</td>\n",
       "      <td>1992</td>\n",
       "      <td>4.452706</td>\n",
       "      <td>ABW</td>\n",
       "      <td>Aruba</td>\n",
       "      <td>5.9</td>\n",
       "    </tr>\n",
       "    <tr>\n",
       "      <th>...</th>\n",
       "      <td>...</td>\n",
       "      <td>...</td>\n",
       "      <td>...</td>\n",
       "      <td>...</td>\n",
       "      <td>...</td>\n",
       "      <td>...</td>\n",
       "      <td>...</td>\n",
       "    </tr>\n",
       "    <tr>\n",
       "      <th>9873</th>\n",
       "      <td>Zimbabwe</td>\n",
       "      <td>Emerging and Developing Economies</td>\n",
       "      <td>2018</td>\n",
       "      <td>3.617009</td>\n",
       "      <td>ZWE</td>\n",
       "      <td>Zimbabwe</td>\n",
       "      <td>5</td>\n",
       "    </tr>\n",
       "    <tr>\n",
       "      <th>9874</th>\n",
       "      <td>Zimbabwe</td>\n",
       "      <td>Emerging and Developing Economies</td>\n",
       "      <td>2019</td>\n",
       "      <td>3.498248</td>\n",
       "      <td>ZWE</td>\n",
       "      <td>Zimbabwe</td>\n",
       "      <td>-6.3</td>\n",
       "    </tr>\n",
       "    <tr>\n",
       "      <th>9875</th>\n",
       "      <td>Zimbabwe</td>\n",
       "      <td>Emerging and Developing Economies</td>\n",
       "      <td>2020</td>\n",
       "      <td>3.470777</td>\n",
       "      <td>ZWE</td>\n",
       "      <td>Zimbabwe</td>\n",
       "      <td>-7.8</td>\n",
       "    </tr>\n",
       "    <tr>\n",
       "      <th>9876</th>\n",
       "      <td>Zimbabwe</td>\n",
       "      <td>Emerging and Developing Economies</td>\n",
       "      <td>2021</td>\n",
       "      <td>3.342905</td>\n",
       "      <td>ZWE</td>\n",
       "      <td>Zimbabwe</td>\n",
       "      <td>8.5</td>\n",
       "    </tr>\n",
       "    <tr>\n",
       "      <th>9877</th>\n",
       "      <td>Zimbabwe</td>\n",
       "      <td>Emerging and Developing Economies</td>\n",
       "      <td>2022</td>\n",
       "      <td>4.689344</td>\n",
       "      <td>ZWE</td>\n",
       "      <td>Zimbabwe</td>\n",
       "      <td>6.1</td>\n",
       "    </tr>\n",
       "  </tbody>\n",
       "</table>\n",
       "<p>6577 rows × 7 columns</p>\n",
       "</div>"
      ],
      "text/plain": [
       "     country/region_x             Country_classification  Year  \\\n",
       "8               Aruba  Emerging and Developing Economies  1988   \n",
       "9               Aruba  Emerging and Developing Economies  1989   \n",
       "10              Aruba  Emerging and Developing Economies  1990   \n",
       "11              Aruba  Emerging and Developing Economies  1991   \n",
       "12              Aruba  Emerging and Developing Economies  1992   \n",
       "...               ...                                ...   ...   \n",
       "9873         Zimbabwe  Emerging and Developing Economies  2018   \n",
       "9874         Zimbabwe  Emerging and Developing Economies  2019   \n",
       "9875         Zimbabwe  Emerging and Developing Economies  2020   \n",
       "9876         Zimbabwe  Emerging and Developing Economies  2021   \n",
       "9877         Zimbabwe  Emerging and Developing Economies  2022   \n",
       "\n",
       "      Energy Intensity (1000 Btu/2015$ GDP PPP) Country_Code country/region_y  \\\n",
       "8                                      3.526922          ABW            Aruba   \n",
       "9                                      4.181221          ABW            Aruba   \n",
       "10                                     4.247954          ABW            Aruba   \n",
       "11                                     4.292166          ABW            Aruba   \n",
       "12                                     4.452706          ABW            Aruba   \n",
       "...                                         ...          ...              ...   \n",
       "9873                                   3.617009          ZWE         Zimbabwe   \n",
       "9874                                   3.498248          ZWE         Zimbabwe   \n",
       "9875                                   3.470777          ZWE         Zimbabwe   \n",
       "9876                                   3.342905          ZWE         Zimbabwe   \n",
       "9877                                   4.689344          ZWE         Zimbabwe   \n",
       "\n",
       "     Real GDP growth (Annual percent change)  \n",
       "8                                       18.6  \n",
       "9                                       12.1  \n",
       "10                                         4  \n",
       "11                                         8  \n",
       "12                                       5.9  \n",
       "...                                      ...  \n",
       "9873                                       5  \n",
       "9874                                    -6.3  \n",
       "9875                                    -7.8  \n",
       "9876                                     8.5  \n",
       "9877                                     6.1  \n",
       "\n",
       "[6577 rows x 7 columns]"
      ]
     },
     "execution_count": 71,
     "metadata": {},
     "output_type": "execute_result"
    }
   ],
   "source": [
    "#filter the dataset with valid values in both energy intensity and real GDP growth\n",
    "\n",
    "merged_ei_growth_filtered=merged_ei_growth[\n",
    "    (merged_ei_growth['Energy Intensity (1000 Btu/2015$ GDP PPP)'].notna()) &  \n",
    "    (merged_ei_growth['Real GDP growth (Annual percent change)'].notna()) \n",
    "]\n",
    "\n",
    "merged_ei_growth_filtered"
   ]
  },
  {
   "cell_type": "code",
   "execution_count": 72,
   "id": "c50d3aa9-fb73-4764-86f4-c99390eda7e1",
   "metadata": {},
   "outputs": [
    {
     "name": "stderr",
     "output_type": "stream",
     "text": [
      "/var/folders/7m/g81vb7mn1psfxqpqbrwl_lmw0000gn/T/ipykernel_26474/456028159.py:1: SettingWithCopyWarning:\n",
      "\n",
      "\n",
      "A value is trying to be set on a copy of a slice from a DataFrame.\n",
      "Try using .loc[row_indexer,col_indexer] = value instead\n",
      "\n",
      "See the caveats in the documentation: https://pandas.pydata.org/pandas-docs/stable/user_guide/indexing.html#returning-a-view-versus-a-copy\n",
      "\n"
     ]
    },
    {
     "data": {
      "text/html": [
       "<div>\n",
       "<style scoped>\n",
       "    .dataframe tbody tr th:only-of-type {\n",
       "        vertical-align: middle;\n",
       "    }\n",
       "\n",
       "    .dataframe tbody tr th {\n",
       "        vertical-align: top;\n",
       "    }\n",
       "\n",
       "    .dataframe thead th {\n",
       "        text-align: right;\n",
       "    }\n",
       "</style>\n",
       "<table border=\"1\" class=\"dataframe\">\n",
       "  <thead>\n",
       "    <tr style=\"text-align: right;\">\n",
       "      <th></th>\n",
       "      <th>country/region_x</th>\n",
       "      <th>Country_classification</th>\n",
       "      <th>Year</th>\n",
       "      <th>Energy Intensity (1000 Btu/2015$ GDP PPP)</th>\n",
       "      <th>Country_Code</th>\n",
       "      <th>country/region_y</th>\n",
       "      <th>Real GDP growth (Annual percent change)</th>\n",
       "      <th>Energy Efficiency</th>\n",
       "    </tr>\n",
       "  </thead>\n",
       "  <tbody>\n",
       "    <tr>\n",
       "      <th>8</th>\n",
       "      <td>Aruba</td>\n",
       "      <td>Emerging and Developing Economies</td>\n",
       "      <td>1988</td>\n",
       "      <td>3.526922</td>\n",
       "      <td>ABW</td>\n",
       "      <td>Aruba</td>\n",
       "      <td>18.6</td>\n",
       "      <td>NaN</td>\n",
       "    </tr>\n",
       "    <tr>\n",
       "      <th>9</th>\n",
       "      <td>Aruba</td>\n",
       "      <td>Emerging and Developing Economies</td>\n",
       "      <td>1989</td>\n",
       "      <td>4.181221</td>\n",
       "      <td>ABW</td>\n",
       "      <td>Aruba</td>\n",
       "      <td>12.1</td>\n",
       "      <td>-18.551564</td>\n",
       "    </tr>\n",
       "    <tr>\n",
       "      <th>10</th>\n",
       "      <td>Aruba</td>\n",
       "      <td>Emerging and Developing Economies</td>\n",
       "      <td>1990</td>\n",
       "      <td>4.247954</td>\n",
       "      <td>ABW</td>\n",
       "      <td>Aruba</td>\n",
       "      <td>4</td>\n",
       "      <td>-1.596022</td>\n",
       "    </tr>\n",
       "    <tr>\n",
       "      <th>11</th>\n",
       "      <td>Aruba</td>\n",
       "      <td>Emerging and Developing Economies</td>\n",
       "      <td>1991</td>\n",
       "      <td>4.292166</td>\n",
       "      <td>ABW</td>\n",
       "      <td>Aruba</td>\n",
       "      <td>8</td>\n",
       "      <td>-1.040770</td>\n",
       "    </tr>\n",
       "    <tr>\n",
       "      <th>12</th>\n",
       "      <td>Aruba</td>\n",
       "      <td>Emerging and Developing Economies</td>\n",
       "      <td>1992</td>\n",
       "      <td>4.452706</td>\n",
       "      <td>ABW</td>\n",
       "      <td>Aruba</td>\n",
       "      <td>5.9</td>\n",
       "      <td>-3.740306</td>\n",
       "    </tr>\n",
       "    <tr>\n",
       "      <th>...</th>\n",
       "      <td>...</td>\n",
       "      <td>...</td>\n",
       "      <td>...</td>\n",
       "      <td>...</td>\n",
       "      <td>...</td>\n",
       "      <td>...</td>\n",
       "      <td>...</td>\n",
       "      <td>...</td>\n",
       "    </tr>\n",
       "    <tr>\n",
       "      <th>9873</th>\n",
       "      <td>Zimbabwe</td>\n",
       "      <td>Emerging and Developing Economies</td>\n",
       "      <td>2018</td>\n",
       "      <td>3.617009</td>\n",
       "      <td>ZWE</td>\n",
       "      <td>Zimbabwe</td>\n",
       "      <td>5</td>\n",
       "      <td>-7.577424</td>\n",
       "    </tr>\n",
       "    <tr>\n",
       "      <th>9874</th>\n",
       "      <td>Zimbabwe</td>\n",
       "      <td>Emerging and Developing Economies</td>\n",
       "      <td>2019</td>\n",
       "      <td>3.498248</td>\n",
       "      <td>ZWE</td>\n",
       "      <td>Zimbabwe</td>\n",
       "      <td>-6.3</td>\n",
       "      <td>3.283406</td>\n",
       "    </tr>\n",
       "    <tr>\n",
       "      <th>9875</th>\n",
       "      <td>Zimbabwe</td>\n",
       "      <td>Emerging and Developing Economies</td>\n",
       "      <td>2020</td>\n",
       "      <td>3.470777</td>\n",
       "      <td>ZWE</td>\n",
       "      <td>Zimbabwe</td>\n",
       "      <td>-7.8</td>\n",
       "      <td>0.785273</td>\n",
       "    </tr>\n",
       "    <tr>\n",
       "      <th>9876</th>\n",
       "      <td>Zimbabwe</td>\n",
       "      <td>Emerging and Developing Economies</td>\n",
       "      <td>2021</td>\n",
       "      <td>3.342905</td>\n",
       "      <td>ZWE</td>\n",
       "      <td>Zimbabwe</td>\n",
       "      <td>8.5</td>\n",
       "      <td>3.684267</td>\n",
       "    </tr>\n",
       "    <tr>\n",
       "      <th>9877</th>\n",
       "      <td>Zimbabwe</td>\n",
       "      <td>Emerging and Developing Economies</td>\n",
       "      <td>2022</td>\n",
       "      <td>4.689344</td>\n",
       "      <td>ZWE</td>\n",
       "      <td>Zimbabwe</td>\n",
       "      <td>6.1</td>\n",
       "      <td>-40.277529</td>\n",
       "    </tr>\n",
       "  </tbody>\n",
       "</table>\n",
       "<p>6577 rows × 8 columns</p>\n",
       "</div>"
      ],
      "text/plain": [
       "     country/region_x             Country_classification  Year  \\\n",
       "8               Aruba  Emerging and Developing Economies  1988   \n",
       "9               Aruba  Emerging and Developing Economies  1989   \n",
       "10              Aruba  Emerging and Developing Economies  1990   \n",
       "11              Aruba  Emerging and Developing Economies  1991   \n",
       "12              Aruba  Emerging and Developing Economies  1992   \n",
       "...               ...                                ...   ...   \n",
       "9873         Zimbabwe  Emerging and Developing Economies  2018   \n",
       "9874         Zimbabwe  Emerging and Developing Economies  2019   \n",
       "9875         Zimbabwe  Emerging and Developing Economies  2020   \n",
       "9876         Zimbabwe  Emerging and Developing Economies  2021   \n",
       "9877         Zimbabwe  Emerging and Developing Economies  2022   \n",
       "\n",
       "      Energy Intensity (1000 Btu/2015$ GDP PPP) Country_Code country/region_y  \\\n",
       "8                                      3.526922          ABW            Aruba   \n",
       "9                                      4.181221          ABW            Aruba   \n",
       "10                                     4.247954          ABW            Aruba   \n",
       "11                                     4.292166          ABW            Aruba   \n",
       "12                                     4.452706          ABW            Aruba   \n",
       "...                                         ...          ...              ...   \n",
       "9873                                   3.617009          ZWE         Zimbabwe   \n",
       "9874                                   3.498248          ZWE         Zimbabwe   \n",
       "9875                                   3.470777          ZWE         Zimbabwe   \n",
       "9876                                   3.342905          ZWE         Zimbabwe   \n",
       "9877                                   4.689344          ZWE         Zimbabwe   \n",
       "\n",
       "     Real GDP growth (Annual percent change)  Energy Efficiency  \n",
       "8                                       18.6                NaN  \n",
       "9                                       12.1         -18.551564  \n",
       "10                                         4          -1.596022  \n",
       "11                                         8          -1.040770  \n",
       "12                                       5.9          -3.740306  \n",
       "...                                      ...                ...  \n",
       "9873                                       5          -7.577424  \n",
       "9874                                    -6.3           3.283406  \n",
       "9875                                    -7.8           0.785273  \n",
       "9876                                     8.5           3.684267  \n",
       "9877                                     6.1         -40.277529  \n",
       "\n",
       "[6577 rows x 8 columns]"
      ]
     },
     "execution_count": 72,
     "metadata": {},
     "output_type": "execute_result"
    }
   ],
   "source": [
    "merged_ei_growth_filtered.loc[:, 'Energy Efficiency'] = (\n",
    "    merged_ei_growth_filtered.groupby('country/region_x')[\n",
    "        'Energy Intensity (1000 Btu/2015$ GDP PPP)'\n",
    "    ].pct_change() * -100\n",
    ")\n",
    "\n",
    "merged_ei_growth_filtered"
   ]
  },
  {
   "cell_type": "markdown",
   "id": "8d04becd-43ec-4660-82ba-f4103594b048",
   "metadata": {},
   "source": [
    "## 2.3. Energy efficient improvements and economic growth, 2022"
   ]
  },
  {
   "cell_type": "code",
   "execution_count": 73,
   "id": "1a181e0f-9f03-4bc0-ad90-ecf7fe0bd59a",
   "metadata": {},
   "outputs": [
    {
     "data": {
      "text/html": [
       "<div>\n",
       "<style scoped>\n",
       "    .dataframe tbody tr th:only-of-type {\n",
       "        vertical-align: middle;\n",
       "    }\n",
       "\n",
       "    .dataframe tbody tr th {\n",
       "        vertical-align: top;\n",
       "    }\n",
       "\n",
       "    .dataframe thead th {\n",
       "        text-align: right;\n",
       "    }\n",
       "</style>\n",
       "<table border=\"1\" class=\"dataframe\">\n",
       "  <thead>\n",
       "    <tr style=\"text-align: right;\">\n",
       "      <th></th>\n",
       "      <th>country/region_x</th>\n",
       "      <th>Country_classification</th>\n",
       "      <th>Year</th>\n",
       "      <th>Energy Intensity (1000 Btu/2015$ GDP PPP)</th>\n",
       "      <th>Country_Code</th>\n",
       "      <th>country/region_y</th>\n",
       "      <th>Real GDP growth (Annual percent change)</th>\n",
       "      <th>Energy Efficiency</th>\n",
       "    </tr>\n",
       "  </thead>\n",
       "  <tbody>\n",
       "    <tr>\n",
       "      <th>42</th>\n",
       "      <td>Aruba</td>\n",
       "      <td>Emerging and Developing Economies</td>\n",
       "      <td>2022</td>\n",
       "      <td>4.723547</td>\n",
       "      <td>ABW</td>\n",
       "      <td>Aruba</td>\n",
       "      <td>10.5</td>\n",
       "      <td>4.856864</td>\n",
       "    </tr>\n",
       "    <tr>\n",
       "      <th>92</th>\n",
       "      <td>Afghanistan</td>\n",
       "      <td>Emerging and Developing Economies</td>\n",
       "      <td>2022</td>\n",
       "      <td>1.786095</td>\n",
       "      <td>AFG</td>\n",
       "      <td>Afghanistan</td>\n",
       "      <td>-6.2</td>\n",
       "      <td>-8.376254</td>\n",
       "    </tr>\n",
       "    <tr>\n",
       "      <th>142</th>\n",
       "      <td>Angola</td>\n",
       "      <td>Emerging and Developing Economies</td>\n",
       "      <td>2022</td>\n",
       "      <td>1.778780</td>\n",
       "      <td>AGO</td>\n",
       "      <td>Angola</td>\n",
       "      <td>4.2</td>\n",
       "      <td>0.087102</td>\n",
       "    </tr>\n",
       "    <tr>\n",
       "      <th>192</th>\n",
       "      <td>Albania</td>\n",
       "      <td>Emerging and Developing Economies</td>\n",
       "      <td>2022</td>\n",
       "      <td>2.038658</td>\n",
       "      <td>ALB</td>\n",
       "      <td>Albania</td>\n",
       "      <td>4.9</td>\n",
       "      <td>5.967737</td>\n",
       "    </tr>\n",
       "    <tr>\n",
       "      <th>292</th>\n",
       "      <td>United Arab Emirates</td>\n",
       "      <td>Emerging and Developing Economies</td>\n",
       "      <td>2022</td>\n",
       "      <td>6.491122</td>\n",
       "      <td>ARE</td>\n",
       "      <td>United Arab Emirates</td>\n",
       "      <td>7.5</td>\n",
       "      <td>2.601514</td>\n",
       "    </tr>\n",
       "    <tr>\n",
       "      <th>...</th>\n",
       "      <td>...</td>\n",
       "      <td>...</td>\n",
       "      <td>...</td>\n",
       "      <td>...</td>\n",
       "      <td>...</td>\n",
       "      <td>...</td>\n",
       "      <td>...</td>\n",
       "      <td>...</td>\n",
       "    </tr>\n",
       "    <tr>\n",
       "      <th>9677</th>\n",
       "      <td>Kosovo</td>\n",
       "      <td>Emerging and Developing Economies</td>\n",
       "      <td>2022</td>\n",
       "      <td>4.122049</td>\n",
       "      <td>XKX</td>\n",
       "      <td>Kosovo</td>\n",
       "      <td>4.3</td>\n",
       "      <td>2.416588</td>\n",
       "    </tr>\n",
       "    <tr>\n",
       "      <th>9727</th>\n",
       "      <td>Yemen</td>\n",
       "      <td>Emerging and Developing Economies</td>\n",
       "      <td>2022</td>\n",
       "      <td>2.493944</td>\n",
       "      <td>YEM</td>\n",
       "      <td>Yemen</td>\n",
       "      <td>1.5</td>\n",
       "      <td>-12.911814</td>\n",
       "    </tr>\n",
       "    <tr>\n",
       "      <th>9777</th>\n",
       "      <td>South Africa</td>\n",
       "      <td>Emerging and Developing Economies</td>\n",
       "      <td>2022</td>\n",
       "      <td>7.243328</td>\n",
       "      <td>ZAF</td>\n",
       "      <td>South Africa</td>\n",
       "      <td>1.9</td>\n",
       "      <td>-6.467412</td>\n",
       "    </tr>\n",
       "    <tr>\n",
       "      <th>9827</th>\n",
       "      <td>Zambia</td>\n",
       "      <td>Emerging and Developing Economies</td>\n",
       "      <td>2022</td>\n",
       "      <td>2.114452</td>\n",
       "      <td>ZMB</td>\n",
       "      <td>Zambia</td>\n",
       "      <td>5.2</td>\n",
       "      <td>5.928276</td>\n",
       "    </tr>\n",
       "    <tr>\n",
       "      <th>9877</th>\n",
       "      <td>Zimbabwe</td>\n",
       "      <td>Emerging and Developing Economies</td>\n",
       "      <td>2022</td>\n",
       "      <td>4.689344</td>\n",
       "      <td>ZWE</td>\n",
       "      <td>Zimbabwe</td>\n",
       "      <td>6.1</td>\n",
       "      <td>-40.277529</td>\n",
       "    </tr>\n",
       "  </tbody>\n",
       "</table>\n",
       "<p>147 rows × 8 columns</p>\n",
       "</div>"
      ],
      "text/plain": [
       "          country/region_x             Country_classification  Year  \\\n",
       "42                   Aruba  Emerging and Developing Economies  2022   \n",
       "92             Afghanistan  Emerging and Developing Economies  2022   \n",
       "142                 Angola  Emerging and Developing Economies  2022   \n",
       "192                Albania  Emerging and Developing Economies  2022   \n",
       "292   United Arab Emirates  Emerging and Developing Economies  2022   \n",
       "...                    ...                                ...   ...   \n",
       "9677                Kosovo  Emerging and Developing Economies  2022   \n",
       "9727                 Yemen  Emerging and Developing Economies  2022   \n",
       "9777          South Africa  Emerging and Developing Economies  2022   \n",
       "9827                Zambia  Emerging and Developing Economies  2022   \n",
       "9877              Zimbabwe  Emerging and Developing Economies  2022   \n",
       "\n",
       "      Energy Intensity (1000 Btu/2015$ GDP PPP) Country_Code  \\\n",
       "42                                     4.723547          ABW   \n",
       "92                                     1.786095          AFG   \n",
       "142                                    1.778780          AGO   \n",
       "192                                    2.038658          ALB   \n",
       "292                                    6.491122          ARE   \n",
       "...                                         ...          ...   \n",
       "9677                                   4.122049          XKX   \n",
       "9727                                   2.493944          YEM   \n",
       "9777                                   7.243328          ZAF   \n",
       "9827                                   2.114452          ZMB   \n",
       "9877                                   4.689344          ZWE   \n",
       "\n",
       "          country/region_y Real GDP growth (Annual percent change)  \\\n",
       "42                   Aruba                                    10.5   \n",
       "92             Afghanistan                                    -6.2   \n",
       "142                 Angola                                     4.2   \n",
       "192                Albania                                     4.9   \n",
       "292   United Arab Emirates                                     7.5   \n",
       "...                    ...                                     ...   \n",
       "9677                Kosovo                                     4.3   \n",
       "9727                 Yemen                                     1.5   \n",
       "9777          South Africa                                     1.9   \n",
       "9827                Zambia                                     5.2   \n",
       "9877              Zimbabwe                                     6.1   \n",
       "\n",
       "      Energy Efficiency  \n",
       "42             4.856864  \n",
       "92            -8.376254  \n",
       "142            0.087102  \n",
       "192            5.967737  \n",
       "292            2.601514  \n",
       "...                 ...  \n",
       "9677           2.416588  \n",
       "9727         -12.911814  \n",
       "9777          -6.467412  \n",
       "9827           5.928276  \n",
       "9877         -40.277529  \n",
       "\n",
       "[147 rows x 8 columns]"
      ]
     },
     "execution_count": 73,
     "metadata": {},
     "output_type": "execute_result"
    }
   ],
   "source": [
    "#merged_ei_growth_filtered['Year'] = merged_ei_growth_filtered['Year'].str.strip()\n",
    "final_EMDE=merged_ei_growth_filtered[\n",
    "    (merged_ei_growth_filtered['Year']==2022) & \n",
    "    (merged_ei_growth_filtered['Country_classification']=='Emerging and Developing Economies')\n",
    "]\n",
    "final_EMDE\n"
   ]
  },
  {
   "cell_type": "code",
   "execution_count": null,
   "id": "b775056e-d8c6-490c-bb0c-0891eaa5cb24",
   "metadata": {},
   "outputs": [],
   "source": []
  },
  {
   "cell_type": "code",
   "execution_count": null,
   "id": "bf59256f-94cf-4d71-bf1d-93008977a18c",
   "metadata": {},
   "outputs": [],
   "source": []
  },
  {
   "cell_type": "code",
   "execution_count": 74,
   "id": "a5e76266-50b1-4fd8-8b89-c1288a8f0e0a",
   "metadata": {
    "scrolled": true
   },
   "outputs": [
    {
     "data": {
      "application/vnd.plotly.v1+json": {
       "config": {
        "plotlyServerURL": "https://plot.ly"
       },
       "data": [
        {
         "hovertemplate": "country/region_y=Aruba<br>Annual GDP Growth (%)=%{x}<br>Annual improvement (%)=%{y}<extra></extra>",
         "legendgroup": "Aruba",
         "marker": {
          "color": "#636efa",
          "symbol": "circle"
         },
         "mode": "markers",
         "name": "Aruba",
         "orientation": "v",
         "showlegend": true,
         "type": "scatter",
         "x": [
          10.5
         ],
         "xaxis": "x",
         "y": [
          4.856863701631909
         ],
         "yaxis": "y"
        },
        {
         "hovertemplate": "country/region_y=Aruba<extra></extra>",
         "legendgroup": "Aruba",
         "marker": {
          "color": "#636efa",
          "symbol": "circle"
         },
         "mode": "lines",
         "name": "Aruba",
         "showlegend": false,
         "type": "scatter",
         "xaxis": "x",
         "yaxis": "y"
        },
        {
         "hovertemplate": "country/region_y=Afghanistan<br>Annual GDP Growth (%)=%{x}<br>Annual improvement (%)=%{y}<extra></extra>",
         "legendgroup": "Afghanistan",
         "marker": {
          "color": "#EF553B",
          "symbol": "circle"
         },
         "mode": "markers",
         "name": "Afghanistan",
         "orientation": "v",
         "showlegend": true,
         "type": "scatter",
         "x": [
          -6.2
         ],
         "xaxis": "x",
         "y": [
          -8.376254338269806
         ],
         "yaxis": "y"
        },
        {
         "hovertemplate": "country/region_y=Afghanistan<extra></extra>",
         "legendgroup": "Afghanistan",
         "marker": {
          "color": "#EF553B",
          "symbol": "circle"
         },
         "mode": "lines",
         "name": "Afghanistan",
         "showlegend": false,
         "type": "scatter",
         "xaxis": "x",
         "yaxis": "y"
        },
        {
         "hovertemplate": "country/region_y=Angola<br>Annual GDP Growth (%)=%{x}<br>Annual improvement (%)=%{y}<extra></extra>",
         "legendgroup": "Angola",
         "marker": {
          "color": "#00cc96",
          "symbol": "circle"
         },
         "mode": "markers",
         "name": "Angola",
         "orientation": "v",
         "showlegend": true,
         "type": "scatter",
         "x": [
          4.2
         ],
         "xaxis": "x",
         "y": [
          0.0871019025403652
         ],
         "yaxis": "y"
        },
        {
         "hovertemplate": "country/region_y=Angola<extra></extra>",
         "legendgroup": "Angola",
         "marker": {
          "color": "#00cc96",
          "symbol": "circle"
         },
         "mode": "lines",
         "name": "Angola",
         "showlegend": false,
         "type": "scatter",
         "xaxis": "x",
         "yaxis": "y"
        },
        {
         "hovertemplate": "country/region_y=Albania<br>Annual GDP Growth (%)=%{x}<br>Annual improvement (%)=%{y}<extra></extra>",
         "legendgroup": "Albania",
         "marker": {
          "color": "#ab63fa",
          "symbol": "circle"
         },
         "mode": "markers",
         "name": "Albania",
         "orientation": "v",
         "showlegend": true,
         "type": "scatter",
         "x": [
          4.9
         ],
         "xaxis": "x",
         "y": [
          5.967736757656605
         ],
         "yaxis": "y"
        },
        {
         "hovertemplate": "country/region_y=Albania<extra></extra>",
         "legendgroup": "Albania",
         "marker": {
          "color": "#ab63fa",
          "symbol": "circle"
         },
         "mode": "lines",
         "name": "Albania",
         "showlegend": false,
         "type": "scatter",
         "xaxis": "x",
         "yaxis": "y"
        },
        {
         "hovertemplate": "country/region_y=United Arab Emirates<br>Annual GDP Growth (%)=%{x}<br>Annual improvement (%)=%{y}<extra></extra>",
         "legendgroup": "United Arab Emirates",
         "marker": {
          "color": "#FFA15A",
          "symbol": "circle"
         },
         "mode": "markers",
         "name": "United Arab Emirates",
         "orientation": "v",
         "showlegend": true,
         "type": "scatter",
         "x": [
          7.5
         ],
         "xaxis": "x",
         "y": [
          2.6015135129032863
         ],
         "yaxis": "y"
        },
        {
         "hovertemplate": "country/region_y=United Arab Emirates<extra></extra>",
         "legendgroup": "United Arab Emirates",
         "marker": {
          "color": "#FFA15A",
          "symbol": "circle"
         },
         "mode": "lines",
         "name": "United Arab Emirates",
         "showlegend": false,
         "type": "scatter",
         "xaxis": "x",
         "yaxis": "y"
        },
        {
         "hovertemplate": "country/region_y=Argentina<br>Annual GDP Growth (%)=%{x}<br>Annual improvement (%)=%{y}<extra></extra>",
         "legendgroup": "Argentina",
         "marker": {
          "color": "#19d3f3",
          "symbol": "circle"
         },
         "mode": "markers",
         "name": "Argentina",
         "orientation": "v",
         "showlegend": true,
         "type": "scatter",
         "x": [
          5.3
         ],
         "xaxis": "x",
         "y": [
          3.842627913757757
         ],
         "yaxis": "y"
        },
        {
         "hovertemplate": "country/region_y=Argentina<extra></extra>",
         "legendgroup": "Argentina",
         "marker": {
          "color": "#19d3f3",
          "symbol": "circle"
         },
         "mode": "lines",
         "name": "Argentina",
         "showlegend": false,
         "type": "scatter",
         "xaxis": "x",
         "yaxis": "y"
        },
        {
         "hovertemplate": "country/region_y=Armenia<br>Annual GDP Growth (%)=%{x}<br>Annual improvement (%)=%{y}<extra></extra>",
         "legendgroup": "Armenia",
         "marker": {
          "color": "#FF6692",
          "symbol": "circle"
         },
         "mode": "markers",
         "name": "Armenia",
         "orientation": "v",
         "showlegend": true,
         "type": "scatter",
         "x": [
          12.6
         ],
         "xaxis": "x",
         "y": [
          4.001718229486384
         ],
         "yaxis": "y"
        },
        {
         "hovertemplate": "country/region_y=Armenia<extra></extra>",
         "legendgroup": "Armenia",
         "marker": {
          "color": "#FF6692",
          "symbol": "circle"
         },
         "mode": "lines",
         "name": "Armenia",
         "showlegend": false,
         "type": "scatter",
         "xaxis": "x",
         "yaxis": "y"
        },
        {
         "hovertemplate": "country/region_y=Antigua and Barbuda<br>Annual GDP Growth (%)=%{x}<br>Annual improvement (%)=%{y}<extra></extra>",
         "legendgroup": "Antigua and Barbuda",
         "marker": {
          "color": "#B6E880",
          "symbol": "circle"
         },
         "mode": "markers",
         "name": "Antigua and Barbuda",
         "orientation": "v",
         "showlegend": true,
         "type": "scatter",
         "x": [
          9.5
         ],
         "xaxis": "x",
         "y": [
          3.491650358137721
         ],
         "yaxis": "y"
        },
        {
         "hovertemplate": "country/region_y=Antigua and Barbuda<extra></extra>",
         "legendgroup": "Antigua and Barbuda",
         "marker": {
          "color": "#B6E880",
          "symbol": "circle"
         },
         "mode": "lines",
         "name": "Antigua and Barbuda",
         "showlegend": false,
         "type": "scatter",
         "xaxis": "x",
         "yaxis": "y"
        },
        {
         "hovertemplate": "country/region_y=Azerbaijan<br>Annual GDP Growth (%)=%{x}<br>Annual improvement (%)=%{y}<extra></extra>",
         "legendgroup": "Azerbaijan",
         "marker": {
          "color": "#FF97FF",
          "symbol": "circle"
         },
         "mode": "markers",
         "name": "Azerbaijan",
         "orientation": "v",
         "showlegend": true,
         "type": "scatter",
         "x": [
          4.7
         ],
         "xaxis": "x",
         "y": [
          12.27611301100967
         ],
         "yaxis": "y"
        },
        {
         "hovertemplate": "country/region_y=Azerbaijan<extra></extra>",
         "legendgroup": "Azerbaijan",
         "marker": {
          "color": "#FF97FF",
          "symbol": "circle"
         },
         "mode": "lines",
         "name": "Azerbaijan",
         "showlegend": false,
         "type": "scatter",
         "xaxis": "x",
         "yaxis": "y"
        },
        {
         "hovertemplate": "country/region_y=Burundi<br>Annual GDP Growth (%)=%{x}<br>Annual improvement (%)=%{y}<extra></extra>",
         "legendgroup": "Burundi",
         "marker": {
          "color": "#FECB52",
          "symbol": "circle"
         },
         "mode": "markers",
         "name": "Burundi",
         "orientation": "v",
         "showlegend": true,
         "type": "scatter",
         "x": [
          1.8
         ],
         "xaxis": "x",
         "y": [
          -1.399912787125146
         ],
         "yaxis": "y"
        },
        {
         "hovertemplate": "country/region_y=Burundi<extra></extra>",
         "legendgroup": "Burundi",
         "marker": {
          "color": "#FECB52",
          "symbol": "circle"
         },
         "mode": "lines",
         "name": "Burundi",
         "showlegend": false,
         "type": "scatter",
         "xaxis": "x",
         "yaxis": "y"
        },
        {
         "hovertemplate": "country/region_y=Benin<br>Annual GDP Growth (%)=%{x}<br>Annual improvement (%)=%{y}<extra></extra>",
         "legendgroup": "Benin",
         "marker": {
          "color": "#636efa",
          "symbol": "circle"
         },
         "mode": "markers",
         "name": "Benin",
         "orientation": "v",
         "showlegend": true,
         "type": "scatter",
         "x": [
          6.3
         ],
         "xaxis": "x",
         "y": [
          5.922191394538723
         ],
         "yaxis": "y"
        },
        {
         "hovertemplate": "country/region_y=Benin<extra></extra>",
         "legendgroup": "Benin",
         "marker": {
          "color": "#636efa",
          "symbol": "circle"
         },
         "mode": "lines",
         "name": "Benin",
         "showlegend": false,
         "type": "scatter",
         "xaxis": "x",
         "yaxis": "y"
        },
        {
         "hovertemplate": "country/region_y=Burkina Faso<br>Annual GDP Growth (%)=%{x}<br>Annual improvement (%)=%{y}<extra></extra>",
         "legendgroup": "Burkina Faso",
         "marker": {
          "color": "#EF553B",
          "symbol": "circle"
         },
         "mode": "markers",
         "name": "Burkina Faso",
         "orientation": "v",
         "showlegend": true,
         "type": "scatter",
         "x": [
          1.8
         ],
         "xaxis": "x",
         "y": [
          -1.5078362966841174
         ],
         "yaxis": "y"
        },
        {
         "hovertemplate": "country/region_y=Burkina Faso<extra></extra>",
         "legendgroup": "Burkina Faso",
         "marker": {
          "color": "#EF553B",
          "symbol": "circle"
         },
         "mode": "lines",
         "name": "Burkina Faso",
         "showlegend": false,
         "type": "scatter",
         "xaxis": "x",
         "yaxis": "y"
        },
        {
         "hovertemplate": "country/region_y=Bangladesh<br>Annual GDP Growth (%)=%{x}<br>Annual improvement (%)=%{y}<extra></extra>",
         "legendgroup": "Bangladesh",
         "marker": {
          "color": "#00cc96",
          "symbol": "circle"
         },
         "mode": "markers",
         "name": "Bangladesh",
         "orientation": "v",
         "showlegend": true,
         "type": "scatter",
         "x": [
          7.1
         ],
         "xaxis": "x",
         "y": [
          7.944537062977075
         ],
         "yaxis": "y"
        },
        {
         "hovertemplate": "country/region_y=Bangladesh<extra></extra>",
         "legendgroup": "Bangladesh",
         "marker": {
          "color": "#00cc96",
          "symbol": "circle"
         },
         "mode": "lines",
         "name": "Bangladesh",
         "showlegend": false,
         "type": "scatter",
         "xaxis": "x",
         "yaxis": "y"
        },
        {
         "hovertemplate": "country/region_y=Bulgaria<br>Annual GDP Growth (%)=%{x}<br>Annual improvement (%)=%{y}<extra></extra>",
         "legendgroup": "Bulgaria",
         "marker": {
          "color": "#ab63fa",
          "symbol": "circle"
         },
         "mode": "markers",
         "name": "Bulgaria",
         "orientation": "v",
         "showlegend": true,
         "type": "scatter",
         "x": [
          3.9
         ],
         "xaxis": "x",
         "y": [
          1.687983720003583
         ],
         "yaxis": "y"
        },
        {
         "hovertemplate": "country/region_y=Bulgaria<extra></extra>",
         "legendgroup": "Bulgaria",
         "marker": {
          "color": "#ab63fa",
          "symbol": "circle"
         },
         "mode": "lines",
         "name": "Bulgaria",
         "showlegend": false,
         "type": "scatter",
         "xaxis": "x",
         "yaxis": "y"
        },
        {
         "hovertemplate": "country/region_y=Bahrain<br>Annual GDP Growth (%)=%{x}<br>Annual improvement (%)=%{y}<extra></extra>",
         "legendgroup": "Bahrain",
         "marker": {
          "color": "#FFA15A",
          "symbol": "circle"
         },
         "mode": "markers",
         "name": "Bahrain",
         "orientation": "v",
         "showlegend": true,
         "type": "scatter",
         "x": [
          6
         ],
         "xaxis": "x",
         "y": [
          4.7124590827380075
         ],
         "yaxis": "y"
        },
        {
         "hovertemplate": "country/region_y=Bahrain<extra></extra>",
         "legendgroup": "Bahrain",
         "marker": {
          "color": "#FFA15A",
          "symbol": "circle"
         },
         "mode": "lines",
         "name": "Bahrain",
         "showlegend": false,
         "type": "scatter",
         "xaxis": "x",
         "yaxis": "y"
        },
        {
         "hovertemplate": "country/region_y=Bahamas, The<br>Annual GDP Growth (%)=%{x}<br>Annual improvement (%)=%{y}<extra></extra>",
         "legendgroup": "Bahamas, The",
         "marker": {
          "color": "#19d3f3",
          "symbol": "circle"
         },
         "mode": "markers",
         "name": "Bahamas, The",
         "orientation": "v",
         "showlegend": true,
         "type": "scatter",
         "x": [
          10.8
         ],
         "xaxis": "x",
         "y": [
          8.022945426328453
         ],
         "yaxis": "y"
        },
        {
         "hovertemplate": "country/region_y=Bahamas, The<extra></extra>",
         "legendgroup": "Bahamas, The",
         "marker": {
          "color": "#19d3f3",
          "symbol": "circle"
         },
         "mode": "lines",
         "name": "Bahamas, The",
         "showlegend": false,
         "type": "scatter",
         "xaxis": "x",
         "yaxis": "y"
        },
        {
         "hovertemplate": "country/region_y=Bosnia and Herzegovina<br>Annual GDP Growth (%)=%{x}<br>Annual improvement (%)=%{y}<extra></extra>",
         "legendgroup": "Bosnia and Herzegovina",
         "marker": {
          "color": "#FF6692",
          "symbol": "circle"
         },
         "mode": "markers",
         "name": "Bosnia and Herzegovina",
         "orientation": "v",
         "showlegend": true,
         "type": "scatter",
         "x": [
          4.2
         ],
         "xaxis": "x",
         "y": [
          -29.828584673682922
         ],
         "yaxis": "y"
        },
        {
         "hovertemplate": "country/region_y=Bosnia and Herzegovina<extra></extra>",
         "legendgroup": "Bosnia and Herzegovina",
         "marker": {
          "color": "#FF6692",
          "symbol": "circle"
         },
         "mode": "lines",
         "name": "Bosnia and Herzegovina",
         "showlegend": false,
         "type": "scatter",
         "xaxis": "x",
         "yaxis": "y"
        },
        {
         "hovertemplate": "country/region_y=Belarus<br>Annual GDP Growth (%)=%{x}<br>Annual improvement (%)=%{y}<extra></extra>",
         "legendgroup": "Belarus",
         "marker": {
          "color": "#B6E880",
          "symbol": "circle"
         },
         "mode": "markers",
         "name": "Belarus",
         "orientation": "v",
         "showlegend": true,
         "type": "scatter",
         "x": [
          -4.7
         ],
         "xaxis": "x",
         "y": [
          -0.37483245108722585
         ],
         "yaxis": "y"
        },
        {
         "hovertemplate": "country/region_y=Belarus<extra></extra>",
         "legendgroup": "Belarus",
         "marker": {
          "color": "#B6E880",
          "symbol": "circle"
         },
         "mode": "lines",
         "name": "Belarus",
         "showlegend": false,
         "type": "scatter",
         "xaxis": "x",
         "yaxis": "y"
        },
        {
         "hovertemplate": "country/region_y=Belize<br>Annual GDP Growth (%)=%{x}<br>Annual improvement (%)=%{y}<extra></extra>",
         "legendgroup": "Belize",
         "marker": {
          "color": "#FF97FF",
          "symbol": "circle"
         },
         "mode": "markers",
         "name": "Belize",
         "orientation": "v",
         "showlegend": true,
         "type": "scatter",
         "x": [
          9.8
         ],
         "xaxis": "x",
         "y": [
          3.328516883019106
         ],
         "yaxis": "y"
        },
        {
         "hovertemplate": "country/region_y=Belize<extra></extra>",
         "legendgroup": "Belize",
         "marker": {
          "color": "#FF97FF",
          "symbol": "circle"
         },
         "mode": "lines",
         "name": "Belize",
         "showlegend": false,
         "type": "scatter",
         "xaxis": "x",
         "yaxis": "y"
        },
        {
         "hovertemplate": "country/region_y=Bolivia<br>Annual GDP Growth (%)=%{x}<br>Annual improvement (%)=%{y}<extra></extra>",
         "legendgroup": "Bolivia",
         "marker": {
          "color": "#FECB52",
          "symbol": "circle"
         },
         "mode": "markers",
         "name": "Bolivia",
         "orientation": "v",
         "showlegend": true,
         "type": "scatter",
         "x": [
          3.6
         ],
         "xaxis": "x",
         "y": [
          -2.5192725669454408
         ],
         "yaxis": "y"
        },
        {
         "hovertemplate": "country/region_y=Bolivia<extra></extra>",
         "legendgroup": "Bolivia",
         "marker": {
          "color": "#FECB52",
          "symbol": "circle"
         },
         "mode": "lines",
         "name": "Bolivia",
         "showlegend": false,
         "type": "scatter",
         "xaxis": "x",
         "yaxis": "y"
        },
        {
         "hovertemplate": "country/region_y=Brazil<br>Annual GDP Growth (%)=%{x}<br>Annual improvement (%)=%{y}<extra></extra>",
         "legendgroup": "Brazil",
         "marker": {
          "color": "#636efa",
          "symbol": "circle"
         },
         "mode": "markers",
         "name": "Brazil",
         "orientation": "v",
         "showlegend": true,
         "type": "scatter",
         "x": [
          3
         ],
         "xaxis": "x",
         "y": [
          -2.212969005849419
         ],
         "yaxis": "y"
        },
        {
         "hovertemplate": "country/region_y=Brazil<extra></extra>",
         "legendgroup": "Brazil",
         "marker": {
          "color": "#636efa",
          "symbol": "circle"
         },
         "mode": "lines",
         "name": "Brazil",
         "showlegend": false,
         "type": "scatter",
         "xaxis": "x",
         "yaxis": "y"
        },
        {
         "hovertemplate": "country/region_y=Barbados<br>Annual GDP Growth (%)=%{x}<br>Annual improvement (%)=%{y}<extra></extra>",
         "legendgroup": "Barbados",
         "marker": {
          "color": "#EF553B",
          "symbol": "circle"
         },
         "mode": "markers",
         "name": "Barbados",
         "orientation": "v",
         "showlegend": true,
         "type": "scatter",
         "x": [
          17.8
         ],
         "xaxis": "x",
         "y": [
          6.096065642822268
         ],
         "yaxis": "y"
        },
        {
         "hovertemplate": "country/region_y=Barbados<extra></extra>",
         "legendgroup": "Barbados",
         "marker": {
          "color": "#EF553B",
          "symbol": "circle"
         },
         "mode": "lines",
         "name": "Barbados",
         "showlegend": false,
         "type": "scatter",
         "xaxis": "x",
         "yaxis": "y"
        },
        {
         "hovertemplate": "country/region_y=Brunei Darussalam<br>Annual GDP Growth (%)=%{x}<br>Annual improvement (%)=%{y}<extra></extra>",
         "legendgroup": "Brunei Darussalam",
         "marker": {
          "color": "#00cc96",
          "symbol": "circle"
         },
         "mode": "markers",
         "name": "Brunei Darussalam",
         "orientation": "v",
         "showlegend": true,
         "type": "scatter",
         "x": [
          -1.6
         ],
         "xaxis": "x",
         "y": [
          -9.382053228593179
         ],
         "yaxis": "y"
        },
        {
         "hovertemplate": "country/region_y=Brunei Darussalam<extra></extra>",
         "legendgroup": "Brunei Darussalam",
         "marker": {
          "color": "#00cc96",
          "symbol": "circle"
         },
         "mode": "lines",
         "name": "Brunei Darussalam",
         "showlegend": false,
         "type": "scatter",
         "xaxis": "x",
         "yaxis": "y"
        },
        {
         "hovertemplate": "country/region_y=Bhutan<br>Annual GDP Growth (%)=%{x}<br>Annual improvement (%)=%{y}<extra></extra>",
         "legendgroup": "Bhutan",
         "marker": {
          "color": "#ab63fa",
          "symbol": "circle"
         },
         "mode": "markers",
         "name": "Bhutan",
         "orientation": "v",
         "showlegend": true,
         "type": "scatter",
         "x": [
          4.8
         ],
         "xaxis": "x",
         "y": [
          -2.747179910671238
         ],
         "yaxis": "y"
        },
        {
         "hovertemplate": "country/region_y=Bhutan<extra></extra>",
         "legendgroup": "Bhutan",
         "marker": {
          "color": "#ab63fa",
          "symbol": "circle"
         },
         "mode": "lines",
         "name": "Bhutan",
         "showlegend": false,
         "type": "scatter",
         "xaxis": "x",
         "yaxis": "y"
        },
        {
         "hovertemplate": "country/region_y=Botswana<br>Annual GDP Growth (%)=%{x}<br>Annual improvement (%)=%{y}<extra></extra>",
         "legendgroup": "Botswana",
         "marker": {
          "color": "#FFA15A",
          "symbol": "circle"
         },
         "mode": "markers",
         "name": "Botswana",
         "orientation": "v",
         "showlegend": true,
         "type": "scatter",
         "x": [
          5.5
         ],
         "xaxis": "x",
         "y": [
          -23.346949770578295
         ],
         "yaxis": "y"
        },
        {
         "hovertemplate": "country/region_y=Botswana<extra></extra>",
         "legendgroup": "Botswana",
         "marker": {
          "color": "#FFA15A",
          "symbol": "circle"
         },
         "mode": "lines",
         "name": "Botswana",
         "showlegend": false,
         "type": "scatter",
         "xaxis": "x",
         "yaxis": "y"
        },
        {
         "hovertemplate": "country/region_y=Central African Republic<br>Annual GDP Growth (%)=%{x}<br>Annual improvement (%)=%{y}<extra></extra>",
         "legendgroup": "Central African Republic",
         "marker": {
          "color": "#19d3f3",
          "symbol": "circle"
         },
         "mode": "markers",
         "name": "Central African Republic",
         "orientation": "v",
         "showlegend": true,
         "type": "scatter",
         "x": [
          0.5
         ],
         "xaxis": "x",
         "y": [
          -2.3241002997392624
         ],
         "yaxis": "y"
        },
        {
         "hovertemplate": "country/region_y=Central African Republic<extra></extra>",
         "legendgroup": "Central African Republic",
         "marker": {
          "color": "#19d3f3",
          "symbol": "circle"
         },
         "mode": "lines",
         "name": "Central African Republic",
         "showlegend": false,
         "type": "scatter",
         "xaxis": "x",
         "yaxis": "y"
        },
        {
         "hovertemplate": "country/region_y=Chile<br>Annual GDP Growth (%)=%{x}<br>Annual improvement (%)=%{y}<extra></extra>",
         "legendgroup": "Chile",
         "marker": {
          "color": "#FF6692",
          "symbol": "circle"
         },
         "mode": "markers",
         "name": "Chile",
         "orientation": "v",
         "showlegend": true,
         "type": "scatter",
         "x": [
          2.1
         ],
         "xaxis": "x",
         "y": [
          5.540229362414761
         ],
         "yaxis": "y"
        },
        {
         "hovertemplate": "country/region_y=Chile<extra></extra>",
         "legendgroup": "Chile",
         "marker": {
          "color": "#FF6692",
          "symbol": "circle"
         },
         "mode": "lines",
         "name": "Chile",
         "showlegend": false,
         "type": "scatter",
         "xaxis": "x",
         "yaxis": "y"
        },
        {
         "hovertemplate": "country/region_y=China, People's Republic of<br>Annual GDP Growth (%)=%{x}<br>Annual improvement (%)=%{y}<extra></extra>",
         "legendgroup": "China, People's Republic of",
         "marker": {
          "color": "#B6E880",
          "symbol": "circle"
         },
         "mode": "markers",
         "name": "China, People's Republic of",
         "orientation": "v",
         "showlegend": true,
         "type": "scatter",
         "x": [
          3
         ],
         "xaxis": "x",
         "y": [
          -11.244231326359277
         ],
         "yaxis": "y"
        },
        {
         "hovertemplate": "country/region_y=China, People's Republic of<extra></extra>",
         "legendgroup": "China, People's Republic of",
         "marker": {
          "color": "#B6E880",
          "symbol": "circle"
         },
         "mode": "lines",
         "name": "China, People's Republic of",
         "showlegend": false,
         "type": "scatter",
         "xaxis": "x",
         "yaxis": "y"
        },
        {
         "hovertemplate": "country/region_y=Côte d'Ivoire<br>Annual GDP Growth (%)=%{x}<br>Annual improvement (%)=%{y}<extra></extra>",
         "legendgroup": "Côte d'Ivoire",
         "marker": {
          "color": "#FF97FF",
          "symbol": "circle"
         },
         "mode": "markers",
         "name": "Côte d'Ivoire",
         "orientation": "v",
         "showlegend": true,
         "type": "scatter",
         "x": [
          6.2
         ],
         "xaxis": "x",
         "y": [
          -2.10043752749709
         ],
         "yaxis": "y"
        },
        {
         "hovertemplate": "country/region_y=Côte d'Ivoire<extra></extra>",
         "legendgroup": "Côte d'Ivoire",
         "marker": {
          "color": "#FF97FF",
          "symbol": "circle"
         },
         "mode": "lines",
         "name": "Côte d'Ivoire",
         "showlegend": false,
         "type": "scatter",
         "xaxis": "x",
         "yaxis": "y"
        },
        {
         "hovertemplate": "country/region_y=Cameroon<br>Annual GDP Growth (%)=%{x}<br>Annual improvement (%)=%{y}<extra></extra>",
         "legendgroup": "Cameroon",
         "marker": {
          "color": "#FECB52",
          "symbol": "circle"
         },
         "mode": "markers",
         "name": "Cameroon",
         "orientation": "v",
         "showlegend": true,
         "type": "scatter",
         "x": [
          3.7
         ],
         "xaxis": "x",
         "y": [
          -0.8450621591307605
         ],
         "yaxis": "y"
        },
        {
         "hovertemplate": "country/region_y=Cameroon<extra></extra>",
         "legendgroup": "Cameroon",
         "marker": {
          "color": "#FECB52",
          "symbol": "circle"
         },
         "mode": "lines",
         "name": "Cameroon",
         "showlegend": false,
         "type": "scatter",
         "xaxis": "x",
         "yaxis": "y"
        },
        {
         "hovertemplate": "country/region_y=Congo, Dem. Rep. of the<br>Annual GDP Growth (%)=%{x}<br>Annual improvement (%)=%{y}<extra></extra>",
         "legendgroup": "Congo, Dem. Rep. of the",
         "marker": {
          "color": "#636efa",
          "symbol": "circle"
         },
         "mode": "markers",
         "name": "Congo, Dem. Rep. of the",
         "orientation": "v",
         "showlegend": true,
         "type": "scatter",
         "x": [
          8.8
         ],
         "xaxis": "x",
         "y": [
          6.405273250963273
         ],
         "yaxis": "y"
        },
        {
         "hovertemplate": "country/region_y=Congo, Dem. Rep. of the<extra></extra>",
         "legendgroup": "Congo, Dem. Rep. of the",
         "marker": {
          "color": "#636efa",
          "symbol": "circle"
         },
         "mode": "lines",
         "name": "Congo, Dem. Rep. of the",
         "showlegend": false,
         "type": "scatter",
         "xaxis": "x",
         "yaxis": "y"
        },
        {
         "hovertemplate": "country/region_y=Congo, Republic of<br>Annual GDP Growth (%)=%{x}<br>Annual improvement (%)=%{y}<extra></extra>",
         "legendgroup": "Congo, Republic of",
         "marker": {
          "color": "#EF553B",
          "symbol": "circle"
         },
         "mode": "markers",
         "name": "Congo, Republic of",
         "orientation": "v",
         "showlegend": true,
         "type": "scatter",
         "x": [
          1.8
         ],
         "xaxis": "x",
         "y": [
          -0.7169960336013137
         ],
         "yaxis": "y"
        },
        {
         "hovertemplate": "country/region_y=Congo, Republic of<extra></extra>",
         "legendgroup": "Congo, Republic of",
         "marker": {
          "color": "#EF553B",
          "symbol": "circle"
         },
         "mode": "lines",
         "name": "Congo, Republic of",
         "showlegend": false,
         "type": "scatter",
         "xaxis": "x",
         "yaxis": "y"
        },
        {
         "hovertemplate": "country/region_y=Colombia<br>Annual GDP Growth (%)=%{x}<br>Annual improvement (%)=%{y}<extra></extra>",
         "legendgroup": "Colombia",
         "marker": {
          "color": "#00cc96",
          "symbol": "circle"
         },
         "mode": "markers",
         "name": "Colombia",
         "orientation": "v",
         "showlegend": true,
         "type": "scatter",
         "x": [
          7.3
         ],
         "xaxis": "x",
         "y": [
          -1.9089558220221514
         ],
         "yaxis": "y"
        },
        {
         "hovertemplate": "country/region_y=Colombia<extra></extra>",
         "legendgroup": "Colombia",
         "marker": {
          "color": "#00cc96",
          "symbol": "circle"
         },
         "mode": "lines",
         "name": "Colombia",
         "showlegend": false,
         "type": "scatter",
         "xaxis": "x",
         "yaxis": "y"
        },
        {
         "hovertemplate": "country/region_y=Comoros<br>Annual GDP Growth (%)=%{x}<br>Annual improvement (%)=%{y}<extra></extra>",
         "legendgroup": "Comoros",
         "marker": {
          "color": "#ab63fa",
          "symbol": "circle"
         },
         "mode": "markers",
         "name": "Comoros",
         "orientation": "v",
         "showlegend": true,
         "type": "scatter",
         "x": [
          2.6
         ],
         "xaxis": "x",
         "y": [
          -0.7384754805104476
         ],
         "yaxis": "y"
        },
        {
         "hovertemplate": "country/region_y=Comoros<extra></extra>",
         "legendgroup": "Comoros",
         "marker": {
          "color": "#ab63fa",
          "symbol": "circle"
         },
         "mode": "lines",
         "name": "Comoros",
         "showlegend": false,
         "type": "scatter",
         "xaxis": "x",
         "yaxis": "y"
        },
        {
         "hovertemplate": "country/region_y=Cabo Verde<br>Annual GDP Growth (%)=%{x}<br>Annual improvement (%)=%{y}<extra></extra>",
         "legendgroup": "Cabo Verde",
         "marker": {
          "color": "#FFA15A",
          "symbol": "circle"
         },
         "mode": "markers",
         "name": "Cabo Verde",
         "orientation": "v",
         "showlegend": true,
         "type": "scatter",
         "x": [
          17.4
         ],
         "xaxis": "x",
         "y": [
          12.448594527674818
         ],
         "yaxis": "y"
        },
        {
         "hovertemplate": "country/region_y=Cabo Verde<extra></extra>",
         "legendgroup": "Cabo Verde",
         "marker": {
          "color": "#FFA15A",
          "symbol": "circle"
         },
         "mode": "lines",
         "name": "Cabo Verde",
         "showlegend": false,
         "type": "scatter",
         "xaxis": "x",
         "yaxis": "y"
        },
        {
         "hovertemplate": "country/region_y=Costa Rica<br>Annual GDP Growth (%)=%{x}<br>Annual improvement (%)=%{y}<extra></extra>",
         "legendgroup": "Costa Rica",
         "marker": {
          "color": "#19d3f3",
          "symbol": "circle"
         },
         "mode": "markers",
         "name": "Costa Rica",
         "orientation": "v",
         "showlegend": true,
         "type": "scatter",
         "x": [
          4.6
         ],
         "xaxis": "x",
         "y": [
          -0.07946508409675257
         ],
         "yaxis": "y"
        },
        {
         "hovertemplate": "country/region_y=Costa Rica<extra></extra>",
         "legendgroup": "Costa Rica",
         "marker": {
          "color": "#19d3f3",
          "symbol": "circle"
         },
         "mode": "lines",
         "name": "Costa Rica",
         "showlegend": false,
         "type": "scatter",
         "xaxis": "x",
         "yaxis": "y"
        },
        {
         "hovertemplate": "country/region_y=Djibouti<br>Annual GDP Growth (%)=%{x}<br>Annual improvement (%)=%{y}<extra></extra>",
         "legendgroup": "Djibouti",
         "marker": {
          "color": "#FF6692",
          "symbol": "circle"
         },
         "mode": "markers",
         "name": "Djibouti",
         "orientation": "v",
         "showlegend": true,
         "type": "scatter",
         "x": [
          3.9
         ],
         "xaxis": "x",
         "y": [
          0.4699540915900524
         ],
         "yaxis": "y"
        },
        {
         "hovertemplate": "country/region_y=Djibouti<extra></extra>",
         "legendgroup": "Djibouti",
         "marker": {
          "color": "#FF6692",
          "symbol": "circle"
         },
         "mode": "lines",
         "name": "Djibouti",
         "showlegend": false,
         "type": "scatter",
         "xaxis": "x",
         "yaxis": "y"
        },
        {
         "hovertemplate": "country/region_y=Dominica<br>Annual GDP Growth (%)=%{x}<br>Annual improvement (%)=%{y}<extra></extra>",
         "legendgroup": "Dominica",
         "marker": {
          "color": "#B6E880",
          "symbol": "circle"
         },
         "mode": "markers",
         "name": "Dominica",
         "orientation": "v",
         "showlegend": true,
         "type": "scatter",
         "x": [
          5.6
         ],
         "xaxis": "x",
         "y": [
          0.9463054176016672
         ],
         "yaxis": "y"
        },
        {
         "hovertemplate": "country/region_y=Dominica<extra></extra>",
         "legendgroup": "Dominica",
         "marker": {
          "color": "#B6E880",
          "symbol": "circle"
         },
         "mode": "lines",
         "name": "Dominica",
         "showlegend": false,
         "type": "scatter",
         "xaxis": "x",
         "yaxis": "y"
        },
        {
         "hovertemplate": "country/region_y=Dominican Republic<br>Annual GDP Growth (%)=%{x}<br>Annual improvement (%)=%{y}<extra></extra>",
         "legendgroup": "Dominican Republic",
         "marker": {
          "color": "#FF97FF",
          "symbol": "circle"
         },
         "mode": "markers",
         "name": "Dominican Republic",
         "orientation": "v",
         "showlegend": true,
         "type": "scatter",
         "x": [
          4.9
         ],
         "xaxis": "x",
         "y": [
          0.24236019588547153
         ],
         "yaxis": "y"
        },
        {
         "hovertemplate": "country/region_y=Dominican Republic<extra></extra>",
         "legendgroup": "Dominican Republic",
         "marker": {
          "color": "#FF97FF",
          "symbol": "circle"
         },
         "mode": "lines",
         "name": "Dominican Republic",
         "showlegend": false,
         "type": "scatter",
         "xaxis": "x",
         "yaxis": "y"
        },
        {
         "hovertemplate": "country/region_y=Algeria<br>Annual GDP Growth (%)=%{x}<br>Annual improvement (%)=%{y}<extra></extra>",
         "legendgroup": "Algeria",
         "marker": {
          "color": "#FECB52",
          "symbol": "circle"
         },
         "mode": "markers",
         "name": "Algeria",
         "orientation": "v",
         "showlegend": true,
         "type": "scatter",
         "x": [
          3.6
         ],
         "xaxis": "x",
         "y": [
          4.049776249921299
         ],
         "yaxis": "y"
        },
        {
         "hovertemplate": "country/region_y=Algeria<extra></extra>",
         "legendgroup": "Algeria",
         "marker": {
          "color": "#FECB52",
          "symbol": "circle"
         },
         "mode": "lines",
         "name": "Algeria",
         "showlegend": false,
         "type": "scatter",
         "xaxis": "x",
         "yaxis": "y"
        },
        {
         "hovertemplate": "country/region_y=Ecuador<br>Annual GDP Growth (%)=%{x}<br>Annual improvement (%)=%{y}<extra></extra>",
         "legendgroup": "Ecuador",
         "marker": {
          "color": "#636efa",
          "symbol": "circle"
         },
         "mode": "markers",
         "name": "Ecuador",
         "orientation": "v",
         "showlegend": true,
         "type": "scatter",
         "x": [
          6.2
         ],
         "xaxis": "x",
         "y": [
          1.5685981890335987
         ],
         "yaxis": "y"
        },
        {
         "hovertemplate": "country/region_y=Ecuador<extra></extra>",
         "legendgroup": "Ecuador",
         "marker": {
          "color": "#636efa",
          "symbol": "circle"
         },
         "mode": "lines",
         "name": "Ecuador",
         "showlegend": false,
         "type": "scatter",
         "xaxis": "x",
         "yaxis": "y"
        },
        {
         "hovertemplate": "country/region_y=Egypt<br>Annual GDP Growth (%)=%{x}<br>Annual improvement (%)=%{y}<extra></extra>",
         "legendgroup": "Egypt",
         "marker": {
          "color": "#EF553B",
          "symbol": "circle"
         },
         "mode": "markers",
         "name": "Egypt",
         "orientation": "v",
         "showlegend": true,
         "type": "scatter",
         "x": [
          6.7
         ],
         "xaxis": "x",
         "y": [
          4.193928303548433
         ],
         "yaxis": "y"
        },
        {
         "hovertemplate": "country/region_y=Egypt<extra></extra>",
         "legendgroup": "Egypt",
         "marker": {
          "color": "#EF553B",
          "symbol": "circle"
         },
         "mode": "lines",
         "name": "Egypt",
         "showlegend": false,
         "type": "scatter",
         "xaxis": "x",
         "yaxis": "y"
        },
        {
         "hovertemplate": "country/region_y=Ethiopia<br>Annual GDP Growth (%)=%{x}<br>Annual improvement (%)=%{y}<extra></extra>",
         "legendgroup": "Ethiopia",
         "marker": {
          "color": "#00cc96",
          "symbol": "circle"
         },
         "mode": "markers",
         "name": "Ethiopia",
         "orientation": "v",
         "showlegend": true,
         "type": "scatter",
         "x": [
          6.4
         ],
         "xaxis": "x",
         "y": [
          1.3266467850893582
         ],
         "yaxis": "y"
        },
        {
         "hovertemplate": "country/region_y=Ethiopia<extra></extra>",
         "legendgroup": "Ethiopia",
         "marker": {
          "color": "#00cc96",
          "symbol": "circle"
         },
         "mode": "lines",
         "name": "Ethiopia",
         "showlegend": false,
         "type": "scatter",
         "xaxis": "x",
         "yaxis": "y"
        },
        {
         "hovertemplate": "country/region_y=Fiji<br>Annual GDP Growth (%)=%{x}<br>Annual improvement (%)=%{y}<extra></extra>",
         "legendgroup": "Fiji",
         "marker": {
          "color": "#ab63fa",
          "symbol": "circle"
         },
         "mode": "markers",
         "name": "Fiji",
         "orientation": "v",
         "showlegend": true,
         "type": "scatter",
         "x": [
          19.8
         ],
         "xaxis": "x",
         "y": [
          12.89684416035679
         ],
         "yaxis": "y"
        },
        {
         "hovertemplate": "country/region_y=Fiji<extra></extra>",
         "legendgroup": "Fiji",
         "marker": {
          "color": "#ab63fa",
          "symbol": "circle"
         },
         "mode": "lines",
         "name": "Fiji",
         "showlegend": false,
         "type": "scatter",
         "xaxis": "x",
         "yaxis": "y"
        },
        {
         "hovertemplate": "country/region_y=Gabon<br>Annual GDP Growth (%)=%{x}<br>Annual improvement (%)=%{y}<extra></extra>",
         "legendgroup": "Gabon",
         "marker": {
          "color": "#FFA15A",
          "symbol": "circle"
         },
         "mode": "markers",
         "name": "Gabon",
         "orientation": "v",
         "showlegend": true,
         "type": "scatter",
         "x": [
          3
         ],
         "xaxis": "x",
         "y": [
          -3.666425486417313
         ],
         "yaxis": "y"
        },
        {
         "hovertemplate": "country/region_y=Gabon<extra></extra>",
         "legendgroup": "Gabon",
         "marker": {
          "color": "#FFA15A",
          "symbol": "circle"
         },
         "mode": "lines",
         "name": "Gabon",
         "showlegend": false,
         "type": "scatter",
         "xaxis": "x",
         "yaxis": "y"
        },
        {
         "hovertemplate": "country/region_y=Georgia<br>Annual GDP Growth (%)=%{x}<br>Annual improvement (%)=%{y}<extra></extra>",
         "legendgroup": "Georgia",
         "marker": {
          "color": "#19d3f3",
          "symbol": "circle"
         },
         "mode": "markers",
         "name": "Georgia",
         "orientation": "v",
         "showlegend": true,
         "type": "scatter",
         "x": [
          11
         ],
         "xaxis": "x",
         "y": [
          7.31836560124326
         ],
         "yaxis": "y"
        },
        {
         "hovertemplate": "country/region_y=Georgia<extra></extra>",
         "legendgroup": "Georgia",
         "marker": {
          "color": "#19d3f3",
          "symbol": "circle"
         },
         "mode": "lines",
         "name": "Georgia",
         "showlegend": false,
         "type": "scatter",
         "xaxis": "x",
         "yaxis": "y"
        },
        {
         "hovertemplate": "country/region_y=Ghana<br>Annual GDP Growth (%)=%{x}<br>Annual improvement (%)=%{y}<extra></extra>",
         "legendgroup": "Ghana",
         "marker": {
          "color": "#FF6692",
          "symbol": "circle"
         },
         "mode": "markers",
         "name": "Ghana",
         "orientation": "v",
         "showlegend": true,
         "type": "scatter",
         "x": [
          3.8
         ],
         "xaxis": "x",
         "y": [
          -2.682647895447543
         ],
         "yaxis": "y"
        },
        {
         "hovertemplate": "country/region_y=Ghana<extra></extra>",
         "legendgroup": "Ghana",
         "marker": {
          "color": "#FF6692",
          "symbol": "circle"
         },
         "mode": "lines",
         "name": "Ghana",
         "showlegend": false,
         "type": "scatter",
         "xaxis": "x",
         "yaxis": "y"
        },
        {
         "hovertemplate": "country/region_y=Guinea<br>Annual GDP Growth (%)=%{x}<br>Annual improvement (%)=%{y}<extra></extra>",
         "legendgroup": "Guinea",
         "marker": {
          "color": "#B6E880",
          "symbol": "circle"
         },
         "mode": "markers",
         "name": "Guinea",
         "orientation": "v",
         "showlegend": true,
         "type": "scatter",
         "x": [
          4
         ],
         "xaxis": "x",
         "y": [
          1.7404828459192334
         ],
         "yaxis": "y"
        },
        {
         "hovertemplate": "country/region_y=Guinea<extra></extra>",
         "legendgroup": "Guinea",
         "marker": {
          "color": "#B6E880",
          "symbol": "circle"
         },
         "mode": "lines",
         "name": "Guinea",
         "showlegend": false,
         "type": "scatter",
         "xaxis": "x",
         "yaxis": "y"
        },
        {
         "hovertemplate": "country/region_y=Gambia, The<br>Annual GDP Growth (%)=%{x}<br>Annual improvement (%)=%{y}<extra></extra>",
         "legendgroup": "Gambia, The",
         "marker": {
          "color": "#FF97FF",
          "symbol": "circle"
         },
         "mode": "markers",
         "name": "Gambia, The",
         "orientation": "v",
         "showlegend": true,
         "type": "scatter",
         "x": [
          4.9
         ],
         "xaxis": "x",
         "y": [
          1.7009225143011064
         ],
         "yaxis": "y"
        },
        {
         "hovertemplate": "country/region_y=Gambia, The<extra></extra>",
         "legendgroup": "Gambia, The",
         "marker": {
          "color": "#FF97FF",
          "symbol": "circle"
         },
         "mode": "lines",
         "name": "Gambia, The",
         "showlegend": false,
         "type": "scatter",
         "xaxis": "x",
         "yaxis": "y"
        },
        {
         "hovertemplate": "country/region_y=Guinea-Bissau<br>Annual GDP Growth (%)=%{x}<br>Annual improvement (%)=%{y}<extra></extra>",
         "legendgroup": "Guinea-Bissau",
         "marker": {
          "color": "#FECB52",
          "symbol": "circle"
         },
         "mode": "markers",
         "name": "Guinea-Bissau",
         "orientation": "v",
         "showlegend": true,
         "type": "scatter",
         "x": [
          4.6
         ],
         "xaxis": "x",
         "y": [
          0.3806531027453097
         ],
         "yaxis": "y"
        },
        {
         "hovertemplate": "country/region_y=Guinea-Bissau<extra></extra>",
         "legendgroup": "Guinea-Bissau",
         "marker": {
          "color": "#FECB52",
          "symbol": "circle"
         },
         "mode": "lines",
         "name": "Guinea-Bissau",
         "showlegend": false,
         "type": "scatter",
         "xaxis": "x",
         "yaxis": "y"
        },
        {
         "hovertemplate": "country/region_y=Equatorial Guinea<br>Annual GDP Growth (%)=%{x}<br>Annual improvement (%)=%{y}<extra></extra>",
         "legendgroup": "Equatorial Guinea",
         "marker": {
          "color": "#636efa",
          "symbol": "circle"
         },
         "mode": "markers",
         "name": "Equatorial Guinea",
         "orientation": "v",
         "showlegend": true,
         "type": "scatter",
         "x": [
          3.7
         ],
         "xaxis": "x",
         "y": [
          -1.6316538204638187
         ],
         "yaxis": "y"
        },
        {
         "hovertemplate": "country/region_y=Equatorial Guinea<extra></extra>",
         "legendgroup": "Equatorial Guinea",
         "marker": {
          "color": "#636efa",
          "symbol": "circle"
         },
         "mode": "lines",
         "name": "Equatorial Guinea",
         "showlegend": false,
         "type": "scatter",
         "xaxis": "x",
         "yaxis": "y"
        },
        {
         "hovertemplate": "country/region_y=Grenada<br>Annual GDP Growth (%)=%{x}<br>Annual improvement (%)=%{y}<extra></extra>",
         "legendgroup": "Grenada",
         "marker": {
          "color": "#EF553B",
          "symbol": "circle"
         },
         "mode": "markers",
         "name": "Grenada",
         "orientation": "v",
         "showlegend": true,
         "type": "scatter",
         "x": [
          7.3
         ],
         "xaxis": "x",
         "y": [
          -1.454237141727166
         ],
         "yaxis": "y"
        },
        {
         "hovertemplate": "country/region_y=Grenada<extra></extra>",
         "legendgroup": "Grenada",
         "marker": {
          "color": "#EF553B",
          "symbol": "circle"
         },
         "mode": "lines",
         "name": "Grenada",
         "showlegend": false,
         "type": "scatter",
         "xaxis": "x",
         "yaxis": "y"
        },
        {
         "hovertemplate": "country/region_y=Guatemala<br>Annual GDP Growth (%)=%{x}<br>Annual improvement (%)=%{y}<extra></extra>",
         "legendgroup": "Guatemala",
         "marker": {
          "color": "#00cc96",
          "symbol": "circle"
         },
         "mode": "markers",
         "name": "Guatemala",
         "orientation": "v",
         "showlegend": true,
         "type": "scatter",
         "x": [
          4.2
         ],
         "xaxis": "x",
         "y": [
          9.33923775274036
         ],
         "yaxis": "y"
        },
        {
         "hovertemplate": "country/region_y=Guatemala<extra></extra>",
         "legendgroup": "Guatemala",
         "marker": {
          "color": "#00cc96",
          "symbol": "circle"
         },
         "mode": "lines",
         "name": "Guatemala",
         "showlegend": false,
         "type": "scatter",
         "xaxis": "x",
         "yaxis": "y"
        },
        {
         "hovertemplate": "country/region_y=Guyana<br>Annual GDP Growth (%)=%{x}<br>Annual improvement (%)=%{y}<extra></extra>",
         "legendgroup": "Guyana",
         "marker": {
          "color": "#ab63fa",
          "symbol": "circle"
         },
         "mode": "markers",
         "name": "Guyana",
         "orientation": "v",
         "showlegend": true,
         "type": "scatter",
         "x": [
          62.3
         ],
         "xaxis": "x",
         "y": [
          35.38076456595542
         ],
         "yaxis": "y"
        },
        {
         "hovertemplate": "country/region_y=Guyana<extra></extra>",
         "legendgroup": "Guyana",
         "marker": {
          "color": "#ab63fa",
          "symbol": "circle"
         },
         "mode": "lines",
         "name": "Guyana",
         "showlegend": false,
         "type": "scatter",
         "xaxis": "x",
         "yaxis": "y"
        },
        {
         "hovertemplate": "country/region_y=Honduras<br>Annual GDP Growth (%)=%{x}<br>Annual improvement (%)=%{y}<extra></extra>",
         "legendgroup": "Honduras",
         "marker": {
          "color": "#FFA15A",
          "symbol": "circle"
         },
         "mode": "markers",
         "name": "Honduras",
         "orientation": "v",
         "showlegend": true,
         "type": "scatter",
         "x": [
          4.1
         ],
         "xaxis": "x",
         "y": [
          -3.2202033588259793
         ],
         "yaxis": "y"
        },
        {
         "hovertemplate": "country/region_y=Honduras<extra></extra>",
         "legendgroup": "Honduras",
         "marker": {
          "color": "#FFA15A",
          "symbol": "circle"
         },
         "mode": "lines",
         "name": "Honduras",
         "showlegend": false,
         "type": "scatter",
         "xaxis": "x",
         "yaxis": "y"
        },
        {
         "hovertemplate": "country/region_y=Haiti<br>Annual GDP Growth (%)=%{x}<br>Annual improvement (%)=%{y}<extra></extra>",
         "legendgroup": "Haiti",
         "marker": {
          "color": "#19d3f3",
          "symbol": "circle"
         },
         "mode": "markers",
         "name": "Haiti",
         "orientation": "v",
         "showlegend": true,
         "type": "scatter",
         "x": [
          -1.7
         ],
         "xaxis": "x",
         "y": [
          -6.980614724051737
         ],
         "yaxis": "y"
        },
        {
         "hovertemplate": "country/region_y=Haiti<extra></extra>",
         "legendgroup": "Haiti",
         "marker": {
          "color": "#19d3f3",
          "symbol": "circle"
         },
         "mode": "lines",
         "name": "Haiti",
         "showlegend": false,
         "type": "scatter",
         "xaxis": "x",
         "yaxis": "y"
        },
        {
         "hovertemplate": "country/region_y=Hungary<br>Annual GDP Growth (%)=%{x}<br>Annual improvement (%)=%{y}<extra></extra>",
         "legendgroup": "Hungary",
         "marker": {
          "color": "#FF6692",
          "symbol": "circle"
         },
         "mode": "markers",
         "name": "Hungary",
         "orientation": "v",
         "showlegend": true,
         "type": "scatter",
         "x": [
          4.6
         ],
         "xaxis": "x",
         "y": [
          10.603389117940033
         ],
         "yaxis": "y"
        },
        {
         "hovertemplate": "country/region_y=Hungary<extra></extra>",
         "legendgroup": "Hungary",
         "marker": {
          "color": "#FF6692",
          "symbol": "circle"
         },
         "mode": "lines",
         "name": "Hungary",
         "showlegend": false,
         "type": "scatter",
         "xaxis": "x",
         "yaxis": "y"
        },
        {
         "hovertemplate": "country/region_y=Indonesia<br>Annual GDP Growth (%)=%{x}<br>Annual improvement (%)=%{y}<extra></extra>",
         "legendgroup": "Indonesia",
         "marker": {
          "color": "#B6E880",
          "symbol": "circle"
         },
         "mode": "markers",
         "name": "Indonesia",
         "orientation": "v",
         "showlegend": true,
         "type": "scatter",
         "x": [
          5.3
         ],
         "xaxis": "x",
         "y": [
          -9.074377799415023
         ],
         "yaxis": "y"
        },
        {
         "hovertemplate": "country/region_y=Indonesia<extra></extra>",
         "legendgroup": "Indonesia",
         "marker": {
          "color": "#B6E880",
          "symbol": "circle"
         },
         "mode": "lines",
         "name": "Indonesia",
         "showlegend": false,
         "type": "scatter",
         "xaxis": "x",
         "yaxis": "y"
        },
        {
         "hovertemplate": "country/region_y=India<br>Annual GDP Growth (%)=%{x}<br>Annual improvement (%)=%{y}<extra></extra>",
         "legendgroup": "India",
         "marker": {
          "color": "#FF97FF",
          "symbol": "circle"
         },
         "mode": "markers",
         "name": "India",
         "orientation": "v",
         "showlegend": true,
         "type": "scatter",
         "x": [
          7
         ],
         "xaxis": "x",
         "y": [
          -7.898066323588382
         ],
         "yaxis": "y"
        },
        {
         "hovertemplate": "country/region_y=India<extra></extra>",
         "legendgroup": "India",
         "marker": {
          "color": "#FF97FF",
          "symbol": "circle"
         },
         "mode": "lines",
         "name": "India",
         "showlegend": false,
         "type": "scatter",
         "xaxis": "x",
         "yaxis": "y"
        },
        {
         "hovertemplate": "country/region_y=Iran<br>Annual GDP Growth (%)=%{x}<br>Annual improvement (%)=%{y}<extra></extra>",
         "legendgroup": "Iran",
         "marker": {
          "color": "#FECB52",
          "symbol": "circle"
         },
         "mode": "markers",
         "name": "Iran",
         "orientation": "v",
         "showlegend": true,
         "type": "scatter",
         "x": [
          3.8
         ],
         "xaxis": "x",
         "y": [
          0.08767072632392958
         ],
         "yaxis": "y"
        },
        {
         "hovertemplate": "country/region_y=Iran<extra></extra>",
         "legendgroup": "Iran",
         "marker": {
          "color": "#FECB52",
          "symbol": "circle"
         },
         "mode": "lines",
         "name": "Iran",
         "showlegend": false,
         "type": "scatter",
         "xaxis": "x",
         "yaxis": "y"
        },
        {
         "hovertemplate": "country/region_y=Iraq<br>Annual GDP Growth (%)=%{x}<br>Annual improvement (%)=%{y}<extra></extra>",
         "legendgroup": "Iraq",
         "marker": {
          "color": "#636efa",
          "symbol": "circle"
         },
         "mode": "markers",
         "name": "Iraq",
         "orientation": "v",
         "showlegend": true,
         "type": "scatter",
         "x": [
          7.7
         ],
         "xaxis": "x",
         "y": [
          -0.8055912846576918
         ],
         "yaxis": "y"
        },
        {
         "hovertemplate": "country/region_y=Iraq<extra></extra>",
         "legendgroup": "Iraq",
         "marker": {
          "color": "#636efa",
          "symbol": "circle"
         },
         "mode": "lines",
         "name": "Iraq",
         "showlegend": false,
         "type": "scatter",
         "xaxis": "x",
         "yaxis": "y"
        },
        {
         "hovertemplate": "country/region_y=Jamaica<br>Annual GDP Growth (%)=%{x}<br>Annual improvement (%)=%{y}<extra></extra>",
         "legendgroup": "Jamaica",
         "marker": {
          "color": "#EF553B",
          "symbol": "circle"
         },
         "mode": "markers",
         "name": "Jamaica",
         "orientation": "v",
         "showlegend": true,
         "type": "scatter",
         "x": [
          5.2
         ],
         "xaxis": "x",
         "y": [
          2.219687620633548
         ],
         "yaxis": "y"
        },
        {
         "hovertemplate": "country/region_y=Jamaica<extra></extra>",
         "legendgroup": "Jamaica",
         "marker": {
          "color": "#EF553B",
          "symbol": "circle"
         },
         "mode": "lines",
         "name": "Jamaica",
         "showlegend": false,
         "type": "scatter",
         "xaxis": "x",
         "yaxis": "y"
        },
        {
         "hovertemplate": "country/region_y=Jordan<br>Annual GDP Growth (%)=%{x}<br>Annual improvement (%)=%{y}<extra></extra>",
         "legendgroup": "Jordan",
         "marker": {
          "color": "#00cc96",
          "symbol": "circle"
         },
         "mode": "markers",
         "name": "Jordan",
         "orientation": "v",
         "showlegend": true,
         "type": "scatter",
         "x": [
          2.4
         ],
         "xaxis": "x",
         "y": [
          -6.198359120077401
         ],
         "yaxis": "y"
        },
        {
         "hovertemplate": "country/region_y=Jordan<extra></extra>",
         "legendgroup": "Jordan",
         "marker": {
          "color": "#00cc96",
          "symbol": "circle"
         },
         "mode": "lines",
         "name": "Jordan",
         "showlegend": false,
         "type": "scatter",
         "xaxis": "x",
         "yaxis": "y"
        },
        {
         "hovertemplate": "country/region_y=Kazakhstan<br>Annual GDP Growth (%)=%{x}<br>Annual improvement (%)=%{y}<extra></extra>",
         "legendgroup": "Kazakhstan",
         "marker": {
          "color": "#ab63fa",
          "symbol": "circle"
         },
         "mode": "markers",
         "name": "Kazakhstan",
         "orientation": "v",
         "showlegend": true,
         "type": "scatter",
         "x": [
          3.3
         ],
         "xaxis": "x",
         "y": [
          4.892726453340535
         ],
         "yaxis": "y"
        },
        {
         "hovertemplate": "country/region_y=Kazakhstan<extra></extra>",
         "legendgroup": "Kazakhstan",
         "marker": {
          "color": "#ab63fa",
          "symbol": "circle"
         },
         "mode": "lines",
         "name": "Kazakhstan",
         "showlegend": false,
         "type": "scatter",
         "xaxis": "x",
         "yaxis": "y"
        },
        {
         "hovertemplate": "country/region_y=Kenya<br>Annual GDP Growth (%)=%{x}<br>Annual improvement (%)=%{y}<extra></extra>",
         "legendgroup": "Kenya",
         "marker": {
          "color": "#FFA15A",
          "symbol": "circle"
         },
         "mode": "markers",
         "name": "Kenya",
         "orientation": "v",
         "showlegend": true,
         "type": "scatter",
         "x": [
          4.9
         ],
         "xaxis": "x",
         "y": [
          0.8162450300526869
         ],
         "yaxis": "y"
        },
        {
         "hovertemplate": "country/region_y=Kenya<extra></extra>",
         "legendgroup": "Kenya",
         "marker": {
          "color": "#FFA15A",
          "symbol": "circle"
         },
         "mode": "lines",
         "name": "Kenya",
         "showlegend": false,
         "type": "scatter",
         "xaxis": "x",
         "yaxis": "y"
        },
        {
         "hovertemplate": "country/region_y=Kyrgyz Republic<br>Annual GDP Growth (%)=%{x}<br>Annual improvement (%)=%{y}<extra></extra>",
         "legendgroup": "Kyrgyz Republic",
         "marker": {
          "color": "#19d3f3",
          "symbol": "circle"
         },
         "mode": "markers",
         "name": "Kyrgyz Republic",
         "orientation": "v",
         "showlegend": true,
         "type": "scatter",
         "x": [
          9
         ],
         "xaxis": "x",
         "y": [
          -6.56268408880416
         ],
         "yaxis": "y"
        },
        {
         "hovertemplate": "country/region_y=Kyrgyz Republic<extra></extra>",
         "legendgroup": "Kyrgyz Republic",
         "marker": {
          "color": "#19d3f3",
          "symbol": "circle"
         },
         "mode": "lines",
         "name": "Kyrgyz Republic",
         "showlegend": false,
         "type": "scatter",
         "xaxis": "x",
         "yaxis": "y"
        },
        {
         "hovertemplate": "country/region_y=Cambodia<br>Annual GDP Growth (%)=%{x}<br>Annual improvement (%)=%{y}<extra></extra>",
         "legendgroup": "Cambodia",
         "marker": {
          "color": "#FF6692",
          "symbol": "circle"
         },
         "mode": "markers",
         "name": "Cambodia",
         "orientation": "v",
         "showlegend": true,
         "type": "scatter",
         "x": [
          5.1
         ],
         "xaxis": "x",
         "y": [
          6.407505927992552
         ],
         "yaxis": "y"
        },
        {
         "hovertemplate": "country/region_y=Cambodia<extra></extra>",
         "legendgroup": "Cambodia",
         "marker": {
          "color": "#FF6692",
          "symbol": "circle"
         },
         "mode": "lines",
         "name": "Cambodia",
         "showlegend": false,
         "type": "scatter",
         "xaxis": "x",
         "yaxis": "y"
        },
        {
         "hovertemplate": "country/region_y=Kiribati<br>Annual GDP Growth (%)=%{x}<br>Annual improvement (%)=%{y}<extra></extra>",
         "legendgroup": "Kiribati",
         "marker": {
          "color": "#B6E880",
          "symbol": "circle"
         },
         "mode": "markers",
         "name": "Kiribati",
         "orientation": "v",
         "showlegend": true,
         "type": "scatter",
         "x": [
          3.9
         ],
         "xaxis": "x",
         "y": [
          -3.533180795699753
         ],
         "yaxis": "y"
        },
        {
         "hovertemplate": "country/region_y=Kiribati<extra></extra>",
         "legendgroup": "Kiribati",
         "marker": {
          "color": "#B6E880",
          "symbol": "circle"
         },
         "mode": "lines",
         "name": "Kiribati",
         "showlegend": false,
         "type": "scatter",
         "xaxis": "x",
         "yaxis": "y"
        },
        {
         "hovertemplate": "country/region_y=Saint Kitts and Nevis<br>Annual GDP Growth (%)=%{x}<br>Annual improvement (%)=%{y}<extra></extra>",
         "legendgroup": "Saint Kitts and Nevis",
         "marker": {
          "color": "#FF97FF",
          "symbol": "circle"
         },
         "mode": "markers",
         "name": "Saint Kitts and Nevis",
         "orientation": "v",
         "showlegend": true,
         "type": "scatter",
         "x": [
          10.5
         ],
         "xaxis": "x",
         "y": [
          2.277761351611385
         ],
         "yaxis": "y"
        },
        {
         "hovertemplate": "country/region_y=Saint Kitts and Nevis<extra></extra>",
         "legendgroup": "Saint Kitts and Nevis",
         "marker": {
          "color": "#FF97FF",
          "symbol": "circle"
         },
         "mode": "lines",
         "name": "Saint Kitts and Nevis",
         "showlegend": false,
         "type": "scatter",
         "xaxis": "x",
         "yaxis": "y"
        },
        {
         "hovertemplate": "country/region_y=Kuwait<br>Annual GDP Growth (%)=%{x}<br>Annual improvement (%)=%{y}<extra></extra>",
         "legendgroup": "Kuwait",
         "marker": {
          "color": "#FECB52",
          "symbol": "circle"
         },
         "mode": "markers",
         "name": "Kuwait",
         "orientation": "v",
         "showlegend": true,
         "type": "scatter",
         "x": [
          5.9
         ],
         "xaxis": "x",
         "y": [
          -0.005270707933036078
         ],
         "yaxis": "y"
        },
        {
         "hovertemplate": "country/region_y=Kuwait<extra></extra>",
         "legendgroup": "Kuwait",
         "marker": {
          "color": "#FECB52",
          "symbol": "circle"
         },
         "mode": "lines",
         "name": "Kuwait",
         "showlegend": false,
         "type": "scatter",
         "xaxis": "x",
         "yaxis": "y"
        },
        {
         "hovertemplate": "country/region_y=Lao P.D.R.<br>Annual GDP Growth (%)=%{x}<br>Annual improvement (%)=%{y}<extra></extra>",
         "legendgroup": "Lao P.D.R.",
         "marker": {
          "color": "#636efa",
          "symbol": "circle"
         },
         "mode": "markers",
         "name": "Lao P.D.R.",
         "orientation": "v",
         "showlegend": true,
         "type": "scatter",
         "x": [
          2.3
         ],
         "xaxis": "x",
         "y": [
          11.801404763145184
         ],
         "yaxis": "y"
        },
        {
         "hovertemplate": "country/region_y=Lao P.D.R.<extra></extra>",
         "legendgroup": "Lao P.D.R.",
         "marker": {
          "color": "#636efa",
          "symbol": "circle"
         },
         "mode": "lines",
         "name": "Lao P.D.R.",
         "showlegend": false,
         "type": "scatter",
         "xaxis": "x",
         "yaxis": "y"
        },
        {
         "hovertemplate": "country/region_y=Lebanon<br>Annual GDP Growth (%)=%{x}<br>Annual improvement (%)=%{y}<extra></extra>",
         "legendgroup": "Lebanon",
         "marker": {
          "color": "#EF553B",
          "symbol": "circle"
         },
         "mode": "markers",
         "name": "Lebanon",
         "orientation": "v",
         "showlegend": true,
         "type": "scatter",
         "x": [
          1
         ],
         "xaxis": "x",
         "y": [
          -9.040546366282864
         ],
         "yaxis": "y"
        },
        {
         "hovertemplate": "country/region_y=Lebanon<extra></extra>",
         "legendgroup": "Lebanon",
         "marker": {
          "color": "#EF553B",
          "symbol": "circle"
         },
         "mode": "lines",
         "name": "Lebanon",
         "showlegend": false,
         "type": "scatter",
         "xaxis": "x",
         "yaxis": "y"
        },
        {
         "hovertemplate": "country/region_y=Liberia<br>Annual GDP Growth (%)=%{x}<br>Annual improvement (%)=%{y}<extra></extra>",
         "legendgroup": "Liberia",
         "marker": {
          "color": "#00cc96",
          "symbol": "circle"
         },
         "mode": "markers",
         "name": "Liberia",
         "orientation": "v",
         "showlegend": true,
         "type": "scatter",
         "x": [
          4.8
         ],
         "xaxis": "x",
         "y": [
          2.1243144322417584
         ],
         "yaxis": "y"
        },
        {
         "hovertemplate": "country/region_y=Liberia<extra></extra>",
         "legendgroup": "Liberia",
         "marker": {
          "color": "#00cc96",
          "symbol": "circle"
         },
         "mode": "lines",
         "name": "Liberia",
         "showlegend": false,
         "type": "scatter",
         "xaxis": "x",
         "yaxis": "y"
        },
        {
         "hovertemplate": "country/region_y=Libya<br>Annual GDP Growth (%)=%{x}<br>Annual improvement (%)=%{y}<extra></extra>",
         "legendgroup": "Libya",
         "marker": {
          "color": "#ab63fa",
          "symbol": "circle"
         },
         "mode": "markers",
         "name": "Libya",
         "orientation": "v",
         "showlegend": true,
         "type": "scatter",
         "x": [
          -8.3
         ],
         "xaxis": "x",
         "y": [
          -30.199626799458336
         ],
         "yaxis": "y"
        },
        {
         "hovertemplate": "country/region_y=Libya<extra></extra>",
         "legendgroup": "Libya",
         "marker": {
          "color": "#ab63fa",
          "symbol": "circle"
         },
         "mode": "lines",
         "name": "Libya",
         "showlegend": false,
         "type": "scatter",
         "xaxis": "x",
         "yaxis": "y"
        },
        {
         "hovertemplate": "country/region_y=Saint Lucia<br>Annual GDP Growth (%)=%{x}<br>Annual improvement (%)=%{y}<extra></extra>",
         "legendgroup": "Saint Lucia",
         "marker": {
          "color": "#FFA15A",
          "symbol": "circle"
         },
         "mode": "markers",
         "name": "Saint Lucia",
         "orientation": "v",
         "showlegend": true,
         "type": "scatter",
         "x": [
          20.4
         ],
         "xaxis": "x",
         "y": [
          11.726505564446544
         ],
         "yaxis": "y"
        },
        {
         "hovertemplate": "country/region_y=Saint Lucia<extra></extra>",
         "legendgroup": "Saint Lucia",
         "marker": {
          "color": "#FFA15A",
          "symbol": "circle"
         },
         "mode": "lines",
         "name": "Saint Lucia",
         "showlegend": false,
         "type": "scatter",
         "xaxis": "x",
         "yaxis": "y"
        },
        {
         "hovertemplate": "country/region_y=Sri Lanka<br>Annual GDP Growth (%)=%{x}<br>Annual improvement (%)=%{y}<extra></extra>",
         "legendgroup": "Sri Lanka",
         "marker": {
          "color": "#19d3f3",
          "symbol": "circle"
         },
         "mode": "markers",
         "name": "Sri Lanka",
         "orientation": "v",
         "showlegend": true,
         "type": "scatter",
         "x": [
          -7.3
         ],
         "xaxis": "x",
         "y": [
          -6.252058603185517
         ],
         "yaxis": "y"
        },
        {
         "hovertemplate": "country/region_y=Sri Lanka<extra></extra>",
         "legendgroup": "Sri Lanka",
         "marker": {
          "color": "#19d3f3",
          "symbol": "circle"
         },
         "mode": "lines",
         "name": "Sri Lanka",
         "showlegend": false,
         "type": "scatter",
         "xaxis": "x",
         "yaxis": "y"
        },
        {
         "hovertemplate": "country/region_y=Lesotho<br>Annual GDP Growth (%)=%{x}<br>Annual improvement (%)=%{y}<extra></extra>",
         "legendgroup": "Lesotho",
         "marker": {
          "color": "#FF6692",
          "symbol": "circle"
         },
         "mode": "markers",
         "name": "Lesotho",
         "orientation": "v",
         "showlegend": true,
         "type": "scatter",
         "x": [
          1.6
         ],
         "xaxis": "x",
         "y": [
          -1.1835889038900538
         ],
         "yaxis": "y"
        },
        {
         "hovertemplate": "country/region_y=Lesotho<extra></extra>",
         "legendgroup": "Lesotho",
         "marker": {
          "color": "#FF6692",
          "symbol": "circle"
         },
         "mode": "lines",
         "name": "Lesotho",
         "showlegend": false,
         "type": "scatter",
         "xaxis": "x",
         "yaxis": "y"
        },
        {
         "hovertemplate": "country/region_y=Morocco<br>Annual GDP Growth (%)=%{x}<br>Annual improvement (%)=%{y}<extra></extra>",
         "legendgroup": "Morocco",
         "marker": {
          "color": "#B6E880",
          "symbol": "circle"
         },
         "mode": "markers",
         "name": "Morocco",
         "orientation": "v",
         "showlegend": true,
         "type": "scatter",
         "x": [
          1.5
         ],
         "xaxis": "x",
         "y": [
          -0.02950457075248103
         ],
         "yaxis": "y"
        },
        {
         "hovertemplate": "country/region_y=Morocco<extra></extra>",
         "legendgroup": "Morocco",
         "marker": {
          "color": "#B6E880",
          "symbol": "circle"
         },
         "mode": "lines",
         "name": "Morocco",
         "showlegend": false,
         "type": "scatter",
         "xaxis": "x",
         "yaxis": "y"
        },
        {
         "hovertemplate": "country/region_y=Moldova<br>Annual GDP Growth (%)=%{x}<br>Annual improvement (%)=%{y}<extra></extra>",
         "legendgroup": "Moldova",
         "marker": {
          "color": "#FF97FF",
          "symbol": "circle"
         },
         "mode": "markers",
         "name": "Moldova",
         "orientation": "v",
         "showlegend": true,
         "type": "scatter",
         "x": [
          -5
         ],
         "xaxis": "x",
         "y": [
          10.833472610865712
         ],
         "yaxis": "y"
        },
        {
         "hovertemplate": "country/region_y=Moldova<extra></extra>",
         "legendgroup": "Moldova",
         "marker": {
          "color": "#FF97FF",
          "symbol": "circle"
         },
         "mode": "lines",
         "name": "Moldova",
         "showlegend": false,
         "type": "scatter",
         "xaxis": "x",
         "yaxis": "y"
        },
        {
         "hovertemplate": "country/region_y=Madagascar<br>Annual GDP Growth (%)=%{x}<br>Annual improvement (%)=%{y}<extra></extra>",
         "legendgroup": "Madagascar",
         "marker": {
          "color": "#FECB52",
          "symbol": "circle"
         },
         "mode": "markers",
         "name": "Madagascar",
         "orientation": "v",
         "showlegend": true,
         "type": "scatter",
         "x": [
          4
         ],
         "xaxis": "x",
         "y": [
          -2.9879003053121744
         ],
         "yaxis": "y"
        },
        {
         "hovertemplate": "country/region_y=Madagascar<extra></extra>",
         "legendgroup": "Madagascar",
         "marker": {
          "color": "#FECB52",
          "symbol": "circle"
         },
         "mode": "lines",
         "name": "Madagascar",
         "showlegend": false,
         "type": "scatter",
         "xaxis": "x",
         "yaxis": "y"
        },
        {
         "hovertemplate": "country/region_y=Maldives<br>Annual GDP Growth (%)=%{x}<br>Annual improvement (%)=%{y}<extra></extra>",
         "legendgroup": "Maldives",
         "marker": {
          "color": "#636efa",
          "symbol": "circle"
         },
         "mode": "markers",
         "name": "Maldives",
         "orientation": "v",
         "showlegend": true,
         "type": "scatter",
         "x": [
          13.9
         ],
         "xaxis": "x",
         "y": [
          11.519950654718725
         ],
         "yaxis": "y"
        },
        {
         "hovertemplate": "country/region_y=Maldives<extra></extra>",
         "legendgroup": "Maldives",
         "marker": {
          "color": "#636efa",
          "symbol": "circle"
         },
         "mode": "lines",
         "name": "Maldives",
         "showlegend": false,
         "type": "scatter",
         "xaxis": "x",
         "yaxis": "y"
        },
        {
         "hovertemplate": "country/region_y=Mexico<br>Annual GDP Growth (%)=%{x}<br>Annual improvement (%)=%{y}<extra></extra>",
         "legendgroup": "Mexico",
         "marker": {
          "color": "#EF553B",
          "symbol": "circle"
         },
         "mode": "markers",
         "name": "Mexico",
         "orientation": "v",
         "showlegend": true,
         "type": "scatter",
         "x": [
          3.7
         ],
         "xaxis": "x",
         "y": [
          -2.187804429653628
         ],
         "yaxis": "y"
        },
        {
         "hovertemplate": "country/region_y=Mexico<extra></extra>",
         "legendgroup": "Mexico",
         "marker": {
          "color": "#EF553B",
          "symbol": "circle"
         },
         "mode": "lines",
         "name": "Mexico",
         "showlegend": false,
         "type": "scatter",
         "xaxis": "x",
         "yaxis": "y"
        },
        {
         "hovertemplate": "country/region_y=North Macedonia<br>Annual GDP Growth (%)=%{x}<br>Annual improvement (%)=%{y}<extra></extra>",
         "legendgroup": "North Macedonia",
         "marker": {
          "color": "#00cc96",
          "symbol": "circle"
         },
         "mode": "markers",
         "name": "North Macedonia",
         "orientation": "v",
         "showlegend": true,
         "type": "scatter",
         "x": [
          2.2
         ],
         "xaxis": "x",
         "y": [
          7.335156291729539
         ],
         "yaxis": "y"
        },
        {
         "hovertemplate": "country/region_y=North Macedonia<extra></extra>",
         "legendgroup": "North Macedonia",
         "marker": {
          "color": "#00cc96",
          "symbol": "circle"
         },
         "mode": "lines",
         "name": "North Macedonia",
         "showlegend": false,
         "type": "scatter",
         "xaxis": "x",
         "yaxis": "y"
        },
        {
         "hovertemplate": "country/region_y=Mali<br>Annual GDP Growth (%)=%{x}<br>Annual improvement (%)=%{y}<extra></extra>",
         "legendgroup": "Mali",
         "marker": {
          "color": "#ab63fa",
          "symbol": "circle"
         },
         "mode": "markers",
         "name": "Mali",
         "orientation": "v",
         "showlegend": true,
         "type": "scatter",
         "x": [
          3.5
         ],
         "xaxis": "x",
         "y": [
          -0.9696251880723095
         ],
         "yaxis": "y"
        },
        {
         "hovertemplate": "country/region_y=Mali<extra></extra>",
         "legendgroup": "Mali",
         "marker": {
          "color": "#ab63fa",
          "symbol": "circle"
         },
         "mode": "lines",
         "name": "Mali",
         "showlegend": false,
         "type": "scatter",
         "xaxis": "x",
         "yaxis": "y"
        },
        {
         "hovertemplate": "country/region_y=Myanmar<br>Annual GDP Growth (%)=%{x}<br>Annual improvement (%)=%{y}<extra></extra>",
         "legendgroup": "Myanmar",
         "marker": {
          "color": "#FFA15A",
          "symbol": "circle"
         },
         "mode": "markers",
         "name": "Myanmar",
         "orientation": "v",
         "showlegend": true,
         "type": "scatter",
         "x": [
          -4
         ],
         "xaxis": "x",
         "y": [
          7.3196883820790815
         ],
         "yaxis": "y"
        },
        {
         "hovertemplate": "country/region_y=Myanmar<extra></extra>",
         "legendgroup": "Myanmar",
         "marker": {
          "color": "#FFA15A",
          "symbol": "circle"
         },
         "mode": "lines",
         "name": "Myanmar",
         "showlegend": false,
         "type": "scatter",
         "xaxis": "x",
         "yaxis": "y"
        },
        {
         "hovertemplate": "country/region_y=Montenegro<br>Annual GDP Growth (%)=%{x}<br>Annual improvement (%)=%{y}<extra></extra>",
         "legendgroup": "Montenegro",
         "marker": {
          "color": "#19d3f3",
          "symbol": "circle"
         },
         "mode": "markers",
         "name": "Montenegro",
         "orientation": "v",
         "showlegend": true,
         "type": "scatter",
         "x": [
          6.4
         ],
         "xaxis": "x",
         "y": [
          4.517850663561784
         ],
         "yaxis": "y"
        },
        {
         "hovertemplate": "country/region_y=Montenegro<extra></extra>",
         "legendgroup": "Montenegro",
         "marker": {
          "color": "#19d3f3",
          "symbol": "circle"
         },
         "mode": "lines",
         "name": "Montenegro",
         "showlegend": false,
         "type": "scatter",
         "xaxis": "x",
         "yaxis": "y"
        },
        {
         "hovertemplate": "country/region_y=Mongolia<br>Annual GDP Growth (%)=%{x}<br>Annual improvement (%)=%{y}<extra></extra>",
         "legendgroup": "Mongolia",
         "marker": {
          "color": "#FF6692",
          "symbol": "circle"
         },
         "mode": "markers",
         "name": "Mongolia",
         "orientation": "v",
         "showlegend": true,
         "type": "scatter",
         "x": [
          5
         ],
         "xaxis": "x",
         "y": [
          21.450046665321754
         ],
         "yaxis": "y"
        },
        {
         "hovertemplate": "country/region_y=Mongolia<extra></extra>",
         "legendgroup": "Mongolia",
         "marker": {
          "color": "#FF6692",
          "symbol": "circle"
         },
         "mode": "lines",
         "name": "Mongolia",
         "showlegend": false,
         "type": "scatter",
         "xaxis": "x",
         "yaxis": "y"
        },
        {
         "hovertemplate": "country/region_y=Mozambique<br>Annual GDP Growth (%)=%{x}<br>Annual improvement (%)=%{y}<extra></extra>",
         "legendgroup": "Mozambique",
         "marker": {
          "color": "#B6E880",
          "symbol": "circle"
         },
         "mode": "markers",
         "name": "Mozambique",
         "orientation": "v",
         "showlegend": true,
         "type": "scatter",
         "x": [
          4.4
         ],
         "xaxis": "x",
         "y": [
          4.338207278203665
         ],
         "yaxis": "y"
        },
        {
         "hovertemplate": "country/region_y=Mozambique<extra></extra>",
         "legendgroup": "Mozambique",
         "marker": {
          "color": "#B6E880",
          "symbol": "circle"
         },
         "mode": "lines",
         "name": "Mozambique",
         "showlegend": false,
         "type": "scatter",
         "xaxis": "x",
         "yaxis": "y"
        },
        {
         "hovertemplate": "country/region_y=Mauritania<br>Annual GDP Growth (%)=%{x}<br>Annual improvement (%)=%{y}<extra></extra>",
         "legendgroup": "Mauritania",
         "marker": {
          "color": "#FF97FF",
          "symbol": "circle"
         },
         "mode": "markers",
         "name": "Mauritania",
         "orientation": "v",
         "showlegend": true,
         "type": "scatter",
         "x": [
          6.8
         ],
         "xaxis": "x",
         "y": [
          3.0813950415081393
         ],
         "yaxis": "y"
        },
        {
         "hovertemplate": "country/region_y=Mauritania<extra></extra>",
         "legendgroup": "Mauritania",
         "marker": {
          "color": "#FF97FF",
          "symbol": "circle"
         },
         "mode": "lines",
         "name": "Mauritania",
         "showlegend": false,
         "type": "scatter",
         "xaxis": "x",
         "yaxis": "y"
        },
        {
         "hovertemplate": "country/region_y=Mauritius<br>Annual GDP Growth (%)=%{x}<br>Annual improvement (%)=%{y}<extra></extra>",
         "legendgroup": "Mauritius",
         "marker": {
          "color": "#FECB52",
          "symbol": "circle"
         },
         "mode": "markers",
         "name": "Mauritius",
         "orientation": "v",
         "showlegend": true,
         "type": "scatter",
         "x": [
          8.9
         ],
         "xaxis": "x",
         "y": [
          12.332348457766063
         ],
         "yaxis": "y"
        },
        {
         "hovertemplate": "country/region_y=Mauritius<extra></extra>",
         "legendgroup": "Mauritius",
         "marker": {
          "color": "#FECB52",
          "symbol": "circle"
         },
         "mode": "lines",
         "name": "Mauritius",
         "showlegend": false,
         "type": "scatter",
         "xaxis": "x",
         "yaxis": "y"
        },
        {
         "hovertemplate": "country/region_y=Malawi<br>Annual GDP Growth (%)=%{x}<br>Annual improvement (%)=%{y}<extra></extra>",
         "legendgroup": "Malawi",
         "marker": {
          "color": "#636efa",
          "symbol": "circle"
         },
         "mode": "markers",
         "name": "Malawi",
         "orientation": "v",
         "showlegend": true,
         "type": "scatter",
         "x": [
          0.9
         ],
         "xaxis": "x",
         "y": [
          -0.7589264882043034
         ],
         "yaxis": "y"
        },
        {
         "hovertemplate": "country/region_y=Malawi<extra></extra>",
         "legendgroup": "Malawi",
         "marker": {
          "color": "#636efa",
          "symbol": "circle"
         },
         "mode": "lines",
         "name": "Malawi",
         "showlegend": false,
         "type": "scatter",
         "xaxis": "x",
         "yaxis": "y"
        },
        {
         "hovertemplate": "country/region_y=Malaysia<br>Annual GDP Growth (%)=%{x}<br>Annual improvement (%)=%{y}<extra></extra>",
         "legendgroup": "Malaysia",
         "marker": {
          "color": "#EF553B",
          "symbol": "circle"
         },
         "mode": "markers",
         "name": "Malaysia",
         "orientation": "v",
         "showlegend": true,
         "type": "scatter",
         "x": [
          8.9
         ],
         "xaxis": "x",
         "y": [
          3.899858480280216
         ],
         "yaxis": "y"
        },
        {
         "hovertemplate": "country/region_y=Malaysia<extra></extra>",
         "legendgroup": "Malaysia",
         "marker": {
          "color": "#EF553B",
          "symbol": "circle"
         },
         "mode": "lines",
         "name": "Malaysia",
         "showlegend": false,
         "type": "scatter",
         "xaxis": "x",
         "yaxis": "y"
        },
        {
         "hovertemplate": "country/region_y=Namibia<br>Annual GDP Growth (%)=%{x}<br>Annual improvement (%)=%{y}<extra></extra>",
         "legendgroup": "Namibia",
         "marker": {
          "color": "#00cc96",
          "symbol": "circle"
         },
         "mode": "markers",
         "name": "Namibia",
         "orientation": "v",
         "showlegend": true,
         "type": "scatter",
         "x": [
          5.3
         ],
         "xaxis": "x",
         "y": [
          4.724900558116085
         ],
         "yaxis": "y"
        },
        {
         "hovertemplate": "country/region_y=Namibia<extra></extra>",
         "legendgroup": "Namibia",
         "marker": {
          "color": "#00cc96",
          "symbol": "circle"
         },
         "mode": "lines",
         "name": "Namibia",
         "showlegend": false,
         "type": "scatter",
         "xaxis": "x",
         "yaxis": "y"
        },
        {
         "hovertemplate": "country/region_y=Niger<br>Annual GDP Growth (%)=%{x}<br>Annual improvement (%)=%{y}<extra></extra>",
         "legendgroup": "Niger",
         "marker": {
          "color": "#ab63fa",
          "symbol": "circle"
         },
         "mode": "markers",
         "name": "Niger",
         "orientation": "v",
         "showlegend": true,
         "type": "scatter",
         "x": [
          11.9
         ],
         "xaxis": "x",
         "y": [
          2.979055330515046
         ],
         "yaxis": "y"
        },
        {
         "hovertemplate": "country/region_y=Niger<extra></extra>",
         "legendgroup": "Niger",
         "marker": {
          "color": "#ab63fa",
          "symbol": "circle"
         },
         "mode": "lines",
         "name": "Niger",
         "showlegend": false,
         "type": "scatter",
         "xaxis": "x",
         "yaxis": "y"
        },
        {
         "hovertemplate": "country/region_y=Nigeria<br>Annual GDP Growth (%)=%{x}<br>Annual improvement (%)=%{y}<extra></extra>",
         "legendgroup": "Nigeria",
         "marker": {
          "color": "#FFA15A",
          "symbol": "circle"
         },
         "mode": "markers",
         "name": "Nigeria",
         "orientation": "v",
         "showlegend": true,
         "type": "scatter",
         "x": [
          3.3
         ],
         "xaxis": "x",
         "y": [
          -1.322453384892297
         ],
         "yaxis": "y"
        },
        {
         "hovertemplate": "country/region_y=Nigeria<extra></extra>",
         "legendgroup": "Nigeria",
         "marker": {
          "color": "#FFA15A",
          "symbol": "circle"
         },
         "mode": "lines",
         "name": "Nigeria",
         "showlegend": false,
         "type": "scatter",
         "xaxis": "x",
         "yaxis": "y"
        },
        {
         "hovertemplate": "country/region_y=Nicaragua<br>Annual GDP Growth (%)=%{x}<br>Annual improvement (%)=%{y}<extra></extra>",
         "legendgroup": "Nicaragua",
         "marker": {
          "color": "#19d3f3",
          "symbol": "circle"
         },
         "mode": "markers",
         "name": "Nicaragua",
         "orientation": "v",
         "showlegend": true,
         "type": "scatter",
         "x": [
          3.8
         ],
         "xaxis": "x",
         "y": [
          -0.6111235493650558
         ],
         "yaxis": "y"
        },
        {
         "hovertemplate": "country/region_y=Nicaragua<extra></extra>",
         "legendgroup": "Nicaragua",
         "marker": {
          "color": "#19d3f3",
          "symbol": "circle"
         },
         "mode": "lines",
         "name": "Nicaragua",
         "showlegend": false,
         "type": "scatter",
         "xaxis": "x",
         "yaxis": "y"
        },
        {
         "hovertemplate": "country/region_y=Nepal<br>Annual GDP Growth (%)=%{x}<br>Annual improvement (%)=%{y}<extra></extra>",
         "legendgroup": "Nepal",
         "marker": {
          "color": "#FF6692",
          "symbol": "circle"
         },
         "mode": "markers",
         "name": "Nepal",
         "orientation": "v",
         "showlegend": true,
         "type": "scatter",
         "x": [
          5.6
         ],
         "xaxis": "x",
         "y": [
          -9.032244349086183
         ],
         "yaxis": "y"
        },
        {
         "hovertemplate": "country/region_y=Nepal<extra></extra>",
         "legendgroup": "Nepal",
         "marker": {
          "color": "#FF6692",
          "symbol": "circle"
         },
         "mode": "lines",
         "name": "Nepal",
         "showlegend": false,
         "type": "scatter",
         "xaxis": "x",
         "yaxis": "y"
        },
        {
         "hovertemplate": "country/region_y=Oman<br>Annual GDP Growth (%)=%{x}<br>Annual improvement (%)=%{y}<extra></extra>",
         "legendgroup": "Oman",
         "marker": {
          "color": "#B6E880",
          "symbol": "circle"
         },
         "mode": "markers",
         "name": "Oman",
         "orientation": "v",
         "showlegend": true,
         "type": "scatter",
         "x": [
          9.6
         ],
         "xaxis": "x",
         "y": [
          -2.5352482333913073
         ],
         "yaxis": "y"
        },
        {
         "hovertemplate": "country/region_y=Oman<extra></extra>",
         "legendgroup": "Oman",
         "marker": {
          "color": "#B6E880",
          "symbol": "circle"
         },
         "mode": "lines",
         "name": "Oman",
         "showlegend": false,
         "type": "scatter",
         "xaxis": "x",
         "yaxis": "y"
        },
        {
         "hovertemplate": "country/region_y=Pakistan<br>Annual GDP Growth (%)=%{x}<br>Annual improvement (%)=%{y}<extra></extra>",
         "legendgroup": "Pakistan",
         "marker": {
          "color": "#FF97FF",
          "symbol": "circle"
         },
         "mode": "markers",
         "name": "Pakistan",
         "orientation": "v",
         "showlegend": true,
         "type": "scatter",
         "x": [
          6.2
         ],
         "xaxis": "x",
         "y": [
          0.18747964015294327
         ],
         "yaxis": "y"
        },
        {
         "hovertemplate": "country/region_y=Pakistan<extra></extra>",
         "legendgroup": "Pakistan",
         "marker": {
          "color": "#FF97FF",
          "symbol": "circle"
         },
         "mode": "lines",
         "name": "Pakistan",
         "showlegend": false,
         "type": "scatter",
         "xaxis": "x",
         "yaxis": "y"
        },
        {
         "hovertemplate": "country/region_y=Panama<br>Annual GDP Growth (%)=%{x}<br>Annual improvement (%)=%{y}<extra></extra>",
         "legendgroup": "Panama",
         "marker": {
          "color": "#FECB52",
          "symbol": "circle"
         },
         "mode": "markers",
         "name": "Panama",
         "orientation": "v",
         "showlegend": true,
         "type": "scatter",
         "x": [
          10.8
         ],
         "xaxis": "x",
         "y": [
          5.361590712649966
         ],
         "yaxis": "y"
        },
        {
         "hovertemplate": "country/region_y=Panama<extra></extra>",
         "legendgroup": "Panama",
         "marker": {
          "color": "#FECB52",
          "symbol": "circle"
         },
         "mode": "lines",
         "name": "Panama",
         "showlegend": false,
         "type": "scatter",
         "xaxis": "x",
         "yaxis": "y"
        },
        {
         "hovertemplate": "country/region_y=Peru<br>Annual GDP Growth (%)=%{x}<br>Annual improvement (%)=%{y}<extra></extra>",
         "legendgroup": "Peru",
         "marker": {
          "color": "#636efa",
          "symbol": "circle"
         },
         "mode": "markers",
         "name": "Peru",
         "orientation": "v",
         "showlegend": true,
         "type": "scatter",
         "x": [
          2.7
         ],
         "xaxis": "x",
         "y": [
          1.0523661730259537
         ],
         "yaxis": "y"
        },
        {
         "hovertemplate": "country/region_y=Peru<extra></extra>",
         "legendgroup": "Peru",
         "marker": {
          "color": "#636efa",
          "symbol": "circle"
         },
         "mode": "lines",
         "name": "Peru",
         "showlegend": false,
         "type": "scatter",
         "xaxis": "x",
         "yaxis": "y"
        },
        {
         "hovertemplate": "country/region_y=Philippines<br>Annual GDP Growth (%)=%{x}<br>Annual improvement (%)=%{y}<extra></extra>",
         "legendgroup": "Philippines",
         "marker": {
          "color": "#EF553B",
          "symbol": "circle"
         },
         "mode": "markers",
         "name": "Philippines",
         "orientation": "v",
         "showlegend": true,
         "type": "scatter",
         "x": [
          7.6
         ],
         "xaxis": "x",
         "y": [
          7.1927036309560215
         ],
         "yaxis": "y"
        },
        {
         "hovertemplate": "country/region_y=Philippines<extra></extra>",
         "legendgroup": "Philippines",
         "marker": {
          "color": "#EF553B",
          "symbol": "circle"
         },
         "mode": "lines",
         "name": "Philippines",
         "showlegend": false,
         "type": "scatter",
         "xaxis": "x",
         "yaxis": "y"
        },
        {
         "hovertemplate": "country/region_y=Papua New Guinea<br>Annual GDP Growth (%)=%{x}<br>Annual improvement (%)=%{y}<extra></extra>",
         "legendgroup": "Papua New Guinea",
         "marker": {
          "color": "#00cc96",
          "symbol": "circle"
         },
         "mode": "markers",
         "name": "Papua New Guinea",
         "orientation": "v",
         "showlegend": true,
         "type": "scatter",
         "x": [
          5.2
         ],
         "xaxis": "x",
         "y": [
          1.0610194916759408
         ],
         "yaxis": "y"
        },
        {
         "hovertemplate": "country/region_y=Papua New Guinea<extra></extra>",
         "legendgroup": "Papua New Guinea",
         "marker": {
          "color": "#00cc96",
          "symbol": "circle"
         },
         "mode": "lines",
         "name": "Papua New Guinea",
         "showlegend": false,
         "type": "scatter",
         "xaxis": "x",
         "yaxis": "y"
        },
        {
         "hovertemplate": "country/region_y=Poland<br>Annual GDP Growth (%)=%{x}<br>Annual improvement (%)=%{y}<extra></extra>",
         "legendgroup": "Poland",
         "marker": {
          "color": "#ab63fa",
          "symbol": "circle"
         },
         "mode": "markers",
         "name": "Poland",
         "orientation": "v",
         "showlegend": true,
         "type": "scatter",
         "x": [
          5.6
         ],
         "xaxis": "x",
         "y": [
          7.142555299753428
         ],
         "yaxis": "y"
        },
        {
         "hovertemplate": "country/region_y=Poland<extra></extra>",
         "legendgroup": "Poland",
         "marker": {
          "color": "#ab63fa",
          "symbol": "circle"
         },
         "mode": "lines",
         "name": "Poland",
         "showlegend": false,
         "type": "scatter",
         "xaxis": "x",
         "yaxis": "y"
        },
        {
         "hovertemplate": "country/region_y=Paraguay<br>Annual GDP Growth (%)=%{x}<br>Annual improvement (%)=%{y}<extra></extra>",
         "legendgroup": "Paraguay",
         "marker": {
          "color": "#FFA15A",
          "symbol": "circle"
         },
         "mode": "markers",
         "name": "Paraguay",
         "orientation": "v",
         "showlegend": true,
         "type": "scatter",
         "x": [
          0.2
         ],
         "xaxis": "x",
         "y": [
          -9.49287174647424
         ],
         "yaxis": "y"
        },
        {
         "hovertemplate": "country/region_y=Paraguay<extra></extra>",
         "legendgroup": "Paraguay",
         "marker": {
          "color": "#FFA15A",
          "symbol": "circle"
         },
         "mode": "lines",
         "name": "Paraguay",
         "showlegend": false,
         "type": "scatter",
         "xaxis": "x",
         "yaxis": "y"
        },
        {
         "hovertemplate": "country/region_y=West Bank and Gaza<br>Annual GDP Growth (%)=%{x}<br>Annual improvement (%)=%{y}<extra></extra>",
         "legendgroup": "West Bank and Gaza",
         "marker": {
          "color": "#19d3f3",
          "symbol": "circle"
         },
         "mode": "markers",
         "name": "West Bank and Gaza",
         "orientation": "v",
         "showlegend": true,
         "type": "scatter",
         "x": [
          4.1
         ],
         "xaxis": "x",
         "y": [
          -0.3247544743246511
         ],
         "yaxis": "y"
        },
        {
         "hovertemplate": "country/region_y=West Bank and Gaza<extra></extra>",
         "legendgroup": "West Bank and Gaza",
         "marker": {
          "color": "#19d3f3",
          "symbol": "circle"
         },
         "mode": "lines",
         "name": "West Bank and Gaza",
         "showlegend": false,
         "type": "scatter",
         "xaxis": "x",
         "yaxis": "y"
        },
        {
         "hovertemplate": "country/region_y=Qatar<br>Annual GDP Growth (%)=%{x}<br>Annual improvement (%)=%{y}<extra></extra>",
         "legendgroup": "Qatar",
         "marker": {
          "color": "#FF6692",
          "symbol": "circle"
         },
         "mode": "markers",
         "name": "Qatar",
         "orientation": "v",
         "showlegend": true,
         "type": "scatter",
         "x": [
          4.2
         ],
         "xaxis": "x",
         "y": [
          5.208863774143413
         ],
         "yaxis": "y"
        },
        {
         "hovertemplate": "country/region_y=Qatar<extra></extra>",
         "legendgroup": "Qatar",
         "marker": {
          "color": "#FF6692",
          "symbol": "circle"
         },
         "mode": "lines",
         "name": "Qatar",
         "showlegend": false,
         "type": "scatter",
         "xaxis": "x",
         "yaxis": "y"
        },
        {
         "hovertemplate": "country/region_y=Romania<br>Annual GDP Growth (%)=%{x}<br>Annual improvement (%)=%{y}<extra></extra>",
         "legendgroup": "Romania",
         "marker": {
          "color": "#B6E880",
          "symbol": "circle"
         },
         "mode": "markers",
         "name": "Romania",
         "orientation": "v",
         "showlegend": true,
         "type": "scatter",
         "x": [
          4.1
         ],
         "xaxis": "x",
         "y": [
          10.932210669233477
         ],
         "yaxis": "y"
        },
        {
         "hovertemplate": "country/region_y=Romania<extra></extra>",
         "legendgroup": "Romania",
         "marker": {
          "color": "#B6E880",
          "symbol": "circle"
         },
         "mode": "lines",
         "name": "Romania",
         "showlegend": false,
         "type": "scatter",
         "xaxis": "x",
         "yaxis": "y"
        },
        {
         "hovertemplate": "country/region_y=Russian Federation<br>Annual GDP Growth (%)=%{x}<br>Annual improvement (%)=%{y}<extra></extra>",
         "legendgroup": "Russian Federation",
         "marker": {
          "color": "#FF97FF",
          "symbol": "circle"
         },
         "mode": "markers",
         "name": "Russian Federation",
         "orientation": "v",
         "showlegend": true,
         "type": "scatter",
         "x": [
          -1.2
         ],
         "xaxis": "x",
         "y": [
          -2.881542944421245
         ],
         "yaxis": "y"
        },
        {
         "hovertemplate": "country/region_y=Russian Federation<extra></extra>",
         "legendgroup": "Russian Federation",
         "marker": {
          "color": "#FF97FF",
          "symbol": "circle"
         },
         "mode": "lines",
         "name": "Russian Federation",
         "showlegend": false,
         "type": "scatter",
         "xaxis": "x",
         "yaxis": "y"
        },
        {
         "hovertemplate": "country/region_y=Rwanda<br>Annual GDP Growth (%)=%{x}<br>Annual improvement (%)=%{y}<extra></extra>",
         "legendgroup": "Rwanda",
         "marker": {
          "color": "#FECB52",
          "symbol": "circle"
         },
         "mode": "markers",
         "name": "Rwanda",
         "orientation": "v",
         "showlegend": true,
         "type": "scatter",
         "x": [
          8.2
         ],
         "xaxis": "x",
         "y": [
          1.7763695780370625
         ],
         "yaxis": "y"
        },
        {
         "hovertemplate": "country/region_y=Rwanda<extra></extra>",
         "legendgroup": "Rwanda",
         "marker": {
          "color": "#FECB52",
          "symbol": "circle"
         },
         "mode": "lines",
         "name": "Rwanda",
         "showlegend": false,
         "type": "scatter",
         "xaxis": "x",
         "yaxis": "y"
        },
        {
         "hovertemplate": "country/region_y=Saudi Arabia<br>Annual GDP Growth (%)=%{x}<br>Annual improvement (%)=%{y}<extra></extra>",
         "legendgroup": "Saudi Arabia",
         "marker": {
          "color": "#636efa",
          "symbol": "circle"
         },
         "mode": "markers",
         "name": "Saudi Arabia",
         "orientation": "v",
         "showlegend": true,
         "type": "scatter",
         "x": [
          7.5
         ],
         "xaxis": "x",
         "y": [
          0.009811456356723092
         ],
         "yaxis": "y"
        },
        {
         "hovertemplate": "country/region_y=Saudi Arabia<extra></extra>",
         "legendgroup": "Saudi Arabia",
         "marker": {
          "color": "#636efa",
          "symbol": "circle"
         },
         "mode": "lines",
         "name": "Saudi Arabia",
         "showlegend": false,
         "type": "scatter",
         "xaxis": "x",
         "yaxis": "y"
        },
        {
         "hovertemplate": "country/region_y=Sudan<br>Annual GDP Growth (%)=%{x}<br>Annual improvement (%)=%{y}<extra></extra>",
         "legendgroup": "Sudan",
         "marker": {
          "color": "#EF553B",
          "symbol": "circle"
         },
         "mode": "markers",
         "name": "Sudan",
         "orientation": "v",
         "showlegend": true,
         "type": "scatter",
         "x": [
          -2.5
         ],
         "xaxis": "x",
         "y": [
          -0.21610848308506458
         ],
         "yaxis": "y"
        },
        {
         "hovertemplate": "country/region_y=Sudan<extra></extra>",
         "legendgroup": "Sudan",
         "marker": {
          "color": "#EF553B",
          "symbol": "circle"
         },
         "mode": "lines",
         "name": "Sudan",
         "showlegend": false,
         "type": "scatter",
         "xaxis": "x",
         "yaxis": "y"
        },
        {
         "hovertemplate": "country/region_y=Senegal<br>Annual GDP Growth (%)=%{x}<br>Annual improvement (%)=%{y}<extra></extra>",
         "legendgroup": "Senegal",
         "marker": {
          "color": "#00cc96",
          "symbol": "circle"
         },
         "mode": "markers",
         "name": "Senegal",
         "orientation": "v",
         "showlegend": true,
         "type": "scatter",
         "x": [
          4
         ],
         "xaxis": "x",
         "y": [
          7.643712769978084
         ],
         "yaxis": "y"
        },
        {
         "hovertemplate": "country/region_y=Senegal<extra></extra>",
         "legendgroup": "Senegal",
         "marker": {
          "color": "#00cc96",
          "symbol": "circle"
         },
         "mode": "lines",
         "name": "Senegal",
         "showlegend": false,
         "type": "scatter",
         "xaxis": "x",
         "yaxis": "y"
        },
        {
         "hovertemplate": "country/region_y=Solomon Islands<br>Annual GDP Growth (%)=%{x}<br>Annual improvement (%)=%{y}<extra></extra>",
         "legendgroup": "Solomon Islands",
         "marker": {
          "color": "#ab63fa",
          "symbol": "circle"
         },
         "mode": "markers",
         "name": "Solomon Islands",
         "orientation": "v",
         "showlegend": true,
         "type": "scatter",
         "x": [
          2.4
         ],
         "xaxis": "x",
         "y": [
          -9.196073130334748
         ],
         "yaxis": "y"
        },
        {
         "hovertemplate": "country/region_y=Solomon Islands<extra></extra>",
         "legendgroup": "Solomon Islands",
         "marker": {
          "color": "#ab63fa",
          "symbol": "circle"
         },
         "mode": "lines",
         "name": "Solomon Islands",
         "showlegend": false,
         "type": "scatter",
         "xaxis": "x",
         "yaxis": "y"
        },
        {
         "hovertemplate": "country/region_y=Sierra Leone<br>Annual GDP Growth (%)=%{x}<br>Annual improvement (%)=%{y}<extra></extra>",
         "legendgroup": "Sierra Leone",
         "marker": {
          "color": "#FFA15A",
          "symbol": "circle"
         },
         "mode": "markers",
         "name": "Sierra Leone",
         "orientation": "v",
         "showlegend": true,
         "type": "scatter",
         "x": [
          5.3
         ],
         "xaxis": "x",
         "y": [
          0.41144832585180424
         ],
         "yaxis": "y"
        },
        {
         "hovertemplate": "country/region_y=Sierra Leone<extra></extra>",
         "legendgroup": "Sierra Leone",
         "marker": {
          "color": "#FFA15A",
          "symbol": "circle"
         },
         "mode": "lines",
         "name": "Sierra Leone",
         "showlegend": false,
         "type": "scatter",
         "xaxis": "x",
         "yaxis": "y"
        },
        {
         "hovertemplate": "country/region_y=El Salvador<br>Annual GDP Growth (%)=%{x}<br>Annual improvement (%)=%{y}<extra></extra>",
         "legendgroup": "El Salvador",
         "marker": {
          "color": "#19d3f3",
          "symbol": "circle"
         },
         "mode": "markers",
         "name": "El Salvador",
         "orientation": "v",
         "showlegend": true,
         "type": "scatter",
         "x": [
          2.8
         ],
         "xaxis": "x",
         "y": [
          -8.366745043452873
         ],
         "yaxis": "y"
        },
        {
         "hovertemplate": "country/region_y=El Salvador<extra></extra>",
         "legendgroup": "El Salvador",
         "marker": {
          "color": "#19d3f3",
          "symbol": "circle"
         },
         "mode": "lines",
         "name": "El Salvador",
         "showlegend": false,
         "type": "scatter",
         "xaxis": "x",
         "yaxis": "y"
        },
        {
         "hovertemplate": "country/region_y=Somalia<br>Annual GDP Growth (%)=%{x}<br>Annual improvement (%)=%{y}<extra></extra>",
         "legendgroup": "Somalia",
         "marker": {
          "color": "#FF6692",
          "symbol": "circle"
         },
         "mode": "markers",
         "name": "Somalia",
         "orientation": "v",
         "showlegend": true,
         "type": "scatter",
         "x": [
          2.7
         ],
         "xaxis": "x",
         "y": [
          -0.19377847742996224
         ],
         "yaxis": "y"
        },
        {
         "hovertemplate": "country/region_y=Somalia<extra></extra>",
         "legendgroup": "Somalia",
         "marker": {
          "color": "#FF6692",
          "symbol": "circle"
         },
         "mode": "lines",
         "name": "Somalia",
         "showlegend": false,
         "type": "scatter",
         "xaxis": "x",
         "yaxis": "y"
        },
        {
         "hovertemplate": "country/region_y=Serbia<br>Annual GDP Growth (%)=%{x}<br>Annual improvement (%)=%{y}<extra></extra>",
         "legendgroup": "Serbia",
         "marker": {
          "color": "#B6E880",
          "symbol": "circle"
         },
         "mode": "markers",
         "name": "Serbia",
         "orientation": "v",
         "showlegend": true,
         "type": "scatter",
         "x": [
          2.5
         ],
         "xaxis": "x",
         "y": [
          8.295928658692752
         ],
         "yaxis": "y"
        },
        {
         "hovertemplate": "country/region_y=Serbia<extra></extra>",
         "legendgroup": "Serbia",
         "marker": {
          "color": "#B6E880",
          "symbol": "circle"
         },
         "mode": "lines",
         "name": "Serbia",
         "showlegend": false,
         "type": "scatter",
         "xaxis": "x",
         "yaxis": "y"
        },
        {
         "hovertemplate": "country/region_y=South Sudan, Republic of<br>Annual GDP Growth (%)=%{x}<br>Annual improvement (%)=%{y}<extra></extra>",
         "legendgroup": "South Sudan, Republic of",
         "marker": {
          "color": "#FF97FF",
          "symbol": "circle"
         },
         "mode": "markers",
         "name": "South Sudan, Republic of",
         "orientation": "v",
         "showlegend": true,
         "type": "scatter",
         "x": [
          -5.2
         ],
         "xaxis": "x",
         "y": [
          -2.6637532961506505
         ],
         "yaxis": "y"
        },
        {
         "hovertemplate": "country/region_y=South Sudan, Republic of<extra></extra>",
         "legendgroup": "South Sudan, Republic of",
         "marker": {
          "color": "#FF97FF",
          "symbol": "circle"
         },
         "mode": "lines",
         "name": "South Sudan, Republic of",
         "showlegend": false,
         "type": "scatter",
         "xaxis": "x",
         "yaxis": "y"
        },
        {
         "hovertemplate": "country/region_y=São Tomé and Príncipe<br>Annual GDP Growth (%)=%{x}<br>Annual improvement (%)=%{y}<extra></extra>",
         "legendgroup": "São Tomé and Príncipe",
         "marker": {
          "color": "#FECB52",
          "symbol": "circle"
         },
         "mode": "markers",
         "name": "São Tomé and Príncipe",
         "orientation": "v",
         "showlegend": true,
         "type": "scatter",
         "x": [
          0.2
         ],
         "xaxis": "x",
         "y": [
          -2.3365349702766602
         ],
         "yaxis": "y"
        },
        {
         "hovertemplate": "country/region_y=São Tomé and Príncipe<extra></extra>",
         "legendgroup": "São Tomé and Príncipe",
         "marker": {
          "color": "#FECB52",
          "symbol": "circle"
         },
         "mode": "lines",
         "name": "São Tomé and Príncipe",
         "showlegend": false,
         "type": "scatter",
         "xaxis": "x",
         "yaxis": "y"
        },
        {
         "hovertemplate": "country/region_y=Suriname<br>Annual GDP Growth (%)=%{x}<br>Annual improvement (%)=%{y}<extra></extra>",
         "legendgroup": "Suriname",
         "marker": {
          "color": "#636efa",
          "symbol": "circle"
         },
         "mode": "markers",
         "name": "Suriname",
         "orientation": "v",
         "showlegend": true,
         "type": "scatter",
         "x": [
          2.4
         ],
         "xaxis": "x",
         "y": [
          -2.1654115995779932
         ],
         "yaxis": "y"
        },
        {
         "hovertemplate": "country/region_y=Suriname<extra></extra>",
         "legendgroup": "Suriname",
         "marker": {
          "color": "#636efa",
          "symbol": "circle"
         },
         "mode": "lines",
         "name": "Suriname",
         "showlegend": false,
         "type": "scatter",
         "xaxis": "x",
         "yaxis": "y"
        },
        {
         "hovertemplate": "country/region_y=Eswatini<br>Annual GDP Growth (%)=%{x}<br>Annual improvement (%)=%{y}<extra></extra>",
         "legendgroup": "Eswatini",
         "marker": {
          "color": "#EF553B",
          "symbol": "circle"
         },
         "mode": "markers",
         "name": "Eswatini",
         "orientation": "v",
         "showlegend": true,
         "type": "scatter",
         "x": [
          0.5
         ],
         "xaxis": "x",
         "y": [
          8.05997311248775
         ],
         "yaxis": "y"
        },
        {
         "hovertemplate": "country/region_y=Eswatini<extra></extra>",
         "legendgroup": "Eswatini",
         "marker": {
          "color": "#EF553B",
          "symbol": "circle"
         },
         "mode": "lines",
         "name": "Eswatini",
         "showlegend": false,
         "type": "scatter",
         "xaxis": "x",
         "yaxis": "y"
        },
        {
         "hovertemplate": "country/region_y=Seychelles<br>Annual GDP Growth (%)=%{x}<br>Annual improvement (%)=%{y}<extra></extra>",
         "legendgroup": "Seychelles",
         "marker": {
          "color": "#00cc96",
          "symbol": "circle"
         },
         "mode": "markers",
         "name": "Seychelles",
         "orientation": "v",
         "showlegend": true,
         "type": "scatter",
         "x": [
          15
         ],
         "xaxis": "x",
         "y": [
          10.472677411392139
         ],
         "yaxis": "y"
        },
        {
         "hovertemplate": "country/region_y=Seychelles<extra></extra>",
         "legendgroup": "Seychelles",
         "marker": {
          "color": "#00cc96",
          "symbol": "circle"
         },
         "mode": "lines",
         "name": "Seychelles",
         "showlegend": false,
         "type": "scatter",
         "xaxis": "x",
         "yaxis": "y"
        },
        {
         "hovertemplate": "country/region_y=Chad<br>Annual GDP Growth (%)=%{x}<br>Annual improvement (%)=%{y}<extra></extra>",
         "legendgroup": "Chad",
         "marker": {
          "color": "#ab63fa",
          "symbol": "circle"
         },
         "mode": "markers",
         "name": "Chad",
         "orientation": "v",
         "showlegend": true,
         "type": "scatter",
         "x": [
          3.6
         ],
         "xaxis": "x",
         "y": [
          0.2668737851133529
         ],
         "yaxis": "y"
        },
        {
         "hovertemplate": "country/region_y=Chad<extra></extra>",
         "legendgroup": "Chad",
         "marker": {
          "color": "#ab63fa",
          "symbol": "circle"
         },
         "mode": "lines",
         "name": "Chad",
         "showlegend": false,
         "type": "scatter",
         "xaxis": "x",
         "yaxis": "y"
        },
        {
         "hovertemplate": "country/region_y=Togo<br>Annual GDP Growth (%)=%{x}<br>Annual improvement (%)=%{y}<extra></extra>",
         "legendgroup": "Togo",
         "marker": {
          "color": "#FFA15A",
          "symbol": "circle"
         },
         "mode": "markers",
         "name": "Togo",
         "orientation": "v",
         "showlegend": true,
         "type": "scatter",
         "x": [
          5.8
         ],
         "xaxis": "x",
         "y": [
          8.436650536848035
         ],
         "yaxis": "y"
        },
        {
         "hovertemplate": "country/region_y=Togo<extra></extra>",
         "legendgroup": "Togo",
         "marker": {
          "color": "#FFA15A",
          "symbol": "circle"
         },
         "mode": "lines",
         "name": "Togo",
         "showlegend": false,
         "type": "scatter",
         "xaxis": "x",
         "yaxis": "y"
        },
        {
         "hovertemplate": "country/region_y=Thailand<br>Annual GDP Growth (%)=%{x}<br>Annual improvement (%)=%{y}<extra></extra>",
         "legendgroup": "Thailand",
         "marker": {
          "color": "#19d3f3",
          "symbol": "circle"
         },
         "mode": "markers",
         "name": "Thailand",
         "orientation": "v",
         "showlegend": true,
         "type": "scatter",
         "x": [
          2.5
         ],
         "xaxis": "x",
         "y": [
          0.21897333566767152
         ],
         "yaxis": "y"
        },
        {
         "hovertemplate": "country/region_y=Thailand<extra></extra>",
         "legendgroup": "Thailand",
         "marker": {
          "color": "#19d3f3",
          "symbol": "circle"
         },
         "mode": "lines",
         "name": "Thailand",
         "showlegend": false,
         "type": "scatter",
         "xaxis": "x",
         "yaxis": "y"
        },
        {
         "hovertemplate": "country/region_y=Tajikistan<br>Annual GDP Growth (%)=%{x}<br>Annual improvement (%)=%{y}<extra></extra>",
         "legendgroup": "Tajikistan",
         "marker": {
          "color": "#FF6692",
          "symbol": "circle"
         },
         "mode": "markers",
         "name": "Tajikistan",
         "orientation": "v",
         "showlegend": true,
         "type": "scatter",
         "x": [
          8
         ],
         "xaxis": "x",
         "y": [
          5.264655218088954
         ],
         "yaxis": "y"
        },
        {
         "hovertemplate": "country/region_y=Tajikistan<extra></extra>",
         "legendgroup": "Tajikistan",
         "marker": {
          "color": "#FF6692",
          "symbol": "circle"
         },
         "mode": "lines",
         "name": "Tajikistan",
         "showlegend": false,
         "type": "scatter",
         "xaxis": "x",
         "yaxis": "y"
        },
        {
         "hovertemplate": "country/region_y=Turkmenistan<br>Annual GDP Growth (%)=%{x}<br>Annual improvement (%)=%{y}<extra></extra>",
         "legendgroup": "Turkmenistan",
         "marker": {
          "color": "#B6E880",
          "symbol": "circle"
         },
         "mode": "markers",
         "name": "Turkmenistan",
         "orientation": "v",
         "showlegend": true,
         "type": "scatter",
         "x": [
          5.3
         ],
         "xaxis": "x",
         "y": [
          0.11304557867122256
         ],
         "yaxis": "y"
        },
        {
         "hovertemplate": "country/region_y=Turkmenistan<extra></extra>",
         "legendgroup": "Turkmenistan",
         "marker": {
          "color": "#B6E880",
          "symbol": "circle"
         },
         "mode": "lines",
         "name": "Turkmenistan",
         "showlegend": false,
         "type": "scatter",
         "xaxis": "x",
         "yaxis": "y"
        },
        {
         "hovertemplate": "country/region_y=Timor-Leste<br>Annual GDP Growth (%)=%{x}<br>Annual improvement (%)=%{y}<extra></extra>",
         "legendgroup": "Timor-Leste",
         "marker": {
          "color": "#FF97FF",
          "symbol": "circle"
         },
         "mode": "markers",
         "name": "Timor-Leste",
         "orientation": "v",
         "showlegend": true,
         "type": "scatter",
         "x": [
          4
         ],
         "xaxis": "x",
         "y": [
          -0.7687359653386405
         ],
         "yaxis": "y"
        },
        {
         "hovertemplate": "country/region_y=Timor-Leste<extra></extra>",
         "legendgroup": "Timor-Leste",
         "marker": {
          "color": "#FF97FF",
          "symbol": "circle"
         },
         "mode": "lines",
         "name": "Timor-Leste",
         "showlegend": false,
         "type": "scatter",
         "xaxis": "x",
         "yaxis": "y"
        },
        {
         "hovertemplate": "country/region_y=Tonga<br>Annual GDP Growth (%)=%{x}<br>Annual improvement (%)=%{y}<extra></extra>",
         "legendgroup": "Tonga",
         "marker": {
          "color": "#FECB52",
          "symbol": "circle"
         },
         "mode": "markers",
         "name": "Tonga",
         "orientation": "v",
         "showlegend": true,
         "type": "scatter",
         "x": [
          0
         ],
         "xaxis": "x",
         "y": [
          -6.838178104050785
         ],
         "yaxis": "y"
        },
        {
         "hovertemplate": "country/region_y=Tonga<extra></extra>",
         "legendgroup": "Tonga",
         "marker": {
          "color": "#FECB52",
          "symbol": "circle"
         },
         "mode": "lines",
         "name": "Tonga",
         "showlegend": false,
         "type": "scatter",
         "xaxis": "x",
         "yaxis": "y"
        },
        {
         "hovertemplate": "country/region_y=Tunisia<br>Annual GDP Growth (%)=%{x}<br>Annual improvement (%)=%{y}<extra></extra>",
         "legendgroup": "Tunisia",
         "marker": {
          "color": "#636efa",
          "symbol": "circle"
         },
         "mode": "markers",
         "name": "Tunisia",
         "orientation": "v",
         "showlegend": true,
         "type": "scatter",
         "x": [
          2.7
         ],
         "xaxis": "x",
         "y": [
          1.3441101198435668
         ],
         "yaxis": "y"
        },
        {
         "hovertemplate": "country/region_y=Tunisia<extra></extra>",
         "legendgroup": "Tunisia",
         "marker": {
          "color": "#636efa",
          "symbol": "circle"
         },
         "mode": "lines",
         "name": "Tunisia",
         "showlegend": false,
         "type": "scatter",
         "xaxis": "x",
         "yaxis": "y"
        },
        {
         "hovertemplate": "country/region_y=Türkiye, Republic of<br>Annual GDP Growth (%)=%{x}<br>Annual improvement (%)=%{y}<extra></extra>",
         "legendgroup": "Türkiye, Republic of",
         "marker": {
          "color": "#EF553B",
          "symbol": "circle"
         },
         "mode": "markers",
         "name": "Türkiye, Republic of",
         "orientation": "v",
         "showlegend": true,
         "type": "scatter",
         "x": [
          5.5
         ],
         "xaxis": "x",
         "y": [
          7.9263433915517485
         ],
         "yaxis": "y"
        },
        {
         "hovertemplate": "country/region_y=Türkiye, Republic of<extra></extra>",
         "legendgroup": "Türkiye, Republic of",
         "marker": {
          "color": "#EF553B",
          "symbol": "circle"
         },
         "mode": "lines",
         "name": "Türkiye, Republic of",
         "showlegend": false,
         "type": "scatter",
         "xaxis": "x",
         "yaxis": "y"
        },
        {
         "hovertemplate": "country/region_y=Tanzania<br>Annual GDP Growth (%)=%{x}<br>Annual improvement (%)=%{y}<extra></extra>",
         "legendgroup": "Tanzania",
         "marker": {
          "color": "#00cc96",
          "symbol": "circle"
         },
         "mode": "markers",
         "name": "Tanzania",
         "orientation": "v",
         "showlegend": true,
         "type": "scatter",
         "x": [
          4.7
         ],
         "xaxis": "x",
         "y": [
          -6.470605955987319
         ],
         "yaxis": "y"
        },
        {
         "hovertemplate": "country/region_y=Tanzania<extra></extra>",
         "legendgroup": "Tanzania",
         "marker": {
          "color": "#00cc96",
          "symbol": "circle"
         },
         "mode": "lines",
         "name": "Tanzania",
         "showlegend": false,
         "type": "scatter",
         "xaxis": "x",
         "yaxis": "y"
        },
        {
         "hovertemplate": "country/region_y=Uganda<br>Annual GDP Growth (%)=%{x}<br>Annual improvement (%)=%{y}<extra></extra>",
         "legendgroup": "Uganda",
         "marker": {
          "color": "#ab63fa",
          "symbol": "circle"
         },
         "mode": "markers",
         "name": "Uganda",
         "orientation": "v",
         "showlegend": true,
         "type": "scatter",
         "x": [
          6.3
         ],
         "xaxis": "x",
         "y": [
          2.5261055046066683
         ],
         "yaxis": "y"
        },
        {
         "hovertemplate": "country/region_y=Uganda<extra></extra>",
         "legendgroup": "Uganda",
         "marker": {
          "color": "#ab63fa",
          "symbol": "circle"
         },
         "mode": "lines",
         "name": "Uganda",
         "showlegend": false,
         "type": "scatter",
         "xaxis": "x",
         "yaxis": "y"
        },
        {
         "hovertemplate": "country/region_y=Ukraine<br>Annual GDP Growth (%)=%{x}<br>Annual improvement (%)=%{y}<extra></extra>",
         "legendgroup": "Ukraine",
         "marker": {
          "color": "#FFA15A",
          "symbol": "circle"
         },
         "mode": "markers",
         "name": "Ukraine",
         "orientation": "v",
         "showlegend": true,
         "type": "scatter",
         "x": [
          -28.8
         ],
         "xaxis": "x",
         "y": [
          10.64892179570547
         ],
         "yaxis": "y"
        },
        {
         "hovertemplate": "country/region_y=Ukraine<extra></extra>",
         "legendgroup": "Ukraine",
         "marker": {
          "color": "#FFA15A",
          "symbol": "circle"
         },
         "mode": "lines",
         "name": "Ukraine",
         "showlegend": false,
         "type": "scatter",
         "xaxis": "x",
         "yaxis": "y"
        },
        {
         "hovertemplate": "country/region_y=Uruguay<br>Annual GDP Growth (%)=%{x}<br>Annual improvement (%)=%{y}<extra></extra>",
         "legendgroup": "Uruguay",
         "marker": {
          "color": "#19d3f3",
          "symbol": "circle"
         },
         "mode": "markers",
         "name": "Uruguay",
         "orientation": "v",
         "showlegend": true,
         "type": "scatter",
         "x": [
          4.7
         ],
         "xaxis": "x",
         "y": [
          -1.2291903480524669
         ],
         "yaxis": "y"
        },
        {
         "hovertemplate": "country/region_y=Uruguay<extra></extra>",
         "legendgroup": "Uruguay",
         "marker": {
          "color": "#19d3f3",
          "symbol": "circle"
         },
         "mode": "lines",
         "name": "Uruguay",
         "showlegend": false,
         "type": "scatter",
         "xaxis": "x",
         "yaxis": "y"
        },
        {
         "hovertemplate": "country/region_y=Uzbekistan<br>Annual GDP Growth (%)=%{x}<br>Annual improvement (%)=%{y}<extra></extra>",
         "legendgroup": "Uzbekistan",
         "marker": {
          "color": "#FF6692",
          "symbol": "circle"
         },
         "mode": "markers",
         "name": "Uzbekistan",
         "orientation": "v",
         "showlegend": true,
         "type": "scatter",
         "x": [
          6
         ],
         "xaxis": "x",
         "y": [
          15.174897963868483
         ],
         "yaxis": "y"
        },
        {
         "hovertemplate": "country/region_y=Uzbekistan<extra></extra>",
         "legendgroup": "Uzbekistan",
         "marker": {
          "color": "#FF6692",
          "symbol": "circle"
         },
         "mode": "lines",
         "name": "Uzbekistan",
         "showlegend": false,
         "type": "scatter",
         "xaxis": "x",
         "yaxis": "y"
        },
        {
         "hovertemplate": "country/region_y=Saint Vincent and the Grenadines<br>Annual GDP Growth (%)=%{x}<br>Annual improvement (%)=%{y}<extra></extra>",
         "legendgroup": "Saint Vincent and the Grenadines",
         "marker": {
          "color": "#B6E880",
          "symbol": "circle"
         },
         "mode": "markers",
         "name": "Saint Vincent and the Grenadines",
         "orientation": "v",
         "showlegend": true,
         "type": "scatter",
         "x": [
          3.1
         ],
         "xaxis": "x",
         "y": [
          0.45503986622684733
         ],
         "yaxis": "y"
        },
        {
         "hovertemplate": "country/region_y=Saint Vincent and the Grenadines<extra></extra>",
         "legendgroup": "Saint Vincent and the Grenadines",
         "marker": {
          "color": "#B6E880",
          "symbol": "circle"
         },
         "mode": "lines",
         "name": "Saint Vincent and the Grenadines",
         "showlegend": false,
         "type": "scatter",
         "xaxis": "x",
         "yaxis": "y"
        },
        {
         "hovertemplate": "country/region_y=Venezuela<br>Annual GDP Growth (%)=%{x}<br>Annual improvement (%)=%{y}<extra></extra>",
         "legendgroup": "Venezuela",
         "marker": {
          "color": "#FF97FF",
          "symbol": "circle"
         },
         "mode": "markers",
         "name": "Venezuela",
         "orientation": "v",
         "showlegend": true,
         "type": "scatter",
         "x": [
          8
         ],
         "xaxis": "x",
         "y": [
          2.3208972103287984
         ],
         "yaxis": "y"
        },
        {
         "hovertemplate": "country/region_y=Venezuela<extra></extra>",
         "legendgroup": "Venezuela",
         "marker": {
          "color": "#FF97FF",
          "symbol": "circle"
         },
         "mode": "lines",
         "name": "Venezuela",
         "showlegend": false,
         "type": "scatter",
         "xaxis": "x",
         "yaxis": "y"
        },
        {
         "hovertemplate": "country/region_y=Vietnam<br>Annual GDP Growth (%)=%{x}<br>Annual improvement (%)=%{y}<extra></extra>",
         "legendgroup": "Vietnam",
         "marker": {
          "color": "#FECB52",
          "symbol": "circle"
         },
         "mode": "markers",
         "name": "Vietnam",
         "orientation": "v",
         "showlegend": true,
         "type": "scatter",
         "x": [
          8.1
         ],
         "xaxis": "x",
         "y": [
          1.9919088030426413
         ],
         "yaxis": "y"
        },
        {
         "hovertemplate": "country/region_y=Vietnam<extra></extra>",
         "legendgroup": "Vietnam",
         "marker": {
          "color": "#FECB52",
          "symbol": "circle"
         },
         "mode": "lines",
         "name": "Vietnam",
         "showlegend": false,
         "type": "scatter",
         "xaxis": "x",
         "yaxis": "y"
        },
        {
         "hovertemplate": "country/region_y=Vanuatu<br>Annual GDP Growth (%)=%{x}<br>Annual improvement (%)=%{y}<extra></extra>",
         "legendgroup": "Vanuatu",
         "marker": {
          "color": "#636efa",
          "symbol": "circle"
         },
         "mode": "markers",
         "name": "Vanuatu",
         "orientation": "v",
         "showlegend": true,
         "type": "scatter",
         "x": [
          1.9
         ],
         "xaxis": "x",
         "y": [
          -2.8794509787447797
         ],
         "yaxis": "y"
        },
        {
         "hovertemplate": "country/region_y=Vanuatu<extra></extra>",
         "legendgroup": "Vanuatu",
         "marker": {
          "color": "#636efa",
          "symbol": "circle"
         },
         "mode": "lines",
         "name": "Vanuatu",
         "showlegend": false,
         "type": "scatter",
         "xaxis": "x",
         "yaxis": "y"
        },
        {
         "hovertemplate": "country/region_y=Samoa<br>Annual GDP Growth (%)=%{x}<br>Annual improvement (%)=%{y}<extra></extra>",
         "legendgroup": "Samoa",
         "marker": {
          "color": "#EF553B",
          "symbol": "circle"
         },
         "mode": "markers",
         "name": "Samoa",
         "orientation": "v",
         "showlegend": true,
         "type": "scatter",
         "x": [
          -5.3
         ],
         "xaxis": "x",
         "y": [
          -10.284177351165468
         ],
         "yaxis": "y"
        },
        {
         "hovertemplate": "country/region_y=Samoa<extra></extra>",
         "legendgroup": "Samoa",
         "marker": {
          "color": "#EF553B",
          "symbol": "circle"
         },
         "mode": "lines",
         "name": "Samoa",
         "showlegend": false,
         "type": "scatter",
         "xaxis": "x",
         "yaxis": "y"
        },
        {
         "hovertemplate": "country/region_y=Kosovo<br>Annual GDP Growth (%)=%{x}<br>Annual improvement (%)=%{y}<extra></extra>",
         "legendgroup": "Kosovo",
         "marker": {
          "color": "#00cc96",
          "symbol": "circle"
         },
         "mode": "markers",
         "name": "Kosovo",
         "orientation": "v",
         "showlegend": true,
         "type": "scatter",
         "x": [
          4.3
         ],
         "xaxis": "x",
         "y": [
          2.4165881921644483
         ],
         "yaxis": "y"
        },
        {
         "hovertemplate": "country/region_y=Kosovo<extra></extra>",
         "legendgroup": "Kosovo",
         "marker": {
          "color": "#00cc96",
          "symbol": "circle"
         },
         "mode": "lines",
         "name": "Kosovo",
         "showlegend": false,
         "type": "scatter",
         "xaxis": "x",
         "yaxis": "y"
        },
        {
         "hovertemplate": "country/region_y=Yemen<br>Annual GDP Growth (%)=%{x}<br>Annual improvement (%)=%{y}<extra></extra>",
         "legendgroup": "Yemen",
         "marker": {
          "color": "#ab63fa",
          "symbol": "circle"
         },
         "mode": "markers",
         "name": "Yemen",
         "orientation": "v",
         "showlegend": true,
         "type": "scatter",
         "x": [
          1.5
         ],
         "xaxis": "x",
         "y": [
          -12.911814112863995
         ],
         "yaxis": "y"
        },
        {
         "hovertemplate": "country/region_y=Yemen<extra></extra>",
         "legendgroup": "Yemen",
         "marker": {
          "color": "#ab63fa",
          "symbol": "circle"
         },
         "mode": "lines",
         "name": "Yemen",
         "showlegend": false,
         "type": "scatter",
         "xaxis": "x",
         "yaxis": "y"
        },
        {
         "hovertemplate": "country/region_y=South Africa<br>Annual GDP Growth (%)=%{x}<br>Annual improvement (%)=%{y}<extra></extra>",
         "legendgroup": "South Africa",
         "marker": {
          "color": "#FFA15A",
          "symbol": "circle"
         },
         "mode": "markers",
         "name": "South Africa",
         "orientation": "v",
         "showlegend": true,
         "type": "scatter",
         "x": [
          1.9
         ],
         "xaxis": "x",
         "y": [
          -6.467412335343936
         ],
         "yaxis": "y"
        },
        {
         "hovertemplate": "country/region_y=South Africa<extra></extra>",
         "legendgroup": "South Africa",
         "marker": {
          "color": "#FFA15A",
          "symbol": "circle"
         },
         "mode": "lines",
         "name": "South Africa",
         "showlegend": false,
         "type": "scatter",
         "xaxis": "x",
         "yaxis": "y"
        },
        {
         "hovertemplate": "country/region_y=Zambia<br>Annual GDP Growth (%)=%{x}<br>Annual improvement (%)=%{y}<extra></extra>",
         "legendgroup": "Zambia",
         "marker": {
          "color": "#19d3f3",
          "symbol": "circle"
         },
         "mode": "markers",
         "name": "Zambia",
         "orientation": "v",
         "showlegend": true,
         "type": "scatter",
         "x": [
          5.2
         ],
         "xaxis": "x",
         "y": [
          5.928276172069735
         ],
         "yaxis": "y"
        },
        {
         "hovertemplate": "country/region_y=Zambia<extra></extra>",
         "legendgroup": "Zambia",
         "marker": {
          "color": "#19d3f3",
          "symbol": "circle"
         },
         "mode": "lines",
         "name": "Zambia",
         "showlegend": false,
         "type": "scatter",
         "xaxis": "x",
         "yaxis": "y"
        },
        {
         "hovertemplate": "country/region_y=Zimbabwe<br>Annual GDP Growth (%)=%{x}<br>Annual improvement (%)=%{y}<extra></extra>",
         "legendgroup": "Zimbabwe",
         "marker": {
          "color": "#FF6692",
          "symbol": "circle"
         },
         "mode": "markers",
         "name": "Zimbabwe",
         "orientation": "v",
         "showlegend": true,
         "type": "scatter",
         "x": [
          6.1
         ],
         "xaxis": "x",
         "y": [
          -40.27752913668981
         ],
         "yaxis": "y"
        },
        {
         "hovertemplate": "country/region_y=Zimbabwe<extra></extra>",
         "legendgroup": "Zimbabwe",
         "marker": {
          "color": "#FF6692",
          "symbol": "circle"
         },
         "mode": "lines",
         "name": "Zimbabwe",
         "showlegend": false,
         "type": "scatter",
         "xaxis": "x",
         "yaxis": "y"
        }
       ],
       "layout": {
        "legend": {
         "title": {
          "text": "country/region_y"
         },
         "tracegroupgap": 0
        },
        "template": {
         "data": {
          "bar": [
           {
            "error_x": {
             "color": "#2a3f5f"
            },
            "error_y": {
             "color": "#2a3f5f"
            },
            "marker": {
             "line": {
              "color": "#E5ECF6",
              "width": 0.5
             },
             "pattern": {
              "fillmode": "overlay",
              "size": 10,
              "solidity": 0.2
             }
            },
            "type": "bar"
           }
          ],
          "barpolar": [
           {
            "marker": {
             "line": {
              "color": "#E5ECF6",
              "width": 0.5
             },
             "pattern": {
              "fillmode": "overlay",
              "size": 10,
              "solidity": 0.2
             }
            },
            "type": "barpolar"
           }
          ],
          "carpet": [
           {
            "aaxis": {
             "endlinecolor": "#2a3f5f",
             "gridcolor": "white",
             "linecolor": "white",
             "minorgridcolor": "white",
             "startlinecolor": "#2a3f5f"
            },
            "baxis": {
             "endlinecolor": "#2a3f5f",
             "gridcolor": "white",
             "linecolor": "white",
             "minorgridcolor": "white",
             "startlinecolor": "#2a3f5f"
            },
            "type": "carpet"
           }
          ],
          "choropleth": [
           {
            "colorbar": {
             "outlinewidth": 0,
             "ticks": ""
            },
            "type": "choropleth"
           }
          ],
          "contour": [
           {
            "colorbar": {
             "outlinewidth": 0,
             "ticks": ""
            },
            "colorscale": [
             [
              0,
              "#0d0887"
             ],
             [
              0.1111111111111111,
              "#46039f"
             ],
             [
              0.2222222222222222,
              "#7201a8"
             ],
             [
              0.3333333333333333,
              "#9c179e"
             ],
             [
              0.4444444444444444,
              "#bd3786"
             ],
             [
              0.5555555555555556,
              "#d8576b"
             ],
             [
              0.6666666666666666,
              "#ed7953"
             ],
             [
              0.7777777777777778,
              "#fb9f3a"
             ],
             [
              0.8888888888888888,
              "#fdca26"
             ],
             [
              1,
              "#f0f921"
             ]
            ],
            "type": "contour"
           }
          ],
          "contourcarpet": [
           {
            "colorbar": {
             "outlinewidth": 0,
             "ticks": ""
            },
            "type": "contourcarpet"
           }
          ],
          "heatmap": [
           {
            "colorbar": {
             "outlinewidth": 0,
             "ticks": ""
            },
            "colorscale": [
             [
              0,
              "#0d0887"
             ],
             [
              0.1111111111111111,
              "#46039f"
             ],
             [
              0.2222222222222222,
              "#7201a8"
             ],
             [
              0.3333333333333333,
              "#9c179e"
             ],
             [
              0.4444444444444444,
              "#bd3786"
             ],
             [
              0.5555555555555556,
              "#d8576b"
             ],
             [
              0.6666666666666666,
              "#ed7953"
             ],
             [
              0.7777777777777778,
              "#fb9f3a"
             ],
             [
              0.8888888888888888,
              "#fdca26"
             ],
             [
              1,
              "#f0f921"
             ]
            ],
            "type": "heatmap"
           }
          ],
          "heatmapgl": [
           {
            "colorbar": {
             "outlinewidth": 0,
             "ticks": ""
            },
            "colorscale": [
             [
              0,
              "#0d0887"
             ],
             [
              0.1111111111111111,
              "#46039f"
             ],
             [
              0.2222222222222222,
              "#7201a8"
             ],
             [
              0.3333333333333333,
              "#9c179e"
             ],
             [
              0.4444444444444444,
              "#bd3786"
             ],
             [
              0.5555555555555556,
              "#d8576b"
             ],
             [
              0.6666666666666666,
              "#ed7953"
             ],
             [
              0.7777777777777778,
              "#fb9f3a"
             ],
             [
              0.8888888888888888,
              "#fdca26"
             ],
             [
              1,
              "#f0f921"
             ]
            ],
            "type": "heatmapgl"
           }
          ],
          "histogram": [
           {
            "marker": {
             "pattern": {
              "fillmode": "overlay",
              "size": 10,
              "solidity": 0.2
             }
            },
            "type": "histogram"
           }
          ],
          "histogram2d": [
           {
            "colorbar": {
             "outlinewidth": 0,
             "ticks": ""
            },
            "colorscale": [
             [
              0,
              "#0d0887"
             ],
             [
              0.1111111111111111,
              "#46039f"
             ],
             [
              0.2222222222222222,
              "#7201a8"
             ],
             [
              0.3333333333333333,
              "#9c179e"
             ],
             [
              0.4444444444444444,
              "#bd3786"
             ],
             [
              0.5555555555555556,
              "#d8576b"
             ],
             [
              0.6666666666666666,
              "#ed7953"
             ],
             [
              0.7777777777777778,
              "#fb9f3a"
             ],
             [
              0.8888888888888888,
              "#fdca26"
             ],
             [
              1,
              "#f0f921"
             ]
            ],
            "type": "histogram2d"
           }
          ],
          "histogram2dcontour": [
           {
            "colorbar": {
             "outlinewidth": 0,
             "ticks": ""
            },
            "colorscale": [
             [
              0,
              "#0d0887"
             ],
             [
              0.1111111111111111,
              "#46039f"
             ],
             [
              0.2222222222222222,
              "#7201a8"
             ],
             [
              0.3333333333333333,
              "#9c179e"
             ],
             [
              0.4444444444444444,
              "#bd3786"
             ],
             [
              0.5555555555555556,
              "#d8576b"
             ],
             [
              0.6666666666666666,
              "#ed7953"
             ],
             [
              0.7777777777777778,
              "#fb9f3a"
             ],
             [
              0.8888888888888888,
              "#fdca26"
             ],
             [
              1,
              "#f0f921"
             ]
            ],
            "type": "histogram2dcontour"
           }
          ],
          "mesh3d": [
           {
            "colorbar": {
             "outlinewidth": 0,
             "ticks": ""
            },
            "type": "mesh3d"
           }
          ],
          "parcoords": [
           {
            "line": {
             "colorbar": {
              "outlinewidth": 0,
              "ticks": ""
             }
            },
            "type": "parcoords"
           }
          ],
          "pie": [
           {
            "automargin": true,
            "type": "pie"
           }
          ],
          "scatter": [
           {
            "fillpattern": {
             "fillmode": "overlay",
             "size": 10,
             "solidity": 0.2
            },
            "type": "scatter"
           }
          ],
          "scatter3d": [
           {
            "line": {
             "colorbar": {
              "outlinewidth": 0,
              "ticks": ""
             }
            },
            "marker": {
             "colorbar": {
              "outlinewidth": 0,
              "ticks": ""
             }
            },
            "type": "scatter3d"
           }
          ],
          "scattercarpet": [
           {
            "marker": {
             "colorbar": {
              "outlinewidth": 0,
              "ticks": ""
             }
            },
            "type": "scattercarpet"
           }
          ],
          "scattergeo": [
           {
            "marker": {
             "colorbar": {
              "outlinewidth": 0,
              "ticks": ""
             }
            },
            "type": "scattergeo"
           }
          ],
          "scattergl": [
           {
            "marker": {
             "colorbar": {
              "outlinewidth": 0,
              "ticks": ""
             }
            },
            "type": "scattergl"
           }
          ],
          "scattermapbox": [
           {
            "marker": {
             "colorbar": {
              "outlinewidth": 0,
              "ticks": ""
             }
            },
            "type": "scattermapbox"
           }
          ],
          "scatterpolar": [
           {
            "marker": {
             "colorbar": {
              "outlinewidth": 0,
              "ticks": ""
             }
            },
            "type": "scatterpolar"
           }
          ],
          "scatterpolargl": [
           {
            "marker": {
             "colorbar": {
              "outlinewidth": 0,
              "ticks": ""
             }
            },
            "type": "scatterpolargl"
           }
          ],
          "scatterternary": [
           {
            "marker": {
             "colorbar": {
              "outlinewidth": 0,
              "ticks": ""
             }
            },
            "type": "scatterternary"
           }
          ],
          "surface": [
           {
            "colorbar": {
             "outlinewidth": 0,
             "ticks": ""
            },
            "colorscale": [
             [
              0,
              "#0d0887"
             ],
             [
              0.1111111111111111,
              "#46039f"
             ],
             [
              0.2222222222222222,
              "#7201a8"
             ],
             [
              0.3333333333333333,
              "#9c179e"
             ],
             [
              0.4444444444444444,
              "#bd3786"
             ],
             [
              0.5555555555555556,
              "#d8576b"
             ],
             [
              0.6666666666666666,
              "#ed7953"
             ],
             [
              0.7777777777777778,
              "#fb9f3a"
             ],
             [
              0.8888888888888888,
              "#fdca26"
             ],
             [
              1,
              "#f0f921"
             ]
            ],
            "type": "surface"
           }
          ],
          "table": [
           {
            "cells": {
             "fill": {
              "color": "#EBF0F8"
             },
             "line": {
              "color": "white"
             }
            },
            "header": {
             "fill": {
              "color": "#C8D4E3"
             },
             "line": {
              "color": "white"
             }
            },
            "type": "table"
           }
          ]
         },
         "layout": {
          "annotationdefaults": {
           "arrowcolor": "#2a3f5f",
           "arrowhead": 0,
           "arrowwidth": 1
          },
          "autotypenumbers": "strict",
          "coloraxis": {
           "colorbar": {
            "outlinewidth": 0,
            "ticks": ""
           }
          },
          "colorscale": {
           "diverging": [
            [
             0,
             "#8e0152"
            ],
            [
             0.1,
             "#c51b7d"
            ],
            [
             0.2,
             "#de77ae"
            ],
            [
             0.3,
             "#f1b6da"
            ],
            [
             0.4,
             "#fde0ef"
            ],
            [
             0.5,
             "#f7f7f7"
            ],
            [
             0.6,
             "#e6f5d0"
            ],
            [
             0.7,
             "#b8e186"
            ],
            [
             0.8,
             "#7fbc41"
            ],
            [
             0.9,
             "#4d9221"
            ],
            [
             1,
             "#276419"
            ]
           ],
           "sequential": [
            [
             0,
             "#0d0887"
            ],
            [
             0.1111111111111111,
             "#46039f"
            ],
            [
             0.2222222222222222,
             "#7201a8"
            ],
            [
             0.3333333333333333,
             "#9c179e"
            ],
            [
             0.4444444444444444,
             "#bd3786"
            ],
            [
             0.5555555555555556,
             "#d8576b"
            ],
            [
             0.6666666666666666,
             "#ed7953"
            ],
            [
             0.7777777777777778,
             "#fb9f3a"
            ],
            [
             0.8888888888888888,
             "#fdca26"
            ],
            [
             1,
             "#f0f921"
            ]
           ],
           "sequentialminus": [
            [
             0,
             "#0d0887"
            ],
            [
             0.1111111111111111,
             "#46039f"
            ],
            [
             0.2222222222222222,
             "#7201a8"
            ],
            [
             0.3333333333333333,
             "#9c179e"
            ],
            [
             0.4444444444444444,
             "#bd3786"
            ],
            [
             0.5555555555555556,
             "#d8576b"
            ],
            [
             0.6666666666666666,
             "#ed7953"
            ],
            [
             0.7777777777777778,
             "#fb9f3a"
            ],
            [
             0.8888888888888888,
             "#fdca26"
            ],
            [
             1,
             "#f0f921"
            ]
           ]
          },
          "colorway": [
           "#636efa",
           "#EF553B",
           "#00cc96",
           "#ab63fa",
           "#FFA15A",
           "#19d3f3",
           "#FF6692",
           "#B6E880",
           "#FF97FF",
           "#FECB52"
          ],
          "font": {
           "color": "#2a3f5f"
          },
          "geo": {
           "bgcolor": "white",
           "lakecolor": "white",
           "landcolor": "#E5ECF6",
           "showlakes": true,
           "showland": true,
           "subunitcolor": "white"
          },
          "hoverlabel": {
           "align": "left"
          },
          "hovermode": "closest",
          "mapbox": {
           "style": "light"
          },
          "paper_bgcolor": "white",
          "plot_bgcolor": "#E5ECF6",
          "polar": {
           "angularaxis": {
            "gridcolor": "white",
            "linecolor": "white",
            "ticks": ""
           },
           "bgcolor": "#E5ECF6",
           "radialaxis": {
            "gridcolor": "white",
            "linecolor": "white",
            "ticks": ""
           }
          },
          "scene": {
           "xaxis": {
            "backgroundcolor": "#E5ECF6",
            "gridcolor": "white",
            "gridwidth": 2,
            "linecolor": "white",
            "showbackground": true,
            "ticks": "",
            "zerolinecolor": "white"
           },
           "yaxis": {
            "backgroundcolor": "#E5ECF6",
            "gridcolor": "white",
            "gridwidth": 2,
            "linecolor": "white",
            "showbackground": true,
            "ticks": "",
            "zerolinecolor": "white"
           },
           "zaxis": {
            "backgroundcolor": "#E5ECF6",
            "gridcolor": "white",
            "gridwidth": 2,
            "linecolor": "white",
            "showbackground": true,
            "ticks": "",
            "zerolinecolor": "white"
           }
          },
          "shapedefaults": {
           "line": {
            "color": "#2a3f5f"
           }
          },
          "ternary": {
           "aaxis": {
            "gridcolor": "white",
            "linecolor": "white",
            "ticks": ""
           },
           "baxis": {
            "gridcolor": "white",
            "linecolor": "white",
            "ticks": ""
           },
           "bgcolor": "#E5ECF6",
           "caxis": {
            "gridcolor": "white",
            "linecolor": "white",
            "ticks": ""
           }
          },
          "title": {
           "x": 0.05
          },
          "xaxis": {
           "automargin": true,
           "gridcolor": "white",
           "linecolor": "white",
           "ticks": "",
           "title": {
            "standoff": 15
           },
           "zerolinecolor": "white",
           "zerolinewidth": 2
          },
          "yaxis": {
           "automargin": true,
           "gridcolor": "white",
           "linecolor": "white",
           "ticks": "",
           "title": {
            "standoff": 15
           },
           "zerolinecolor": "white",
           "zerolinewidth": 2
          }
         }
        },
        "title": {
         "text": "Graph 3. Energy efficiency and economic growth in EMDEs, 2022"
        },
        "xaxis": {
         "anchor": "y",
         "domain": [
          0,
          1
         ],
         "title": {
          "text": "Annual GDP Growth (%)"
         }
        },
        "yaxis": {
         "anchor": "x",
         "domain": [
          0,
          1
         ],
         "title": {
          "text": "Annual improvement (%)"
         }
        }
       }
      },
      "text/html": [
       "<div>                            <div id=\"4e1d025c-a3f5-47b4-bece-1f62b133f21a\" class=\"plotly-graph-div\" style=\"height:525px; width:100%;\"></div>            <script type=\"text/javascript\">                require([\"plotly\"], function(Plotly) {                    window.PLOTLYENV=window.PLOTLYENV || {};                                    if (document.getElementById(\"4e1d025c-a3f5-47b4-bece-1f62b133f21a\")) {                    Plotly.newPlot(                        \"4e1d025c-a3f5-47b4-bece-1f62b133f21a\",                        [{\"hovertemplate\":\"country\\u002fregion_y=Aruba\\u003cbr\\u003eAnnual GDP Growth (%)=%{x}\\u003cbr\\u003eAnnual improvement (%)=%{y}\\u003cextra\\u003e\\u003c\\u002fextra\\u003e\",\"legendgroup\":\"Aruba\",\"marker\":{\"color\":\"#636efa\",\"symbol\":\"circle\"},\"mode\":\"markers\",\"name\":\"Aruba\",\"orientation\":\"v\",\"showlegend\":true,\"x\":[10.5],\"xaxis\":\"x\",\"y\":[4.856863701631909],\"yaxis\":\"y\",\"type\":\"scatter\"},{\"hovertemplate\":\"country\\u002fregion_y=Aruba\\u003cextra\\u003e\\u003c\\u002fextra\\u003e\",\"legendgroup\":\"Aruba\",\"marker\":{\"color\":\"#636efa\",\"symbol\":\"circle\"},\"mode\":\"lines\",\"name\":\"Aruba\",\"showlegend\":false,\"xaxis\":\"x\",\"yaxis\":\"y\",\"type\":\"scatter\"},{\"hovertemplate\":\"country\\u002fregion_y=Afghanistan\\u003cbr\\u003eAnnual GDP Growth (%)=%{x}\\u003cbr\\u003eAnnual improvement (%)=%{y}\\u003cextra\\u003e\\u003c\\u002fextra\\u003e\",\"legendgroup\":\"Afghanistan\",\"marker\":{\"color\":\"#EF553B\",\"symbol\":\"circle\"},\"mode\":\"markers\",\"name\":\"Afghanistan\",\"orientation\":\"v\",\"showlegend\":true,\"x\":[-6.2],\"xaxis\":\"x\",\"y\":[-8.376254338269806],\"yaxis\":\"y\",\"type\":\"scatter\"},{\"hovertemplate\":\"country\\u002fregion_y=Afghanistan\\u003cextra\\u003e\\u003c\\u002fextra\\u003e\",\"legendgroup\":\"Afghanistan\",\"marker\":{\"color\":\"#EF553B\",\"symbol\":\"circle\"},\"mode\":\"lines\",\"name\":\"Afghanistan\",\"showlegend\":false,\"xaxis\":\"x\",\"yaxis\":\"y\",\"type\":\"scatter\"},{\"hovertemplate\":\"country\\u002fregion_y=Angola\\u003cbr\\u003eAnnual GDP Growth (%)=%{x}\\u003cbr\\u003eAnnual improvement (%)=%{y}\\u003cextra\\u003e\\u003c\\u002fextra\\u003e\",\"legendgroup\":\"Angola\",\"marker\":{\"color\":\"#00cc96\",\"symbol\":\"circle\"},\"mode\":\"markers\",\"name\":\"Angola\",\"orientation\":\"v\",\"showlegend\":true,\"x\":[4.2],\"xaxis\":\"x\",\"y\":[0.0871019025403652],\"yaxis\":\"y\",\"type\":\"scatter\"},{\"hovertemplate\":\"country\\u002fregion_y=Angola\\u003cextra\\u003e\\u003c\\u002fextra\\u003e\",\"legendgroup\":\"Angola\",\"marker\":{\"color\":\"#00cc96\",\"symbol\":\"circle\"},\"mode\":\"lines\",\"name\":\"Angola\",\"showlegend\":false,\"xaxis\":\"x\",\"yaxis\":\"y\",\"type\":\"scatter\"},{\"hovertemplate\":\"country\\u002fregion_y=Albania\\u003cbr\\u003eAnnual GDP Growth (%)=%{x}\\u003cbr\\u003eAnnual improvement (%)=%{y}\\u003cextra\\u003e\\u003c\\u002fextra\\u003e\",\"legendgroup\":\"Albania\",\"marker\":{\"color\":\"#ab63fa\",\"symbol\":\"circle\"},\"mode\":\"markers\",\"name\":\"Albania\",\"orientation\":\"v\",\"showlegend\":true,\"x\":[4.9],\"xaxis\":\"x\",\"y\":[5.967736757656605],\"yaxis\":\"y\",\"type\":\"scatter\"},{\"hovertemplate\":\"country\\u002fregion_y=Albania\\u003cextra\\u003e\\u003c\\u002fextra\\u003e\",\"legendgroup\":\"Albania\",\"marker\":{\"color\":\"#ab63fa\",\"symbol\":\"circle\"},\"mode\":\"lines\",\"name\":\"Albania\",\"showlegend\":false,\"xaxis\":\"x\",\"yaxis\":\"y\",\"type\":\"scatter\"},{\"hovertemplate\":\"country\\u002fregion_y=United Arab Emirates\\u003cbr\\u003eAnnual GDP Growth (%)=%{x}\\u003cbr\\u003eAnnual improvement (%)=%{y}\\u003cextra\\u003e\\u003c\\u002fextra\\u003e\",\"legendgroup\":\"United Arab Emirates\",\"marker\":{\"color\":\"#FFA15A\",\"symbol\":\"circle\"},\"mode\":\"markers\",\"name\":\"United Arab Emirates\",\"orientation\":\"v\",\"showlegend\":true,\"x\":[7.5],\"xaxis\":\"x\",\"y\":[2.6015135129032863],\"yaxis\":\"y\",\"type\":\"scatter\"},{\"hovertemplate\":\"country\\u002fregion_y=United Arab Emirates\\u003cextra\\u003e\\u003c\\u002fextra\\u003e\",\"legendgroup\":\"United Arab Emirates\",\"marker\":{\"color\":\"#FFA15A\",\"symbol\":\"circle\"},\"mode\":\"lines\",\"name\":\"United Arab Emirates\",\"showlegend\":false,\"xaxis\":\"x\",\"yaxis\":\"y\",\"type\":\"scatter\"},{\"hovertemplate\":\"country\\u002fregion_y=Argentina\\u003cbr\\u003eAnnual GDP Growth (%)=%{x}\\u003cbr\\u003eAnnual improvement (%)=%{y}\\u003cextra\\u003e\\u003c\\u002fextra\\u003e\",\"legendgroup\":\"Argentina\",\"marker\":{\"color\":\"#19d3f3\",\"symbol\":\"circle\"},\"mode\":\"markers\",\"name\":\"Argentina\",\"orientation\":\"v\",\"showlegend\":true,\"x\":[5.3],\"xaxis\":\"x\",\"y\":[3.842627913757757],\"yaxis\":\"y\",\"type\":\"scatter\"},{\"hovertemplate\":\"country\\u002fregion_y=Argentina\\u003cextra\\u003e\\u003c\\u002fextra\\u003e\",\"legendgroup\":\"Argentina\",\"marker\":{\"color\":\"#19d3f3\",\"symbol\":\"circle\"},\"mode\":\"lines\",\"name\":\"Argentina\",\"showlegend\":false,\"xaxis\":\"x\",\"yaxis\":\"y\",\"type\":\"scatter\"},{\"hovertemplate\":\"country\\u002fregion_y=Armenia\\u003cbr\\u003eAnnual GDP Growth (%)=%{x}\\u003cbr\\u003eAnnual improvement (%)=%{y}\\u003cextra\\u003e\\u003c\\u002fextra\\u003e\",\"legendgroup\":\"Armenia\",\"marker\":{\"color\":\"#FF6692\",\"symbol\":\"circle\"},\"mode\":\"markers\",\"name\":\"Armenia\",\"orientation\":\"v\",\"showlegend\":true,\"x\":[12.6],\"xaxis\":\"x\",\"y\":[4.001718229486384],\"yaxis\":\"y\",\"type\":\"scatter\"},{\"hovertemplate\":\"country\\u002fregion_y=Armenia\\u003cextra\\u003e\\u003c\\u002fextra\\u003e\",\"legendgroup\":\"Armenia\",\"marker\":{\"color\":\"#FF6692\",\"symbol\":\"circle\"},\"mode\":\"lines\",\"name\":\"Armenia\",\"showlegend\":false,\"xaxis\":\"x\",\"yaxis\":\"y\",\"type\":\"scatter\"},{\"hovertemplate\":\"country\\u002fregion_y=Antigua and Barbuda\\u003cbr\\u003eAnnual GDP Growth (%)=%{x}\\u003cbr\\u003eAnnual improvement (%)=%{y}\\u003cextra\\u003e\\u003c\\u002fextra\\u003e\",\"legendgroup\":\"Antigua and Barbuda\",\"marker\":{\"color\":\"#B6E880\",\"symbol\":\"circle\"},\"mode\":\"markers\",\"name\":\"Antigua and Barbuda\",\"orientation\":\"v\",\"showlegend\":true,\"x\":[9.5],\"xaxis\":\"x\",\"y\":[3.491650358137721],\"yaxis\":\"y\",\"type\":\"scatter\"},{\"hovertemplate\":\"country\\u002fregion_y=Antigua and Barbuda\\u003cextra\\u003e\\u003c\\u002fextra\\u003e\",\"legendgroup\":\"Antigua and Barbuda\",\"marker\":{\"color\":\"#B6E880\",\"symbol\":\"circle\"},\"mode\":\"lines\",\"name\":\"Antigua and Barbuda\",\"showlegend\":false,\"xaxis\":\"x\",\"yaxis\":\"y\",\"type\":\"scatter\"},{\"hovertemplate\":\"country\\u002fregion_y=Azerbaijan\\u003cbr\\u003eAnnual GDP Growth (%)=%{x}\\u003cbr\\u003eAnnual improvement (%)=%{y}\\u003cextra\\u003e\\u003c\\u002fextra\\u003e\",\"legendgroup\":\"Azerbaijan\",\"marker\":{\"color\":\"#FF97FF\",\"symbol\":\"circle\"},\"mode\":\"markers\",\"name\":\"Azerbaijan\",\"orientation\":\"v\",\"showlegend\":true,\"x\":[4.7],\"xaxis\":\"x\",\"y\":[12.27611301100967],\"yaxis\":\"y\",\"type\":\"scatter\"},{\"hovertemplate\":\"country\\u002fregion_y=Azerbaijan\\u003cextra\\u003e\\u003c\\u002fextra\\u003e\",\"legendgroup\":\"Azerbaijan\",\"marker\":{\"color\":\"#FF97FF\",\"symbol\":\"circle\"},\"mode\":\"lines\",\"name\":\"Azerbaijan\",\"showlegend\":false,\"xaxis\":\"x\",\"yaxis\":\"y\",\"type\":\"scatter\"},{\"hovertemplate\":\"country\\u002fregion_y=Burundi\\u003cbr\\u003eAnnual GDP Growth (%)=%{x}\\u003cbr\\u003eAnnual improvement (%)=%{y}\\u003cextra\\u003e\\u003c\\u002fextra\\u003e\",\"legendgroup\":\"Burundi\",\"marker\":{\"color\":\"#FECB52\",\"symbol\":\"circle\"},\"mode\":\"markers\",\"name\":\"Burundi\",\"orientation\":\"v\",\"showlegend\":true,\"x\":[1.8],\"xaxis\":\"x\",\"y\":[-1.399912787125146],\"yaxis\":\"y\",\"type\":\"scatter\"},{\"hovertemplate\":\"country\\u002fregion_y=Burundi\\u003cextra\\u003e\\u003c\\u002fextra\\u003e\",\"legendgroup\":\"Burundi\",\"marker\":{\"color\":\"#FECB52\",\"symbol\":\"circle\"},\"mode\":\"lines\",\"name\":\"Burundi\",\"showlegend\":false,\"xaxis\":\"x\",\"yaxis\":\"y\",\"type\":\"scatter\"},{\"hovertemplate\":\"country\\u002fregion_y=Benin\\u003cbr\\u003eAnnual GDP Growth (%)=%{x}\\u003cbr\\u003eAnnual improvement (%)=%{y}\\u003cextra\\u003e\\u003c\\u002fextra\\u003e\",\"legendgroup\":\"Benin\",\"marker\":{\"color\":\"#636efa\",\"symbol\":\"circle\"},\"mode\":\"markers\",\"name\":\"Benin\",\"orientation\":\"v\",\"showlegend\":true,\"x\":[6.3],\"xaxis\":\"x\",\"y\":[5.922191394538723],\"yaxis\":\"y\",\"type\":\"scatter\"},{\"hovertemplate\":\"country\\u002fregion_y=Benin\\u003cextra\\u003e\\u003c\\u002fextra\\u003e\",\"legendgroup\":\"Benin\",\"marker\":{\"color\":\"#636efa\",\"symbol\":\"circle\"},\"mode\":\"lines\",\"name\":\"Benin\",\"showlegend\":false,\"xaxis\":\"x\",\"yaxis\":\"y\",\"type\":\"scatter\"},{\"hovertemplate\":\"country\\u002fregion_y=Burkina Faso\\u003cbr\\u003eAnnual GDP Growth (%)=%{x}\\u003cbr\\u003eAnnual improvement (%)=%{y}\\u003cextra\\u003e\\u003c\\u002fextra\\u003e\",\"legendgroup\":\"Burkina Faso\",\"marker\":{\"color\":\"#EF553B\",\"symbol\":\"circle\"},\"mode\":\"markers\",\"name\":\"Burkina Faso\",\"orientation\":\"v\",\"showlegend\":true,\"x\":[1.8],\"xaxis\":\"x\",\"y\":[-1.5078362966841174],\"yaxis\":\"y\",\"type\":\"scatter\"},{\"hovertemplate\":\"country\\u002fregion_y=Burkina Faso\\u003cextra\\u003e\\u003c\\u002fextra\\u003e\",\"legendgroup\":\"Burkina Faso\",\"marker\":{\"color\":\"#EF553B\",\"symbol\":\"circle\"},\"mode\":\"lines\",\"name\":\"Burkina Faso\",\"showlegend\":false,\"xaxis\":\"x\",\"yaxis\":\"y\",\"type\":\"scatter\"},{\"hovertemplate\":\"country\\u002fregion_y=Bangladesh\\u003cbr\\u003eAnnual GDP Growth (%)=%{x}\\u003cbr\\u003eAnnual improvement (%)=%{y}\\u003cextra\\u003e\\u003c\\u002fextra\\u003e\",\"legendgroup\":\"Bangladesh\",\"marker\":{\"color\":\"#00cc96\",\"symbol\":\"circle\"},\"mode\":\"markers\",\"name\":\"Bangladesh\",\"orientation\":\"v\",\"showlegend\":true,\"x\":[7.1],\"xaxis\":\"x\",\"y\":[7.944537062977075],\"yaxis\":\"y\",\"type\":\"scatter\"},{\"hovertemplate\":\"country\\u002fregion_y=Bangladesh\\u003cextra\\u003e\\u003c\\u002fextra\\u003e\",\"legendgroup\":\"Bangladesh\",\"marker\":{\"color\":\"#00cc96\",\"symbol\":\"circle\"},\"mode\":\"lines\",\"name\":\"Bangladesh\",\"showlegend\":false,\"xaxis\":\"x\",\"yaxis\":\"y\",\"type\":\"scatter\"},{\"hovertemplate\":\"country\\u002fregion_y=Bulgaria\\u003cbr\\u003eAnnual GDP Growth (%)=%{x}\\u003cbr\\u003eAnnual improvement (%)=%{y}\\u003cextra\\u003e\\u003c\\u002fextra\\u003e\",\"legendgroup\":\"Bulgaria\",\"marker\":{\"color\":\"#ab63fa\",\"symbol\":\"circle\"},\"mode\":\"markers\",\"name\":\"Bulgaria\",\"orientation\":\"v\",\"showlegend\":true,\"x\":[3.9],\"xaxis\":\"x\",\"y\":[1.687983720003583],\"yaxis\":\"y\",\"type\":\"scatter\"},{\"hovertemplate\":\"country\\u002fregion_y=Bulgaria\\u003cextra\\u003e\\u003c\\u002fextra\\u003e\",\"legendgroup\":\"Bulgaria\",\"marker\":{\"color\":\"#ab63fa\",\"symbol\":\"circle\"},\"mode\":\"lines\",\"name\":\"Bulgaria\",\"showlegend\":false,\"xaxis\":\"x\",\"yaxis\":\"y\",\"type\":\"scatter\"},{\"hovertemplate\":\"country\\u002fregion_y=Bahrain\\u003cbr\\u003eAnnual GDP Growth (%)=%{x}\\u003cbr\\u003eAnnual improvement (%)=%{y}\\u003cextra\\u003e\\u003c\\u002fextra\\u003e\",\"legendgroup\":\"Bahrain\",\"marker\":{\"color\":\"#FFA15A\",\"symbol\":\"circle\"},\"mode\":\"markers\",\"name\":\"Bahrain\",\"orientation\":\"v\",\"showlegend\":true,\"x\":[6],\"xaxis\":\"x\",\"y\":[4.7124590827380075],\"yaxis\":\"y\",\"type\":\"scatter\"},{\"hovertemplate\":\"country\\u002fregion_y=Bahrain\\u003cextra\\u003e\\u003c\\u002fextra\\u003e\",\"legendgroup\":\"Bahrain\",\"marker\":{\"color\":\"#FFA15A\",\"symbol\":\"circle\"},\"mode\":\"lines\",\"name\":\"Bahrain\",\"showlegend\":false,\"xaxis\":\"x\",\"yaxis\":\"y\",\"type\":\"scatter\"},{\"hovertemplate\":\"country\\u002fregion_y=Bahamas, The\\u003cbr\\u003eAnnual GDP Growth (%)=%{x}\\u003cbr\\u003eAnnual improvement (%)=%{y}\\u003cextra\\u003e\\u003c\\u002fextra\\u003e\",\"legendgroup\":\"Bahamas, The\",\"marker\":{\"color\":\"#19d3f3\",\"symbol\":\"circle\"},\"mode\":\"markers\",\"name\":\"Bahamas, The\",\"orientation\":\"v\",\"showlegend\":true,\"x\":[10.8],\"xaxis\":\"x\",\"y\":[8.022945426328453],\"yaxis\":\"y\",\"type\":\"scatter\"},{\"hovertemplate\":\"country\\u002fregion_y=Bahamas, The\\u003cextra\\u003e\\u003c\\u002fextra\\u003e\",\"legendgroup\":\"Bahamas, The\",\"marker\":{\"color\":\"#19d3f3\",\"symbol\":\"circle\"},\"mode\":\"lines\",\"name\":\"Bahamas, The\",\"showlegend\":false,\"xaxis\":\"x\",\"yaxis\":\"y\",\"type\":\"scatter\"},{\"hovertemplate\":\"country\\u002fregion_y=Bosnia and Herzegovina\\u003cbr\\u003eAnnual GDP Growth (%)=%{x}\\u003cbr\\u003eAnnual improvement (%)=%{y}\\u003cextra\\u003e\\u003c\\u002fextra\\u003e\",\"legendgroup\":\"Bosnia and Herzegovina\",\"marker\":{\"color\":\"#FF6692\",\"symbol\":\"circle\"},\"mode\":\"markers\",\"name\":\"Bosnia and Herzegovina\",\"orientation\":\"v\",\"showlegend\":true,\"x\":[4.2],\"xaxis\":\"x\",\"y\":[-29.828584673682922],\"yaxis\":\"y\",\"type\":\"scatter\"},{\"hovertemplate\":\"country\\u002fregion_y=Bosnia and Herzegovina\\u003cextra\\u003e\\u003c\\u002fextra\\u003e\",\"legendgroup\":\"Bosnia and Herzegovina\",\"marker\":{\"color\":\"#FF6692\",\"symbol\":\"circle\"},\"mode\":\"lines\",\"name\":\"Bosnia and Herzegovina\",\"showlegend\":false,\"xaxis\":\"x\",\"yaxis\":\"y\",\"type\":\"scatter\"},{\"hovertemplate\":\"country\\u002fregion_y=Belarus\\u003cbr\\u003eAnnual GDP Growth (%)=%{x}\\u003cbr\\u003eAnnual improvement (%)=%{y}\\u003cextra\\u003e\\u003c\\u002fextra\\u003e\",\"legendgroup\":\"Belarus\",\"marker\":{\"color\":\"#B6E880\",\"symbol\":\"circle\"},\"mode\":\"markers\",\"name\":\"Belarus\",\"orientation\":\"v\",\"showlegend\":true,\"x\":[-4.7],\"xaxis\":\"x\",\"y\":[-0.37483245108722585],\"yaxis\":\"y\",\"type\":\"scatter\"},{\"hovertemplate\":\"country\\u002fregion_y=Belarus\\u003cextra\\u003e\\u003c\\u002fextra\\u003e\",\"legendgroup\":\"Belarus\",\"marker\":{\"color\":\"#B6E880\",\"symbol\":\"circle\"},\"mode\":\"lines\",\"name\":\"Belarus\",\"showlegend\":false,\"xaxis\":\"x\",\"yaxis\":\"y\",\"type\":\"scatter\"},{\"hovertemplate\":\"country\\u002fregion_y=Belize\\u003cbr\\u003eAnnual GDP Growth (%)=%{x}\\u003cbr\\u003eAnnual improvement (%)=%{y}\\u003cextra\\u003e\\u003c\\u002fextra\\u003e\",\"legendgroup\":\"Belize\",\"marker\":{\"color\":\"#FF97FF\",\"symbol\":\"circle\"},\"mode\":\"markers\",\"name\":\"Belize\",\"orientation\":\"v\",\"showlegend\":true,\"x\":[9.8],\"xaxis\":\"x\",\"y\":[3.328516883019106],\"yaxis\":\"y\",\"type\":\"scatter\"},{\"hovertemplate\":\"country\\u002fregion_y=Belize\\u003cextra\\u003e\\u003c\\u002fextra\\u003e\",\"legendgroup\":\"Belize\",\"marker\":{\"color\":\"#FF97FF\",\"symbol\":\"circle\"},\"mode\":\"lines\",\"name\":\"Belize\",\"showlegend\":false,\"xaxis\":\"x\",\"yaxis\":\"y\",\"type\":\"scatter\"},{\"hovertemplate\":\"country\\u002fregion_y=Bolivia\\u003cbr\\u003eAnnual GDP Growth (%)=%{x}\\u003cbr\\u003eAnnual improvement (%)=%{y}\\u003cextra\\u003e\\u003c\\u002fextra\\u003e\",\"legendgroup\":\"Bolivia\",\"marker\":{\"color\":\"#FECB52\",\"symbol\":\"circle\"},\"mode\":\"markers\",\"name\":\"Bolivia\",\"orientation\":\"v\",\"showlegend\":true,\"x\":[3.6],\"xaxis\":\"x\",\"y\":[-2.5192725669454408],\"yaxis\":\"y\",\"type\":\"scatter\"},{\"hovertemplate\":\"country\\u002fregion_y=Bolivia\\u003cextra\\u003e\\u003c\\u002fextra\\u003e\",\"legendgroup\":\"Bolivia\",\"marker\":{\"color\":\"#FECB52\",\"symbol\":\"circle\"},\"mode\":\"lines\",\"name\":\"Bolivia\",\"showlegend\":false,\"xaxis\":\"x\",\"yaxis\":\"y\",\"type\":\"scatter\"},{\"hovertemplate\":\"country\\u002fregion_y=Brazil\\u003cbr\\u003eAnnual GDP Growth (%)=%{x}\\u003cbr\\u003eAnnual improvement (%)=%{y}\\u003cextra\\u003e\\u003c\\u002fextra\\u003e\",\"legendgroup\":\"Brazil\",\"marker\":{\"color\":\"#636efa\",\"symbol\":\"circle\"},\"mode\":\"markers\",\"name\":\"Brazil\",\"orientation\":\"v\",\"showlegend\":true,\"x\":[3],\"xaxis\":\"x\",\"y\":[-2.212969005849419],\"yaxis\":\"y\",\"type\":\"scatter\"},{\"hovertemplate\":\"country\\u002fregion_y=Brazil\\u003cextra\\u003e\\u003c\\u002fextra\\u003e\",\"legendgroup\":\"Brazil\",\"marker\":{\"color\":\"#636efa\",\"symbol\":\"circle\"},\"mode\":\"lines\",\"name\":\"Brazil\",\"showlegend\":false,\"xaxis\":\"x\",\"yaxis\":\"y\",\"type\":\"scatter\"},{\"hovertemplate\":\"country\\u002fregion_y=Barbados\\u003cbr\\u003eAnnual GDP Growth (%)=%{x}\\u003cbr\\u003eAnnual improvement (%)=%{y}\\u003cextra\\u003e\\u003c\\u002fextra\\u003e\",\"legendgroup\":\"Barbados\",\"marker\":{\"color\":\"#EF553B\",\"symbol\":\"circle\"},\"mode\":\"markers\",\"name\":\"Barbados\",\"orientation\":\"v\",\"showlegend\":true,\"x\":[17.8],\"xaxis\":\"x\",\"y\":[6.096065642822268],\"yaxis\":\"y\",\"type\":\"scatter\"},{\"hovertemplate\":\"country\\u002fregion_y=Barbados\\u003cextra\\u003e\\u003c\\u002fextra\\u003e\",\"legendgroup\":\"Barbados\",\"marker\":{\"color\":\"#EF553B\",\"symbol\":\"circle\"},\"mode\":\"lines\",\"name\":\"Barbados\",\"showlegend\":false,\"xaxis\":\"x\",\"yaxis\":\"y\",\"type\":\"scatter\"},{\"hovertemplate\":\"country\\u002fregion_y=Brunei Darussalam\\u003cbr\\u003eAnnual GDP Growth (%)=%{x}\\u003cbr\\u003eAnnual improvement (%)=%{y}\\u003cextra\\u003e\\u003c\\u002fextra\\u003e\",\"legendgroup\":\"Brunei Darussalam\",\"marker\":{\"color\":\"#00cc96\",\"symbol\":\"circle\"},\"mode\":\"markers\",\"name\":\"Brunei Darussalam\",\"orientation\":\"v\",\"showlegend\":true,\"x\":[-1.6],\"xaxis\":\"x\",\"y\":[-9.382053228593179],\"yaxis\":\"y\",\"type\":\"scatter\"},{\"hovertemplate\":\"country\\u002fregion_y=Brunei Darussalam\\u003cextra\\u003e\\u003c\\u002fextra\\u003e\",\"legendgroup\":\"Brunei Darussalam\",\"marker\":{\"color\":\"#00cc96\",\"symbol\":\"circle\"},\"mode\":\"lines\",\"name\":\"Brunei Darussalam\",\"showlegend\":false,\"xaxis\":\"x\",\"yaxis\":\"y\",\"type\":\"scatter\"},{\"hovertemplate\":\"country\\u002fregion_y=Bhutan\\u003cbr\\u003eAnnual GDP Growth (%)=%{x}\\u003cbr\\u003eAnnual improvement (%)=%{y}\\u003cextra\\u003e\\u003c\\u002fextra\\u003e\",\"legendgroup\":\"Bhutan\",\"marker\":{\"color\":\"#ab63fa\",\"symbol\":\"circle\"},\"mode\":\"markers\",\"name\":\"Bhutan\",\"orientation\":\"v\",\"showlegend\":true,\"x\":[4.8],\"xaxis\":\"x\",\"y\":[-2.747179910671238],\"yaxis\":\"y\",\"type\":\"scatter\"},{\"hovertemplate\":\"country\\u002fregion_y=Bhutan\\u003cextra\\u003e\\u003c\\u002fextra\\u003e\",\"legendgroup\":\"Bhutan\",\"marker\":{\"color\":\"#ab63fa\",\"symbol\":\"circle\"},\"mode\":\"lines\",\"name\":\"Bhutan\",\"showlegend\":false,\"xaxis\":\"x\",\"yaxis\":\"y\",\"type\":\"scatter\"},{\"hovertemplate\":\"country\\u002fregion_y=Botswana\\u003cbr\\u003eAnnual GDP Growth (%)=%{x}\\u003cbr\\u003eAnnual improvement (%)=%{y}\\u003cextra\\u003e\\u003c\\u002fextra\\u003e\",\"legendgroup\":\"Botswana\",\"marker\":{\"color\":\"#FFA15A\",\"symbol\":\"circle\"},\"mode\":\"markers\",\"name\":\"Botswana\",\"orientation\":\"v\",\"showlegend\":true,\"x\":[5.5],\"xaxis\":\"x\",\"y\":[-23.346949770578295],\"yaxis\":\"y\",\"type\":\"scatter\"},{\"hovertemplate\":\"country\\u002fregion_y=Botswana\\u003cextra\\u003e\\u003c\\u002fextra\\u003e\",\"legendgroup\":\"Botswana\",\"marker\":{\"color\":\"#FFA15A\",\"symbol\":\"circle\"},\"mode\":\"lines\",\"name\":\"Botswana\",\"showlegend\":false,\"xaxis\":\"x\",\"yaxis\":\"y\",\"type\":\"scatter\"},{\"hovertemplate\":\"country\\u002fregion_y=Central African Republic\\u003cbr\\u003eAnnual GDP Growth (%)=%{x}\\u003cbr\\u003eAnnual improvement (%)=%{y}\\u003cextra\\u003e\\u003c\\u002fextra\\u003e\",\"legendgroup\":\"Central African Republic\",\"marker\":{\"color\":\"#19d3f3\",\"symbol\":\"circle\"},\"mode\":\"markers\",\"name\":\"Central African Republic\",\"orientation\":\"v\",\"showlegend\":true,\"x\":[0.5],\"xaxis\":\"x\",\"y\":[-2.3241002997392624],\"yaxis\":\"y\",\"type\":\"scatter\"},{\"hovertemplate\":\"country\\u002fregion_y=Central African Republic\\u003cextra\\u003e\\u003c\\u002fextra\\u003e\",\"legendgroup\":\"Central African Republic\",\"marker\":{\"color\":\"#19d3f3\",\"symbol\":\"circle\"},\"mode\":\"lines\",\"name\":\"Central African Republic\",\"showlegend\":false,\"xaxis\":\"x\",\"yaxis\":\"y\",\"type\":\"scatter\"},{\"hovertemplate\":\"country\\u002fregion_y=Chile\\u003cbr\\u003eAnnual GDP Growth (%)=%{x}\\u003cbr\\u003eAnnual improvement (%)=%{y}\\u003cextra\\u003e\\u003c\\u002fextra\\u003e\",\"legendgroup\":\"Chile\",\"marker\":{\"color\":\"#FF6692\",\"symbol\":\"circle\"},\"mode\":\"markers\",\"name\":\"Chile\",\"orientation\":\"v\",\"showlegend\":true,\"x\":[2.1],\"xaxis\":\"x\",\"y\":[5.540229362414761],\"yaxis\":\"y\",\"type\":\"scatter\"},{\"hovertemplate\":\"country\\u002fregion_y=Chile\\u003cextra\\u003e\\u003c\\u002fextra\\u003e\",\"legendgroup\":\"Chile\",\"marker\":{\"color\":\"#FF6692\",\"symbol\":\"circle\"},\"mode\":\"lines\",\"name\":\"Chile\",\"showlegend\":false,\"xaxis\":\"x\",\"yaxis\":\"y\",\"type\":\"scatter\"},{\"hovertemplate\":\"country\\u002fregion_y=China, People's Republic of\\u003cbr\\u003eAnnual GDP Growth (%)=%{x}\\u003cbr\\u003eAnnual improvement (%)=%{y}\\u003cextra\\u003e\\u003c\\u002fextra\\u003e\",\"legendgroup\":\"China, People's Republic of\",\"marker\":{\"color\":\"#B6E880\",\"symbol\":\"circle\"},\"mode\":\"markers\",\"name\":\"China, People's Republic of\",\"orientation\":\"v\",\"showlegend\":true,\"x\":[3],\"xaxis\":\"x\",\"y\":[-11.244231326359277],\"yaxis\":\"y\",\"type\":\"scatter\"},{\"hovertemplate\":\"country\\u002fregion_y=China, People's Republic of\\u003cextra\\u003e\\u003c\\u002fextra\\u003e\",\"legendgroup\":\"China, People's Republic of\",\"marker\":{\"color\":\"#B6E880\",\"symbol\":\"circle\"},\"mode\":\"lines\",\"name\":\"China, People's Republic of\",\"showlegend\":false,\"xaxis\":\"x\",\"yaxis\":\"y\",\"type\":\"scatter\"},{\"hovertemplate\":\"country\\u002fregion_y=C\\u00f4te d'Ivoire\\u003cbr\\u003eAnnual GDP Growth (%)=%{x}\\u003cbr\\u003eAnnual improvement (%)=%{y}\\u003cextra\\u003e\\u003c\\u002fextra\\u003e\",\"legendgroup\":\"C\\u00f4te d'Ivoire\",\"marker\":{\"color\":\"#FF97FF\",\"symbol\":\"circle\"},\"mode\":\"markers\",\"name\":\"C\\u00f4te d'Ivoire\",\"orientation\":\"v\",\"showlegend\":true,\"x\":[6.2],\"xaxis\":\"x\",\"y\":[-2.10043752749709],\"yaxis\":\"y\",\"type\":\"scatter\"},{\"hovertemplate\":\"country\\u002fregion_y=C\\u00f4te d'Ivoire\\u003cextra\\u003e\\u003c\\u002fextra\\u003e\",\"legendgroup\":\"C\\u00f4te d'Ivoire\",\"marker\":{\"color\":\"#FF97FF\",\"symbol\":\"circle\"},\"mode\":\"lines\",\"name\":\"C\\u00f4te d'Ivoire\",\"showlegend\":false,\"xaxis\":\"x\",\"yaxis\":\"y\",\"type\":\"scatter\"},{\"hovertemplate\":\"country\\u002fregion_y=Cameroon\\u003cbr\\u003eAnnual GDP Growth (%)=%{x}\\u003cbr\\u003eAnnual improvement (%)=%{y}\\u003cextra\\u003e\\u003c\\u002fextra\\u003e\",\"legendgroup\":\"Cameroon\",\"marker\":{\"color\":\"#FECB52\",\"symbol\":\"circle\"},\"mode\":\"markers\",\"name\":\"Cameroon\",\"orientation\":\"v\",\"showlegend\":true,\"x\":[3.7],\"xaxis\":\"x\",\"y\":[-0.8450621591307605],\"yaxis\":\"y\",\"type\":\"scatter\"},{\"hovertemplate\":\"country\\u002fregion_y=Cameroon\\u003cextra\\u003e\\u003c\\u002fextra\\u003e\",\"legendgroup\":\"Cameroon\",\"marker\":{\"color\":\"#FECB52\",\"symbol\":\"circle\"},\"mode\":\"lines\",\"name\":\"Cameroon\",\"showlegend\":false,\"xaxis\":\"x\",\"yaxis\":\"y\",\"type\":\"scatter\"},{\"hovertemplate\":\"country\\u002fregion_y=Congo, Dem. Rep. of the\\u003cbr\\u003eAnnual GDP Growth (%)=%{x}\\u003cbr\\u003eAnnual improvement (%)=%{y}\\u003cextra\\u003e\\u003c\\u002fextra\\u003e\",\"legendgroup\":\"Congo, Dem. Rep. of the\",\"marker\":{\"color\":\"#636efa\",\"symbol\":\"circle\"},\"mode\":\"markers\",\"name\":\"Congo, Dem. Rep. of the\",\"orientation\":\"v\",\"showlegend\":true,\"x\":[8.8],\"xaxis\":\"x\",\"y\":[6.405273250963273],\"yaxis\":\"y\",\"type\":\"scatter\"},{\"hovertemplate\":\"country\\u002fregion_y=Congo, Dem. Rep. of the\\u003cextra\\u003e\\u003c\\u002fextra\\u003e\",\"legendgroup\":\"Congo, Dem. Rep. of the\",\"marker\":{\"color\":\"#636efa\",\"symbol\":\"circle\"},\"mode\":\"lines\",\"name\":\"Congo, Dem. Rep. of the\",\"showlegend\":false,\"xaxis\":\"x\",\"yaxis\":\"y\",\"type\":\"scatter\"},{\"hovertemplate\":\"country\\u002fregion_y=Congo, Republic of\\u003cbr\\u003eAnnual GDP Growth (%)=%{x}\\u003cbr\\u003eAnnual improvement (%)=%{y}\\u003cextra\\u003e\\u003c\\u002fextra\\u003e\",\"legendgroup\":\"Congo, Republic of\",\"marker\":{\"color\":\"#EF553B\",\"symbol\":\"circle\"},\"mode\":\"markers\",\"name\":\"Congo, Republic of\",\"orientation\":\"v\",\"showlegend\":true,\"x\":[1.8],\"xaxis\":\"x\",\"y\":[-0.7169960336013137],\"yaxis\":\"y\",\"type\":\"scatter\"},{\"hovertemplate\":\"country\\u002fregion_y=Congo, Republic of\\u003cextra\\u003e\\u003c\\u002fextra\\u003e\",\"legendgroup\":\"Congo, Republic of\",\"marker\":{\"color\":\"#EF553B\",\"symbol\":\"circle\"},\"mode\":\"lines\",\"name\":\"Congo, Republic of\",\"showlegend\":false,\"xaxis\":\"x\",\"yaxis\":\"y\",\"type\":\"scatter\"},{\"hovertemplate\":\"country\\u002fregion_y=Colombia\\u003cbr\\u003eAnnual GDP Growth (%)=%{x}\\u003cbr\\u003eAnnual improvement (%)=%{y}\\u003cextra\\u003e\\u003c\\u002fextra\\u003e\",\"legendgroup\":\"Colombia\",\"marker\":{\"color\":\"#00cc96\",\"symbol\":\"circle\"},\"mode\":\"markers\",\"name\":\"Colombia\",\"orientation\":\"v\",\"showlegend\":true,\"x\":[7.3],\"xaxis\":\"x\",\"y\":[-1.9089558220221514],\"yaxis\":\"y\",\"type\":\"scatter\"},{\"hovertemplate\":\"country\\u002fregion_y=Colombia\\u003cextra\\u003e\\u003c\\u002fextra\\u003e\",\"legendgroup\":\"Colombia\",\"marker\":{\"color\":\"#00cc96\",\"symbol\":\"circle\"},\"mode\":\"lines\",\"name\":\"Colombia\",\"showlegend\":false,\"xaxis\":\"x\",\"yaxis\":\"y\",\"type\":\"scatter\"},{\"hovertemplate\":\"country\\u002fregion_y=Comoros\\u003cbr\\u003eAnnual GDP Growth (%)=%{x}\\u003cbr\\u003eAnnual improvement (%)=%{y}\\u003cextra\\u003e\\u003c\\u002fextra\\u003e\",\"legendgroup\":\"Comoros\",\"marker\":{\"color\":\"#ab63fa\",\"symbol\":\"circle\"},\"mode\":\"markers\",\"name\":\"Comoros\",\"orientation\":\"v\",\"showlegend\":true,\"x\":[2.6],\"xaxis\":\"x\",\"y\":[-0.7384754805104476],\"yaxis\":\"y\",\"type\":\"scatter\"},{\"hovertemplate\":\"country\\u002fregion_y=Comoros\\u003cextra\\u003e\\u003c\\u002fextra\\u003e\",\"legendgroup\":\"Comoros\",\"marker\":{\"color\":\"#ab63fa\",\"symbol\":\"circle\"},\"mode\":\"lines\",\"name\":\"Comoros\",\"showlegend\":false,\"xaxis\":\"x\",\"yaxis\":\"y\",\"type\":\"scatter\"},{\"hovertemplate\":\"country\\u002fregion_y=Cabo Verde\\u003cbr\\u003eAnnual GDP Growth (%)=%{x}\\u003cbr\\u003eAnnual improvement (%)=%{y}\\u003cextra\\u003e\\u003c\\u002fextra\\u003e\",\"legendgroup\":\"Cabo Verde\",\"marker\":{\"color\":\"#FFA15A\",\"symbol\":\"circle\"},\"mode\":\"markers\",\"name\":\"Cabo Verde\",\"orientation\":\"v\",\"showlegend\":true,\"x\":[17.4],\"xaxis\":\"x\",\"y\":[12.448594527674818],\"yaxis\":\"y\",\"type\":\"scatter\"},{\"hovertemplate\":\"country\\u002fregion_y=Cabo Verde\\u003cextra\\u003e\\u003c\\u002fextra\\u003e\",\"legendgroup\":\"Cabo Verde\",\"marker\":{\"color\":\"#FFA15A\",\"symbol\":\"circle\"},\"mode\":\"lines\",\"name\":\"Cabo Verde\",\"showlegend\":false,\"xaxis\":\"x\",\"yaxis\":\"y\",\"type\":\"scatter\"},{\"hovertemplate\":\"country\\u002fregion_y=Costa Rica\\u003cbr\\u003eAnnual GDP Growth (%)=%{x}\\u003cbr\\u003eAnnual improvement (%)=%{y}\\u003cextra\\u003e\\u003c\\u002fextra\\u003e\",\"legendgroup\":\"Costa Rica\",\"marker\":{\"color\":\"#19d3f3\",\"symbol\":\"circle\"},\"mode\":\"markers\",\"name\":\"Costa Rica\",\"orientation\":\"v\",\"showlegend\":true,\"x\":[4.6],\"xaxis\":\"x\",\"y\":[-0.07946508409675257],\"yaxis\":\"y\",\"type\":\"scatter\"},{\"hovertemplate\":\"country\\u002fregion_y=Costa Rica\\u003cextra\\u003e\\u003c\\u002fextra\\u003e\",\"legendgroup\":\"Costa Rica\",\"marker\":{\"color\":\"#19d3f3\",\"symbol\":\"circle\"},\"mode\":\"lines\",\"name\":\"Costa Rica\",\"showlegend\":false,\"xaxis\":\"x\",\"yaxis\":\"y\",\"type\":\"scatter\"},{\"hovertemplate\":\"country\\u002fregion_y=Djibouti\\u003cbr\\u003eAnnual GDP Growth (%)=%{x}\\u003cbr\\u003eAnnual improvement (%)=%{y}\\u003cextra\\u003e\\u003c\\u002fextra\\u003e\",\"legendgroup\":\"Djibouti\",\"marker\":{\"color\":\"#FF6692\",\"symbol\":\"circle\"},\"mode\":\"markers\",\"name\":\"Djibouti\",\"orientation\":\"v\",\"showlegend\":true,\"x\":[3.9],\"xaxis\":\"x\",\"y\":[0.4699540915900524],\"yaxis\":\"y\",\"type\":\"scatter\"},{\"hovertemplate\":\"country\\u002fregion_y=Djibouti\\u003cextra\\u003e\\u003c\\u002fextra\\u003e\",\"legendgroup\":\"Djibouti\",\"marker\":{\"color\":\"#FF6692\",\"symbol\":\"circle\"},\"mode\":\"lines\",\"name\":\"Djibouti\",\"showlegend\":false,\"xaxis\":\"x\",\"yaxis\":\"y\",\"type\":\"scatter\"},{\"hovertemplate\":\"country\\u002fregion_y=Dominica\\u003cbr\\u003eAnnual GDP Growth (%)=%{x}\\u003cbr\\u003eAnnual improvement (%)=%{y}\\u003cextra\\u003e\\u003c\\u002fextra\\u003e\",\"legendgroup\":\"Dominica\",\"marker\":{\"color\":\"#B6E880\",\"symbol\":\"circle\"},\"mode\":\"markers\",\"name\":\"Dominica\",\"orientation\":\"v\",\"showlegend\":true,\"x\":[5.6],\"xaxis\":\"x\",\"y\":[0.9463054176016672],\"yaxis\":\"y\",\"type\":\"scatter\"},{\"hovertemplate\":\"country\\u002fregion_y=Dominica\\u003cextra\\u003e\\u003c\\u002fextra\\u003e\",\"legendgroup\":\"Dominica\",\"marker\":{\"color\":\"#B6E880\",\"symbol\":\"circle\"},\"mode\":\"lines\",\"name\":\"Dominica\",\"showlegend\":false,\"xaxis\":\"x\",\"yaxis\":\"y\",\"type\":\"scatter\"},{\"hovertemplate\":\"country\\u002fregion_y=Dominican Republic\\u003cbr\\u003eAnnual GDP Growth (%)=%{x}\\u003cbr\\u003eAnnual improvement (%)=%{y}\\u003cextra\\u003e\\u003c\\u002fextra\\u003e\",\"legendgroup\":\"Dominican Republic\",\"marker\":{\"color\":\"#FF97FF\",\"symbol\":\"circle\"},\"mode\":\"markers\",\"name\":\"Dominican Republic\",\"orientation\":\"v\",\"showlegend\":true,\"x\":[4.9],\"xaxis\":\"x\",\"y\":[0.24236019588547153],\"yaxis\":\"y\",\"type\":\"scatter\"},{\"hovertemplate\":\"country\\u002fregion_y=Dominican Republic\\u003cextra\\u003e\\u003c\\u002fextra\\u003e\",\"legendgroup\":\"Dominican Republic\",\"marker\":{\"color\":\"#FF97FF\",\"symbol\":\"circle\"},\"mode\":\"lines\",\"name\":\"Dominican Republic\",\"showlegend\":false,\"xaxis\":\"x\",\"yaxis\":\"y\",\"type\":\"scatter\"},{\"hovertemplate\":\"country\\u002fregion_y=Algeria\\u003cbr\\u003eAnnual GDP Growth (%)=%{x}\\u003cbr\\u003eAnnual improvement (%)=%{y}\\u003cextra\\u003e\\u003c\\u002fextra\\u003e\",\"legendgroup\":\"Algeria\",\"marker\":{\"color\":\"#FECB52\",\"symbol\":\"circle\"},\"mode\":\"markers\",\"name\":\"Algeria\",\"orientation\":\"v\",\"showlegend\":true,\"x\":[3.6],\"xaxis\":\"x\",\"y\":[4.049776249921299],\"yaxis\":\"y\",\"type\":\"scatter\"},{\"hovertemplate\":\"country\\u002fregion_y=Algeria\\u003cextra\\u003e\\u003c\\u002fextra\\u003e\",\"legendgroup\":\"Algeria\",\"marker\":{\"color\":\"#FECB52\",\"symbol\":\"circle\"},\"mode\":\"lines\",\"name\":\"Algeria\",\"showlegend\":false,\"xaxis\":\"x\",\"yaxis\":\"y\",\"type\":\"scatter\"},{\"hovertemplate\":\"country\\u002fregion_y=Ecuador\\u003cbr\\u003eAnnual GDP Growth (%)=%{x}\\u003cbr\\u003eAnnual improvement (%)=%{y}\\u003cextra\\u003e\\u003c\\u002fextra\\u003e\",\"legendgroup\":\"Ecuador\",\"marker\":{\"color\":\"#636efa\",\"symbol\":\"circle\"},\"mode\":\"markers\",\"name\":\"Ecuador\",\"orientation\":\"v\",\"showlegend\":true,\"x\":[6.2],\"xaxis\":\"x\",\"y\":[1.5685981890335987],\"yaxis\":\"y\",\"type\":\"scatter\"},{\"hovertemplate\":\"country\\u002fregion_y=Ecuador\\u003cextra\\u003e\\u003c\\u002fextra\\u003e\",\"legendgroup\":\"Ecuador\",\"marker\":{\"color\":\"#636efa\",\"symbol\":\"circle\"},\"mode\":\"lines\",\"name\":\"Ecuador\",\"showlegend\":false,\"xaxis\":\"x\",\"yaxis\":\"y\",\"type\":\"scatter\"},{\"hovertemplate\":\"country\\u002fregion_y=Egypt\\u003cbr\\u003eAnnual GDP Growth (%)=%{x}\\u003cbr\\u003eAnnual improvement (%)=%{y}\\u003cextra\\u003e\\u003c\\u002fextra\\u003e\",\"legendgroup\":\"Egypt\",\"marker\":{\"color\":\"#EF553B\",\"symbol\":\"circle\"},\"mode\":\"markers\",\"name\":\"Egypt\",\"orientation\":\"v\",\"showlegend\":true,\"x\":[6.7],\"xaxis\":\"x\",\"y\":[4.193928303548433],\"yaxis\":\"y\",\"type\":\"scatter\"},{\"hovertemplate\":\"country\\u002fregion_y=Egypt\\u003cextra\\u003e\\u003c\\u002fextra\\u003e\",\"legendgroup\":\"Egypt\",\"marker\":{\"color\":\"#EF553B\",\"symbol\":\"circle\"},\"mode\":\"lines\",\"name\":\"Egypt\",\"showlegend\":false,\"xaxis\":\"x\",\"yaxis\":\"y\",\"type\":\"scatter\"},{\"hovertemplate\":\"country\\u002fregion_y=Ethiopia\\u003cbr\\u003eAnnual GDP Growth (%)=%{x}\\u003cbr\\u003eAnnual improvement (%)=%{y}\\u003cextra\\u003e\\u003c\\u002fextra\\u003e\",\"legendgroup\":\"Ethiopia\",\"marker\":{\"color\":\"#00cc96\",\"symbol\":\"circle\"},\"mode\":\"markers\",\"name\":\"Ethiopia\",\"orientation\":\"v\",\"showlegend\":true,\"x\":[6.4],\"xaxis\":\"x\",\"y\":[1.3266467850893582],\"yaxis\":\"y\",\"type\":\"scatter\"},{\"hovertemplate\":\"country\\u002fregion_y=Ethiopia\\u003cextra\\u003e\\u003c\\u002fextra\\u003e\",\"legendgroup\":\"Ethiopia\",\"marker\":{\"color\":\"#00cc96\",\"symbol\":\"circle\"},\"mode\":\"lines\",\"name\":\"Ethiopia\",\"showlegend\":false,\"xaxis\":\"x\",\"yaxis\":\"y\",\"type\":\"scatter\"},{\"hovertemplate\":\"country\\u002fregion_y=Fiji\\u003cbr\\u003eAnnual GDP Growth (%)=%{x}\\u003cbr\\u003eAnnual improvement (%)=%{y}\\u003cextra\\u003e\\u003c\\u002fextra\\u003e\",\"legendgroup\":\"Fiji\",\"marker\":{\"color\":\"#ab63fa\",\"symbol\":\"circle\"},\"mode\":\"markers\",\"name\":\"Fiji\",\"orientation\":\"v\",\"showlegend\":true,\"x\":[19.8],\"xaxis\":\"x\",\"y\":[12.89684416035679],\"yaxis\":\"y\",\"type\":\"scatter\"},{\"hovertemplate\":\"country\\u002fregion_y=Fiji\\u003cextra\\u003e\\u003c\\u002fextra\\u003e\",\"legendgroup\":\"Fiji\",\"marker\":{\"color\":\"#ab63fa\",\"symbol\":\"circle\"},\"mode\":\"lines\",\"name\":\"Fiji\",\"showlegend\":false,\"xaxis\":\"x\",\"yaxis\":\"y\",\"type\":\"scatter\"},{\"hovertemplate\":\"country\\u002fregion_y=Gabon\\u003cbr\\u003eAnnual GDP Growth (%)=%{x}\\u003cbr\\u003eAnnual improvement (%)=%{y}\\u003cextra\\u003e\\u003c\\u002fextra\\u003e\",\"legendgroup\":\"Gabon\",\"marker\":{\"color\":\"#FFA15A\",\"symbol\":\"circle\"},\"mode\":\"markers\",\"name\":\"Gabon\",\"orientation\":\"v\",\"showlegend\":true,\"x\":[3],\"xaxis\":\"x\",\"y\":[-3.666425486417313],\"yaxis\":\"y\",\"type\":\"scatter\"},{\"hovertemplate\":\"country\\u002fregion_y=Gabon\\u003cextra\\u003e\\u003c\\u002fextra\\u003e\",\"legendgroup\":\"Gabon\",\"marker\":{\"color\":\"#FFA15A\",\"symbol\":\"circle\"},\"mode\":\"lines\",\"name\":\"Gabon\",\"showlegend\":false,\"xaxis\":\"x\",\"yaxis\":\"y\",\"type\":\"scatter\"},{\"hovertemplate\":\"country\\u002fregion_y=Georgia\\u003cbr\\u003eAnnual GDP Growth (%)=%{x}\\u003cbr\\u003eAnnual improvement (%)=%{y}\\u003cextra\\u003e\\u003c\\u002fextra\\u003e\",\"legendgroup\":\"Georgia\",\"marker\":{\"color\":\"#19d3f3\",\"symbol\":\"circle\"},\"mode\":\"markers\",\"name\":\"Georgia\",\"orientation\":\"v\",\"showlegend\":true,\"x\":[11],\"xaxis\":\"x\",\"y\":[7.31836560124326],\"yaxis\":\"y\",\"type\":\"scatter\"},{\"hovertemplate\":\"country\\u002fregion_y=Georgia\\u003cextra\\u003e\\u003c\\u002fextra\\u003e\",\"legendgroup\":\"Georgia\",\"marker\":{\"color\":\"#19d3f3\",\"symbol\":\"circle\"},\"mode\":\"lines\",\"name\":\"Georgia\",\"showlegend\":false,\"xaxis\":\"x\",\"yaxis\":\"y\",\"type\":\"scatter\"},{\"hovertemplate\":\"country\\u002fregion_y=Ghana\\u003cbr\\u003eAnnual GDP Growth (%)=%{x}\\u003cbr\\u003eAnnual improvement (%)=%{y}\\u003cextra\\u003e\\u003c\\u002fextra\\u003e\",\"legendgroup\":\"Ghana\",\"marker\":{\"color\":\"#FF6692\",\"symbol\":\"circle\"},\"mode\":\"markers\",\"name\":\"Ghana\",\"orientation\":\"v\",\"showlegend\":true,\"x\":[3.8],\"xaxis\":\"x\",\"y\":[-2.682647895447543],\"yaxis\":\"y\",\"type\":\"scatter\"},{\"hovertemplate\":\"country\\u002fregion_y=Ghana\\u003cextra\\u003e\\u003c\\u002fextra\\u003e\",\"legendgroup\":\"Ghana\",\"marker\":{\"color\":\"#FF6692\",\"symbol\":\"circle\"},\"mode\":\"lines\",\"name\":\"Ghana\",\"showlegend\":false,\"xaxis\":\"x\",\"yaxis\":\"y\",\"type\":\"scatter\"},{\"hovertemplate\":\"country\\u002fregion_y=Guinea\\u003cbr\\u003eAnnual GDP Growth (%)=%{x}\\u003cbr\\u003eAnnual improvement (%)=%{y}\\u003cextra\\u003e\\u003c\\u002fextra\\u003e\",\"legendgroup\":\"Guinea\",\"marker\":{\"color\":\"#B6E880\",\"symbol\":\"circle\"},\"mode\":\"markers\",\"name\":\"Guinea\",\"orientation\":\"v\",\"showlegend\":true,\"x\":[4],\"xaxis\":\"x\",\"y\":[1.7404828459192334],\"yaxis\":\"y\",\"type\":\"scatter\"},{\"hovertemplate\":\"country\\u002fregion_y=Guinea\\u003cextra\\u003e\\u003c\\u002fextra\\u003e\",\"legendgroup\":\"Guinea\",\"marker\":{\"color\":\"#B6E880\",\"symbol\":\"circle\"},\"mode\":\"lines\",\"name\":\"Guinea\",\"showlegend\":false,\"xaxis\":\"x\",\"yaxis\":\"y\",\"type\":\"scatter\"},{\"hovertemplate\":\"country\\u002fregion_y=Gambia, The\\u003cbr\\u003eAnnual GDP Growth (%)=%{x}\\u003cbr\\u003eAnnual improvement (%)=%{y}\\u003cextra\\u003e\\u003c\\u002fextra\\u003e\",\"legendgroup\":\"Gambia, The\",\"marker\":{\"color\":\"#FF97FF\",\"symbol\":\"circle\"},\"mode\":\"markers\",\"name\":\"Gambia, The\",\"orientation\":\"v\",\"showlegend\":true,\"x\":[4.9],\"xaxis\":\"x\",\"y\":[1.7009225143011064],\"yaxis\":\"y\",\"type\":\"scatter\"},{\"hovertemplate\":\"country\\u002fregion_y=Gambia, The\\u003cextra\\u003e\\u003c\\u002fextra\\u003e\",\"legendgroup\":\"Gambia, The\",\"marker\":{\"color\":\"#FF97FF\",\"symbol\":\"circle\"},\"mode\":\"lines\",\"name\":\"Gambia, The\",\"showlegend\":false,\"xaxis\":\"x\",\"yaxis\":\"y\",\"type\":\"scatter\"},{\"hovertemplate\":\"country\\u002fregion_y=Guinea-Bissau\\u003cbr\\u003eAnnual GDP Growth (%)=%{x}\\u003cbr\\u003eAnnual improvement (%)=%{y}\\u003cextra\\u003e\\u003c\\u002fextra\\u003e\",\"legendgroup\":\"Guinea-Bissau\",\"marker\":{\"color\":\"#FECB52\",\"symbol\":\"circle\"},\"mode\":\"markers\",\"name\":\"Guinea-Bissau\",\"orientation\":\"v\",\"showlegend\":true,\"x\":[4.6],\"xaxis\":\"x\",\"y\":[0.3806531027453097],\"yaxis\":\"y\",\"type\":\"scatter\"},{\"hovertemplate\":\"country\\u002fregion_y=Guinea-Bissau\\u003cextra\\u003e\\u003c\\u002fextra\\u003e\",\"legendgroup\":\"Guinea-Bissau\",\"marker\":{\"color\":\"#FECB52\",\"symbol\":\"circle\"},\"mode\":\"lines\",\"name\":\"Guinea-Bissau\",\"showlegend\":false,\"xaxis\":\"x\",\"yaxis\":\"y\",\"type\":\"scatter\"},{\"hovertemplate\":\"country\\u002fregion_y=Equatorial Guinea\\u003cbr\\u003eAnnual GDP Growth (%)=%{x}\\u003cbr\\u003eAnnual improvement (%)=%{y}\\u003cextra\\u003e\\u003c\\u002fextra\\u003e\",\"legendgroup\":\"Equatorial Guinea\",\"marker\":{\"color\":\"#636efa\",\"symbol\":\"circle\"},\"mode\":\"markers\",\"name\":\"Equatorial Guinea\",\"orientation\":\"v\",\"showlegend\":true,\"x\":[3.7],\"xaxis\":\"x\",\"y\":[-1.6316538204638187],\"yaxis\":\"y\",\"type\":\"scatter\"},{\"hovertemplate\":\"country\\u002fregion_y=Equatorial Guinea\\u003cextra\\u003e\\u003c\\u002fextra\\u003e\",\"legendgroup\":\"Equatorial Guinea\",\"marker\":{\"color\":\"#636efa\",\"symbol\":\"circle\"},\"mode\":\"lines\",\"name\":\"Equatorial Guinea\",\"showlegend\":false,\"xaxis\":\"x\",\"yaxis\":\"y\",\"type\":\"scatter\"},{\"hovertemplate\":\"country\\u002fregion_y=Grenada\\u003cbr\\u003eAnnual GDP Growth (%)=%{x}\\u003cbr\\u003eAnnual improvement (%)=%{y}\\u003cextra\\u003e\\u003c\\u002fextra\\u003e\",\"legendgroup\":\"Grenada\",\"marker\":{\"color\":\"#EF553B\",\"symbol\":\"circle\"},\"mode\":\"markers\",\"name\":\"Grenada\",\"orientation\":\"v\",\"showlegend\":true,\"x\":[7.3],\"xaxis\":\"x\",\"y\":[-1.454237141727166],\"yaxis\":\"y\",\"type\":\"scatter\"},{\"hovertemplate\":\"country\\u002fregion_y=Grenada\\u003cextra\\u003e\\u003c\\u002fextra\\u003e\",\"legendgroup\":\"Grenada\",\"marker\":{\"color\":\"#EF553B\",\"symbol\":\"circle\"},\"mode\":\"lines\",\"name\":\"Grenada\",\"showlegend\":false,\"xaxis\":\"x\",\"yaxis\":\"y\",\"type\":\"scatter\"},{\"hovertemplate\":\"country\\u002fregion_y=Guatemala\\u003cbr\\u003eAnnual GDP Growth (%)=%{x}\\u003cbr\\u003eAnnual improvement (%)=%{y}\\u003cextra\\u003e\\u003c\\u002fextra\\u003e\",\"legendgroup\":\"Guatemala\",\"marker\":{\"color\":\"#00cc96\",\"symbol\":\"circle\"},\"mode\":\"markers\",\"name\":\"Guatemala\",\"orientation\":\"v\",\"showlegend\":true,\"x\":[4.2],\"xaxis\":\"x\",\"y\":[9.33923775274036],\"yaxis\":\"y\",\"type\":\"scatter\"},{\"hovertemplate\":\"country\\u002fregion_y=Guatemala\\u003cextra\\u003e\\u003c\\u002fextra\\u003e\",\"legendgroup\":\"Guatemala\",\"marker\":{\"color\":\"#00cc96\",\"symbol\":\"circle\"},\"mode\":\"lines\",\"name\":\"Guatemala\",\"showlegend\":false,\"xaxis\":\"x\",\"yaxis\":\"y\",\"type\":\"scatter\"},{\"hovertemplate\":\"country\\u002fregion_y=Guyana\\u003cbr\\u003eAnnual GDP Growth (%)=%{x}\\u003cbr\\u003eAnnual improvement (%)=%{y}\\u003cextra\\u003e\\u003c\\u002fextra\\u003e\",\"legendgroup\":\"Guyana\",\"marker\":{\"color\":\"#ab63fa\",\"symbol\":\"circle\"},\"mode\":\"markers\",\"name\":\"Guyana\",\"orientation\":\"v\",\"showlegend\":true,\"x\":[62.3],\"xaxis\":\"x\",\"y\":[35.38076456595542],\"yaxis\":\"y\",\"type\":\"scatter\"},{\"hovertemplate\":\"country\\u002fregion_y=Guyana\\u003cextra\\u003e\\u003c\\u002fextra\\u003e\",\"legendgroup\":\"Guyana\",\"marker\":{\"color\":\"#ab63fa\",\"symbol\":\"circle\"},\"mode\":\"lines\",\"name\":\"Guyana\",\"showlegend\":false,\"xaxis\":\"x\",\"yaxis\":\"y\",\"type\":\"scatter\"},{\"hovertemplate\":\"country\\u002fregion_y=Honduras\\u003cbr\\u003eAnnual GDP Growth (%)=%{x}\\u003cbr\\u003eAnnual improvement (%)=%{y}\\u003cextra\\u003e\\u003c\\u002fextra\\u003e\",\"legendgroup\":\"Honduras\",\"marker\":{\"color\":\"#FFA15A\",\"symbol\":\"circle\"},\"mode\":\"markers\",\"name\":\"Honduras\",\"orientation\":\"v\",\"showlegend\":true,\"x\":[4.1],\"xaxis\":\"x\",\"y\":[-3.2202033588259793],\"yaxis\":\"y\",\"type\":\"scatter\"},{\"hovertemplate\":\"country\\u002fregion_y=Honduras\\u003cextra\\u003e\\u003c\\u002fextra\\u003e\",\"legendgroup\":\"Honduras\",\"marker\":{\"color\":\"#FFA15A\",\"symbol\":\"circle\"},\"mode\":\"lines\",\"name\":\"Honduras\",\"showlegend\":false,\"xaxis\":\"x\",\"yaxis\":\"y\",\"type\":\"scatter\"},{\"hovertemplate\":\"country\\u002fregion_y=Haiti\\u003cbr\\u003eAnnual GDP Growth (%)=%{x}\\u003cbr\\u003eAnnual improvement (%)=%{y}\\u003cextra\\u003e\\u003c\\u002fextra\\u003e\",\"legendgroup\":\"Haiti\",\"marker\":{\"color\":\"#19d3f3\",\"symbol\":\"circle\"},\"mode\":\"markers\",\"name\":\"Haiti\",\"orientation\":\"v\",\"showlegend\":true,\"x\":[-1.7],\"xaxis\":\"x\",\"y\":[-6.980614724051737],\"yaxis\":\"y\",\"type\":\"scatter\"},{\"hovertemplate\":\"country\\u002fregion_y=Haiti\\u003cextra\\u003e\\u003c\\u002fextra\\u003e\",\"legendgroup\":\"Haiti\",\"marker\":{\"color\":\"#19d3f3\",\"symbol\":\"circle\"},\"mode\":\"lines\",\"name\":\"Haiti\",\"showlegend\":false,\"xaxis\":\"x\",\"yaxis\":\"y\",\"type\":\"scatter\"},{\"hovertemplate\":\"country\\u002fregion_y=Hungary\\u003cbr\\u003eAnnual GDP Growth (%)=%{x}\\u003cbr\\u003eAnnual improvement (%)=%{y}\\u003cextra\\u003e\\u003c\\u002fextra\\u003e\",\"legendgroup\":\"Hungary\",\"marker\":{\"color\":\"#FF6692\",\"symbol\":\"circle\"},\"mode\":\"markers\",\"name\":\"Hungary\",\"orientation\":\"v\",\"showlegend\":true,\"x\":[4.6],\"xaxis\":\"x\",\"y\":[10.603389117940033],\"yaxis\":\"y\",\"type\":\"scatter\"},{\"hovertemplate\":\"country\\u002fregion_y=Hungary\\u003cextra\\u003e\\u003c\\u002fextra\\u003e\",\"legendgroup\":\"Hungary\",\"marker\":{\"color\":\"#FF6692\",\"symbol\":\"circle\"},\"mode\":\"lines\",\"name\":\"Hungary\",\"showlegend\":false,\"xaxis\":\"x\",\"yaxis\":\"y\",\"type\":\"scatter\"},{\"hovertemplate\":\"country\\u002fregion_y=Indonesia\\u003cbr\\u003eAnnual GDP Growth (%)=%{x}\\u003cbr\\u003eAnnual improvement (%)=%{y}\\u003cextra\\u003e\\u003c\\u002fextra\\u003e\",\"legendgroup\":\"Indonesia\",\"marker\":{\"color\":\"#B6E880\",\"symbol\":\"circle\"},\"mode\":\"markers\",\"name\":\"Indonesia\",\"orientation\":\"v\",\"showlegend\":true,\"x\":[5.3],\"xaxis\":\"x\",\"y\":[-9.074377799415023],\"yaxis\":\"y\",\"type\":\"scatter\"},{\"hovertemplate\":\"country\\u002fregion_y=Indonesia\\u003cextra\\u003e\\u003c\\u002fextra\\u003e\",\"legendgroup\":\"Indonesia\",\"marker\":{\"color\":\"#B6E880\",\"symbol\":\"circle\"},\"mode\":\"lines\",\"name\":\"Indonesia\",\"showlegend\":false,\"xaxis\":\"x\",\"yaxis\":\"y\",\"type\":\"scatter\"},{\"hovertemplate\":\"country\\u002fregion_y=India\\u003cbr\\u003eAnnual GDP Growth (%)=%{x}\\u003cbr\\u003eAnnual improvement (%)=%{y}\\u003cextra\\u003e\\u003c\\u002fextra\\u003e\",\"legendgroup\":\"India\",\"marker\":{\"color\":\"#FF97FF\",\"symbol\":\"circle\"},\"mode\":\"markers\",\"name\":\"India\",\"orientation\":\"v\",\"showlegend\":true,\"x\":[7],\"xaxis\":\"x\",\"y\":[-7.898066323588382],\"yaxis\":\"y\",\"type\":\"scatter\"},{\"hovertemplate\":\"country\\u002fregion_y=India\\u003cextra\\u003e\\u003c\\u002fextra\\u003e\",\"legendgroup\":\"India\",\"marker\":{\"color\":\"#FF97FF\",\"symbol\":\"circle\"},\"mode\":\"lines\",\"name\":\"India\",\"showlegend\":false,\"xaxis\":\"x\",\"yaxis\":\"y\",\"type\":\"scatter\"},{\"hovertemplate\":\"country\\u002fregion_y=Iran\\u003cbr\\u003eAnnual GDP Growth (%)=%{x}\\u003cbr\\u003eAnnual improvement (%)=%{y}\\u003cextra\\u003e\\u003c\\u002fextra\\u003e\",\"legendgroup\":\"Iran\",\"marker\":{\"color\":\"#FECB52\",\"symbol\":\"circle\"},\"mode\":\"markers\",\"name\":\"Iran\",\"orientation\":\"v\",\"showlegend\":true,\"x\":[3.8],\"xaxis\":\"x\",\"y\":[0.08767072632392958],\"yaxis\":\"y\",\"type\":\"scatter\"},{\"hovertemplate\":\"country\\u002fregion_y=Iran\\u003cextra\\u003e\\u003c\\u002fextra\\u003e\",\"legendgroup\":\"Iran\",\"marker\":{\"color\":\"#FECB52\",\"symbol\":\"circle\"},\"mode\":\"lines\",\"name\":\"Iran\",\"showlegend\":false,\"xaxis\":\"x\",\"yaxis\":\"y\",\"type\":\"scatter\"},{\"hovertemplate\":\"country\\u002fregion_y=Iraq\\u003cbr\\u003eAnnual GDP Growth (%)=%{x}\\u003cbr\\u003eAnnual improvement (%)=%{y}\\u003cextra\\u003e\\u003c\\u002fextra\\u003e\",\"legendgroup\":\"Iraq\",\"marker\":{\"color\":\"#636efa\",\"symbol\":\"circle\"},\"mode\":\"markers\",\"name\":\"Iraq\",\"orientation\":\"v\",\"showlegend\":true,\"x\":[7.7],\"xaxis\":\"x\",\"y\":[-0.8055912846576918],\"yaxis\":\"y\",\"type\":\"scatter\"},{\"hovertemplate\":\"country\\u002fregion_y=Iraq\\u003cextra\\u003e\\u003c\\u002fextra\\u003e\",\"legendgroup\":\"Iraq\",\"marker\":{\"color\":\"#636efa\",\"symbol\":\"circle\"},\"mode\":\"lines\",\"name\":\"Iraq\",\"showlegend\":false,\"xaxis\":\"x\",\"yaxis\":\"y\",\"type\":\"scatter\"},{\"hovertemplate\":\"country\\u002fregion_y=Jamaica\\u003cbr\\u003eAnnual GDP Growth (%)=%{x}\\u003cbr\\u003eAnnual improvement (%)=%{y}\\u003cextra\\u003e\\u003c\\u002fextra\\u003e\",\"legendgroup\":\"Jamaica\",\"marker\":{\"color\":\"#EF553B\",\"symbol\":\"circle\"},\"mode\":\"markers\",\"name\":\"Jamaica\",\"orientation\":\"v\",\"showlegend\":true,\"x\":[5.2],\"xaxis\":\"x\",\"y\":[2.219687620633548],\"yaxis\":\"y\",\"type\":\"scatter\"},{\"hovertemplate\":\"country\\u002fregion_y=Jamaica\\u003cextra\\u003e\\u003c\\u002fextra\\u003e\",\"legendgroup\":\"Jamaica\",\"marker\":{\"color\":\"#EF553B\",\"symbol\":\"circle\"},\"mode\":\"lines\",\"name\":\"Jamaica\",\"showlegend\":false,\"xaxis\":\"x\",\"yaxis\":\"y\",\"type\":\"scatter\"},{\"hovertemplate\":\"country\\u002fregion_y=Jordan\\u003cbr\\u003eAnnual GDP Growth (%)=%{x}\\u003cbr\\u003eAnnual improvement (%)=%{y}\\u003cextra\\u003e\\u003c\\u002fextra\\u003e\",\"legendgroup\":\"Jordan\",\"marker\":{\"color\":\"#00cc96\",\"symbol\":\"circle\"},\"mode\":\"markers\",\"name\":\"Jordan\",\"orientation\":\"v\",\"showlegend\":true,\"x\":[2.4],\"xaxis\":\"x\",\"y\":[-6.198359120077401],\"yaxis\":\"y\",\"type\":\"scatter\"},{\"hovertemplate\":\"country\\u002fregion_y=Jordan\\u003cextra\\u003e\\u003c\\u002fextra\\u003e\",\"legendgroup\":\"Jordan\",\"marker\":{\"color\":\"#00cc96\",\"symbol\":\"circle\"},\"mode\":\"lines\",\"name\":\"Jordan\",\"showlegend\":false,\"xaxis\":\"x\",\"yaxis\":\"y\",\"type\":\"scatter\"},{\"hovertemplate\":\"country\\u002fregion_y=Kazakhstan\\u003cbr\\u003eAnnual GDP Growth (%)=%{x}\\u003cbr\\u003eAnnual improvement (%)=%{y}\\u003cextra\\u003e\\u003c\\u002fextra\\u003e\",\"legendgroup\":\"Kazakhstan\",\"marker\":{\"color\":\"#ab63fa\",\"symbol\":\"circle\"},\"mode\":\"markers\",\"name\":\"Kazakhstan\",\"orientation\":\"v\",\"showlegend\":true,\"x\":[3.3],\"xaxis\":\"x\",\"y\":[4.892726453340535],\"yaxis\":\"y\",\"type\":\"scatter\"},{\"hovertemplate\":\"country\\u002fregion_y=Kazakhstan\\u003cextra\\u003e\\u003c\\u002fextra\\u003e\",\"legendgroup\":\"Kazakhstan\",\"marker\":{\"color\":\"#ab63fa\",\"symbol\":\"circle\"},\"mode\":\"lines\",\"name\":\"Kazakhstan\",\"showlegend\":false,\"xaxis\":\"x\",\"yaxis\":\"y\",\"type\":\"scatter\"},{\"hovertemplate\":\"country\\u002fregion_y=Kenya\\u003cbr\\u003eAnnual GDP Growth (%)=%{x}\\u003cbr\\u003eAnnual improvement (%)=%{y}\\u003cextra\\u003e\\u003c\\u002fextra\\u003e\",\"legendgroup\":\"Kenya\",\"marker\":{\"color\":\"#FFA15A\",\"symbol\":\"circle\"},\"mode\":\"markers\",\"name\":\"Kenya\",\"orientation\":\"v\",\"showlegend\":true,\"x\":[4.9],\"xaxis\":\"x\",\"y\":[0.8162450300526869],\"yaxis\":\"y\",\"type\":\"scatter\"},{\"hovertemplate\":\"country\\u002fregion_y=Kenya\\u003cextra\\u003e\\u003c\\u002fextra\\u003e\",\"legendgroup\":\"Kenya\",\"marker\":{\"color\":\"#FFA15A\",\"symbol\":\"circle\"},\"mode\":\"lines\",\"name\":\"Kenya\",\"showlegend\":false,\"xaxis\":\"x\",\"yaxis\":\"y\",\"type\":\"scatter\"},{\"hovertemplate\":\"country\\u002fregion_y=Kyrgyz Republic\\u003cbr\\u003eAnnual GDP Growth (%)=%{x}\\u003cbr\\u003eAnnual improvement (%)=%{y}\\u003cextra\\u003e\\u003c\\u002fextra\\u003e\",\"legendgroup\":\"Kyrgyz Republic\",\"marker\":{\"color\":\"#19d3f3\",\"symbol\":\"circle\"},\"mode\":\"markers\",\"name\":\"Kyrgyz Republic\",\"orientation\":\"v\",\"showlegend\":true,\"x\":[9],\"xaxis\":\"x\",\"y\":[-6.56268408880416],\"yaxis\":\"y\",\"type\":\"scatter\"},{\"hovertemplate\":\"country\\u002fregion_y=Kyrgyz Republic\\u003cextra\\u003e\\u003c\\u002fextra\\u003e\",\"legendgroup\":\"Kyrgyz Republic\",\"marker\":{\"color\":\"#19d3f3\",\"symbol\":\"circle\"},\"mode\":\"lines\",\"name\":\"Kyrgyz Republic\",\"showlegend\":false,\"xaxis\":\"x\",\"yaxis\":\"y\",\"type\":\"scatter\"},{\"hovertemplate\":\"country\\u002fregion_y=Cambodia\\u003cbr\\u003eAnnual GDP Growth (%)=%{x}\\u003cbr\\u003eAnnual improvement (%)=%{y}\\u003cextra\\u003e\\u003c\\u002fextra\\u003e\",\"legendgroup\":\"Cambodia\",\"marker\":{\"color\":\"#FF6692\",\"symbol\":\"circle\"},\"mode\":\"markers\",\"name\":\"Cambodia\",\"orientation\":\"v\",\"showlegend\":true,\"x\":[5.1],\"xaxis\":\"x\",\"y\":[6.407505927992552],\"yaxis\":\"y\",\"type\":\"scatter\"},{\"hovertemplate\":\"country\\u002fregion_y=Cambodia\\u003cextra\\u003e\\u003c\\u002fextra\\u003e\",\"legendgroup\":\"Cambodia\",\"marker\":{\"color\":\"#FF6692\",\"symbol\":\"circle\"},\"mode\":\"lines\",\"name\":\"Cambodia\",\"showlegend\":false,\"xaxis\":\"x\",\"yaxis\":\"y\",\"type\":\"scatter\"},{\"hovertemplate\":\"country\\u002fregion_y=Kiribati\\u003cbr\\u003eAnnual GDP Growth (%)=%{x}\\u003cbr\\u003eAnnual improvement (%)=%{y}\\u003cextra\\u003e\\u003c\\u002fextra\\u003e\",\"legendgroup\":\"Kiribati\",\"marker\":{\"color\":\"#B6E880\",\"symbol\":\"circle\"},\"mode\":\"markers\",\"name\":\"Kiribati\",\"orientation\":\"v\",\"showlegend\":true,\"x\":[3.9],\"xaxis\":\"x\",\"y\":[-3.533180795699753],\"yaxis\":\"y\",\"type\":\"scatter\"},{\"hovertemplate\":\"country\\u002fregion_y=Kiribati\\u003cextra\\u003e\\u003c\\u002fextra\\u003e\",\"legendgroup\":\"Kiribati\",\"marker\":{\"color\":\"#B6E880\",\"symbol\":\"circle\"},\"mode\":\"lines\",\"name\":\"Kiribati\",\"showlegend\":false,\"xaxis\":\"x\",\"yaxis\":\"y\",\"type\":\"scatter\"},{\"hovertemplate\":\"country\\u002fregion_y=Saint Kitts and Nevis\\u003cbr\\u003eAnnual GDP Growth (%)=%{x}\\u003cbr\\u003eAnnual improvement (%)=%{y}\\u003cextra\\u003e\\u003c\\u002fextra\\u003e\",\"legendgroup\":\"Saint Kitts and Nevis\",\"marker\":{\"color\":\"#FF97FF\",\"symbol\":\"circle\"},\"mode\":\"markers\",\"name\":\"Saint Kitts and Nevis\",\"orientation\":\"v\",\"showlegend\":true,\"x\":[10.5],\"xaxis\":\"x\",\"y\":[2.277761351611385],\"yaxis\":\"y\",\"type\":\"scatter\"},{\"hovertemplate\":\"country\\u002fregion_y=Saint Kitts and Nevis\\u003cextra\\u003e\\u003c\\u002fextra\\u003e\",\"legendgroup\":\"Saint Kitts and Nevis\",\"marker\":{\"color\":\"#FF97FF\",\"symbol\":\"circle\"},\"mode\":\"lines\",\"name\":\"Saint Kitts and Nevis\",\"showlegend\":false,\"xaxis\":\"x\",\"yaxis\":\"y\",\"type\":\"scatter\"},{\"hovertemplate\":\"country\\u002fregion_y=Kuwait\\u003cbr\\u003eAnnual GDP Growth (%)=%{x}\\u003cbr\\u003eAnnual improvement (%)=%{y}\\u003cextra\\u003e\\u003c\\u002fextra\\u003e\",\"legendgroup\":\"Kuwait\",\"marker\":{\"color\":\"#FECB52\",\"symbol\":\"circle\"},\"mode\":\"markers\",\"name\":\"Kuwait\",\"orientation\":\"v\",\"showlegend\":true,\"x\":[5.9],\"xaxis\":\"x\",\"y\":[-0.005270707933036078],\"yaxis\":\"y\",\"type\":\"scatter\"},{\"hovertemplate\":\"country\\u002fregion_y=Kuwait\\u003cextra\\u003e\\u003c\\u002fextra\\u003e\",\"legendgroup\":\"Kuwait\",\"marker\":{\"color\":\"#FECB52\",\"symbol\":\"circle\"},\"mode\":\"lines\",\"name\":\"Kuwait\",\"showlegend\":false,\"xaxis\":\"x\",\"yaxis\":\"y\",\"type\":\"scatter\"},{\"hovertemplate\":\"country\\u002fregion_y=Lao P.D.R.\\u003cbr\\u003eAnnual GDP Growth (%)=%{x}\\u003cbr\\u003eAnnual improvement (%)=%{y}\\u003cextra\\u003e\\u003c\\u002fextra\\u003e\",\"legendgroup\":\"Lao P.D.R.\",\"marker\":{\"color\":\"#636efa\",\"symbol\":\"circle\"},\"mode\":\"markers\",\"name\":\"Lao P.D.R.\",\"orientation\":\"v\",\"showlegend\":true,\"x\":[2.3],\"xaxis\":\"x\",\"y\":[11.801404763145184],\"yaxis\":\"y\",\"type\":\"scatter\"},{\"hovertemplate\":\"country\\u002fregion_y=Lao P.D.R.\\u003cextra\\u003e\\u003c\\u002fextra\\u003e\",\"legendgroup\":\"Lao P.D.R.\",\"marker\":{\"color\":\"#636efa\",\"symbol\":\"circle\"},\"mode\":\"lines\",\"name\":\"Lao P.D.R.\",\"showlegend\":false,\"xaxis\":\"x\",\"yaxis\":\"y\",\"type\":\"scatter\"},{\"hovertemplate\":\"country\\u002fregion_y=Lebanon\\u003cbr\\u003eAnnual GDP Growth (%)=%{x}\\u003cbr\\u003eAnnual improvement (%)=%{y}\\u003cextra\\u003e\\u003c\\u002fextra\\u003e\",\"legendgroup\":\"Lebanon\",\"marker\":{\"color\":\"#EF553B\",\"symbol\":\"circle\"},\"mode\":\"markers\",\"name\":\"Lebanon\",\"orientation\":\"v\",\"showlegend\":true,\"x\":[1],\"xaxis\":\"x\",\"y\":[-9.040546366282864],\"yaxis\":\"y\",\"type\":\"scatter\"},{\"hovertemplate\":\"country\\u002fregion_y=Lebanon\\u003cextra\\u003e\\u003c\\u002fextra\\u003e\",\"legendgroup\":\"Lebanon\",\"marker\":{\"color\":\"#EF553B\",\"symbol\":\"circle\"},\"mode\":\"lines\",\"name\":\"Lebanon\",\"showlegend\":false,\"xaxis\":\"x\",\"yaxis\":\"y\",\"type\":\"scatter\"},{\"hovertemplate\":\"country\\u002fregion_y=Liberia\\u003cbr\\u003eAnnual GDP Growth (%)=%{x}\\u003cbr\\u003eAnnual improvement (%)=%{y}\\u003cextra\\u003e\\u003c\\u002fextra\\u003e\",\"legendgroup\":\"Liberia\",\"marker\":{\"color\":\"#00cc96\",\"symbol\":\"circle\"},\"mode\":\"markers\",\"name\":\"Liberia\",\"orientation\":\"v\",\"showlegend\":true,\"x\":[4.8],\"xaxis\":\"x\",\"y\":[2.1243144322417584],\"yaxis\":\"y\",\"type\":\"scatter\"},{\"hovertemplate\":\"country\\u002fregion_y=Liberia\\u003cextra\\u003e\\u003c\\u002fextra\\u003e\",\"legendgroup\":\"Liberia\",\"marker\":{\"color\":\"#00cc96\",\"symbol\":\"circle\"},\"mode\":\"lines\",\"name\":\"Liberia\",\"showlegend\":false,\"xaxis\":\"x\",\"yaxis\":\"y\",\"type\":\"scatter\"},{\"hovertemplate\":\"country\\u002fregion_y=Libya\\u003cbr\\u003eAnnual GDP Growth (%)=%{x}\\u003cbr\\u003eAnnual improvement (%)=%{y}\\u003cextra\\u003e\\u003c\\u002fextra\\u003e\",\"legendgroup\":\"Libya\",\"marker\":{\"color\":\"#ab63fa\",\"symbol\":\"circle\"},\"mode\":\"markers\",\"name\":\"Libya\",\"orientation\":\"v\",\"showlegend\":true,\"x\":[-8.3],\"xaxis\":\"x\",\"y\":[-30.199626799458336],\"yaxis\":\"y\",\"type\":\"scatter\"},{\"hovertemplate\":\"country\\u002fregion_y=Libya\\u003cextra\\u003e\\u003c\\u002fextra\\u003e\",\"legendgroup\":\"Libya\",\"marker\":{\"color\":\"#ab63fa\",\"symbol\":\"circle\"},\"mode\":\"lines\",\"name\":\"Libya\",\"showlegend\":false,\"xaxis\":\"x\",\"yaxis\":\"y\",\"type\":\"scatter\"},{\"hovertemplate\":\"country\\u002fregion_y=Saint Lucia\\u003cbr\\u003eAnnual GDP Growth (%)=%{x}\\u003cbr\\u003eAnnual improvement (%)=%{y}\\u003cextra\\u003e\\u003c\\u002fextra\\u003e\",\"legendgroup\":\"Saint Lucia\",\"marker\":{\"color\":\"#FFA15A\",\"symbol\":\"circle\"},\"mode\":\"markers\",\"name\":\"Saint Lucia\",\"orientation\":\"v\",\"showlegend\":true,\"x\":[20.4],\"xaxis\":\"x\",\"y\":[11.726505564446544],\"yaxis\":\"y\",\"type\":\"scatter\"},{\"hovertemplate\":\"country\\u002fregion_y=Saint Lucia\\u003cextra\\u003e\\u003c\\u002fextra\\u003e\",\"legendgroup\":\"Saint Lucia\",\"marker\":{\"color\":\"#FFA15A\",\"symbol\":\"circle\"},\"mode\":\"lines\",\"name\":\"Saint Lucia\",\"showlegend\":false,\"xaxis\":\"x\",\"yaxis\":\"y\",\"type\":\"scatter\"},{\"hovertemplate\":\"country\\u002fregion_y=Sri Lanka\\u003cbr\\u003eAnnual GDP Growth (%)=%{x}\\u003cbr\\u003eAnnual improvement (%)=%{y}\\u003cextra\\u003e\\u003c\\u002fextra\\u003e\",\"legendgroup\":\"Sri Lanka\",\"marker\":{\"color\":\"#19d3f3\",\"symbol\":\"circle\"},\"mode\":\"markers\",\"name\":\"Sri Lanka\",\"orientation\":\"v\",\"showlegend\":true,\"x\":[-7.3],\"xaxis\":\"x\",\"y\":[-6.252058603185517],\"yaxis\":\"y\",\"type\":\"scatter\"},{\"hovertemplate\":\"country\\u002fregion_y=Sri Lanka\\u003cextra\\u003e\\u003c\\u002fextra\\u003e\",\"legendgroup\":\"Sri Lanka\",\"marker\":{\"color\":\"#19d3f3\",\"symbol\":\"circle\"},\"mode\":\"lines\",\"name\":\"Sri Lanka\",\"showlegend\":false,\"xaxis\":\"x\",\"yaxis\":\"y\",\"type\":\"scatter\"},{\"hovertemplate\":\"country\\u002fregion_y=Lesotho\\u003cbr\\u003eAnnual GDP Growth (%)=%{x}\\u003cbr\\u003eAnnual improvement (%)=%{y}\\u003cextra\\u003e\\u003c\\u002fextra\\u003e\",\"legendgroup\":\"Lesotho\",\"marker\":{\"color\":\"#FF6692\",\"symbol\":\"circle\"},\"mode\":\"markers\",\"name\":\"Lesotho\",\"orientation\":\"v\",\"showlegend\":true,\"x\":[1.6],\"xaxis\":\"x\",\"y\":[-1.1835889038900538],\"yaxis\":\"y\",\"type\":\"scatter\"},{\"hovertemplate\":\"country\\u002fregion_y=Lesotho\\u003cextra\\u003e\\u003c\\u002fextra\\u003e\",\"legendgroup\":\"Lesotho\",\"marker\":{\"color\":\"#FF6692\",\"symbol\":\"circle\"},\"mode\":\"lines\",\"name\":\"Lesotho\",\"showlegend\":false,\"xaxis\":\"x\",\"yaxis\":\"y\",\"type\":\"scatter\"},{\"hovertemplate\":\"country\\u002fregion_y=Morocco\\u003cbr\\u003eAnnual GDP Growth (%)=%{x}\\u003cbr\\u003eAnnual improvement (%)=%{y}\\u003cextra\\u003e\\u003c\\u002fextra\\u003e\",\"legendgroup\":\"Morocco\",\"marker\":{\"color\":\"#B6E880\",\"symbol\":\"circle\"},\"mode\":\"markers\",\"name\":\"Morocco\",\"orientation\":\"v\",\"showlegend\":true,\"x\":[1.5],\"xaxis\":\"x\",\"y\":[-0.02950457075248103],\"yaxis\":\"y\",\"type\":\"scatter\"},{\"hovertemplate\":\"country\\u002fregion_y=Morocco\\u003cextra\\u003e\\u003c\\u002fextra\\u003e\",\"legendgroup\":\"Morocco\",\"marker\":{\"color\":\"#B6E880\",\"symbol\":\"circle\"},\"mode\":\"lines\",\"name\":\"Morocco\",\"showlegend\":false,\"xaxis\":\"x\",\"yaxis\":\"y\",\"type\":\"scatter\"},{\"hovertemplate\":\"country\\u002fregion_y=Moldova\\u003cbr\\u003eAnnual GDP Growth (%)=%{x}\\u003cbr\\u003eAnnual improvement (%)=%{y}\\u003cextra\\u003e\\u003c\\u002fextra\\u003e\",\"legendgroup\":\"Moldova\",\"marker\":{\"color\":\"#FF97FF\",\"symbol\":\"circle\"},\"mode\":\"markers\",\"name\":\"Moldova\",\"orientation\":\"v\",\"showlegend\":true,\"x\":[-5],\"xaxis\":\"x\",\"y\":[10.833472610865712],\"yaxis\":\"y\",\"type\":\"scatter\"},{\"hovertemplate\":\"country\\u002fregion_y=Moldova\\u003cextra\\u003e\\u003c\\u002fextra\\u003e\",\"legendgroup\":\"Moldova\",\"marker\":{\"color\":\"#FF97FF\",\"symbol\":\"circle\"},\"mode\":\"lines\",\"name\":\"Moldova\",\"showlegend\":false,\"xaxis\":\"x\",\"yaxis\":\"y\",\"type\":\"scatter\"},{\"hovertemplate\":\"country\\u002fregion_y=Madagascar\\u003cbr\\u003eAnnual GDP Growth (%)=%{x}\\u003cbr\\u003eAnnual improvement (%)=%{y}\\u003cextra\\u003e\\u003c\\u002fextra\\u003e\",\"legendgroup\":\"Madagascar\",\"marker\":{\"color\":\"#FECB52\",\"symbol\":\"circle\"},\"mode\":\"markers\",\"name\":\"Madagascar\",\"orientation\":\"v\",\"showlegend\":true,\"x\":[4],\"xaxis\":\"x\",\"y\":[-2.9879003053121744],\"yaxis\":\"y\",\"type\":\"scatter\"},{\"hovertemplate\":\"country\\u002fregion_y=Madagascar\\u003cextra\\u003e\\u003c\\u002fextra\\u003e\",\"legendgroup\":\"Madagascar\",\"marker\":{\"color\":\"#FECB52\",\"symbol\":\"circle\"},\"mode\":\"lines\",\"name\":\"Madagascar\",\"showlegend\":false,\"xaxis\":\"x\",\"yaxis\":\"y\",\"type\":\"scatter\"},{\"hovertemplate\":\"country\\u002fregion_y=Maldives\\u003cbr\\u003eAnnual GDP Growth (%)=%{x}\\u003cbr\\u003eAnnual improvement (%)=%{y}\\u003cextra\\u003e\\u003c\\u002fextra\\u003e\",\"legendgroup\":\"Maldives\",\"marker\":{\"color\":\"#636efa\",\"symbol\":\"circle\"},\"mode\":\"markers\",\"name\":\"Maldives\",\"orientation\":\"v\",\"showlegend\":true,\"x\":[13.9],\"xaxis\":\"x\",\"y\":[11.519950654718725],\"yaxis\":\"y\",\"type\":\"scatter\"},{\"hovertemplate\":\"country\\u002fregion_y=Maldives\\u003cextra\\u003e\\u003c\\u002fextra\\u003e\",\"legendgroup\":\"Maldives\",\"marker\":{\"color\":\"#636efa\",\"symbol\":\"circle\"},\"mode\":\"lines\",\"name\":\"Maldives\",\"showlegend\":false,\"xaxis\":\"x\",\"yaxis\":\"y\",\"type\":\"scatter\"},{\"hovertemplate\":\"country\\u002fregion_y=Mexico\\u003cbr\\u003eAnnual GDP Growth (%)=%{x}\\u003cbr\\u003eAnnual improvement (%)=%{y}\\u003cextra\\u003e\\u003c\\u002fextra\\u003e\",\"legendgroup\":\"Mexico\",\"marker\":{\"color\":\"#EF553B\",\"symbol\":\"circle\"},\"mode\":\"markers\",\"name\":\"Mexico\",\"orientation\":\"v\",\"showlegend\":true,\"x\":[3.7],\"xaxis\":\"x\",\"y\":[-2.187804429653628],\"yaxis\":\"y\",\"type\":\"scatter\"},{\"hovertemplate\":\"country\\u002fregion_y=Mexico\\u003cextra\\u003e\\u003c\\u002fextra\\u003e\",\"legendgroup\":\"Mexico\",\"marker\":{\"color\":\"#EF553B\",\"symbol\":\"circle\"},\"mode\":\"lines\",\"name\":\"Mexico\",\"showlegend\":false,\"xaxis\":\"x\",\"yaxis\":\"y\",\"type\":\"scatter\"},{\"hovertemplate\":\"country\\u002fregion_y=North Macedonia\\u003cbr\\u003eAnnual GDP Growth (%)=%{x}\\u003cbr\\u003eAnnual improvement (%)=%{y}\\u003cextra\\u003e\\u003c\\u002fextra\\u003e\",\"legendgroup\":\"North Macedonia\",\"marker\":{\"color\":\"#00cc96\",\"symbol\":\"circle\"},\"mode\":\"markers\",\"name\":\"North Macedonia\",\"orientation\":\"v\",\"showlegend\":true,\"x\":[2.2],\"xaxis\":\"x\",\"y\":[7.335156291729539],\"yaxis\":\"y\",\"type\":\"scatter\"},{\"hovertemplate\":\"country\\u002fregion_y=North Macedonia\\u003cextra\\u003e\\u003c\\u002fextra\\u003e\",\"legendgroup\":\"North Macedonia\",\"marker\":{\"color\":\"#00cc96\",\"symbol\":\"circle\"},\"mode\":\"lines\",\"name\":\"North Macedonia\",\"showlegend\":false,\"xaxis\":\"x\",\"yaxis\":\"y\",\"type\":\"scatter\"},{\"hovertemplate\":\"country\\u002fregion_y=Mali\\u003cbr\\u003eAnnual GDP Growth (%)=%{x}\\u003cbr\\u003eAnnual improvement (%)=%{y}\\u003cextra\\u003e\\u003c\\u002fextra\\u003e\",\"legendgroup\":\"Mali\",\"marker\":{\"color\":\"#ab63fa\",\"symbol\":\"circle\"},\"mode\":\"markers\",\"name\":\"Mali\",\"orientation\":\"v\",\"showlegend\":true,\"x\":[3.5],\"xaxis\":\"x\",\"y\":[-0.9696251880723095],\"yaxis\":\"y\",\"type\":\"scatter\"},{\"hovertemplate\":\"country\\u002fregion_y=Mali\\u003cextra\\u003e\\u003c\\u002fextra\\u003e\",\"legendgroup\":\"Mali\",\"marker\":{\"color\":\"#ab63fa\",\"symbol\":\"circle\"},\"mode\":\"lines\",\"name\":\"Mali\",\"showlegend\":false,\"xaxis\":\"x\",\"yaxis\":\"y\",\"type\":\"scatter\"},{\"hovertemplate\":\"country\\u002fregion_y=Myanmar\\u003cbr\\u003eAnnual GDP Growth (%)=%{x}\\u003cbr\\u003eAnnual improvement (%)=%{y}\\u003cextra\\u003e\\u003c\\u002fextra\\u003e\",\"legendgroup\":\"Myanmar\",\"marker\":{\"color\":\"#FFA15A\",\"symbol\":\"circle\"},\"mode\":\"markers\",\"name\":\"Myanmar\",\"orientation\":\"v\",\"showlegend\":true,\"x\":[-4],\"xaxis\":\"x\",\"y\":[7.3196883820790815],\"yaxis\":\"y\",\"type\":\"scatter\"},{\"hovertemplate\":\"country\\u002fregion_y=Myanmar\\u003cextra\\u003e\\u003c\\u002fextra\\u003e\",\"legendgroup\":\"Myanmar\",\"marker\":{\"color\":\"#FFA15A\",\"symbol\":\"circle\"},\"mode\":\"lines\",\"name\":\"Myanmar\",\"showlegend\":false,\"xaxis\":\"x\",\"yaxis\":\"y\",\"type\":\"scatter\"},{\"hovertemplate\":\"country\\u002fregion_y=Montenegro\\u003cbr\\u003eAnnual GDP Growth (%)=%{x}\\u003cbr\\u003eAnnual improvement (%)=%{y}\\u003cextra\\u003e\\u003c\\u002fextra\\u003e\",\"legendgroup\":\"Montenegro\",\"marker\":{\"color\":\"#19d3f3\",\"symbol\":\"circle\"},\"mode\":\"markers\",\"name\":\"Montenegro\",\"orientation\":\"v\",\"showlegend\":true,\"x\":[6.4],\"xaxis\":\"x\",\"y\":[4.517850663561784],\"yaxis\":\"y\",\"type\":\"scatter\"},{\"hovertemplate\":\"country\\u002fregion_y=Montenegro\\u003cextra\\u003e\\u003c\\u002fextra\\u003e\",\"legendgroup\":\"Montenegro\",\"marker\":{\"color\":\"#19d3f3\",\"symbol\":\"circle\"},\"mode\":\"lines\",\"name\":\"Montenegro\",\"showlegend\":false,\"xaxis\":\"x\",\"yaxis\":\"y\",\"type\":\"scatter\"},{\"hovertemplate\":\"country\\u002fregion_y=Mongolia\\u003cbr\\u003eAnnual GDP Growth (%)=%{x}\\u003cbr\\u003eAnnual improvement (%)=%{y}\\u003cextra\\u003e\\u003c\\u002fextra\\u003e\",\"legendgroup\":\"Mongolia\",\"marker\":{\"color\":\"#FF6692\",\"symbol\":\"circle\"},\"mode\":\"markers\",\"name\":\"Mongolia\",\"orientation\":\"v\",\"showlegend\":true,\"x\":[5],\"xaxis\":\"x\",\"y\":[21.450046665321754],\"yaxis\":\"y\",\"type\":\"scatter\"},{\"hovertemplate\":\"country\\u002fregion_y=Mongolia\\u003cextra\\u003e\\u003c\\u002fextra\\u003e\",\"legendgroup\":\"Mongolia\",\"marker\":{\"color\":\"#FF6692\",\"symbol\":\"circle\"},\"mode\":\"lines\",\"name\":\"Mongolia\",\"showlegend\":false,\"xaxis\":\"x\",\"yaxis\":\"y\",\"type\":\"scatter\"},{\"hovertemplate\":\"country\\u002fregion_y=Mozambique\\u003cbr\\u003eAnnual GDP Growth (%)=%{x}\\u003cbr\\u003eAnnual improvement (%)=%{y}\\u003cextra\\u003e\\u003c\\u002fextra\\u003e\",\"legendgroup\":\"Mozambique\",\"marker\":{\"color\":\"#B6E880\",\"symbol\":\"circle\"},\"mode\":\"markers\",\"name\":\"Mozambique\",\"orientation\":\"v\",\"showlegend\":true,\"x\":[4.4],\"xaxis\":\"x\",\"y\":[4.338207278203665],\"yaxis\":\"y\",\"type\":\"scatter\"},{\"hovertemplate\":\"country\\u002fregion_y=Mozambique\\u003cextra\\u003e\\u003c\\u002fextra\\u003e\",\"legendgroup\":\"Mozambique\",\"marker\":{\"color\":\"#B6E880\",\"symbol\":\"circle\"},\"mode\":\"lines\",\"name\":\"Mozambique\",\"showlegend\":false,\"xaxis\":\"x\",\"yaxis\":\"y\",\"type\":\"scatter\"},{\"hovertemplate\":\"country\\u002fregion_y=Mauritania\\u003cbr\\u003eAnnual GDP Growth (%)=%{x}\\u003cbr\\u003eAnnual improvement (%)=%{y}\\u003cextra\\u003e\\u003c\\u002fextra\\u003e\",\"legendgroup\":\"Mauritania\",\"marker\":{\"color\":\"#FF97FF\",\"symbol\":\"circle\"},\"mode\":\"markers\",\"name\":\"Mauritania\",\"orientation\":\"v\",\"showlegend\":true,\"x\":[6.8],\"xaxis\":\"x\",\"y\":[3.0813950415081393],\"yaxis\":\"y\",\"type\":\"scatter\"},{\"hovertemplate\":\"country\\u002fregion_y=Mauritania\\u003cextra\\u003e\\u003c\\u002fextra\\u003e\",\"legendgroup\":\"Mauritania\",\"marker\":{\"color\":\"#FF97FF\",\"symbol\":\"circle\"},\"mode\":\"lines\",\"name\":\"Mauritania\",\"showlegend\":false,\"xaxis\":\"x\",\"yaxis\":\"y\",\"type\":\"scatter\"},{\"hovertemplate\":\"country\\u002fregion_y=Mauritius\\u003cbr\\u003eAnnual GDP Growth (%)=%{x}\\u003cbr\\u003eAnnual improvement (%)=%{y}\\u003cextra\\u003e\\u003c\\u002fextra\\u003e\",\"legendgroup\":\"Mauritius\",\"marker\":{\"color\":\"#FECB52\",\"symbol\":\"circle\"},\"mode\":\"markers\",\"name\":\"Mauritius\",\"orientation\":\"v\",\"showlegend\":true,\"x\":[8.9],\"xaxis\":\"x\",\"y\":[12.332348457766063],\"yaxis\":\"y\",\"type\":\"scatter\"},{\"hovertemplate\":\"country\\u002fregion_y=Mauritius\\u003cextra\\u003e\\u003c\\u002fextra\\u003e\",\"legendgroup\":\"Mauritius\",\"marker\":{\"color\":\"#FECB52\",\"symbol\":\"circle\"},\"mode\":\"lines\",\"name\":\"Mauritius\",\"showlegend\":false,\"xaxis\":\"x\",\"yaxis\":\"y\",\"type\":\"scatter\"},{\"hovertemplate\":\"country\\u002fregion_y=Malawi\\u003cbr\\u003eAnnual GDP Growth (%)=%{x}\\u003cbr\\u003eAnnual improvement (%)=%{y}\\u003cextra\\u003e\\u003c\\u002fextra\\u003e\",\"legendgroup\":\"Malawi\",\"marker\":{\"color\":\"#636efa\",\"symbol\":\"circle\"},\"mode\":\"markers\",\"name\":\"Malawi\",\"orientation\":\"v\",\"showlegend\":true,\"x\":[0.9],\"xaxis\":\"x\",\"y\":[-0.7589264882043034],\"yaxis\":\"y\",\"type\":\"scatter\"},{\"hovertemplate\":\"country\\u002fregion_y=Malawi\\u003cextra\\u003e\\u003c\\u002fextra\\u003e\",\"legendgroup\":\"Malawi\",\"marker\":{\"color\":\"#636efa\",\"symbol\":\"circle\"},\"mode\":\"lines\",\"name\":\"Malawi\",\"showlegend\":false,\"xaxis\":\"x\",\"yaxis\":\"y\",\"type\":\"scatter\"},{\"hovertemplate\":\"country\\u002fregion_y=Malaysia\\u003cbr\\u003eAnnual GDP Growth (%)=%{x}\\u003cbr\\u003eAnnual improvement (%)=%{y}\\u003cextra\\u003e\\u003c\\u002fextra\\u003e\",\"legendgroup\":\"Malaysia\",\"marker\":{\"color\":\"#EF553B\",\"symbol\":\"circle\"},\"mode\":\"markers\",\"name\":\"Malaysia\",\"orientation\":\"v\",\"showlegend\":true,\"x\":[8.9],\"xaxis\":\"x\",\"y\":[3.899858480280216],\"yaxis\":\"y\",\"type\":\"scatter\"},{\"hovertemplate\":\"country\\u002fregion_y=Malaysia\\u003cextra\\u003e\\u003c\\u002fextra\\u003e\",\"legendgroup\":\"Malaysia\",\"marker\":{\"color\":\"#EF553B\",\"symbol\":\"circle\"},\"mode\":\"lines\",\"name\":\"Malaysia\",\"showlegend\":false,\"xaxis\":\"x\",\"yaxis\":\"y\",\"type\":\"scatter\"},{\"hovertemplate\":\"country\\u002fregion_y=Namibia\\u003cbr\\u003eAnnual GDP Growth (%)=%{x}\\u003cbr\\u003eAnnual improvement (%)=%{y}\\u003cextra\\u003e\\u003c\\u002fextra\\u003e\",\"legendgroup\":\"Namibia\",\"marker\":{\"color\":\"#00cc96\",\"symbol\":\"circle\"},\"mode\":\"markers\",\"name\":\"Namibia\",\"orientation\":\"v\",\"showlegend\":true,\"x\":[5.3],\"xaxis\":\"x\",\"y\":[4.724900558116085],\"yaxis\":\"y\",\"type\":\"scatter\"},{\"hovertemplate\":\"country\\u002fregion_y=Namibia\\u003cextra\\u003e\\u003c\\u002fextra\\u003e\",\"legendgroup\":\"Namibia\",\"marker\":{\"color\":\"#00cc96\",\"symbol\":\"circle\"},\"mode\":\"lines\",\"name\":\"Namibia\",\"showlegend\":false,\"xaxis\":\"x\",\"yaxis\":\"y\",\"type\":\"scatter\"},{\"hovertemplate\":\"country\\u002fregion_y=Niger\\u003cbr\\u003eAnnual GDP Growth (%)=%{x}\\u003cbr\\u003eAnnual improvement (%)=%{y}\\u003cextra\\u003e\\u003c\\u002fextra\\u003e\",\"legendgroup\":\"Niger\",\"marker\":{\"color\":\"#ab63fa\",\"symbol\":\"circle\"},\"mode\":\"markers\",\"name\":\"Niger\",\"orientation\":\"v\",\"showlegend\":true,\"x\":[11.9],\"xaxis\":\"x\",\"y\":[2.979055330515046],\"yaxis\":\"y\",\"type\":\"scatter\"},{\"hovertemplate\":\"country\\u002fregion_y=Niger\\u003cextra\\u003e\\u003c\\u002fextra\\u003e\",\"legendgroup\":\"Niger\",\"marker\":{\"color\":\"#ab63fa\",\"symbol\":\"circle\"},\"mode\":\"lines\",\"name\":\"Niger\",\"showlegend\":false,\"xaxis\":\"x\",\"yaxis\":\"y\",\"type\":\"scatter\"},{\"hovertemplate\":\"country\\u002fregion_y=Nigeria\\u003cbr\\u003eAnnual GDP Growth (%)=%{x}\\u003cbr\\u003eAnnual improvement (%)=%{y}\\u003cextra\\u003e\\u003c\\u002fextra\\u003e\",\"legendgroup\":\"Nigeria\",\"marker\":{\"color\":\"#FFA15A\",\"symbol\":\"circle\"},\"mode\":\"markers\",\"name\":\"Nigeria\",\"orientation\":\"v\",\"showlegend\":true,\"x\":[3.3],\"xaxis\":\"x\",\"y\":[-1.322453384892297],\"yaxis\":\"y\",\"type\":\"scatter\"},{\"hovertemplate\":\"country\\u002fregion_y=Nigeria\\u003cextra\\u003e\\u003c\\u002fextra\\u003e\",\"legendgroup\":\"Nigeria\",\"marker\":{\"color\":\"#FFA15A\",\"symbol\":\"circle\"},\"mode\":\"lines\",\"name\":\"Nigeria\",\"showlegend\":false,\"xaxis\":\"x\",\"yaxis\":\"y\",\"type\":\"scatter\"},{\"hovertemplate\":\"country\\u002fregion_y=Nicaragua\\u003cbr\\u003eAnnual GDP Growth (%)=%{x}\\u003cbr\\u003eAnnual improvement (%)=%{y}\\u003cextra\\u003e\\u003c\\u002fextra\\u003e\",\"legendgroup\":\"Nicaragua\",\"marker\":{\"color\":\"#19d3f3\",\"symbol\":\"circle\"},\"mode\":\"markers\",\"name\":\"Nicaragua\",\"orientation\":\"v\",\"showlegend\":true,\"x\":[3.8],\"xaxis\":\"x\",\"y\":[-0.6111235493650558],\"yaxis\":\"y\",\"type\":\"scatter\"},{\"hovertemplate\":\"country\\u002fregion_y=Nicaragua\\u003cextra\\u003e\\u003c\\u002fextra\\u003e\",\"legendgroup\":\"Nicaragua\",\"marker\":{\"color\":\"#19d3f3\",\"symbol\":\"circle\"},\"mode\":\"lines\",\"name\":\"Nicaragua\",\"showlegend\":false,\"xaxis\":\"x\",\"yaxis\":\"y\",\"type\":\"scatter\"},{\"hovertemplate\":\"country\\u002fregion_y=Nepal\\u003cbr\\u003eAnnual GDP Growth (%)=%{x}\\u003cbr\\u003eAnnual improvement (%)=%{y}\\u003cextra\\u003e\\u003c\\u002fextra\\u003e\",\"legendgroup\":\"Nepal\",\"marker\":{\"color\":\"#FF6692\",\"symbol\":\"circle\"},\"mode\":\"markers\",\"name\":\"Nepal\",\"orientation\":\"v\",\"showlegend\":true,\"x\":[5.6],\"xaxis\":\"x\",\"y\":[-9.032244349086183],\"yaxis\":\"y\",\"type\":\"scatter\"},{\"hovertemplate\":\"country\\u002fregion_y=Nepal\\u003cextra\\u003e\\u003c\\u002fextra\\u003e\",\"legendgroup\":\"Nepal\",\"marker\":{\"color\":\"#FF6692\",\"symbol\":\"circle\"},\"mode\":\"lines\",\"name\":\"Nepal\",\"showlegend\":false,\"xaxis\":\"x\",\"yaxis\":\"y\",\"type\":\"scatter\"},{\"hovertemplate\":\"country\\u002fregion_y=Oman\\u003cbr\\u003eAnnual GDP Growth (%)=%{x}\\u003cbr\\u003eAnnual improvement (%)=%{y}\\u003cextra\\u003e\\u003c\\u002fextra\\u003e\",\"legendgroup\":\"Oman\",\"marker\":{\"color\":\"#B6E880\",\"symbol\":\"circle\"},\"mode\":\"markers\",\"name\":\"Oman\",\"orientation\":\"v\",\"showlegend\":true,\"x\":[9.6],\"xaxis\":\"x\",\"y\":[-2.5352482333913073],\"yaxis\":\"y\",\"type\":\"scatter\"},{\"hovertemplate\":\"country\\u002fregion_y=Oman\\u003cextra\\u003e\\u003c\\u002fextra\\u003e\",\"legendgroup\":\"Oman\",\"marker\":{\"color\":\"#B6E880\",\"symbol\":\"circle\"},\"mode\":\"lines\",\"name\":\"Oman\",\"showlegend\":false,\"xaxis\":\"x\",\"yaxis\":\"y\",\"type\":\"scatter\"},{\"hovertemplate\":\"country\\u002fregion_y=Pakistan\\u003cbr\\u003eAnnual GDP Growth (%)=%{x}\\u003cbr\\u003eAnnual improvement (%)=%{y}\\u003cextra\\u003e\\u003c\\u002fextra\\u003e\",\"legendgroup\":\"Pakistan\",\"marker\":{\"color\":\"#FF97FF\",\"symbol\":\"circle\"},\"mode\":\"markers\",\"name\":\"Pakistan\",\"orientation\":\"v\",\"showlegend\":true,\"x\":[6.2],\"xaxis\":\"x\",\"y\":[0.18747964015294327],\"yaxis\":\"y\",\"type\":\"scatter\"},{\"hovertemplate\":\"country\\u002fregion_y=Pakistan\\u003cextra\\u003e\\u003c\\u002fextra\\u003e\",\"legendgroup\":\"Pakistan\",\"marker\":{\"color\":\"#FF97FF\",\"symbol\":\"circle\"},\"mode\":\"lines\",\"name\":\"Pakistan\",\"showlegend\":false,\"xaxis\":\"x\",\"yaxis\":\"y\",\"type\":\"scatter\"},{\"hovertemplate\":\"country\\u002fregion_y=Panama\\u003cbr\\u003eAnnual GDP Growth (%)=%{x}\\u003cbr\\u003eAnnual improvement (%)=%{y}\\u003cextra\\u003e\\u003c\\u002fextra\\u003e\",\"legendgroup\":\"Panama\",\"marker\":{\"color\":\"#FECB52\",\"symbol\":\"circle\"},\"mode\":\"markers\",\"name\":\"Panama\",\"orientation\":\"v\",\"showlegend\":true,\"x\":[10.8],\"xaxis\":\"x\",\"y\":[5.361590712649966],\"yaxis\":\"y\",\"type\":\"scatter\"},{\"hovertemplate\":\"country\\u002fregion_y=Panama\\u003cextra\\u003e\\u003c\\u002fextra\\u003e\",\"legendgroup\":\"Panama\",\"marker\":{\"color\":\"#FECB52\",\"symbol\":\"circle\"},\"mode\":\"lines\",\"name\":\"Panama\",\"showlegend\":false,\"xaxis\":\"x\",\"yaxis\":\"y\",\"type\":\"scatter\"},{\"hovertemplate\":\"country\\u002fregion_y=Peru\\u003cbr\\u003eAnnual GDP Growth (%)=%{x}\\u003cbr\\u003eAnnual improvement (%)=%{y}\\u003cextra\\u003e\\u003c\\u002fextra\\u003e\",\"legendgroup\":\"Peru\",\"marker\":{\"color\":\"#636efa\",\"symbol\":\"circle\"},\"mode\":\"markers\",\"name\":\"Peru\",\"orientation\":\"v\",\"showlegend\":true,\"x\":[2.7],\"xaxis\":\"x\",\"y\":[1.0523661730259537],\"yaxis\":\"y\",\"type\":\"scatter\"},{\"hovertemplate\":\"country\\u002fregion_y=Peru\\u003cextra\\u003e\\u003c\\u002fextra\\u003e\",\"legendgroup\":\"Peru\",\"marker\":{\"color\":\"#636efa\",\"symbol\":\"circle\"},\"mode\":\"lines\",\"name\":\"Peru\",\"showlegend\":false,\"xaxis\":\"x\",\"yaxis\":\"y\",\"type\":\"scatter\"},{\"hovertemplate\":\"country\\u002fregion_y=Philippines\\u003cbr\\u003eAnnual GDP Growth (%)=%{x}\\u003cbr\\u003eAnnual improvement (%)=%{y}\\u003cextra\\u003e\\u003c\\u002fextra\\u003e\",\"legendgroup\":\"Philippines\",\"marker\":{\"color\":\"#EF553B\",\"symbol\":\"circle\"},\"mode\":\"markers\",\"name\":\"Philippines\",\"orientation\":\"v\",\"showlegend\":true,\"x\":[7.6],\"xaxis\":\"x\",\"y\":[7.1927036309560215],\"yaxis\":\"y\",\"type\":\"scatter\"},{\"hovertemplate\":\"country\\u002fregion_y=Philippines\\u003cextra\\u003e\\u003c\\u002fextra\\u003e\",\"legendgroup\":\"Philippines\",\"marker\":{\"color\":\"#EF553B\",\"symbol\":\"circle\"},\"mode\":\"lines\",\"name\":\"Philippines\",\"showlegend\":false,\"xaxis\":\"x\",\"yaxis\":\"y\",\"type\":\"scatter\"},{\"hovertemplate\":\"country\\u002fregion_y=Papua New Guinea\\u003cbr\\u003eAnnual GDP Growth (%)=%{x}\\u003cbr\\u003eAnnual improvement (%)=%{y}\\u003cextra\\u003e\\u003c\\u002fextra\\u003e\",\"legendgroup\":\"Papua New Guinea\",\"marker\":{\"color\":\"#00cc96\",\"symbol\":\"circle\"},\"mode\":\"markers\",\"name\":\"Papua New Guinea\",\"orientation\":\"v\",\"showlegend\":true,\"x\":[5.2],\"xaxis\":\"x\",\"y\":[1.0610194916759408],\"yaxis\":\"y\",\"type\":\"scatter\"},{\"hovertemplate\":\"country\\u002fregion_y=Papua New Guinea\\u003cextra\\u003e\\u003c\\u002fextra\\u003e\",\"legendgroup\":\"Papua New Guinea\",\"marker\":{\"color\":\"#00cc96\",\"symbol\":\"circle\"},\"mode\":\"lines\",\"name\":\"Papua New Guinea\",\"showlegend\":false,\"xaxis\":\"x\",\"yaxis\":\"y\",\"type\":\"scatter\"},{\"hovertemplate\":\"country\\u002fregion_y=Poland\\u003cbr\\u003eAnnual GDP Growth (%)=%{x}\\u003cbr\\u003eAnnual improvement (%)=%{y}\\u003cextra\\u003e\\u003c\\u002fextra\\u003e\",\"legendgroup\":\"Poland\",\"marker\":{\"color\":\"#ab63fa\",\"symbol\":\"circle\"},\"mode\":\"markers\",\"name\":\"Poland\",\"orientation\":\"v\",\"showlegend\":true,\"x\":[5.6],\"xaxis\":\"x\",\"y\":[7.142555299753428],\"yaxis\":\"y\",\"type\":\"scatter\"},{\"hovertemplate\":\"country\\u002fregion_y=Poland\\u003cextra\\u003e\\u003c\\u002fextra\\u003e\",\"legendgroup\":\"Poland\",\"marker\":{\"color\":\"#ab63fa\",\"symbol\":\"circle\"},\"mode\":\"lines\",\"name\":\"Poland\",\"showlegend\":false,\"xaxis\":\"x\",\"yaxis\":\"y\",\"type\":\"scatter\"},{\"hovertemplate\":\"country\\u002fregion_y=Paraguay\\u003cbr\\u003eAnnual GDP Growth (%)=%{x}\\u003cbr\\u003eAnnual improvement (%)=%{y}\\u003cextra\\u003e\\u003c\\u002fextra\\u003e\",\"legendgroup\":\"Paraguay\",\"marker\":{\"color\":\"#FFA15A\",\"symbol\":\"circle\"},\"mode\":\"markers\",\"name\":\"Paraguay\",\"orientation\":\"v\",\"showlegend\":true,\"x\":[0.2],\"xaxis\":\"x\",\"y\":[-9.49287174647424],\"yaxis\":\"y\",\"type\":\"scatter\"},{\"hovertemplate\":\"country\\u002fregion_y=Paraguay\\u003cextra\\u003e\\u003c\\u002fextra\\u003e\",\"legendgroup\":\"Paraguay\",\"marker\":{\"color\":\"#FFA15A\",\"symbol\":\"circle\"},\"mode\":\"lines\",\"name\":\"Paraguay\",\"showlegend\":false,\"xaxis\":\"x\",\"yaxis\":\"y\",\"type\":\"scatter\"},{\"hovertemplate\":\"country\\u002fregion_y=West Bank and Gaza\\u003cbr\\u003eAnnual GDP Growth (%)=%{x}\\u003cbr\\u003eAnnual improvement (%)=%{y}\\u003cextra\\u003e\\u003c\\u002fextra\\u003e\",\"legendgroup\":\"West Bank and Gaza\",\"marker\":{\"color\":\"#19d3f3\",\"symbol\":\"circle\"},\"mode\":\"markers\",\"name\":\"West Bank and Gaza\",\"orientation\":\"v\",\"showlegend\":true,\"x\":[4.1],\"xaxis\":\"x\",\"y\":[-0.3247544743246511],\"yaxis\":\"y\",\"type\":\"scatter\"},{\"hovertemplate\":\"country\\u002fregion_y=West Bank and Gaza\\u003cextra\\u003e\\u003c\\u002fextra\\u003e\",\"legendgroup\":\"West Bank and Gaza\",\"marker\":{\"color\":\"#19d3f3\",\"symbol\":\"circle\"},\"mode\":\"lines\",\"name\":\"West Bank and Gaza\",\"showlegend\":false,\"xaxis\":\"x\",\"yaxis\":\"y\",\"type\":\"scatter\"},{\"hovertemplate\":\"country\\u002fregion_y=Qatar\\u003cbr\\u003eAnnual GDP Growth (%)=%{x}\\u003cbr\\u003eAnnual improvement (%)=%{y}\\u003cextra\\u003e\\u003c\\u002fextra\\u003e\",\"legendgroup\":\"Qatar\",\"marker\":{\"color\":\"#FF6692\",\"symbol\":\"circle\"},\"mode\":\"markers\",\"name\":\"Qatar\",\"orientation\":\"v\",\"showlegend\":true,\"x\":[4.2],\"xaxis\":\"x\",\"y\":[5.208863774143413],\"yaxis\":\"y\",\"type\":\"scatter\"},{\"hovertemplate\":\"country\\u002fregion_y=Qatar\\u003cextra\\u003e\\u003c\\u002fextra\\u003e\",\"legendgroup\":\"Qatar\",\"marker\":{\"color\":\"#FF6692\",\"symbol\":\"circle\"},\"mode\":\"lines\",\"name\":\"Qatar\",\"showlegend\":false,\"xaxis\":\"x\",\"yaxis\":\"y\",\"type\":\"scatter\"},{\"hovertemplate\":\"country\\u002fregion_y=Romania\\u003cbr\\u003eAnnual GDP Growth (%)=%{x}\\u003cbr\\u003eAnnual improvement (%)=%{y}\\u003cextra\\u003e\\u003c\\u002fextra\\u003e\",\"legendgroup\":\"Romania\",\"marker\":{\"color\":\"#B6E880\",\"symbol\":\"circle\"},\"mode\":\"markers\",\"name\":\"Romania\",\"orientation\":\"v\",\"showlegend\":true,\"x\":[4.1],\"xaxis\":\"x\",\"y\":[10.932210669233477],\"yaxis\":\"y\",\"type\":\"scatter\"},{\"hovertemplate\":\"country\\u002fregion_y=Romania\\u003cextra\\u003e\\u003c\\u002fextra\\u003e\",\"legendgroup\":\"Romania\",\"marker\":{\"color\":\"#B6E880\",\"symbol\":\"circle\"},\"mode\":\"lines\",\"name\":\"Romania\",\"showlegend\":false,\"xaxis\":\"x\",\"yaxis\":\"y\",\"type\":\"scatter\"},{\"hovertemplate\":\"country\\u002fregion_y=Russian Federation\\u003cbr\\u003eAnnual GDP Growth (%)=%{x}\\u003cbr\\u003eAnnual improvement (%)=%{y}\\u003cextra\\u003e\\u003c\\u002fextra\\u003e\",\"legendgroup\":\"Russian Federation\",\"marker\":{\"color\":\"#FF97FF\",\"symbol\":\"circle\"},\"mode\":\"markers\",\"name\":\"Russian Federation\",\"orientation\":\"v\",\"showlegend\":true,\"x\":[-1.2],\"xaxis\":\"x\",\"y\":[-2.881542944421245],\"yaxis\":\"y\",\"type\":\"scatter\"},{\"hovertemplate\":\"country\\u002fregion_y=Russian Federation\\u003cextra\\u003e\\u003c\\u002fextra\\u003e\",\"legendgroup\":\"Russian Federation\",\"marker\":{\"color\":\"#FF97FF\",\"symbol\":\"circle\"},\"mode\":\"lines\",\"name\":\"Russian Federation\",\"showlegend\":false,\"xaxis\":\"x\",\"yaxis\":\"y\",\"type\":\"scatter\"},{\"hovertemplate\":\"country\\u002fregion_y=Rwanda\\u003cbr\\u003eAnnual GDP Growth (%)=%{x}\\u003cbr\\u003eAnnual improvement (%)=%{y}\\u003cextra\\u003e\\u003c\\u002fextra\\u003e\",\"legendgroup\":\"Rwanda\",\"marker\":{\"color\":\"#FECB52\",\"symbol\":\"circle\"},\"mode\":\"markers\",\"name\":\"Rwanda\",\"orientation\":\"v\",\"showlegend\":true,\"x\":[8.2],\"xaxis\":\"x\",\"y\":[1.7763695780370625],\"yaxis\":\"y\",\"type\":\"scatter\"},{\"hovertemplate\":\"country\\u002fregion_y=Rwanda\\u003cextra\\u003e\\u003c\\u002fextra\\u003e\",\"legendgroup\":\"Rwanda\",\"marker\":{\"color\":\"#FECB52\",\"symbol\":\"circle\"},\"mode\":\"lines\",\"name\":\"Rwanda\",\"showlegend\":false,\"xaxis\":\"x\",\"yaxis\":\"y\",\"type\":\"scatter\"},{\"hovertemplate\":\"country\\u002fregion_y=Saudi Arabia\\u003cbr\\u003eAnnual GDP Growth (%)=%{x}\\u003cbr\\u003eAnnual improvement (%)=%{y}\\u003cextra\\u003e\\u003c\\u002fextra\\u003e\",\"legendgroup\":\"Saudi Arabia\",\"marker\":{\"color\":\"#636efa\",\"symbol\":\"circle\"},\"mode\":\"markers\",\"name\":\"Saudi Arabia\",\"orientation\":\"v\",\"showlegend\":true,\"x\":[7.5],\"xaxis\":\"x\",\"y\":[0.009811456356723092],\"yaxis\":\"y\",\"type\":\"scatter\"},{\"hovertemplate\":\"country\\u002fregion_y=Saudi Arabia\\u003cextra\\u003e\\u003c\\u002fextra\\u003e\",\"legendgroup\":\"Saudi Arabia\",\"marker\":{\"color\":\"#636efa\",\"symbol\":\"circle\"},\"mode\":\"lines\",\"name\":\"Saudi Arabia\",\"showlegend\":false,\"xaxis\":\"x\",\"yaxis\":\"y\",\"type\":\"scatter\"},{\"hovertemplate\":\"country\\u002fregion_y=Sudan\\u003cbr\\u003eAnnual GDP Growth (%)=%{x}\\u003cbr\\u003eAnnual improvement (%)=%{y}\\u003cextra\\u003e\\u003c\\u002fextra\\u003e\",\"legendgroup\":\"Sudan\",\"marker\":{\"color\":\"#EF553B\",\"symbol\":\"circle\"},\"mode\":\"markers\",\"name\":\"Sudan\",\"orientation\":\"v\",\"showlegend\":true,\"x\":[-2.5],\"xaxis\":\"x\",\"y\":[-0.21610848308506458],\"yaxis\":\"y\",\"type\":\"scatter\"},{\"hovertemplate\":\"country\\u002fregion_y=Sudan\\u003cextra\\u003e\\u003c\\u002fextra\\u003e\",\"legendgroup\":\"Sudan\",\"marker\":{\"color\":\"#EF553B\",\"symbol\":\"circle\"},\"mode\":\"lines\",\"name\":\"Sudan\",\"showlegend\":false,\"xaxis\":\"x\",\"yaxis\":\"y\",\"type\":\"scatter\"},{\"hovertemplate\":\"country\\u002fregion_y=Senegal\\u003cbr\\u003eAnnual GDP Growth (%)=%{x}\\u003cbr\\u003eAnnual improvement (%)=%{y}\\u003cextra\\u003e\\u003c\\u002fextra\\u003e\",\"legendgroup\":\"Senegal\",\"marker\":{\"color\":\"#00cc96\",\"symbol\":\"circle\"},\"mode\":\"markers\",\"name\":\"Senegal\",\"orientation\":\"v\",\"showlegend\":true,\"x\":[4],\"xaxis\":\"x\",\"y\":[7.643712769978084],\"yaxis\":\"y\",\"type\":\"scatter\"},{\"hovertemplate\":\"country\\u002fregion_y=Senegal\\u003cextra\\u003e\\u003c\\u002fextra\\u003e\",\"legendgroup\":\"Senegal\",\"marker\":{\"color\":\"#00cc96\",\"symbol\":\"circle\"},\"mode\":\"lines\",\"name\":\"Senegal\",\"showlegend\":false,\"xaxis\":\"x\",\"yaxis\":\"y\",\"type\":\"scatter\"},{\"hovertemplate\":\"country\\u002fregion_y=Solomon Islands\\u003cbr\\u003eAnnual GDP Growth (%)=%{x}\\u003cbr\\u003eAnnual improvement (%)=%{y}\\u003cextra\\u003e\\u003c\\u002fextra\\u003e\",\"legendgroup\":\"Solomon Islands\",\"marker\":{\"color\":\"#ab63fa\",\"symbol\":\"circle\"},\"mode\":\"markers\",\"name\":\"Solomon Islands\",\"orientation\":\"v\",\"showlegend\":true,\"x\":[2.4],\"xaxis\":\"x\",\"y\":[-9.196073130334748],\"yaxis\":\"y\",\"type\":\"scatter\"},{\"hovertemplate\":\"country\\u002fregion_y=Solomon Islands\\u003cextra\\u003e\\u003c\\u002fextra\\u003e\",\"legendgroup\":\"Solomon Islands\",\"marker\":{\"color\":\"#ab63fa\",\"symbol\":\"circle\"},\"mode\":\"lines\",\"name\":\"Solomon Islands\",\"showlegend\":false,\"xaxis\":\"x\",\"yaxis\":\"y\",\"type\":\"scatter\"},{\"hovertemplate\":\"country\\u002fregion_y=Sierra Leone\\u003cbr\\u003eAnnual GDP Growth (%)=%{x}\\u003cbr\\u003eAnnual improvement (%)=%{y}\\u003cextra\\u003e\\u003c\\u002fextra\\u003e\",\"legendgroup\":\"Sierra Leone\",\"marker\":{\"color\":\"#FFA15A\",\"symbol\":\"circle\"},\"mode\":\"markers\",\"name\":\"Sierra Leone\",\"orientation\":\"v\",\"showlegend\":true,\"x\":[5.3],\"xaxis\":\"x\",\"y\":[0.41144832585180424],\"yaxis\":\"y\",\"type\":\"scatter\"},{\"hovertemplate\":\"country\\u002fregion_y=Sierra Leone\\u003cextra\\u003e\\u003c\\u002fextra\\u003e\",\"legendgroup\":\"Sierra Leone\",\"marker\":{\"color\":\"#FFA15A\",\"symbol\":\"circle\"},\"mode\":\"lines\",\"name\":\"Sierra Leone\",\"showlegend\":false,\"xaxis\":\"x\",\"yaxis\":\"y\",\"type\":\"scatter\"},{\"hovertemplate\":\"country\\u002fregion_y=El Salvador\\u003cbr\\u003eAnnual GDP Growth (%)=%{x}\\u003cbr\\u003eAnnual improvement (%)=%{y}\\u003cextra\\u003e\\u003c\\u002fextra\\u003e\",\"legendgroup\":\"El Salvador\",\"marker\":{\"color\":\"#19d3f3\",\"symbol\":\"circle\"},\"mode\":\"markers\",\"name\":\"El Salvador\",\"orientation\":\"v\",\"showlegend\":true,\"x\":[2.8],\"xaxis\":\"x\",\"y\":[-8.366745043452873],\"yaxis\":\"y\",\"type\":\"scatter\"},{\"hovertemplate\":\"country\\u002fregion_y=El Salvador\\u003cextra\\u003e\\u003c\\u002fextra\\u003e\",\"legendgroup\":\"El Salvador\",\"marker\":{\"color\":\"#19d3f3\",\"symbol\":\"circle\"},\"mode\":\"lines\",\"name\":\"El Salvador\",\"showlegend\":false,\"xaxis\":\"x\",\"yaxis\":\"y\",\"type\":\"scatter\"},{\"hovertemplate\":\"country\\u002fregion_y=Somalia\\u003cbr\\u003eAnnual GDP Growth (%)=%{x}\\u003cbr\\u003eAnnual improvement (%)=%{y}\\u003cextra\\u003e\\u003c\\u002fextra\\u003e\",\"legendgroup\":\"Somalia\",\"marker\":{\"color\":\"#FF6692\",\"symbol\":\"circle\"},\"mode\":\"markers\",\"name\":\"Somalia\",\"orientation\":\"v\",\"showlegend\":true,\"x\":[2.7],\"xaxis\":\"x\",\"y\":[-0.19377847742996224],\"yaxis\":\"y\",\"type\":\"scatter\"},{\"hovertemplate\":\"country\\u002fregion_y=Somalia\\u003cextra\\u003e\\u003c\\u002fextra\\u003e\",\"legendgroup\":\"Somalia\",\"marker\":{\"color\":\"#FF6692\",\"symbol\":\"circle\"},\"mode\":\"lines\",\"name\":\"Somalia\",\"showlegend\":false,\"xaxis\":\"x\",\"yaxis\":\"y\",\"type\":\"scatter\"},{\"hovertemplate\":\"country\\u002fregion_y=Serbia\\u003cbr\\u003eAnnual GDP Growth (%)=%{x}\\u003cbr\\u003eAnnual improvement (%)=%{y}\\u003cextra\\u003e\\u003c\\u002fextra\\u003e\",\"legendgroup\":\"Serbia\",\"marker\":{\"color\":\"#B6E880\",\"symbol\":\"circle\"},\"mode\":\"markers\",\"name\":\"Serbia\",\"orientation\":\"v\",\"showlegend\":true,\"x\":[2.5],\"xaxis\":\"x\",\"y\":[8.295928658692752],\"yaxis\":\"y\",\"type\":\"scatter\"},{\"hovertemplate\":\"country\\u002fregion_y=Serbia\\u003cextra\\u003e\\u003c\\u002fextra\\u003e\",\"legendgroup\":\"Serbia\",\"marker\":{\"color\":\"#B6E880\",\"symbol\":\"circle\"},\"mode\":\"lines\",\"name\":\"Serbia\",\"showlegend\":false,\"xaxis\":\"x\",\"yaxis\":\"y\",\"type\":\"scatter\"},{\"hovertemplate\":\"country\\u002fregion_y=South Sudan, Republic of\\u003cbr\\u003eAnnual GDP Growth (%)=%{x}\\u003cbr\\u003eAnnual improvement (%)=%{y}\\u003cextra\\u003e\\u003c\\u002fextra\\u003e\",\"legendgroup\":\"South Sudan, Republic of\",\"marker\":{\"color\":\"#FF97FF\",\"symbol\":\"circle\"},\"mode\":\"markers\",\"name\":\"South Sudan, Republic of\",\"orientation\":\"v\",\"showlegend\":true,\"x\":[-5.2],\"xaxis\":\"x\",\"y\":[-2.6637532961506505],\"yaxis\":\"y\",\"type\":\"scatter\"},{\"hovertemplate\":\"country\\u002fregion_y=South Sudan, Republic of\\u003cextra\\u003e\\u003c\\u002fextra\\u003e\",\"legendgroup\":\"South Sudan, Republic of\",\"marker\":{\"color\":\"#FF97FF\",\"symbol\":\"circle\"},\"mode\":\"lines\",\"name\":\"South Sudan, Republic of\",\"showlegend\":false,\"xaxis\":\"x\",\"yaxis\":\"y\",\"type\":\"scatter\"},{\"hovertemplate\":\"country\\u002fregion_y=S\\u00e3o Tom\\u00e9 and Pr\\u00edncipe\\u003cbr\\u003eAnnual GDP Growth (%)=%{x}\\u003cbr\\u003eAnnual improvement (%)=%{y}\\u003cextra\\u003e\\u003c\\u002fextra\\u003e\",\"legendgroup\":\"S\\u00e3o Tom\\u00e9 and Pr\\u00edncipe\",\"marker\":{\"color\":\"#FECB52\",\"symbol\":\"circle\"},\"mode\":\"markers\",\"name\":\"S\\u00e3o Tom\\u00e9 and Pr\\u00edncipe\",\"orientation\":\"v\",\"showlegend\":true,\"x\":[0.2],\"xaxis\":\"x\",\"y\":[-2.3365349702766602],\"yaxis\":\"y\",\"type\":\"scatter\"},{\"hovertemplate\":\"country\\u002fregion_y=S\\u00e3o Tom\\u00e9 and Pr\\u00edncipe\\u003cextra\\u003e\\u003c\\u002fextra\\u003e\",\"legendgroup\":\"S\\u00e3o Tom\\u00e9 and Pr\\u00edncipe\",\"marker\":{\"color\":\"#FECB52\",\"symbol\":\"circle\"},\"mode\":\"lines\",\"name\":\"S\\u00e3o Tom\\u00e9 and Pr\\u00edncipe\",\"showlegend\":false,\"xaxis\":\"x\",\"yaxis\":\"y\",\"type\":\"scatter\"},{\"hovertemplate\":\"country\\u002fregion_y=Suriname\\u003cbr\\u003eAnnual GDP Growth (%)=%{x}\\u003cbr\\u003eAnnual improvement (%)=%{y}\\u003cextra\\u003e\\u003c\\u002fextra\\u003e\",\"legendgroup\":\"Suriname\",\"marker\":{\"color\":\"#636efa\",\"symbol\":\"circle\"},\"mode\":\"markers\",\"name\":\"Suriname\",\"orientation\":\"v\",\"showlegend\":true,\"x\":[2.4],\"xaxis\":\"x\",\"y\":[-2.1654115995779932],\"yaxis\":\"y\",\"type\":\"scatter\"},{\"hovertemplate\":\"country\\u002fregion_y=Suriname\\u003cextra\\u003e\\u003c\\u002fextra\\u003e\",\"legendgroup\":\"Suriname\",\"marker\":{\"color\":\"#636efa\",\"symbol\":\"circle\"},\"mode\":\"lines\",\"name\":\"Suriname\",\"showlegend\":false,\"xaxis\":\"x\",\"yaxis\":\"y\",\"type\":\"scatter\"},{\"hovertemplate\":\"country\\u002fregion_y=Eswatini\\u003cbr\\u003eAnnual GDP Growth (%)=%{x}\\u003cbr\\u003eAnnual improvement (%)=%{y}\\u003cextra\\u003e\\u003c\\u002fextra\\u003e\",\"legendgroup\":\"Eswatini\",\"marker\":{\"color\":\"#EF553B\",\"symbol\":\"circle\"},\"mode\":\"markers\",\"name\":\"Eswatini\",\"orientation\":\"v\",\"showlegend\":true,\"x\":[0.5],\"xaxis\":\"x\",\"y\":[8.05997311248775],\"yaxis\":\"y\",\"type\":\"scatter\"},{\"hovertemplate\":\"country\\u002fregion_y=Eswatini\\u003cextra\\u003e\\u003c\\u002fextra\\u003e\",\"legendgroup\":\"Eswatini\",\"marker\":{\"color\":\"#EF553B\",\"symbol\":\"circle\"},\"mode\":\"lines\",\"name\":\"Eswatini\",\"showlegend\":false,\"xaxis\":\"x\",\"yaxis\":\"y\",\"type\":\"scatter\"},{\"hovertemplate\":\"country\\u002fregion_y=Seychelles\\u003cbr\\u003eAnnual GDP Growth (%)=%{x}\\u003cbr\\u003eAnnual improvement (%)=%{y}\\u003cextra\\u003e\\u003c\\u002fextra\\u003e\",\"legendgroup\":\"Seychelles\",\"marker\":{\"color\":\"#00cc96\",\"symbol\":\"circle\"},\"mode\":\"markers\",\"name\":\"Seychelles\",\"orientation\":\"v\",\"showlegend\":true,\"x\":[15],\"xaxis\":\"x\",\"y\":[10.472677411392139],\"yaxis\":\"y\",\"type\":\"scatter\"},{\"hovertemplate\":\"country\\u002fregion_y=Seychelles\\u003cextra\\u003e\\u003c\\u002fextra\\u003e\",\"legendgroup\":\"Seychelles\",\"marker\":{\"color\":\"#00cc96\",\"symbol\":\"circle\"},\"mode\":\"lines\",\"name\":\"Seychelles\",\"showlegend\":false,\"xaxis\":\"x\",\"yaxis\":\"y\",\"type\":\"scatter\"},{\"hovertemplate\":\"country\\u002fregion_y=Chad\\u003cbr\\u003eAnnual GDP Growth (%)=%{x}\\u003cbr\\u003eAnnual improvement (%)=%{y}\\u003cextra\\u003e\\u003c\\u002fextra\\u003e\",\"legendgroup\":\"Chad\",\"marker\":{\"color\":\"#ab63fa\",\"symbol\":\"circle\"},\"mode\":\"markers\",\"name\":\"Chad\",\"orientation\":\"v\",\"showlegend\":true,\"x\":[3.6],\"xaxis\":\"x\",\"y\":[0.2668737851133529],\"yaxis\":\"y\",\"type\":\"scatter\"},{\"hovertemplate\":\"country\\u002fregion_y=Chad\\u003cextra\\u003e\\u003c\\u002fextra\\u003e\",\"legendgroup\":\"Chad\",\"marker\":{\"color\":\"#ab63fa\",\"symbol\":\"circle\"},\"mode\":\"lines\",\"name\":\"Chad\",\"showlegend\":false,\"xaxis\":\"x\",\"yaxis\":\"y\",\"type\":\"scatter\"},{\"hovertemplate\":\"country\\u002fregion_y=Togo\\u003cbr\\u003eAnnual GDP Growth (%)=%{x}\\u003cbr\\u003eAnnual improvement (%)=%{y}\\u003cextra\\u003e\\u003c\\u002fextra\\u003e\",\"legendgroup\":\"Togo\",\"marker\":{\"color\":\"#FFA15A\",\"symbol\":\"circle\"},\"mode\":\"markers\",\"name\":\"Togo\",\"orientation\":\"v\",\"showlegend\":true,\"x\":[5.8],\"xaxis\":\"x\",\"y\":[8.436650536848035],\"yaxis\":\"y\",\"type\":\"scatter\"},{\"hovertemplate\":\"country\\u002fregion_y=Togo\\u003cextra\\u003e\\u003c\\u002fextra\\u003e\",\"legendgroup\":\"Togo\",\"marker\":{\"color\":\"#FFA15A\",\"symbol\":\"circle\"},\"mode\":\"lines\",\"name\":\"Togo\",\"showlegend\":false,\"xaxis\":\"x\",\"yaxis\":\"y\",\"type\":\"scatter\"},{\"hovertemplate\":\"country\\u002fregion_y=Thailand\\u003cbr\\u003eAnnual GDP Growth (%)=%{x}\\u003cbr\\u003eAnnual improvement (%)=%{y}\\u003cextra\\u003e\\u003c\\u002fextra\\u003e\",\"legendgroup\":\"Thailand\",\"marker\":{\"color\":\"#19d3f3\",\"symbol\":\"circle\"},\"mode\":\"markers\",\"name\":\"Thailand\",\"orientation\":\"v\",\"showlegend\":true,\"x\":[2.5],\"xaxis\":\"x\",\"y\":[0.21897333566767152],\"yaxis\":\"y\",\"type\":\"scatter\"},{\"hovertemplate\":\"country\\u002fregion_y=Thailand\\u003cextra\\u003e\\u003c\\u002fextra\\u003e\",\"legendgroup\":\"Thailand\",\"marker\":{\"color\":\"#19d3f3\",\"symbol\":\"circle\"},\"mode\":\"lines\",\"name\":\"Thailand\",\"showlegend\":false,\"xaxis\":\"x\",\"yaxis\":\"y\",\"type\":\"scatter\"},{\"hovertemplate\":\"country\\u002fregion_y=Tajikistan\\u003cbr\\u003eAnnual GDP Growth (%)=%{x}\\u003cbr\\u003eAnnual improvement (%)=%{y}\\u003cextra\\u003e\\u003c\\u002fextra\\u003e\",\"legendgroup\":\"Tajikistan\",\"marker\":{\"color\":\"#FF6692\",\"symbol\":\"circle\"},\"mode\":\"markers\",\"name\":\"Tajikistan\",\"orientation\":\"v\",\"showlegend\":true,\"x\":[8],\"xaxis\":\"x\",\"y\":[5.264655218088954],\"yaxis\":\"y\",\"type\":\"scatter\"},{\"hovertemplate\":\"country\\u002fregion_y=Tajikistan\\u003cextra\\u003e\\u003c\\u002fextra\\u003e\",\"legendgroup\":\"Tajikistan\",\"marker\":{\"color\":\"#FF6692\",\"symbol\":\"circle\"},\"mode\":\"lines\",\"name\":\"Tajikistan\",\"showlegend\":false,\"xaxis\":\"x\",\"yaxis\":\"y\",\"type\":\"scatter\"},{\"hovertemplate\":\"country\\u002fregion_y=Turkmenistan\\u003cbr\\u003eAnnual GDP Growth (%)=%{x}\\u003cbr\\u003eAnnual improvement (%)=%{y}\\u003cextra\\u003e\\u003c\\u002fextra\\u003e\",\"legendgroup\":\"Turkmenistan\",\"marker\":{\"color\":\"#B6E880\",\"symbol\":\"circle\"},\"mode\":\"markers\",\"name\":\"Turkmenistan\",\"orientation\":\"v\",\"showlegend\":true,\"x\":[5.3],\"xaxis\":\"x\",\"y\":[0.11304557867122256],\"yaxis\":\"y\",\"type\":\"scatter\"},{\"hovertemplate\":\"country\\u002fregion_y=Turkmenistan\\u003cextra\\u003e\\u003c\\u002fextra\\u003e\",\"legendgroup\":\"Turkmenistan\",\"marker\":{\"color\":\"#B6E880\",\"symbol\":\"circle\"},\"mode\":\"lines\",\"name\":\"Turkmenistan\",\"showlegend\":false,\"xaxis\":\"x\",\"yaxis\":\"y\",\"type\":\"scatter\"},{\"hovertemplate\":\"country\\u002fregion_y=Timor-Leste\\u003cbr\\u003eAnnual GDP Growth (%)=%{x}\\u003cbr\\u003eAnnual improvement (%)=%{y}\\u003cextra\\u003e\\u003c\\u002fextra\\u003e\",\"legendgroup\":\"Timor-Leste\",\"marker\":{\"color\":\"#FF97FF\",\"symbol\":\"circle\"},\"mode\":\"markers\",\"name\":\"Timor-Leste\",\"orientation\":\"v\",\"showlegend\":true,\"x\":[4],\"xaxis\":\"x\",\"y\":[-0.7687359653386405],\"yaxis\":\"y\",\"type\":\"scatter\"},{\"hovertemplate\":\"country\\u002fregion_y=Timor-Leste\\u003cextra\\u003e\\u003c\\u002fextra\\u003e\",\"legendgroup\":\"Timor-Leste\",\"marker\":{\"color\":\"#FF97FF\",\"symbol\":\"circle\"},\"mode\":\"lines\",\"name\":\"Timor-Leste\",\"showlegend\":false,\"xaxis\":\"x\",\"yaxis\":\"y\",\"type\":\"scatter\"},{\"hovertemplate\":\"country\\u002fregion_y=Tonga\\u003cbr\\u003eAnnual GDP Growth (%)=%{x}\\u003cbr\\u003eAnnual improvement (%)=%{y}\\u003cextra\\u003e\\u003c\\u002fextra\\u003e\",\"legendgroup\":\"Tonga\",\"marker\":{\"color\":\"#FECB52\",\"symbol\":\"circle\"},\"mode\":\"markers\",\"name\":\"Tonga\",\"orientation\":\"v\",\"showlegend\":true,\"x\":[0],\"xaxis\":\"x\",\"y\":[-6.838178104050785],\"yaxis\":\"y\",\"type\":\"scatter\"},{\"hovertemplate\":\"country\\u002fregion_y=Tonga\\u003cextra\\u003e\\u003c\\u002fextra\\u003e\",\"legendgroup\":\"Tonga\",\"marker\":{\"color\":\"#FECB52\",\"symbol\":\"circle\"},\"mode\":\"lines\",\"name\":\"Tonga\",\"showlegend\":false,\"xaxis\":\"x\",\"yaxis\":\"y\",\"type\":\"scatter\"},{\"hovertemplate\":\"country\\u002fregion_y=Tunisia\\u003cbr\\u003eAnnual GDP Growth (%)=%{x}\\u003cbr\\u003eAnnual improvement (%)=%{y}\\u003cextra\\u003e\\u003c\\u002fextra\\u003e\",\"legendgroup\":\"Tunisia\",\"marker\":{\"color\":\"#636efa\",\"symbol\":\"circle\"},\"mode\":\"markers\",\"name\":\"Tunisia\",\"orientation\":\"v\",\"showlegend\":true,\"x\":[2.7],\"xaxis\":\"x\",\"y\":[1.3441101198435668],\"yaxis\":\"y\",\"type\":\"scatter\"},{\"hovertemplate\":\"country\\u002fregion_y=Tunisia\\u003cextra\\u003e\\u003c\\u002fextra\\u003e\",\"legendgroup\":\"Tunisia\",\"marker\":{\"color\":\"#636efa\",\"symbol\":\"circle\"},\"mode\":\"lines\",\"name\":\"Tunisia\",\"showlegend\":false,\"xaxis\":\"x\",\"yaxis\":\"y\",\"type\":\"scatter\"},{\"hovertemplate\":\"country\\u002fregion_y=T\\u00fcrkiye, Republic of\\u003cbr\\u003eAnnual GDP Growth (%)=%{x}\\u003cbr\\u003eAnnual improvement (%)=%{y}\\u003cextra\\u003e\\u003c\\u002fextra\\u003e\",\"legendgroup\":\"T\\u00fcrkiye, Republic of\",\"marker\":{\"color\":\"#EF553B\",\"symbol\":\"circle\"},\"mode\":\"markers\",\"name\":\"T\\u00fcrkiye, Republic of\",\"orientation\":\"v\",\"showlegend\":true,\"x\":[5.5],\"xaxis\":\"x\",\"y\":[7.9263433915517485],\"yaxis\":\"y\",\"type\":\"scatter\"},{\"hovertemplate\":\"country\\u002fregion_y=T\\u00fcrkiye, Republic of\\u003cextra\\u003e\\u003c\\u002fextra\\u003e\",\"legendgroup\":\"T\\u00fcrkiye, Republic of\",\"marker\":{\"color\":\"#EF553B\",\"symbol\":\"circle\"},\"mode\":\"lines\",\"name\":\"T\\u00fcrkiye, Republic of\",\"showlegend\":false,\"xaxis\":\"x\",\"yaxis\":\"y\",\"type\":\"scatter\"},{\"hovertemplate\":\"country\\u002fregion_y=Tanzania\\u003cbr\\u003eAnnual GDP Growth (%)=%{x}\\u003cbr\\u003eAnnual improvement (%)=%{y}\\u003cextra\\u003e\\u003c\\u002fextra\\u003e\",\"legendgroup\":\"Tanzania\",\"marker\":{\"color\":\"#00cc96\",\"symbol\":\"circle\"},\"mode\":\"markers\",\"name\":\"Tanzania\",\"orientation\":\"v\",\"showlegend\":true,\"x\":[4.7],\"xaxis\":\"x\",\"y\":[-6.470605955987319],\"yaxis\":\"y\",\"type\":\"scatter\"},{\"hovertemplate\":\"country\\u002fregion_y=Tanzania\\u003cextra\\u003e\\u003c\\u002fextra\\u003e\",\"legendgroup\":\"Tanzania\",\"marker\":{\"color\":\"#00cc96\",\"symbol\":\"circle\"},\"mode\":\"lines\",\"name\":\"Tanzania\",\"showlegend\":false,\"xaxis\":\"x\",\"yaxis\":\"y\",\"type\":\"scatter\"},{\"hovertemplate\":\"country\\u002fregion_y=Uganda\\u003cbr\\u003eAnnual GDP Growth (%)=%{x}\\u003cbr\\u003eAnnual improvement (%)=%{y}\\u003cextra\\u003e\\u003c\\u002fextra\\u003e\",\"legendgroup\":\"Uganda\",\"marker\":{\"color\":\"#ab63fa\",\"symbol\":\"circle\"},\"mode\":\"markers\",\"name\":\"Uganda\",\"orientation\":\"v\",\"showlegend\":true,\"x\":[6.3],\"xaxis\":\"x\",\"y\":[2.5261055046066683],\"yaxis\":\"y\",\"type\":\"scatter\"},{\"hovertemplate\":\"country\\u002fregion_y=Uganda\\u003cextra\\u003e\\u003c\\u002fextra\\u003e\",\"legendgroup\":\"Uganda\",\"marker\":{\"color\":\"#ab63fa\",\"symbol\":\"circle\"},\"mode\":\"lines\",\"name\":\"Uganda\",\"showlegend\":false,\"xaxis\":\"x\",\"yaxis\":\"y\",\"type\":\"scatter\"},{\"hovertemplate\":\"country\\u002fregion_y=Ukraine\\u003cbr\\u003eAnnual GDP Growth (%)=%{x}\\u003cbr\\u003eAnnual improvement (%)=%{y}\\u003cextra\\u003e\\u003c\\u002fextra\\u003e\",\"legendgroup\":\"Ukraine\",\"marker\":{\"color\":\"#FFA15A\",\"symbol\":\"circle\"},\"mode\":\"markers\",\"name\":\"Ukraine\",\"orientation\":\"v\",\"showlegend\":true,\"x\":[-28.8],\"xaxis\":\"x\",\"y\":[10.64892179570547],\"yaxis\":\"y\",\"type\":\"scatter\"},{\"hovertemplate\":\"country\\u002fregion_y=Ukraine\\u003cextra\\u003e\\u003c\\u002fextra\\u003e\",\"legendgroup\":\"Ukraine\",\"marker\":{\"color\":\"#FFA15A\",\"symbol\":\"circle\"},\"mode\":\"lines\",\"name\":\"Ukraine\",\"showlegend\":false,\"xaxis\":\"x\",\"yaxis\":\"y\",\"type\":\"scatter\"},{\"hovertemplate\":\"country\\u002fregion_y=Uruguay\\u003cbr\\u003eAnnual GDP Growth (%)=%{x}\\u003cbr\\u003eAnnual improvement (%)=%{y}\\u003cextra\\u003e\\u003c\\u002fextra\\u003e\",\"legendgroup\":\"Uruguay\",\"marker\":{\"color\":\"#19d3f3\",\"symbol\":\"circle\"},\"mode\":\"markers\",\"name\":\"Uruguay\",\"orientation\":\"v\",\"showlegend\":true,\"x\":[4.7],\"xaxis\":\"x\",\"y\":[-1.2291903480524669],\"yaxis\":\"y\",\"type\":\"scatter\"},{\"hovertemplate\":\"country\\u002fregion_y=Uruguay\\u003cextra\\u003e\\u003c\\u002fextra\\u003e\",\"legendgroup\":\"Uruguay\",\"marker\":{\"color\":\"#19d3f3\",\"symbol\":\"circle\"},\"mode\":\"lines\",\"name\":\"Uruguay\",\"showlegend\":false,\"xaxis\":\"x\",\"yaxis\":\"y\",\"type\":\"scatter\"},{\"hovertemplate\":\"country\\u002fregion_y=Uzbekistan\\u003cbr\\u003eAnnual GDP Growth (%)=%{x}\\u003cbr\\u003eAnnual improvement (%)=%{y}\\u003cextra\\u003e\\u003c\\u002fextra\\u003e\",\"legendgroup\":\"Uzbekistan\",\"marker\":{\"color\":\"#FF6692\",\"symbol\":\"circle\"},\"mode\":\"markers\",\"name\":\"Uzbekistan\",\"orientation\":\"v\",\"showlegend\":true,\"x\":[6],\"xaxis\":\"x\",\"y\":[15.174897963868483],\"yaxis\":\"y\",\"type\":\"scatter\"},{\"hovertemplate\":\"country\\u002fregion_y=Uzbekistan\\u003cextra\\u003e\\u003c\\u002fextra\\u003e\",\"legendgroup\":\"Uzbekistan\",\"marker\":{\"color\":\"#FF6692\",\"symbol\":\"circle\"},\"mode\":\"lines\",\"name\":\"Uzbekistan\",\"showlegend\":false,\"xaxis\":\"x\",\"yaxis\":\"y\",\"type\":\"scatter\"},{\"hovertemplate\":\"country\\u002fregion_y=Saint Vincent and the Grenadines\\u003cbr\\u003eAnnual GDP Growth (%)=%{x}\\u003cbr\\u003eAnnual improvement (%)=%{y}\\u003cextra\\u003e\\u003c\\u002fextra\\u003e\",\"legendgroup\":\"Saint Vincent and the Grenadines\",\"marker\":{\"color\":\"#B6E880\",\"symbol\":\"circle\"},\"mode\":\"markers\",\"name\":\"Saint Vincent and the Grenadines\",\"orientation\":\"v\",\"showlegend\":true,\"x\":[3.1],\"xaxis\":\"x\",\"y\":[0.45503986622684733],\"yaxis\":\"y\",\"type\":\"scatter\"},{\"hovertemplate\":\"country\\u002fregion_y=Saint Vincent and the Grenadines\\u003cextra\\u003e\\u003c\\u002fextra\\u003e\",\"legendgroup\":\"Saint Vincent and the Grenadines\",\"marker\":{\"color\":\"#B6E880\",\"symbol\":\"circle\"},\"mode\":\"lines\",\"name\":\"Saint Vincent and the Grenadines\",\"showlegend\":false,\"xaxis\":\"x\",\"yaxis\":\"y\",\"type\":\"scatter\"},{\"hovertemplate\":\"country\\u002fregion_y=Venezuela\\u003cbr\\u003eAnnual GDP Growth (%)=%{x}\\u003cbr\\u003eAnnual improvement (%)=%{y}\\u003cextra\\u003e\\u003c\\u002fextra\\u003e\",\"legendgroup\":\"Venezuela\",\"marker\":{\"color\":\"#FF97FF\",\"symbol\":\"circle\"},\"mode\":\"markers\",\"name\":\"Venezuela\",\"orientation\":\"v\",\"showlegend\":true,\"x\":[8],\"xaxis\":\"x\",\"y\":[2.3208972103287984],\"yaxis\":\"y\",\"type\":\"scatter\"},{\"hovertemplate\":\"country\\u002fregion_y=Venezuela\\u003cextra\\u003e\\u003c\\u002fextra\\u003e\",\"legendgroup\":\"Venezuela\",\"marker\":{\"color\":\"#FF97FF\",\"symbol\":\"circle\"},\"mode\":\"lines\",\"name\":\"Venezuela\",\"showlegend\":false,\"xaxis\":\"x\",\"yaxis\":\"y\",\"type\":\"scatter\"},{\"hovertemplate\":\"country\\u002fregion_y=Vietnam\\u003cbr\\u003eAnnual GDP Growth (%)=%{x}\\u003cbr\\u003eAnnual improvement (%)=%{y}\\u003cextra\\u003e\\u003c\\u002fextra\\u003e\",\"legendgroup\":\"Vietnam\",\"marker\":{\"color\":\"#FECB52\",\"symbol\":\"circle\"},\"mode\":\"markers\",\"name\":\"Vietnam\",\"orientation\":\"v\",\"showlegend\":true,\"x\":[8.1],\"xaxis\":\"x\",\"y\":[1.9919088030426413],\"yaxis\":\"y\",\"type\":\"scatter\"},{\"hovertemplate\":\"country\\u002fregion_y=Vietnam\\u003cextra\\u003e\\u003c\\u002fextra\\u003e\",\"legendgroup\":\"Vietnam\",\"marker\":{\"color\":\"#FECB52\",\"symbol\":\"circle\"},\"mode\":\"lines\",\"name\":\"Vietnam\",\"showlegend\":false,\"xaxis\":\"x\",\"yaxis\":\"y\",\"type\":\"scatter\"},{\"hovertemplate\":\"country\\u002fregion_y=Vanuatu\\u003cbr\\u003eAnnual GDP Growth (%)=%{x}\\u003cbr\\u003eAnnual improvement (%)=%{y}\\u003cextra\\u003e\\u003c\\u002fextra\\u003e\",\"legendgroup\":\"Vanuatu\",\"marker\":{\"color\":\"#636efa\",\"symbol\":\"circle\"},\"mode\":\"markers\",\"name\":\"Vanuatu\",\"orientation\":\"v\",\"showlegend\":true,\"x\":[1.9],\"xaxis\":\"x\",\"y\":[-2.8794509787447797],\"yaxis\":\"y\",\"type\":\"scatter\"},{\"hovertemplate\":\"country\\u002fregion_y=Vanuatu\\u003cextra\\u003e\\u003c\\u002fextra\\u003e\",\"legendgroup\":\"Vanuatu\",\"marker\":{\"color\":\"#636efa\",\"symbol\":\"circle\"},\"mode\":\"lines\",\"name\":\"Vanuatu\",\"showlegend\":false,\"xaxis\":\"x\",\"yaxis\":\"y\",\"type\":\"scatter\"},{\"hovertemplate\":\"country\\u002fregion_y=Samoa\\u003cbr\\u003eAnnual GDP Growth (%)=%{x}\\u003cbr\\u003eAnnual improvement (%)=%{y}\\u003cextra\\u003e\\u003c\\u002fextra\\u003e\",\"legendgroup\":\"Samoa\",\"marker\":{\"color\":\"#EF553B\",\"symbol\":\"circle\"},\"mode\":\"markers\",\"name\":\"Samoa\",\"orientation\":\"v\",\"showlegend\":true,\"x\":[-5.3],\"xaxis\":\"x\",\"y\":[-10.284177351165468],\"yaxis\":\"y\",\"type\":\"scatter\"},{\"hovertemplate\":\"country\\u002fregion_y=Samoa\\u003cextra\\u003e\\u003c\\u002fextra\\u003e\",\"legendgroup\":\"Samoa\",\"marker\":{\"color\":\"#EF553B\",\"symbol\":\"circle\"},\"mode\":\"lines\",\"name\":\"Samoa\",\"showlegend\":false,\"xaxis\":\"x\",\"yaxis\":\"y\",\"type\":\"scatter\"},{\"hovertemplate\":\"country\\u002fregion_y=Kosovo\\u003cbr\\u003eAnnual GDP Growth (%)=%{x}\\u003cbr\\u003eAnnual improvement (%)=%{y}\\u003cextra\\u003e\\u003c\\u002fextra\\u003e\",\"legendgroup\":\"Kosovo\",\"marker\":{\"color\":\"#00cc96\",\"symbol\":\"circle\"},\"mode\":\"markers\",\"name\":\"Kosovo\",\"orientation\":\"v\",\"showlegend\":true,\"x\":[4.3],\"xaxis\":\"x\",\"y\":[2.4165881921644483],\"yaxis\":\"y\",\"type\":\"scatter\"},{\"hovertemplate\":\"country\\u002fregion_y=Kosovo\\u003cextra\\u003e\\u003c\\u002fextra\\u003e\",\"legendgroup\":\"Kosovo\",\"marker\":{\"color\":\"#00cc96\",\"symbol\":\"circle\"},\"mode\":\"lines\",\"name\":\"Kosovo\",\"showlegend\":false,\"xaxis\":\"x\",\"yaxis\":\"y\",\"type\":\"scatter\"},{\"hovertemplate\":\"country\\u002fregion_y=Yemen\\u003cbr\\u003eAnnual GDP Growth (%)=%{x}\\u003cbr\\u003eAnnual improvement (%)=%{y}\\u003cextra\\u003e\\u003c\\u002fextra\\u003e\",\"legendgroup\":\"Yemen\",\"marker\":{\"color\":\"#ab63fa\",\"symbol\":\"circle\"},\"mode\":\"markers\",\"name\":\"Yemen\",\"orientation\":\"v\",\"showlegend\":true,\"x\":[1.5],\"xaxis\":\"x\",\"y\":[-12.911814112863995],\"yaxis\":\"y\",\"type\":\"scatter\"},{\"hovertemplate\":\"country\\u002fregion_y=Yemen\\u003cextra\\u003e\\u003c\\u002fextra\\u003e\",\"legendgroup\":\"Yemen\",\"marker\":{\"color\":\"#ab63fa\",\"symbol\":\"circle\"},\"mode\":\"lines\",\"name\":\"Yemen\",\"showlegend\":false,\"xaxis\":\"x\",\"yaxis\":\"y\",\"type\":\"scatter\"},{\"hovertemplate\":\"country\\u002fregion_y=South Africa\\u003cbr\\u003eAnnual GDP Growth (%)=%{x}\\u003cbr\\u003eAnnual improvement (%)=%{y}\\u003cextra\\u003e\\u003c\\u002fextra\\u003e\",\"legendgroup\":\"South Africa\",\"marker\":{\"color\":\"#FFA15A\",\"symbol\":\"circle\"},\"mode\":\"markers\",\"name\":\"South Africa\",\"orientation\":\"v\",\"showlegend\":true,\"x\":[1.9],\"xaxis\":\"x\",\"y\":[-6.467412335343936],\"yaxis\":\"y\",\"type\":\"scatter\"},{\"hovertemplate\":\"country\\u002fregion_y=South Africa\\u003cextra\\u003e\\u003c\\u002fextra\\u003e\",\"legendgroup\":\"South Africa\",\"marker\":{\"color\":\"#FFA15A\",\"symbol\":\"circle\"},\"mode\":\"lines\",\"name\":\"South Africa\",\"showlegend\":false,\"xaxis\":\"x\",\"yaxis\":\"y\",\"type\":\"scatter\"},{\"hovertemplate\":\"country\\u002fregion_y=Zambia\\u003cbr\\u003eAnnual GDP Growth (%)=%{x}\\u003cbr\\u003eAnnual improvement (%)=%{y}\\u003cextra\\u003e\\u003c\\u002fextra\\u003e\",\"legendgroup\":\"Zambia\",\"marker\":{\"color\":\"#19d3f3\",\"symbol\":\"circle\"},\"mode\":\"markers\",\"name\":\"Zambia\",\"orientation\":\"v\",\"showlegend\":true,\"x\":[5.2],\"xaxis\":\"x\",\"y\":[5.928276172069735],\"yaxis\":\"y\",\"type\":\"scatter\"},{\"hovertemplate\":\"country\\u002fregion_y=Zambia\\u003cextra\\u003e\\u003c\\u002fextra\\u003e\",\"legendgroup\":\"Zambia\",\"marker\":{\"color\":\"#19d3f3\",\"symbol\":\"circle\"},\"mode\":\"lines\",\"name\":\"Zambia\",\"showlegend\":false,\"xaxis\":\"x\",\"yaxis\":\"y\",\"type\":\"scatter\"},{\"hovertemplate\":\"country\\u002fregion_y=Zimbabwe\\u003cbr\\u003eAnnual GDP Growth (%)=%{x}\\u003cbr\\u003eAnnual improvement (%)=%{y}\\u003cextra\\u003e\\u003c\\u002fextra\\u003e\",\"legendgroup\":\"Zimbabwe\",\"marker\":{\"color\":\"#FF6692\",\"symbol\":\"circle\"},\"mode\":\"markers\",\"name\":\"Zimbabwe\",\"orientation\":\"v\",\"showlegend\":true,\"x\":[6.1],\"xaxis\":\"x\",\"y\":[-40.27752913668981],\"yaxis\":\"y\",\"type\":\"scatter\"},{\"hovertemplate\":\"country\\u002fregion_y=Zimbabwe\\u003cextra\\u003e\\u003c\\u002fextra\\u003e\",\"legendgroup\":\"Zimbabwe\",\"marker\":{\"color\":\"#FF6692\",\"symbol\":\"circle\"},\"mode\":\"lines\",\"name\":\"Zimbabwe\",\"showlegend\":false,\"xaxis\":\"x\",\"yaxis\":\"y\",\"type\":\"scatter\"}],                        {\"template\":{\"data\":{\"histogram2dcontour\":[{\"type\":\"histogram2dcontour\",\"colorbar\":{\"outlinewidth\":0,\"ticks\":\"\"},\"colorscale\":[[0.0,\"#0d0887\"],[0.1111111111111111,\"#46039f\"],[0.2222222222222222,\"#7201a8\"],[0.3333333333333333,\"#9c179e\"],[0.4444444444444444,\"#bd3786\"],[0.5555555555555556,\"#d8576b\"],[0.6666666666666666,\"#ed7953\"],[0.7777777777777778,\"#fb9f3a\"],[0.8888888888888888,\"#fdca26\"],[1.0,\"#f0f921\"]]}],\"choropleth\":[{\"type\":\"choropleth\",\"colorbar\":{\"outlinewidth\":0,\"ticks\":\"\"}}],\"histogram2d\":[{\"type\":\"histogram2d\",\"colorbar\":{\"outlinewidth\":0,\"ticks\":\"\"},\"colorscale\":[[0.0,\"#0d0887\"],[0.1111111111111111,\"#46039f\"],[0.2222222222222222,\"#7201a8\"],[0.3333333333333333,\"#9c179e\"],[0.4444444444444444,\"#bd3786\"],[0.5555555555555556,\"#d8576b\"],[0.6666666666666666,\"#ed7953\"],[0.7777777777777778,\"#fb9f3a\"],[0.8888888888888888,\"#fdca26\"],[1.0,\"#f0f921\"]]}],\"heatmap\":[{\"type\":\"heatmap\",\"colorbar\":{\"outlinewidth\":0,\"ticks\":\"\"},\"colorscale\":[[0.0,\"#0d0887\"],[0.1111111111111111,\"#46039f\"],[0.2222222222222222,\"#7201a8\"],[0.3333333333333333,\"#9c179e\"],[0.4444444444444444,\"#bd3786\"],[0.5555555555555556,\"#d8576b\"],[0.6666666666666666,\"#ed7953\"],[0.7777777777777778,\"#fb9f3a\"],[0.8888888888888888,\"#fdca26\"],[1.0,\"#f0f921\"]]}],\"heatmapgl\":[{\"type\":\"heatmapgl\",\"colorbar\":{\"outlinewidth\":0,\"ticks\":\"\"},\"colorscale\":[[0.0,\"#0d0887\"],[0.1111111111111111,\"#46039f\"],[0.2222222222222222,\"#7201a8\"],[0.3333333333333333,\"#9c179e\"],[0.4444444444444444,\"#bd3786\"],[0.5555555555555556,\"#d8576b\"],[0.6666666666666666,\"#ed7953\"],[0.7777777777777778,\"#fb9f3a\"],[0.8888888888888888,\"#fdca26\"],[1.0,\"#f0f921\"]]}],\"contourcarpet\":[{\"type\":\"contourcarpet\",\"colorbar\":{\"outlinewidth\":0,\"ticks\":\"\"}}],\"contour\":[{\"type\":\"contour\",\"colorbar\":{\"outlinewidth\":0,\"ticks\":\"\"},\"colorscale\":[[0.0,\"#0d0887\"],[0.1111111111111111,\"#46039f\"],[0.2222222222222222,\"#7201a8\"],[0.3333333333333333,\"#9c179e\"],[0.4444444444444444,\"#bd3786\"],[0.5555555555555556,\"#d8576b\"],[0.6666666666666666,\"#ed7953\"],[0.7777777777777778,\"#fb9f3a\"],[0.8888888888888888,\"#fdca26\"],[1.0,\"#f0f921\"]]}],\"surface\":[{\"type\":\"surface\",\"colorbar\":{\"outlinewidth\":0,\"ticks\":\"\"},\"colorscale\":[[0.0,\"#0d0887\"],[0.1111111111111111,\"#46039f\"],[0.2222222222222222,\"#7201a8\"],[0.3333333333333333,\"#9c179e\"],[0.4444444444444444,\"#bd3786\"],[0.5555555555555556,\"#d8576b\"],[0.6666666666666666,\"#ed7953\"],[0.7777777777777778,\"#fb9f3a\"],[0.8888888888888888,\"#fdca26\"],[1.0,\"#f0f921\"]]}],\"mesh3d\":[{\"type\":\"mesh3d\",\"colorbar\":{\"outlinewidth\":0,\"ticks\":\"\"}}],\"scatter\":[{\"fillpattern\":{\"fillmode\":\"overlay\",\"size\":10,\"solidity\":0.2},\"type\":\"scatter\"}],\"parcoords\":[{\"type\":\"parcoords\",\"line\":{\"colorbar\":{\"outlinewidth\":0,\"ticks\":\"\"}}}],\"scatterpolargl\":[{\"type\":\"scatterpolargl\",\"marker\":{\"colorbar\":{\"outlinewidth\":0,\"ticks\":\"\"}}}],\"bar\":[{\"error_x\":{\"color\":\"#2a3f5f\"},\"error_y\":{\"color\":\"#2a3f5f\"},\"marker\":{\"line\":{\"color\":\"#E5ECF6\",\"width\":0.5},\"pattern\":{\"fillmode\":\"overlay\",\"size\":10,\"solidity\":0.2}},\"type\":\"bar\"}],\"scattergeo\":[{\"type\":\"scattergeo\",\"marker\":{\"colorbar\":{\"outlinewidth\":0,\"ticks\":\"\"}}}],\"scatterpolar\":[{\"type\":\"scatterpolar\",\"marker\":{\"colorbar\":{\"outlinewidth\":0,\"ticks\":\"\"}}}],\"histogram\":[{\"marker\":{\"pattern\":{\"fillmode\":\"overlay\",\"size\":10,\"solidity\":0.2}},\"type\":\"histogram\"}],\"scattergl\":[{\"type\":\"scattergl\",\"marker\":{\"colorbar\":{\"outlinewidth\":0,\"ticks\":\"\"}}}],\"scatter3d\":[{\"type\":\"scatter3d\",\"line\":{\"colorbar\":{\"outlinewidth\":0,\"ticks\":\"\"}},\"marker\":{\"colorbar\":{\"outlinewidth\":0,\"ticks\":\"\"}}}],\"scattermapbox\":[{\"type\":\"scattermapbox\",\"marker\":{\"colorbar\":{\"outlinewidth\":0,\"ticks\":\"\"}}}],\"scatterternary\":[{\"type\":\"scatterternary\",\"marker\":{\"colorbar\":{\"outlinewidth\":0,\"ticks\":\"\"}}}],\"scattercarpet\":[{\"type\":\"scattercarpet\",\"marker\":{\"colorbar\":{\"outlinewidth\":0,\"ticks\":\"\"}}}],\"carpet\":[{\"aaxis\":{\"endlinecolor\":\"#2a3f5f\",\"gridcolor\":\"white\",\"linecolor\":\"white\",\"minorgridcolor\":\"white\",\"startlinecolor\":\"#2a3f5f\"},\"baxis\":{\"endlinecolor\":\"#2a3f5f\",\"gridcolor\":\"white\",\"linecolor\":\"white\",\"minorgridcolor\":\"white\",\"startlinecolor\":\"#2a3f5f\"},\"type\":\"carpet\"}],\"table\":[{\"cells\":{\"fill\":{\"color\":\"#EBF0F8\"},\"line\":{\"color\":\"white\"}},\"header\":{\"fill\":{\"color\":\"#C8D4E3\"},\"line\":{\"color\":\"white\"}},\"type\":\"table\"}],\"barpolar\":[{\"marker\":{\"line\":{\"color\":\"#E5ECF6\",\"width\":0.5},\"pattern\":{\"fillmode\":\"overlay\",\"size\":10,\"solidity\":0.2}},\"type\":\"barpolar\"}],\"pie\":[{\"automargin\":true,\"type\":\"pie\"}]},\"layout\":{\"autotypenumbers\":\"strict\",\"colorway\":[\"#636efa\",\"#EF553B\",\"#00cc96\",\"#ab63fa\",\"#FFA15A\",\"#19d3f3\",\"#FF6692\",\"#B6E880\",\"#FF97FF\",\"#FECB52\"],\"font\":{\"color\":\"#2a3f5f\"},\"hovermode\":\"closest\",\"hoverlabel\":{\"align\":\"left\"},\"paper_bgcolor\":\"white\",\"plot_bgcolor\":\"#E5ECF6\",\"polar\":{\"bgcolor\":\"#E5ECF6\",\"angularaxis\":{\"gridcolor\":\"white\",\"linecolor\":\"white\",\"ticks\":\"\"},\"radialaxis\":{\"gridcolor\":\"white\",\"linecolor\":\"white\",\"ticks\":\"\"}},\"ternary\":{\"bgcolor\":\"#E5ECF6\",\"aaxis\":{\"gridcolor\":\"white\",\"linecolor\":\"white\",\"ticks\":\"\"},\"baxis\":{\"gridcolor\":\"white\",\"linecolor\":\"white\",\"ticks\":\"\"},\"caxis\":{\"gridcolor\":\"white\",\"linecolor\":\"white\",\"ticks\":\"\"}},\"coloraxis\":{\"colorbar\":{\"outlinewidth\":0,\"ticks\":\"\"}},\"colorscale\":{\"sequential\":[[0.0,\"#0d0887\"],[0.1111111111111111,\"#46039f\"],[0.2222222222222222,\"#7201a8\"],[0.3333333333333333,\"#9c179e\"],[0.4444444444444444,\"#bd3786\"],[0.5555555555555556,\"#d8576b\"],[0.6666666666666666,\"#ed7953\"],[0.7777777777777778,\"#fb9f3a\"],[0.8888888888888888,\"#fdca26\"],[1.0,\"#f0f921\"]],\"sequentialminus\":[[0.0,\"#0d0887\"],[0.1111111111111111,\"#46039f\"],[0.2222222222222222,\"#7201a8\"],[0.3333333333333333,\"#9c179e\"],[0.4444444444444444,\"#bd3786\"],[0.5555555555555556,\"#d8576b\"],[0.6666666666666666,\"#ed7953\"],[0.7777777777777778,\"#fb9f3a\"],[0.8888888888888888,\"#fdca26\"],[1.0,\"#f0f921\"]],\"diverging\":[[0,\"#8e0152\"],[0.1,\"#c51b7d\"],[0.2,\"#de77ae\"],[0.3,\"#f1b6da\"],[0.4,\"#fde0ef\"],[0.5,\"#f7f7f7\"],[0.6,\"#e6f5d0\"],[0.7,\"#b8e186\"],[0.8,\"#7fbc41\"],[0.9,\"#4d9221\"],[1,\"#276419\"]]},\"xaxis\":{\"gridcolor\":\"white\",\"linecolor\":\"white\",\"ticks\":\"\",\"title\":{\"standoff\":15},\"zerolinecolor\":\"white\",\"automargin\":true,\"zerolinewidth\":2},\"yaxis\":{\"gridcolor\":\"white\",\"linecolor\":\"white\",\"ticks\":\"\",\"title\":{\"standoff\":15},\"zerolinecolor\":\"white\",\"automargin\":true,\"zerolinewidth\":2},\"scene\":{\"xaxis\":{\"backgroundcolor\":\"#E5ECF6\",\"gridcolor\":\"white\",\"linecolor\":\"white\",\"showbackground\":true,\"ticks\":\"\",\"zerolinecolor\":\"white\",\"gridwidth\":2},\"yaxis\":{\"backgroundcolor\":\"#E5ECF6\",\"gridcolor\":\"white\",\"linecolor\":\"white\",\"showbackground\":true,\"ticks\":\"\",\"zerolinecolor\":\"white\",\"gridwidth\":2},\"zaxis\":{\"backgroundcolor\":\"#E5ECF6\",\"gridcolor\":\"white\",\"linecolor\":\"white\",\"showbackground\":true,\"ticks\":\"\",\"zerolinecolor\":\"white\",\"gridwidth\":2}},\"shapedefaults\":{\"line\":{\"color\":\"#2a3f5f\"}},\"annotationdefaults\":{\"arrowcolor\":\"#2a3f5f\",\"arrowhead\":0,\"arrowwidth\":1},\"geo\":{\"bgcolor\":\"white\",\"landcolor\":\"#E5ECF6\",\"subunitcolor\":\"white\",\"showland\":true,\"showlakes\":true,\"lakecolor\":\"white\"},\"title\":{\"x\":0.05},\"mapbox\":{\"style\":\"light\"}}},\"xaxis\":{\"anchor\":\"y\",\"domain\":[0.0,1.0],\"title\":{\"text\":\"Annual GDP Growth (%)\"}},\"yaxis\":{\"anchor\":\"x\",\"domain\":[0.0,1.0],\"title\":{\"text\":\"Annual improvement (%)\"}},\"legend\":{\"title\":{\"text\":\"country\\u002fregion_y\"},\"tracegroupgap\":0},\"title\":{\"text\":\"Graph 3. Energy efficiency and economic growth in EMDEs, 2022\"}},                        {\"responsive\": true}                    ).then(function(){\n",
       "                            \n",
       "var gd = document.getElementById('4e1d025c-a3f5-47b4-bece-1f62b133f21a');\n",
       "var x = new MutationObserver(function (mutations, observer) {{\n",
       "        var display = window.getComputedStyle(gd).display;\n",
       "        if (!display || display === 'none') {{\n",
       "            console.log([gd, 'removed!']);\n",
       "            Plotly.purge(gd);\n",
       "            observer.disconnect();\n",
       "        }}\n",
       "}});\n",
       "\n",
       "// Listen for the removal of the full notebook cells\n",
       "var notebookContainer = gd.closest('#notebook-container');\n",
       "if (notebookContainer) {{\n",
       "    x.observe(notebookContainer, {childList: true});\n",
       "}}\n",
       "\n",
       "// Listen for the clearing of the current output cell\n",
       "var outputEl = gd.closest('.output');\n",
       "if (outputEl) {{\n",
       "    x.observe(outputEl, {childList: true});\n",
       "}}\n",
       "\n",
       "                        })                };                });            </script>        </div>"
      ]
     },
     "metadata": {},
     "output_type": "display_data"
    }
   ],
   "source": [
    "#scatter plot for EMDEs\n",
    "\n",
    "fig = px.scatter(\n",
    "    final_EMDE,\n",
    "    x='Real GDP growth (Annual percent change)',  # X-axis variable\n",
    "    y='Energy Efficiency',  # Y-axis variable\n",
    "    color='country/region_y', \n",
    "    title=\"Graph 3. Energy efficiency and economic growth in EMDEs, 2022\",\n",
    "    labels={\n",
    "        'Real GDP growth (Annual percent change)': 'Annual GDP Growth (%)',\n",
    "        'Energy Efficiency': 'Annual improvement (%)'\n",
    "    },  \n",
    "    trendline='ols'  \n",
    ")\n",
    "\n",
    "# Show the plot\n",
    "fig.show()"
   ]
  },
  {
   "cell_type": "code",
   "execution_count": null,
   "id": "ac51764c-22cb-4f50-a3ea-78bdf6747f21",
   "metadata": {},
   "outputs": [],
   "source": []
  },
  {
   "cell_type": "code",
   "execution_count": 75,
   "id": "000f1ee2-b441-417b-b38e-7b28c77b07b7",
   "metadata": {},
   "outputs": [
    {
     "data": {
      "text/html": [
       "<div>\n",
       "<style scoped>\n",
       "    .dataframe tbody tr th:only-of-type {\n",
       "        vertical-align: middle;\n",
       "    }\n",
       "\n",
       "    .dataframe tbody tr th {\n",
       "        vertical-align: top;\n",
       "    }\n",
       "\n",
       "    .dataframe thead th {\n",
       "        text-align: right;\n",
       "    }\n",
       "</style>\n",
       "<table border=\"1\" class=\"dataframe\">\n",
       "  <thead>\n",
       "    <tr style=\"text-align: right;\">\n",
       "      <th></th>\n",
       "      <th>country/region_x</th>\n",
       "      <th>Country_classification</th>\n",
       "      <th>Year</th>\n",
       "      <th>Energy Intensity (1000 Btu/2015$ GDP PPP)</th>\n",
       "      <th>Country_Code</th>\n",
       "      <th>country/region_y</th>\n",
       "      <th>Real GDP growth (Annual percent change)</th>\n",
       "      <th>Energy Efficiency</th>\n",
       "    </tr>\n",
       "  </thead>\n",
       "  <tbody>\n",
       "    <tr>\n",
       "      <th>492</th>\n",
       "      <td>Australia</td>\n",
       "      <td>Advanced Economies</td>\n",
       "      <td>2022</td>\n",
       "      <td>4.694553</td>\n",
       "      <td>AUS</td>\n",
       "      <td>Australia</td>\n",
       "      <td>3.9</td>\n",
       "      <td>-3.894747</td>\n",
       "    </tr>\n",
       "    <tr>\n",
       "      <th>542</th>\n",
       "      <td>Austria</td>\n",
       "      <td>Advanced Economies</td>\n",
       "      <td>2022</td>\n",
       "      <td>2.331712</td>\n",
       "      <td>AUT</td>\n",
       "      <td>Austria</td>\n",
       "      <td>4.8</td>\n",
       "      <td>11.856627</td>\n",
       "    </tr>\n",
       "    <tr>\n",
       "      <th>692</th>\n",
       "      <td>Belgium</td>\n",
       "      <td>Advanced Economies</td>\n",
       "      <td>2022</td>\n",
       "      <td>4.112508</td>\n",
       "      <td>BEL</td>\n",
       "      <td>Belgium</td>\n",
       "      <td>3</td>\n",
       "      <td>11.125751</td>\n",
       "    </tr>\n",
       "    <tr>\n",
       "      <th>1542</th>\n",
       "      <td>Canada</td>\n",
       "      <td>Advanced Economies</td>\n",
       "      <td>2022</td>\n",
       "      <td>6.797554</td>\n",
       "      <td>CAN</td>\n",
       "      <td>Canada</td>\n",
       "      <td>3.8</td>\n",
       "      <td>-0.460559</td>\n",
       "    </tr>\n",
       "    <tr>\n",
       "      <th>1592</th>\n",
       "      <td>Switzerland</td>\n",
       "      <td>Advanced Economies</td>\n",
       "      <td>2022</td>\n",
       "      <td>1.459435</td>\n",
       "      <td>CHE</td>\n",
       "      <td>Switzerland</td>\n",
       "      <td>3.1</td>\n",
       "      <td>1.133262</td>\n",
       "    </tr>\n",
       "    <tr>\n",
       "      <th>2177</th>\n",
       "      <td>Cyprus</td>\n",
       "      <td>Advanced Economies</td>\n",
       "      <td>2022</td>\n",
       "      <td>2.583571</td>\n",
       "      <td>CYP</td>\n",
       "      <td>Cyprus</td>\n",
       "      <td>5.1</td>\n",
       "      <td>1.292491</td>\n",
       "    </tr>\n",
       "    <tr>\n",
       "      <th>2227</th>\n",
       "      <td>Czechia</td>\n",
       "      <td>Advanced Economies</td>\n",
       "      <td>2022</td>\n",
       "      <td>3.889129</td>\n",
       "      <td>CZE</td>\n",
       "      <td>Czech Republic</td>\n",
       "      <td>2.8</td>\n",
       "      <td>5.317027</td>\n",
       "    </tr>\n",
       "    <tr>\n",
       "      <th>2277</th>\n",
       "      <td>Germany</td>\n",
       "      <td>Advanced Economies</td>\n",
       "      <td>2022</td>\n",
       "      <td>2.639403</td>\n",
       "      <td>DEU</td>\n",
       "      <td>Germany</td>\n",
       "      <td>1.4</td>\n",
       "      <td>7.598505</td>\n",
       "    </tr>\n",
       "    <tr>\n",
       "      <th>2427</th>\n",
       "      <td>Denmark</td>\n",
       "      <td>Advanced Economies</td>\n",
       "      <td>2022</td>\n",
       "      <td>1.801025</td>\n",
       "      <td>DNK</td>\n",
       "      <td>Denmark</td>\n",
       "      <td>1.5</td>\n",
       "      <td>1.836329</td>\n",
       "    </tr>\n",
       "    <tr>\n",
       "      <th>2727</th>\n",
       "      <td>Spain</td>\n",
       "      <td>Advanced Economies</td>\n",
       "      <td>2022</td>\n",
       "      <td>2.812020</td>\n",
       "      <td>ESP</td>\n",
       "      <td>Spain</td>\n",
       "      <td>6.2</td>\n",
       "      <td>2.914305</td>\n",
       "    </tr>\n",
       "    <tr>\n",
       "      <th>2777</th>\n",
       "      <td>Estonia</td>\n",
       "      <td>Advanced Economies</td>\n",
       "      <td>2022</td>\n",
       "      <td>2.046373</td>\n",
       "      <td>EST</td>\n",
       "      <td>Estonia</td>\n",
       "      <td>0.1</td>\n",
       "      <td>6.801638</td>\n",
       "    </tr>\n",
       "    <tr>\n",
       "      <th>2877</th>\n",
       "      <td>Finland</td>\n",
       "      <td>Advanced Economies</td>\n",
       "      <td>2022</td>\n",
       "      <td>3.916900</td>\n",
       "      <td>FIN</td>\n",
       "      <td>Finland</td>\n",
       "      <td>1.5</td>\n",
       "      <td>4.518623</td>\n",
       "    </tr>\n",
       "    <tr>\n",
       "      <th>2977</th>\n",
       "      <td>France</td>\n",
       "      <td>Advanced Economies</td>\n",
       "      <td>2022</td>\n",
       "      <td>2.816780</td>\n",
       "      <td>FRA</td>\n",
       "      <td>France</td>\n",
       "      <td>2.6</td>\n",
       "      <td>11.568869</td>\n",
       "    </tr>\n",
       "    <tr>\n",
       "      <th>3127</th>\n",
       "      <td>United Kingdom</td>\n",
       "      <td>Advanced Economies</td>\n",
       "      <td>2022</td>\n",
       "      <td>2.219788</td>\n",
       "      <td>GBR</td>\n",
       "      <td>United Kingdom</td>\n",
       "      <td>4.8</td>\n",
       "      <td>4.706588</td>\n",
       "    </tr>\n",
       "    <tr>\n",
       "      <th>3477</th>\n",
       "      <td>Greece</td>\n",
       "      <td>Advanced Economies</td>\n",
       "      <td>2022</td>\n",
       "      <td>3.141274</td>\n",
       "      <td>GRC</td>\n",
       "      <td>Greece</td>\n",
       "      <td>5.6</td>\n",
       "      <td>2.511143</td>\n",
       "    </tr>\n",
       "    <tr>\n",
       "      <th>3677</th>\n",
       "      <td>Hong Kong</td>\n",
       "      <td>Advanced Economies</td>\n",
       "      <td>2022</td>\n",
       "      <td>2.972333</td>\n",
       "      <td>HKG</td>\n",
       "      <td>Hong Kong SAR</td>\n",
       "      <td>-3.7</td>\n",
       "      <td>-5.864028</td>\n",
       "    </tr>\n",
       "    <tr>\n",
       "      <th>3777</th>\n",
       "      <td>Croatia</td>\n",
       "      <td>Advanced Economies</td>\n",
       "      <td>2022</td>\n",
       "      <td>2.432528</td>\n",
       "      <td>HRV</td>\n",
       "      <td>Croatia</td>\n",
       "      <td>7</td>\n",
       "      <td>10.728737</td>\n",
       "    </tr>\n",
       "    <tr>\n",
       "      <th>4027</th>\n",
       "      <td>Ireland</td>\n",
       "      <td>Advanced Economies</td>\n",
       "      <td>2022</td>\n",
       "      <td>1.088466</td>\n",
       "      <td>IRL</td>\n",
       "      <td>Ireland</td>\n",
       "      <td>8.6</td>\n",
       "      <td>4.015094</td>\n",
       "    </tr>\n",
       "    <tr>\n",
       "      <th>4227</th>\n",
       "      <td>Israel</td>\n",
       "      <td>Advanced Economies</td>\n",
       "      <td>2022</td>\n",
       "      <td>2.530676</td>\n",
       "      <td>ISR</td>\n",
       "      <td>Israel</td>\n",
       "      <td>6.4</td>\n",
       "      <td>1.740459</td>\n",
       "    </tr>\n",
       "    <tr>\n",
       "      <th>4277</th>\n",
       "      <td>Italy</td>\n",
       "      <td>Advanced Economies</td>\n",
       "      <td>2022</td>\n",
       "      <td>2.416807</td>\n",
       "      <td>ITA</td>\n",
       "      <td>Italy</td>\n",
       "      <td>4.7</td>\n",
       "      <td>7.506201</td>\n",
       "    </tr>\n",
       "    <tr>\n",
       "      <th>4427</th>\n",
       "      <td>Japan</td>\n",
       "      <td>Advanced Economies</td>\n",
       "      <td>2022</td>\n",
       "      <td>3.176277</td>\n",
       "      <td>JPN</td>\n",
       "      <td>Japan</td>\n",
       "      <td>1.2</td>\n",
       "      <td>1.325350</td>\n",
       "    </tr>\n",
       "    <tr>\n",
       "      <th>4777</th>\n",
       "      <td>South Korea</td>\n",
       "      <td>Advanced Economies</td>\n",
       "      <td>2022</td>\n",
       "      <td>5.249953</td>\n",
       "      <td>KOR</td>\n",
       "      <td>Korea, Republic of</td>\n",
       "      <td>2.7</td>\n",
       "      <td>4.477068</td>\n",
       "    </tr>\n",
       "    <tr>\n",
       "      <th>5227</th>\n",
       "      <td>Lithuania</td>\n",
       "      <td>Advanced Economies</td>\n",
       "      <td>2022</td>\n",
       "      <td>2.294663</td>\n",
       "      <td>LTU</td>\n",
       "      <td>Lithuania</td>\n",
       "      <td>2.4</td>\n",
       "      <td>11.493099</td>\n",
       "    </tr>\n",
       "    <tr>\n",
       "      <th>5277</th>\n",
       "      <td>Luxembourg</td>\n",
       "      <td>Advanced Economies</td>\n",
       "      <td>2022</td>\n",
       "      <td>2.086272</td>\n",
       "      <td>LUX</td>\n",
       "      <td>Luxembourg</td>\n",
       "      <td>1.4</td>\n",
       "      <td>13.463302</td>\n",
       "    </tr>\n",
       "    <tr>\n",
       "      <th>5327</th>\n",
       "      <td>Latvia</td>\n",
       "      <td>Advanced Economies</td>\n",
       "      <td>2022</td>\n",
       "      <td>2.105013</td>\n",
       "      <td>LVA</td>\n",
       "      <td>Latvia</td>\n",
       "      <td>3</td>\n",
       "      <td>12.782656</td>\n",
       "    </tr>\n",
       "    <tr>\n",
       "      <th>5377</th>\n",
       "      <td>Macau</td>\n",
       "      <td>Advanced Economies</td>\n",
       "      <td>2022</td>\n",
       "      <td>1.366373</td>\n",
       "      <td>MAC</td>\n",
       "      <td>Macao SAR</td>\n",
       "      <td>-21.4</td>\n",
       "      <td>-34.206541</td>\n",
       "    </tr>\n",
       "    <tr>\n",
       "      <th>5827</th>\n",
       "      <td>Malta</td>\n",
       "      <td>Advanced Economies</td>\n",
       "      <td>2022</td>\n",
       "      <td>4.896547</td>\n",
       "      <td>MLT</td>\n",
       "      <td>Malta</td>\n",
       "      <td>4.1</td>\n",
       "      <td>8.166662</td>\n",
       "    </tr>\n",
       "    <tr>\n",
       "      <th>6477</th>\n",
       "      <td>Netherlands</td>\n",
       "      <td>Advanced Economies</td>\n",
       "      <td>2022</td>\n",
       "      <td>3.291872</td>\n",
       "      <td>NLD</td>\n",
       "      <td>Netherlands</td>\n",
       "      <td>5</td>\n",
       "      <td>14.296686</td>\n",
       "    </tr>\n",
       "    <tr>\n",
       "      <th>6527</th>\n",
       "      <td>Norway</td>\n",
       "      <td>Advanced Economies</td>\n",
       "      <td>2022</td>\n",
       "      <td>3.128804</td>\n",
       "      <td>NOR</td>\n",
       "      <td>Norway</td>\n",
       "      <td>3</td>\n",
       "      <td>7.008518</td>\n",
       "    </tr>\n",
       "    <tr>\n",
       "      <th>6677</th>\n",
       "      <td>New Zealand</td>\n",
       "      <td>Advanced Economies</td>\n",
       "      <td>2022</td>\n",
       "      <td>2.892850</td>\n",
       "      <td>NZL</td>\n",
       "      <td>New Zealand</td>\n",
       "      <td>2.4</td>\n",
       "      <td>5.681973</td>\n",
       "    </tr>\n",
       "    <tr>\n",
       "      <th>7127</th>\n",
       "      <td>Puerto Rico</td>\n",
       "      <td>Advanced Economies</td>\n",
       "      <td>2022</td>\n",
       "      <td>3.696444</td>\n",
       "      <td>PRI</td>\n",
       "      <td>Puerto Rico</td>\n",
       "      <td>3.6</td>\n",
       "      <td>9.835699</td>\n",
       "    </tr>\n",
       "    <tr>\n",
       "      <th>7177</th>\n",
       "      <td>Portugal</td>\n",
       "      <td>Advanced Economies</td>\n",
       "      <td>2022</td>\n",
       "      <td>2.346911</td>\n",
       "      <td>PRT</td>\n",
       "      <td>Portugal</td>\n",
       "      <td>6.8</td>\n",
       "      <td>3.003233</td>\n",
       "    </tr>\n",
       "    <tr>\n",
       "      <th>7677</th>\n",
       "      <td>Singapore</td>\n",
       "      <td>Advanced Economies</td>\n",
       "      <td>2022</td>\n",
       "      <td>6.200687</td>\n",
       "      <td>SGP</td>\n",
       "      <td>Singapore</td>\n",
       "      <td>3.8</td>\n",
       "      <td>-0.125864</td>\n",
       "    </tr>\n",
       "    <tr>\n",
       "      <th>8177</th>\n",
       "      <td>Slovakia</td>\n",
       "      <td>Advanced Economies</td>\n",
       "      <td>2022</td>\n",
       "      <td>2.731270</td>\n",
       "      <td>SVK</td>\n",
       "      <td>Slovak Republic</td>\n",
       "      <td>1.9</td>\n",
       "      <td>30.586376</td>\n",
       "    </tr>\n",
       "    <tr>\n",
       "      <th>8227</th>\n",
       "      <td>Slovenia</td>\n",
       "      <td>Advanced Economies</td>\n",
       "      <td>2022</td>\n",
       "      <td>2.988361</td>\n",
       "      <td>SVN</td>\n",
       "      <td>Slovenia</td>\n",
       "      <td>2.7</td>\n",
       "      <td>4.829100</td>\n",
       "    </tr>\n",
       "    <tr>\n",
       "      <th>8277</th>\n",
       "      <td>Sweden</td>\n",
       "      <td>Advanced Economies</td>\n",
       "      <td>2022</td>\n",
       "      <td>2.866732</td>\n",
       "      <td>SWE</td>\n",
       "      <td>Sweden</td>\n",
       "      <td>1.5</td>\n",
       "      <td>4.161460</td>\n",
       "    </tr>\n",
       "    <tr>\n",
       "      <th>9027</th>\n",
       "      <td>Taiwan</td>\n",
       "      <td>Advanced Economies</td>\n",
       "      <td>2022</td>\n",
       "      <td>3.530398</td>\n",
       "      <td>TWN</td>\n",
       "      <td>Taiwan Province of China</td>\n",
       "      <td>2.6</td>\n",
       "      <td>0.618747</td>\n",
       "    </tr>\n",
       "    <tr>\n",
       "      <th>9277</th>\n",
       "      <td>United States</td>\n",
       "      <td>Advanced Economies</td>\n",
       "      <td>2022</td>\n",
       "      <td>4.463611</td>\n",
       "      <td>USA</td>\n",
       "      <td>United States</td>\n",
       "      <td>2.5</td>\n",
       "      <td>0.398643</td>\n",
       "    </tr>\n",
       "  </tbody>\n",
       "</table>\n",
       "</div>"
      ],
      "text/plain": [
       "     country/region_x Country_classification  Year  \\\n",
       "492         Australia     Advanced Economies  2022   \n",
       "542           Austria     Advanced Economies  2022   \n",
       "692           Belgium     Advanced Economies  2022   \n",
       "1542           Canada     Advanced Economies  2022   \n",
       "1592      Switzerland     Advanced Economies  2022   \n",
       "2177           Cyprus     Advanced Economies  2022   \n",
       "2227          Czechia     Advanced Economies  2022   \n",
       "2277          Germany     Advanced Economies  2022   \n",
       "2427          Denmark     Advanced Economies  2022   \n",
       "2727            Spain     Advanced Economies  2022   \n",
       "2777          Estonia     Advanced Economies  2022   \n",
       "2877          Finland     Advanced Economies  2022   \n",
       "2977           France     Advanced Economies  2022   \n",
       "3127   United Kingdom     Advanced Economies  2022   \n",
       "3477           Greece     Advanced Economies  2022   \n",
       "3677        Hong Kong     Advanced Economies  2022   \n",
       "3777          Croatia     Advanced Economies  2022   \n",
       "4027          Ireland     Advanced Economies  2022   \n",
       "4227           Israel     Advanced Economies  2022   \n",
       "4277            Italy     Advanced Economies  2022   \n",
       "4427            Japan     Advanced Economies  2022   \n",
       "4777      South Korea     Advanced Economies  2022   \n",
       "5227        Lithuania     Advanced Economies  2022   \n",
       "5277       Luxembourg     Advanced Economies  2022   \n",
       "5327           Latvia     Advanced Economies  2022   \n",
       "5377            Macau     Advanced Economies  2022   \n",
       "5827            Malta     Advanced Economies  2022   \n",
       "6477      Netherlands     Advanced Economies  2022   \n",
       "6527           Norway     Advanced Economies  2022   \n",
       "6677      New Zealand     Advanced Economies  2022   \n",
       "7127      Puerto Rico     Advanced Economies  2022   \n",
       "7177         Portugal     Advanced Economies  2022   \n",
       "7677        Singapore     Advanced Economies  2022   \n",
       "8177         Slovakia     Advanced Economies  2022   \n",
       "8227         Slovenia     Advanced Economies  2022   \n",
       "8277           Sweden     Advanced Economies  2022   \n",
       "9027           Taiwan     Advanced Economies  2022   \n",
       "9277    United States     Advanced Economies  2022   \n",
       "\n",
       "      Energy Intensity (1000 Btu/2015$ GDP PPP) Country_Code  \\\n",
       "492                                    4.694553          AUS   \n",
       "542                                    2.331712          AUT   \n",
       "692                                    4.112508          BEL   \n",
       "1542                                   6.797554          CAN   \n",
       "1592                                   1.459435          CHE   \n",
       "2177                                   2.583571          CYP   \n",
       "2227                                   3.889129          CZE   \n",
       "2277                                   2.639403          DEU   \n",
       "2427                                   1.801025          DNK   \n",
       "2727                                   2.812020          ESP   \n",
       "2777                                   2.046373          EST   \n",
       "2877                                   3.916900          FIN   \n",
       "2977                                   2.816780          FRA   \n",
       "3127                                   2.219788          GBR   \n",
       "3477                                   3.141274          GRC   \n",
       "3677                                   2.972333          HKG   \n",
       "3777                                   2.432528          HRV   \n",
       "4027                                   1.088466          IRL   \n",
       "4227                                   2.530676          ISR   \n",
       "4277                                   2.416807          ITA   \n",
       "4427                                   3.176277          JPN   \n",
       "4777                                   5.249953          KOR   \n",
       "5227                                   2.294663          LTU   \n",
       "5277                                   2.086272          LUX   \n",
       "5327                                   2.105013          LVA   \n",
       "5377                                   1.366373          MAC   \n",
       "5827                                   4.896547          MLT   \n",
       "6477                                   3.291872          NLD   \n",
       "6527                                   3.128804          NOR   \n",
       "6677                                   2.892850          NZL   \n",
       "7127                                   3.696444          PRI   \n",
       "7177                                   2.346911          PRT   \n",
       "7677                                   6.200687          SGP   \n",
       "8177                                   2.731270          SVK   \n",
       "8227                                   2.988361          SVN   \n",
       "8277                                   2.866732          SWE   \n",
       "9027                                   3.530398          TWN   \n",
       "9277                                   4.463611          USA   \n",
       "\n",
       "              country/region_y Real GDP growth (Annual percent change)  \\\n",
       "492                  Australia                                     3.9   \n",
       "542                    Austria                                     4.8   \n",
       "692                    Belgium                                       3   \n",
       "1542                    Canada                                     3.8   \n",
       "1592               Switzerland                                     3.1   \n",
       "2177                    Cyprus                                     5.1   \n",
       "2227            Czech Republic                                     2.8   \n",
       "2277                   Germany                                     1.4   \n",
       "2427                   Denmark                                     1.5   \n",
       "2727                     Spain                                     6.2   \n",
       "2777                   Estonia                                     0.1   \n",
       "2877                   Finland                                     1.5   \n",
       "2977                    France                                     2.6   \n",
       "3127            United Kingdom                                     4.8   \n",
       "3477                    Greece                                     5.6   \n",
       "3677             Hong Kong SAR                                    -3.7   \n",
       "3777                   Croatia                                       7   \n",
       "4027                   Ireland                                     8.6   \n",
       "4227                    Israel                                     6.4   \n",
       "4277                     Italy                                     4.7   \n",
       "4427                     Japan                                     1.2   \n",
       "4777        Korea, Republic of                                     2.7   \n",
       "5227                 Lithuania                                     2.4   \n",
       "5277                Luxembourg                                     1.4   \n",
       "5327                    Latvia                                       3   \n",
       "5377                 Macao SAR                                   -21.4   \n",
       "5827                     Malta                                     4.1   \n",
       "6477               Netherlands                                       5   \n",
       "6527                    Norway                                       3   \n",
       "6677               New Zealand                                     2.4   \n",
       "7127               Puerto Rico                                     3.6   \n",
       "7177                  Portugal                                     6.8   \n",
       "7677                 Singapore                                     3.8   \n",
       "8177           Slovak Republic                                     1.9   \n",
       "8227                  Slovenia                                     2.7   \n",
       "8277                    Sweden                                     1.5   \n",
       "9027  Taiwan Province of China                                     2.6   \n",
       "9277             United States                                     2.5   \n",
       "\n",
       "      Energy Efficiency  \n",
       "492           -3.894747  \n",
       "542           11.856627  \n",
       "692           11.125751  \n",
       "1542          -0.460559  \n",
       "1592           1.133262  \n",
       "2177           1.292491  \n",
       "2227           5.317027  \n",
       "2277           7.598505  \n",
       "2427           1.836329  \n",
       "2727           2.914305  \n",
       "2777           6.801638  \n",
       "2877           4.518623  \n",
       "2977          11.568869  \n",
       "3127           4.706588  \n",
       "3477           2.511143  \n",
       "3677          -5.864028  \n",
       "3777          10.728737  \n",
       "4027           4.015094  \n",
       "4227           1.740459  \n",
       "4277           7.506201  \n",
       "4427           1.325350  \n",
       "4777           4.477068  \n",
       "5227          11.493099  \n",
       "5277          13.463302  \n",
       "5327          12.782656  \n",
       "5377         -34.206541  \n",
       "5827           8.166662  \n",
       "6477          14.296686  \n",
       "6527           7.008518  \n",
       "6677           5.681973  \n",
       "7127           9.835699  \n",
       "7177           3.003233  \n",
       "7677          -0.125864  \n",
       "8177          30.586376  \n",
       "8227           4.829100  \n",
       "8277           4.161460  \n",
       "9027           0.618747  \n",
       "9277           0.398643  "
      ]
     },
     "execution_count": 75,
     "metadata": {},
     "output_type": "execute_result"
    }
   ],
   "source": [
    "final_advanced=merged_ei_growth_filtered[\n",
    "    (merged_ei_growth_filtered['Year']==2022) & \n",
    "    (merged_ei_growth_filtered['Country_classification']=='Advanced Economies')\n",
    "]\n",
    "final_advanced"
   ]
  },
  {
   "cell_type": "code",
   "execution_count": 76,
   "id": "0eaf98f8-2187-420e-93e5-7c0b0beb819c",
   "metadata": {},
   "outputs": [
    {
     "data": {
      "application/vnd.plotly.v1+json": {
       "config": {
        "plotlyServerURL": "https://plot.ly"
       },
       "data": [
        {
         "hovertemplate": "country/region_y=Australia<br>Annual GDP Growth (%)=%{x}<br>Annual improvement (%)=%{y}<extra></extra>",
         "legendgroup": "Australia",
         "marker": {
          "color": "#636efa",
          "symbol": "circle"
         },
         "mode": "markers",
         "name": "Australia",
         "orientation": "v",
         "showlegend": true,
         "type": "scatter",
         "x": [
          3.9
         ],
         "xaxis": "x",
         "y": [
          -3.8947467388574797
         ],
         "yaxis": "y"
        },
        {
         "hovertemplate": "country/region_y=Australia<extra></extra>",
         "legendgroup": "Australia",
         "marker": {
          "color": "#636efa",
          "symbol": "circle"
         },
         "mode": "lines",
         "name": "Australia",
         "showlegend": false,
         "type": "scatter",
         "xaxis": "x",
         "yaxis": "y"
        },
        {
         "hovertemplate": "country/region_y=Austria<br>Annual GDP Growth (%)=%{x}<br>Annual improvement (%)=%{y}<extra></extra>",
         "legendgroup": "Austria",
         "marker": {
          "color": "#EF553B",
          "symbol": "circle"
         },
         "mode": "markers",
         "name": "Austria",
         "orientation": "v",
         "showlegend": true,
         "type": "scatter",
         "x": [
          4.8
         ],
         "xaxis": "x",
         "y": [
          11.856627205150161
         ],
         "yaxis": "y"
        },
        {
         "hovertemplate": "country/region_y=Austria<extra></extra>",
         "legendgroup": "Austria",
         "marker": {
          "color": "#EF553B",
          "symbol": "circle"
         },
         "mode": "lines",
         "name": "Austria",
         "showlegend": false,
         "type": "scatter",
         "xaxis": "x",
         "yaxis": "y"
        },
        {
         "hovertemplate": "country/region_y=Belgium<br>Annual GDP Growth (%)=%{x}<br>Annual improvement (%)=%{y}<extra></extra>",
         "legendgroup": "Belgium",
         "marker": {
          "color": "#00cc96",
          "symbol": "circle"
         },
         "mode": "markers",
         "name": "Belgium",
         "orientation": "v",
         "showlegend": true,
         "type": "scatter",
         "x": [
          3
         ],
         "xaxis": "x",
         "y": [
          11.125751221099389
         ],
         "yaxis": "y"
        },
        {
         "hovertemplate": "country/region_y=Belgium<extra></extra>",
         "legendgroup": "Belgium",
         "marker": {
          "color": "#00cc96",
          "symbol": "circle"
         },
         "mode": "lines",
         "name": "Belgium",
         "showlegend": false,
         "type": "scatter",
         "xaxis": "x",
         "yaxis": "y"
        },
        {
         "hovertemplate": "country/region_y=Canada<br>Annual GDP Growth (%)=%{x}<br>Annual improvement (%)=%{y}<extra></extra>",
         "legendgroup": "Canada",
         "marker": {
          "color": "#ab63fa",
          "symbol": "circle"
         },
         "mode": "markers",
         "name": "Canada",
         "orientation": "v",
         "showlegend": true,
         "type": "scatter",
         "x": [
          3.8
         ],
         "xaxis": "x",
         "y": [
          -0.46055902429147366
         ],
         "yaxis": "y"
        },
        {
         "hovertemplate": "country/region_y=Canada<extra></extra>",
         "legendgroup": "Canada",
         "marker": {
          "color": "#ab63fa",
          "symbol": "circle"
         },
         "mode": "lines",
         "name": "Canada",
         "showlegend": false,
         "type": "scatter",
         "xaxis": "x",
         "yaxis": "y"
        },
        {
         "hovertemplate": "country/region_y=Switzerland<br>Annual GDP Growth (%)=%{x}<br>Annual improvement (%)=%{y}<extra></extra>",
         "legendgroup": "Switzerland",
         "marker": {
          "color": "#FFA15A",
          "symbol": "circle"
         },
         "mode": "markers",
         "name": "Switzerland",
         "orientation": "v",
         "showlegend": true,
         "type": "scatter",
         "x": [
          3.1
         ],
         "xaxis": "x",
         "y": [
          1.1332617514014154
         ],
         "yaxis": "y"
        },
        {
         "hovertemplate": "country/region_y=Switzerland<extra></extra>",
         "legendgroup": "Switzerland",
         "marker": {
          "color": "#FFA15A",
          "symbol": "circle"
         },
         "mode": "lines",
         "name": "Switzerland",
         "showlegend": false,
         "type": "scatter",
         "xaxis": "x",
         "yaxis": "y"
        },
        {
         "hovertemplate": "country/region_y=Cyprus<br>Annual GDP Growth (%)=%{x}<br>Annual improvement (%)=%{y}<extra></extra>",
         "legendgroup": "Cyprus",
         "marker": {
          "color": "#19d3f3",
          "symbol": "circle"
         },
         "mode": "markers",
         "name": "Cyprus",
         "orientation": "v",
         "showlegend": true,
         "type": "scatter",
         "x": [
          5.1
         ],
         "xaxis": "x",
         "y": [
          1.2924911730231803
         ],
         "yaxis": "y"
        },
        {
         "hovertemplate": "country/region_y=Cyprus<extra></extra>",
         "legendgroup": "Cyprus",
         "marker": {
          "color": "#19d3f3",
          "symbol": "circle"
         },
         "mode": "lines",
         "name": "Cyprus",
         "showlegend": false,
         "type": "scatter",
         "xaxis": "x",
         "yaxis": "y"
        },
        {
         "hovertemplate": "country/region_y=Czech Republic<br>Annual GDP Growth (%)=%{x}<br>Annual improvement (%)=%{y}<extra></extra>",
         "legendgroup": "Czech Republic",
         "marker": {
          "color": "#FF6692",
          "symbol": "circle"
         },
         "mode": "markers",
         "name": "Czech Republic",
         "orientation": "v",
         "showlegend": true,
         "type": "scatter",
         "x": [
          2.8
         ],
         "xaxis": "x",
         "y": [
          5.317026981670258
         ],
         "yaxis": "y"
        },
        {
         "hovertemplate": "country/region_y=Czech Republic<extra></extra>",
         "legendgroup": "Czech Republic",
         "marker": {
          "color": "#FF6692",
          "symbol": "circle"
         },
         "mode": "lines",
         "name": "Czech Republic",
         "showlegend": false,
         "type": "scatter",
         "xaxis": "x",
         "yaxis": "y"
        },
        {
         "hovertemplate": "country/region_y=Germany<br>Annual GDP Growth (%)=%{x}<br>Annual improvement (%)=%{y}<extra></extra>",
         "legendgroup": "Germany",
         "marker": {
          "color": "#B6E880",
          "symbol": "circle"
         },
         "mode": "markers",
         "name": "Germany",
         "orientation": "v",
         "showlegend": true,
         "type": "scatter",
         "x": [
          1.4
         ],
         "xaxis": "x",
         "y": [
          7.5985048359663026
         ],
         "yaxis": "y"
        },
        {
         "hovertemplate": "country/region_y=Germany<extra></extra>",
         "legendgroup": "Germany",
         "marker": {
          "color": "#B6E880",
          "symbol": "circle"
         },
         "mode": "lines",
         "name": "Germany",
         "showlegend": false,
         "type": "scatter",
         "xaxis": "x",
         "yaxis": "y"
        },
        {
         "hovertemplate": "country/region_y=Denmark<br>Annual GDP Growth (%)=%{x}<br>Annual improvement (%)=%{y}<extra></extra>",
         "legendgroup": "Denmark",
         "marker": {
          "color": "#FF97FF",
          "symbol": "circle"
         },
         "mode": "markers",
         "name": "Denmark",
         "orientation": "v",
         "showlegend": true,
         "type": "scatter",
         "x": [
          1.5
         ],
         "xaxis": "x",
         "y": [
          1.836328679478283
         ],
         "yaxis": "y"
        },
        {
         "hovertemplate": "country/region_y=Denmark<extra></extra>",
         "legendgroup": "Denmark",
         "marker": {
          "color": "#FF97FF",
          "symbol": "circle"
         },
         "mode": "lines",
         "name": "Denmark",
         "showlegend": false,
         "type": "scatter",
         "xaxis": "x",
         "yaxis": "y"
        },
        {
         "hovertemplate": "country/region_y=Spain<br>Annual GDP Growth (%)=%{x}<br>Annual improvement (%)=%{y}<extra></extra>",
         "legendgroup": "Spain",
         "marker": {
          "color": "#FECB52",
          "symbol": "circle"
         },
         "mode": "markers",
         "name": "Spain",
         "orientation": "v",
         "showlegend": true,
         "type": "scatter",
         "x": [
          6.2
         ],
         "xaxis": "x",
         "y": [
          2.9143046480378465
         ],
         "yaxis": "y"
        },
        {
         "hovertemplate": "country/region_y=Spain<extra></extra>",
         "legendgroup": "Spain",
         "marker": {
          "color": "#FECB52",
          "symbol": "circle"
         },
         "mode": "lines",
         "name": "Spain",
         "showlegend": false,
         "type": "scatter",
         "xaxis": "x",
         "yaxis": "y"
        },
        {
         "hovertemplate": "country/region_y=Estonia<br>Annual GDP Growth (%)=%{x}<br>Annual improvement (%)=%{y}<extra></extra>",
         "legendgroup": "Estonia",
         "marker": {
          "color": "#636efa",
          "symbol": "circle"
         },
         "mode": "markers",
         "name": "Estonia",
         "orientation": "v",
         "showlegend": true,
         "type": "scatter",
         "x": [
          0.1
         ],
         "xaxis": "x",
         "y": [
          6.801637675335925
         ],
         "yaxis": "y"
        },
        {
         "hovertemplate": "country/region_y=Estonia<extra></extra>",
         "legendgroup": "Estonia",
         "marker": {
          "color": "#636efa",
          "symbol": "circle"
         },
         "mode": "lines",
         "name": "Estonia",
         "showlegend": false,
         "type": "scatter",
         "xaxis": "x",
         "yaxis": "y"
        },
        {
         "hovertemplate": "country/region_y=Finland<br>Annual GDP Growth (%)=%{x}<br>Annual improvement (%)=%{y}<extra></extra>",
         "legendgroup": "Finland",
         "marker": {
          "color": "#EF553B",
          "symbol": "circle"
         },
         "mode": "markers",
         "name": "Finland",
         "orientation": "v",
         "showlegend": true,
         "type": "scatter",
         "x": [
          1.5
         ],
         "xaxis": "x",
         "y": [
          4.518623244952524
         ],
         "yaxis": "y"
        },
        {
         "hovertemplate": "country/region_y=Finland<extra></extra>",
         "legendgroup": "Finland",
         "marker": {
          "color": "#EF553B",
          "symbol": "circle"
         },
         "mode": "lines",
         "name": "Finland",
         "showlegend": false,
         "type": "scatter",
         "xaxis": "x",
         "yaxis": "y"
        },
        {
         "hovertemplate": "country/region_y=France<br>Annual GDP Growth (%)=%{x}<br>Annual improvement (%)=%{y}<extra></extra>",
         "legendgroup": "France",
         "marker": {
          "color": "#00cc96",
          "symbol": "circle"
         },
         "mode": "markers",
         "name": "France",
         "orientation": "v",
         "showlegend": true,
         "type": "scatter",
         "x": [
          2.6
         ],
         "xaxis": "x",
         "y": [
          11.568868823516453
         ],
         "yaxis": "y"
        },
        {
         "hovertemplate": "country/region_y=France<extra></extra>",
         "legendgroup": "France",
         "marker": {
          "color": "#00cc96",
          "symbol": "circle"
         },
         "mode": "lines",
         "name": "France",
         "showlegend": false,
         "type": "scatter",
         "xaxis": "x",
         "yaxis": "y"
        },
        {
         "hovertemplate": "country/region_y=United Kingdom<br>Annual GDP Growth (%)=%{x}<br>Annual improvement (%)=%{y}<extra></extra>",
         "legendgroup": "United Kingdom",
         "marker": {
          "color": "#ab63fa",
          "symbol": "circle"
         },
         "mode": "markers",
         "name": "United Kingdom",
         "orientation": "v",
         "showlegend": true,
         "type": "scatter",
         "x": [
          4.8
         ],
         "xaxis": "x",
         "y": [
          4.706588045307624
         ],
         "yaxis": "y"
        },
        {
         "hovertemplate": "country/region_y=United Kingdom<extra></extra>",
         "legendgroup": "United Kingdom",
         "marker": {
          "color": "#ab63fa",
          "symbol": "circle"
         },
         "mode": "lines",
         "name": "United Kingdom",
         "showlegend": false,
         "type": "scatter",
         "xaxis": "x",
         "yaxis": "y"
        },
        {
         "hovertemplate": "country/region_y=Greece<br>Annual GDP Growth (%)=%{x}<br>Annual improvement (%)=%{y}<extra></extra>",
         "legendgroup": "Greece",
         "marker": {
          "color": "#FFA15A",
          "symbol": "circle"
         },
         "mode": "markers",
         "name": "Greece",
         "orientation": "v",
         "showlegend": true,
         "type": "scatter",
         "x": [
          5.6
         ],
         "xaxis": "x",
         "y": [
          2.511142631507368
         ],
         "yaxis": "y"
        },
        {
         "hovertemplate": "country/region_y=Greece<extra></extra>",
         "legendgroup": "Greece",
         "marker": {
          "color": "#FFA15A",
          "symbol": "circle"
         },
         "mode": "lines",
         "name": "Greece",
         "showlegend": false,
         "type": "scatter",
         "xaxis": "x",
         "yaxis": "y"
        },
        {
         "hovertemplate": "country/region_y=Hong Kong SAR<br>Annual GDP Growth (%)=%{x}<br>Annual improvement (%)=%{y}<extra></extra>",
         "legendgroup": "Hong Kong SAR",
         "marker": {
          "color": "#19d3f3",
          "symbol": "circle"
         },
         "mode": "markers",
         "name": "Hong Kong SAR",
         "orientation": "v",
         "showlegend": true,
         "type": "scatter",
         "x": [
          -3.7
         ],
         "xaxis": "x",
         "y": [
          -5.8640276147278625
         ],
         "yaxis": "y"
        },
        {
         "hovertemplate": "country/region_y=Hong Kong SAR<extra></extra>",
         "legendgroup": "Hong Kong SAR",
         "marker": {
          "color": "#19d3f3",
          "symbol": "circle"
         },
         "mode": "lines",
         "name": "Hong Kong SAR",
         "showlegend": false,
         "type": "scatter",
         "xaxis": "x",
         "yaxis": "y"
        },
        {
         "hovertemplate": "country/region_y=Croatia<br>Annual GDP Growth (%)=%{x}<br>Annual improvement (%)=%{y}<extra></extra>",
         "legendgroup": "Croatia",
         "marker": {
          "color": "#FF6692",
          "symbol": "circle"
         },
         "mode": "markers",
         "name": "Croatia",
         "orientation": "v",
         "showlegend": true,
         "type": "scatter",
         "x": [
          7
         ],
         "xaxis": "x",
         "y": [
          10.728736916109781
         ],
         "yaxis": "y"
        },
        {
         "hovertemplate": "country/region_y=Croatia<extra></extra>",
         "legendgroup": "Croatia",
         "marker": {
          "color": "#FF6692",
          "symbol": "circle"
         },
         "mode": "lines",
         "name": "Croatia",
         "showlegend": false,
         "type": "scatter",
         "xaxis": "x",
         "yaxis": "y"
        },
        {
         "hovertemplate": "country/region_y=Ireland<br>Annual GDP Growth (%)=%{x}<br>Annual improvement (%)=%{y}<extra></extra>",
         "legendgroup": "Ireland",
         "marker": {
          "color": "#B6E880",
          "symbol": "circle"
         },
         "mode": "markers",
         "name": "Ireland",
         "orientation": "v",
         "showlegend": true,
         "type": "scatter",
         "x": [
          8.6
         ],
         "xaxis": "x",
         "y": [
          4.015093919065338
         ],
         "yaxis": "y"
        },
        {
         "hovertemplate": "country/region_y=Ireland<extra></extra>",
         "legendgroup": "Ireland",
         "marker": {
          "color": "#B6E880",
          "symbol": "circle"
         },
         "mode": "lines",
         "name": "Ireland",
         "showlegend": false,
         "type": "scatter",
         "xaxis": "x",
         "yaxis": "y"
        },
        {
         "hovertemplate": "country/region_y=Israel<br>Annual GDP Growth (%)=%{x}<br>Annual improvement (%)=%{y}<extra></extra>",
         "legendgroup": "Israel",
         "marker": {
          "color": "#FF97FF",
          "symbol": "circle"
         },
         "mode": "markers",
         "name": "Israel",
         "orientation": "v",
         "showlegend": true,
         "type": "scatter",
         "x": [
          6.4
         ],
         "xaxis": "x",
         "y": [
          1.74045876203055
         ],
         "yaxis": "y"
        },
        {
         "hovertemplate": "country/region_y=Israel<extra></extra>",
         "legendgroup": "Israel",
         "marker": {
          "color": "#FF97FF",
          "symbol": "circle"
         },
         "mode": "lines",
         "name": "Israel",
         "showlegend": false,
         "type": "scatter",
         "xaxis": "x",
         "yaxis": "y"
        },
        {
         "hovertemplate": "country/region_y=Italy<br>Annual GDP Growth (%)=%{x}<br>Annual improvement (%)=%{y}<extra></extra>",
         "legendgroup": "Italy",
         "marker": {
          "color": "#FECB52",
          "symbol": "circle"
         },
         "mode": "markers",
         "name": "Italy",
         "orientation": "v",
         "showlegend": true,
         "type": "scatter",
         "x": [
          4.7
         ],
         "xaxis": "x",
         "y": [
          7.506201209659524
         ],
         "yaxis": "y"
        },
        {
         "hovertemplate": "country/region_y=Italy<extra></extra>",
         "legendgroup": "Italy",
         "marker": {
          "color": "#FECB52",
          "symbol": "circle"
         },
         "mode": "lines",
         "name": "Italy",
         "showlegend": false,
         "type": "scatter",
         "xaxis": "x",
         "yaxis": "y"
        },
        {
         "hovertemplate": "country/region_y=Japan<br>Annual GDP Growth (%)=%{x}<br>Annual improvement (%)=%{y}<extra></extra>",
         "legendgroup": "Japan",
         "marker": {
          "color": "#636efa",
          "symbol": "circle"
         },
         "mode": "markers",
         "name": "Japan",
         "orientation": "v",
         "showlegend": true,
         "type": "scatter",
         "x": [
          1.2
         ],
         "xaxis": "x",
         "y": [
          1.325350162282679
         ],
         "yaxis": "y"
        },
        {
         "hovertemplate": "country/region_y=Japan<extra></extra>",
         "legendgroup": "Japan",
         "marker": {
          "color": "#636efa",
          "symbol": "circle"
         },
         "mode": "lines",
         "name": "Japan",
         "showlegend": false,
         "type": "scatter",
         "xaxis": "x",
         "yaxis": "y"
        },
        {
         "hovertemplate": "country/region_y=Korea, Republic of<br>Annual GDP Growth (%)=%{x}<br>Annual improvement (%)=%{y}<extra></extra>",
         "legendgroup": "Korea, Republic of",
         "marker": {
          "color": "#EF553B",
          "symbol": "circle"
         },
         "mode": "markers",
         "name": "Korea, Republic of",
         "orientation": "v",
         "showlegend": true,
         "type": "scatter",
         "x": [
          2.7
         ],
         "xaxis": "x",
         "y": [
          4.477067540239254
         ],
         "yaxis": "y"
        },
        {
         "hovertemplate": "country/region_y=Korea, Republic of<extra></extra>",
         "legendgroup": "Korea, Republic of",
         "marker": {
          "color": "#EF553B",
          "symbol": "circle"
         },
         "mode": "lines",
         "name": "Korea, Republic of",
         "showlegend": false,
         "type": "scatter",
         "xaxis": "x",
         "yaxis": "y"
        },
        {
         "hovertemplate": "country/region_y=Lithuania<br>Annual GDP Growth (%)=%{x}<br>Annual improvement (%)=%{y}<extra></extra>",
         "legendgroup": "Lithuania",
         "marker": {
          "color": "#00cc96",
          "symbol": "circle"
         },
         "mode": "markers",
         "name": "Lithuania",
         "orientation": "v",
         "showlegend": true,
         "type": "scatter",
         "x": [
          2.4
         ],
         "xaxis": "x",
         "y": [
          11.493099149926367
         ],
         "yaxis": "y"
        },
        {
         "hovertemplate": "country/region_y=Lithuania<extra></extra>",
         "legendgroup": "Lithuania",
         "marker": {
          "color": "#00cc96",
          "symbol": "circle"
         },
         "mode": "lines",
         "name": "Lithuania",
         "showlegend": false,
         "type": "scatter",
         "xaxis": "x",
         "yaxis": "y"
        },
        {
         "hovertemplate": "country/region_y=Luxembourg<br>Annual GDP Growth (%)=%{x}<br>Annual improvement (%)=%{y}<extra></extra>",
         "legendgroup": "Luxembourg",
         "marker": {
          "color": "#ab63fa",
          "symbol": "circle"
         },
         "mode": "markers",
         "name": "Luxembourg",
         "orientation": "v",
         "showlegend": true,
         "type": "scatter",
         "x": [
          1.4
         ],
         "xaxis": "x",
         "y": [
          13.463301916782077
         ],
         "yaxis": "y"
        },
        {
         "hovertemplate": "country/region_y=Luxembourg<extra></extra>",
         "legendgroup": "Luxembourg",
         "marker": {
          "color": "#ab63fa",
          "symbol": "circle"
         },
         "mode": "lines",
         "name": "Luxembourg",
         "showlegend": false,
         "type": "scatter",
         "xaxis": "x",
         "yaxis": "y"
        },
        {
         "hovertemplate": "country/region_y=Latvia<br>Annual GDP Growth (%)=%{x}<br>Annual improvement (%)=%{y}<extra></extra>",
         "legendgroup": "Latvia",
         "marker": {
          "color": "#FFA15A",
          "symbol": "circle"
         },
         "mode": "markers",
         "name": "Latvia",
         "orientation": "v",
         "showlegend": true,
         "type": "scatter",
         "x": [
          3
         ],
         "xaxis": "x",
         "y": [
          12.782656324544783
         ],
         "yaxis": "y"
        },
        {
         "hovertemplate": "country/region_y=Latvia<extra></extra>",
         "legendgroup": "Latvia",
         "marker": {
          "color": "#FFA15A",
          "symbol": "circle"
         },
         "mode": "lines",
         "name": "Latvia",
         "showlegend": false,
         "type": "scatter",
         "xaxis": "x",
         "yaxis": "y"
        },
        {
         "hovertemplate": "country/region_y=Macao SAR<br>Annual GDP Growth (%)=%{x}<br>Annual improvement (%)=%{y}<extra></extra>",
         "legendgroup": "Macao SAR",
         "marker": {
          "color": "#19d3f3",
          "symbol": "circle"
         },
         "mode": "markers",
         "name": "Macao SAR",
         "orientation": "v",
         "showlegend": true,
         "type": "scatter",
         "x": [
          -21.4
         ],
         "xaxis": "x",
         "y": [
          -34.206541078824394
         ],
         "yaxis": "y"
        },
        {
         "hovertemplate": "country/region_y=Macao SAR<extra></extra>",
         "legendgroup": "Macao SAR",
         "marker": {
          "color": "#19d3f3",
          "symbol": "circle"
         },
         "mode": "lines",
         "name": "Macao SAR",
         "showlegend": false,
         "type": "scatter",
         "xaxis": "x",
         "yaxis": "y"
        },
        {
         "hovertemplate": "country/region_y=Malta<br>Annual GDP Growth (%)=%{x}<br>Annual improvement (%)=%{y}<extra></extra>",
         "legendgroup": "Malta",
         "marker": {
          "color": "#FF6692",
          "symbol": "circle"
         },
         "mode": "markers",
         "name": "Malta",
         "orientation": "v",
         "showlegend": true,
         "type": "scatter",
         "x": [
          4.1
         ],
         "xaxis": "x",
         "y": [
          8.166661864833857
         ],
         "yaxis": "y"
        },
        {
         "hovertemplate": "country/region_y=Malta<extra></extra>",
         "legendgroup": "Malta",
         "marker": {
          "color": "#FF6692",
          "symbol": "circle"
         },
         "mode": "lines",
         "name": "Malta",
         "showlegend": false,
         "type": "scatter",
         "xaxis": "x",
         "yaxis": "y"
        },
        {
         "hovertemplate": "country/region_y=Netherlands<br>Annual GDP Growth (%)=%{x}<br>Annual improvement (%)=%{y}<extra></extra>",
         "legendgroup": "Netherlands",
         "marker": {
          "color": "#B6E880",
          "symbol": "circle"
         },
         "mode": "markers",
         "name": "Netherlands",
         "orientation": "v",
         "showlegend": true,
         "type": "scatter",
         "x": [
          5
         ],
         "xaxis": "x",
         "y": [
          14.296685532696285
         ],
         "yaxis": "y"
        },
        {
         "hovertemplate": "country/region_y=Netherlands<extra></extra>",
         "legendgroup": "Netherlands",
         "marker": {
          "color": "#B6E880",
          "symbol": "circle"
         },
         "mode": "lines",
         "name": "Netherlands",
         "showlegend": false,
         "type": "scatter",
         "xaxis": "x",
         "yaxis": "y"
        },
        {
         "hovertemplate": "country/region_y=Norway<br>Annual GDP Growth (%)=%{x}<br>Annual improvement (%)=%{y}<extra></extra>",
         "legendgroup": "Norway",
         "marker": {
          "color": "#FF97FF",
          "symbol": "circle"
         },
         "mode": "markers",
         "name": "Norway",
         "orientation": "v",
         "showlegend": true,
         "type": "scatter",
         "x": [
          3
         ],
         "xaxis": "x",
         "y": [
          7.0085177000454575
         ],
         "yaxis": "y"
        },
        {
         "hovertemplate": "country/region_y=Norway<extra></extra>",
         "legendgroup": "Norway",
         "marker": {
          "color": "#FF97FF",
          "symbol": "circle"
         },
         "mode": "lines",
         "name": "Norway",
         "showlegend": false,
         "type": "scatter",
         "xaxis": "x",
         "yaxis": "y"
        },
        {
         "hovertemplate": "country/region_y=New Zealand<br>Annual GDP Growth (%)=%{x}<br>Annual improvement (%)=%{y}<extra></extra>",
         "legendgroup": "New Zealand",
         "marker": {
          "color": "#FECB52",
          "symbol": "circle"
         },
         "mode": "markers",
         "name": "New Zealand",
         "orientation": "v",
         "showlegend": true,
         "type": "scatter",
         "x": [
          2.4
         ],
         "xaxis": "x",
         "y": [
          5.681973122978922
         ],
         "yaxis": "y"
        },
        {
         "hovertemplate": "country/region_y=New Zealand<extra></extra>",
         "legendgroup": "New Zealand",
         "marker": {
          "color": "#FECB52",
          "symbol": "circle"
         },
         "mode": "lines",
         "name": "New Zealand",
         "showlegend": false,
         "type": "scatter",
         "xaxis": "x",
         "yaxis": "y"
        },
        {
         "hovertemplate": "country/region_y=Puerto Rico<br>Annual GDP Growth (%)=%{x}<br>Annual improvement (%)=%{y}<extra></extra>",
         "legendgroup": "Puerto Rico",
         "marker": {
          "color": "#636efa",
          "symbol": "circle"
         },
         "mode": "markers",
         "name": "Puerto Rico",
         "orientation": "v",
         "showlegend": true,
         "type": "scatter",
         "x": [
          3.6
         ],
         "xaxis": "x",
         "y": [
          9.835699094923623
         ],
         "yaxis": "y"
        },
        {
         "hovertemplate": "country/region_y=Puerto Rico<extra></extra>",
         "legendgroup": "Puerto Rico",
         "marker": {
          "color": "#636efa",
          "symbol": "circle"
         },
         "mode": "lines",
         "name": "Puerto Rico",
         "showlegend": false,
         "type": "scatter",
         "xaxis": "x",
         "yaxis": "y"
        },
        {
         "hovertemplate": "country/region_y=Portugal<br>Annual GDP Growth (%)=%{x}<br>Annual improvement (%)=%{y}<extra></extra>",
         "legendgroup": "Portugal",
         "marker": {
          "color": "#EF553B",
          "symbol": "circle"
         },
         "mode": "markers",
         "name": "Portugal",
         "orientation": "v",
         "showlegend": true,
         "type": "scatter",
         "x": [
          6.8
         ],
         "xaxis": "x",
         "y": [
          3.0032327357864874
         ],
         "yaxis": "y"
        },
        {
         "hovertemplate": "country/region_y=Portugal<extra></extra>",
         "legendgroup": "Portugal",
         "marker": {
          "color": "#EF553B",
          "symbol": "circle"
         },
         "mode": "lines",
         "name": "Portugal",
         "showlegend": false,
         "type": "scatter",
         "xaxis": "x",
         "yaxis": "y"
        },
        {
         "hovertemplate": "country/region_y=Singapore<br>Annual GDP Growth (%)=%{x}<br>Annual improvement (%)=%{y}<extra></extra>",
         "legendgroup": "Singapore",
         "marker": {
          "color": "#00cc96",
          "symbol": "circle"
         },
         "mode": "markers",
         "name": "Singapore",
         "orientation": "v",
         "showlegend": true,
         "type": "scatter",
         "x": [
          3.8
         ],
         "xaxis": "x",
         "y": [
          -0.12586401436394112
         ],
         "yaxis": "y"
        },
        {
         "hovertemplate": "country/region_y=Singapore<extra></extra>",
         "legendgroup": "Singapore",
         "marker": {
          "color": "#00cc96",
          "symbol": "circle"
         },
         "mode": "lines",
         "name": "Singapore",
         "showlegend": false,
         "type": "scatter",
         "xaxis": "x",
         "yaxis": "y"
        },
        {
         "hovertemplate": "country/region_y=Slovak Republic<br>Annual GDP Growth (%)=%{x}<br>Annual improvement (%)=%{y}<extra></extra>",
         "legendgroup": "Slovak Republic",
         "marker": {
          "color": "#ab63fa",
          "symbol": "circle"
         },
         "mode": "markers",
         "name": "Slovak Republic",
         "orientation": "v",
         "showlegend": true,
         "type": "scatter",
         "x": [
          1.9
         ],
         "xaxis": "x",
         "y": [
          30.586375912959063
         ],
         "yaxis": "y"
        },
        {
         "hovertemplate": "country/region_y=Slovak Republic<extra></extra>",
         "legendgroup": "Slovak Republic",
         "marker": {
          "color": "#ab63fa",
          "symbol": "circle"
         },
         "mode": "lines",
         "name": "Slovak Republic",
         "showlegend": false,
         "type": "scatter",
         "xaxis": "x",
         "yaxis": "y"
        },
        {
         "hovertemplate": "country/region_y=Slovenia<br>Annual GDP Growth (%)=%{x}<br>Annual improvement (%)=%{y}<extra></extra>",
         "legendgroup": "Slovenia",
         "marker": {
          "color": "#FFA15A",
          "symbol": "circle"
         },
         "mode": "markers",
         "name": "Slovenia",
         "orientation": "v",
         "showlegend": true,
         "type": "scatter",
         "x": [
          2.7
         ],
         "xaxis": "x",
         "y": [
          4.829100184583945
         ],
         "yaxis": "y"
        },
        {
         "hovertemplate": "country/region_y=Slovenia<extra></extra>",
         "legendgroup": "Slovenia",
         "marker": {
          "color": "#FFA15A",
          "symbol": "circle"
         },
         "mode": "lines",
         "name": "Slovenia",
         "showlegend": false,
         "type": "scatter",
         "xaxis": "x",
         "yaxis": "y"
        },
        {
         "hovertemplate": "country/region_y=Sweden<br>Annual GDP Growth (%)=%{x}<br>Annual improvement (%)=%{y}<extra></extra>",
         "legendgroup": "Sweden",
         "marker": {
          "color": "#19d3f3",
          "symbol": "circle"
         },
         "mode": "markers",
         "name": "Sweden",
         "orientation": "v",
         "showlegend": true,
         "type": "scatter",
         "x": [
          1.5
         ],
         "xaxis": "x",
         "y": [
          4.1614599213876335
         ],
         "yaxis": "y"
        },
        {
         "hovertemplate": "country/region_y=Sweden<extra></extra>",
         "legendgroup": "Sweden",
         "marker": {
          "color": "#19d3f3",
          "symbol": "circle"
         },
         "mode": "lines",
         "name": "Sweden",
         "showlegend": false,
         "type": "scatter",
         "xaxis": "x",
         "yaxis": "y"
        },
        {
         "hovertemplate": "country/region_y=Taiwan Province of China<br>Annual GDP Growth (%)=%{x}<br>Annual improvement (%)=%{y}<extra></extra>",
         "legendgroup": "Taiwan Province of China",
         "marker": {
          "color": "#FF6692",
          "symbol": "circle"
         },
         "mode": "markers",
         "name": "Taiwan Province of China",
         "orientation": "v",
         "showlegend": true,
         "type": "scatter",
         "x": [
          2.6
         ],
         "xaxis": "x",
         "y": [
          0.6187470300945574
         ],
         "yaxis": "y"
        },
        {
         "hovertemplate": "country/region_y=Taiwan Province of China<extra></extra>",
         "legendgroup": "Taiwan Province of China",
         "marker": {
          "color": "#FF6692",
          "symbol": "circle"
         },
         "mode": "lines",
         "name": "Taiwan Province of China",
         "showlegend": false,
         "type": "scatter",
         "xaxis": "x",
         "yaxis": "y"
        },
        {
         "hovertemplate": "country/region_y=United States<br>Annual GDP Growth (%)=%{x}<br>Annual improvement (%)=%{y}<extra></extra>",
         "legendgroup": "United States",
         "marker": {
          "color": "#B6E880",
          "symbol": "circle"
         },
         "mode": "markers",
         "name": "United States",
         "orientation": "v",
         "showlegend": true,
         "type": "scatter",
         "x": [
          2.5
         ],
         "xaxis": "x",
         "y": [
          0.3986427527830738
         ],
         "yaxis": "y"
        },
        {
         "hovertemplate": "country/region_y=United States<extra></extra>",
         "legendgroup": "United States",
         "marker": {
          "color": "#B6E880",
          "symbol": "circle"
         },
         "mode": "lines",
         "name": "United States",
         "showlegend": false,
         "type": "scatter",
         "xaxis": "x",
         "yaxis": "y"
        }
       ],
       "layout": {
        "legend": {
         "title": {
          "text": "country/region_y"
         },
         "tracegroupgap": 0
        },
        "template": {
         "data": {
          "bar": [
           {
            "error_x": {
             "color": "#2a3f5f"
            },
            "error_y": {
             "color": "#2a3f5f"
            },
            "marker": {
             "line": {
              "color": "#E5ECF6",
              "width": 0.5
             },
             "pattern": {
              "fillmode": "overlay",
              "size": 10,
              "solidity": 0.2
             }
            },
            "type": "bar"
           }
          ],
          "barpolar": [
           {
            "marker": {
             "line": {
              "color": "#E5ECF6",
              "width": 0.5
             },
             "pattern": {
              "fillmode": "overlay",
              "size": 10,
              "solidity": 0.2
             }
            },
            "type": "barpolar"
           }
          ],
          "carpet": [
           {
            "aaxis": {
             "endlinecolor": "#2a3f5f",
             "gridcolor": "white",
             "linecolor": "white",
             "minorgridcolor": "white",
             "startlinecolor": "#2a3f5f"
            },
            "baxis": {
             "endlinecolor": "#2a3f5f",
             "gridcolor": "white",
             "linecolor": "white",
             "minorgridcolor": "white",
             "startlinecolor": "#2a3f5f"
            },
            "type": "carpet"
           }
          ],
          "choropleth": [
           {
            "colorbar": {
             "outlinewidth": 0,
             "ticks": ""
            },
            "type": "choropleth"
           }
          ],
          "contour": [
           {
            "colorbar": {
             "outlinewidth": 0,
             "ticks": ""
            },
            "colorscale": [
             [
              0,
              "#0d0887"
             ],
             [
              0.1111111111111111,
              "#46039f"
             ],
             [
              0.2222222222222222,
              "#7201a8"
             ],
             [
              0.3333333333333333,
              "#9c179e"
             ],
             [
              0.4444444444444444,
              "#bd3786"
             ],
             [
              0.5555555555555556,
              "#d8576b"
             ],
             [
              0.6666666666666666,
              "#ed7953"
             ],
             [
              0.7777777777777778,
              "#fb9f3a"
             ],
             [
              0.8888888888888888,
              "#fdca26"
             ],
             [
              1,
              "#f0f921"
             ]
            ],
            "type": "contour"
           }
          ],
          "contourcarpet": [
           {
            "colorbar": {
             "outlinewidth": 0,
             "ticks": ""
            },
            "type": "contourcarpet"
           }
          ],
          "heatmap": [
           {
            "colorbar": {
             "outlinewidth": 0,
             "ticks": ""
            },
            "colorscale": [
             [
              0,
              "#0d0887"
             ],
             [
              0.1111111111111111,
              "#46039f"
             ],
             [
              0.2222222222222222,
              "#7201a8"
             ],
             [
              0.3333333333333333,
              "#9c179e"
             ],
             [
              0.4444444444444444,
              "#bd3786"
             ],
             [
              0.5555555555555556,
              "#d8576b"
             ],
             [
              0.6666666666666666,
              "#ed7953"
             ],
             [
              0.7777777777777778,
              "#fb9f3a"
             ],
             [
              0.8888888888888888,
              "#fdca26"
             ],
             [
              1,
              "#f0f921"
             ]
            ],
            "type": "heatmap"
           }
          ],
          "heatmapgl": [
           {
            "colorbar": {
             "outlinewidth": 0,
             "ticks": ""
            },
            "colorscale": [
             [
              0,
              "#0d0887"
             ],
             [
              0.1111111111111111,
              "#46039f"
             ],
             [
              0.2222222222222222,
              "#7201a8"
             ],
             [
              0.3333333333333333,
              "#9c179e"
             ],
             [
              0.4444444444444444,
              "#bd3786"
             ],
             [
              0.5555555555555556,
              "#d8576b"
             ],
             [
              0.6666666666666666,
              "#ed7953"
             ],
             [
              0.7777777777777778,
              "#fb9f3a"
             ],
             [
              0.8888888888888888,
              "#fdca26"
             ],
             [
              1,
              "#f0f921"
             ]
            ],
            "type": "heatmapgl"
           }
          ],
          "histogram": [
           {
            "marker": {
             "pattern": {
              "fillmode": "overlay",
              "size": 10,
              "solidity": 0.2
             }
            },
            "type": "histogram"
           }
          ],
          "histogram2d": [
           {
            "colorbar": {
             "outlinewidth": 0,
             "ticks": ""
            },
            "colorscale": [
             [
              0,
              "#0d0887"
             ],
             [
              0.1111111111111111,
              "#46039f"
             ],
             [
              0.2222222222222222,
              "#7201a8"
             ],
             [
              0.3333333333333333,
              "#9c179e"
             ],
             [
              0.4444444444444444,
              "#bd3786"
             ],
             [
              0.5555555555555556,
              "#d8576b"
             ],
             [
              0.6666666666666666,
              "#ed7953"
             ],
             [
              0.7777777777777778,
              "#fb9f3a"
             ],
             [
              0.8888888888888888,
              "#fdca26"
             ],
             [
              1,
              "#f0f921"
             ]
            ],
            "type": "histogram2d"
           }
          ],
          "histogram2dcontour": [
           {
            "colorbar": {
             "outlinewidth": 0,
             "ticks": ""
            },
            "colorscale": [
             [
              0,
              "#0d0887"
             ],
             [
              0.1111111111111111,
              "#46039f"
             ],
             [
              0.2222222222222222,
              "#7201a8"
             ],
             [
              0.3333333333333333,
              "#9c179e"
             ],
             [
              0.4444444444444444,
              "#bd3786"
             ],
             [
              0.5555555555555556,
              "#d8576b"
             ],
             [
              0.6666666666666666,
              "#ed7953"
             ],
             [
              0.7777777777777778,
              "#fb9f3a"
             ],
             [
              0.8888888888888888,
              "#fdca26"
             ],
             [
              1,
              "#f0f921"
             ]
            ],
            "type": "histogram2dcontour"
           }
          ],
          "mesh3d": [
           {
            "colorbar": {
             "outlinewidth": 0,
             "ticks": ""
            },
            "type": "mesh3d"
           }
          ],
          "parcoords": [
           {
            "line": {
             "colorbar": {
              "outlinewidth": 0,
              "ticks": ""
             }
            },
            "type": "parcoords"
           }
          ],
          "pie": [
           {
            "automargin": true,
            "type": "pie"
           }
          ],
          "scatter": [
           {
            "fillpattern": {
             "fillmode": "overlay",
             "size": 10,
             "solidity": 0.2
            },
            "type": "scatter"
           }
          ],
          "scatter3d": [
           {
            "line": {
             "colorbar": {
              "outlinewidth": 0,
              "ticks": ""
             }
            },
            "marker": {
             "colorbar": {
              "outlinewidth": 0,
              "ticks": ""
             }
            },
            "type": "scatter3d"
           }
          ],
          "scattercarpet": [
           {
            "marker": {
             "colorbar": {
              "outlinewidth": 0,
              "ticks": ""
             }
            },
            "type": "scattercarpet"
           }
          ],
          "scattergeo": [
           {
            "marker": {
             "colorbar": {
              "outlinewidth": 0,
              "ticks": ""
             }
            },
            "type": "scattergeo"
           }
          ],
          "scattergl": [
           {
            "marker": {
             "colorbar": {
              "outlinewidth": 0,
              "ticks": ""
             }
            },
            "type": "scattergl"
           }
          ],
          "scattermapbox": [
           {
            "marker": {
             "colorbar": {
              "outlinewidth": 0,
              "ticks": ""
             }
            },
            "type": "scattermapbox"
           }
          ],
          "scatterpolar": [
           {
            "marker": {
             "colorbar": {
              "outlinewidth": 0,
              "ticks": ""
             }
            },
            "type": "scatterpolar"
           }
          ],
          "scatterpolargl": [
           {
            "marker": {
             "colorbar": {
              "outlinewidth": 0,
              "ticks": ""
             }
            },
            "type": "scatterpolargl"
           }
          ],
          "scatterternary": [
           {
            "marker": {
             "colorbar": {
              "outlinewidth": 0,
              "ticks": ""
             }
            },
            "type": "scatterternary"
           }
          ],
          "surface": [
           {
            "colorbar": {
             "outlinewidth": 0,
             "ticks": ""
            },
            "colorscale": [
             [
              0,
              "#0d0887"
             ],
             [
              0.1111111111111111,
              "#46039f"
             ],
             [
              0.2222222222222222,
              "#7201a8"
             ],
             [
              0.3333333333333333,
              "#9c179e"
             ],
             [
              0.4444444444444444,
              "#bd3786"
             ],
             [
              0.5555555555555556,
              "#d8576b"
             ],
             [
              0.6666666666666666,
              "#ed7953"
             ],
             [
              0.7777777777777778,
              "#fb9f3a"
             ],
             [
              0.8888888888888888,
              "#fdca26"
             ],
             [
              1,
              "#f0f921"
             ]
            ],
            "type": "surface"
           }
          ],
          "table": [
           {
            "cells": {
             "fill": {
              "color": "#EBF0F8"
             },
             "line": {
              "color": "white"
             }
            },
            "header": {
             "fill": {
              "color": "#C8D4E3"
             },
             "line": {
              "color": "white"
             }
            },
            "type": "table"
           }
          ]
         },
         "layout": {
          "annotationdefaults": {
           "arrowcolor": "#2a3f5f",
           "arrowhead": 0,
           "arrowwidth": 1
          },
          "autotypenumbers": "strict",
          "coloraxis": {
           "colorbar": {
            "outlinewidth": 0,
            "ticks": ""
           }
          },
          "colorscale": {
           "diverging": [
            [
             0,
             "#8e0152"
            ],
            [
             0.1,
             "#c51b7d"
            ],
            [
             0.2,
             "#de77ae"
            ],
            [
             0.3,
             "#f1b6da"
            ],
            [
             0.4,
             "#fde0ef"
            ],
            [
             0.5,
             "#f7f7f7"
            ],
            [
             0.6,
             "#e6f5d0"
            ],
            [
             0.7,
             "#b8e186"
            ],
            [
             0.8,
             "#7fbc41"
            ],
            [
             0.9,
             "#4d9221"
            ],
            [
             1,
             "#276419"
            ]
           ],
           "sequential": [
            [
             0,
             "#0d0887"
            ],
            [
             0.1111111111111111,
             "#46039f"
            ],
            [
             0.2222222222222222,
             "#7201a8"
            ],
            [
             0.3333333333333333,
             "#9c179e"
            ],
            [
             0.4444444444444444,
             "#bd3786"
            ],
            [
             0.5555555555555556,
             "#d8576b"
            ],
            [
             0.6666666666666666,
             "#ed7953"
            ],
            [
             0.7777777777777778,
             "#fb9f3a"
            ],
            [
             0.8888888888888888,
             "#fdca26"
            ],
            [
             1,
             "#f0f921"
            ]
           ],
           "sequentialminus": [
            [
             0,
             "#0d0887"
            ],
            [
             0.1111111111111111,
             "#46039f"
            ],
            [
             0.2222222222222222,
             "#7201a8"
            ],
            [
             0.3333333333333333,
             "#9c179e"
            ],
            [
             0.4444444444444444,
             "#bd3786"
            ],
            [
             0.5555555555555556,
             "#d8576b"
            ],
            [
             0.6666666666666666,
             "#ed7953"
            ],
            [
             0.7777777777777778,
             "#fb9f3a"
            ],
            [
             0.8888888888888888,
             "#fdca26"
            ],
            [
             1,
             "#f0f921"
            ]
           ]
          },
          "colorway": [
           "#636efa",
           "#EF553B",
           "#00cc96",
           "#ab63fa",
           "#FFA15A",
           "#19d3f3",
           "#FF6692",
           "#B6E880",
           "#FF97FF",
           "#FECB52"
          ],
          "font": {
           "color": "#2a3f5f"
          },
          "geo": {
           "bgcolor": "white",
           "lakecolor": "white",
           "landcolor": "#E5ECF6",
           "showlakes": true,
           "showland": true,
           "subunitcolor": "white"
          },
          "hoverlabel": {
           "align": "left"
          },
          "hovermode": "closest",
          "mapbox": {
           "style": "light"
          },
          "paper_bgcolor": "white",
          "plot_bgcolor": "#E5ECF6",
          "polar": {
           "angularaxis": {
            "gridcolor": "white",
            "linecolor": "white",
            "ticks": ""
           },
           "bgcolor": "#E5ECF6",
           "radialaxis": {
            "gridcolor": "white",
            "linecolor": "white",
            "ticks": ""
           }
          },
          "scene": {
           "xaxis": {
            "backgroundcolor": "#E5ECF6",
            "gridcolor": "white",
            "gridwidth": 2,
            "linecolor": "white",
            "showbackground": true,
            "ticks": "",
            "zerolinecolor": "white"
           },
           "yaxis": {
            "backgroundcolor": "#E5ECF6",
            "gridcolor": "white",
            "gridwidth": 2,
            "linecolor": "white",
            "showbackground": true,
            "ticks": "",
            "zerolinecolor": "white"
           },
           "zaxis": {
            "backgroundcolor": "#E5ECF6",
            "gridcolor": "white",
            "gridwidth": 2,
            "linecolor": "white",
            "showbackground": true,
            "ticks": "",
            "zerolinecolor": "white"
           }
          },
          "shapedefaults": {
           "line": {
            "color": "#2a3f5f"
           }
          },
          "ternary": {
           "aaxis": {
            "gridcolor": "white",
            "linecolor": "white",
            "ticks": ""
           },
           "baxis": {
            "gridcolor": "white",
            "linecolor": "white",
            "ticks": ""
           },
           "bgcolor": "#E5ECF6",
           "caxis": {
            "gridcolor": "white",
            "linecolor": "white",
            "ticks": ""
           }
          },
          "title": {
           "x": 0.05
          },
          "xaxis": {
           "automargin": true,
           "gridcolor": "white",
           "linecolor": "white",
           "ticks": "",
           "title": {
            "standoff": 15
           },
           "zerolinecolor": "white",
           "zerolinewidth": 2
          },
          "yaxis": {
           "automargin": true,
           "gridcolor": "white",
           "linecolor": "white",
           "ticks": "",
           "title": {
            "standoff": 15
           },
           "zerolinecolor": "white",
           "zerolinewidth": 2
          }
         }
        },
        "title": {
         "text": "Graph 4. Energy efficiency and economic growth in Advanced Economies, 2022"
        },
        "xaxis": {
         "anchor": "y",
         "domain": [
          0,
          1
         ],
         "title": {
          "text": "Annual GDP Growth (%)"
         }
        },
        "yaxis": {
         "anchor": "x",
         "domain": [
          0,
          1
         ],
         "title": {
          "text": "Annual improvement (%)"
         }
        }
       }
      },
      "text/html": [
       "<div>                            <div id=\"7676db70-0c97-4ed6-a627-00d63c0d3cf5\" class=\"plotly-graph-div\" style=\"height:525px; width:100%;\"></div>            <script type=\"text/javascript\">                require([\"plotly\"], function(Plotly) {                    window.PLOTLYENV=window.PLOTLYENV || {};                                    if (document.getElementById(\"7676db70-0c97-4ed6-a627-00d63c0d3cf5\")) {                    Plotly.newPlot(                        \"7676db70-0c97-4ed6-a627-00d63c0d3cf5\",                        [{\"hovertemplate\":\"country\\u002fregion_y=Australia\\u003cbr\\u003eAnnual GDP Growth (%)=%{x}\\u003cbr\\u003eAnnual improvement (%)=%{y}\\u003cextra\\u003e\\u003c\\u002fextra\\u003e\",\"legendgroup\":\"Australia\",\"marker\":{\"color\":\"#636efa\",\"symbol\":\"circle\"},\"mode\":\"markers\",\"name\":\"Australia\",\"orientation\":\"v\",\"showlegend\":true,\"x\":[3.9],\"xaxis\":\"x\",\"y\":[-3.8947467388574797],\"yaxis\":\"y\",\"type\":\"scatter\"},{\"hovertemplate\":\"country\\u002fregion_y=Australia\\u003cextra\\u003e\\u003c\\u002fextra\\u003e\",\"legendgroup\":\"Australia\",\"marker\":{\"color\":\"#636efa\",\"symbol\":\"circle\"},\"mode\":\"lines\",\"name\":\"Australia\",\"showlegend\":false,\"xaxis\":\"x\",\"yaxis\":\"y\",\"type\":\"scatter\"},{\"hovertemplate\":\"country\\u002fregion_y=Austria\\u003cbr\\u003eAnnual GDP Growth (%)=%{x}\\u003cbr\\u003eAnnual improvement (%)=%{y}\\u003cextra\\u003e\\u003c\\u002fextra\\u003e\",\"legendgroup\":\"Austria\",\"marker\":{\"color\":\"#EF553B\",\"symbol\":\"circle\"},\"mode\":\"markers\",\"name\":\"Austria\",\"orientation\":\"v\",\"showlegend\":true,\"x\":[4.8],\"xaxis\":\"x\",\"y\":[11.856627205150161],\"yaxis\":\"y\",\"type\":\"scatter\"},{\"hovertemplate\":\"country\\u002fregion_y=Austria\\u003cextra\\u003e\\u003c\\u002fextra\\u003e\",\"legendgroup\":\"Austria\",\"marker\":{\"color\":\"#EF553B\",\"symbol\":\"circle\"},\"mode\":\"lines\",\"name\":\"Austria\",\"showlegend\":false,\"xaxis\":\"x\",\"yaxis\":\"y\",\"type\":\"scatter\"},{\"hovertemplate\":\"country\\u002fregion_y=Belgium\\u003cbr\\u003eAnnual GDP Growth (%)=%{x}\\u003cbr\\u003eAnnual improvement (%)=%{y}\\u003cextra\\u003e\\u003c\\u002fextra\\u003e\",\"legendgroup\":\"Belgium\",\"marker\":{\"color\":\"#00cc96\",\"symbol\":\"circle\"},\"mode\":\"markers\",\"name\":\"Belgium\",\"orientation\":\"v\",\"showlegend\":true,\"x\":[3],\"xaxis\":\"x\",\"y\":[11.125751221099389],\"yaxis\":\"y\",\"type\":\"scatter\"},{\"hovertemplate\":\"country\\u002fregion_y=Belgium\\u003cextra\\u003e\\u003c\\u002fextra\\u003e\",\"legendgroup\":\"Belgium\",\"marker\":{\"color\":\"#00cc96\",\"symbol\":\"circle\"},\"mode\":\"lines\",\"name\":\"Belgium\",\"showlegend\":false,\"xaxis\":\"x\",\"yaxis\":\"y\",\"type\":\"scatter\"},{\"hovertemplate\":\"country\\u002fregion_y=Canada\\u003cbr\\u003eAnnual GDP Growth (%)=%{x}\\u003cbr\\u003eAnnual improvement (%)=%{y}\\u003cextra\\u003e\\u003c\\u002fextra\\u003e\",\"legendgroup\":\"Canada\",\"marker\":{\"color\":\"#ab63fa\",\"symbol\":\"circle\"},\"mode\":\"markers\",\"name\":\"Canada\",\"orientation\":\"v\",\"showlegend\":true,\"x\":[3.8],\"xaxis\":\"x\",\"y\":[-0.46055902429147366],\"yaxis\":\"y\",\"type\":\"scatter\"},{\"hovertemplate\":\"country\\u002fregion_y=Canada\\u003cextra\\u003e\\u003c\\u002fextra\\u003e\",\"legendgroup\":\"Canada\",\"marker\":{\"color\":\"#ab63fa\",\"symbol\":\"circle\"},\"mode\":\"lines\",\"name\":\"Canada\",\"showlegend\":false,\"xaxis\":\"x\",\"yaxis\":\"y\",\"type\":\"scatter\"},{\"hovertemplate\":\"country\\u002fregion_y=Switzerland\\u003cbr\\u003eAnnual GDP Growth (%)=%{x}\\u003cbr\\u003eAnnual improvement (%)=%{y}\\u003cextra\\u003e\\u003c\\u002fextra\\u003e\",\"legendgroup\":\"Switzerland\",\"marker\":{\"color\":\"#FFA15A\",\"symbol\":\"circle\"},\"mode\":\"markers\",\"name\":\"Switzerland\",\"orientation\":\"v\",\"showlegend\":true,\"x\":[3.1],\"xaxis\":\"x\",\"y\":[1.1332617514014154],\"yaxis\":\"y\",\"type\":\"scatter\"},{\"hovertemplate\":\"country\\u002fregion_y=Switzerland\\u003cextra\\u003e\\u003c\\u002fextra\\u003e\",\"legendgroup\":\"Switzerland\",\"marker\":{\"color\":\"#FFA15A\",\"symbol\":\"circle\"},\"mode\":\"lines\",\"name\":\"Switzerland\",\"showlegend\":false,\"xaxis\":\"x\",\"yaxis\":\"y\",\"type\":\"scatter\"},{\"hovertemplate\":\"country\\u002fregion_y=Cyprus\\u003cbr\\u003eAnnual GDP Growth (%)=%{x}\\u003cbr\\u003eAnnual improvement (%)=%{y}\\u003cextra\\u003e\\u003c\\u002fextra\\u003e\",\"legendgroup\":\"Cyprus\",\"marker\":{\"color\":\"#19d3f3\",\"symbol\":\"circle\"},\"mode\":\"markers\",\"name\":\"Cyprus\",\"orientation\":\"v\",\"showlegend\":true,\"x\":[5.1],\"xaxis\":\"x\",\"y\":[1.2924911730231803],\"yaxis\":\"y\",\"type\":\"scatter\"},{\"hovertemplate\":\"country\\u002fregion_y=Cyprus\\u003cextra\\u003e\\u003c\\u002fextra\\u003e\",\"legendgroup\":\"Cyprus\",\"marker\":{\"color\":\"#19d3f3\",\"symbol\":\"circle\"},\"mode\":\"lines\",\"name\":\"Cyprus\",\"showlegend\":false,\"xaxis\":\"x\",\"yaxis\":\"y\",\"type\":\"scatter\"},{\"hovertemplate\":\"country\\u002fregion_y=Czech Republic\\u003cbr\\u003eAnnual GDP Growth (%)=%{x}\\u003cbr\\u003eAnnual improvement (%)=%{y}\\u003cextra\\u003e\\u003c\\u002fextra\\u003e\",\"legendgroup\":\"Czech Republic\",\"marker\":{\"color\":\"#FF6692\",\"symbol\":\"circle\"},\"mode\":\"markers\",\"name\":\"Czech Republic\",\"orientation\":\"v\",\"showlegend\":true,\"x\":[2.8],\"xaxis\":\"x\",\"y\":[5.317026981670258],\"yaxis\":\"y\",\"type\":\"scatter\"},{\"hovertemplate\":\"country\\u002fregion_y=Czech Republic\\u003cextra\\u003e\\u003c\\u002fextra\\u003e\",\"legendgroup\":\"Czech Republic\",\"marker\":{\"color\":\"#FF6692\",\"symbol\":\"circle\"},\"mode\":\"lines\",\"name\":\"Czech Republic\",\"showlegend\":false,\"xaxis\":\"x\",\"yaxis\":\"y\",\"type\":\"scatter\"},{\"hovertemplate\":\"country\\u002fregion_y=Germany\\u003cbr\\u003eAnnual GDP Growth (%)=%{x}\\u003cbr\\u003eAnnual improvement (%)=%{y}\\u003cextra\\u003e\\u003c\\u002fextra\\u003e\",\"legendgroup\":\"Germany\",\"marker\":{\"color\":\"#B6E880\",\"symbol\":\"circle\"},\"mode\":\"markers\",\"name\":\"Germany\",\"orientation\":\"v\",\"showlegend\":true,\"x\":[1.4],\"xaxis\":\"x\",\"y\":[7.5985048359663026],\"yaxis\":\"y\",\"type\":\"scatter\"},{\"hovertemplate\":\"country\\u002fregion_y=Germany\\u003cextra\\u003e\\u003c\\u002fextra\\u003e\",\"legendgroup\":\"Germany\",\"marker\":{\"color\":\"#B6E880\",\"symbol\":\"circle\"},\"mode\":\"lines\",\"name\":\"Germany\",\"showlegend\":false,\"xaxis\":\"x\",\"yaxis\":\"y\",\"type\":\"scatter\"},{\"hovertemplate\":\"country\\u002fregion_y=Denmark\\u003cbr\\u003eAnnual GDP Growth (%)=%{x}\\u003cbr\\u003eAnnual improvement (%)=%{y}\\u003cextra\\u003e\\u003c\\u002fextra\\u003e\",\"legendgroup\":\"Denmark\",\"marker\":{\"color\":\"#FF97FF\",\"symbol\":\"circle\"},\"mode\":\"markers\",\"name\":\"Denmark\",\"orientation\":\"v\",\"showlegend\":true,\"x\":[1.5],\"xaxis\":\"x\",\"y\":[1.836328679478283],\"yaxis\":\"y\",\"type\":\"scatter\"},{\"hovertemplate\":\"country\\u002fregion_y=Denmark\\u003cextra\\u003e\\u003c\\u002fextra\\u003e\",\"legendgroup\":\"Denmark\",\"marker\":{\"color\":\"#FF97FF\",\"symbol\":\"circle\"},\"mode\":\"lines\",\"name\":\"Denmark\",\"showlegend\":false,\"xaxis\":\"x\",\"yaxis\":\"y\",\"type\":\"scatter\"},{\"hovertemplate\":\"country\\u002fregion_y=Spain\\u003cbr\\u003eAnnual GDP Growth (%)=%{x}\\u003cbr\\u003eAnnual improvement (%)=%{y}\\u003cextra\\u003e\\u003c\\u002fextra\\u003e\",\"legendgroup\":\"Spain\",\"marker\":{\"color\":\"#FECB52\",\"symbol\":\"circle\"},\"mode\":\"markers\",\"name\":\"Spain\",\"orientation\":\"v\",\"showlegend\":true,\"x\":[6.2],\"xaxis\":\"x\",\"y\":[2.9143046480378465],\"yaxis\":\"y\",\"type\":\"scatter\"},{\"hovertemplate\":\"country\\u002fregion_y=Spain\\u003cextra\\u003e\\u003c\\u002fextra\\u003e\",\"legendgroup\":\"Spain\",\"marker\":{\"color\":\"#FECB52\",\"symbol\":\"circle\"},\"mode\":\"lines\",\"name\":\"Spain\",\"showlegend\":false,\"xaxis\":\"x\",\"yaxis\":\"y\",\"type\":\"scatter\"},{\"hovertemplate\":\"country\\u002fregion_y=Estonia\\u003cbr\\u003eAnnual GDP Growth (%)=%{x}\\u003cbr\\u003eAnnual improvement (%)=%{y}\\u003cextra\\u003e\\u003c\\u002fextra\\u003e\",\"legendgroup\":\"Estonia\",\"marker\":{\"color\":\"#636efa\",\"symbol\":\"circle\"},\"mode\":\"markers\",\"name\":\"Estonia\",\"orientation\":\"v\",\"showlegend\":true,\"x\":[0.1],\"xaxis\":\"x\",\"y\":[6.801637675335925],\"yaxis\":\"y\",\"type\":\"scatter\"},{\"hovertemplate\":\"country\\u002fregion_y=Estonia\\u003cextra\\u003e\\u003c\\u002fextra\\u003e\",\"legendgroup\":\"Estonia\",\"marker\":{\"color\":\"#636efa\",\"symbol\":\"circle\"},\"mode\":\"lines\",\"name\":\"Estonia\",\"showlegend\":false,\"xaxis\":\"x\",\"yaxis\":\"y\",\"type\":\"scatter\"},{\"hovertemplate\":\"country\\u002fregion_y=Finland\\u003cbr\\u003eAnnual GDP Growth (%)=%{x}\\u003cbr\\u003eAnnual improvement (%)=%{y}\\u003cextra\\u003e\\u003c\\u002fextra\\u003e\",\"legendgroup\":\"Finland\",\"marker\":{\"color\":\"#EF553B\",\"symbol\":\"circle\"},\"mode\":\"markers\",\"name\":\"Finland\",\"orientation\":\"v\",\"showlegend\":true,\"x\":[1.5],\"xaxis\":\"x\",\"y\":[4.518623244952524],\"yaxis\":\"y\",\"type\":\"scatter\"},{\"hovertemplate\":\"country\\u002fregion_y=Finland\\u003cextra\\u003e\\u003c\\u002fextra\\u003e\",\"legendgroup\":\"Finland\",\"marker\":{\"color\":\"#EF553B\",\"symbol\":\"circle\"},\"mode\":\"lines\",\"name\":\"Finland\",\"showlegend\":false,\"xaxis\":\"x\",\"yaxis\":\"y\",\"type\":\"scatter\"},{\"hovertemplate\":\"country\\u002fregion_y=France\\u003cbr\\u003eAnnual GDP Growth (%)=%{x}\\u003cbr\\u003eAnnual improvement (%)=%{y}\\u003cextra\\u003e\\u003c\\u002fextra\\u003e\",\"legendgroup\":\"France\",\"marker\":{\"color\":\"#00cc96\",\"symbol\":\"circle\"},\"mode\":\"markers\",\"name\":\"France\",\"orientation\":\"v\",\"showlegend\":true,\"x\":[2.6],\"xaxis\":\"x\",\"y\":[11.568868823516453],\"yaxis\":\"y\",\"type\":\"scatter\"},{\"hovertemplate\":\"country\\u002fregion_y=France\\u003cextra\\u003e\\u003c\\u002fextra\\u003e\",\"legendgroup\":\"France\",\"marker\":{\"color\":\"#00cc96\",\"symbol\":\"circle\"},\"mode\":\"lines\",\"name\":\"France\",\"showlegend\":false,\"xaxis\":\"x\",\"yaxis\":\"y\",\"type\":\"scatter\"},{\"hovertemplate\":\"country\\u002fregion_y=United Kingdom\\u003cbr\\u003eAnnual GDP Growth (%)=%{x}\\u003cbr\\u003eAnnual improvement (%)=%{y}\\u003cextra\\u003e\\u003c\\u002fextra\\u003e\",\"legendgroup\":\"United Kingdom\",\"marker\":{\"color\":\"#ab63fa\",\"symbol\":\"circle\"},\"mode\":\"markers\",\"name\":\"United Kingdom\",\"orientation\":\"v\",\"showlegend\":true,\"x\":[4.8],\"xaxis\":\"x\",\"y\":[4.706588045307624],\"yaxis\":\"y\",\"type\":\"scatter\"},{\"hovertemplate\":\"country\\u002fregion_y=United Kingdom\\u003cextra\\u003e\\u003c\\u002fextra\\u003e\",\"legendgroup\":\"United Kingdom\",\"marker\":{\"color\":\"#ab63fa\",\"symbol\":\"circle\"},\"mode\":\"lines\",\"name\":\"United Kingdom\",\"showlegend\":false,\"xaxis\":\"x\",\"yaxis\":\"y\",\"type\":\"scatter\"},{\"hovertemplate\":\"country\\u002fregion_y=Greece\\u003cbr\\u003eAnnual GDP Growth (%)=%{x}\\u003cbr\\u003eAnnual improvement (%)=%{y}\\u003cextra\\u003e\\u003c\\u002fextra\\u003e\",\"legendgroup\":\"Greece\",\"marker\":{\"color\":\"#FFA15A\",\"symbol\":\"circle\"},\"mode\":\"markers\",\"name\":\"Greece\",\"orientation\":\"v\",\"showlegend\":true,\"x\":[5.6],\"xaxis\":\"x\",\"y\":[2.511142631507368],\"yaxis\":\"y\",\"type\":\"scatter\"},{\"hovertemplate\":\"country\\u002fregion_y=Greece\\u003cextra\\u003e\\u003c\\u002fextra\\u003e\",\"legendgroup\":\"Greece\",\"marker\":{\"color\":\"#FFA15A\",\"symbol\":\"circle\"},\"mode\":\"lines\",\"name\":\"Greece\",\"showlegend\":false,\"xaxis\":\"x\",\"yaxis\":\"y\",\"type\":\"scatter\"},{\"hovertemplate\":\"country\\u002fregion_y=Hong Kong SAR\\u003cbr\\u003eAnnual GDP Growth (%)=%{x}\\u003cbr\\u003eAnnual improvement (%)=%{y}\\u003cextra\\u003e\\u003c\\u002fextra\\u003e\",\"legendgroup\":\"Hong Kong SAR\",\"marker\":{\"color\":\"#19d3f3\",\"symbol\":\"circle\"},\"mode\":\"markers\",\"name\":\"Hong Kong SAR\",\"orientation\":\"v\",\"showlegend\":true,\"x\":[-3.7],\"xaxis\":\"x\",\"y\":[-5.8640276147278625],\"yaxis\":\"y\",\"type\":\"scatter\"},{\"hovertemplate\":\"country\\u002fregion_y=Hong Kong SAR\\u003cextra\\u003e\\u003c\\u002fextra\\u003e\",\"legendgroup\":\"Hong Kong SAR\",\"marker\":{\"color\":\"#19d3f3\",\"symbol\":\"circle\"},\"mode\":\"lines\",\"name\":\"Hong Kong SAR\",\"showlegend\":false,\"xaxis\":\"x\",\"yaxis\":\"y\",\"type\":\"scatter\"},{\"hovertemplate\":\"country\\u002fregion_y=Croatia\\u003cbr\\u003eAnnual GDP Growth (%)=%{x}\\u003cbr\\u003eAnnual improvement (%)=%{y}\\u003cextra\\u003e\\u003c\\u002fextra\\u003e\",\"legendgroup\":\"Croatia\",\"marker\":{\"color\":\"#FF6692\",\"symbol\":\"circle\"},\"mode\":\"markers\",\"name\":\"Croatia\",\"orientation\":\"v\",\"showlegend\":true,\"x\":[7],\"xaxis\":\"x\",\"y\":[10.728736916109781],\"yaxis\":\"y\",\"type\":\"scatter\"},{\"hovertemplate\":\"country\\u002fregion_y=Croatia\\u003cextra\\u003e\\u003c\\u002fextra\\u003e\",\"legendgroup\":\"Croatia\",\"marker\":{\"color\":\"#FF6692\",\"symbol\":\"circle\"},\"mode\":\"lines\",\"name\":\"Croatia\",\"showlegend\":false,\"xaxis\":\"x\",\"yaxis\":\"y\",\"type\":\"scatter\"},{\"hovertemplate\":\"country\\u002fregion_y=Ireland\\u003cbr\\u003eAnnual GDP Growth (%)=%{x}\\u003cbr\\u003eAnnual improvement (%)=%{y}\\u003cextra\\u003e\\u003c\\u002fextra\\u003e\",\"legendgroup\":\"Ireland\",\"marker\":{\"color\":\"#B6E880\",\"symbol\":\"circle\"},\"mode\":\"markers\",\"name\":\"Ireland\",\"orientation\":\"v\",\"showlegend\":true,\"x\":[8.6],\"xaxis\":\"x\",\"y\":[4.015093919065338],\"yaxis\":\"y\",\"type\":\"scatter\"},{\"hovertemplate\":\"country\\u002fregion_y=Ireland\\u003cextra\\u003e\\u003c\\u002fextra\\u003e\",\"legendgroup\":\"Ireland\",\"marker\":{\"color\":\"#B6E880\",\"symbol\":\"circle\"},\"mode\":\"lines\",\"name\":\"Ireland\",\"showlegend\":false,\"xaxis\":\"x\",\"yaxis\":\"y\",\"type\":\"scatter\"},{\"hovertemplate\":\"country\\u002fregion_y=Israel\\u003cbr\\u003eAnnual GDP Growth (%)=%{x}\\u003cbr\\u003eAnnual improvement (%)=%{y}\\u003cextra\\u003e\\u003c\\u002fextra\\u003e\",\"legendgroup\":\"Israel\",\"marker\":{\"color\":\"#FF97FF\",\"symbol\":\"circle\"},\"mode\":\"markers\",\"name\":\"Israel\",\"orientation\":\"v\",\"showlegend\":true,\"x\":[6.4],\"xaxis\":\"x\",\"y\":[1.74045876203055],\"yaxis\":\"y\",\"type\":\"scatter\"},{\"hovertemplate\":\"country\\u002fregion_y=Israel\\u003cextra\\u003e\\u003c\\u002fextra\\u003e\",\"legendgroup\":\"Israel\",\"marker\":{\"color\":\"#FF97FF\",\"symbol\":\"circle\"},\"mode\":\"lines\",\"name\":\"Israel\",\"showlegend\":false,\"xaxis\":\"x\",\"yaxis\":\"y\",\"type\":\"scatter\"},{\"hovertemplate\":\"country\\u002fregion_y=Italy\\u003cbr\\u003eAnnual GDP Growth (%)=%{x}\\u003cbr\\u003eAnnual improvement (%)=%{y}\\u003cextra\\u003e\\u003c\\u002fextra\\u003e\",\"legendgroup\":\"Italy\",\"marker\":{\"color\":\"#FECB52\",\"symbol\":\"circle\"},\"mode\":\"markers\",\"name\":\"Italy\",\"orientation\":\"v\",\"showlegend\":true,\"x\":[4.7],\"xaxis\":\"x\",\"y\":[7.506201209659524],\"yaxis\":\"y\",\"type\":\"scatter\"},{\"hovertemplate\":\"country\\u002fregion_y=Italy\\u003cextra\\u003e\\u003c\\u002fextra\\u003e\",\"legendgroup\":\"Italy\",\"marker\":{\"color\":\"#FECB52\",\"symbol\":\"circle\"},\"mode\":\"lines\",\"name\":\"Italy\",\"showlegend\":false,\"xaxis\":\"x\",\"yaxis\":\"y\",\"type\":\"scatter\"},{\"hovertemplate\":\"country\\u002fregion_y=Japan\\u003cbr\\u003eAnnual GDP Growth (%)=%{x}\\u003cbr\\u003eAnnual improvement (%)=%{y}\\u003cextra\\u003e\\u003c\\u002fextra\\u003e\",\"legendgroup\":\"Japan\",\"marker\":{\"color\":\"#636efa\",\"symbol\":\"circle\"},\"mode\":\"markers\",\"name\":\"Japan\",\"orientation\":\"v\",\"showlegend\":true,\"x\":[1.2],\"xaxis\":\"x\",\"y\":[1.325350162282679],\"yaxis\":\"y\",\"type\":\"scatter\"},{\"hovertemplate\":\"country\\u002fregion_y=Japan\\u003cextra\\u003e\\u003c\\u002fextra\\u003e\",\"legendgroup\":\"Japan\",\"marker\":{\"color\":\"#636efa\",\"symbol\":\"circle\"},\"mode\":\"lines\",\"name\":\"Japan\",\"showlegend\":false,\"xaxis\":\"x\",\"yaxis\":\"y\",\"type\":\"scatter\"},{\"hovertemplate\":\"country\\u002fregion_y=Korea, Republic of\\u003cbr\\u003eAnnual GDP Growth (%)=%{x}\\u003cbr\\u003eAnnual improvement (%)=%{y}\\u003cextra\\u003e\\u003c\\u002fextra\\u003e\",\"legendgroup\":\"Korea, Republic of\",\"marker\":{\"color\":\"#EF553B\",\"symbol\":\"circle\"},\"mode\":\"markers\",\"name\":\"Korea, Republic of\",\"orientation\":\"v\",\"showlegend\":true,\"x\":[2.7],\"xaxis\":\"x\",\"y\":[4.477067540239254],\"yaxis\":\"y\",\"type\":\"scatter\"},{\"hovertemplate\":\"country\\u002fregion_y=Korea, Republic of\\u003cextra\\u003e\\u003c\\u002fextra\\u003e\",\"legendgroup\":\"Korea, Republic of\",\"marker\":{\"color\":\"#EF553B\",\"symbol\":\"circle\"},\"mode\":\"lines\",\"name\":\"Korea, Republic of\",\"showlegend\":false,\"xaxis\":\"x\",\"yaxis\":\"y\",\"type\":\"scatter\"},{\"hovertemplate\":\"country\\u002fregion_y=Lithuania\\u003cbr\\u003eAnnual GDP Growth (%)=%{x}\\u003cbr\\u003eAnnual improvement (%)=%{y}\\u003cextra\\u003e\\u003c\\u002fextra\\u003e\",\"legendgroup\":\"Lithuania\",\"marker\":{\"color\":\"#00cc96\",\"symbol\":\"circle\"},\"mode\":\"markers\",\"name\":\"Lithuania\",\"orientation\":\"v\",\"showlegend\":true,\"x\":[2.4],\"xaxis\":\"x\",\"y\":[11.493099149926367],\"yaxis\":\"y\",\"type\":\"scatter\"},{\"hovertemplate\":\"country\\u002fregion_y=Lithuania\\u003cextra\\u003e\\u003c\\u002fextra\\u003e\",\"legendgroup\":\"Lithuania\",\"marker\":{\"color\":\"#00cc96\",\"symbol\":\"circle\"},\"mode\":\"lines\",\"name\":\"Lithuania\",\"showlegend\":false,\"xaxis\":\"x\",\"yaxis\":\"y\",\"type\":\"scatter\"},{\"hovertemplate\":\"country\\u002fregion_y=Luxembourg\\u003cbr\\u003eAnnual GDP Growth (%)=%{x}\\u003cbr\\u003eAnnual improvement (%)=%{y}\\u003cextra\\u003e\\u003c\\u002fextra\\u003e\",\"legendgroup\":\"Luxembourg\",\"marker\":{\"color\":\"#ab63fa\",\"symbol\":\"circle\"},\"mode\":\"markers\",\"name\":\"Luxembourg\",\"orientation\":\"v\",\"showlegend\":true,\"x\":[1.4],\"xaxis\":\"x\",\"y\":[13.463301916782077],\"yaxis\":\"y\",\"type\":\"scatter\"},{\"hovertemplate\":\"country\\u002fregion_y=Luxembourg\\u003cextra\\u003e\\u003c\\u002fextra\\u003e\",\"legendgroup\":\"Luxembourg\",\"marker\":{\"color\":\"#ab63fa\",\"symbol\":\"circle\"},\"mode\":\"lines\",\"name\":\"Luxembourg\",\"showlegend\":false,\"xaxis\":\"x\",\"yaxis\":\"y\",\"type\":\"scatter\"},{\"hovertemplate\":\"country\\u002fregion_y=Latvia\\u003cbr\\u003eAnnual GDP Growth (%)=%{x}\\u003cbr\\u003eAnnual improvement (%)=%{y}\\u003cextra\\u003e\\u003c\\u002fextra\\u003e\",\"legendgroup\":\"Latvia\",\"marker\":{\"color\":\"#FFA15A\",\"symbol\":\"circle\"},\"mode\":\"markers\",\"name\":\"Latvia\",\"orientation\":\"v\",\"showlegend\":true,\"x\":[3],\"xaxis\":\"x\",\"y\":[12.782656324544783],\"yaxis\":\"y\",\"type\":\"scatter\"},{\"hovertemplate\":\"country\\u002fregion_y=Latvia\\u003cextra\\u003e\\u003c\\u002fextra\\u003e\",\"legendgroup\":\"Latvia\",\"marker\":{\"color\":\"#FFA15A\",\"symbol\":\"circle\"},\"mode\":\"lines\",\"name\":\"Latvia\",\"showlegend\":false,\"xaxis\":\"x\",\"yaxis\":\"y\",\"type\":\"scatter\"},{\"hovertemplate\":\"country\\u002fregion_y=Macao SAR\\u003cbr\\u003eAnnual GDP Growth (%)=%{x}\\u003cbr\\u003eAnnual improvement (%)=%{y}\\u003cextra\\u003e\\u003c\\u002fextra\\u003e\",\"legendgroup\":\"Macao SAR\",\"marker\":{\"color\":\"#19d3f3\",\"symbol\":\"circle\"},\"mode\":\"markers\",\"name\":\"Macao SAR\",\"orientation\":\"v\",\"showlegend\":true,\"x\":[-21.4],\"xaxis\":\"x\",\"y\":[-34.206541078824394],\"yaxis\":\"y\",\"type\":\"scatter\"},{\"hovertemplate\":\"country\\u002fregion_y=Macao SAR\\u003cextra\\u003e\\u003c\\u002fextra\\u003e\",\"legendgroup\":\"Macao SAR\",\"marker\":{\"color\":\"#19d3f3\",\"symbol\":\"circle\"},\"mode\":\"lines\",\"name\":\"Macao SAR\",\"showlegend\":false,\"xaxis\":\"x\",\"yaxis\":\"y\",\"type\":\"scatter\"},{\"hovertemplate\":\"country\\u002fregion_y=Malta\\u003cbr\\u003eAnnual GDP Growth (%)=%{x}\\u003cbr\\u003eAnnual improvement (%)=%{y}\\u003cextra\\u003e\\u003c\\u002fextra\\u003e\",\"legendgroup\":\"Malta\",\"marker\":{\"color\":\"#FF6692\",\"symbol\":\"circle\"},\"mode\":\"markers\",\"name\":\"Malta\",\"orientation\":\"v\",\"showlegend\":true,\"x\":[4.1],\"xaxis\":\"x\",\"y\":[8.166661864833857],\"yaxis\":\"y\",\"type\":\"scatter\"},{\"hovertemplate\":\"country\\u002fregion_y=Malta\\u003cextra\\u003e\\u003c\\u002fextra\\u003e\",\"legendgroup\":\"Malta\",\"marker\":{\"color\":\"#FF6692\",\"symbol\":\"circle\"},\"mode\":\"lines\",\"name\":\"Malta\",\"showlegend\":false,\"xaxis\":\"x\",\"yaxis\":\"y\",\"type\":\"scatter\"},{\"hovertemplate\":\"country\\u002fregion_y=Netherlands\\u003cbr\\u003eAnnual GDP Growth (%)=%{x}\\u003cbr\\u003eAnnual improvement (%)=%{y}\\u003cextra\\u003e\\u003c\\u002fextra\\u003e\",\"legendgroup\":\"Netherlands\",\"marker\":{\"color\":\"#B6E880\",\"symbol\":\"circle\"},\"mode\":\"markers\",\"name\":\"Netherlands\",\"orientation\":\"v\",\"showlegend\":true,\"x\":[5],\"xaxis\":\"x\",\"y\":[14.296685532696285],\"yaxis\":\"y\",\"type\":\"scatter\"},{\"hovertemplate\":\"country\\u002fregion_y=Netherlands\\u003cextra\\u003e\\u003c\\u002fextra\\u003e\",\"legendgroup\":\"Netherlands\",\"marker\":{\"color\":\"#B6E880\",\"symbol\":\"circle\"},\"mode\":\"lines\",\"name\":\"Netherlands\",\"showlegend\":false,\"xaxis\":\"x\",\"yaxis\":\"y\",\"type\":\"scatter\"},{\"hovertemplate\":\"country\\u002fregion_y=Norway\\u003cbr\\u003eAnnual GDP Growth (%)=%{x}\\u003cbr\\u003eAnnual improvement (%)=%{y}\\u003cextra\\u003e\\u003c\\u002fextra\\u003e\",\"legendgroup\":\"Norway\",\"marker\":{\"color\":\"#FF97FF\",\"symbol\":\"circle\"},\"mode\":\"markers\",\"name\":\"Norway\",\"orientation\":\"v\",\"showlegend\":true,\"x\":[3],\"xaxis\":\"x\",\"y\":[7.0085177000454575],\"yaxis\":\"y\",\"type\":\"scatter\"},{\"hovertemplate\":\"country\\u002fregion_y=Norway\\u003cextra\\u003e\\u003c\\u002fextra\\u003e\",\"legendgroup\":\"Norway\",\"marker\":{\"color\":\"#FF97FF\",\"symbol\":\"circle\"},\"mode\":\"lines\",\"name\":\"Norway\",\"showlegend\":false,\"xaxis\":\"x\",\"yaxis\":\"y\",\"type\":\"scatter\"},{\"hovertemplate\":\"country\\u002fregion_y=New Zealand\\u003cbr\\u003eAnnual GDP Growth (%)=%{x}\\u003cbr\\u003eAnnual improvement (%)=%{y}\\u003cextra\\u003e\\u003c\\u002fextra\\u003e\",\"legendgroup\":\"New Zealand\",\"marker\":{\"color\":\"#FECB52\",\"symbol\":\"circle\"},\"mode\":\"markers\",\"name\":\"New Zealand\",\"orientation\":\"v\",\"showlegend\":true,\"x\":[2.4],\"xaxis\":\"x\",\"y\":[5.681973122978922],\"yaxis\":\"y\",\"type\":\"scatter\"},{\"hovertemplate\":\"country\\u002fregion_y=New Zealand\\u003cextra\\u003e\\u003c\\u002fextra\\u003e\",\"legendgroup\":\"New Zealand\",\"marker\":{\"color\":\"#FECB52\",\"symbol\":\"circle\"},\"mode\":\"lines\",\"name\":\"New Zealand\",\"showlegend\":false,\"xaxis\":\"x\",\"yaxis\":\"y\",\"type\":\"scatter\"},{\"hovertemplate\":\"country\\u002fregion_y=Puerto Rico\\u003cbr\\u003eAnnual GDP Growth (%)=%{x}\\u003cbr\\u003eAnnual improvement (%)=%{y}\\u003cextra\\u003e\\u003c\\u002fextra\\u003e\",\"legendgroup\":\"Puerto Rico\",\"marker\":{\"color\":\"#636efa\",\"symbol\":\"circle\"},\"mode\":\"markers\",\"name\":\"Puerto Rico\",\"orientation\":\"v\",\"showlegend\":true,\"x\":[3.6],\"xaxis\":\"x\",\"y\":[9.835699094923623],\"yaxis\":\"y\",\"type\":\"scatter\"},{\"hovertemplate\":\"country\\u002fregion_y=Puerto Rico\\u003cextra\\u003e\\u003c\\u002fextra\\u003e\",\"legendgroup\":\"Puerto Rico\",\"marker\":{\"color\":\"#636efa\",\"symbol\":\"circle\"},\"mode\":\"lines\",\"name\":\"Puerto Rico\",\"showlegend\":false,\"xaxis\":\"x\",\"yaxis\":\"y\",\"type\":\"scatter\"},{\"hovertemplate\":\"country\\u002fregion_y=Portugal\\u003cbr\\u003eAnnual GDP Growth (%)=%{x}\\u003cbr\\u003eAnnual improvement (%)=%{y}\\u003cextra\\u003e\\u003c\\u002fextra\\u003e\",\"legendgroup\":\"Portugal\",\"marker\":{\"color\":\"#EF553B\",\"symbol\":\"circle\"},\"mode\":\"markers\",\"name\":\"Portugal\",\"orientation\":\"v\",\"showlegend\":true,\"x\":[6.8],\"xaxis\":\"x\",\"y\":[3.0032327357864874],\"yaxis\":\"y\",\"type\":\"scatter\"},{\"hovertemplate\":\"country\\u002fregion_y=Portugal\\u003cextra\\u003e\\u003c\\u002fextra\\u003e\",\"legendgroup\":\"Portugal\",\"marker\":{\"color\":\"#EF553B\",\"symbol\":\"circle\"},\"mode\":\"lines\",\"name\":\"Portugal\",\"showlegend\":false,\"xaxis\":\"x\",\"yaxis\":\"y\",\"type\":\"scatter\"},{\"hovertemplate\":\"country\\u002fregion_y=Singapore\\u003cbr\\u003eAnnual GDP Growth (%)=%{x}\\u003cbr\\u003eAnnual improvement (%)=%{y}\\u003cextra\\u003e\\u003c\\u002fextra\\u003e\",\"legendgroup\":\"Singapore\",\"marker\":{\"color\":\"#00cc96\",\"symbol\":\"circle\"},\"mode\":\"markers\",\"name\":\"Singapore\",\"orientation\":\"v\",\"showlegend\":true,\"x\":[3.8],\"xaxis\":\"x\",\"y\":[-0.12586401436394112],\"yaxis\":\"y\",\"type\":\"scatter\"},{\"hovertemplate\":\"country\\u002fregion_y=Singapore\\u003cextra\\u003e\\u003c\\u002fextra\\u003e\",\"legendgroup\":\"Singapore\",\"marker\":{\"color\":\"#00cc96\",\"symbol\":\"circle\"},\"mode\":\"lines\",\"name\":\"Singapore\",\"showlegend\":false,\"xaxis\":\"x\",\"yaxis\":\"y\",\"type\":\"scatter\"},{\"hovertemplate\":\"country\\u002fregion_y=Slovak Republic\\u003cbr\\u003eAnnual GDP Growth (%)=%{x}\\u003cbr\\u003eAnnual improvement (%)=%{y}\\u003cextra\\u003e\\u003c\\u002fextra\\u003e\",\"legendgroup\":\"Slovak Republic\",\"marker\":{\"color\":\"#ab63fa\",\"symbol\":\"circle\"},\"mode\":\"markers\",\"name\":\"Slovak Republic\",\"orientation\":\"v\",\"showlegend\":true,\"x\":[1.9],\"xaxis\":\"x\",\"y\":[30.586375912959063],\"yaxis\":\"y\",\"type\":\"scatter\"},{\"hovertemplate\":\"country\\u002fregion_y=Slovak Republic\\u003cextra\\u003e\\u003c\\u002fextra\\u003e\",\"legendgroup\":\"Slovak Republic\",\"marker\":{\"color\":\"#ab63fa\",\"symbol\":\"circle\"},\"mode\":\"lines\",\"name\":\"Slovak Republic\",\"showlegend\":false,\"xaxis\":\"x\",\"yaxis\":\"y\",\"type\":\"scatter\"},{\"hovertemplate\":\"country\\u002fregion_y=Slovenia\\u003cbr\\u003eAnnual GDP Growth (%)=%{x}\\u003cbr\\u003eAnnual improvement (%)=%{y}\\u003cextra\\u003e\\u003c\\u002fextra\\u003e\",\"legendgroup\":\"Slovenia\",\"marker\":{\"color\":\"#FFA15A\",\"symbol\":\"circle\"},\"mode\":\"markers\",\"name\":\"Slovenia\",\"orientation\":\"v\",\"showlegend\":true,\"x\":[2.7],\"xaxis\":\"x\",\"y\":[4.829100184583945],\"yaxis\":\"y\",\"type\":\"scatter\"},{\"hovertemplate\":\"country\\u002fregion_y=Slovenia\\u003cextra\\u003e\\u003c\\u002fextra\\u003e\",\"legendgroup\":\"Slovenia\",\"marker\":{\"color\":\"#FFA15A\",\"symbol\":\"circle\"},\"mode\":\"lines\",\"name\":\"Slovenia\",\"showlegend\":false,\"xaxis\":\"x\",\"yaxis\":\"y\",\"type\":\"scatter\"},{\"hovertemplate\":\"country\\u002fregion_y=Sweden\\u003cbr\\u003eAnnual GDP Growth (%)=%{x}\\u003cbr\\u003eAnnual improvement (%)=%{y}\\u003cextra\\u003e\\u003c\\u002fextra\\u003e\",\"legendgroup\":\"Sweden\",\"marker\":{\"color\":\"#19d3f3\",\"symbol\":\"circle\"},\"mode\":\"markers\",\"name\":\"Sweden\",\"orientation\":\"v\",\"showlegend\":true,\"x\":[1.5],\"xaxis\":\"x\",\"y\":[4.1614599213876335],\"yaxis\":\"y\",\"type\":\"scatter\"},{\"hovertemplate\":\"country\\u002fregion_y=Sweden\\u003cextra\\u003e\\u003c\\u002fextra\\u003e\",\"legendgroup\":\"Sweden\",\"marker\":{\"color\":\"#19d3f3\",\"symbol\":\"circle\"},\"mode\":\"lines\",\"name\":\"Sweden\",\"showlegend\":false,\"xaxis\":\"x\",\"yaxis\":\"y\",\"type\":\"scatter\"},{\"hovertemplate\":\"country\\u002fregion_y=Taiwan Province of China\\u003cbr\\u003eAnnual GDP Growth (%)=%{x}\\u003cbr\\u003eAnnual improvement (%)=%{y}\\u003cextra\\u003e\\u003c\\u002fextra\\u003e\",\"legendgroup\":\"Taiwan Province of China\",\"marker\":{\"color\":\"#FF6692\",\"symbol\":\"circle\"},\"mode\":\"markers\",\"name\":\"Taiwan Province of China\",\"orientation\":\"v\",\"showlegend\":true,\"x\":[2.6],\"xaxis\":\"x\",\"y\":[0.6187470300945574],\"yaxis\":\"y\",\"type\":\"scatter\"},{\"hovertemplate\":\"country\\u002fregion_y=Taiwan Province of China\\u003cextra\\u003e\\u003c\\u002fextra\\u003e\",\"legendgroup\":\"Taiwan Province of China\",\"marker\":{\"color\":\"#FF6692\",\"symbol\":\"circle\"},\"mode\":\"lines\",\"name\":\"Taiwan Province of China\",\"showlegend\":false,\"xaxis\":\"x\",\"yaxis\":\"y\",\"type\":\"scatter\"},{\"hovertemplate\":\"country\\u002fregion_y=United States\\u003cbr\\u003eAnnual GDP Growth (%)=%{x}\\u003cbr\\u003eAnnual improvement (%)=%{y}\\u003cextra\\u003e\\u003c\\u002fextra\\u003e\",\"legendgroup\":\"United States\",\"marker\":{\"color\":\"#B6E880\",\"symbol\":\"circle\"},\"mode\":\"markers\",\"name\":\"United States\",\"orientation\":\"v\",\"showlegend\":true,\"x\":[2.5],\"xaxis\":\"x\",\"y\":[0.3986427527830738],\"yaxis\":\"y\",\"type\":\"scatter\"},{\"hovertemplate\":\"country\\u002fregion_y=United States\\u003cextra\\u003e\\u003c\\u002fextra\\u003e\",\"legendgroup\":\"United States\",\"marker\":{\"color\":\"#B6E880\",\"symbol\":\"circle\"},\"mode\":\"lines\",\"name\":\"United States\",\"showlegend\":false,\"xaxis\":\"x\",\"yaxis\":\"y\",\"type\":\"scatter\"}],                        {\"template\":{\"data\":{\"histogram2dcontour\":[{\"type\":\"histogram2dcontour\",\"colorbar\":{\"outlinewidth\":0,\"ticks\":\"\"},\"colorscale\":[[0.0,\"#0d0887\"],[0.1111111111111111,\"#46039f\"],[0.2222222222222222,\"#7201a8\"],[0.3333333333333333,\"#9c179e\"],[0.4444444444444444,\"#bd3786\"],[0.5555555555555556,\"#d8576b\"],[0.6666666666666666,\"#ed7953\"],[0.7777777777777778,\"#fb9f3a\"],[0.8888888888888888,\"#fdca26\"],[1.0,\"#f0f921\"]]}],\"choropleth\":[{\"type\":\"choropleth\",\"colorbar\":{\"outlinewidth\":0,\"ticks\":\"\"}}],\"histogram2d\":[{\"type\":\"histogram2d\",\"colorbar\":{\"outlinewidth\":0,\"ticks\":\"\"},\"colorscale\":[[0.0,\"#0d0887\"],[0.1111111111111111,\"#46039f\"],[0.2222222222222222,\"#7201a8\"],[0.3333333333333333,\"#9c179e\"],[0.4444444444444444,\"#bd3786\"],[0.5555555555555556,\"#d8576b\"],[0.6666666666666666,\"#ed7953\"],[0.7777777777777778,\"#fb9f3a\"],[0.8888888888888888,\"#fdca26\"],[1.0,\"#f0f921\"]]}],\"heatmap\":[{\"type\":\"heatmap\",\"colorbar\":{\"outlinewidth\":0,\"ticks\":\"\"},\"colorscale\":[[0.0,\"#0d0887\"],[0.1111111111111111,\"#46039f\"],[0.2222222222222222,\"#7201a8\"],[0.3333333333333333,\"#9c179e\"],[0.4444444444444444,\"#bd3786\"],[0.5555555555555556,\"#d8576b\"],[0.6666666666666666,\"#ed7953\"],[0.7777777777777778,\"#fb9f3a\"],[0.8888888888888888,\"#fdca26\"],[1.0,\"#f0f921\"]]}],\"heatmapgl\":[{\"type\":\"heatmapgl\",\"colorbar\":{\"outlinewidth\":0,\"ticks\":\"\"},\"colorscale\":[[0.0,\"#0d0887\"],[0.1111111111111111,\"#46039f\"],[0.2222222222222222,\"#7201a8\"],[0.3333333333333333,\"#9c179e\"],[0.4444444444444444,\"#bd3786\"],[0.5555555555555556,\"#d8576b\"],[0.6666666666666666,\"#ed7953\"],[0.7777777777777778,\"#fb9f3a\"],[0.8888888888888888,\"#fdca26\"],[1.0,\"#f0f921\"]]}],\"contourcarpet\":[{\"type\":\"contourcarpet\",\"colorbar\":{\"outlinewidth\":0,\"ticks\":\"\"}}],\"contour\":[{\"type\":\"contour\",\"colorbar\":{\"outlinewidth\":0,\"ticks\":\"\"},\"colorscale\":[[0.0,\"#0d0887\"],[0.1111111111111111,\"#46039f\"],[0.2222222222222222,\"#7201a8\"],[0.3333333333333333,\"#9c179e\"],[0.4444444444444444,\"#bd3786\"],[0.5555555555555556,\"#d8576b\"],[0.6666666666666666,\"#ed7953\"],[0.7777777777777778,\"#fb9f3a\"],[0.8888888888888888,\"#fdca26\"],[1.0,\"#f0f921\"]]}],\"surface\":[{\"type\":\"surface\",\"colorbar\":{\"outlinewidth\":0,\"ticks\":\"\"},\"colorscale\":[[0.0,\"#0d0887\"],[0.1111111111111111,\"#46039f\"],[0.2222222222222222,\"#7201a8\"],[0.3333333333333333,\"#9c179e\"],[0.4444444444444444,\"#bd3786\"],[0.5555555555555556,\"#d8576b\"],[0.6666666666666666,\"#ed7953\"],[0.7777777777777778,\"#fb9f3a\"],[0.8888888888888888,\"#fdca26\"],[1.0,\"#f0f921\"]]}],\"mesh3d\":[{\"type\":\"mesh3d\",\"colorbar\":{\"outlinewidth\":0,\"ticks\":\"\"}}],\"scatter\":[{\"fillpattern\":{\"fillmode\":\"overlay\",\"size\":10,\"solidity\":0.2},\"type\":\"scatter\"}],\"parcoords\":[{\"type\":\"parcoords\",\"line\":{\"colorbar\":{\"outlinewidth\":0,\"ticks\":\"\"}}}],\"scatterpolargl\":[{\"type\":\"scatterpolargl\",\"marker\":{\"colorbar\":{\"outlinewidth\":0,\"ticks\":\"\"}}}],\"bar\":[{\"error_x\":{\"color\":\"#2a3f5f\"},\"error_y\":{\"color\":\"#2a3f5f\"},\"marker\":{\"line\":{\"color\":\"#E5ECF6\",\"width\":0.5},\"pattern\":{\"fillmode\":\"overlay\",\"size\":10,\"solidity\":0.2}},\"type\":\"bar\"}],\"scattergeo\":[{\"type\":\"scattergeo\",\"marker\":{\"colorbar\":{\"outlinewidth\":0,\"ticks\":\"\"}}}],\"scatterpolar\":[{\"type\":\"scatterpolar\",\"marker\":{\"colorbar\":{\"outlinewidth\":0,\"ticks\":\"\"}}}],\"histogram\":[{\"marker\":{\"pattern\":{\"fillmode\":\"overlay\",\"size\":10,\"solidity\":0.2}},\"type\":\"histogram\"}],\"scattergl\":[{\"type\":\"scattergl\",\"marker\":{\"colorbar\":{\"outlinewidth\":0,\"ticks\":\"\"}}}],\"scatter3d\":[{\"type\":\"scatter3d\",\"line\":{\"colorbar\":{\"outlinewidth\":0,\"ticks\":\"\"}},\"marker\":{\"colorbar\":{\"outlinewidth\":0,\"ticks\":\"\"}}}],\"scattermapbox\":[{\"type\":\"scattermapbox\",\"marker\":{\"colorbar\":{\"outlinewidth\":0,\"ticks\":\"\"}}}],\"scatterternary\":[{\"type\":\"scatterternary\",\"marker\":{\"colorbar\":{\"outlinewidth\":0,\"ticks\":\"\"}}}],\"scattercarpet\":[{\"type\":\"scattercarpet\",\"marker\":{\"colorbar\":{\"outlinewidth\":0,\"ticks\":\"\"}}}],\"carpet\":[{\"aaxis\":{\"endlinecolor\":\"#2a3f5f\",\"gridcolor\":\"white\",\"linecolor\":\"white\",\"minorgridcolor\":\"white\",\"startlinecolor\":\"#2a3f5f\"},\"baxis\":{\"endlinecolor\":\"#2a3f5f\",\"gridcolor\":\"white\",\"linecolor\":\"white\",\"minorgridcolor\":\"white\",\"startlinecolor\":\"#2a3f5f\"},\"type\":\"carpet\"}],\"table\":[{\"cells\":{\"fill\":{\"color\":\"#EBF0F8\"},\"line\":{\"color\":\"white\"}},\"header\":{\"fill\":{\"color\":\"#C8D4E3\"},\"line\":{\"color\":\"white\"}},\"type\":\"table\"}],\"barpolar\":[{\"marker\":{\"line\":{\"color\":\"#E5ECF6\",\"width\":0.5},\"pattern\":{\"fillmode\":\"overlay\",\"size\":10,\"solidity\":0.2}},\"type\":\"barpolar\"}],\"pie\":[{\"automargin\":true,\"type\":\"pie\"}]},\"layout\":{\"autotypenumbers\":\"strict\",\"colorway\":[\"#636efa\",\"#EF553B\",\"#00cc96\",\"#ab63fa\",\"#FFA15A\",\"#19d3f3\",\"#FF6692\",\"#B6E880\",\"#FF97FF\",\"#FECB52\"],\"font\":{\"color\":\"#2a3f5f\"},\"hovermode\":\"closest\",\"hoverlabel\":{\"align\":\"left\"},\"paper_bgcolor\":\"white\",\"plot_bgcolor\":\"#E5ECF6\",\"polar\":{\"bgcolor\":\"#E5ECF6\",\"angularaxis\":{\"gridcolor\":\"white\",\"linecolor\":\"white\",\"ticks\":\"\"},\"radialaxis\":{\"gridcolor\":\"white\",\"linecolor\":\"white\",\"ticks\":\"\"}},\"ternary\":{\"bgcolor\":\"#E5ECF6\",\"aaxis\":{\"gridcolor\":\"white\",\"linecolor\":\"white\",\"ticks\":\"\"},\"baxis\":{\"gridcolor\":\"white\",\"linecolor\":\"white\",\"ticks\":\"\"},\"caxis\":{\"gridcolor\":\"white\",\"linecolor\":\"white\",\"ticks\":\"\"}},\"coloraxis\":{\"colorbar\":{\"outlinewidth\":0,\"ticks\":\"\"}},\"colorscale\":{\"sequential\":[[0.0,\"#0d0887\"],[0.1111111111111111,\"#46039f\"],[0.2222222222222222,\"#7201a8\"],[0.3333333333333333,\"#9c179e\"],[0.4444444444444444,\"#bd3786\"],[0.5555555555555556,\"#d8576b\"],[0.6666666666666666,\"#ed7953\"],[0.7777777777777778,\"#fb9f3a\"],[0.8888888888888888,\"#fdca26\"],[1.0,\"#f0f921\"]],\"sequentialminus\":[[0.0,\"#0d0887\"],[0.1111111111111111,\"#46039f\"],[0.2222222222222222,\"#7201a8\"],[0.3333333333333333,\"#9c179e\"],[0.4444444444444444,\"#bd3786\"],[0.5555555555555556,\"#d8576b\"],[0.6666666666666666,\"#ed7953\"],[0.7777777777777778,\"#fb9f3a\"],[0.8888888888888888,\"#fdca26\"],[1.0,\"#f0f921\"]],\"diverging\":[[0,\"#8e0152\"],[0.1,\"#c51b7d\"],[0.2,\"#de77ae\"],[0.3,\"#f1b6da\"],[0.4,\"#fde0ef\"],[0.5,\"#f7f7f7\"],[0.6,\"#e6f5d0\"],[0.7,\"#b8e186\"],[0.8,\"#7fbc41\"],[0.9,\"#4d9221\"],[1,\"#276419\"]]},\"xaxis\":{\"gridcolor\":\"white\",\"linecolor\":\"white\",\"ticks\":\"\",\"title\":{\"standoff\":15},\"zerolinecolor\":\"white\",\"automargin\":true,\"zerolinewidth\":2},\"yaxis\":{\"gridcolor\":\"white\",\"linecolor\":\"white\",\"ticks\":\"\",\"title\":{\"standoff\":15},\"zerolinecolor\":\"white\",\"automargin\":true,\"zerolinewidth\":2},\"scene\":{\"xaxis\":{\"backgroundcolor\":\"#E5ECF6\",\"gridcolor\":\"white\",\"linecolor\":\"white\",\"showbackground\":true,\"ticks\":\"\",\"zerolinecolor\":\"white\",\"gridwidth\":2},\"yaxis\":{\"backgroundcolor\":\"#E5ECF6\",\"gridcolor\":\"white\",\"linecolor\":\"white\",\"showbackground\":true,\"ticks\":\"\",\"zerolinecolor\":\"white\",\"gridwidth\":2},\"zaxis\":{\"backgroundcolor\":\"#E5ECF6\",\"gridcolor\":\"white\",\"linecolor\":\"white\",\"showbackground\":true,\"ticks\":\"\",\"zerolinecolor\":\"white\",\"gridwidth\":2}},\"shapedefaults\":{\"line\":{\"color\":\"#2a3f5f\"}},\"annotationdefaults\":{\"arrowcolor\":\"#2a3f5f\",\"arrowhead\":0,\"arrowwidth\":1},\"geo\":{\"bgcolor\":\"white\",\"landcolor\":\"#E5ECF6\",\"subunitcolor\":\"white\",\"showland\":true,\"showlakes\":true,\"lakecolor\":\"white\"},\"title\":{\"x\":0.05},\"mapbox\":{\"style\":\"light\"}}},\"xaxis\":{\"anchor\":\"y\",\"domain\":[0.0,1.0],\"title\":{\"text\":\"Annual GDP Growth (%)\"}},\"yaxis\":{\"anchor\":\"x\",\"domain\":[0.0,1.0],\"title\":{\"text\":\"Annual improvement (%)\"}},\"legend\":{\"title\":{\"text\":\"country\\u002fregion_y\"},\"tracegroupgap\":0},\"title\":{\"text\":\"Graph 4. Energy efficiency and economic growth in Advanced Economies, 2022\"}},                        {\"responsive\": true}                    ).then(function(){\n",
       "                            \n",
       "var gd = document.getElementById('7676db70-0c97-4ed6-a627-00d63c0d3cf5');\n",
       "var x = new MutationObserver(function (mutations, observer) {{\n",
       "        var display = window.getComputedStyle(gd).display;\n",
       "        if (!display || display === 'none') {{\n",
       "            console.log([gd, 'removed!']);\n",
       "            Plotly.purge(gd);\n",
       "            observer.disconnect();\n",
       "        }}\n",
       "}});\n",
       "\n",
       "// Listen for the removal of the full notebook cells\n",
       "var notebookContainer = gd.closest('#notebook-container');\n",
       "if (notebookContainer) {{\n",
       "    x.observe(notebookContainer, {childList: true});\n",
       "}}\n",
       "\n",
       "// Listen for the clearing of the current output cell\n",
       "var outputEl = gd.closest('.output');\n",
       "if (outputEl) {{\n",
       "    x.observe(outputEl, {childList: true});\n",
       "}}\n",
       "\n",
       "                        })                };                });            </script>        </div>"
      ]
     },
     "metadata": {},
     "output_type": "display_data"
    }
   ],
   "source": [
    "\n",
    "fig = px.scatter(\n",
    "    final_advanced,\n",
    "    x='Real GDP growth (Annual percent change)',  # X-axis variable\n",
    "    y='Energy Efficiency',  # Y-axis variable\n",
    "    color='country/region_y', \n",
    "    title=\"Graph 4. Energy efficiency and economic growth in Advanced Economies, 2022\",\n",
    "    labels={\n",
    "        'Real GDP growth (Annual percent change)': 'Annual GDP Growth (%)',\n",
    "        'Energy Efficiency': 'Annual improvement (%)'\n",
    "    },  \n",
    "    trendline='ols'  \n",
    ")\n",
    "\n",
    "# Show the plot\n",
    "fig.show()"
   ]
  },
  {
   "cell_type": "markdown",
   "id": "a5a0f727-6bc2-4570-8028-e78c531cba48",
   "metadata": {},
   "source": [
    "## 2.4. Final considerations"
   ]
  },
  {
   "cell_type": "markdown",
   "id": "40410c35-a1c9-49ef-8737-47a612c0c88b",
   "metadata": {},
   "source": [
    "In the **Graphs 1 and 2**, it is shown that both advanced economies and EMDEs have been progressing steadily in energy efficiency (energy intensity reductions) since 1993. In the last 4 years, 2018 - 2022, on average, advanced economies improved more than EMDEs, they are using less energy to produce each unit of GDP. \n",
    "\n",
    "On the other hand, **Graphs 3 and 4** explore the relationship between economic growth and energy efficiency. For EMDEs (**Graph 3**), a positive correlation is observed, but this is not the case for advanced economies, in which, apparently, there is no correlation. Future work should focus on understanding these different realities. This understanding is essential to analyze the world energy transition because EMDEs countries need to continue growing and, at the same time, reduce their energy intensity at a higher rate. Assessing the hypothesis, it seems that it has been confirmed just for the last few years, implying that the reason associated with the cost of the technologies is not precise. "
   ]
  },
  {
   "cell_type": "code",
   "execution_count": null,
   "id": "74df76a3-9036-4aad-99a7-4e9e9ee4f7d5",
   "metadata": {},
   "outputs": [],
   "source": []
  }
 ],
 "metadata": {
  "kernelspec": {
   "display_name": "Python (computing-in-context)",
   "language": "python",
   "name": "computing-in-context"
  },
  "language_info": {
   "codemirror_mode": {
    "name": "ipython",
    "version": 3
   },
   "file_extension": ".py",
   "mimetype": "text/x-python",
   "name": "python",
   "nbconvert_exporter": "python",
   "pygments_lexer": "ipython3",
   "version": "3.12.2"
  }
 },
 "nbformat": 4,
 "nbformat_minor": 5
}