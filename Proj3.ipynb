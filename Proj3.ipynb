{
 "cells": [
  {
   "cell_type": "markdown",
   "metadata": {},
   "source": [
    "# 3. Decarbonization of the US economy: the role of natural gas\n",
    "\n",
    "- **Dataset(s) to be used:** i) CO2 emissions estimates from the **[UN](https://data.un.org/_Docs/SYB/CSV/SYB67_310_202411_Carbon%20Dioxide%20Emission%20Estimates.csv)**; ii) Emissions from energy consumption by source **[US Energy Administration](https://www.eia.gov/totalenergy/data/browser/csv.php?tbl=T11.01)**\n",
    "- **Analysis question:** Has natural gas help to decarbonize the US economy?\n",
    "- **Columns that will (likely) be used from the UN dataset:**\n",
    "  - [Year]\n",
    "  - [Region/Country/Area]\n",
    "  - [Value]\n",
    "- (If you're using multiple datasets) **Columns to be used to merge/join them:**\n",
    "  - [Dataset 1] [country name] & [Year]\n",
    "  - [Dataset 2] [country name] & [Year]\n",
    "- **Hypothesis**: Natural gas has played a significant role in the reduction of the CO2 emissions in the US because it is a sustitute for coal.\n",
    "- **Site URL:** [URL from Publish section](https://programing.readthedocs.io/en/latest/)"
   ]
  },
  {
   "cell_type": "code",
   "execution_count": 1,
   "metadata": {},
   "outputs": [],
   "source": [
    "import plotly.io as pio\n",
    "\n",
    "pio.renderers.default = \"vscode+jupyterlab+notebook_connected\"\n"
   ]
  },
  {
   "cell_type": "code",
   "execution_count": 2,
   "metadata": {},
   "outputs": [],
   "source": [
    "import pandas as pd\n",
    "import plotly.express as px"
   ]
  },
  {
   "cell_type": "markdown",
   "metadata": {},
   "source": [
    "## 3.1. The US CO2 emissions in the world context"
   ]
  },
  {
   "cell_type": "code",
   "execution_count": 3,
   "metadata": {},
   "outputs": [
    {
     "data": {
      "text/html": [
       "<div>\n",
       "<style scoped>\n",
       "    .dataframe tbody tr th:only-of-type {\n",
       "        vertical-align: middle;\n",
       "    }\n",
       "\n",
       "    .dataframe tbody tr th {\n",
       "        vertical-align: top;\n",
       "    }\n",
       "\n",
       "    .dataframe thead th {\n",
       "        text-align: right;\n",
       "    }\n",
       "</style>\n",
       "<table border=\"1\" class=\"dataframe\">\n",
       "  <thead>\n",
       "    <tr style=\"text-align: right;\">\n",
       "      <th></th>\n",
       "      <th>Region/Country/Area</th>\n",
       "      <th>Unnamed: 1</th>\n",
       "      <th>Year</th>\n",
       "      <th>Series</th>\n",
       "      <th>Value</th>\n",
       "      <th>Footnotes</th>\n",
       "      <th>Source</th>\n",
       "    </tr>\n",
       "  </thead>\n",
       "  <tbody>\n",
       "    <tr>\n",
       "      <th>0</th>\n",
       "      <td>1</td>\n",
       "      <td>Total, all countries or areas</td>\n",
       "      <td>1975</td>\n",
       "      <td>Emissions (thousand metric tons of carbon diox...</td>\n",
       "      <td>16,042,405</td>\n",
       "      <td>NaN</td>\n",
       "      <td>United Nations Statistics Division, New York, ...</td>\n",
       "    </tr>\n",
       "    <tr>\n",
       "      <th>1</th>\n",
       "      <td>1</td>\n",
       "      <td>Total, all countries or areas</td>\n",
       "      <td>1985</td>\n",
       "      <td>Emissions (thousand metric tons of carbon diox...</td>\n",
       "      <td>19,348,135</td>\n",
       "      <td>NaN</td>\n",
       "      <td>United Nations Statistics Division, New York, ...</td>\n",
       "    </tr>\n",
       "    <tr>\n",
       "      <th>2</th>\n",
       "      <td>1</td>\n",
       "      <td>Total, all countries or areas</td>\n",
       "      <td>2005</td>\n",
       "      <td>Emissions (thousand metric tons of carbon diox...</td>\n",
       "      <td>26,638,238</td>\n",
       "      <td>NaN</td>\n",
       "      <td>United Nations Statistics Division, New York, ...</td>\n",
       "    </tr>\n",
       "    <tr>\n",
       "      <th>3</th>\n",
       "      <td>1</td>\n",
       "      <td>Total, all countries or areas</td>\n",
       "      <td>2010</td>\n",
       "      <td>Emissions (thousand metric tons of carbon diox...</td>\n",
       "      <td>30,044,215</td>\n",
       "      <td>NaN</td>\n",
       "      <td>United Nations Statistics Division, New York, ...</td>\n",
       "    </tr>\n",
       "    <tr>\n",
       "      <th>4</th>\n",
       "      <td>1</td>\n",
       "      <td>Total, all countries or areas</td>\n",
       "      <td>2015</td>\n",
       "      <td>Emissions (thousand metric tons of carbon diox...</td>\n",
       "      <td>31,468,477</td>\n",
       "      <td>NaN</td>\n",
       "      <td>United Nations Statistics Division, New York, ...</td>\n",
       "    </tr>\n",
       "    <tr>\n",
       "      <th>...</th>\n",
       "      <td>...</td>\n",
       "      <td>...</td>\n",
       "      <td>...</td>\n",
       "      <td>...</td>\n",
       "      <td>...</td>\n",
       "      <td>...</td>\n",
       "      <td>...</td>\n",
       "    </tr>\n",
       "    <tr>\n",
       "      <th>3439</th>\n",
       "      <td>716</td>\n",
       "      <td>Zimbabwe</td>\n",
       "      <td>2010</td>\n",
       "      <td>Emissions per capita (Kilograms of carbon diox...</td>\n",
       "      <td>0.7</td>\n",
       "      <td>NaN</td>\n",
       "      <td>United Nations Statistics Division, New York, ...</td>\n",
       "    </tr>\n",
       "    <tr>\n",
       "      <th>3440</th>\n",
       "      <td>716</td>\n",
       "      <td>Zimbabwe</td>\n",
       "      <td>2015</td>\n",
       "      <td>Emissions per capita (Kilograms of carbon diox...</td>\n",
       "      <td>0.8</td>\n",
       "      <td>NaN</td>\n",
       "      <td>United Nations Statistics Division, New York, ...</td>\n",
       "    </tr>\n",
       "    <tr>\n",
       "      <th>3441</th>\n",
       "      <td>716</td>\n",
       "      <td>Zimbabwe</td>\n",
       "      <td>2019</td>\n",
       "      <td>Emissions per capita (Kilograms of carbon diox...</td>\n",
       "      <td>0.7</td>\n",
       "      <td>NaN</td>\n",
       "      <td>United Nations Statistics Division, New York, ...</td>\n",
       "    </tr>\n",
       "    <tr>\n",
       "      <th>3442</th>\n",
       "      <td>716</td>\n",
       "      <td>Zimbabwe</td>\n",
       "      <td>2020</td>\n",
       "      <td>Emissions per capita (Kilograms of carbon diox...</td>\n",
       "      <td>0.5</td>\n",
       "      <td>NaN</td>\n",
       "      <td>United Nations Statistics Division, New York, ...</td>\n",
       "    </tr>\n",
       "    <tr>\n",
       "      <th>3443</th>\n",
       "      <td>716</td>\n",
       "      <td>Zimbabwe</td>\n",
       "      <td>2021</td>\n",
       "      <td>Emissions per capita (Kilograms of carbon diox...</td>\n",
       "      <td>0.6</td>\n",
       "      <td>NaN</td>\n",
       "      <td>United Nations Statistics Division, New York, ...</td>\n",
       "    </tr>\n",
       "  </tbody>\n",
       "</table>\n",
       "<p>3444 rows × 7 columns</p>\n",
       "</div>"
      ],
      "text/plain": [
       "      Region/Country/Area                     Unnamed: 1  Year  \\\n",
       "0                       1  Total, all countries or areas  1975   \n",
       "1                       1  Total, all countries or areas  1985   \n",
       "2                       1  Total, all countries or areas  2005   \n",
       "3                       1  Total, all countries or areas  2010   \n",
       "4                       1  Total, all countries or areas  2015   \n",
       "...                   ...                            ...   ...   \n",
       "3439                  716                       Zimbabwe  2010   \n",
       "3440                  716                       Zimbabwe  2015   \n",
       "3441                  716                       Zimbabwe  2019   \n",
       "3442                  716                       Zimbabwe  2020   \n",
       "3443                  716                       Zimbabwe  2021   \n",
       "\n",
       "                                                 Series       Value Footnotes  \\\n",
       "0     Emissions (thousand metric tons of carbon diox...  16,042,405       NaN   \n",
       "1     Emissions (thousand metric tons of carbon diox...  19,348,135       NaN   \n",
       "2     Emissions (thousand metric tons of carbon diox...  26,638,238       NaN   \n",
       "3     Emissions (thousand metric tons of carbon diox...  30,044,215       NaN   \n",
       "4     Emissions (thousand metric tons of carbon diox...  31,468,477       NaN   \n",
       "...                                                 ...         ...       ...   \n",
       "3439  Emissions per capita (Kilograms of carbon diox...         0.7       NaN   \n",
       "3440  Emissions per capita (Kilograms of carbon diox...         0.8       NaN   \n",
       "3441  Emissions per capita (Kilograms of carbon diox...         0.7       NaN   \n",
       "3442  Emissions per capita (Kilograms of carbon diox...         0.5       NaN   \n",
       "3443  Emissions per capita (Kilograms of carbon diox...         0.6       NaN   \n",
       "\n",
       "                                                 Source  \n",
       "0     United Nations Statistics Division, New York, ...  \n",
       "1     United Nations Statistics Division, New York, ...  \n",
       "2     United Nations Statistics Division, New York, ...  \n",
       "3     United Nations Statistics Division, New York, ...  \n",
       "4     United Nations Statistics Division, New York, ...  \n",
       "...                                                 ...  \n",
       "3439  United Nations Statistics Division, New York, ...  \n",
       "3440  United Nations Statistics Division, New York, ...  \n",
       "3441  United Nations Statistics Division, New York, ...  \n",
       "3442  United Nations Statistics Division, New York, ...  \n",
       "3443  United Nations Statistics Division, New York, ...  \n",
       "\n",
       "[3444 rows x 7 columns]"
      ]
     },
     "execution_count": 3,
     "metadata": {},
     "output_type": "execute_result"
    }
   ],
   "source": [
    "\n",
    "global_CO2=pd.read_csv('SYB67_310_202411_Carbon Dioxide Emission Estimates.csv', skiprows=1)\n",
    "global_CO2"
   ]
  },
  {
   "cell_type": "code",
   "execution_count": 4,
   "metadata": {},
   "outputs": [
    {
     "data": {
      "text/html": [
       "<div>\n",
       "<style scoped>\n",
       "    .dataframe tbody tr th:only-of-type {\n",
       "        vertical-align: middle;\n",
       "    }\n",
       "\n",
       "    .dataframe tbody tr th {\n",
       "        vertical-align: top;\n",
       "    }\n",
       "\n",
       "    .dataframe thead th {\n",
       "        text-align: right;\n",
       "    }\n",
       "</style>\n",
       "<table border=\"1\" class=\"dataframe\">\n",
       "  <thead>\n",
       "    <tr style=\"text-align: right;\">\n",
       "      <th></th>\n",
       "      <th>Region/Country/Area</th>\n",
       "      <th>country name</th>\n",
       "      <th>Year</th>\n",
       "      <th>Series</th>\n",
       "      <th>Value</th>\n",
       "      <th>Footnotes</th>\n",
       "      <th>Source</th>\n",
       "    </tr>\n",
       "  </thead>\n",
       "  <tbody>\n",
       "    <tr>\n",
       "      <th>0</th>\n",
       "      <td>1</td>\n",
       "      <td>Total, all countries or areas</td>\n",
       "      <td>1975</td>\n",
       "      <td>Emissions (thousand metric tons of carbon diox...</td>\n",
       "      <td>16,042,405</td>\n",
       "      <td>NaN</td>\n",
       "      <td>United Nations Statistics Division, New York, ...</td>\n",
       "    </tr>\n",
       "    <tr>\n",
       "      <th>1</th>\n",
       "      <td>1</td>\n",
       "      <td>Total, all countries or areas</td>\n",
       "      <td>1985</td>\n",
       "      <td>Emissions (thousand metric tons of carbon diox...</td>\n",
       "      <td>19,348,135</td>\n",
       "      <td>NaN</td>\n",
       "      <td>United Nations Statistics Division, New York, ...</td>\n",
       "    </tr>\n",
       "    <tr>\n",
       "      <th>2</th>\n",
       "      <td>1</td>\n",
       "      <td>Total, all countries or areas</td>\n",
       "      <td>2005</td>\n",
       "      <td>Emissions (thousand metric tons of carbon diox...</td>\n",
       "      <td>26,638,238</td>\n",
       "      <td>NaN</td>\n",
       "      <td>United Nations Statistics Division, New York, ...</td>\n",
       "    </tr>\n",
       "    <tr>\n",
       "      <th>3</th>\n",
       "      <td>1</td>\n",
       "      <td>Total, all countries or areas</td>\n",
       "      <td>2010</td>\n",
       "      <td>Emissions (thousand metric tons of carbon diox...</td>\n",
       "      <td>30,044,215</td>\n",
       "      <td>NaN</td>\n",
       "      <td>United Nations Statistics Division, New York, ...</td>\n",
       "    </tr>\n",
       "    <tr>\n",
       "      <th>4</th>\n",
       "      <td>1</td>\n",
       "      <td>Total, all countries or areas</td>\n",
       "      <td>2015</td>\n",
       "      <td>Emissions (thousand metric tons of carbon diox...</td>\n",
       "      <td>31,468,477</td>\n",
       "      <td>NaN</td>\n",
       "      <td>United Nations Statistics Division, New York, ...</td>\n",
       "    </tr>\n",
       "  </tbody>\n",
       "</table>\n",
       "</div>"
      ],
      "text/plain": [
       "   Region/Country/Area                   country name  Year  \\\n",
       "0                    1  Total, all countries or areas  1975   \n",
       "1                    1  Total, all countries or areas  1985   \n",
       "2                    1  Total, all countries or areas  2005   \n",
       "3                    1  Total, all countries or areas  2010   \n",
       "4                    1  Total, all countries or areas  2015   \n",
       "\n",
       "                                              Series       Value Footnotes  \\\n",
       "0  Emissions (thousand metric tons of carbon diox...  16,042,405       NaN   \n",
       "1  Emissions (thousand metric tons of carbon diox...  19,348,135       NaN   \n",
       "2  Emissions (thousand metric tons of carbon diox...  26,638,238       NaN   \n",
       "3  Emissions (thousand metric tons of carbon diox...  30,044,215       NaN   \n",
       "4  Emissions (thousand metric tons of carbon diox...  31,468,477       NaN   \n",
       "\n",
       "                                              Source  \n",
       "0  United Nations Statistics Division, New York, ...  \n",
       "1  United Nations Statistics Division, New York, ...  \n",
       "2  United Nations Statistics Division, New York, ...  \n",
       "3  United Nations Statistics Division, New York, ...  \n",
       "4  United Nations Statistics Division, New York, ...  "
      ]
     },
     "execution_count": 4,
     "metadata": {},
     "output_type": "execute_result"
    }
   ],
   "source": [
    "#Adjusting the name of the columns\n",
    "global_CO2=global_CO2.rename(columns={'Unnamed: 1':'country name'})\n",
    "global_CO2=global_CO2.rename(columns={'Region/Country/Area\t':'Region/Country/Area'})\n",
    "global_CO2.head()\n"
   ]
  },
  {
   "cell_type": "code",
   "execution_count": 5,
   "metadata": {},
   "outputs": [
    {
     "name": "stdout",
     "output_type": "stream",
     "text": [
      "<class 'pandas.core.frame.DataFrame'>\n",
      "RangeIndex: 3444 entries, 0 to 3443\n",
      "Data columns (total 7 columns):\n",
      " #   Column               Non-Null Count  Dtype \n",
      "---  ------               --------------  ----- \n",
      " 0   Region/Country/Area  3444 non-null   int64 \n",
      " 1   country name         3444 non-null   object\n",
      " 2   Year                 3444 non-null   int64 \n",
      " 3   Series               3444 non-null   object\n",
      " 4   Value                3444 non-null   object\n",
      " 5   Footnotes            958 non-null    object\n",
      " 6   Source               3444 non-null   object\n",
      "dtypes: int64(2), object(5)\n",
      "memory usage: 188.5+ KB\n"
     ]
    }
   ],
   "source": [
    "global_CO2.info()"
   ]
  },
  {
   "cell_type": "code",
   "execution_count": 6,
   "metadata": {},
   "outputs": [
    {
     "data": {
      "text/html": [
       "<div>\n",
       "<style scoped>\n",
       "    .dataframe tbody tr th:only-of-type {\n",
       "        vertical-align: middle;\n",
       "    }\n",
       "\n",
       "    .dataframe tbody tr th {\n",
       "        vertical-align: top;\n",
       "    }\n",
       "\n",
       "    .dataframe thead th {\n",
       "        text-align: right;\n",
       "    }\n",
       "</style>\n",
       "<table border=\"1\" class=\"dataframe\">\n",
       "  <thead>\n",
       "    <tr style=\"text-align: right;\">\n",
       "      <th>Series</th>\n",
       "      <th>Region/Country/Area</th>\n",
       "      <th>country name</th>\n",
       "      <th>Year</th>\n",
       "      <th>Source</th>\n",
       "      <th>Emissions (thousand metric tons of carbon dioxide)</th>\n",
       "      <th>Emissions per capita (Kilograms of carbon dioxide)</th>\n",
       "    </tr>\n",
       "  </thead>\n",
       "  <tbody>\n",
       "    <tr>\n",
       "      <th>0</th>\n",
       "      <td>1</td>\n",
       "      <td>Total, all countries or areas</td>\n",
       "      <td>1975</td>\n",
       "      <td>United Nations Statistics Division, New York, ...</td>\n",
       "      <td>16042405.0</td>\n",
       "      <td>3.9</td>\n",
       "    </tr>\n",
       "    <tr>\n",
       "      <th>1</th>\n",
       "      <td>1</td>\n",
       "      <td>Total, all countries or areas</td>\n",
       "      <td>1985</td>\n",
       "      <td>United Nations Statistics Division, New York, ...</td>\n",
       "      <td>19348135.0</td>\n",
       "      <td>4.0</td>\n",
       "    </tr>\n",
       "    <tr>\n",
       "      <th>2</th>\n",
       "      <td>1</td>\n",
       "      <td>Total, all countries or areas</td>\n",
       "      <td>2005</td>\n",
       "      <td>United Nations Statistics Division, New York, ...</td>\n",
       "      <td>26638238.0</td>\n",
       "      <td>4.1</td>\n",
       "    </tr>\n",
       "    <tr>\n",
       "      <th>3</th>\n",
       "      <td>1</td>\n",
       "      <td>Total, all countries or areas</td>\n",
       "      <td>2010</td>\n",
       "      <td>United Nations Statistics Division, New York, ...</td>\n",
       "      <td>30044215.0</td>\n",
       "      <td>4.3</td>\n",
       "    </tr>\n",
       "    <tr>\n",
       "      <th>4</th>\n",
       "      <td>1</td>\n",
       "      <td>Total, all countries or areas</td>\n",
       "      <td>2015</td>\n",
       "      <td>United Nations Statistics Division, New York, ...</td>\n",
       "      <td>31468477.0</td>\n",
       "      <td>4.2</td>\n",
       "    </tr>\n",
       "    <tr>\n",
       "      <th>...</th>\n",
       "      <td>...</td>\n",
       "      <td>...</td>\n",
       "      <td>...</td>\n",
       "      <td>...</td>\n",
       "      <td>...</td>\n",
       "      <td>...</td>\n",
       "    </tr>\n",
       "    <tr>\n",
       "      <th>1717</th>\n",
       "      <td>894</td>\n",
       "      <td>Zambia</td>\n",
       "      <td>2010</td>\n",
       "      <td>United Nations Statistics Division, New York, ...</td>\n",
       "      <td>2759.0</td>\n",
       "      <td>0.2</td>\n",
       "    </tr>\n",
       "    <tr>\n",
       "      <th>1718</th>\n",
       "      <td>894</td>\n",
       "      <td>Zambia</td>\n",
       "      <td>2015</td>\n",
       "      <td>United Nations Statistics Division, New York, ...</td>\n",
       "      <td>4484.0</td>\n",
       "      <td>0.3</td>\n",
       "    </tr>\n",
       "    <tr>\n",
       "      <th>1719</th>\n",
       "      <td>894</td>\n",
       "      <td>Zambia</td>\n",
       "      <td>2019</td>\n",
       "      <td>United Nations Statistics Division, New York, ...</td>\n",
       "      <td>7015.0</td>\n",
       "      <td>0.4</td>\n",
       "    </tr>\n",
       "    <tr>\n",
       "      <th>1720</th>\n",
       "      <td>894</td>\n",
       "      <td>Zambia</td>\n",
       "      <td>2020</td>\n",
       "      <td>United Nations Statistics Division, New York, ...</td>\n",
       "      <td>7314.0</td>\n",
       "      <td>0.4</td>\n",
       "    </tr>\n",
       "    <tr>\n",
       "      <th>1721</th>\n",
       "      <td>894</td>\n",
       "      <td>Zambia</td>\n",
       "      <td>2021</td>\n",
       "      <td>United Nations Statistics Division, New York, ...</td>\n",
       "      <td>6972.0</td>\n",
       "      <td>0.4</td>\n",
       "    </tr>\n",
       "  </tbody>\n",
       "</table>\n",
       "<p>1722 rows × 6 columns</p>\n",
       "</div>"
      ],
      "text/plain": [
       "Series  Region/Country/Area                   country name  Year  \\\n",
       "0                         1  Total, all countries or areas  1975   \n",
       "1                         1  Total, all countries or areas  1985   \n",
       "2                         1  Total, all countries or areas  2005   \n",
       "3                         1  Total, all countries or areas  2010   \n",
       "4                         1  Total, all countries or areas  2015   \n",
       "...                     ...                            ...   ...   \n",
       "1717                    894                         Zambia  2010   \n",
       "1718                    894                         Zambia  2015   \n",
       "1719                    894                         Zambia  2019   \n",
       "1720                    894                         Zambia  2020   \n",
       "1721                    894                         Zambia  2021   \n",
       "\n",
       "Series                                             Source  \\\n",
       "0       United Nations Statistics Division, New York, ...   \n",
       "1       United Nations Statistics Division, New York, ...   \n",
       "2       United Nations Statistics Division, New York, ...   \n",
       "3       United Nations Statistics Division, New York, ...   \n",
       "4       United Nations Statistics Division, New York, ...   \n",
       "...                                                   ...   \n",
       "1717    United Nations Statistics Division, New York, ...   \n",
       "1718    United Nations Statistics Division, New York, ...   \n",
       "1719    United Nations Statistics Division, New York, ...   \n",
       "1720    United Nations Statistics Division, New York, ...   \n",
       "1721    United Nations Statistics Division, New York, ...   \n",
       "\n",
       "Series  Emissions (thousand metric tons of carbon dioxide)  \\\n",
       "0                                              16042405.0    \n",
       "1                                              19348135.0    \n",
       "2                                              26638238.0    \n",
       "3                                              30044215.0    \n",
       "4                                              31468477.0    \n",
       "...                                                   ...    \n",
       "1717                                               2759.0    \n",
       "1718                                               4484.0    \n",
       "1719                                               7015.0    \n",
       "1720                                               7314.0    \n",
       "1721                                               6972.0    \n",
       "\n",
       "Series  Emissions per capita (Kilograms of carbon dioxide)  \n",
       "0                                                     3.9   \n",
       "1                                                     4.0   \n",
       "2                                                     4.1   \n",
       "3                                                     4.3   \n",
       "4                                                     4.2   \n",
       "...                                                   ...   \n",
       "1717                                                  0.2   \n",
       "1718                                                  0.3   \n",
       "1719                                                  0.4   \n",
       "1720                                                  0.4   \n",
       "1721                                                  0.4   \n",
       "\n",
       "[1722 rows x 6 columns]"
      ]
     },
     "execution_count": 6,
     "metadata": {},
     "output_type": "execute_result"
    }
   ],
   "source": [
    "\n",
    "global_CO2['Value'] = global_CO2['Value'].str.replace(',', '').astype(float)\n",
    "\n",
    "global_CO2_reshaped=global_CO2.pivot_table(\n",
    "    index=['Region/Country/Area','country name','Year','Source'], \n",
    "    columns='Series', \n",
    "    values='Value'\n",
    ")\n",
    "global_CO2_reshaped=global_CO2_reshaped.reset_index()\n",
    "global_CO2_reshaped\n"
   ]
  },
  {
   "cell_type": "code",
   "execution_count": 7,
   "metadata": {},
   "outputs": [
    {
     "data": {
      "text/plain": [
       "array(['Total, all countries or areas', 'Africa', 'North America',\n",
       "       'Afghanistan', 'South America', 'Albania', 'Algeria',\n",
       "       'American Samoa', 'Andorra', 'Angola', 'Antigua and Barbuda',\n",
       "       'Azerbaijan', 'Argentina', 'Australia', 'Austria', 'Bahamas',\n",
       "       'Bahrain', 'Bangladesh', 'Armenia', 'Barbados', 'Belgium',\n",
       "       'Bermuda', 'Bhutan', 'Bolivia (Plurin. State of)',\n",
       "       'Bosnia and Herzegovina', 'Botswana', 'Brazil', 'Belize',\n",
       "       'Solomon Islands', 'British Virgin Islands', 'Brunei Darussalam',\n",
       "       'Bulgaria', 'Myanmar', 'Burundi', 'Belarus', 'Cambodia',\n",
       "       'Cameroon', 'Canada', 'Cabo Verde', 'Cayman Islands',\n",
       "       'Central African Republic', 'Asia', 'Sri Lanka', 'Chad', 'Europe',\n",
       "       'Chile', 'China', 'Colombia', 'Comoros', 'Mayotte', 'Congo',\n",
       "       'Dem. Rep. of the Congo', 'Cook Islands', 'Costa Rica', 'Croatia',\n",
       "       'Cuba', 'Cyprus', 'Czechia', 'Benin', 'Denmark', 'Dominica',\n",
       "       'Dominican Republic', 'Ecuador', 'El Salvador',\n",
       "       'Equatorial Guinea', 'Ethiopia [former]', 'Ethiopia', 'Eritrea',\n",
       "       'Estonia', 'Faroe Islands', 'Falkland Islands (Malvinas)', 'Fiji',\n",
       "       'Finland', 'France', 'French Guiana', 'French Polynesia',\n",
       "       'Djibouti', 'Gabon', 'Georgia', 'Gambia', 'State of Palestine',\n",
       "       'Germany', 'Ghana', 'Gibraltar', 'Kiribati', 'Greece', 'Greenland',\n",
       "       'Grenada', 'Guadeloupe', 'Guatemala', 'Guinea', 'Guyana', 'Haiti',\n",
       "       'Honduras', 'China, Hong Kong SAR', 'Hungary', 'Iceland', 'India',\n",
       "       'Indonesia', 'Iran (Islamic Republic of)', 'Iraq', 'Ireland',\n",
       "       'Israel', 'Italy', 'Côte d’Ivoire', 'Jamaica', 'Japan',\n",
       "       'Kazakhstan', 'Jordan', 'Kenya', \"Dem. People's Rep. Korea\",\n",
       "       'Republic of Korea', 'Kosovo', 'Kuwait', 'Kyrgyzstan',\n",
       "       \"Lao People's Dem. Rep.\", 'Lebanon', 'Lesotho', 'Latvia',\n",
       "       'Liberia', 'Libya', 'Liechtenstein', 'Lithuania', 'Luxembourg',\n",
       "       'China, Macao SAR', 'Madagascar', 'Malawi', 'Malaysia', 'Maldives',\n",
       "       'Mali', 'Malta', 'Martinique', 'Mauritania', 'Mauritius', 'Mexico',\n",
       "       'Mongolia', 'Republic of Moldova', 'Montenegro', 'Montserrat',\n",
       "       'Morocco', 'Mozambique', 'Oman', 'Namibia', 'Nauru', 'Nepal',\n",
       "       'Netherlands (Kingdom of the)', 'Netherlands Antilles [former]',\n",
       "       'Curaçao', 'Aruba', 'Sint Maarten (Dutch part)',\n",
       "       'Bonaire, St. Eustatius & Saba', 'New Caledonia', 'Vanuatu',\n",
       "       'New Zealand', 'Nicaragua', 'Niger', 'Nigeria', 'Niue', 'Norway',\n",
       "       'Northern Mariana Islands', 'Micronesia (Fed. States of)',\n",
       "       'Marshall Islands', 'Palau', 'Pakistan', 'Panama',\n",
       "       'Papua New Guinea', 'Paraguay', 'Peru', 'Philippines', 'Poland',\n",
       "       'Portugal', 'Guinea-Bissau', 'Timor-Leste', 'Puerto Rico', 'Qatar',\n",
       "       'Réunion', 'Romania', 'Russian Federation', 'Rwanda',\n",
       "       'Saint Helena', 'Saint Kitts and Nevis', 'Anguilla', 'Saint Lucia',\n",
       "       'Saint Pierre and Miquelon', 'Saint Vincent & Grenadines',\n",
       "       'Sao Tome and Principe', 'Saudi Arabia', 'Senegal', 'Serbia',\n",
       "       'Seychelles', 'Sierra Leone', 'Singapore', 'Slovakia', 'Viet Nam',\n",
       "       'Slovenia', 'Somalia', 'South Africa', 'Zimbabwe', 'Spain',\n",
       "       'South Sudan', 'Sudan', 'Sudan [former]', 'Suriname', 'Eswatini',\n",
       "       'Sweden', 'Switzerland', 'Syrian Arab Republic', 'Tajikistan',\n",
       "       'Thailand', 'Togo', 'Tonga', 'Trinidad and Tobago',\n",
       "       'United Arab Emirates', 'Tunisia', 'Türkiye', 'Turkmenistan',\n",
       "       'Turks and Caicos Islands', 'Tuvalu', 'Uganda', 'Ukraine',\n",
       "       'North Macedonia', 'Egypt', 'United Kingdom', 'Isle of Man',\n",
       "       'United Rep. of Tanzania', 'United States of America',\n",
       "       'Burkina Faso', 'Uruguay', 'Uzbekistan',\n",
       "       'Venezuela (Boliv. Rep. of)', 'Wallis and Futuna Islands', 'Samoa',\n",
       "       'Yemen', 'Zambia'], dtype=object)"
      ]
     },
     "execution_count": 7,
     "metadata": {},
     "output_type": "execute_result"
    }
   ],
   "source": [
    "global_CO2_reshaped['country name'].unique()"
   ]
  },
  {
   "cell_type": "code",
   "execution_count": 8,
   "metadata": {},
   "outputs": [
    {
     "data": {
      "text/html": [
       "<div>\n",
       "<style scoped>\n",
       "    .dataframe tbody tr th:only-of-type {\n",
       "        vertical-align: middle;\n",
       "    }\n",
       "\n",
       "    .dataframe tbody tr th {\n",
       "        vertical-align: top;\n",
       "    }\n",
       "\n",
       "    .dataframe thead th {\n",
       "        text-align: right;\n",
       "    }\n",
       "</style>\n",
       "<table border=\"1\" class=\"dataframe\">\n",
       "  <thead>\n",
       "    <tr style=\"text-align: right;\">\n",
       "      <th>Series</th>\n",
       "      <th>Region/Country/Area</th>\n",
       "      <th>country name</th>\n",
       "      <th>Year</th>\n",
       "      <th>Source</th>\n",
       "      <th>Emissions (thousand metric tons of carbon dioxide)</th>\n",
       "    </tr>\n",
       "  </thead>\n",
       "  <tbody>\n",
       "    <tr>\n",
       "      <th>0</th>\n",
       "      <td>1</td>\n",
       "      <td>Total, all countries or areas</td>\n",
       "      <td>1975</td>\n",
       "      <td>United Nations Statistics Division, New York, ...</td>\n",
       "      <td>16042405.0</td>\n",
       "    </tr>\n",
       "    <tr>\n",
       "      <th>1</th>\n",
       "      <td>1</td>\n",
       "      <td>Total, all countries or areas</td>\n",
       "      <td>1985</td>\n",
       "      <td>United Nations Statistics Division, New York, ...</td>\n",
       "      <td>19348135.0</td>\n",
       "    </tr>\n",
       "    <tr>\n",
       "      <th>2</th>\n",
       "      <td>1</td>\n",
       "      <td>Total, all countries or areas</td>\n",
       "      <td>2005</td>\n",
       "      <td>United Nations Statistics Division, New York, ...</td>\n",
       "      <td>26638238.0</td>\n",
       "    </tr>\n",
       "    <tr>\n",
       "      <th>3</th>\n",
       "      <td>1</td>\n",
       "      <td>Total, all countries or areas</td>\n",
       "      <td>2010</td>\n",
       "      <td>United Nations Statistics Division, New York, ...</td>\n",
       "      <td>30044215.0</td>\n",
       "    </tr>\n",
       "    <tr>\n",
       "      <th>4</th>\n",
       "      <td>1</td>\n",
       "      <td>Total, all countries or areas</td>\n",
       "      <td>2015</td>\n",
       "      <td>United Nations Statistics Division, New York, ...</td>\n",
       "      <td>31468477.0</td>\n",
       "    </tr>\n",
       "    <tr>\n",
       "      <th>5</th>\n",
       "      <td>1</td>\n",
       "      <td>Total, all countries or areas</td>\n",
       "      <td>2019</td>\n",
       "      <td>United Nations Statistics Division, New York, ...</td>\n",
       "      <td>32852354.0</td>\n",
       "    </tr>\n",
       "    <tr>\n",
       "      <th>6</th>\n",
       "      <td>1</td>\n",
       "      <td>Total, all countries or areas</td>\n",
       "      <td>2020</td>\n",
       "      <td>United Nations Statistics Division, New York, ...</td>\n",
       "      <td>31239043.0</td>\n",
       "    </tr>\n",
       "    <tr>\n",
       "      <th>7</th>\n",
       "      <td>1</td>\n",
       "      <td>Total, all countries or areas</td>\n",
       "      <td>2021</td>\n",
       "      <td>United Nations Statistics Division, New York, ...</td>\n",
       "      <td>33147028.0</td>\n",
       "    </tr>\n",
       "    <tr>\n",
       "      <th>1656</th>\n",
       "      <td>840</td>\n",
       "      <td>United States of America</td>\n",
       "      <td>1975</td>\n",
       "      <td>United Nations Statistics Division, New York, ...</td>\n",
       "      <td>4448307.0</td>\n",
       "    </tr>\n",
       "    <tr>\n",
       "      <th>1657</th>\n",
       "      <td>840</td>\n",
       "      <td>United States of America</td>\n",
       "      <td>1985</td>\n",
       "      <td>United Nations Statistics Division, New York, ...</td>\n",
       "      <td>4547755.0</td>\n",
       "    </tr>\n",
       "    <tr>\n",
       "      <th>1658</th>\n",
       "      <td>840</td>\n",
       "      <td>United States of America</td>\n",
       "      <td>2005</td>\n",
       "      <td>United Nations Statistics Division, New York, ...</td>\n",
       "      <td>5783324.0</td>\n",
       "    </tr>\n",
       "    <tr>\n",
       "      <th>1659</th>\n",
       "      <td>840</td>\n",
       "      <td>United States of America</td>\n",
       "      <td>2010</td>\n",
       "      <td>United Nations Statistics Division, New York, ...</td>\n",
       "      <td>5364966.0</td>\n",
       "    </tr>\n",
       "    <tr>\n",
       "      <th>1660</th>\n",
       "      <td>840</td>\n",
       "      <td>United States of America</td>\n",
       "      <td>2015</td>\n",
       "      <td>United Nations Statistics Division, New York, ...</td>\n",
       "      <td>5016486.0</td>\n",
       "    </tr>\n",
       "    <tr>\n",
       "      <th>1661</th>\n",
       "      <td>840</td>\n",
       "      <td>United States of America</td>\n",
       "      <td>2019</td>\n",
       "      <td>United Nations Statistics Division, New York, ...</td>\n",
       "      <td>4797877.0</td>\n",
       "    </tr>\n",
       "    <tr>\n",
       "      <th>1662</th>\n",
       "      <td>840</td>\n",
       "      <td>United States of America</td>\n",
       "      <td>2020</td>\n",
       "      <td>United Nations Statistics Division, New York, ...</td>\n",
       "      <td>4295838.0</td>\n",
       "    </tr>\n",
       "    <tr>\n",
       "      <th>1663</th>\n",
       "      <td>840</td>\n",
       "      <td>United States of America</td>\n",
       "      <td>2021</td>\n",
       "      <td>United Nations Statistics Division, New York, ...</td>\n",
       "      <td>4596838.0</td>\n",
       "    </tr>\n",
       "  </tbody>\n",
       "</table>\n",
       "</div>"
      ],
      "text/plain": [
       "Series  Region/Country/Area                   country name  Year  \\\n",
       "0                         1  Total, all countries or areas  1975   \n",
       "1                         1  Total, all countries or areas  1985   \n",
       "2                         1  Total, all countries or areas  2005   \n",
       "3                         1  Total, all countries or areas  2010   \n",
       "4                         1  Total, all countries or areas  2015   \n",
       "5                         1  Total, all countries or areas  2019   \n",
       "6                         1  Total, all countries or areas  2020   \n",
       "7                         1  Total, all countries or areas  2021   \n",
       "1656                    840       United States of America  1975   \n",
       "1657                    840       United States of America  1985   \n",
       "1658                    840       United States of America  2005   \n",
       "1659                    840       United States of America  2010   \n",
       "1660                    840       United States of America  2015   \n",
       "1661                    840       United States of America  2019   \n",
       "1662                    840       United States of America  2020   \n",
       "1663                    840       United States of America  2021   \n",
       "\n",
       "Series                                             Source  \\\n",
       "0       United Nations Statistics Division, New York, ...   \n",
       "1       United Nations Statistics Division, New York, ...   \n",
       "2       United Nations Statistics Division, New York, ...   \n",
       "3       United Nations Statistics Division, New York, ...   \n",
       "4       United Nations Statistics Division, New York, ...   \n",
       "5       United Nations Statistics Division, New York, ...   \n",
       "6       United Nations Statistics Division, New York, ...   \n",
       "7       United Nations Statistics Division, New York, ...   \n",
       "1656    United Nations Statistics Division, New York, ...   \n",
       "1657    United Nations Statistics Division, New York, ...   \n",
       "1658    United Nations Statistics Division, New York, ...   \n",
       "1659    United Nations Statistics Division, New York, ...   \n",
       "1660    United Nations Statistics Division, New York, ...   \n",
       "1661    United Nations Statistics Division, New York, ...   \n",
       "1662    United Nations Statistics Division, New York, ...   \n",
       "1663    United Nations Statistics Division, New York, ...   \n",
       "\n",
       "Series  Emissions (thousand metric tons of carbon dioxide)  \n",
       "0                                              16042405.0   \n",
       "1                                              19348135.0   \n",
       "2                                              26638238.0   \n",
       "3                                              30044215.0   \n",
       "4                                              31468477.0   \n",
       "5                                              32852354.0   \n",
       "6                                              31239043.0   \n",
       "7                                              33147028.0   \n",
       "1656                                            4448307.0   \n",
       "1657                                            4547755.0   \n",
       "1658                                            5783324.0   \n",
       "1659                                            5364966.0   \n",
       "1660                                            5016486.0   \n",
       "1661                                            4797877.0   \n",
       "1662                                            4295838.0   \n",
       "1663                                            4596838.0   "
      ]
     },
     "execution_count": 8,
     "metadata": {},
     "output_type": "execute_result"
    }
   ],
   "source": [
    "global_CO2_reshaped=global_CO2_reshaped[\n",
    "    (global_CO2_reshaped['country name']=='United States of America') |\n",
    "    (global_CO2_reshaped['country name']=='Total, all countries or areas')\n",
    "]\n",
    "global_CO2_reshaped=global_CO2_reshaped.drop('Emissions per capita (Kilograms of carbon dioxide)', axis=1)\n",
    "global_CO2_reshaped"
   ]
  },
  {
   "cell_type": "code",
   "execution_count": 9,
   "metadata": {},
   "outputs": [
    {
     "data": {
      "text/plain": [
       "array(['Total, all countries or areas', 'United States of America'],\n",
       "      dtype=object)"
      ]
     },
     "execution_count": 9,
     "metadata": {},
     "output_type": "execute_result"
    }
   ],
   "source": [
    "global_CO2_reshaped['country name'].unique()"
   ]
  },
  {
   "cell_type": "code",
   "execution_count": 10,
   "metadata": {},
   "outputs": [
    {
     "name": "stdout",
     "output_type": "stream",
     "text": [
      "<class 'pandas.core.frame.DataFrame'>\n",
      "Index: 16 entries, 0 to 1663\n",
      "Data columns (total 5 columns):\n",
      " #   Column                                              Non-Null Count  Dtype  \n",
      "---  ------                                              --------------  -----  \n",
      " 0   Region/Country/Area                                 16 non-null     int64  \n",
      " 1   country name                                        16 non-null     object \n",
      " 2   Year                                                16 non-null     int64  \n",
      " 3   Source                                              16 non-null     object \n",
      " 4   Emissions (thousand metric tons of carbon dioxide)  16 non-null     float64\n",
      "dtypes: float64(1), int64(2), object(2)\n",
      "memory usage: 768.0+ bytes\n"
     ]
    }
   ],
   "source": [
    "global_CO2_reshaped.info()\n"
   ]
  },
  {
   "cell_type": "code",
   "execution_count": 11,
   "metadata": {},
   "outputs": [
    {
     "data": {
      "text/html": [
       "<div>\n",
       "<style scoped>\n",
       "    .dataframe tbody tr th:only-of-type {\n",
       "        vertical-align: middle;\n",
       "    }\n",
       "\n",
       "    .dataframe tbody tr th {\n",
       "        vertical-align: top;\n",
       "    }\n",
       "\n",
       "    .dataframe thead th {\n",
       "        text-align: right;\n",
       "    }\n",
       "</style>\n",
       "<table border=\"1\" class=\"dataframe\">\n",
       "  <thead>\n",
       "    <tr style=\"text-align: right;\">\n",
       "      <th>Series</th>\n",
       "      <th>Region/Country/Area</th>\n",
       "      <th>country name</th>\n",
       "      <th>Year</th>\n",
       "      <th>Source</th>\n",
       "      <th>Emissions (thousand metric tons of carbon dioxide)</th>\n",
       "      <th>Emissions (billion tons of CO2e)</th>\n",
       "      <th>Total World Emissions</th>\n",
       "      <th>Emissions %total</th>\n",
       "    </tr>\n",
       "  </thead>\n",
       "  <tbody>\n",
       "    <tr>\n",
       "      <th>0</th>\n",
       "      <td>1</td>\n",
       "      <td>Total, all countries or areas</td>\n",
       "      <td>1975</td>\n",
       "      <td>United Nations Statistics Division, New York, ...</td>\n",
       "      <td>16042405.0</td>\n",
       "      <td>16.042405</td>\n",
       "      <td>16.042405</td>\n",
       "      <td>100.000000</td>\n",
       "    </tr>\n",
       "    <tr>\n",
       "      <th>1</th>\n",
       "      <td>1</td>\n",
       "      <td>Total, all countries or areas</td>\n",
       "      <td>1985</td>\n",
       "      <td>United Nations Statistics Division, New York, ...</td>\n",
       "      <td>19348135.0</td>\n",
       "      <td>19.348135</td>\n",
       "      <td>19.348135</td>\n",
       "      <td>100.000000</td>\n",
       "    </tr>\n",
       "    <tr>\n",
       "      <th>2</th>\n",
       "      <td>1</td>\n",
       "      <td>Total, all countries or areas</td>\n",
       "      <td>2005</td>\n",
       "      <td>United Nations Statistics Division, New York, ...</td>\n",
       "      <td>26638238.0</td>\n",
       "      <td>26.638238</td>\n",
       "      <td>26.638238</td>\n",
       "      <td>100.000000</td>\n",
       "    </tr>\n",
       "    <tr>\n",
       "      <th>3</th>\n",
       "      <td>1</td>\n",
       "      <td>Total, all countries or areas</td>\n",
       "      <td>2010</td>\n",
       "      <td>United Nations Statistics Division, New York, ...</td>\n",
       "      <td>30044215.0</td>\n",
       "      <td>30.044215</td>\n",
       "      <td>30.044215</td>\n",
       "      <td>100.000000</td>\n",
       "    </tr>\n",
       "    <tr>\n",
       "      <th>4</th>\n",
       "      <td>1</td>\n",
       "      <td>Total, all countries or areas</td>\n",
       "      <td>2015</td>\n",
       "      <td>United Nations Statistics Division, New York, ...</td>\n",
       "      <td>31468477.0</td>\n",
       "      <td>31.468477</td>\n",
       "      <td>31.468477</td>\n",
       "      <td>100.000000</td>\n",
       "    </tr>\n",
       "    <tr>\n",
       "      <th>5</th>\n",
       "      <td>1</td>\n",
       "      <td>Total, all countries or areas</td>\n",
       "      <td>2019</td>\n",
       "      <td>United Nations Statistics Division, New York, ...</td>\n",
       "      <td>32852354.0</td>\n",
       "      <td>32.852354</td>\n",
       "      <td>32.852354</td>\n",
       "      <td>100.000000</td>\n",
       "    </tr>\n",
       "    <tr>\n",
       "      <th>6</th>\n",
       "      <td>1</td>\n",
       "      <td>Total, all countries or areas</td>\n",
       "      <td>2020</td>\n",
       "      <td>United Nations Statistics Division, New York, ...</td>\n",
       "      <td>31239043.0</td>\n",
       "      <td>31.239043</td>\n",
       "      <td>31.239043</td>\n",
       "      <td>100.000000</td>\n",
       "    </tr>\n",
       "    <tr>\n",
       "      <th>7</th>\n",
       "      <td>1</td>\n",
       "      <td>Total, all countries or areas</td>\n",
       "      <td>2021</td>\n",
       "      <td>United Nations Statistics Division, New York, ...</td>\n",
       "      <td>33147028.0</td>\n",
       "      <td>33.147028</td>\n",
       "      <td>33.147028</td>\n",
       "      <td>100.000000</td>\n",
       "    </tr>\n",
       "    <tr>\n",
       "      <th>1656</th>\n",
       "      <td>840</td>\n",
       "      <td>United States of America</td>\n",
       "      <td>1975</td>\n",
       "      <td>United Nations Statistics Division, New York, ...</td>\n",
       "      <td>4448307.0</td>\n",
       "      <td>4.448307</td>\n",
       "      <td>16.042405</td>\n",
       "      <td>27.728430</td>\n",
       "    </tr>\n",
       "    <tr>\n",
       "      <th>1657</th>\n",
       "      <td>840</td>\n",
       "      <td>United States of America</td>\n",
       "      <td>1985</td>\n",
       "      <td>United Nations Statistics Division, New York, ...</td>\n",
       "      <td>4547755.0</td>\n",
       "      <td>4.547755</td>\n",
       "      <td>19.348135</td>\n",
       "      <td>23.504875</td>\n",
       "    </tr>\n",
       "    <tr>\n",
       "      <th>1658</th>\n",
       "      <td>840</td>\n",
       "      <td>United States of America</td>\n",
       "      <td>2005</td>\n",
       "      <td>United Nations Statistics Division, New York, ...</td>\n",
       "      <td>5783324.0</td>\n",
       "      <td>5.783324</td>\n",
       "      <td>26.638238</td>\n",
       "      <td>21.710610</td>\n",
       "    </tr>\n",
       "    <tr>\n",
       "      <th>1659</th>\n",
       "      <td>840</td>\n",
       "      <td>United States of America</td>\n",
       "      <td>2010</td>\n",
       "      <td>United Nations Statistics Division, New York, ...</td>\n",
       "      <td>5364966.0</td>\n",
       "      <td>5.364966</td>\n",
       "      <td>30.044215</td>\n",
       "      <td>17.856902</td>\n",
       "    </tr>\n",
       "    <tr>\n",
       "      <th>1660</th>\n",
       "      <td>840</td>\n",
       "      <td>United States of America</td>\n",
       "      <td>2015</td>\n",
       "      <td>United Nations Statistics Division, New York, ...</td>\n",
       "      <td>5016486.0</td>\n",
       "      <td>5.016486</td>\n",
       "      <td>31.468477</td>\n",
       "      <td>15.941305</td>\n",
       "    </tr>\n",
       "    <tr>\n",
       "      <th>1661</th>\n",
       "      <td>840</td>\n",
       "      <td>United States of America</td>\n",
       "      <td>2019</td>\n",
       "      <td>United Nations Statistics Division, New York, ...</td>\n",
       "      <td>4797877.0</td>\n",
       "      <td>4.797877</td>\n",
       "      <td>32.852354</td>\n",
       "      <td>14.604363</td>\n",
       "    </tr>\n",
       "    <tr>\n",
       "      <th>1662</th>\n",
       "      <td>840</td>\n",
       "      <td>United States of America</td>\n",
       "      <td>2020</td>\n",
       "      <td>United Nations Statistics Division, New York, ...</td>\n",
       "      <td>4295838.0</td>\n",
       "      <td>4.295838</td>\n",
       "      <td>31.239043</td>\n",
       "      <td>13.751503</td>\n",
       "    </tr>\n",
       "    <tr>\n",
       "      <th>1663</th>\n",
       "      <td>840</td>\n",
       "      <td>United States of America</td>\n",
       "      <td>2021</td>\n",
       "      <td>United Nations Statistics Division, New York, ...</td>\n",
       "      <td>4596838.0</td>\n",
       "      <td>4.596838</td>\n",
       "      <td>33.147028</td>\n",
       "      <td>13.868025</td>\n",
       "    </tr>\n",
       "  </tbody>\n",
       "</table>\n",
       "</div>"
      ],
      "text/plain": [
       "Series  Region/Country/Area                   country name  Year  \\\n",
       "0                         1  Total, all countries or areas  1975   \n",
       "1                         1  Total, all countries or areas  1985   \n",
       "2                         1  Total, all countries or areas  2005   \n",
       "3                         1  Total, all countries or areas  2010   \n",
       "4                         1  Total, all countries or areas  2015   \n",
       "5                         1  Total, all countries or areas  2019   \n",
       "6                         1  Total, all countries or areas  2020   \n",
       "7                         1  Total, all countries or areas  2021   \n",
       "1656                    840       United States of America  1975   \n",
       "1657                    840       United States of America  1985   \n",
       "1658                    840       United States of America  2005   \n",
       "1659                    840       United States of America  2010   \n",
       "1660                    840       United States of America  2015   \n",
       "1661                    840       United States of America  2019   \n",
       "1662                    840       United States of America  2020   \n",
       "1663                    840       United States of America  2021   \n",
       "\n",
       "Series                                             Source  \\\n",
       "0       United Nations Statistics Division, New York, ...   \n",
       "1       United Nations Statistics Division, New York, ...   \n",
       "2       United Nations Statistics Division, New York, ...   \n",
       "3       United Nations Statistics Division, New York, ...   \n",
       "4       United Nations Statistics Division, New York, ...   \n",
       "5       United Nations Statistics Division, New York, ...   \n",
       "6       United Nations Statistics Division, New York, ...   \n",
       "7       United Nations Statistics Division, New York, ...   \n",
       "1656    United Nations Statistics Division, New York, ...   \n",
       "1657    United Nations Statistics Division, New York, ...   \n",
       "1658    United Nations Statistics Division, New York, ...   \n",
       "1659    United Nations Statistics Division, New York, ...   \n",
       "1660    United Nations Statistics Division, New York, ...   \n",
       "1661    United Nations Statistics Division, New York, ...   \n",
       "1662    United Nations Statistics Division, New York, ...   \n",
       "1663    United Nations Statistics Division, New York, ...   \n",
       "\n",
       "Series  Emissions (thousand metric tons of carbon dioxide)  \\\n",
       "0                                              16042405.0    \n",
       "1                                              19348135.0    \n",
       "2                                              26638238.0    \n",
       "3                                              30044215.0    \n",
       "4                                              31468477.0    \n",
       "5                                              32852354.0    \n",
       "6                                              31239043.0    \n",
       "7                                              33147028.0    \n",
       "1656                                            4448307.0    \n",
       "1657                                            4547755.0    \n",
       "1658                                            5783324.0    \n",
       "1659                                            5364966.0    \n",
       "1660                                            5016486.0    \n",
       "1661                                            4797877.0    \n",
       "1662                                            4295838.0    \n",
       "1663                                            4596838.0    \n",
       "\n",
       "Series  Emissions (billion tons of CO2e)  Total World Emissions  \\\n",
       "0                              16.042405              16.042405   \n",
       "1                              19.348135              19.348135   \n",
       "2                              26.638238              26.638238   \n",
       "3                              30.044215              30.044215   \n",
       "4                              31.468477              31.468477   \n",
       "5                              32.852354              32.852354   \n",
       "6                              31.239043              31.239043   \n",
       "7                              33.147028              33.147028   \n",
       "1656                            4.448307              16.042405   \n",
       "1657                            4.547755              19.348135   \n",
       "1658                            5.783324              26.638238   \n",
       "1659                            5.364966              30.044215   \n",
       "1660                            5.016486              31.468477   \n",
       "1661                            4.797877              32.852354   \n",
       "1662                            4.295838              31.239043   \n",
       "1663                            4.596838              33.147028   \n",
       "\n",
       "Series  Emissions %total  \n",
       "0             100.000000  \n",
       "1             100.000000  \n",
       "2             100.000000  \n",
       "3             100.000000  \n",
       "4             100.000000  \n",
       "5             100.000000  \n",
       "6             100.000000  \n",
       "7             100.000000  \n",
       "1656           27.728430  \n",
       "1657           23.504875  \n",
       "1658           21.710610  \n",
       "1659           17.856902  \n",
       "1660           15.941305  \n",
       "1661           14.604363  \n",
       "1662           13.751503  \n",
       "1663           13.868025  "
      ]
     },
     "execution_count": 11,
     "metadata": {},
     "output_type": "execute_result"
    }
   ],
   "source": [
    "# It is easy to work with billions\n",
    "\n",
    "global_CO2_reshaped['Emissions (billion tons of CO2e)']=global_CO2_reshaped['Emissions (thousand metric tons of carbon dioxide)']/1000000\n",
    "\n",
    "\n",
    "#Percentage of the global\n",
    "\n",
    "# Filter for rows where 'country name' is 'Total, all countries or areas'\n",
    "total_emissions_by_year = global_CO2_reshaped[\n",
    "    global_CO2_reshaped['country name'] == 'Total, all countries or areas'\n",
    "][['Year', 'Emissions (billion tons of CO2e)']]\n",
    "\n",
    "# Rename for clarity\n",
    "total_emissions_by_year = total_emissions_by_year.rename(\n",
    "    columns={'Emissions (billion tons of CO2e)': 'Total World Emissions'}\n",
    ")\n",
    "\n",
    "# Map the total emissions for each year to the main DataFrame\n",
    "global_CO2_reshaped['Total World Emissions'] = global_CO2_reshaped['Year'].map(\n",
    "    total_emissions_by_year.set_index('Year')['Total World Emissions']\n",
    ")\n",
    "\n",
    "global_CO2_reshaped['Emissions %total'] = (\n",
    "    global_CO2_reshaped['Emissions (billion tons of CO2e)'] / global_CO2_reshaped['Total World Emissions'] * 100\n",
    ")\n",
    "\n",
    "\n",
    "# Display the updated DataFrame\n",
    "global_CO2_reshaped\n"
   ]
  },
  {
   "cell_type": "code",
   "execution_count": 12,
   "metadata": {},
   "outputs": [
    {
     "data": {
      "text/html": [
       "        <script type=\"text/javascript\">\n",
       "        window.PlotlyConfig = {MathJaxConfig: 'local'};\n",
       "        if (window.MathJax && window.MathJax.Hub && window.MathJax.Hub.Config) {window.MathJax.Hub.Config({SVG: {font: \"STIX-Web\"}});}\n",
       "        if (typeof require !== 'undefined') {\n",
       "        require.undef(\"plotly\");\n",
       "        requirejs.config({\n",
       "            paths: {\n",
       "                'plotly': ['https://cdn.plot.ly/plotly-2.35.2.min']\n",
       "            }\n",
       "        });\n",
       "        require(['plotly'], function(Plotly) {\n",
       "            window._Plotly = Plotly;\n",
       "        });\n",
       "        }\n",
       "        </script>\n",
       "        "
      ]
     },
     "metadata": {},
     "output_type": "display_data"
    },
    {
     "data": {
      "application/vnd.plotly.v1+json": {
       "config": {
        "plotlyServerURL": "https://plot.ly"
       },
       "data": [
        {
         "hovertemplate": "country name=United States of America<br>Year=%{x}<br>Emissions (billion tons of CO2e)=%{y}<extra></extra>",
         "legendgroup": "United States of America",
         "line": {
          "color": "#636efa",
          "dash": "solid"
         },
         "marker": {
          "symbol": "circle"
         },
         "mode": "lines",
         "name": "United States of America",
         "orientation": "v",
         "showlegend": true,
         "type": "scatter",
         "x": [
          1975,
          1985,
          2005,
          2010,
          2015,
          2019,
          2020,
          2021
         ],
         "xaxis": "x",
         "y": [
          4.448307,
          4.547755,
          5.783324,
          5.364966,
          5.016486,
          4.797877,
          4.295838,
          4.596838
         ],
         "yaxis": "y"
        }
       ],
       "layout": {
        "autosize": true,
        "legend": {
         "title": {
          "text": "country name"
         },
         "tracegroupgap": 0
        },
        "template": {
         "data": {
          "bar": [
           {
            "error_x": {
             "color": "#2a3f5f"
            },
            "error_y": {
             "color": "#2a3f5f"
            },
            "marker": {
             "line": {
              "color": "#E5ECF6",
              "width": 0.5
             },
             "pattern": {
              "fillmode": "overlay",
              "size": 10,
              "solidity": 0.2
             }
            },
            "type": "bar"
           }
          ],
          "barpolar": [
           {
            "marker": {
             "line": {
              "color": "#E5ECF6",
              "width": 0.5
             },
             "pattern": {
              "fillmode": "overlay",
              "size": 10,
              "solidity": 0.2
             }
            },
            "type": "barpolar"
           }
          ],
          "carpet": [
           {
            "aaxis": {
             "endlinecolor": "#2a3f5f",
             "gridcolor": "white",
             "linecolor": "white",
             "minorgridcolor": "white",
             "startlinecolor": "#2a3f5f"
            },
            "baxis": {
             "endlinecolor": "#2a3f5f",
             "gridcolor": "white",
             "linecolor": "white",
             "minorgridcolor": "white",
             "startlinecolor": "#2a3f5f"
            },
            "type": "carpet"
           }
          ],
          "choropleth": [
           {
            "colorbar": {
             "outlinewidth": 0,
             "ticks": ""
            },
            "type": "choropleth"
           }
          ],
          "contour": [
           {
            "colorbar": {
             "outlinewidth": 0,
             "ticks": ""
            },
            "colorscale": [
             [
              0,
              "#0d0887"
             ],
             [
              0.1111111111111111,
              "#46039f"
             ],
             [
              0.2222222222222222,
              "#7201a8"
             ],
             [
              0.3333333333333333,
              "#9c179e"
             ],
             [
              0.4444444444444444,
              "#bd3786"
             ],
             [
              0.5555555555555556,
              "#d8576b"
             ],
             [
              0.6666666666666666,
              "#ed7953"
             ],
             [
              0.7777777777777778,
              "#fb9f3a"
             ],
             [
              0.8888888888888888,
              "#fdca26"
             ],
             [
              1,
              "#f0f921"
             ]
            ],
            "type": "contour"
           }
          ],
          "contourcarpet": [
           {
            "colorbar": {
             "outlinewidth": 0,
             "ticks": ""
            },
            "type": "contourcarpet"
           }
          ],
          "heatmap": [
           {
            "colorbar": {
             "outlinewidth": 0,
             "ticks": ""
            },
            "colorscale": [
             [
              0,
              "#0d0887"
             ],
             [
              0.1111111111111111,
              "#46039f"
             ],
             [
              0.2222222222222222,
              "#7201a8"
             ],
             [
              0.3333333333333333,
              "#9c179e"
             ],
             [
              0.4444444444444444,
              "#bd3786"
             ],
             [
              0.5555555555555556,
              "#d8576b"
             ],
             [
              0.6666666666666666,
              "#ed7953"
             ],
             [
              0.7777777777777778,
              "#fb9f3a"
             ],
             [
              0.8888888888888888,
              "#fdca26"
             ],
             [
              1,
              "#f0f921"
             ]
            ],
            "type": "heatmap"
           }
          ],
          "heatmapgl": [
           {
            "colorbar": {
             "outlinewidth": 0,
             "ticks": ""
            },
            "colorscale": [
             [
              0,
              "#0d0887"
             ],
             [
              0.1111111111111111,
              "#46039f"
             ],
             [
              0.2222222222222222,
              "#7201a8"
             ],
             [
              0.3333333333333333,
              "#9c179e"
             ],
             [
              0.4444444444444444,
              "#bd3786"
             ],
             [
              0.5555555555555556,
              "#d8576b"
             ],
             [
              0.6666666666666666,
              "#ed7953"
             ],
             [
              0.7777777777777778,
              "#fb9f3a"
             ],
             [
              0.8888888888888888,
              "#fdca26"
             ],
             [
              1,
              "#f0f921"
             ]
            ],
            "type": "heatmapgl"
           }
          ],
          "histogram": [
           {
            "marker": {
             "pattern": {
              "fillmode": "overlay",
              "size": 10,
              "solidity": 0.2
             }
            },
            "type": "histogram"
           }
          ],
          "histogram2d": [
           {
            "colorbar": {
             "outlinewidth": 0,
             "ticks": ""
            },
            "colorscale": [
             [
              0,
              "#0d0887"
             ],
             [
              0.1111111111111111,
              "#46039f"
             ],
             [
              0.2222222222222222,
              "#7201a8"
             ],
             [
              0.3333333333333333,
              "#9c179e"
             ],
             [
              0.4444444444444444,
              "#bd3786"
             ],
             [
              0.5555555555555556,
              "#d8576b"
             ],
             [
              0.6666666666666666,
              "#ed7953"
             ],
             [
              0.7777777777777778,
              "#fb9f3a"
             ],
             [
              0.8888888888888888,
              "#fdca26"
             ],
             [
              1,
              "#f0f921"
             ]
            ],
            "type": "histogram2d"
           }
          ],
          "histogram2dcontour": [
           {
            "colorbar": {
             "outlinewidth": 0,
             "ticks": ""
            },
            "colorscale": [
             [
              0,
              "#0d0887"
             ],
             [
              0.1111111111111111,
              "#46039f"
             ],
             [
              0.2222222222222222,
              "#7201a8"
             ],
             [
              0.3333333333333333,
              "#9c179e"
             ],
             [
              0.4444444444444444,
              "#bd3786"
             ],
             [
              0.5555555555555556,
              "#d8576b"
             ],
             [
              0.6666666666666666,
              "#ed7953"
             ],
             [
              0.7777777777777778,
              "#fb9f3a"
             ],
             [
              0.8888888888888888,
              "#fdca26"
             ],
             [
              1,
              "#f0f921"
             ]
            ],
            "type": "histogram2dcontour"
           }
          ],
          "mesh3d": [
           {
            "colorbar": {
             "outlinewidth": 0,
             "ticks": ""
            },
            "type": "mesh3d"
           }
          ],
          "parcoords": [
           {
            "line": {
             "colorbar": {
              "outlinewidth": 0,
              "ticks": ""
             }
            },
            "type": "parcoords"
           }
          ],
          "pie": [
           {
            "automargin": true,
            "type": "pie"
           }
          ],
          "scatter": [
           {
            "fillpattern": {
             "fillmode": "overlay",
             "size": 10,
             "solidity": 0.2
            },
            "type": "scatter"
           }
          ],
          "scatter3d": [
           {
            "line": {
             "colorbar": {
              "outlinewidth": 0,
              "ticks": ""
             }
            },
            "marker": {
             "colorbar": {
              "outlinewidth": 0,
              "ticks": ""
             }
            },
            "type": "scatter3d"
           }
          ],
          "scattercarpet": [
           {
            "marker": {
             "colorbar": {
              "outlinewidth": 0,
              "ticks": ""
             }
            },
            "type": "scattercarpet"
           }
          ],
          "scattergeo": [
           {
            "marker": {
             "colorbar": {
              "outlinewidth": 0,
              "ticks": ""
             }
            },
            "type": "scattergeo"
           }
          ],
          "scattergl": [
           {
            "marker": {
             "colorbar": {
              "outlinewidth": 0,
              "ticks": ""
             }
            },
            "type": "scattergl"
           }
          ],
          "scattermapbox": [
           {
            "marker": {
             "colorbar": {
              "outlinewidth": 0,
              "ticks": ""
             }
            },
            "type": "scattermapbox"
           }
          ],
          "scatterpolar": [
           {
            "marker": {
             "colorbar": {
              "outlinewidth": 0,
              "ticks": ""
             }
            },
            "type": "scatterpolar"
           }
          ],
          "scatterpolargl": [
           {
            "marker": {
             "colorbar": {
              "outlinewidth": 0,
              "ticks": ""
             }
            },
            "type": "scatterpolargl"
           }
          ],
          "scatterternary": [
           {
            "marker": {
             "colorbar": {
              "outlinewidth": 0,
              "ticks": ""
             }
            },
            "type": "scatterternary"
           }
          ],
          "surface": [
           {
            "colorbar": {
             "outlinewidth": 0,
             "ticks": ""
            },
            "colorscale": [
             [
              0,
              "#0d0887"
             ],
             [
              0.1111111111111111,
              "#46039f"
             ],
             [
              0.2222222222222222,
              "#7201a8"
             ],
             [
              0.3333333333333333,
              "#9c179e"
             ],
             [
              0.4444444444444444,
              "#bd3786"
             ],
             [
              0.5555555555555556,
              "#d8576b"
             ],
             [
              0.6666666666666666,
              "#ed7953"
             ],
             [
              0.7777777777777778,
              "#fb9f3a"
             ],
             [
              0.8888888888888888,
              "#fdca26"
             ],
             [
              1,
              "#f0f921"
             ]
            ],
            "type": "surface"
           }
          ],
          "table": [
           {
            "cells": {
             "fill": {
              "color": "#EBF0F8"
             },
             "line": {
              "color": "white"
             }
            },
            "header": {
             "fill": {
              "color": "#C8D4E3"
             },
             "line": {
              "color": "white"
             }
            },
            "type": "table"
           }
          ]
         },
         "layout": {
          "annotationdefaults": {
           "arrowcolor": "#2a3f5f",
           "arrowhead": 0,
           "arrowwidth": 1
          },
          "autotypenumbers": "strict",
          "coloraxis": {
           "colorbar": {
            "outlinewidth": 0,
            "ticks": ""
           }
          },
          "colorscale": {
           "diverging": [
            [
             0,
             "#8e0152"
            ],
            [
             0.1,
             "#c51b7d"
            ],
            [
             0.2,
             "#de77ae"
            ],
            [
             0.3,
             "#f1b6da"
            ],
            [
             0.4,
             "#fde0ef"
            ],
            [
             0.5,
             "#f7f7f7"
            ],
            [
             0.6,
             "#e6f5d0"
            ],
            [
             0.7,
             "#b8e186"
            ],
            [
             0.8,
             "#7fbc41"
            ],
            [
             0.9,
             "#4d9221"
            ],
            [
             1,
             "#276419"
            ]
           ],
           "sequential": [
            [
             0,
             "#0d0887"
            ],
            [
             0.1111111111111111,
             "#46039f"
            ],
            [
             0.2222222222222222,
             "#7201a8"
            ],
            [
             0.3333333333333333,
             "#9c179e"
            ],
            [
             0.4444444444444444,
             "#bd3786"
            ],
            [
             0.5555555555555556,
             "#d8576b"
            ],
            [
             0.6666666666666666,
             "#ed7953"
            ],
            [
             0.7777777777777778,
             "#fb9f3a"
            ],
            [
             0.8888888888888888,
             "#fdca26"
            ],
            [
             1,
             "#f0f921"
            ]
           ],
           "sequentialminus": [
            [
             0,
             "#0d0887"
            ],
            [
             0.1111111111111111,
             "#46039f"
            ],
            [
             0.2222222222222222,
             "#7201a8"
            ],
            [
             0.3333333333333333,
             "#9c179e"
            ],
            [
             0.4444444444444444,
             "#bd3786"
            ],
            [
             0.5555555555555556,
             "#d8576b"
            ],
            [
             0.6666666666666666,
             "#ed7953"
            ],
            [
             0.7777777777777778,
             "#fb9f3a"
            ],
            [
             0.8888888888888888,
             "#fdca26"
            ],
            [
             1,
             "#f0f921"
            ]
           ]
          },
          "colorway": [
           "#636efa",
           "#EF553B",
           "#00cc96",
           "#ab63fa",
           "#FFA15A",
           "#19d3f3",
           "#FF6692",
           "#B6E880",
           "#FF97FF",
           "#FECB52"
          ],
          "font": {
           "color": "#2a3f5f"
          },
          "geo": {
           "bgcolor": "white",
           "lakecolor": "white",
           "landcolor": "#E5ECF6",
           "showlakes": true,
           "showland": true,
           "subunitcolor": "white"
          },
          "hoverlabel": {
           "align": "left"
          },
          "hovermode": "closest",
          "mapbox": {
           "style": "light"
          },
          "paper_bgcolor": "white",
          "plot_bgcolor": "#E5ECF6",
          "polar": {
           "angularaxis": {
            "gridcolor": "white",
            "linecolor": "white",
            "ticks": ""
           },
           "bgcolor": "#E5ECF6",
           "radialaxis": {
            "gridcolor": "white",
            "linecolor": "white",
            "ticks": ""
           }
          },
          "scene": {
           "xaxis": {
            "backgroundcolor": "#E5ECF6",
            "gridcolor": "white",
            "gridwidth": 2,
            "linecolor": "white",
            "showbackground": true,
            "ticks": "",
            "zerolinecolor": "white"
           },
           "yaxis": {
            "backgroundcolor": "#E5ECF6",
            "gridcolor": "white",
            "gridwidth": 2,
            "linecolor": "white",
            "showbackground": true,
            "ticks": "",
            "zerolinecolor": "white"
           },
           "zaxis": {
            "backgroundcolor": "#E5ECF6",
            "gridcolor": "white",
            "gridwidth": 2,
            "linecolor": "white",
            "showbackground": true,
            "ticks": "",
            "zerolinecolor": "white"
           }
          },
          "shapedefaults": {
           "line": {
            "color": "#2a3f5f"
           }
          },
          "ternary": {
           "aaxis": {
            "gridcolor": "white",
            "linecolor": "white",
            "ticks": ""
           },
           "baxis": {
            "gridcolor": "white",
            "linecolor": "white",
            "ticks": ""
           },
           "bgcolor": "#E5ECF6",
           "caxis": {
            "gridcolor": "white",
            "linecolor": "white",
            "ticks": ""
           }
          },
          "title": {
           "x": 0.05
          },
          "xaxis": {
           "automargin": true,
           "gridcolor": "white",
           "linecolor": "white",
           "ticks": "",
           "title": {
            "standoff": 15
           },
           "zerolinecolor": "white",
           "zerolinewidth": 2
          },
          "yaxis": {
           "automargin": true,
           "gridcolor": "white",
           "linecolor": "white",
           "ticks": "",
           "title": {
            "standoff": 15
           },
           "zerolinecolor": "white",
           "zerolinewidth": 2
          }
         }
        },
        "title": {
         "text": "Graph 1. Total CO2 emissions in the US"
        },
        "xaxis": {
         "anchor": "y",
         "autorange": true,
         "domain": [
          0,
          1
         ],
         "range": [
          1975,
          2021
         ],
         "title": {
          "text": "Year"
         },
         "type": "linear"
        },
        "yaxis": {
         "anchor": "x",
         "domain": [
          0,
          1
         ],
         "range": [
          3,
          6.5
         ],
         "title": {
          "text": "Emissions (billion tons of CO2e)"
         },
         "type": "linear"
        }
       }
      },
      "text/html": [
       "<div>                            <div id=\"991b19c2-3df9-4a24-af16-040d79e410c8\" class=\"plotly-graph-div\" style=\"height:525px; width:100%;\"></div>            <script type=\"text/javascript\">                require([\"plotly\"], function(Plotly) {                    window.PLOTLYENV=window.PLOTLYENV || {};                                    if (document.getElementById(\"991b19c2-3df9-4a24-af16-040d79e410c8\")) {                    Plotly.newPlot(                        \"991b19c2-3df9-4a24-af16-040d79e410c8\",                        [{\"hovertemplate\":\"country name=United States of America\\u003cbr\\u003eYear=%{x}\\u003cbr\\u003eEmissions (billion tons of CO2e)=%{y}\\u003cextra\\u003e\\u003c\\u002fextra\\u003e\",\"legendgroup\":\"United States of America\",\"line\":{\"color\":\"#636efa\",\"dash\":\"solid\"},\"marker\":{\"symbol\":\"circle\"},\"mode\":\"lines\",\"name\":\"United States of America\",\"orientation\":\"v\",\"showlegend\":true,\"x\":[1975,1985,2005,2010,2015,2019,2020,2021],\"xaxis\":\"x\",\"y\":[4.448307,4.547755,5.783324,5.364966,5.016486,4.797877,4.295838,4.596838],\"yaxis\":\"y\",\"type\":\"scatter\"}],                        {\"template\":{\"data\":{\"histogram2dcontour\":[{\"type\":\"histogram2dcontour\",\"colorbar\":{\"outlinewidth\":0,\"ticks\":\"\"},\"colorscale\":[[0.0,\"#0d0887\"],[0.1111111111111111,\"#46039f\"],[0.2222222222222222,\"#7201a8\"],[0.3333333333333333,\"#9c179e\"],[0.4444444444444444,\"#bd3786\"],[0.5555555555555556,\"#d8576b\"],[0.6666666666666666,\"#ed7953\"],[0.7777777777777778,\"#fb9f3a\"],[0.8888888888888888,\"#fdca26\"],[1.0,\"#f0f921\"]]}],\"choropleth\":[{\"type\":\"choropleth\",\"colorbar\":{\"outlinewidth\":0,\"ticks\":\"\"}}],\"histogram2d\":[{\"type\":\"histogram2d\",\"colorbar\":{\"outlinewidth\":0,\"ticks\":\"\"},\"colorscale\":[[0.0,\"#0d0887\"],[0.1111111111111111,\"#46039f\"],[0.2222222222222222,\"#7201a8\"],[0.3333333333333333,\"#9c179e\"],[0.4444444444444444,\"#bd3786\"],[0.5555555555555556,\"#d8576b\"],[0.6666666666666666,\"#ed7953\"],[0.7777777777777778,\"#fb9f3a\"],[0.8888888888888888,\"#fdca26\"],[1.0,\"#f0f921\"]]}],\"heatmap\":[{\"type\":\"heatmap\",\"colorbar\":{\"outlinewidth\":0,\"ticks\":\"\"},\"colorscale\":[[0.0,\"#0d0887\"],[0.1111111111111111,\"#46039f\"],[0.2222222222222222,\"#7201a8\"],[0.3333333333333333,\"#9c179e\"],[0.4444444444444444,\"#bd3786\"],[0.5555555555555556,\"#d8576b\"],[0.6666666666666666,\"#ed7953\"],[0.7777777777777778,\"#fb9f3a\"],[0.8888888888888888,\"#fdca26\"],[1.0,\"#f0f921\"]]}],\"heatmapgl\":[{\"type\":\"heatmapgl\",\"colorbar\":{\"outlinewidth\":0,\"ticks\":\"\"},\"colorscale\":[[0.0,\"#0d0887\"],[0.1111111111111111,\"#46039f\"],[0.2222222222222222,\"#7201a8\"],[0.3333333333333333,\"#9c179e\"],[0.4444444444444444,\"#bd3786\"],[0.5555555555555556,\"#d8576b\"],[0.6666666666666666,\"#ed7953\"],[0.7777777777777778,\"#fb9f3a\"],[0.8888888888888888,\"#fdca26\"],[1.0,\"#f0f921\"]]}],\"contourcarpet\":[{\"type\":\"contourcarpet\",\"colorbar\":{\"outlinewidth\":0,\"ticks\":\"\"}}],\"contour\":[{\"type\":\"contour\",\"colorbar\":{\"outlinewidth\":0,\"ticks\":\"\"},\"colorscale\":[[0.0,\"#0d0887\"],[0.1111111111111111,\"#46039f\"],[0.2222222222222222,\"#7201a8\"],[0.3333333333333333,\"#9c179e\"],[0.4444444444444444,\"#bd3786\"],[0.5555555555555556,\"#d8576b\"],[0.6666666666666666,\"#ed7953\"],[0.7777777777777778,\"#fb9f3a\"],[0.8888888888888888,\"#fdca26\"],[1.0,\"#f0f921\"]]}],\"surface\":[{\"type\":\"surface\",\"colorbar\":{\"outlinewidth\":0,\"ticks\":\"\"},\"colorscale\":[[0.0,\"#0d0887\"],[0.1111111111111111,\"#46039f\"],[0.2222222222222222,\"#7201a8\"],[0.3333333333333333,\"#9c179e\"],[0.4444444444444444,\"#bd3786\"],[0.5555555555555556,\"#d8576b\"],[0.6666666666666666,\"#ed7953\"],[0.7777777777777778,\"#fb9f3a\"],[0.8888888888888888,\"#fdca26\"],[1.0,\"#f0f921\"]]}],\"mesh3d\":[{\"type\":\"mesh3d\",\"colorbar\":{\"outlinewidth\":0,\"ticks\":\"\"}}],\"scatter\":[{\"fillpattern\":{\"fillmode\":\"overlay\",\"size\":10,\"solidity\":0.2},\"type\":\"scatter\"}],\"parcoords\":[{\"type\":\"parcoords\",\"line\":{\"colorbar\":{\"outlinewidth\":0,\"ticks\":\"\"}}}],\"scatterpolargl\":[{\"type\":\"scatterpolargl\",\"marker\":{\"colorbar\":{\"outlinewidth\":0,\"ticks\":\"\"}}}],\"bar\":[{\"error_x\":{\"color\":\"#2a3f5f\"},\"error_y\":{\"color\":\"#2a3f5f\"},\"marker\":{\"line\":{\"color\":\"#E5ECF6\",\"width\":0.5},\"pattern\":{\"fillmode\":\"overlay\",\"size\":10,\"solidity\":0.2}},\"type\":\"bar\"}],\"scattergeo\":[{\"type\":\"scattergeo\",\"marker\":{\"colorbar\":{\"outlinewidth\":0,\"ticks\":\"\"}}}],\"scatterpolar\":[{\"type\":\"scatterpolar\",\"marker\":{\"colorbar\":{\"outlinewidth\":0,\"ticks\":\"\"}}}],\"histogram\":[{\"marker\":{\"pattern\":{\"fillmode\":\"overlay\",\"size\":10,\"solidity\":0.2}},\"type\":\"histogram\"}],\"scattergl\":[{\"type\":\"scattergl\",\"marker\":{\"colorbar\":{\"outlinewidth\":0,\"ticks\":\"\"}}}],\"scatter3d\":[{\"type\":\"scatter3d\",\"line\":{\"colorbar\":{\"outlinewidth\":0,\"ticks\":\"\"}},\"marker\":{\"colorbar\":{\"outlinewidth\":0,\"ticks\":\"\"}}}],\"scattermapbox\":[{\"type\":\"scattermapbox\",\"marker\":{\"colorbar\":{\"outlinewidth\":0,\"ticks\":\"\"}}}],\"scatterternary\":[{\"type\":\"scatterternary\",\"marker\":{\"colorbar\":{\"outlinewidth\":0,\"ticks\":\"\"}}}],\"scattercarpet\":[{\"type\":\"scattercarpet\",\"marker\":{\"colorbar\":{\"outlinewidth\":0,\"ticks\":\"\"}}}],\"carpet\":[{\"aaxis\":{\"endlinecolor\":\"#2a3f5f\",\"gridcolor\":\"white\",\"linecolor\":\"white\",\"minorgridcolor\":\"white\",\"startlinecolor\":\"#2a3f5f\"},\"baxis\":{\"endlinecolor\":\"#2a3f5f\",\"gridcolor\":\"white\",\"linecolor\":\"white\",\"minorgridcolor\":\"white\",\"startlinecolor\":\"#2a3f5f\"},\"type\":\"carpet\"}],\"table\":[{\"cells\":{\"fill\":{\"color\":\"#EBF0F8\"},\"line\":{\"color\":\"white\"}},\"header\":{\"fill\":{\"color\":\"#C8D4E3\"},\"line\":{\"color\":\"white\"}},\"type\":\"table\"}],\"barpolar\":[{\"marker\":{\"line\":{\"color\":\"#E5ECF6\",\"width\":0.5},\"pattern\":{\"fillmode\":\"overlay\",\"size\":10,\"solidity\":0.2}},\"type\":\"barpolar\"}],\"pie\":[{\"automargin\":true,\"type\":\"pie\"}]},\"layout\":{\"autotypenumbers\":\"strict\",\"colorway\":[\"#636efa\",\"#EF553B\",\"#00cc96\",\"#ab63fa\",\"#FFA15A\",\"#19d3f3\",\"#FF6692\",\"#B6E880\",\"#FF97FF\",\"#FECB52\"],\"font\":{\"color\":\"#2a3f5f\"},\"hovermode\":\"closest\",\"hoverlabel\":{\"align\":\"left\"},\"paper_bgcolor\":\"white\",\"plot_bgcolor\":\"#E5ECF6\",\"polar\":{\"bgcolor\":\"#E5ECF6\",\"angularaxis\":{\"gridcolor\":\"white\",\"linecolor\":\"white\",\"ticks\":\"\"},\"radialaxis\":{\"gridcolor\":\"white\",\"linecolor\":\"white\",\"ticks\":\"\"}},\"ternary\":{\"bgcolor\":\"#E5ECF6\",\"aaxis\":{\"gridcolor\":\"white\",\"linecolor\":\"white\",\"ticks\":\"\"},\"baxis\":{\"gridcolor\":\"white\",\"linecolor\":\"white\",\"ticks\":\"\"},\"caxis\":{\"gridcolor\":\"white\",\"linecolor\":\"white\",\"ticks\":\"\"}},\"coloraxis\":{\"colorbar\":{\"outlinewidth\":0,\"ticks\":\"\"}},\"colorscale\":{\"sequential\":[[0.0,\"#0d0887\"],[0.1111111111111111,\"#46039f\"],[0.2222222222222222,\"#7201a8\"],[0.3333333333333333,\"#9c179e\"],[0.4444444444444444,\"#bd3786\"],[0.5555555555555556,\"#d8576b\"],[0.6666666666666666,\"#ed7953\"],[0.7777777777777778,\"#fb9f3a\"],[0.8888888888888888,\"#fdca26\"],[1.0,\"#f0f921\"]],\"sequentialminus\":[[0.0,\"#0d0887\"],[0.1111111111111111,\"#46039f\"],[0.2222222222222222,\"#7201a8\"],[0.3333333333333333,\"#9c179e\"],[0.4444444444444444,\"#bd3786\"],[0.5555555555555556,\"#d8576b\"],[0.6666666666666666,\"#ed7953\"],[0.7777777777777778,\"#fb9f3a\"],[0.8888888888888888,\"#fdca26\"],[1.0,\"#f0f921\"]],\"diverging\":[[0,\"#8e0152\"],[0.1,\"#c51b7d\"],[0.2,\"#de77ae\"],[0.3,\"#f1b6da\"],[0.4,\"#fde0ef\"],[0.5,\"#f7f7f7\"],[0.6,\"#e6f5d0\"],[0.7,\"#b8e186\"],[0.8,\"#7fbc41\"],[0.9,\"#4d9221\"],[1,\"#276419\"]]},\"xaxis\":{\"gridcolor\":\"white\",\"linecolor\":\"white\",\"ticks\":\"\",\"title\":{\"standoff\":15},\"zerolinecolor\":\"white\",\"automargin\":true,\"zerolinewidth\":2},\"yaxis\":{\"gridcolor\":\"white\",\"linecolor\":\"white\",\"ticks\":\"\",\"title\":{\"standoff\":15},\"zerolinecolor\":\"white\",\"automargin\":true,\"zerolinewidth\":2},\"scene\":{\"xaxis\":{\"backgroundcolor\":\"#E5ECF6\",\"gridcolor\":\"white\",\"linecolor\":\"white\",\"showbackground\":true,\"ticks\":\"\",\"zerolinecolor\":\"white\",\"gridwidth\":2},\"yaxis\":{\"backgroundcolor\":\"#E5ECF6\",\"gridcolor\":\"white\",\"linecolor\":\"white\",\"showbackground\":true,\"ticks\":\"\",\"zerolinecolor\":\"white\",\"gridwidth\":2},\"zaxis\":{\"backgroundcolor\":\"#E5ECF6\",\"gridcolor\":\"white\",\"linecolor\":\"white\",\"showbackground\":true,\"ticks\":\"\",\"zerolinecolor\":\"white\",\"gridwidth\":2}},\"shapedefaults\":{\"line\":{\"color\":\"#2a3f5f\"}},\"annotationdefaults\":{\"arrowcolor\":\"#2a3f5f\",\"arrowhead\":0,\"arrowwidth\":1},\"geo\":{\"bgcolor\":\"white\",\"landcolor\":\"#E5ECF6\",\"subunitcolor\":\"white\",\"showland\":true,\"showlakes\":true,\"lakecolor\":\"white\"},\"title\":{\"x\":0.05},\"mapbox\":{\"style\":\"light\"}}},\"xaxis\":{\"anchor\":\"y\",\"domain\":[0.0,1.0],\"title\":{\"text\":\"Year\"}},\"yaxis\":{\"anchor\":\"x\",\"domain\":[0.0,1.0],\"title\":{\"text\":\"Emissions (billion tons of CO2e)\"},\"range\":[3,6.5]},\"legend\":{\"title\":{\"text\":\"country name\"},\"tracegroupgap\":0},\"title\":{\"text\":\"Graph 1. Total CO2 emissions in the US\"}},                        {\"responsive\": true}                    ).then(function(){\n",
       "                            \n",
       "var gd = document.getElementById('991b19c2-3df9-4a24-af16-040d79e410c8');\n",
       "var x = new MutationObserver(function (mutations, observer) {{\n",
       "        var display = window.getComputedStyle(gd).display;\n",
       "        if (!display || display === 'none') {{\n",
       "            console.log([gd, 'removed!']);\n",
       "            Plotly.purge(gd);\n",
       "            observer.disconnect();\n",
       "        }}\n",
       "}});\n",
       "\n",
       "// Listen for the removal of the full notebook cells\n",
       "var notebookContainer = gd.closest('#notebook-container');\n",
       "if (notebookContainer) {{\n",
       "    x.observe(notebookContainer, {childList: true});\n",
       "}}\n",
       "\n",
       "// Listen for the clearing of the current output cell\n",
       "var outputEl = gd.closest('.output');\n",
       "if (outputEl) {{\n",
       "    x.observe(outputEl, {childList: true});\n",
       "}}\n",
       "\n",
       "                        })                };                });            </script>        </div>"
      ]
     },
     "metadata": {},
     "output_type": "display_data"
    }
   ],
   "source": [
    "#\n",
    "\n",
    "CO2_US=global_CO2_reshaped=global_CO2_reshaped[\n",
    "    (global_CO2_reshaped['country name']=='United States of America')\n",
    "]\n",
    "\n",
    "\n",
    "fig = px.line(\n",
    "    CO2_US,\n",
    "    x=\"Year\",\n",
    "    y=\"Emissions (billion tons of CO2e)\",\n",
    "    color=\"country name\",\n",
    "    title=\"Graph 1. Total CO2 emissions in the US\"\n",
    ")\n",
    "\n",
    "# Update the y-axis range\n",
    "fig.update_yaxes(range=[3, 6.5])  # Set the y-axis range\n",
    "\n",
    "fig.show()"
   ]
  },
  {
   "cell_type": "code",
   "execution_count": 13,
   "metadata": {},
   "outputs": [],
   "source": [
    "CO2_US_filtered= CO2_US[CO2_US['Year'].notna() & CO2_US['Emissions %total'].notna()].reset_index()\n",
    "\n",
    "CO2_US_filtered = CO2_US_filtered[CO2_US_filtered['Year'].isin([1975, 1985, 2005, 2010, 2015, 2019, 2020, 2021])]\n"
   ]
  },
  {
   "cell_type": "code",
   "execution_count": 14,
   "metadata": {},
   "outputs": [
    {
     "data": {
      "application/vnd.plotly.v1+json": {
       "config": {
        "plotlyServerURL": "https://plot.ly"
       },
       "data": [
        {
         "alignmentgroup": "True",
         "hovertemplate": "country name=United States of America<br>Year=%{x}<br>Emissions %total=%{y}<extra></extra>",
         "legendgroup": "United States of America",
         "marker": {
          "color": "rgb(102,194,165)",
          "pattern": {
           "shape": ""
          }
         },
         "name": "United States of America",
         "offsetgroup": "United States of America",
         "orientation": "v",
         "showlegend": true,
         "textposition": "outside",
         "texttemplate": "%{y:.1f}%",
         "type": "bar",
         "x": [
          1975,
          1985,
          2005,
          2010,
          2015,
          2019,
          2020,
          2021
         ],
         "xaxis": "x",
         "y": [
          27.728429746038703,
          23.504875276092505,
          21.71061013870362,
          17.85690190274567,
          15.941305325961594,
          14.604362901970433,
          13.751503207060473,
          13.868024608420399
         ],
         "yaxis": "y"
        }
       ],
       "layout": {
        "autosize": true,
        "barmode": "relative",
        "legend": {
         "title": {
          "text": "country name"
         },
         "tracegroupgap": 0
        },
        "template": {
         "data": {
          "bar": [
           {
            "error_x": {
             "color": "#2a3f5f"
            },
            "error_y": {
             "color": "#2a3f5f"
            },
            "marker": {
             "line": {
              "color": "#E5ECF6",
              "width": 0.5
             },
             "pattern": {
              "fillmode": "overlay",
              "size": 10,
              "solidity": 0.2
             }
            },
            "type": "bar"
           }
          ],
          "barpolar": [
           {
            "marker": {
             "line": {
              "color": "#E5ECF6",
              "width": 0.5
             },
             "pattern": {
              "fillmode": "overlay",
              "size": 10,
              "solidity": 0.2
             }
            },
            "type": "barpolar"
           }
          ],
          "carpet": [
           {
            "aaxis": {
             "endlinecolor": "#2a3f5f",
             "gridcolor": "white",
             "linecolor": "white",
             "minorgridcolor": "white",
             "startlinecolor": "#2a3f5f"
            },
            "baxis": {
             "endlinecolor": "#2a3f5f",
             "gridcolor": "white",
             "linecolor": "white",
             "minorgridcolor": "white",
             "startlinecolor": "#2a3f5f"
            },
            "type": "carpet"
           }
          ],
          "choropleth": [
           {
            "colorbar": {
             "outlinewidth": 0,
             "ticks": ""
            },
            "type": "choropleth"
           }
          ],
          "contour": [
           {
            "colorbar": {
             "outlinewidth": 0,
             "ticks": ""
            },
            "colorscale": [
             [
              0,
              "#0d0887"
             ],
             [
              0.1111111111111111,
              "#46039f"
             ],
             [
              0.2222222222222222,
              "#7201a8"
             ],
             [
              0.3333333333333333,
              "#9c179e"
             ],
             [
              0.4444444444444444,
              "#bd3786"
             ],
             [
              0.5555555555555556,
              "#d8576b"
             ],
             [
              0.6666666666666666,
              "#ed7953"
             ],
             [
              0.7777777777777778,
              "#fb9f3a"
             ],
             [
              0.8888888888888888,
              "#fdca26"
             ],
             [
              1,
              "#f0f921"
             ]
            ],
            "type": "contour"
           }
          ],
          "contourcarpet": [
           {
            "colorbar": {
             "outlinewidth": 0,
             "ticks": ""
            },
            "type": "contourcarpet"
           }
          ],
          "heatmap": [
           {
            "colorbar": {
             "outlinewidth": 0,
             "ticks": ""
            },
            "colorscale": [
             [
              0,
              "#0d0887"
             ],
             [
              0.1111111111111111,
              "#46039f"
             ],
             [
              0.2222222222222222,
              "#7201a8"
             ],
             [
              0.3333333333333333,
              "#9c179e"
             ],
             [
              0.4444444444444444,
              "#bd3786"
             ],
             [
              0.5555555555555556,
              "#d8576b"
             ],
             [
              0.6666666666666666,
              "#ed7953"
             ],
             [
              0.7777777777777778,
              "#fb9f3a"
             ],
             [
              0.8888888888888888,
              "#fdca26"
             ],
             [
              1,
              "#f0f921"
             ]
            ],
            "type": "heatmap"
           }
          ],
          "heatmapgl": [
           {
            "colorbar": {
             "outlinewidth": 0,
             "ticks": ""
            },
            "colorscale": [
             [
              0,
              "#0d0887"
             ],
             [
              0.1111111111111111,
              "#46039f"
             ],
             [
              0.2222222222222222,
              "#7201a8"
             ],
             [
              0.3333333333333333,
              "#9c179e"
             ],
             [
              0.4444444444444444,
              "#bd3786"
             ],
             [
              0.5555555555555556,
              "#d8576b"
             ],
             [
              0.6666666666666666,
              "#ed7953"
             ],
             [
              0.7777777777777778,
              "#fb9f3a"
             ],
             [
              0.8888888888888888,
              "#fdca26"
             ],
             [
              1,
              "#f0f921"
             ]
            ],
            "type": "heatmapgl"
           }
          ],
          "histogram": [
           {
            "marker": {
             "pattern": {
              "fillmode": "overlay",
              "size": 10,
              "solidity": 0.2
             }
            },
            "type": "histogram"
           }
          ],
          "histogram2d": [
           {
            "colorbar": {
             "outlinewidth": 0,
             "ticks": ""
            },
            "colorscale": [
             [
              0,
              "#0d0887"
             ],
             [
              0.1111111111111111,
              "#46039f"
             ],
             [
              0.2222222222222222,
              "#7201a8"
             ],
             [
              0.3333333333333333,
              "#9c179e"
             ],
             [
              0.4444444444444444,
              "#bd3786"
             ],
             [
              0.5555555555555556,
              "#d8576b"
             ],
             [
              0.6666666666666666,
              "#ed7953"
             ],
             [
              0.7777777777777778,
              "#fb9f3a"
             ],
             [
              0.8888888888888888,
              "#fdca26"
             ],
             [
              1,
              "#f0f921"
             ]
            ],
            "type": "histogram2d"
           }
          ],
          "histogram2dcontour": [
           {
            "colorbar": {
             "outlinewidth": 0,
             "ticks": ""
            },
            "colorscale": [
             [
              0,
              "#0d0887"
             ],
             [
              0.1111111111111111,
              "#46039f"
             ],
             [
              0.2222222222222222,
              "#7201a8"
             ],
             [
              0.3333333333333333,
              "#9c179e"
             ],
             [
              0.4444444444444444,
              "#bd3786"
             ],
             [
              0.5555555555555556,
              "#d8576b"
             ],
             [
              0.6666666666666666,
              "#ed7953"
             ],
             [
              0.7777777777777778,
              "#fb9f3a"
             ],
             [
              0.8888888888888888,
              "#fdca26"
             ],
             [
              1,
              "#f0f921"
             ]
            ],
            "type": "histogram2dcontour"
           }
          ],
          "mesh3d": [
           {
            "colorbar": {
             "outlinewidth": 0,
             "ticks": ""
            },
            "type": "mesh3d"
           }
          ],
          "parcoords": [
           {
            "line": {
             "colorbar": {
              "outlinewidth": 0,
              "ticks": ""
             }
            },
            "type": "parcoords"
           }
          ],
          "pie": [
           {
            "automargin": true,
            "type": "pie"
           }
          ],
          "scatter": [
           {
            "fillpattern": {
             "fillmode": "overlay",
             "size": 10,
             "solidity": 0.2
            },
            "type": "scatter"
           }
          ],
          "scatter3d": [
           {
            "line": {
             "colorbar": {
              "outlinewidth": 0,
              "ticks": ""
             }
            },
            "marker": {
             "colorbar": {
              "outlinewidth": 0,
              "ticks": ""
             }
            },
            "type": "scatter3d"
           }
          ],
          "scattercarpet": [
           {
            "marker": {
             "colorbar": {
              "outlinewidth": 0,
              "ticks": ""
             }
            },
            "type": "scattercarpet"
           }
          ],
          "scattergeo": [
           {
            "marker": {
             "colorbar": {
              "outlinewidth": 0,
              "ticks": ""
             }
            },
            "type": "scattergeo"
           }
          ],
          "scattergl": [
           {
            "marker": {
             "colorbar": {
              "outlinewidth": 0,
              "ticks": ""
             }
            },
            "type": "scattergl"
           }
          ],
          "scattermapbox": [
           {
            "marker": {
             "colorbar": {
              "outlinewidth": 0,
              "ticks": ""
             }
            },
            "type": "scattermapbox"
           }
          ],
          "scatterpolar": [
           {
            "marker": {
             "colorbar": {
              "outlinewidth": 0,
              "ticks": ""
             }
            },
            "type": "scatterpolar"
           }
          ],
          "scatterpolargl": [
           {
            "marker": {
             "colorbar": {
              "outlinewidth": 0,
              "ticks": ""
             }
            },
            "type": "scatterpolargl"
           }
          ],
          "scatterternary": [
           {
            "marker": {
             "colorbar": {
              "outlinewidth": 0,
              "ticks": ""
             }
            },
            "type": "scatterternary"
           }
          ],
          "surface": [
           {
            "colorbar": {
             "outlinewidth": 0,
             "ticks": ""
            },
            "colorscale": [
             [
              0,
              "#0d0887"
             ],
             [
              0.1111111111111111,
              "#46039f"
             ],
             [
              0.2222222222222222,
              "#7201a8"
             ],
             [
              0.3333333333333333,
              "#9c179e"
             ],
             [
              0.4444444444444444,
              "#bd3786"
             ],
             [
              0.5555555555555556,
              "#d8576b"
             ],
             [
              0.6666666666666666,
              "#ed7953"
             ],
             [
              0.7777777777777778,
              "#fb9f3a"
             ],
             [
              0.8888888888888888,
              "#fdca26"
             ],
             [
              1,
              "#f0f921"
             ]
            ],
            "type": "surface"
           }
          ],
          "table": [
           {
            "cells": {
             "fill": {
              "color": "#EBF0F8"
             },
             "line": {
              "color": "white"
             }
            },
            "header": {
             "fill": {
              "color": "#C8D4E3"
             },
             "line": {
              "color": "white"
             }
            },
            "type": "table"
           }
          ]
         },
         "layout": {
          "annotationdefaults": {
           "arrowcolor": "#2a3f5f",
           "arrowhead": 0,
           "arrowwidth": 1
          },
          "autotypenumbers": "strict",
          "coloraxis": {
           "colorbar": {
            "outlinewidth": 0,
            "ticks": ""
           }
          },
          "colorscale": {
           "diverging": [
            [
             0,
             "#8e0152"
            ],
            [
             0.1,
             "#c51b7d"
            ],
            [
             0.2,
             "#de77ae"
            ],
            [
             0.3,
             "#f1b6da"
            ],
            [
             0.4,
             "#fde0ef"
            ],
            [
             0.5,
             "#f7f7f7"
            ],
            [
             0.6,
             "#e6f5d0"
            ],
            [
             0.7,
             "#b8e186"
            ],
            [
             0.8,
             "#7fbc41"
            ],
            [
             0.9,
             "#4d9221"
            ],
            [
             1,
             "#276419"
            ]
           ],
           "sequential": [
            [
             0,
             "#0d0887"
            ],
            [
             0.1111111111111111,
             "#46039f"
            ],
            [
             0.2222222222222222,
             "#7201a8"
            ],
            [
             0.3333333333333333,
             "#9c179e"
            ],
            [
             0.4444444444444444,
             "#bd3786"
            ],
            [
             0.5555555555555556,
             "#d8576b"
            ],
            [
             0.6666666666666666,
             "#ed7953"
            ],
            [
             0.7777777777777778,
             "#fb9f3a"
            ],
            [
             0.8888888888888888,
             "#fdca26"
            ],
            [
             1,
             "#f0f921"
            ]
           ],
           "sequentialminus": [
            [
             0,
             "#0d0887"
            ],
            [
             0.1111111111111111,
             "#46039f"
            ],
            [
             0.2222222222222222,
             "#7201a8"
            ],
            [
             0.3333333333333333,
             "#9c179e"
            ],
            [
             0.4444444444444444,
             "#bd3786"
            ],
            [
             0.5555555555555556,
             "#d8576b"
            ],
            [
             0.6666666666666666,
             "#ed7953"
            ],
            [
             0.7777777777777778,
             "#fb9f3a"
            ],
            [
             0.8888888888888888,
             "#fdca26"
            ],
            [
             1,
             "#f0f921"
            ]
           ]
          },
          "colorway": [
           "#636efa",
           "#EF553B",
           "#00cc96",
           "#ab63fa",
           "#FFA15A",
           "#19d3f3",
           "#FF6692",
           "#B6E880",
           "#FF97FF",
           "#FECB52"
          ],
          "font": {
           "color": "#2a3f5f"
          },
          "geo": {
           "bgcolor": "white",
           "lakecolor": "white",
           "landcolor": "#E5ECF6",
           "showlakes": true,
           "showland": true,
           "subunitcolor": "white"
          },
          "hoverlabel": {
           "align": "left"
          },
          "hovermode": "closest",
          "mapbox": {
           "style": "light"
          },
          "paper_bgcolor": "white",
          "plot_bgcolor": "#E5ECF6",
          "polar": {
           "angularaxis": {
            "gridcolor": "white",
            "linecolor": "white",
            "ticks": ""
           },
           "bgcolor": "#E5ECF6",
           "radialaxis": {
            "gridcolor": "white",
            "linecolor": "white",
            "ticks": ""
           }
          },
          "scene": {
           "xaxis": {
            "backgroundcolor": "#E5ECF6",
            "gridcolor": "white",
            "gridwidth": 2,
            "linecolor": "white",
            "showbackground": true,
            "ticks": "",
            "zerolinecolor": "white"
           },
           "yaxis": {
            "backgroundcolor": "#E5ECF6",
            "gridcolor": "white",
            "gridwidth": 2,
            "linecolor": "white",
            "showbackground": true,
            "ticks": "",
            "zerolinecolor": "white"
           },
           "zaxis": {
            "backgroundcolor": "#E5ECF6",
            "gridcolor": "white",
            "gridwidth": 2,
            "linecolor": "white",
            "showbackground": true,
            "ticks": "",
            "zerolinecolor": "white"
           }
          },
          "shapedefaults": {
           "line": {
            "color": "#2a3f5f"
           }
          },
          "ternary": {
           "aaxis": {
            "gridcolor": "white",
            "linecolor": "white",
            "ticks": ""
           },
           "baxis": {
            "gridcolor": "white",
            "linecolor": "white",
            "ticks": ""
           },
           "bgcolor": "#E5ECF6",
           "caxis": {
            "gridcolor": "white",
            "linecolor": "white",
            "ticks": ""
           }
          },
          "title": {
           "x": 0.05
          },
          "xaxis": {
           "automargin": true,
           "gridcolor": "white",
           "linecolor": "white",
           "ticks": "",
           "title": {
            "standoff": 15
           },
           "zerolinecolor": "white",
           "zerolinewidth": 2
          },
          "yaxis": {
           "automargin": true,
           "gridcolor": "white",
           "linecolor": "white",
           "ticks": "",
           "title": {
            "standoff": 15
           },
           "zerolinecolor": "white",
           "zerolinewidth": 2
          }
         }
        },
        "title": {
         "text": "Graph 2. The US share in total CO2e emissions by year"
        },
        "xaxis": {
         "anchor": "y",
         "autorange": true,
         "domain": [
          0,
          1
         ],
         "range": [
          -0.5,
          7.5
         ],
         "tickvals": [
          1975,
          1985,
          2005,
          2010,
          2015,
          2019,
          2020,
          2021
         ],
         "title": {
          "text": "Year"
         },
         "type": "category"
        },
        "yaxis": {
         "anchor": "x",
         "domain": [
          0,
          1
         ],
         "range": [
          0,
          40
         ],
         "title": {
          "text": "Emissions (% of total)"
         },
         "type": "linear"
        }
       }
      },
      "text/html": [
       "<div>                            <div id=\"e8b47718-e619-497e-9dba-0c6234bc77af\" class=\"plotly-graph-div\" style=\"height:525px; width:100%;\"></div>            <script type=\"text/javascript\">                require([\"plotly\"], function(Plotly) {                    window.PLOTLYENV=window.PLOTLYENV || {};                                    if (document.getElementById(\"e8b47718-e619-497e-9dba-0c6234bc77af\")) {                    Plotly.newPlot(                        \"e8b47718-e619-497e-9dba-0c6234bc77af\",                        [{\"alignmentgroup\":\"True\",\"hovertemplate\":\"country name=United States of America\\u003cbr\\u003eYear=%{x}\\u003cbr\\u003eEmissions %total=%{y}\\u003cextra\\u003e\\u003c\\u002fextra\\u003e\",\"legendgroup\":\"United States of America\",\"marker\":{\"color\":\"rgb(102,194,165)\",\"pattern\":{\"shape\":\"\"}},\"name\":\"United States of America\",\"offsetgroup\":\"United States of America\",\"orientation\":\"v\",\"showlegend\":true,\"textposition\":\"outside\",\"x\":[1975,1985,2005,2010,2015,2019,2020,2021],\"xaxis\":\"x\",\"y\":[27.728429746038703,23.504875276092505,21.71061013870362,17.85690190274567,15.941305325961594,14.604362901970433,13.751503207060473,13.868024608420399],\"yaxis\":\"y\",\"type\":\"bar\",\"texttemplate\":\"%{y:.1f}%\"}],                        {\"template\":{\"data\":{\"histogram2dcontour\":[{\"type\":\"histogram2dcontour\",\"colorbar\":{\"outlinewidth\":0,\"ticks\":\"\"},\"colorscale\":[[0.0,\"#0d0887\"],[0.1111111111111111,\"#46039f\"],[0.2222222222222222,\"#7201a8\"],[0.3333333333333333,\"#9c179e\"],[0.4444444444444444,\"#bd3786\"],[0.5555555555555556,\"#d8576b\"],[0.6666666666666666,\"#ed7953\"],[0.7777777777777778,\"#fb9f3a\"],[0.8888888888888888,\"#fdca26\"],[1.0,\"#f0f921\"]]}],\"choropleth\":[{\"type\":\"choropleth\",\"colorbar\":{\"outlinewidth\":0,\"ticks\":\"\"}}],\"histogram2d\":[{\"type\":\"histogram2d\",\"colorbar\":{\"outlinewidth\":0,\"ticks\":\"\"},\"colorscale\":[[0.0,\"#0d0887\"],[0.1111111111111111,\"#46039f\"],[0.2222222222222222,\"#7201a8\"],[0.3333333333333333,\"#9c179e\"],[0.4444444444444444,\"#bd3786\"],[0.5555555555555556,\"#d8576b\"],[0.6666666666666666,\"#ed7953\"],[0.7777777777777778,\"#fb9f3a\"],[0.8888888888888888,\"#fdca26\"],[1.0,\"#f0f921\"]]}],\"heatmap\":[{\"type\":\"heatmap\",\"colorbar\":{\"outlinewidth\":0,\"ticks\":\"\"},\"colorscale\":[[0.0,\"#0d0887\"],[0.1111111111111111,\"#46039f\"],[0.2222222222222222,\"#7201a8\"],[0.3333333333333333,\"#9c179e\"],[0.4444444444444444,\"#bd3786\"],[0.5555555555555556,\"#d8576b\"],[0.6666666666666666,\"#ed7953\"],[0.7777777777777778,\"#fb9f3a\"],[0.8888888888888888,\"#fdca26\"],[1.0,\"#f0f921\"]]}],\"heatmapgl\":[{\"type\":\"heatmapgl\",\"colorbar\":{\"outlinewidth\":0,\"ticks\":\"\"},\"colorscale\":[[0.0,\"#0d0887\"],[0.1111111111111111,\"#46039f\"],[0.2222222222222222,\"#7201a8\"],[0.3333333333333333,\"#9c179e\"],[0.4444444444444444,\"#bd3786\"],[0.5555555555555556,\"#d8576b\"],[0.6666666666666666,\"#ed7953\"],[0.7777777777777778,\"#fb9f3a\"],[0.8888888888888888,\"#fdca26\"],[1.0,\"#f0f921\"]]}],\"contourcarpet\":[{\"type\":\"contourcarpet\",\"colorbar\":{\"outlinewidth\":0,\"ticks\":\"\"}}],\"contour\":[{\"type\":\"contour\",\"colorbar\":{\"outlinewidth\":0,\"ticks\":\"\"},\"colorscale\":[[0.0,\"#0d0887\"],[0.1111111111111111,\"#46039f\"],[0.2222222222222222,\"#7201a8\"],[0.3333333333333333,\"#9c179e\"],[0.4444444444444444,\"#bd3786\"],[0.5555555555555556,\"#d8576b\"],[0.6666666666666666,\"#ed7953\"],[0.7777777777777778,\"#fb9f3a\"],[0.8888888888888888,\"#fdca26\"],[1.0,\"#f0f921\"]]}],\"surface\":[{\"type\":\"surface\",\"colorbar\":{\"outlinewidth\":0,\"ticks\":\"\"},\"colorscale\":[[0.0,\"#0d0887\"],[0.1111111111111111,\"#46039f\"],[0.2222222222222222,\"#7201a8\"],[0.3333333333333333,\"#9c179e\"],[0.4444444444444444,\"#bd3786\"],[0.5555555555555556,\"#d8576b\"],[0.6666666666666666,\"#ed7953\"],[0.7777777777777778,\"#fb9f3a\"],[0.8888888888888888,\"#fdca26\"],[1.0,\"#f0f921\"]]}],\"mesh3d\":[{\"type\":\"mesh3d\",\"colorbar\":{\"outlinewidth\":0,\"ticks\":\"\"}}],\"scatter\":[{\"fillpattern\":{\"fillmode\":\"overlay\",\"size\":10,\"solidity\":0.2},\"type\":\"scatter\"}],\"parcoords\":[{\"type\":\"parcoords\",\"line\":{\"colorbar\":{\"outlinewidth\":0,\"ticks\":\"\"}}}],\"scatterpolargl\":[{\"type\":\"scatterpolargl\",\"marker\":{\"colorbar\":{\"outlinewidth\":0,\"ticks\":\"\"}}}],\"bar\":[{\"error_x\":{\"color\":\"#2a3f5f\"},\"error_y\":{\"color\":\"#2a3f5f\"},\"marker\":{\"line\":{\"color\":\"#E5ECF6\",\"width\":0.5},\"pattern\":{\"fillmode\":\"overlay\",\"size\":10,\"solidity\":0.2}},\"type\":\"bar\"}],\"scattergeo\":[{\"type\":\"scattergeo\",\"marker\":{\"colorbar\":{\"outlinewidth\":0,\"ticks\":\"\"}}}],\"scatterpolar\":[{\"type\":\"scatterpolar\",\"marker\":{\"colorbar\":{\"outlinewidth\":0,\"ticks\":\"\"}}}],\"histogram\":[{\"marker\":{\"pattern\":{\"fillmode\":\"overlay\",\"size\":10,\"solidity\":0.2}},\"type\":\"histogram\"}],\"scattergl\":[{\"type\":\"scattergl\",\"marker\":{\"colorbar\":{\"outlinewidth\":0,\"ticks\":\"\"}}}],\"scatter3d\":[{\"type\":\"scatter3d\",\"line\":{\"colorbar\":{\"outlinewidth\":0,\"ticks\":\"\"}},\"marker\":{\"colorbar\":{\"outlinewidth\":0,\"ticks\":\"\"}}}],\"scattermapbox\":[{\"type\":\"scattermapbox\",\"marker\":{\"colorbar\":{\"outlinewidth\":0,\"ticks\":\"\"}}}],\"scatterternary\":[{\"type\":\"scatterternary\",\"marker\":{\"colorbar\":{\"outlinewidth\":0,\"ticks\":\"\"}}}],\"scattercarpet\":[{\"type\":\"scattercarpet\",\"marker\":{\"colorbar\":{\"outlinewidth\":0,\"ticks\":\"\"}}}],\"carpet\":[{\"aaxis\":{\"endlinecolor\":\"#2a3f5f\",\"gridcolor\":\"white\",\"linecolor\":\"white\",\"minorgridcolor\":\"white\",\"startlinecolor\":\"#2a3f5f\"},\"baxis\":{\"endlinecolor\":\"#2a3f5f\",\"gridcolor\":\"white\",\"linecolor\":\"white\",\"minorgridcolor\":\"white\",\"startlinecolor\":\"#2a3f5f\"},\"type\":\"carpet\"}],\"table\":[{\"cells\":{\"fill\":{\"color\":\"#EBF0F8\"},\"line\":{\"color\":\"white\"}},\"header\":{\"fill\":{\"color\":\"#C8D4E3\"},\"line\":{\"color\":\"white\"}},\"type\":\"table\"}],\"barpolar\":[{\"marker\":{\"line\":{\"color\":\"#E5ECF6\",\"width\":0.5},\"pattern\":{\"fillmode\":\"overlay\",\"size\":10,\"solidity\":0.2}},\"type\":\"barpolar\"}],\"pie\":[{\"automargin\":true,\"type\":\"pie\"}]},\"layout\":{\"autotypenumbers\":\"strict\",\"colorway\":[\"#636efa\",\"#EF553B\",\"#00cc96\",\"#ab63fa\",\"#FFA15A\",\"#19d3f3\",\"#FF6692\",\"#B6E880\",\"#FF97FF\",\"#FECB52\"],\"font\":{\"color\":\"#2a3f5f\"},\"hovermode\":\"closest\",\"hoverlabel\":{\"align\":\"left\"},\"paper_bgcolor\":\"white\",\"plot_bgcolor\":\"#E5ECF6\",\"polar\":{\"bgcolor\":\"#E5ECF6\",\"angularaxis\":{\"gridcolor\":\"white\",\"linecolor\":\"white\",\"ticks\":\"\"},\"radialaxis\":{\"gridcolor\":\"white\",\"linecolor\":\"white\",\"ticks\":\"\"}},\"ternary\":{\"bgcolor\":\"#E5ECF6\",\"aaxis\":{\"gridcolor\":\"white\",\"linecolor\":\"white\",\"ticks\":\"\"},\"baxis\":{\"gridcolor\":\"white\",\"linecolor\":\"white\",\"ticks\":\"\"},\"caxis\":{\"gridcolor\":\"white\",\"linecolor\":\"white\",\"ticks\":\"\"}},\"coloraxis\":{\"colorbar\":{\"outlinewidth\":0,\"ticks\":\"\"}},\"colorscale\":{\"sequential\":[[0.0,\"#0d0887\"],[0.1111111111111111,\"#46039f\"],[0.2222222222222222,\"#7201a8\"],[0.3333333333333333,\"#9c179e\"],[0.4444444444444444,\"#bd3786\"],[0.5555555555555556,\"#d8576b\"],[0.6666666666666666,\"#ed7953\"],[0.7777777777777778,\"#fb9f3a\"],[0.8888888888888888,\"#fdca26\"],[1.0,\"#f0f921\"]],\"sequentialminus\":[[0.0,\"#0d0887\"],[0.1111111111111111,\"#46039f\"],[0.2222222222222222,\"#7201a8\"],[0.3333333333333333,\"#9c179e\"],[0.4444444444444444,\"#bd3786\"],[0.5555555555555556,\"#d8576b\"],[0.6666666666666666,\"#ed7953\"],[0.7777777777777778,\"#fb9f3a\"],[0.8888888888888888,\"#fdca26\"],[1.0,\"#f0f921\"]],\"diverging\":[[0,\"#8e0152\"],[0.1,\"#c51b7d\"],[0.2,\"#de77ae\"],[0.3,\"#f1b6da\"],[0.4,\"#fde0ef\"],[0.5,\"#f7f7f7\"],[0.6,\"#e6f5d0\"],[0.7,\"#b8e186\"],[0.8,\"#7fbc41\"],[0.9,\"#4d9221\"],[1,\"#276419\"]]},\"xaxis\":{\"gridcolor\":\"white\",\"linecolor\":\"white\",\"ticks\":\"\",\"title\":{\"standoff\":15},\"zerolinecolor\":\"white\",\"automargin\":true,\"zerolinewidth\":2},\"yaxis\":{\"gridcolor\":\"white\",\"linecolor\":\"white\",\"ticks\":\"\",\"title\":{\"standoff\":15},\"zerolinecolor\":\"white\",\"automargin\":true,\"zerolinewidth\":2},\"scene\":{\"xaxis\":{\"backgroundcolor\":\"#E5ECF6\",\"gridcolor\":\"white\",\"linecolor\":\"white\",\"showbackground\":true,\"ticks\":\"\",\"zerolinecolor\":\"white\",\"gridwidth\":2},\"yaxis\":{\"backgroundcolor\":\"#E5ECF6\",\"gridcolor\":\"white\",\"linecolor\":\"white\",\"showbackground\":true,\"ticks\":\"\",\"zerolinecolor\":\"white\",\"gridwidth\":2},\"zaxis\":{\"backgroundcolor\":\"#E5ECF6\",\"gridcolor\":\"white\",\"linecolor\":\"white\",\"showbackground\":true,\"ticks\":\"\",\"zerolinecolor\":\"white\",\"gridwidth\":2}},\"shapedefaults\":{\"line\":{\"color\":\"#2a3f5f\"}},\"annotationdefaults\":{\"arrowcolor\":\"#2a3f5f\",\"arrowhead\":0,\"arrowwidth\":1},\"geo\":{\"bgcolor\":\"white\",\"landcolor\":\"#E5ECF6\",\"subunitcolor\":\"white\",\"showland\":true,\"showlakes\":true,\"lakecolor\":\"white\"},\"title\":{\"x\":0.05},\"mapbox\":{\"style\":\"light\"}}},\"xaxis\":{\"anchor\":\"y\",\"domain\":[0.0,1.0],\"title\":{\"text\":\"Year\"},\"tickvals\":[1975,1985,2005,2010,2015,2019,2020,2021],\"type\":\"category\"},\"yaxis\":{\"anchor\":\"x\",\"domain\":[0.0,1.0],\"title\":{\"text\":\"Emissions (% of total)\"},\"range\":[0,40]},\"legend\":{\"title\":{\"text\":\"country name\"},\"tracegroupgap\":0},\"title\":{\"text\":\"Graph 2. The US share in total CO2e emissions by year\"},\"barmode\":\"relative\"},                        {\"responsive\": true}                    ).then(function(){\n",
       "                            \n",
       "var gd = document.getElementById('e8b47718-e619-497e-9dba-0c6234bc77af');\n",
       "var x = new MutationObserver(function (mutations, observer) {{\n",
       "        var display = window.getComputedStyle(gd).display;\n",
       "        if (!display || display === 'none') {{\n",
       "            console.log([gd, 'removed!']);\n",
       "            Plotly.purge(gd);\n",
       "            observer.disconnect();\n",
       "        }}\n",
       "}});\n",
       "\n",
       "// Listen for the removal of the full notebook cells\n",
       "var notebookContainer = gd.closest('#notebook-container');\n",
       "if (notebookContainer) {{\n",
       "    x.observe(notebookContainer, {childList: true});\n",
       "}}\n",
       "\n",
       "// Listen for the clearing of the current output cell\n",
       "var outputEl = gd.closest('.output');\n",
       "if (outputEl) {{\n",
       "    x.observe(outputEl, {childList: true});\n",
       "}}\n",
       "\n",
       "                        })                };                });            </script>        </div>"
      ]
     },
     "metadata": {},
     "output_type": "display_data"
    }
   ],
   "source": [
    "\n",
    "fig = px.bar(\n",
    "    CO2_US_filtered,\n",
    "    x='Year',\n",
    "    y=\"Emissions %total\",\n",
    "    color=\"country name\",\n",
    "    title=\"Graph 2. The US share in total CO2e emissions by year\",\n",
    "    color_discrete_sequence=px.colors.qualitative.Set2  # Custom color scheme\n",
    ")\n",
    "\n",
    "# Specify the years to display on the x-axis\n",
    "fig.update_xaxes(\n",
    "    tickvals=[1975, 1985, 2005, 2010, 2015, 2019, 2020, 2021],  # Only show these years\n",
    "    title=\"Year\",\n",
    "    type='category'  # Use category type to remove gaps\n",
    ")\n",
    "\n",
    "\n",
    "# Add text to the bars\n",
    "fig.update_traces(texttemplate='%{y:.1f}%', textposition='outside')\n",
    "\n",
    "# Customize the y-axis range\n",
    "fig.update_yaxes(title=\"Emissions (% of total)\", range=[0, 40])\n",
    "\n",
    "# Show the plot\n",
    "fig.show()\n"
   ]
  },
  {
   "cell_type": "markdown",
   "metadata": {},
   "source": [
    "## 3.2. The importance of the energy-related emissions "
   ]
  },
  {
   "cell_type": "code",
   "execution_count": 15,
   "metadata": {},
   "outputs": [],
   "source": [
    "Energy_CO2_emissions_fuel=pd.read_csv('MER_T11_01.csv')"
   ]
  },
  {
   "cell_type": "code",
   "execution_count": 16,
   "metadata": {},
   "outputs": [
    {
     "data": {
      "text/html": [
       "<div>\n",
       "<style scoped>\n",
       "    .dataframe tbody tr th:only-of-type {\n",
       "        vertical-align: middle;\n",
       "    }\n",
       "\n",
       "    .dataframe tbody tr th {\n",
       "        vertical-align: top;\n",
       "    }\n",
       "\n",
       "    .dataframe thead th {\n",
       "        text-align: right;\n",
       "    }\n",
       "</style>\n",
       "<table border=\"1\" class=\"dataframe\">\n",
       "  <thead>\n",
       "    <tr style=\"text-align: right;\">\n",
       "      <th></th>\n",
       "      <th>MSN</th>\n",
       "      <th>YYYYMM</th>\n",
       "      <th>Value</th>\n",
       "      <th>Column_Order</th>\n",
       "      <th>Description</th>\n",
       "      <th>Unit</th>\n",
       "    </tr>\n",
       "  </thead>\n",
       "  <tbody>\n",
       "    <tr>\n",
       "      <th>0</th>\n",
       "      <td>CKTCEUS</td>\n",
       "      <td>197301</td>\n",
       "      <td>109.559</td>\n",
       "      <td>1</td>\n",
       "      <td>Coal, Including Coal Coke Net Imports, CO2 Emi...</td>\n",
       "      <td>Million Metric Tons of Carbon Dioxide</td>\n",
       "    </tr>\n",
       "    <tr>\n",
       "      <th>1</th>\n",
       "      <td>CKTCEUS</td>\n",
       "      <td>197302</td>\n",
       "      <td>98.839</td>\n",
       "      <td>1</td>\n",
       "      <td>Coal, Including Coal Coke Net Imports, CO2 Emi...</td>\n",
       "      <td>Million Metric Tons of Carbon Dioxide</td>\n",
       "    </tr>\n",
       "    <tr>\n",
       "      <th>2</th>\n",
       "      <td>CKTCEUS</td>\n",
       "      <td>197303</td>\n",
       "      <td>98.488</td>\n",
       "      <td>1</td>\n",
       "      <td>Coal, Including Coal Coke Net Imports, CO2 Emi...</td>\n",
       "      <td>Million Metric Tons of Carbon Dioxide</td>\n",
       "    </tr>\n",
       "    <tr>\n",
       "      <th>3</th>\n",
       "      <td>CKTCEUS</td>\n",
       "      <td>197304</td>\n",
       "      <td>94.155</td>\n",
       "      <td>1</td>\n",
       "      <td>Coal, Including Coal Coke Net Imports, CO2 Emi...</td>\n",
       "      <td>Million Metric Tons of Carbon Dioxide</td>\n",
       "    </tr>\n",
       "    <tr>\n",
       "      <th>4</th>\n",
       "      <td>CKTCEUS</td>\n",
       "      <td>197305</td>\n",
       "      <td>95.429</td>\n",
       "      <td>1</td>\n",
       "      <td>Coal, Including Coal Coke Net Imports, CO2 Emi...</td>\n",
       "      <td>Million Metric Tons of Carbon Dioxide</td>\n",
       "    </tr>\n",
       "    <tr>\n",
       "      <th>...</th>\n",
       "      <td>...</td>\n",
       "      <td>...</td>\n",
       "      <td>...</td>\n",
       "      <td>...</td>\n",
       "      <td>...</td>\n",
       "      <td>...</td>\n",
       "    </tr>\n",
       "    <tr>\n",
       "      <th>9389</th>\n",
       "      <td>TETCEUS</td>\n",
       "      <td>202404</td>\n",
       "      <td>358.742</td>\n",
       "      <td>14</td>\n",
       "      <td>Total Energy CO2 Emissions</td>\n",
       "      <td>Million Metric Tons of Carbon Dioxide</td>\n",
       "    </tr>\n",
       "    <tr>\n",
       "      <th>9390</th>\n",
       "      <td>TETCEUS</td>\n",
       "      <td>202405</td>\n",
       "      <td>374.664</td>\n",
       "      <td>14</td>\n",
       "      <td>Total Energy CO2 Emissions</td>\n",
       "      <td>Million Metric Tons of Carbon Dioxide</td>\n",
       "    </tr>\n",
       "    <tr>\n",
       "      <th>9391</th>\n",
       "      <td>TETCEUS</td>\n",
       "      <td>202406</td>\n",
       "      <td>381.141</td>\n",
       "      <td>14</td>\n",
       "      <td>Total Energy CO2 Emissions</td>\n",
       "      <td>Million Metric Tons of Carbon Dioxide</td>\n",
       "    </tr>\n",
       "    <tr>\n",
       "      <th>9392</th>\n",
       "      <td>TETCEUS</td>\n",
       "      <td>202407</td>\n",
       "      <td>421.309</td>\n",
       "      <td>14</td>\n",
       "      <td>Total Energy CO2 Emissions</td>\n",
       "      <td>Million Metric Tons of Carbon Dioxide</td>\n",
       "    </tr>\n",
       "    <tr>\n",
       "      <th>9393</th>\n",
       "      <td>TETCEUS</td>\n",
       "      <td>202408</td>\n",
       "      <td>415.636</td>\n",
       "      <td>14</td>\n",
       "      <td>Total Energy CO2 Emissions</td>\n",
       "      <td>Million Metric Tons of Carbon Dioxide</td>\n",
       "    </tr>\n",
       "  </tbody>\n",
       "</table>\n",
       "<p>9394 rows × 6 columns</p>\n",
       "</div>"
      ],
      "text/plain": [
       "          MSN  YYYYMM    Value  Column_Order  \\\n",
       "0     CKTCEUS  197301  109.559             1   \n",
       "1     CKTCEUS  197302   98.839             1   \n",
       "2     CKTCEUS  197303   98.488             1   \n",
       "3     CKTCEUS  197304   94.155             1   \n",
       "4     CKTCEUS  197305   95.429             1   \n",
       "...       ...     ...      ...           ...   \n",
       "9389  TETCEUS  202404  358.742            14   \n",
       "9390  TETCEUS  202405  374.664            14   \n",
       "9391  TETCEUS  202406  381.141            14   \n",
       "9392  TETCEUS  202407  421.309            14   \n",
       "9393  TETCEUS  202408  415.636            14   \n",
       "\n",
       "                                            Description  \\\n",
       "0     Coal, Including Coal Coke Net Imports, CO2 Emi...   \n",
       "1     Coal, Including Coal Coke Net Imports, CO2 Emi...   \n",
       "2     Coal, Including Coal Coke Net Imports, CO2 Emi...   \n",
       "3     Coal, Including Coal Coke Net Imports, CO2 Emi...   \n",
       "4     Coal, Including Coal Coke Net Imports, CO2 Emi...   \n",
       "...                                                 ...   \n",
       "9389                         Total Energy CO2 Emissions   \n",
       "9390                         Total Energy CO2 Emissions   \n",
       "9391                         Total Energy CO2 Emissions   \n",
       "9392                         Total Energy CO2 Emissions   \n",
       "9393                         Total Energy CO2 Emissions   \n",
       "\n",
       "                                       Unit  \n",
       "0     Million Metric Tons of Carbon Dioxide  \n",
       "1     Million Metric Tons of Carbon Dioxide  \n",
       "2     Million Metric Tons of Carbon Dioxide  \n",
       "3     Million Metric Tons of Carbon Dioxide  \n",
       "4     Million Metric Tons of Carbon Dioxide  \n",
       "...                                     ...  \n",
       "9389  Million Metric Tons of Carbon Dioxide  \n",
       "9390  Million Metric Tons of Carbon Dioxide  \n",
       "9391  Million Metric Tons of Carbon Dioxide  \n",
       "9392  Million Metric Tons of Carbon Dioxide  \n",
       "9393  Million Metric Tons of Carbon Dioxide  \n",
       "\n",
       "[9394 rows x 6 columns]"
      ]
     },
     "execution_count": 16,
     "metadata": {},
     "output_type": "execute_result"
    }
   ],
   "source": [
    "Energy_CO2_emissions_fuel"
   ]
  },
  {
   "cell_type": "code",
   "execution_count": 17,
   "metadata": {},
   "outputs": [
    {
     "data": {
      "text/html": [
       "<div>\n",
       "<style scoped>\n",
       "    .dataframe tbody tr th:only-of-type {\n",
       "        vertical-align: middle;\n",
       "    }\n",
       "\n",
       "    .dataframe tbody tr th {\n",
       "        vertical-align: top;\n",
       "    }\n",
       "\n",
       "    .dataframe thead th {\n",
       "        text-align: right;\n",
       "    }\n",
       "</style>\n",
       "<table border=\"1\" class=\"dataframe\">\n",
       "  <thead>\n",
       "    <tr style=\"text-align: right;\">\n",
       "      <th>Description</th>\n",
       "      <th>YYYYMM</th>\n",
       "      <th>Unit</th>\n",
       "      <th>Aviation Gasoline CO2 Emissions</th>\n",
       "      <th>Coal, Including Coal Coke Net Imports, CO2 Emissions</th>\n",
       "      <th>Distillate Fuel Oil, Excluding Biodiesel, CO2 Emissions</th>\n",
       "      <th>Hydrocarbon Gas Liquids CO2 Emissions</th>\n",
       "      <th>Jet Fuel CO2 Emissions</th>\n",
       "      <th>Kerosene CO2 Emissions</th>\n",
       "      <th>Lubricants CO2 Emissions</th>\n",
       "      <th>Motor Gasoline, Excluding Ethanol, CO2 Emissions</th>\n",
       "      <th>Natural Gas, Excluding Supplemental Gaseous Fuels, CO2 Emissions</th>\n",
       "      <th>Other Petroleum Products CO2 Emissions</th>\n",
       "      <th>Petroleum Coke CO2 Emissions</th>\n",
       "      <th>Petroleum, Excluding Biofuels, CO2 Emissions</th>\n",
       "      <th>Residual Fuel Oil CO2 Emissions</th>\n",
       "      <th>Total Energy CO2 Emissions</th>\n",
       "    </tr>\n",
       "  </thead>\n",
       "  <tbody>\n",
       "    <tr>\n",
       "      <th>661</th>\n",
       "      <td>202312</td>\n",
       "      <td>Million Metric Tons of Carbon Dioxide</td>\n",
       "      <td>0.093</td>\n",
       "      <td>64.058</td>\n",
       "      <td>47.670</td>\n",
       "      <td>10.688</td>\n",
       "      <td>21.180</td>\n",
       "      <td>0.245</td>\n",
       "      <td>0.270</td>\n",
       "      <td>90.359</td>\n",
       "      <td>172.816</td>\n",
       "      <td>9.148</td>\n",
       "      <td>3.124</td>\n",
       "      <td>187.543</td>\n",
       "      <td>4.767</td>\n",
       "      <td>425.051</td>\n",
       "    </tr>\n",
       "    <tr>\n",
       "      <th>662</th>\n",
       "      <td>202313</td>\n",
       "      <td>Million Metric Tons of Carbon Dioxide</td>\n",
       "      <td>1.464</td>\n",
       "      <td>777.318</td>\n",
       "      <td>602.141</td>\n",
       "      <td>96.702</td>\n",
       "      <td>247.148</td>\n",
       "      <td>1.601</td>\n",
       "      <td>6.806</td>\n",
       "      <td>1081.443</td>\n",
       "      <td>1759.732</td>\n",
       "      <td>109.867</td>\n",
       "      <td>56.552</td>\n",
       "      <td>2250.870</td>\n",
       "      <td>47.145</td>\n",
       "      <td>4795.382</td>\n",
       "    </tr>\n",
       "    <tr>\n",
       "      <th>663</th>\n",
       "      <td>202401</td>\n",
       "      <td>Million Metric Tons of Carbon Dioxide</td>\n",
       "      <td>0.076</td>\n",
       "      <td>83.157</td>\n",
       "      <td>50.654</td>\n",
       "      <td>11.634</td>\n",
       "      <td>19.504</td>\n",
       "      <td>0.201</td>\n",
       "      <td>0.593</td>\n",
       "      <td>84.737</td>\n",
       "      <td>200.235</td>\n",
       "      <td>8.667</td>\n",
       "      <td>3.912</td>\n",
       "      <td>183.921</td>\n",
       "      <td>3.943</td>\n",
       "      <td>467.945</td>\n",
       "    </tr>\n",
       "    <tr>\n",
       "      <th>664</th>\n",
       "      <td>202402</td>\n",
       "      <td>Million Metric Tons of Carbon Dioxide</td>\n",
       "      <td>0.147</td>\n",
       "      <td>53.409</td>\n",
       "      <td>47.990</td>\n",
       "      <td>9.386</td>\n",
       "      <td>18.576</td>\n",
       "      <td>0.108</td>\n",
       "      <td>0.479</td>\n",
       "      <td>82.516</td>\n",
       "      <td>160.487</td>\n",
       "      <td>8.018</td>\n",
       "      <td>2.425</td>\n",
       "      <td>173.260</td>\n",
       "      <td>3.613</td>\n",
       "      <td>387.747</td>\n",
       "    </tr>\n",
       "    <tr>\n",
       "      <th>665</th>\n",
       "      <td>202403</td>\n",
       "      <td>Million Metric Tons of Carbon Dioxide</td>\n",
       "      <td>0.099</td>\n",
       "      <td>46.745</td>\n",
       "      <td>48.030</td>\n",
       "      <td>8.814</td>\n",
       "      <td>20.960</td>\n",
       "      <td>0.097</td>\n",
       "      <td>0.528</td>\n",
       "      <td>91.343</td>\n",
       "      <td>150.962</td>\n",
       "      <td>8.804</td>\n",
       "      <td>2.441</td>\n",
       "      <td>185.700</td>\n",
       "      <td>4.583</td>\n",
       "      <td>384.038</td>\n",
       "    </tr>\n",
       "    <tr>\n",
       "      <th>666</th>\n",
       "      <td>202404</td>\n",
       "      <td>Million Metric Tons of Carbon Dioxide</td>\n",
       "      <td>0.143</td>\n",
       "      <td>44.492</td>\n",
       "      <td>47.934</td>\n",
       "      <td>7.097</td>\n",
       "      <td>20.992</td>\n",
       "      <td>0.156</td>\n",
       "      <td>0.748</td>\n",
       "      <td>88.126</td>\n",
       "      <td>128.948</td>\n",
       "      <td>8.474</td>\n",
       "      <td>6.599</td>\n",
       "      <td>184.691</td>\n",
       "      <td>4.421</td>\n",
       "      <td>358.742</td>\n",
       "    </tr>\n",
       "    <tr>\n",
       "      <th>667</th>\n",
       "      <td>202405</td>\n",
       "      <td>Million Metric Tons of Carbon Dioxide</td>\n",
       "      <td>0.124</td>\n",
       "      <td>53.461</td>\n",
       "      <td>49.333</td>\n",
       "      <td>6.826</td>\n",
       "      <td>22.449</td>\n",
       "      <td>0.157</td>\n",
       "      <td>0.521</td>\n",
       "      <td>96.313</td>\n",
       "      <td>125.599</td>\n",
       "      <td>9.492</td>\n",
       "      <td>5.439</td>\n",
       "      <td>194.972</td>\n",
       "      <td>4.319</td>\n",
       "      <td>374.664</td>\n",
       "    </tr>\n",
       "    <tr>\n",
       "      <th>668</th>\n",
       "      <td>202406</td>\n",
       "      <td>Million Metric Tons of Carbon Dioxide</td>\n",
       "      <td>0.179</td>\n",
       "      <td>67.905</td>\n",
       "      <td>45.351</td>\n",
       "      <td>6.169</td>\n",
       "      <td>21.013</td>\n",
       "      <td>0.111</td>\n",
       "      <td>0.582</td>\n",
       "      <td>90.783</td>\n",
       "      <td>130.996</td>\n",
       "      <td>9.414</td>\n",
       "      <td>3.971</td>\n",
       "      <td>181.628</td>\n",
       "      <td>4.057</td>\n",
       "      <td>381.141</td>\n",
       "    </tr>\n",
       "    <tr>\n",
       "      <th>669</th>\n",
       "      <td>202407</td>\n",
       "      <td>Million Metric Tons of Carbon Dioxide</td>\n",
       "      <td>0.178</td>\n",
       "      <td>78.975</td>\n",
       "      <td>48.186</td>\n",
       "      <td>5.919</td>\n",
       "      <td>23.256</td>\n",
       "      <td>0.022</td>\n",
       "      <td>0.617</td>\n",
       "      <td>95.473</td>\n",
       "      <td>148.096</td>\n",
       "      <td>9.475</td>\n",
       "      <td>6.190</td>\n",
       "      <td>193.606</td>\n",
       "      <td>4.292</td>\n",
       "      <td>421.309</td>\n",
       "    </tr>\n",
       "    <tr>\n",
       "      <th>670</th>\n",
       "      <td>202408</td>\n",
       "      <td>Million Metric Tons of Carbon Dioxide</td>\n",
       "      <td>0.147</td>\n",
       "      <td>76.968</td>\n",
       "      <td>50.595</td>\n",
       "      <td>6.387</td>\n",
       "      <td>22.712</td>\n",
       "      <td>0.090</td>\n",
       "      <td>0.527</td>\n",
       "      <td>95.065</td>\n",
       "      <td>146.685</td>\n",
       "      <td>9.552</td>\n",
       "      <td>2.059</td>\n",
       "      <td>191.351</td>\n",
       "      <td>4.217</td>\n",
       "      <td>415.636</td>\n",
       "    </tr>\n",
       "  </tbody>\n",
       "</table>\n",
       "</div>"
      ],
      "text/plain": [
       "Description  YYYYMM                                   Unit  \\\n",
       "661          202312  Million Metric Tons of Carbon Dioxide   \n",
       "662          202313  Million Metric Tons of Carbon Dioxide   \n",
       "663          202401  Million Metric Tons of Carbon Dioxide   \n",
       "664          202402  Million Metric Tons of Carbon Dioxide   \n",
       "665          202403  Million Metric Tons of Carbon Dioxide   \n",
       "666          202404  Million Metric Tons of Carbon Dioxide   \n",
       "667          202405  Million Metric Tons of Carbon Dioxide   \n",
       "668          202406  Million Metric Tons of Carbon Dioxide   \n",
       "669          202407  Million Metric Tons of Carbon Dioxide   \n",
       "670          202408  Million Metric Tons of Carbon Dioxide   \n",
       "\n",
       "Description  Aviation Gasoline CO2 Emissions  \\\n",
       "661                                    0.093   \n",
       "662                                    1.464   \n",
       "663                                    0.076   \n",
       "664                                    0.147   \n",
       "665                                    0.099   \n",
       "666                                    0.143   \n",
       "667                                    0.124   \n",
       "668                                    0.179   \n",
       "669                                    0.178   \n",
       "670                                    0.147   \n",
       "\n",
       "Description  Coal, Including Coal Coke Net Imports, CO2 Emissions  \\\n",
       "661                                                     64.058      \n",
       "662                                                    777.318      \n",
       "663                                                     83.157      \n",
       "664                                                     53.409      \n",
       "665                                                     46.745      \n",
       "666                                                     44.492      \n",
       "667                                                     53.461      \n",
       "668                                                     67.905      \n",
       "669                                                     78.975      \n",
       "670                                                     76.968      \n",
       "\n",
       "Description  Distillate Fuel Oil, Excluding Biodiesel, CO2 Emissions  \\\n",
       "661                                                     47.670         \n",
       "662                                                    602.141         \n",
       "663                                                     50.654         \n",
       "664                                                     47.990         \n",
       "665                                                     48.030         \n",
       "666                                                     47.934         \n",
       "667                                                     49.333         \n",
       "668                                                     45.351         \n",
       "669                                                     48.186         \n",
       "670                                                     50.595         \n",
       "\n",
       "Description  Hydrocarbon Gas Liquids CO2 Emissions  Jet Fuel CO2 Emissions  \\\n",
       "661                                         10.688                  21.180   \n",
       "662                                         96.702                 247.148   \n",
       "663                                         11.634                  19.504   \n",
       "664                                          9.386                  18.576   \n",
       "665                                          8.814                  20.960   \n",
       "666                                          7.097                  20.992   \n",
       "667                                          6.826                  22.449   \n",
       "668                                          6.169                  21.013   \n",
       "669                                          5.919                  23.256   \n",
       "670                                          6.387                  22.712   \n",
       "\n",
       "Description  Kerosene CO2 Emissions  Lubricants CO2 Emissions  \\\n",
       "661                           0.245                     0.270   \n",
       "662                           1.601                     6.806   \n",
       "663                           0.201                     0.593   \n",
       "664                           0.108                     0.479   \n",
       "665                           0.097                     0.528   \n",
       "666                           0.156                     0.748   \n",
       "667                           0.157                     0.521   \n",
       "668                           0.111                     0.582   \n",
       "669                           0.022                     0.617   \n",
       "670                           0.090                     0.527   \n",
       "\n",
       "Description  Motor Gasoline, Excluding Ethanol, CO2 Emissions  \\\n",
       "661                                                    90.359   \n",
       "662                                                  1081.443   \n",
       "663                                                    84.737   \n",
       "664                                                    82.516   \n",
       "665                                                    91.343   \n",
       "666                                                    88.126   \n",
       "667                                                    96.313   \n",
       "668                                                    90.783   \n",
       "669                                                    95.473   \n",
       "670                                                    95.065   \n",
       "\n",
       "Description  Natural Gas, Excluding Supplemental Gaseous Fuels, CO2 Emissions  \\\n",
       "661                                                    172.816                  \n",
       "662                                                   1759.732                  \n",
       "663                                                    200.235                  \n",
       "664                                                    160.487                  \n",
       "665                                                    150.962                  \n",
       "666                                                    128.948                  \n",
       "667                                                    125.599                  \n",
       "668                                                    130.996                  \n",
       "669                                                    148.096                  \n",
       "670                                                    146.685                  \n",
       "\n",
       "Description  Other Petroleum Products CO2 Emissions  \\\n",
       "661                                           9.148   \n",
       "662                                         109.867   \n",
       "663                                           8.667   \n",
       "664                                           8.018   \n",
       "665                                           8.804   \n",
       "666                                           8.474   \n",
       "667                                           9.492   \n",
       "668                                           9.414   \n",
       "669                                           9.475   \n",
       "670                                           9.552   \n",
       "\n",
       "Description  Petroleum Coke CO2 Emissions  \\\n",
       "661                                 3.124   \n",
       "662                                56.552   \n",
       "663                                 3.912   \n",
       "664                                 2.425   \n",
       "665                                 2.441   \n",
       "666                                 6.599   \n",
       "667                                 5.439   \n",
       "668                                 3.971   \n",
       "669                                 6.190   \n",
       "670                                 2.059   \n",
       "\n",
       "Description  Petroleum, Excluding Biofuels, CO2 Emissions  \\\n",
       "661                                               187.543   \n",
       "662                                              2250.870   \n",
       "663                                               183.921   \n",
       "664                                               173.260   \n",
       "665                                               185.700   \n",
       "666                                               184.691   \n",
       "667                                               194.972   \n",
       "668                                               181.628   \n",
       "669                                               193.606   \n",
       "670                                               191.351   \n",
       "\n",
       "Description  Residual Fuel Oil CO2 Emissions  Total Energy CO2 Emissions  \n",
       "661                                    4.767                     425.051  \n",
       "662                                   47.145                    4795.382  \n",
       "663                                    3.943                     467.945  \n",
       "664                                    3.613                     387.747  \n",
       "665                                    4.583                     384.038  \n",
       "666                                    4.421                     358.742  \n",
       "667                                    4.319                     374.664  \n",
       "668                                    4.057                     381.141  \n",
       "669                                    4.292                     421.309  \n",
       "670                                    4.217                     415.636  "
      ]
     },
     "execution_count": 17,
     "metadata": {},
     "output_type": "execute_result"
    }
   ],
   "source": [
    "Energy_CO2_emissions_fuel['Value'] = Energy_CO2_emissions_fuel['Value'].astype(float)\n",
    "\n",
    "Energy_CO2_emissions_fuel_reshaped=Energy_CO2_emissions_fuel.pivot_table(\n",
    "    index=['YYYYMM','Unit'], \n",
    "    columns='Description', \n",
    "    values='Value'\n",
    ")\n",
    "Energy_CO2_emissions_fuel_reshaped=Energy_CO2_emissions_fuel_reshaped.reset_index()\n",
    "Energy_CO2_emissions_fuel_reshaped.tail(10)"
   ]
  },
  {
   "cell_type": "code",
   "execution_count": 18,
   "metadata": {},
   "outputs": [
    {
     "data": {
      "text/plain": [
       "array(['01', '02', '03', '04', '05', '06', '07', '08', '09', '10', '11',\n",
       "       '12', '13'], dtype=object)"
      ]
     },
     "execution_count": 18,
     "metadata": {},
     "output_type": "execute_result"
    }
   ],
   "source": [
    "Energy_CO2_emissions_fuel_reshaped['Year'] = Energy_CO2_emissions_fuel_reshaped['YYYYMM'].astype(str).str[:4]  # Extract the first 4 digits as year\n",
    "Energy_CO2_emissions_fuel_reshaped['Month'] = Energy_CO2_emissions_fuel_reshaped['YYYYMM'].astype(str).str[-2:] # Extract the last 2 digits as month\n",
    "Energy_CO2_emissions_fuel_reshaped['Month'].unique()\n",
    "\n",
    "# Group by year and sum the emissions\n",
    "#US_CO2_emissions_year = Energy_CO2_emissions_fuel_reshaped.groupby('Year').sum().reset_index()\n",
    "#US_CO2_emissions_year"
   ]
  },
  {
   "cell_type": "markdown",
   "metadata": {},
   "source": [
    "**By studying the database I discovered that the month 13 corresponds to the total of the year**"
   ]
  },
  {
   "cell_type": "code",
   "execution_count": null,
   "metadata": {},
   "outputs": [],
   "source": []
  },
  {
   "cell_type": "code",
   "execution_count": 19,
   "metadata": {},
   "outputs": [
    {
     "data": {
      "text/html": [
       "<div>\n",
       "<style scoped>\n",
       "    .dataframe tbody tr th:only-of-type {\n",
       "        vertical-align: middle;\n",
       "    }\n",
       "\n",
       "    .dataframe tbody tr th {\n",
       "        vertical-align: top;\n",
       "    }\n",
       "\n",
       "    .dataframe thead th {\n",
       "        text-align: right;\n",
       "    }\n",
       "</style>\n",
       "<table border=\"1\" class=\"dataframe\">\n",
       "  <thead>\n",
       "    <tr style=\"text-align: right;\">\n",
       "      <th>Description</th>\n",
       "      <th>YYYYMM</th>\n",
       "      <th>Unit</th>\n",
       "      <th>Aviation Gasoline CO2 Emissions</th>\n",
       "      <th>Coal, Including Coal Coke Net Imports, CO2 Emissions</th>\n",
       "      <th>Distillate Fuel Oil, Excluding Biodiesel, CO2 Emissions</th>\n",
       "      <th>Hydrocarbon Gas Liquids CO2 Emissions</th>\n",
       "      <th>Jet Fuel CO2 Emissions</th>\n",
       "      <th>Kerosene CO2 Emissions</th>\n",
       "      <th>Lubricants CO2 Emissions</th>\n",
       "      <th>Motor Gasoline, Excluding Ethanol, CO2 Emissions</th>\n",
       "      <th>Natural Gas, Excluding Supplemental Gaseous Fuels, CO2 Emissions</th>\n",
       "      <th>Other Petroleum Products CO2 Emissions</th>\n",
       "      <th>Petroleum Coke CO2 Emissions</th>\n",
       "      <th>Petroleum, Excluding Biofuels, CO2 Emissions</th>\n",
       "      <th>Residual Fuel Oil CO2 Emissions</th>\n",
       "      <th>Total Energy CO2 Emissions</th>\n",
       "      <th>Year</th>\n",
       "      <th>Month</th>\n",
       "    </tr>\n",
       "  </thead>\n",
       "  <tbody>\n",
       "    <tr>\n",
       "      <th>0</th>\n",
       "      <td>197301</td>\n",
       "      <td>Million Metric Tons of Carbon Dioxide</td>\n",
       "      <td>0.428</td>\n",
       "      <td>109.559</td>\n",
       "      <td>55.157</td>\n",
       "      <td>10.464</td>\n",
       "      <td>13.742</td>\n",
       "      <td>5.222</td>\n",
       "      <td>1.037</td>\n",
       "      <td>70.937</td>\n",
       "      <td>125.599</td>\n",
       "      <td>8.754</td>\n",
       "      <td>4.850</td>\n",
       "      <td>218.962</td>\n",
       "      <td>48.370</td>\n",
       "      <td>454.121</td>\n",
       "      <td>1973</td>\n",
       "      <td>01</td>\n",
       "    </tr>\n",
       "    <tr>\n",
       "      <th>1</th>\n",
       "      <td>197302</td>\n",
       "      <td>Million Metric Tons of Carbon Dioxide</td>\n",
       "      <td>0.431</td>\n",
       "      <td>98.839</td>\n",
       "      <td>51.771</td>\n",
       "      <td>8.849</td>\n",
       "      <td>12.193</td>\n",
       "      <td>4.475</td>\n",
       "      <td>1.025</td>\n",
       "      <td>67.412</td>\n",
       "      <td>113.788</td>\n",
       "      <td>7.674</td>\n",
       "      <td>3.992</td>\n",
       "      <td>202.509</td>\n",
       "      <td>44.686</td>\n",
       "      <td>415.136</td>\n",
       "      <td>1973</td>\n",
       "      <td>02</td>\n",
       "    </tr>\n",
       "    <tr>\n",
       "      <th>2</th>\n",
       "      <td>197303</td>\n",
       "      <td>Million Metric Tons of Carbon Dioxide</td>\n",
       "      <td>0.459</td>\n",
       "      <td>98.488</td>\n",
       "      <td>44.460</td>\n",
       "      <td>6.688</td>\n",
       "      <td>12.293</td>\n",
       "      <td>2.582</td>\n",
       "      <td>1.105</td>\n",
       "      <td>75.521</td>\n",
       "      <td>107.736</td>\n",
       "      <td>8.659</td>\n",
       "      <td>4.357</td>\n",
       "      <td>201.234</td>\n",
       "      <td>45.111</td>\n",
       "      <td>407.459</td>\n",
       "      <td>1973</td>\n",
       "      <td>03</td>\n",
       "    </tr>\n",
       "    <tr>\n",
       "      <th>3</th>\n",
       "      <td>197304</td>\n",
       "      <td>Million Metric Tons of Carbon Dioxide</td>\n",
       "      <td>0.446</td>\n",
       "      <td>94.155</td>\n",
       "      <td>33.973</td>\n",
       "      <td>5.793</td>\n",
       "      <td>12.112</td>\n",
       "      <td>2.031</td>\n",
       "      <td>0.979</td>\n",
       "      <td>73.404</td>\n",
       "      <td>97.871</td>\n",
       "      <td>8.230</td>\n",
       "      <td>4.179</td>\n",
       "      <td>176.211</td>\n",
       "      <td>35.063</td>\n",
       "      <td>368.237</td>\n",
       "      <td>1973</td>\n",
       "      <td>04</td>\n",
       "    </tr>\n",
       "    <tr>\n",
       "      <th>4</th>\n",
       "      <td>197305</td>\n",
       "      <td>Million Metric Tons of Carbon Dioxide</td>\n",
       "      <td>0.549</td>\n",
       "      <td>95.429</td>\n",
       "      <td>35.591</td>\n",
       "      <td>5.489</td>\n",
       "      <td>13.756</td>\n",
       "      <td>1.702</td>\n",
       "      <td>1.156</td>\n",
       "      <td>80.093</td>\n",
       "      <td>92.070</td>\n",
       "      <td>8.688</td>\n",
       "      <td>4.645</td>\n",
       "      <td>188.558</td>\n",
       "      <td>36.889</td>\n",
       "      <td>376.057</td>\n",
       "      <td>1973</td>\n",
       "      <td>05</td>\n",
       "    </tr>\n",
       "    <tr>\n",
       "      <th>...</th>\n",
       "      <td>...</td>\n",
       "      <td>...</td>\n",
       "      <td>...</td>\n",
       "      <td>...</td>\n",
       "      <td>...</td>\n",
       "      <td>...</td>\n",
       "      <td>...</td>\n",
       "      <td>...</td>\n",
       "      <td>...</td>\n",
       "      <td>...</td>\n",
       "      <td>...</td>\n",
       "      <td>...</td>\n",
       "      <td>...</td>\n",
       "      <td>...</td>\n",
       "      <td>...</td>\n",
       "      <td>...</td>\n",
       "      <td>...</td>\n",
       "      <td>...</td>\n",
       "    </tr>\n",
       "    <tr>\n",
       "      <th>666</th>\n",
       "      <td>202404</td>\n",
       "      <td>Million Metric Tons of Carbon Dioxide</td>\n",
       "      <td>0.143</td>\n",
       "      <td>44.492</td>\n",
       "      <td>47.934</td>\n",
       "      <td>7.097</td>\n",
       "      <td>20.992</td>\n",
       "      <td>0.156</td>\n",
       "      <td>0.748</td>\n",
       "      <td>88.126</td>\n",
       "      <td>128.948</td>\n",
       "      <td>8.474</td>\n",
       "      <td>6.599</td>\n",
       "      <td>184.691</td>\n",
       "      <td>4.421</td>\n",
       "      <td>358.742</td>\n",
       "      <td>2024</td>\n",
       "      <td>04</td>\n",
       "    </tr>\n",
       "    <tr>\n",
       "      <th>667</th>\n",
       "      <td>202405</td>\n",
       "      <td>Million Metric Tons of Carbon Dioxide</td>\n",
       "      <td>0.124</td>\n",
       "      <td>53.461</td>\n",
       "      <td>49.333</td>\n",
       "      <td>6.826</td>\n",
       "      <td>22.449</td>\n",
       "      <td>0.157</td>\n",
       "      <td>0.521</td>\n",
       "      <td>96.313</td>\n",
       "      <td>125.599</td>\n",
       "      <td>9.492</td>\n",
       "      <td>5.439</td>\n",
       "      <td>194.972</td>\n",
       "      <td>4.319</td>\n",
       "      <td>374.664</td>\n",
       "      <td>2024</td>\n",
       "      <td>05</td>\n",
       "    </tr>\n",
       "    <tr>\n",
       "      <th>668</th>\n",
       "      <td>202406</td>\n",
       "      <td>Million Metric Tons of Carbon Dioxide</td>\n",
       "      <td>0.179</td>\n",
       "      <td>67.905</td>\n",
       "      <td>45.351</td>\n",
       "      <td>6.169</td>\n",
       "      <td>21.013</td>\n",
       "      <td>0.111</td>\n",
       "      <td>0.582</td>\n",
       "      <td>90.783</td>\n",
       "      <td>130.996</td>\n",
       "      <td>9.414</td>\n",
       "      <td>3.971</td>\n",
       "      <td>181.628</td>\n",
       "      <td>4.057</td>\n",
       "      <td>381.141</td>\n",
       "      <td>2024</td>\n",
       "      <td>06</td>\n",
       "    </tr>\n",
       "    <tr>\n",
       "      <th>669</th>\n",
       "      <td>202407</td>\n",
       "      <td>Million Metric Tons of Carbon Dioxide</td>\n",
       "      <td>0.178</td>\n",
       "      <td>78.975</td>\n",
       "      <td>48.186</td>\n",
       "      <td>5.919</td>\n",
       "      <td>23.256</td>\n",
       "      <td>0.022</td>\n",
       "      <td>0.617</td>\n",
       "      <td>95.473</td>\n",
       "      <td>148.096</td>\n",
       "      <td>9.475</td>\n",
       "      <td>6.190</td>\n",
       "      <td>193.606</td>\n",
       "      <td>4.292</td>\n",
       "      <td>421.309</td>\n",
       "      <td>2024</td>\n",
       "      <td>07</td>\n",
       "    </tr>\n",
       "    <tr>\n",
       "      <th>670</th>\n",
       "      <td>202408</td>\n",
       "      <td>Million Metric Tons of Carbon Dioxide</td>\n",
       "      <td>0.147</td>\n",
       "      <td>76.968</td>\n",
       "      <td>50.595</td>\n",
       "      <td>6.387</td>\n",
       "      <td>22.712</td>\n",
       "      <td>0.090</td>\n",
       "      <td>0.527</td>\n",
       "      <td>95.065</td>\n",
       "      <td>146.685</td>\n",
       "      <td>9.552</td>\n",
       "      <td>2.059</td>\n",
       "      <td>191.351</td>\n",
       "      <td>4.217</td>\n",
       "      <td>415.636</td>\n",
       "      <td>2024</td>\n",
       "      <td>08</td>\n",
       "    </tr>\n",
       "  </tbody>\n",
       "</table>\n",
       "<p>671 rows × 18 columns</p>\n",
       "</div>"
      ],
      "text/plain": [
       "Description  YYYYMM                                   Unit  \\\n",
       "0            197301  Million Metric Tons of Carbon Dioxide   \n",
       "1            197302  Million Metric Tons of Carbon Dioxide   \n",
       "2            197303  Million Metric Tons of Carbon Dioxide   \n",
       "3            197304  Million Metric Tons of Carbon Dioxide   \n",
       "4            197305  Million Metric Tons of Carbon Dioxide   \n",
       "..              ...                                    ...   \n",
       "666          202404  Million Metric Tons of Carbon Dioxide   \n",
       "667          202405  Million Metric Tons of Carbon Dioxide   \n",
       "668          202406  Million Metric Tons of Carbon Dioxide   \n",
       "669          202407  Million Metric Tons of Carbon Dioxide   \n",
       "670          202408  Million Metric Tons of Carbon Dioxide   \n",
       "\n",
       "Description  Aviation Gasoline CO2 Emissions  \\\n",
       "0                                      0.428   \n",
       "1                                      0.431   \n",
       "2                                      0.459   \n",
       "3                                      0.446   \n",
       "4                                      0.549   \n",
       "..                                       ...   \n",
       "666                                    0.143   \n",
       "667                                    0.124   \n",
       "668                                    0.179   \n",
       "669                                    0.178   \n",
       "670                                    0.147   \n",
       "\n",
       "Description  Coal, Including Coal Coke Net Imports, CO2 Emissions  \\\n",
       "0                                                      109.559      \n",
       "1                                                       98.839      \n",
       "2                                                       98.488      \n",
       "3                                                       94.155      \n",
       "4                                                       95.429      \n",
       "..                                                         ...      \n",
       "666                                                     44.492      \n",
       "667                                                     53.461      \n",
       "668                                                     67.905      \n",
       "669                                                     78.975      \n",
       "670                                                     76.968      \n",
       "\n",
       "Description  Distillate Fuel Oil, Excluding Biodiesel, CO2 Emissions  \\\n",
       "0                                                       55.157         \n",
       "1                                                       51.771         \n",
       "2                                                       44.460         \n",
       "3                                                       33.973         \n",
       "4                                                       35.591         \n",
       "..                                                         ...         \n",
       "666                                                     47.934         \n",
       "667                                                     49.333         \n",
       "668                                                     45.351         \n",
       "669                                                     48.186         \n",
       "670                                                     50.595         \n",
       "\n",
       "Description  Hydrocarbon Gas Liquids CO2 Emissions  Jet Fuel CO2 Emissions  \\\n",
       "0                                           10.464                  13.742   \n",
       "1                                            8.849                  12.193   \n",
       "2                                            6.688                  12.293   \n",
       "3                                            5.793                  12.112   \n",
       "4                                            5.489                  13.756   \n",
       "..                                             ...                     ...   \n",
       "666                                          7.097                  20.992   \n",
       "667                                          6.826                  22.449   \n",
       "668                                          6.169                  21.013   \n",
       "669                                          5.919                  23.256   \n",
       "670                                          6.387                  22.712   \n",
       "\n",
       "Description  Kerosene CO2 Emissions  Lubricants CO2 Emissions  \\\n",
       "0                             5.222                     1.037   \n",
       "1                             4.475                     1.025   \n",
       "2                             2.582                     1.105   \n",
       "3                             2.031                     0.979   \n",
       "4                             1.702                     1.156   \n",
       "..                              ...                       ...   \n",
       "666                           0.156                     0.748   \n",
       "667                           0.157                     0.521   \n",
       "668                           0.111                     0.582   \n",
       "669                           0.022                     0.617   \n",
       "670                           0.090                     0.527   \n",
       "\n",
       "Description  Motor Gasoline, Excluding Ethanol, CO2 Emissions  \\\n",
       "0                                                      70.937   \n",
       "1                                                      67.412   \n",
       "2                                                      75.521   \n",
       "3                                                      73.404   \n",
       "4                                                      80.093   \n",
       "..                                                        ...   \n",
       "666                                                    88.126   \n",
       "667                                                    96.313   \n",
       "668                                                    90.783   \n",
       "669                                                    95.473   \n",
       "670                                                    95.065   \n",
       "\n",
       "Description  Natural Gas, Excluding Supplemental Gaseous Fuels, CO2 Emissions  \\\n",
       "0                                                      125.599                  \n",
       "1                                                      113.788                  \n",
       "2                                                      107.736                  \n",
       "3                                                       97.871                  \n",
       "4                                                       92.070                  \n",
       "..                                                         ...                  \n",
       "666                                                    128.948                  \n",
       "667                                                    125.599                  \n",
       "668                                                    130.996                  \n",
       "669                                                    148.096                  \n",
       "670                                                    146.685                  \n",
       "\n",
       "Description  Other Petroleum Products CO2 Emissions  \\\n",
       "0                                             8.754   \n",
       "1                                             7.674   \n",
       "2                                             8.659   \n",
       "3                                             8.230   \n",
       "4                                             8.688   \n",
       "..                                              ...   \n",
       "666                                           8.474   \n",
       "667                                           9.492   \n",
       "668                                           9.414   \n",
       "669                                           9.475   \n",
       "670                                           9.552   \n",
       "\n",
       "Description  Petroleum Coke CO2 Emissions  \\\n",
       "0                                   4.850   \n",
       "1                                   3.992   \n",
       "2                                   4.357   \n",
       "3                                   4.179   \n",
       "4                                   4.645   \n",
       "..                                    ...   \n",
       "666                                 6.599   \n",
       "667                                 5.439   \n",
       "668                                 3.971   \n",
       "669                                 6.190   \n",
       "670                                 2.059   \n",
       "\n",
       "Description  Petroleum, Excluding Biofuels, CO2 Emissions  \\\n",
       "0                                                 218.962   \n",
       "1                                                 202.509   \n",
       "2                                                 201.234   \n",
       "3                                                 176.211   \n",
       "4                                                 188.558   \n",
       "..                                                    ...   \n",
       "666                                               184.691   \n",
       "667                                               194.972   \n",
       "668                                               181.628   \n",
       "669                                               193.606   \n",
       "670                                               191.351   \n",
       "\n",
       "Description  Residual Fuel Oil CO2 Emissions  Total Energy CO2 Emissions  \\\n",
       "0                                     48.370                     454.121   \n",
       "1                                     44.686                     415.136   \n",
       "2                                     45.111                     407.459   \n",
       "3                                     35.063                     368.237   \n",
       "4                                     36.889                     376.057   \n",
       "..                                       ...                         ...   \n",
       "666                                    4.421                     358.742   \n",
       "667                                    4.319                     374.664   \n",
       "668                                    4.057                     381.141   \n",
       "669                                    4.292                     421.309   \n",
       "670                                    4.217                     415.636   \n",
       "\n",
       "Description  Year Month  \n",
       "0            1973    01  \n",
       "1            1973    02  \n",
       "2            1973    03  \n",
       "3            1973    04  \n",
       "4            1973    05  \n",
       "..            ...   ...  \n",
       "666          2024    04  \n",
       "667          2024    05  \n",
       "668          2024    06  \n",
       "669          2024    07  \n",
       "670          2024    08  \n",
       "\n",
       "[671 rows x 18 columns]"
      ]
     },
     "execution_count": 19,
     "metadata": {},
     "output_type": "execute_result"
    }
   ],
   "source": [
    "Energy_CO2_emissions_fuel_reshaped"
   ]
  },
  {
   "cell_type": "code",
   "execution_count": 20,
   "metadata": {},
   "outputs": [
    {
     "data": {
      "text/html": [
       "<div>\n",
       "<style scoped>\n",
       "    .dataframe tbody tr th:only-of-type {\n",
       "        vertical-align: middle;\n",
       "    }\n",
       "\n",
       "    .dataframe tbody tr th {\n",
       "        vertical-align: top;\n",
       "    }\n",
       "\n",
       "    .dataframe thead th {\n",
       "        text-align: right;\n",
       "    }\n",
       "</style>\n",
       "<table border=\"1\" class=\"dataframe\">\n",
       "  <thead>\n",
       "    <tr style=\"text-align: right;\">\n",
       "      <th>Description</th>\n",
       "      <th>YYYYMM</th>\n",
       "      <th>Unit</th>\n",
       "      <th>Aviation Gasoline CO2 Emissions</th>\n",
       "      <th>Coal, Including Coal Coke Net Imports, CO2 Emissions</th>\n",
       "      <th>Distillate Fuel Oil, Excluding Biodiesel, CO2 Emissions</th>\n",
       "      <th>Hydrocarbon Gas Liquids CO2 Emissions</th>\n",
       "      <th>Jet Fuel CO2 Emissions</th>\n",
       "      <th>Kerosene CO2 Emissions</th>\n",
       "      <th>Lubricants CO2 Emissions</th>\n",
       "      <th>Motor Gasoline, Excluding Ethanol, CO2 Emissions</th>\n",
       "      <th>Natural Gas, Excluding Supplemental Gaseous Fuels, CO2 Emissions</th>\n",
       "      <th>Other Petroleum Products CO2 Emissions</th>\n",
       "      <th>Petroleum Coke CO2 Emissions</th>\n",
       "      <th>Petroleum, Excluding Biofuels, CO2 Emissions</th>\n",
       "      <th>Residual Fuel Oil CO2 Emissions</th>\n",
       "      <th>Total Energy CO2 Emissions</th>\n",
       "      <th>Year</th>\n",
       "      <th>Month</th>\n",
       "    </tr>\n",
       "  </thead>\n",
       "  <tbody>\n",
       "    <tr>\n",
       "      <th>12</th>\n",
       "      <td>197313</td>\n",
       "      <td>Million Metric Tons of Carbon Dioxide</td>\n",
       "      <td>5.771</td>\n",
       "      <td>1220.714</td>\n",
       "      <td>485.041</td>\n",
       "      <td>79.540</td>\n",
       "      <td>154.162</td>\n",
       "      <td>32.747</td>\n",
       "      <td>13.290</td>\n",
       "      <td>911.241</td>\n",
       "      <td>1175.252</td>\n",
       "      <td>102.153</td>\n",
       "      <td>55.137</td>\n",
       "      <td>2325.281</td>\n",
       "      <td>486.200</td>\n",
       "      <td>4721.247</td>\n",
       "      <td>1973</td>\n",
       "      <td>13</td>\n",
       "    </tr>\n",
       "    <tr>\n",
       "      <th>25</th>\n",
       "      <td>197413</td>\n",
       "      <td>Million Metric Tons of Carbon Dioxide</td>\n",
       "      <td>5.660</td>\n",
       "      <td>1199.352</td>\n",
       "      <td>462.397</td>\n",
       "      <td>76.569</td>\n",
       "      <td>144.427</td>\n",
       "      <td>26.704</td>\n",
       "      <td>12.728</td>\n",
       "      <td>892.546</td>\n",
       "      <td>1134.594</td>\n",
       "      <td>101.288</td>\n",
       "      <td>50.473</td>\n",
       "      <td>2227.390</td>\n",
       "      <td>454.598</td>\n",
       "      <td>4561.336</td>\n",
       "      <td>1974</td>\n",
       "      <td>13</td>\n",
       "    </tr>\n",
       "    <tr>\n",
       "      <th>38</th>\n",
       "      <td>197513</td>\n",
       "      <td>Million Metric Tons of Carbon Dioxide</td>\n",
       "      <td>4.911</td>\n",
       "      <td>1195.102</td>\n",
       "      <td>447.176</td>\n",
       "      <td>72.841</td>\n",
       "      <td>145.616</td>\n",
       "      <td>24.064</td>\n",
       "      <td>11.268</td>\n",
       "      <td>911.268</td>\n",
       "      <td>1042.853</td>\n",
       "      <td>96.927</td>\n",
       "      <td>52.102</td>\n",
       "      <td>2190.270</td>\n",
       "      <td>424.097</td>\n",
       "      <td>4428.225</td>\n",
       "      <td>1975</td>\n",
       "      <td>13</td>\n",
       "    </tr>\n",
       "    <tr>\n",
       "      <th>51</th>\n",
       "      <td>197613</td>\n",
       "      <td>Million Metric Tons of Carbon Dioxide</td>\n",
       "      <td>4.664</td>\n",
       "      <td>1281.249</td>\n",
       "      <td>492.737</td>\n",
       "      <td>75.039</td>\n",
       "      <td>144.116</td>\n",
       "      <td>25.695</td>\n",
       "      <td>12.518</td>\n",
       "      <td>955.258</td>\n",
       "      <td>1063.161</td>\n",
       "      <td>105.092</td>\n",
       "      <td>51.548</td>\n",
       "      <td>2350.496</td>\n",
       "      <td>483.828</td>\n",
       "      <td>4694.906</td>\n",
       "      <td>1976</td>\n",
       "      <td>13</td>\n",
       "    </tr>\n",
       "    <tr>\n",
       "      <th>64</th>\n",
       "      <td>197713</td>\n",
       "      <td>Million Metric Tons of Carbon Dioxide</td>\n",
       "      <td>4.863</td>\n",
       "      <td>1315.802</td>\n",
       "      <td>525.595</td>\n",
       "      <td>73.753</td>\n",
       "      <td>151.264</td>\n",
       "      <td>26.542</td>\n",
       "      <td>13.097</td>\n",
       "      <td>979.835</td>\n",
       "      <td>1041.406</td>\n",
       "      <td>117.689</td>\n",
       "      <td>56.553</td>\n",
       "      <td>2478.228</td>\n",
       "      <td>529.037</td>\n",
       "      <td>4835.437</td>\n",
       "      <td>1977</td>\n",
       "      <td>13</td>\n",
       "    </tr>\n",
       "  </tbody>\n",
       "</table>\n",
       "</div>"
      ],
      "text/plain": [
       "Description  YYYYMM                                   Unit  \\\n",
       "12           197313  Million Metric Tons of Carbon Dioxide   \n",
       "25           197413  Million Metric Tons of Carbon Dioxide   \n",
       "38           197513  Million Metric Tons of Carbon Dioxide   \n",
       "51           197613  Million Metric Tons of Carbon Dioxide   \n",
       "64           197713  Million Metric Tons of Carbon Dioxide   \n",
       "\n",
       "Description  Aviation Gasoline CO2 Emissions  \\\n",
       "12                                     5.771   \n",
       "25                                     5.660   \n",
       "38                                     4.911   \n",
       "51                                     4.664   \n",
       "64                                     4.863   \n",
       "\n",
       "Description  Coal, Including Coal Coke Net Imports, CO2 Emissions  \\\n",
       "12                                                    1220.714      \n",
       "25                                                    1199.352      \n",
       "38                                                    1195.102      \n",
       "51                                                    1281.249      \n",
       "64                                                    1315.802      \n",
       "\n",
       "Description  Distillate Fuel Oil, Excluding Biodiesel, CO2 Emissions  \\\n",
       "12                                                     485.041         \n",
       "25                                                     462.397         \n",
       "38                                                     447.176         \n",
       "51                                                     492.737         \n",
       "64                                                     525.595         \n",
       "\n",
       "Description  Hydrocarbon Gas Liquids CO2 Emissions  Jet Fuel CO2 Emissions  \\\n",
       "12                                          79.540                 154.162   \n",
       "25                                          76.569                 144.427   \n",
       "38                                          72.841                 145.616   \n",
       "51                                          75.039                 144.116   \n",
       "64                                          73.753                 151.264   \n",
       "\n",
       "Description  Kerosene CO2 Emissions  Lubricants CO2 Emissions  \\\n",
       "12                           32.747                    13.290   \n",
       "25                           26.704                    12.728   \n",
       "38                           24.064                    11.268   \n",
       "51                           25.695                    12.518   \n",
       "64                           26.542                    13.097   \n",
       "\n",
       "Description  Motor Gasoline, Excluding Ethanol, CO2 Emissions  \\\n",
       "12                                                    911.241   \n",
       "25                                                    892.546   \n",
       "38                                                    911.268   \n",
       "51                                                    955.258   \n",
       "64                                                    979.835   \n",
       "\n",
       "Description  Natural Gas, Excluding Supplemental Gaseous Fuels, CO2 Emissions  \\\n",
       "12                                                    1175.252                  \n",
       "25                                                    1134.594                  \n",
       "38                                                    1042.853                  \n",
       "51                                                    1063.161                  \n",
       "64                                                    1041.406                  \n",
       "\n",
       "Description  Other Petroleum Products CO2 Emissions  \\\n",
       "12                                          102.153   \n",
       "25                                          101.288   \n",
       "38                                           96.927   \n",
       "51                                          105.092   \n",
       "64                                          117.689   \n",
       "\n",
       "Description  Petroleum Coke CO2 Emissions  \\\n",
       "12                                 55.137   \n",
       "25                                 50.473   \n",
       "38                                 52.102   \n",
       "51                                 51.548   \n",
       "64                                 56.553   \n",
       "\n",
       "Description  Petroleum, Excluding Biofuels, CO2 Emissions  \\\n",
       "12                                               2325.281   \n",
       "25                                               2227.390   \n",
       "38                                               2190.270   \n",
       "51                                               2350.496   \n",
       "64                                               2478.228   \n",
       "\n",
       "Description  Residual Fuel Oil CO2 Emissions  Total Energy CO2 Emissions  \\\n",
       "12                                   486.200                    4721.247   \n",
       "25                                   454.598                    4561.336   \n",
       "38                                   424.097                    4428.225   \n",
       "51                                   483.828                    4694.906   \n",
       "64                                   529.037                    4835.437   \n",
       "\n",
       "Description  Year Month  \n",
       "12           1973    13  \n",
       "25           1974    13  \n",
       "38           1975    13  \n",
       "51           1976    13  \n",
       "64           1977    13  "
      ]
     },
     "execution_count": 20,
     "metadata": {},
     "output_type": "execute_result"
    }
   ],
   "source": [
    "#print(Energy_CO2_emissions_fuel_reshaped['Month'].dtype)\n",
    "\n",
    "Energy_CO2_emissions_fuel_reshaped=Energy_CO2_emissions_fuel_reshaped[Energy_CO2_emissions_fuel_reshaped['Month']=='13']\n",
    "Energy_CO2_emissions_fuel_reshaped.head()"
   ]
  },
  {
   "cell_type": "code",
   "execution_count": 21,
   "metadata": {},
   "outputs": [
    {
     "name": "stderr",
     "output_type": "stream",
     "text": [
      "/var/folders/7m/g81vb7mn1psfxqpqbrwl_lmw0000gn/T/ipykernel_50674/3087230447.py:1: SettingWithCopyWarning:\n",
      "\n",
      "\n",
      "A value is trying to be set on a copy of a slice from a DataFrame.\n",
      "Try using .loc[row_indexer,col_indexer] = value instead\n",
      "\n",
      "See the caveats in the documentation: https://pandas.pydata.org/pandas-docs/stable/user_guide/indexing.html#returning-a-view-versus-a-copy\n",
      "\n"
     ]
    },
    {
     "data": {
      "text/html": [
       "<div>\n",
       "<style scoped>\n",
       "    .dataframe tbody tr th:only-of-type {\n",
       "        vertical-align: middle;\n",
       "    }\n",
       "\n",
       "    .dataframe tbody tr th {\n",
       "        vertical-align: top;\n",
       "    }\n",
       "\n",
       "    .dataframe thead th {\n",
       "        text-align: right;\n",
       "    }\n",
       "</style>\n",
       "<table border=\"1\" class=\"dataframe\">\n",
       "  <thead>\n",
       "    <tr style=\"text-align: right;\">\n",
       "      <th>Description</th>\n",
       "      <th>YYYYMM</th>\n",
       "      <th>Unit</th>\n",
       "      <th>Aviation Gasoline CO2 Emissions</th>\n",
       "      <th>Coal, Including Coal Coke Net Imports, CO2 Emissions</th>\n",
       "      <th>Distillate Fuel Oil, Excluding Biodiesel, CO2 Emissions</th>\n",
       "      <th>Hydrocarbon Gas Liquids CO2 Emissions</th>\n",
       "      <th>Jet Fuel CO2 Emissions</th>\n",
       "      <th>Kerosene CO2 Emissions</th>\n",
       "      <th>Lubricants CO2 Emissions</th>\n",
       "      <th>Motor Gasoline, Excluding Ethanol, CO2 Emissions</th>\n",
       "      <th>Natural Gas, Excluding Supplemental Gaseous Fuels, CO2 Emissions</th>\n",
       "      <th>Other Petroleum Products CO2 Emissions</th>\n",
       "      <th>Petroleum Coke CO2 Emissions</th>\n",
       "      <th>Petroleum, Excluding Biofuels, CO2 Emissions</th>\n",
       "      <th>Residual Fuel Oil CO2 Emissions</th>\n",
       "      <th>Total Energy CO2 Emissions</th>\n",
       "      <th>Year</th>\n",
       "      <th>Month</th>\n",
       "      <th>country name</th>\n",
       "    </tr>\n",
       "  </thead>\n",
       "  <tbody>\n",
       "    <tr>\n",
       "      <th>12</th>\n",
       "      <td>197313</td>\n",
       "      <td>Million Metric Tons of Carbon Dioxide</td>\n",
       "      <td>5.771</td>\n",
       "      <td>1220.714</td>\n",
       "      <td>485.041</td>\n",
       "      <td>79.540</td>\n",
       "      <td>154.162</td>\n",
       "      <td>32.747</td>\n",
       "      <td>13.290</td>\n",
       "      <td>911.241</td>\n",
       "      <td>1175.252</td>\n",
       "      <td>102.153</td>\n",
       "      <td>55.137</td>\n",
       "      <td>2325.281</td>\n",
       "      <td>486.200</td>\n",
       "      <td>4721.247</td>\n",
       "      <td>1973</td>\n",
       "      <td>13</td>\n",
       "      <td>United States of America</td>\n",
       "    </tr>\n",
       "    <tr>\n",
       "      <th>25</th>\n",
       "      <td>197413</td>\n",
       "      <td>Million Metric Tons of Carbon Dioxide</td>\n",
       "      <td>5.660</td>\n",
       "      <td>1199.352</td>\n",
       "      <td>462.397</td>\n",
       "      <td>76.569</td>\n",
       "      <td>144.427</td>\n",
       "      <td>26.704</td>\n",
       "      <td>12.728</td>\n",
       "      <td>892.546</td>\n",
       "      <td>1134.594</td>\n",
       "      <td>101.288</td>\n",
       "      <td>50.473</td>\n",
       "      <td>2227.390</td>\n",
       "      <td>454.598</td>\n",
       "      <td>4561.336</td>\n",
       "      <td>1974</td>\n",
       "      <td>13</td>\n",
       "      <td>United States of America</td>\n",
       "    </tr>\n",
       "    <tr>\n",
       "      <th>38</th>\n",
       "      <td>197513</td>\n",
       "      <td>Million Metric Tons of Carbon Dioxide</td>\n",
       "      <td>4.911</td>\n",
       "      <td>1195.102</td>\n",
       "      <td>447.176</td>\n",
       "      <td>72.841</td>\n",
       "      <td>145.616</td>\n",
       "      <td>24.064</td>\n",
       "      <td>11.268</td>\n",
       "      <td>911.268</td>\n",
       "      <td>1042.853</td>\n",
       "      <td>96.927</td>\n",
       "      <td>52.102</td>\n",
       "      <td>2190.270</td>\n",
       "      <td>424.097</td>\n",
       "      <td>4428.225</td>\n",
       "      <td>1975</td>\n",
       "      <td>13</td>\n",
       "      <td>United States of America</td>\n",
       "    </tr>\n",
       "    <tr>\n",
       "      <th>51</th>\n",
       "      <td>197613</td>\n",
       "      <td>Million Metric Tons of Carbon Dioxide</td>\n",
       "      <td>4.664</td>\n",
       "      <td>1281.249</td>\n",
       "      <td>492.737</td>\n",
       "      <td>75.039</td>\n",
       "      <td>144.116</td>\n",
       "      <td>25.695</td>\n",
       "      <td>12.518</td>\n",
       "      <td>955.258</td>\n",
       "      <td>1063.161</td>\n",
       "      <td>105.092</td>\n",
       "      <td>51.548</td>\n",
       "      <td>2350.496</td>\n",
       "      <td>483.828</td>\n",
       "      <td>4694.906</td>\n",
       "      <td>1976</td>\n",
       "      <td>13</td>\n",
       "      <td>United States of America</td>\n",
       "    </tr>\n",
       "    <tr>\n",
       "      <th>64</th>\n",
       "      <td>197713</td>\n",
       "      <td>Million Metric Tons of Carbon Dioxide</td>\n",
       "      <td>4.863</td>\n",
       "      <td>1315.802</td>\n",
       "      <td>525.595</td>\n",
       "      <td>73.753</td>\n",
       "      <td>151.264</td>\n",
       "      <td>26.542</td>\n",
       "      <td>13.097</td>\n",
       "      <td>979.835</td>\n",
       "      <td>1041.406</td>\n",
       "      <td>117.689</td>\n",
       "      <td>56.553</td>\n",
       "      <td>2478.228</td>\n",
       "      <td>529.037</td>\n",
       "      <td>4835.437</td>\n",
       "      <td>1977</td>\n",
       "      <td>13</td>\n",
       "      <td>United States of America</td>\n",
       "    </tr>\n",
       "  </tbody>\n",
       "</table>\n",
       "</div>"
      ],
      "text/plain": [
       "Description  YYYYMM                                   Unit  \\\n",
       "12           197313  Million Metric Tons of Carbon Dioxide   \n",
       "25           197413  Million Metric Tons of Carbon Dioxide   \n",
       "38           197513  Million Metric Tons of Carbon Dioxide   \n",
       "51           197613  Million Metric Tons of Carbon Dioxide   \n",
       "64           197713  Million Metric Tons of Carbon Dioxide   \n",
       "\n",
       "Description  Aviation Gasoline CO2 Emissions  \\\n",
       "12                                     5.771   \n",
       "25                                     5.660   \n",
       "38                                     4.911   \n",
       "51                                     4.664   \n",
       "64                                     4.863   \n",
       "\n",
       "Description  Coal, Including Coal Coke Net Imports, CO2 Emissions  \\\n",
       "12                                                    1220.714      \n",
       "25                                                    1199.352      \n",
       "38                                                    1195.102      \n",
       "51                                                    1281.249      \n",
       "64                                                    1315.802      \n",
       "\n",
       "Description  Distillate Fuel Oil, Excluding Biodiesel, CO2 Emissions  \\\n",
       "12                                                     485.041         \n",
       "25                                                     462.397         \n",
       "38                                                     447.176         \n",
       "51                                                     492.737         \n",
       "64                                                     525.595         \n",
       "\n",
       "Description  Hydrocarbon Gas Liquids CO2 Emissions  Jet Fuel CO2 Emissions  \\\n",
       "12                                          79.540                 154.162   \n",
       "25                                          76.569                 144.427   \n",
       "38                                          72.841                 145.616   \n",
       "51                                          75.039                 144.116   \n",
       "64                                          73.753                 151.264   \n",
       "\n",
       "Description  Kerosene CO2 Emissions  Lubricants CO2 Emissions  \\\n",
       "12                           32.747                    13.290   \n",
       "25                           26.704                    12.728   \n",
       "38                           24.064                    11.268   \n",
       "51                           25.695                    12.518   \n",
       "64                           26.542                    13.097   \n",
       "\n",
       "Description  Motor Gasoline, Excluding Ethanol, CO2 Emissions  \\\n",
       "12                                                    911.241   \n",
       "25                                                    892.546   \n",
       "38                                                    911.268   \n",
       "51                                                    955.258   \n",
       "64                                                    979.835   \n",
       "\n",
       "Description  Natural Gas, Excluding Supplemental Gaseous Fuels, CO2 Emissions  \\\n",
       "12                                                    1175.252                  \n",
       "25                                                    1134.594                  \n",
       "38                                                    1042.853                  \n",
       "51                                                    1063.161                  \n",
       "64                                                    1041.406                  \n",
       "\n",
       "Description  Other Petroleum Products CO2 Emissions  \\\n",
       "12                                          102.153   \n",
       "25                                          101.288   \n",
       "38                                           96.927   \n",
       "51                                          105.092   \n",
       "64                                          117.689   \n",
       "\n",
       "Description  Petroleum Coke CO2 Emissions  \\\n",
       "12                                 55.137   \n",
       "25                                 50.473   \n",
       "38                                 52.102   \n",
       "51                                 51.548   \n",
       "64                                 56.553   \n",
       "\n",
       "Description  Petroleum, Excluding Biofuels, CO2 Emissions  \\\n",
       "12                                               2325.281   \n",
       "25                                               2227.390   \n",
       "38                                               2190.270   \n",
       "51                                               2350.496   \n",
       "64                                               2478.228   \n",
       "\n",
       "Description  Residual Fuel Oil CO2 Emissions  Total Energy CO2 Emissions  \\\n",
       "12                                   486.200                    4721.247   \n",
       "25                                   454.598                    4561.336   \n",
       "38                                   424.097                    4428.225   \n",
       "51                                   483.828                    4694.906   \n",
       "64                                   529.037                    4835.437   \n",
       "\n",
       "Description  Year Month              country name  \n",
       "12           1973    13  United States of America  \n",
       "25           1974    13  United States of America  \n",
       "38           1975    13  United States of America  \n",
       "51           1976    13  United States of America  \n",
       "64           1977    13  United States of America  "
      ]
     },
     "execution_count": 21,
     "metadata": {},
     "output_type": "execute_result"
    }
   ],
   "source": [
    "\n",
    "Energy_CO2_emissions_fuel_reshaped['country name']='United States of America'\n",
    "Energy_CO2_emissions_fuel_reshaped.head(5)\n"
   ]
  },
  {
   "cell_type": "code",
   "execution_count": 22,
   "metadata": {},
   "outputs": [
    {
     "name": "stderr",
     "output_type": "stream",
     "text": [
      "/var/folders/7m/g81vb7mn1psfxqpqbrwl_lmw0000gn/T/ipykernel_50674/4104714227.py:5: SettingWithCopyWarning:\n",
      "\n",
      "\n",
      "A value is trying to be set on a copy of a slice from a DataFrame.\n",
      "Try using .loc[row_indexer,col_indexer] = value instead\n",
      "\n",
      "See the caveats in the documentation: https://pandas.pydata.org/pandas-docs/stable/user_guide/indexing.html#returning-a-view-versus-a-copy\n",
      "\n"
     ]
    },
    {
     "data": {
      "text/html": [
       "<div>\n",
       "<style scoped>\n",
       "    .dataframe tbody tr th:only-of-type {\n",
       "        vertical-align: middle;\n",
       "    }\n",
       "\n",
       "    .dataframe tbody tr th {\n",
       "        vertical-align: top;\n",
       "    }\n",
       "\n",
       "    .dataframe thead th {\n",
       "        text-align: right;\n",
       "    }\n",
       "</style>\n",
       "<table border=\"1\" class=\"dataframe\">\n",
       "  <thead>\n",
       "    <tr style=\"text-align: right;\">\n",
       "      <th>Description</th>\n",
       "      <th>Year</th>\n",
       "      <th>country name</th>\n",
       "      <th>Total Energy CO2 Emissions (billion tons of CO2e)</th>\n",
       "    </tr>\n",
       "  </thead>\n",
       "  <tbody>\n",
       "    <tr>\n",
       "      <th>12</th>\n",
       "      <td>1973</td>\n",
       "      <td>United States of America</td>\n",
       "      <td>4.721247</td>\n",
       "    </tr>\n",
       "    <tr>\n",
       "      <th>25</th>\n",
       "      <td>1974</td>\n",
       "      <td>United States of America</td>\n",
       "      <td>4.561336</td>\n",
       "    </tr>\n",
       "    <tr>\n",
       "      <th>38</th>\n",
       "      <td>1975</td>\n",
       "      <td>United States of America</td>\n",
       "      <td>4.428225</td>\n",
       "    </tr>\n",
       "    <tr>\n",
       "      <th>51</th>\n",
       "      <td>1976</td>\n",
       "      <td>United States of America</td>\n",
       "      <td>4.694906</td>\n",
       "    </tr>\n",
       "    <tr>\n",
       "      <th>64</th>\n",
       "      <td>1977</td>\n",
       "      <td>United States of America</td>\n",
       "      <td>4.835437</td>\n",
       "    </tr>\n",
       "  </tbody>\n",
       "</table>\n",
       "</div>"
      ],
      "text/plain": [
       "Description  Year              country name  \\\n",
       "12           1973  United States of America   \n",
       "25           1974  United States of America   \n",
       "38           1975  United States of America   \n",
       "51           1976  United States of America   \n",
       "64           1977  United States of America   \n",
       "\n",
       "Description  Total Energy CO2 Emissions (billion tons of CO2e)  \n",
       "12                                                    4.721247  \n",
       "25                                                    4.561336  \n",
       "38                                                    4.428225  \n",
       "51                                                    4.694906  \n",
       "64                                                    4.835437  "
      ]
     },
     "execution_count": 22,
     "metadata": {},
     "output_type": "execute_result"
    }
   ],
   "source": [
    "\n",
    "# Select specific columns\n",
    "US_CO2_emissions_year_filtered = Energy_CO2_emissions_fuel_reshaped[['Year', 'country name', 'Total Energy CO2 Emissions']]\n",
    "\n",
    "# Create a new column with emissions in billion tons\n",
    "US_CO2_emissions_year_filtered['Total Energy CO2 Emissions (billion tons of CO2e)'] = (\n",
    "    US_CO2_emissions_year_filtered['Total Energy CO2 Emissions'] / 1000\n",
    ")\n",
    "\n",
    "# Drop the original 'Total Energy CO2 Emissions' column\n",
    "US_CO2_emissions_year_filtered = US_CO2_emissions_year_filtered.drop('Total Energy CO2 Emissions', axis=1)\n",
    "\n",
    "# Display the filtered DataFrame\n",
    "US_CO2_emissions_year_filtered.head()\n"
   ]
  },
  {
   "cell_type": "markdown",
   "metadata": {},
   "source": [
    "**Merge of the datasets**"
   ]
  },
  {
   "cell_type": "code",
   "execution_count": 23,
   "metadata": {},
   "outputs": [
    {
     "name": "stderr",
     "output_type": "stream",
     "text": [
      "/var/folders/7m/g81vb7mn1psfxqpqbrwl_lmw0000gn/T/ipykernel_50674/1623941713.py:5: SettingWithCopyWarning:\n",
      "\n",
      "\n",
      "A value is trying to be set on a copy of a slice from a DataFrame.\n",
      "Try using .loc[row_indexer,col_indexer] = value instead\n",
      "\n",
      "See the caveats in the documentation: https://pandas.pydata.org/pandas-docs/stable/user_guide/indexing.html#returning-a-view-versus-a-copy\n",
      "\n"
     ]
    },
    {
     "data": {
      "text/html": [
       "<div>\n",
       "<style scoped>\n",
       "    .dataframe tbody tr th:only-of-type {\n",
       "        vertical-align: middle;\n",
       "    }\n",
       "\n",
       "    .dataframe tbody tr th {\n",
       "        vertical-align: top;\n",
       "    }\n",
       "\n",
       "    .dataframe thead th {\n",
       "        text-align: right;\n",
       "    }\n",
       "</style>\n",
       "<table border=\"1\" class=\"dataframe\">\n",
       "  <thead>\n",
       "    <tr style=\"text-align: right;\">\n",
       "      <th></th>\n",
       "      <th>Year</th>\n",
       "      <th>country name</th>\n",
       "      <th>Total Energy CO2 Emissions (billion tons of CO2e)</th>\n",
       "      <th>Region/Country/Area</th>\n",
       "      <th>Source</th>\n",
       "      <th>Emissions (thousand metric tons of carbon dioxide)</th>\n",
       "      <th>Emissions (billion tons of CO2e)</th>\n",
       "      <th>Total World Emissions</th>\n",
       "      <th>Emissions %total</th>\n",
       "    </tr>\n",
       "  </thead>\n",
       "  <tbody>\n",
       "    <tr>\n",
       "      <th>0</th>\n",
       "      <td>1975</td>\n",
       "      <td>United States of America</td>\n",
       "      <td>4.428225</td>\n",
       "      <td>840</td>\n",
       "      <td>United Nations Statistics Division, New York, ...</td>\n",
       "      <td>4448307.0</td>\n",
       "      <td>4.448307</td>\n",
       "      <td>16.042405</td>\n",
       "      <td>27.728430</td>\n",
       "    </tr>\n",
       "    <tr>\n",
       "      <th>1</th>\n",
       "      <td>1985</td>\n",
       "      <td>United States of America</td>\n",
       "      <td>4.605714</td>\n",
       "      <td>840</td>\n",
       "      <td>United Nations Statistics Division, New York, ...</td>\n",
       "      <td>4547755.0</td>\n",
       "      <td>4.547755</td>\n",
       "      <td>19.348135</td>\n",
       "      <td>23.504875</td>\n",
       "    </tr>\n",
       "    <tr>\n",
       "      <th>2</th>\n",
       "      <td>2005</td>\n",
       "      <td>United States of America</td>\n",
       "      <td>6.007546</td>\n",
       "      <td>840</td>\n",
       "      <td>United Nations Statistics Division, New York, ...</td>\n",
       "      <td>5783324.0</td>\n",
       "      <td>5.783324</td>\n",
       "      <td>26.638238</td>\n",
       "      <td>21.710610</td>\n",
       "    </tr>\n",
       "    <tr>\n",
       "      <th>3</th>\n",
       "      <td>2010</td>\n",
       "      <td>United States of America</td>\n",
       "      <td>5.593816</td>\n",
       "      <td>840</td>\n",
       "      <td>United Nations Statistics Division, New York, ...</td>\n",
       "      <td>5364966.0</td>\n",
       "      <td>5.364966</td>\n",
       "      <td>30.044215</td>\n",
       "      <td>17.856902</td>\n",
       "    </tr>\n",
       "    <tr>\n",
       "      <th>4</th>\n",
       "      <td>2015</td>\n",
       "      <td>United States of America</td>\n",
       "      <td>5.262200</td>\n",
       "      <td>840</td>\n",
       "      <td>United Nations Statistics Division, New York, ...</td>\n",
       "      <td>5016486.0</td>\n",
       "      <td>5.016486</td>\n",
       "      <td>31.468477</td>\n",
       "      <td>15.941305</td>\n",
       "    </tr>\n",
       "  </tbody>\n",
       "</table>\n",
       "</div>"
      ],
      "text/plain": [
       "   Year              country name  \\\n",
       "0  1975  United States of America   \n",
       "1  1985  United States of America   \n",
       "2  2005  United States of America   \n",
       "3  2010  United States of America   \n",
       "4  2015  United States of America   \n",
       "\n",
       "   Total Energy CO2 Emissions (billion tons of CO2e)  Region/Country/Area  \\\n",
       "0                                           4.428225                  840   \n",
       "1                                           4.605714                  840   \n",
       "2                                           6.007546                  840   \n",
       "3                                           5.593816                  840   \n",
       "4                                           5.262200                  840   \n",
       "\n",
       "                                              Source  \\\n",
       "0  United Nations Statistics Division, New York, ...   \n",
       "1  United Nations Statistics Division, New York, ...   \n",
       "2  United Nations Statistics Division, New York, ...   \n",
       "3  United Nations Statistics Division, New York, ...   \n",
       "4  United Nations Statistics Division, New York, ...   \n",
       "\n",
       "   Emissions (thousand metric tons of carbon dioxide)  \\\n",
       "0                                          4448307.0    \n",
       "1                                          4547755.0    \n",
       "2                                          5783324.0    \n",
       "3                                          5364966.0    \n",
       "4                                          5016486.0    \n",
       "\n",
       "   Emissions (billion tons of CO2e)  Total World Emissions  Emissions %total  \n",
       "0                          4.448307              16.042405         27.728430  \n",
       "1                          4.547755              19.348135         23.504875  \n",
       "2                          5.783324              26.638238         21.710610  \n",
       "3                          5.364966              30.044215         17.856902  \n",
       "4                          5.016486              31.468477         15.941305  "
      ]
     },
     "execution_count": 23,
     "metadata": {},
     "output_type": "execute_result"
    }
   ],
   "source": [
    "US_CO2_emissions_year_filtered['Year'] = pd.to_numeric(\n",
    "    US_CO2_emissions_year_filtered['Year'], errors='coerce'\n",
    ").astype('Int64')\n",
    "\n",
    "global_CO2_reshaped['Year'] = pd.to_numeric(\n",
    "    global_CO2_reshaped['Year'], errors='coerce'\n",
    ").astype('Int64')\n",
    "\n",
    "\n",
    "merged_CO2_US=pd.merge(US_CO2_emissions_year_filtered, global_CO2_reshaped, on=['country name', 'Year'], how='right')\n",
    "merged_CO2_US.head()\n"
   ]
  },
  {
   "cell_type": "code",
   "execution_count": 24,
   "metadata": {},
   "outputs": [
    {
     "data": {
      "text/html": [
       "<div>\n",
       "<style scoped>\n",
       "    .dataframe tbody tr th:only-of-type {\n",
       "        vertical-align: middle;\n",
       "    }\n",
       "\n",
       "    .dataframe tbody tr th {\n",
       "        vertical-align: top;\n",
       "    }\n",
       "\n",
       "    .dataframe thead th {\n",
       "        text-align: right;\n",
       "    }\n",
       "</style>\n",
       "<table border=\"1\" class=\"dataframe\">\n",
       "  <thead>\n",
       "    <tr style=\"text-align: right;\">\n",
       "      <th></th>\n",
       "      <th>Year</th>\n",
       "      <th>Emission Type</th>\n",
       "      <th>Emissions (billion tons of CO2e)</th>\n",
       "    </tr>\n",
       "  </thead>\n",
       "  <tbody>\n",
       "    <tr>\n",
       "      <th>0</th>\n",
       "      <td>1975</td>\n",
       "      <td>US Energy CO2 Emissions (billion tons of CO2e)</td>\n",
       "      <td>4.428225</td>\n",
       "    </tr>\n",
       "    <tr>\n",
       "      <th>1</th>\n",
       "      <td>1985</td>\n",
       "      <td>US Energy CO2 Emissions (billion tons of CO2e)</td>\n",
       "      <td>4.605714</td>\n",
       "    </tr>\n",
       "    <tr>\n",
       "      <th>2</th>\n",
       "      <td>2005</td>\n",
       "      <td>US Energy CO2 Emissions (billion tons of CO2e)</td>\n",
       "      <td>6.007546</td>\n",
       "    </tr>\n",
       "    <tr>\n",
       "      <th>3</th>\n",
       "      <td>2010</td>\n",
       "      <td>US Energy CO2 Emissions (billion tons of CO2e)</td>\n",
       "      <td>5.593816</td>\n",
       "    </tr>\n",
       "    <tr>\n",
       "      <th>4</th>\n",
       "      <td>2015</td>\n",
       "      <td>US Energy CO2 Emissions (billion tons of CO2e)</td>\n",
       "      <td>5.262200</td>\n",
       "    </tr>\n",
       "    <tr>\n",
       "      <th>5</th>\n",
       "      <td>2019</td>\n",
       "      <td>US Energy CO2 Emissions (billion tons of CO2e)</td>\n",
       "      <td>5.146993</td>\n",
       "    </tr>\n",
       "    <tr>\n",
       "      <th>6</th>\n",
       "      <td>2020</td>\n",
       "      <td>US Energy CO2 Emissions (billion tons of CO2e)</td>\n",
       "      <td>4.585247</td>\n",
       "    </tr>\n",
       "    <tr>\n",
       "      <th>7</th>\n",
       "      <td>2021</td>\n",
       "      <td>US Energy CO2 Emissions (billion tons of CO2e)</td>\n",
       "      <td>4.905910</td>\n",
       "    </tr>\n",
       "    <tr>\n",
       "      <th>8</th>\n",
       "      <td>1975</td>\n",
       "      <td>US total Emissions (billion tons of CO2e)</td>\n",
       "      <td>4.448307</td>\n",
       "    </tr>\n",
       "    <tr>\n",
       "      <th>9</th>\n",
       "      <td>1985</td>\n",
       "      <td>US total Emissions (billion tons of CO2e)</td>\n",
       "      <td>4.547755</td>\n",
       "    </tr>\n",
       "    <tr>\n",
       "      <th>10</th>\n",
       "      <td>2005</td>\n",
       "      <td>US total Emissions (billion tons of CO2e)</td>\n",
       "      <td>5.783324</td>\n",
       "    </tr>\n",
       "    <tr>\n",
       "      <th>11</th>\n",
       "      <td>2010</td>\n",
       "      <td>US total Emissions (billion tons of CO2e)</td>\n",
       "      <td>5.364966</td>\n",
       "    </tr>\n",
       "    <tr>\n",
       "      <th>12</th>\n",
       "      <td>2015</td>\n",
       "      <td>US total Emissions (billion tons of CO2e)</td>\n",
       "      <td>5.016486</td>\n",
       "    </tr>\n",
       "    <tr>\n",
       "      <th>13</th>\n",
       "      <td>2019</td>\n",
       "      <td>US total Emissions (billion tons of CO2e)</td>\n",
       "      <td>4.797877</td>\n",
       "    </tr>\n",
       "    <tr>\n",
       "      <th>14</th>\n",
       "      <td>2020</td>\n",
       "      <td>US total Emissions (billion tons of CO2e)</td>\n",
       "      <td>4.295838</td>\n",
       "    </tr>\n",
       "    <tr>\n",
       "      <th>15</th>\n",
       "      <td>2021</td>\n",
       "      <td>US total Emissions (billion tons of CO2e)</td>\n",
       "      <td>4.596838</td>\n",
       "    </tr>\n",
       "  </tbody>\n",
       "</table>\n",
       "</div>"
      ],
      "text/plain": [
       "    Year                                   Emission Type  \\\n",
       "0   1975  US Energy CO2 Emissions (billion tons of CO2e)   \n",
       "1   1985  US Energy CO2 Emissions (billion tons of CO2e)   \n",
       "2   2005  US Energy CO2 Emissions (billion tons of CO2e)   \n",
       "3   2010  US Energy CO2 Emissions (billion tons of CO2e)   \n",
       "4   2015  US Energy CO2 Emissions (billion tons of CO2e)   \n",
       "5   2019  US Energy CO2 Emissions (billion tons of CO2e)   \n",
       "6   2020  US Energy CO2 Emissions (billion tons of CO2e)   \n",
       "7   2021  US Energy CO2 Emissions (billion tons of CO2e)   \n",
       "8   1975       US total Emissions (billion tons of CO2e)   \n",
       "9   1985       US total Emissions (billion tons of CO2e)   \n",
       "10  2005       US total Emissions (billion tons of CO2e)   \n",
       "11  2010       US total Emissions (billion tons of CO2e)   \n",
       "12  2015       US total Emissions (billion tons of CO2e)   \n",
       "13  2019       US total Emissions (billion tons of CO2e)   \n",
       "14  2020       US total Emissions (billion tons of CO2e)   \n",
       "15  2021       US total Emissions (billion tons of CO2e)   \n",
       "\n",
       "    Emissions (billion tons of CO2e)  \n",
       "0                           4.428225  \n",
       "1                           4.605714  \n",
       "2                           6.007546  \n",
       "3                           5.593816  \n",
       "4                           5.262200  \n",
       "5                           5.146993  \n",
       "6                           4.585247  \n",
       "7                           4.905910  \n",
       "8                           4.448307  \n",
       "9                           4.547755  \n",
       "10                          5.783324  \n",
       "11                          5.364966  \n",
       "12                          5.016486  \n",
       "13                          4.797877  \n",
       "14                          4.295838  \n",
       "15                          4.596838  "
      ]
     },
     "execution_count": 24,
     "metadata": {},
     "output_type": "execute_result"
    }
   ],
   "source": [
    "merged_CO2_US = merged_CO2_US.rename(columns={'Emissions (billion tons of CO2e)': 'US total Emissions (billion tons of CO2e)'})\n",
    "merged_CO2_US = merged_CO2_US.rename(columns={'Total Energy CO2 Emissions (billion tons of CO2e)': 'US Energy CO2 Emissions (billion tons of CO2e)'})\n",
    "\n",
    "melted_CO2_US= merged_CO2_US.melt(id_vars='Year', value_vars=['US Energy CO2 Emissions (billion tons of CO2e)', 'US total Emissions (billion tons of CO2e)'], \n",
    "                  var_name='Emission Type', value_name='Emissions (billion tons of CO2e)')\n",
    "\n",
    "melted_CO2_US"
   ]
  },
  {
   "cell_type": "code",
   "execution_count": 25,
   "metadata": {},
   "outputs": [
    {
     "data": {
      "application/vnd.plotly.v1+json": {
       "config": {
        "plotlyServerURL": "https://plot.ly"
       },
       "data": [
        {
         "hovertemplate": "Emission Type=US Energy CO2 Emissions (billion tons of CO2e)<br>Year=%{x}<br>Emissions (billion tons of CO2e)=%{y}<extra></extra>",
         "legendgroup": "US Energy CO2 Emissions (billion tons of CO2e)",
         "line": {
          "color": "#636efa",
          "dash": "solid"
         },
         "marker": {
          "symbol": "circle"
         },
         "mode": "lines",
         "name": "US Energy CO2 Emissions (billion tons of CO2e)",
         "orientation": "v",
         "showlegend": true,
         "type": "scatter",
         "x": [
          1975,
          1985,
          2005,
          2010,
          2015,
          2019,
          2020,
          2021
         ],
         "xaxis": "x",
         "y": [
          4.428225,
          4.605714,
          6.0075460000000005,
          5.5938159999999995,
          5.2622,
          5.146993,
          4.585247000000001,
          4.9059099999999995
         ],
         "yaxis": "y"
        },
        {
         "hovertemplate": "Emission Type=US total Emissions (billion tons of CO2e)<br>Year=%{x}<br>Emissions (billion tons of CO2e)=%{y}<extra></extra>",
         "legendgroup": "US total Emissions (billion tons of CO2e)",
         "line": {
          "color": "#EF553B",
          "dash": "solid"
         },
         "marker": {
          "symbol": "circle"
         },
         "mode": "lines",
         "name": "US total Emissions (billion tons of CO2e)",
         "orientation": "v",
         "showlegend": true,
         "type": "scatter",
         "x": [
          1975,
          1985,
          2005,
          2010,
          2015,
          2019,
          2020,
          2021
         ],
         "xaxis": "x",
         "y": [
          4.448307,
          4.547755,
          5.783324,
          5.364966,
          5.016486,
          4.797877,
          4.295838,
          4.596838
         ],
         "yaxis": "y"
        }
       ],
       "layout": {
        "autosize": true,
        "legend": {
         "title": {
          "text": "Emission Type"
         },
         "tracegroupgap": 0
        },
        "template": {
         "data": {
          "bar": [
           {
            "error_x": {
             "color": "#2a3f5f"
            },
            "error_y": {
             "color": "#2a3f5f"
            },
            "marker": {
             "line": {
              "color": "#E5ECF6",
              "width": 0.5
             },
             "pattern": {
              "fillmode": "overlay",
              "size": 10,
              "solidity": 0.2
             }
            },
            "type": "bar"
           }
          ],
          "barpolar": [
           {
            "marker": {
             "line": {
              "color": "#E5ECF6",
              "width": 0.5
             },
             "pattern": {
              "fillmode": "overlay",
              "size": 10,
              "solidity": 0.2
             }
            },
            "type": "barpolar"
           }
          ],
          "carpet": [
           {
            "aaxis": {
             "endlinecolor": "#2a3f5f",
             "gridcolor": "white",
             "linecolor": "white",
             "minorgridcolor": "white",
             "startlinecolor": "#2a3f5f"
            },
            "baxis": {
             "endlinecolor": "#2a3f5f",
             "gridcolor": "white",
             "linecolor": "white",
             "minorgridcolor": "white",
             "startlinecolor": "#2a3f5f"
            },
            "type": "carpet"
           }
          ],
          "choropleth": [
           {
            "colorbar": {
             "outlinewidth": 0,
             "ticks": ""
            },
            "type": "choropleth"
           }
          ],
          "contour": [
           {
            "colorbar": {
             "outlinewidth": 0,
             "ticks": ""
            },
            "colorscale": [
             [
              0,
              "#0d0887"
             ],
             [
              0.1111111111111111,
              "#46039f"
             ],
             [
              0.2222222222222222,
              "#7201a8"
             ],
             [
              0.3333333333333333,
              "#9c179e"
             ],
             [
              0.4444444444444444,
              "#bd3786"
             ],
             [
              0.5555555555555556,
              "#d8576b"
             ],
             [
              0.6666666666666666,
              "#ed7953"
             ],
             [
              0.7777777777777778,
              "#fb9f3a"
             ],
             [
              0.8888888888888888,
              "#fdca26"
             ],
             [
              1,
              "#f0f921"
             ]
            ],
            "type": "contour"
           }
          ],
          "contourcarpet": [
           {
            "colorbar": {
             "outlinewidth": 0,
             "ticks": ""
            },
            "type": "contourcarpet"
           }
          ],
          "heatmap": [
           {
            "colorbar": {
             "outlinewidth": 0,
             "ticks": ""
            },
            "colorscale": [
             [
              0,
              "#0d0887"
             ],
             [
              0.1111111111111111,
              "#46039f"
             ],
             [
              0.2222222222222222,
              "#7201a8"
             ],
             [
              0.3333333333333333,
              "#9c179e"
             ],
             [
              0.4444444444444444,
              "#bd3786"
             ],
             [
              0.5555555555555556,
              "#d8576b"
             ],
             [
              0.6666666666666666,
              "#ed7953"
             ],
             [
              0.7777777777777778,
              "#fb9f3a"
             ],
             [
              0.8888888888888888,
              "#fdca26"
             ],
             [
              1,
              "#f0f921"
             ]
            ],
            "type": "heatmap"
           }
          ],
          "heatmapgl": [
           {
            "colorbar": {
             "outlinewidth": 0,
             "ticks": ""
            },
            "colorscale": [
             [
              0,
              "#0d0887"
             ],
             [
              0.1111111111111111,
              "#46039f"
             ],
             [
              0.2222222222222222,
              "#7201a8"
             ],
             [
              0.3333333333333333,
              "#9c179e"
             ],
             [
              0.4444444444444444,
              "#bd3786"
             ],
             [
              0.5555555555555556,
              "#d8576b"
             ],
             [
              0.6666666666666666,
              "#ed7953"
             ],
             [
              0.7777777777777778,
              "#fb9f3a"
             ],
             [
              0.8888888888888888,
              "#fdca26"
             ],
             [
              1,
              "#f0f921"
             ]
            ],
            "type": "heatmapgl"
           }
          ],
          "histogram": [
           {
            "marker": {
             "pattern": {
              "fillmode": "overlay",
              "size": 10,
              "solidity": 0.2
             }
            },
            "type": "histogram"
           }
          ],
          "histogram2d": [
           {
            "colorbar": {
             "outlinewidth": 0,
             "ticks": ""
            },
            "colorscale": [
             [
              0,
              "#0d0887"
             ],
             [
              0.1111111111111111,
              "#46039f"
             ],
             [
              0.2222222222222222,
              "#7201a8"
             ],
             [
              0.3333333333333333,
              "#9c179e"
             ],
             [
              0.4444444444444444,
              "#bd3786"
             ],
             [
              0.5555555555555556,
              "#d8576b"
             ],
             [
              0.6666666666666666,
              "#ed7953"
             ],
             [
              0.7777777777777778,
              "#fb9f3a"
             ],
             [
              0.8888888888888888,
              "#fdca26"
             ],
             [
              1,
              "#f0f921"
             ]
            ],
            "type": "histogram2d"
           }
          ],
          "histogram2dcontour": [
           {
            "colorbar": {
             "outlinewidth": 0,
             "ticks": ""
            },
            "colorscale": [
             [
              0,
              "#0d0887"
             ],
             [
              0.1111111111111111,
              "#46039f"
             ],
             [
              0.2222222222222222,
              "#7201a8"
             ],
             [
              0.3333333333333333,
              "#9c179e"
             ],
             [
              0.4444444444444444,
              "#bd3786"
             ],
             [
              0.5555555555555556,
              "#d8576b"
             ],
             [
              0.6666666666666666,
              "#ed7953"
             ],
             [
              0.7777777777777778,
              "#fb9f3a"
             ],
             [
              0.8888888888888888,
              "#fdca26"
             ],
             [
              1,
              "#f0f921"
             ]
            ],
            "type": "histogram2dcontour"
           }
          ],
          "mesh3d": [
           {
            "colorbar": {
             "outlinewidth": 0,
             "ticks": ""
            },
            "type": "mesh3d"
           }
          ],
          "parcoords": [
           {
            "line": {
             "colorbar": {
              "outlinewidth": 0,
              "ticks": ""
             }
            },
            "type": "parcoords"
           }
          ],
          "pie": [
           {
            "automargin": true,
            "type": "pie"
           }
          ],
          "scatter": [
           {
            "fillpattern": {
             "fillmode": "overlay",
             "size": 10,
             "solidity": 0.2
            },
            "type": "scatter"
           }
          ],
          "scatter3d": [
           {
            "line": {
             "colorbar": {
              "outlinewidth": 0,
              "ticks": ""
             }
            },
            "marker": {
             "colorbar": {
              "outlinewidth": 0,
              "ticks": ""
             }
            },
            "type": "scatter3d"
           }
          ],
          "scattercarpet": [
           {
            "marker": {
             "colorbar": {
              "outlinewidth": 0,
              "ticks": ""
             }
            },
            "type": "scattercarpet"
           }
          ],
          "scattergeo": [
           {
            "marker": {
             "colorbar": {
              "outlinewidth": 0,
              "ticks": ""
             }
            },
            "type": "scattergeo"
           }
          ],
          "scattergl": [
           {
            "marker": {
             "colorbar": {
              "outlinewidth": 0,
              "ticks": ""
             }
            },
            "type": "scattergl"
           }
          ],
          "scattermapbox": [
           {
            "marker": {
             "colorbar": {
              "outlinewidth": 0,
              "ticks": ""
             }
            },
            "type": "scattermapbox"
           }
          ],
          "scatterpolar": [
           {
            "marker": {
             "colorbar": {
              "outlinewidth": 0,
              "ticks": ""
             }
            },
            "type": "scatterpolar"
           }
          ],
          "scatterpolargl": [
           {
            "marker": {
             "colorbar": {
              "outlinewidth": 0,
              "ticks": ""
             }
            },
            "type": "scatterpolargl"
           }
          ],
          "scatterternary": [
           {
            "marker": {
             "colorbar": {
              "outlinewidth": 0,
              "ticks": ""
             }
            },
            "type": "scatterternary"
           }
          ],
          "surface": [
           {
            "colorbar": {
             "outlinewidth": 0,
             "ticks": ""
            },
            "colorscale": [
             [
              0,
              "#0d0887"
             ],
             [
              0.1111111111111111,
              "#46039f"
             ],
             [
              0.2222222222222222,
              "#7201a8"
             ],
             [
              0.3333333333333333,
              "#9c179e"
             ],
             [
              0.4444444444444444,
              "#bd3786"
             ],
             [
              0.5555555555555556,
              "#d8576b"
             ],
             [
              0.6666666666666666,
              "#ed7953"
             ],
             [
              0.7777777777777778,
              "#fb9f3a"
             ],
             [
              0.8888888888888888,
              "#fdca26"
             ],
             [
              1,
              "#f0f921"
             ]
            ],
            "type": "surface"
           }
          ],
          "table": [
           {
            "cells": {
             "fill": {
              "color": "#EBF0F8"
             },
             "line": {
              "color": "white"
             }
            },
            "header": {
             "fill": {
              "color": "#C8D4E3"
             },
             "line": {
              "color": "white"
             }
            },
            "type": "table"
           }
          ]
         },
         "layout": {
          "annotationdefaults": {
           "arrowcolor": "#2a3f5f",
           "arrowhead": 0,
           "arrowwidth": 1
          },
          "autotypenumbers": "strict",
          "coloraxis": {
           "colorbar": {
            "outlinewidth": 0,
            "ticks": ""
           }
          },
          "colorscale": {
           "diverging": [
            [
             0,
             "#8e0152"
            ],
            [
             0.1,
             "#c51b7d"
            ],
            [
             0.2,
             "#de77ae"
            ],
            [
             0.3,
             "#f1b6da"
            ],
            [
             0.4,
             "#fde0ef"
            ],
            [
             0.5,
             "#f7f7f7"
            ],
            [
             0.6,
             "#e6f5d0"
            ],
            [
             0.7,
             "#b8e186"
            ],
            [
             0.8,
             "#7fbc41"
            ],
            [
             0.9,
             "#4d9221"
            ],
            [
             1,
             "#276419"
            ]
           ],
           "sequential": [
            [
             0,
             "#0d0887"
            ],
            [
             0.1111111111111111,
             "#46039f"
            ],
            [
             0.2222222222222222,
             "#7201a8"
            ],
            [
             0.3333333333333333,
             "#9c179e"
            ],
            [
             0.4444444444444444,
             "#bd3786"
            ],
            [
             0.5555555555555556,
             "#d8576b"
            ],
            [
             0.6666666666666666,
             "#ed7953"
            ],
            [
             0.7777777777777778,
             "#fb9f3a"
            ],
            [
             0.8888888888888888,
             "#fdca26"
            ],
            [
             1,
             "#f0f921"
            ]
           ],
           "sequentialminus": [
            [
             0,
             "#0d0887"
            ],
            [
             0.1111111111111111,
             "#46039f"
            ],
            [
             0.2222222222222222,
             "#7201a8"
            ],
            [
             0.3333333333333333,
             "#9c179e"
            ],
            [
             0.4444444444444444,
             "#bd3786"
            ],
            [
             0.5555555555555556,
             "#d8576b"
            ],
            [
             0.6666666666666666,
             "#ed7953"
            ],
            [
             0.7777777777777778,
             "#fb9f3a"
            ],
            [
             0.8888888888888888,
             "#fdca26"
            ],
            [
             1,
             "#f0f921"
            ]
           ]
          },
          "colorway": [
           "#636efa",
           "#EF553B",
           "#00cc96",
           "#ab63fa",
           "#FFA15A",
           "#19d3f3",
           "#FF6692",
           "#B6E880",
           "#FF97FF",
           "#FECB52"
          ],
          "font": {
           "color": "#2a3f5f"
          },
          "geo": {
           "bgcolor": "white",
           "lakecolor": "white",
           "landcolor": "#E5ECF6",
           "showlakes": true,
           "showland": true,
           "subunitcolor": "white"
          },
          "hoverlabel": {
           "align": "left"
          },
          "hovermode": "closest",
          "mapbox": {
           "style": "light"
          },
          "paper_bgcolor": "white",
          "plot_bgcolor": "#E5ECF6",
          "polar": {
           "angularaxis": {
            "gridcolor": "white",
            "linecolor": "white",
            "ticks": ""
           },
           "bgcolor": "#E5ECF6",
           "radialaxis": {
            "gridcolor": "white",
            "linecolor": "white",
            "ticks": ""
           }
          },
          "scene": {
           "xaxis": {
            "backgroundcolor": "#E5ECF6",
            "gridcolor": "white",
            "gridwidth": 2,
            "linecolor": "white",
            "showbackground": true,
            "ticks": "",
            "zerolinecolor": "white"
           },
           "yaxis": {
            "backgroundcolor": "#E5ECF6",
            "gridcolor": "white",
            "gridwidth": 2,
            "linecolor": "white",
            "showbackground": true,
            "ticks": "",
            "zerolinecolor": "white"
           },
           "zaxis": {
            "backgroundcolor": "#E5ECF6",
            "gridcolor": "white",
            "gridwidth": 2,
            "linecolor": "white",
            "showbackground": true,
            "ticks": "",
            "zerolinecolor": "white"
           }
          },
          "shapedefaults": {
           "line": {
            "color": "#2a3f5f"
           }
          },
          "ternary": {
           "aaxis": {
            "gridcolor": "white",
            "linecolor": "white",
            "ticks": ""
           },
           "baxis": {
            "gridcolor": "white",
            "linecolor": "white",
            "ticks": ""
           },
           "bgcolor": "#E5ECF6",
           "caxis": {
            "gridcolor": "white",
            "linecolor": "white",
            "ticks": ""
           }
          },
          "title": {
           "x": 0.05
          },
          "xaxis": {
           "automargin": true,
           "gridcolor": "white",
           "linecolor": "white",
           "ticks": "",
           "title": {
            "standoff": 15
           },
           "zerolinecolor": "white",
           "zerolinewidth": 2
          },
          "yaxis": {
           "automargin": true,
           "gridcolor": "white",
           "linecolor": "white",
           "ticks": "",
           "title": {
            "standoff": 15
           },
           "zerolinecolor": "white",
           "zerolinewidth": 2
          }
         }
        },
        "title": {
         "text": "Graph 3. Total emissions and energy related emissions in the US"
        },
        "xaxis": {
         "anchor": "y",
         "autorange": true,
         "domain": [
          0,
          1
         ],
         "range": [
          1975,
          2021
         ],
         "title": {
          "text": "Year"
         },
         "type": "linear"
        },
        "yaxis": {
         "anchor": "x",
         "autorange": true,
         "domain": [
          0,
          1
         ],
         "range": [
          4.200743111111111,
          6.10264088888889
         ],
         "title": {
          "text": "Emissions (billion tons of CO2e)"
         },
         "type": "linear"
        }
       }
      },
      "text/html": [
       "<div>                            <div id=\"8a234dea-5acb-4437-9c5b-eaed464c3af9\" class=\"plotly-graph-div\" style=\"height:525px; width:100%;\"></div>            <script type=\"text/javascript\">                require([\"plotly\"], function(Plotly) {                    window.PLOTLYENV=window.PLOTLYENV || {};                                    if (document.getElementById(\"8a234dea-5acb-4437-9c5b-eaed464c3af9\")) {                    Plotly.newPlot(                        \"8a234dea-5acb-4437-9c5b-eaed464c3af9\",                        [{\"hovertemplate\":\"Emission Type=US Energy CO2 Emissions (billion tons of CO2e)\\u003cbr\\u003eYear=%{x}\\u003cbr\\u003eEmissions (billion tons of CO2e)=%{y}\\u003cextra\\u003e\\u003c\\u002fextra\\u003e\",\"legendgroup\":\"US Energy CO2 Emissions (billion tons of CO2e)\",\"line\":{\"color\":\"#636efa\",\"dash\":\"solid\"},\"marker\":{\"symbol\":\"circle\"},\"mode\":\"lines\",\"name\":\"US Energy CO2 Emissions (billion tons of CO2e)\",\"orientation\":\"v\",\"showlegend\":true,\"x\":[1975,1985,2005,2010,2015,2019,2020,2021],\"xaxis\":\"x\",\"y\":[4.428225,4.605714,6.0075460000000005,5.5938159999999995,5.2622,5.146993,4.585247000000001,4.9059099999999995],\"yaxis\":\"y\",\"type\":\"scatter\"},{\"hovertemplate\":\"Emission Type=US total Emissions (billion tons of CO2e)\\u003cbr\\u003eYear=%{x}\\u003cbr\\u003eEmissions (billion tons of CO2e)=%{y}\\u003cextra\\u003e\\u003c\\u002fextra\\u003e\",\"legendgroup\":\"US total Emissions (billion tons of CO2e)\",\"line\":{\"color\":\"#EF553B\",\"dash\":\"solid\"},\"marker\":{\"symbol\":\"circle\"},\"mode\":\"lines\",\"name\":\"US total Emissions (billion tons of CO2e)\",\"orientation\":\"v\",\"showlegend\":true,\"x\":[1975,1985,2005,2010,2015,2019,2020,2021],\"xaxis\":\"x\",\"y\":[4.448307,4.547755,5.783324,5.364966,5.016486,4.797877,4.295838,4.596838],\"yaxis\":\"y\",\"type\":\"scatter\"}],                        {\"template\":{\"data\":{\"histogram2dcontour\":[{\"type\":\"histogram2dcontour\",\"colorbar\":{\"outlinewidth\":0,\"ticks\":\"\"},\"colorscale\":[[0.0,\"#0d0887\"],[0.1111111111111111,\"#46039f\"],[0.2222222222222222,\"#7201a8\"],[0.3333333333333333,\"#9c179e\"],[0.4444444444444444,\"#bd3786\"],[0.5555555555555556,\"#d8576b\"],[0.6666666666666666,\"#ed7953\"],[0.7777777777777778,\"#fb9f3a\"],[0.8888888888888888,\"#fdca26\"],[1.0,\"#f0f921\"]]}],\"choropleth\":[{\"type\":\"choropleth\",\"colorbar\":{\"outlinewidth\":0,\"ticks\":\"\"}}],\"histogram2d\":[{\"type\":\"histogram2d\",\"colorbar\":{\"outlinewidth\":0,\"ticks\":\"\"},\"colorscale\":[[0.0,\"#0d0887\"],[0.1111111111111111,\"#46039f\"],[0.2222222222222222,\"#7201a8\"],[0.3333333333333333,\"#9c179e\"],[0.4444444444444444,\"#bd3786\"],[0.5555555555555556,\"#d8576b\"],[0.6666666666666666,\"#ed7953\"],[0.7777777777777778,\"#fb9f3a\"],[0.8888888888888888,\"#fdca26\"],[1.0,\"#f0f921\"]]}],\"heatmap\":[{\"type\":\"heatmap\",\"colorbar\":{\"outlinewidth\":0,\"ticks\":\"\"},\"colorscale\":[[0.0,\"#0d0887\"],[0.1111111111111111,\"#46039f\"],[0.2222222222222222,\"#7201a8\"],[0.3333333333333333,\"#9c179e\"],[0.4444444444444444,\"#bd3786\"],[0.5555555555555556,\"#d8576b\"],[0.6666666666666666,\"#ed7953\"],[0.7777777777777778,\"#fb9f3a\"],[0.8888888888888888,\"#fdca26\"],[1.0,\"#f0f921\"]]}],\"heatmapgl\":[{\"type\":\"heatmapgl\",\"colorbar\":{\"outlinewidth\":0,\"ticks\":\"\"},\"colorscale\":[[0.0,\"#0d0887\"],[0.1111111111111111,\"#46039f\"],[0.2222222222222222,\"#7201a8\"],[0.3333333333333333,\"#9c179e\"],[0.4444444444444444,\"#bd3786\"],[0.5555555555555556,\"#d8576b\"],[0.6666666666666666,\"#ed7953\"],[0.7777777777777778,\"#fb9f3a\"],[0.8888888888888888,\"#fdca26\"],[1.0,\"#f0f921\"]]}],\"contourcarpet\":[{\"type\":\"contourcarpet\",\"colorbar\":{\"outlinewidth\":0,\"ticks\":\"\"}}],\"contour\":[{\"type\":\"contour\",\"colorbar\":{\"outlinewidth\":0,\"ticks\":\"\"},\"colorscale\":[[0.0,\"#0d0887\"],[0.1111111111111111,\"#46039f\"],[0.2222222222222222,\"#7201a8\"],[0.3333333333333333,\"#9c179e\"],[0.4444444444444444,\"#bd3786\"],[0.5555555555555556,\"#d8576b\"],[0.6666666666666666,\"#ed7953\"],[0.7777777777777778,\"#fb9f3a\"],[0.8888888888888888,\"#fdca26\"],[1.0,\"#f0f921\"]]}],\"surface\":[{\"type\":\"surface\",\"colorbar\":{\"outlinewidth\":0,\"ticks\":\"\"},\"colorscale\":[[0.0,\"#0d0887\"],[0.1111111111111111,\"#46039f\"],[0.2222222222222222,\"#7201a8\"],[0.3333333333333333,\"#9c179e\"],[0.4444444444444444,\"#bd3786\"],[0.5555555555555556,\"#d8576b\"],[0.6666666666666666,\"#ed7953\"],[0.7777777777777778,\"#fb9f3a\"],[0.8888888888888888,\"#fdca26\"],[1.0,\"#f0f921\"]]}],\"mesh3d\":[{\"type\":\"mesh3d\",\"colorbar\":{\"outlinewidth\":0,\"ticks\":\"\"}}],\"scatter\":[{\"fillpattern\":{\"fillmode\":\"overlay\",\"size\":10,\"solidity\":0.2},\"type\":\"scatter\"}],\"parcoords\":[{\"type\":\"parcoords\",\"line\":{\"colorbar\":{\"outlinewidth\":0,\"ticks\":\"\"}}}],\"scatterpolargl\":[{\"type\":\"scatterpolargl\",\"marker\":{\"colorbar\":{\"outlinewidth\":0,\"ticks\":\"\"}}}],\"bar\":[{\"error_x\":{\"color\":\"#2a3f5f\"},\"error_y\":{\"color\":\"#2a3f5f\"},\"marker\":{\"line\":{\"color\":\"#E5ECF6\",\"width\":0.5},\"pattern\":{\"fillmode\":\"overlay\",\"size\":10,\"solidity\":0.2}},\"type\":\"bar\"}],\"scattergeo\":[{\"type\":\"scattergeo\",\"marker\":{\"colorbar\":{\"outlinewidth\":0,\"ticks\":\"\"}}}],\"scatterpolar\":[{\"type\":\"scatterpolar\",\"marker\":{\"colorbar\":{\"outlinewidth\":0,\"ticks\":\"\"}}}],\"histogram\":[{\"marker\":{\"pattern\":{\"fillmode\":\"overlay\",\"size\":10,\"solidity\":0.2}},\"type\":\"histogram\"}],\"scattergl\":[{\"type\":\"scattergl\",\"marker\":{\"colorbar\":{\"outlinewidth\":0,\"ticks\":\"\"}}}],\"scatter3d\":[{\"type\":\"scatter3d\",\"line\":{\"colorbar\":{\"outlinewidth\":0,\"ticks\":\"\"}},\"marker\":{\"colorbar\":{\"outlinewidth\":0,\"ticks\":\"\"}}}],\"scattermapbox\":[{\"type\":\"scattermapbox\",\"marker\":{\"colorbar\":{\"outlinewidth\":0,\"ticks\":\"\"}}}],\"scatterternary\":[{\"type\":\"scatterternary\",\"marker\":{\"colorbar\":{\"outlinewidth\":0,\"ticks\":\"\"}}}],\"scattercarpet\":[{\"type\":\"scattercarpet\",\"marker\":{\"colorbar\":{\"outlinewidth\":0,\"ticks\":\"\"}}}],\"carpet\":[{\"aaxis\":{\"endlinecolor\":\"#2a3f5f\",\"gridcolor\":\"white\",\"linecolor\":\"white\",\"minorgridcolor\":\"white\",\"startlinecolor\":\"#2a3f5f\"},\"baxis\":{\"endlinecolor\":\"#2a3f5f\",\"gridcolor\":\"white\",\"linecolor\":\"white\",\"minorgridcolor\":\"white\",\"startlinecolor\":\"#2a3f5f\"},\"type\":\"carpet\"}],\"table\":[{\"cells\":{\"fill\":{\"color\":\"#EBF0F8\"},\"line\":{\"color\":\"white\"}},\"header\":{\"fill\":{\"color\":\"#C8D4E3\"},\"line\":{\"color\":\"white\"}},\"type\":\"table\"}],\"barpolar\":[{\"marker\":{\"line\":{\"color\":\"#E5ECF6\",\"width\":0.5},\"pattern\":{\"fillmode\":\"overlay\",\"size\":10,\"solidity\":0.2}},\"type\":\"barpolar\"}],\"pie\":[{\"automargin\":true,\"type\":\"pie\"}]},\"layout\":{\"autotypenumbers\":\"strict\",\"colorway\":[\"#636efa\",\"#EF553B\",\"#00cc96\",\"#ab63fa\",\"#FFA15A\",\"#19d3f3\",\"#FF6692\",\"#B6E880\",\"#FF97FF\",\"#FECB52\"],\"font\":{\"color\":\"#2a3f5f\"},\"hovermode\":\"closest\",\"hoverlabel\":{\"align\":\"left\"},\"paper_bgcolor\":\"white\",\"plot_bgcolor\":\"#E5ECF6\",\"polar\":{\"bgcolor\":\"#E5ECF6\",\"angularaxis\":{\"gridcolor\":\"white\",\"linecolor\":\"white\",\"ticks\":\"\"},\"radialaxis\":{\"gridcolor\":\"white\",\"linecolor\":\"white\",\"ticks\":\"\"}},\"ternary\":{\"bgcolor\":\"#E5ECF6\",\"aaxis\":{\"gridcolor\":\"white\",\"linecolor\":\"white\",\"ticks\":\"\"},\"baxis\":{\"gridcolor\":\"white\",\"linecolor\":\"white\",\"ticks\":\"\"},\"caxis\":{\"gridcolor\":\"white\",\"linecolor\":\"white\",\"ticks\":\"\"}},\"coloraxis\":{\"colorbar\":{\"outlinewidth\":0,\"ticks\":\"\"}},\"colorscale\":{\"sequential\":[[0.0,\"#0d0887\"],[0.1111111111111111,\"#46039f\"],[0.2222222222222222,\"#7201a8\"],[0.3333333333333333,\"#9c179e\"],[0.4444444444444444,\"#bd3786\"],[0.5555555555555556,\"#d8576b\"],[0.6666666666666666,\"#ed7953\"],[0.7777777777777778,\"#fb9f3a\"],[0.8888888888888888,\"#fdca26\"],[1.0,\"#f0f921\"]],\"sequentialminus\":[[0.0,\"#0d0887\"],[0.1111111111111111,\"#46039f\"],[0.2222222222222222,\"#7201a8\"],[0.3333333333333333,\"#9c179e\"],[0.4444444444444444,\"#bd3786\"],[0.5555555555555556,\"#d8576b\"],[0.6666666666666666,\"#ed7953\"],[0.7777777777777778,\"#fb9f3a\"],[0.8888888888888888,\"#fdca26\"],[1.0,\"#f0f921\"]],\"diverging\":[[0,\"#8e0152\"],[0.1,\"#c51b7d\"],[0.2,\"#de77ae\"],[0.3,\"#f1b6da\"],[0.4,\"#fde0ef\"],[0.5,\"#f7f7f7\"],[0.6,\"#e6f5d0\"],[0.7,\"#b8e186\"],[0.8,\"#7fbc41\"],[0.9,\"#4d9221\"],[1,\"#276419\"]]},\"xaxis\":{\"gridcolor\":\"white\",\"linecolor\":\"white\",\"ticks\":\"\",\"title\":{\"standoff\":15},\"zerolinecolor\":\"white\",\"automargin\":true,\"zerolinewidth\":2},\"yaxis\":{\"gridcolor\":\"white\",\"linecolor\":\"white\",\"ticks\":\"\",\"title\":{\"standoff\":15},\"zerolinecolor\":\"white\",\"automargin\":true,\"zerolinewidth\":2},\"scene\":{\"xaxis\":{\"backgroundcolor\":\"#E5ECF6\",\"gridcolor\":\"white\",\"linecolor\":\"white\",\"showbackground\":true,\"ticks\":\"\",\"zerolinecolor\":\"white\",\"gridwidth\":2},\"yaxis\":{\"backgroundcolor\":\"#E5ECF6\",\"gridcolor\":\"white\",\"linecolor\":\"white\",\"showbackground\":true,\"ticks\":\"\",\"zerolinecolor\":\"white\",\"gridwidth\":2},\"zaxis\":{\"backgroundcolor\":\"#E5ECF6\",\"gridcolor\":\"white\",\"linecolor\":\"white\",\"showbackground\":true,\"ticks\":\"\",\"zerolinecolor\":\"white\",\"gridwidth\":2}},\"shapedefaults\":{\"line\":{\"color\":\"#2a3f5f\"}},\"annotationdefaults\":{\"arrowcolor\":\"#2a3f5f\",\"arrowhead\":0,\"arrowwidth\":1},\"geo\":{\"bgcolor\":\"white\",\"landcolor\":\"#E5ECF6\",\"subunitcolor\":\"white\",\"showland\":true,\"showlakes\":true,\"lakecolor\":\"white\"},\"title\":{\"x\":0.05},\"mapbox\":{\"style\":\"light\"}}},\"xaxis\":{\"anchor\":\"y\",\"domain\":[0.0,1.0],\"title\":{\"text\":\"Year\"}},\"yaxis\":{\"anchor\":\"x\",\"domain\":[0.0,1.0],\"title\":{\"text\":\"Emissions (billion tons of CO2e)\"}},\"legend\":{\"title\":{\"text\":\"Emission Type\"},\"tracegroupgap\":0},\"title\":{\"text\":\"Graph 3. Total emissions and energy related emissions in the US\"}},                        {\"responsive\": true}                    ).then(function(){\n",
       "                            \n",
       "var gd = document.getElementById('8a234dea-5acb-4437-9c5b-eaed464c3af9');\n",
       "var x = new MutationObserver(function (mutations, observer) {{\n",
       "        var display = window.getComputedStyle(gd).display;\n",
       "        if (!display || display === 'none') {{\n",
       "            console.log([gd, 'removed!']);\n",
       "            Plotly.purge(gd);\n",
       "            observer.disconnect();\n",
       "        }}\n",
       "}});\n",
       "\n",
       "// Listen for the removal of the full notebook cells\n",
       "var notebookContainer = gd.closest('#notebook-container');\n",
       "if (notebookContainer) {{\n",
       "    x.observe(notebookContainer, {childList: true});\n",
       "}}\n",
       "\n",
       "// Listen for the clearing of the current output cell\n",
       "var outputEl = gd.closest('.output');\n",
       "if (outputEl) {{\n",
       "    x.observe(outputEl, {childList: true});\n",
       "}}\n",
       "\n",
       "                        })                };                });            </script>        </div>"
      ]
     },
     "metadata": {},
     "output_type": "display_data"
    }
   ],
   "source": [
    "\n",
    "fig = px.line(\n",
    "    melted_CO2_US,\n",
    "    x=\"Year\",\n",
    "    y=\"Emissions (billion tons of CO2e)\",\n",
    "    color=\"Emission Type\",\n",
    "    title=\"Graph 3. Total emissions and energy related emissions in the US\"\n",
    ")\n",
    "\n",
    "\n",
    "fig.show()"
   ]
  },
  {
   "cell_type": "markdown",
   "metadata": {},
   "source": [
    "## 3.3. US emissions by type of energy\n",
    "\n",
    "Now, because we know from Graph 3 that the US CO2 emissions mainly depend on energy-related emissions, we can go back to the dataset that has specific information about the emissions by type of energy."
   ]
  },
  {
   "cell_type": "code",
   "execution_count": 26,
   "metadata": {},
   "outputs": [
    {
     "data": {
      "text/html": [
       "<div>\n",
       "<style scoped>\n",
       "    .dataframe tbody tr th:only-of-type {\n",
       "        vertical-align: middle;\n",
       "    }\n",
       "\n",
       "    .dataframe tbody tr th {\n",
       "        vertical-align: top;\n",
       "    }\n",
       "\n",
       "    .dataframe thead th {\n",
       "        text-align: right;\n",
       "    }\n",
       "</style>\n",
       "<table border=\"1\" class=\"dataframe\">\n",
       "  <thead>\n",
       "    <tr style=\"text-align: right;\">\n",
       "      <th></th>\n",
       "      <th>Year</th>\n",
       "      <th>Type of Energy</th>\n",
       "      <th>Emissions (million tons of CO2e)</th>\n",
       "    </tr>\n",
       "  </thead>\n",
       "  <tbody>\n",
       "    <tr>\n",
       "      <th>658</th>\n",
       "      <td>2019</td>\n",
       "      <td>Residual Fuel Oil CO2 Emissions</td>\n",
       "      <td>47.314</td>\n",
       "    </tr>\n",
       "    <tr>\n",
       "      <th>659</th>\n",
       "      <td>2020</td>\n",
       "      <td>Residual Fuel Oil CO2 Emissions</td>\n",
       "      <td>35.867</td>\n",
       "    </tr>\n",
       "    <tr>\n",
       "      <th>660</th>\n",
       "      <td>2021</td>\n",
       "      <td>Residual Fuel Oil CO2 Emissions</td>\n",
       "      <td>54.065</td>\n",
       "    </tr>\n",
       "    <tr>\n",
       "      <th>661</th>\n",
       "      <td>2022</td>\n",
       "      <td>Residual Fuel Oil CO2 Emissions</td>\n",
       "      <td>56.671</td>\n",
       "    </tr>\n",
       "    <tr>\n",
       "      <th>662</th>\n",
       "      <td>2023</td>\n",
       "      <td>Residual Fuel Oil CO2 Emissions</td>\n",
       "      <td>47.145</td>\n",
       "    </tr>\n",
       "  </tbody>\n",
       "</table>\n",
       "</div>"
      ],
      "text/plain": [
       "     Year                   Type of Energy  Emissions (million tons of CO2e)\n",
       "658  2019  Residual Fuel Oil CO2 Emissions                            47.314\n",
       "659  2020  Residual Fuel Oil CO2 Emissions                            35.867\n",
       "660  2021  Residual Fuel Oil CO2 Emissions                            54.065\n",
       "661  2022  Residual Fuel Oil CO2 Emissions                            56.671\n",
       "662  2023  Residual Fuel Oil CO2 Emissions                            47.145"
      ]
     },
     "execution_count": 26,
     "metadata": {},
     "output_type": "execute_result"
    }
   ],
   "source": [
    "melted_CO2_energy= Energy_CO2_emissions_fuel_reshaped.melt(id_vars='Year', \n",
    "                                  value_vars=[\n",
    "                                      'Aviation Gasoline CO2 Emissions', \n",
    "                                      'Coal, Including Coal Coke Net Imports, CO2 Emissions',\n",
    "                                      'Distillate Fuel Oil, Excluding Biodiesel, CO2 Emissions',\n",
    "                                      'Hydrocarbon Gas Liquids CO2 Emissions',\n",
    "                                      'Jet Fuel CO2 Emissions',\n",
    "                                      'Kerosene CO2 Emissions',\n",
    "                                      'Lubricants CO2 Emissions',\n",
    "                                      'Motor Gasoline, Excluding Ethanol, CO2 Emissions',\n",
    "                                      'Natural Gas, Excluding Supplemental Gaseous Fuels, CO2 Emissions',\n",
    "                                      'Other Petroleum Products CO2 Emissions',\n",
    "                                      'Petroleum Coke CO2 Emissions',\n",
    "                                      'Petroleum, Excluding Biofuels, CO2 Emissions',\n",
    "                                      'Residual Fuel Oil CO2 Emissions'   \n",
    "                                  ], \n",
    "                                  var_name='Type of Energy', \n",
    "                                  value_name='Emissions (million tons of CO2e)'\n",
    ")\n",
    "\n",
    "melted_CO2_energy.tail()"
   ]
  },
  {
   "cell_type": "code",
   "execution_count": 27,
   "metadata": {},
   "outputs": [
    {
     "data": {
      "application/vnd.plotly.v1+json": {
       "config": {
        "plotlyServerURL": "https://plot.ly"
       },
       "data": [
        {
         "hovertemplate": "Type of Energy=Coal, Including Coal Coke Net Imports, CO2 Emissions<br>Year=%{x}<br>Emissions (million tons of CO2e)=%{y}<extra></extra>",
         "legendgroup": "Coal, Including Coal Coke Net Imports, CO2 Emissions",
         "line": {
          "color": "#636efa",
          "dash": "solid"
         },
         "marker": {
          "symbol": "circle"
         },
         "mode": "lines",
         "name": "Coal, Including Coal Coke Net Imports, CO2 Emissions",
         "orientation": "v",
         "showlegend": true,
         "type": "scatter",
         "x": [
          "1973",
          "1974",
          "1975",
          "1976",
          "1977",
          "1978",
          "1979",
          "1980",
          "1981",
          "1982",
          "1983",
          "1984",
          "1985",
          "1986",
          "1987",
          "1988",
          "1989",
          "1990",
          "1991",
          "1992",
          "1993",
          "1994",
          "1995",
          "1996",
          "1997",
          "1998",
          "1999",
          "2000",
          "2001",
          "2002",
          "2003",
          "2004",
          "2005",
          "2006",
          "2007",
          "2008",
          "2009",
          "2010",
          "2011",
          "2012",
          "2013",
          "2014",
          "2015",
          "2016",
          "2017",
          "2018",
          "2019",
          "2020",
          "2021",
          "2022",
          "2023"
         ],
         "xaxis": "x",
         "y": [
          1220.714,
          1199.352,
          1195.102,
          1281.249,
          1315.802,
          1314.266,
          1427.55,
          1453.891,
          1503.037,
          1449.193,
          1504.91,
          1616.224,
          1655.15,
          1635.859,
          1709.615,
          1792.863,
          1813.282,
          1820.162,
          1806.099,
          1821.862,
          1881.855,
          1892.298,
          1912.311,
          1994.485,
          2038.836,
          2063.432,
          2061.388,
          2154.575,
          2087.517,
          2092.834,
          2134.157,
          2158.049,
          2180.383,
          2146.258,
          2170.982,
          2138.882,
          1875.146,
          1985.939,
          1875.601,
          1657.873,
          1717.845,
          1713.367,
          1481.898,
          1355.2,
          1317.952,
          1262.555,
          1077.52,
          876.195,
          1002.938,
          938.932,
          777.318
         ],
         "yaxis": "y"
        },
        {
         "hovertemplate": "Type of Energy=Natural Gas, Excluding Supplemental Gaseous Fuels, CO2 Emissions<br>Year=%{x}<br>Emissions (million tons of CO2e)=%{y}<extra></extra>",
         "legendgroup": "Natural Gas, Excluding Supplemental Gaseous Fuels, CO2 Emissions",
         "line": {
          "color": "#EF553B",
          "dash": "solid"
         },
         "marker": {
          "symbol": "circle"
         },
         "mode": "lines",
         "name": "Natural Gas, Excluding Supplemental Gaseous Fuels, CO2 Emissions",
         "orientation": "v",
         "showlegend": true,
         "type": "scatter",
         "x": [
          "1973",
          "1974",
          "1975",
          "1976",
          "1977",
          "1978",
          "1979",
          "1980",
          "1981",
          "1982",
          "1983",
          "1984",
          "1985",
          "1986",
          "1987",
          "1988",
          "1989",
          "1990",
          "1991",
          "1992",
          "1993",
          "1994",
          "1995",
          "1996",
          "1997",
          "1998",
          "1999",
          "2000",
          "2001",
          "2002",
          "2003",
          "2004",
          "2005",
          "2006",
          "2007",
          "2008",
          "2009",
          "2010",
          "2011",
          "2012",
          "2013",
          "2014",
          "2015",
          "2016",
          "2017",
          "2018",
          "2019",
          "2020",
          "2021",
          "2022",
          "2023"
         ],
         "xaxis": "x",
         "y": [
          1175.252,
          1134.594,
          1042.853,
          1063.161,
          1041.406,
          1045.577,
          1080.846,
          1058.408,
          1032.434,
          961.223,
          901.395,
          962.574,
          926.826,
          868.157,
          923.281,
          964.695,
          1027.299,
          1026.598,
          1047.623,
          1083.124,
          1110.563,
          1136.165,
          1185.835,
          1207.144,
          1214.178,
          1191.44,
          1196.782,
          1246.173,
          1191.883,
          1231.363,
          1195.504,
          1201.329,
          1182.588,
          1169.817,
          1244.998,
          1254.361,
          1233.512,
          1292.438,
          1312.328,
          1371.561,
          1408.38,
          1437.536,
          1478.884,
          1489.851,
          1470.964,
          1626.908,
          1684.624,
          1654.558,
          1656.12,
          1743.818,
          1759.732
         ],
         "yaxis": "y"
        },
        {
         "hovertemplate": "Type of Energy=Petroleum, Excluding Biofuels, CO2 Emissions<br>Year=%{x}<br>Emissions (million tons of CO2e)=%{y}<extra></extra>",
         "legendgroup": "Petroleum, Excluding Biofuels, CO2 Emissions",
         "line": {
          "color": "#00cc96",
          "dash": "solid"
         },
         "marker": {
          "symbol": "circle"
         },
         "mode": "lines",
         "name": "Petroleum, Excluding Biofuels, CO2 Emissions",
         "orientation": "v",
         "showlegend": true,
         "type": "scatter",
         "x": [
          "1973",
          "1974",
          "1975",
          "1976",
          "1977",
          "1978",
          "1979",
          "1980",
          "1981",
          "1982",
          "1983",
          "1984",
          "1985",
          "1986",
          "1987",
          "1988",
          "1989",
          "1990",
          "1991",
          "1992",
          "1993",
          "1994",
          "1995",
          "1996",
          "1997",
          "1998",
          "1999",
          "2000",
          "2001",
          "2002",
          "2003",
          "2004",
          "2005",
          "2006",
          "2007",
          "2008",
          "2009",
          "2010",
          "2011",
          "2012",
          "2013",
          "2014",
          "2015",
          "2016",
          "2017",
          "2018",
          "2019",
          "2020",
          "2021",
          "2022",
          "2023"
         ],
         "xaxis": "x",
         "y": [
          2325.281,
          2227.39,
          2190.27,
          2350.496,
          2478.228,
          2524.557,
          2441.816,
          2244.35,
          2101.535,
          1994.366,
          1977.975,
          2034.424,
          2023.738,
          2111.99,
          2143.02,
          2241.04,
          2239.66,
          2185.376,
          2131.524,
          2179.86,
          2184.274,
          2224.589,
          2216.64,
          2306.366,
          2326.434,
          2371.598,
          2431.127,
          2477.472,
          2487.697,
          2482.688,
          2545.489,
          2623.077,
          2632.951,
          2601.926,
          2587.614,
          2418.1,
          2283.68,
          2304.037,
          2255.2,
          2195.206,
          2221.313,
          2251.576,
          2289.93,
          2312.343,
          2331.516,
          2377.323,
          2373.897,
          2043.519,
          2234.824,
          2250.262,
          2250.87
         ],
         "yaxis": "y"
        }
       ],
       "layout": {
        "autosize": true,
        "legend": {
         "title": {
          "text": "Type of Energy"
         },
         "tracegroupgap": 0
        },
        "template": {
         "data": {
          "bar": [
           {
            "error_x": {
             "color": "#2a3f5f"
            },
            "error_y": {
             "color": "#2a3f5f"
            },
            "marker": {
             "line": {
              "color": "#E5ECF6",
              "width": 0.5
             },
             "pattern": {
              "fillmode": "overlay",
              "size": 10,
              "solidity": 0.2
             }
            },
            "type": "bar"
           }
          ],
          "barpolar": [
           {
            "marker": {
             "line": {
              "color": "#E5ECF6",
              "width": 0.5
             },
             "pattern": {
              "fillmode": "overlay",
              "size": 10,
              "solidity": 0.2
             }
            },
            "type": "barpolar"
           }
          ],
          "carpet": [
           {
            "aaxis": {
             "endlinecolor": "#2a3f5f",
             "gridcolor": "white",
             "linecolor": "white",
             "minorgridcolor": "white",
             "startlinecolor": "#2a3f5f"
            },
            "baxis": {
             "endlinecolor": "#2a3f5f",
             "gridcolor": "white",
             "linecolor": "white",
             "minorgridcolor": "white",
             "startlinecolor": "#2a3f5f"
            },
            "type": "carpet"
           }
          ],
          "choropleth": [
           {
            "colorbar": {
             "outlinewidth": 0,
             "ticks": ""
            },
            "type": "choropleth"
           }
          ],
          "contour": [
           {
            "colorbar": {
             "outlinewidth": 0,
             "ticks": ""
            },
            "colorscale": [
             [
              0,
              "#0d0887"
             ],
             [
              0.1111111111111111,
              "#46039f"
             ],
             [
              0.2222222222222222,
              "#7201a8"
             ],
             [
              0.3333333333333333,
              "#9c179e"
             ],
             [
              0.4444444444444444,
              "#bd3786"
             ],
             [
              0.5555555555555556,
              "#d8576b"
             ],
             [
              0.6666666666666666,
              "#ed7953"
             ],
             [
              0.7777777777777778,
              "#fb9f3a"
             ],
             [
              0.8888888888888888,
              "#fdca26"
             ],
             [
              1,
              "#f0f921"
             ]
            ],
            "type": "contour"
           }
          ],
          "contourcarpet": [
           {
            "colorbar": {
             "outlinewidth": 0,
             "ticks": ""
            },
            "type": "contourcarpet"
           }
          ],
          "heatmap": [
           {
            "colorbar": {
             "outlinewidth": 0,
             "ticks": ""
            },
            "colorscale": [
             [
              0,
              "#0d0887"
             ],
             [
              0.1111111111111111,
              "#46039f"
             ],
             [
              0.2222222222222222,
              "#7201a8"
             ],
             [
              0.3333333333333333,
              "#9c179e"
             ],
             [
              0.4444444444444444,
              "#bd3786"
             ],
             [
              0.5555555555555556,
              "#d8576b"
             ],
             [
              0.6666666666666666,
              "#ed7953"
             ],
             [
              0.7777777777777778,
              "#fb9f3a"
             ],
             [
              0.8888888888888888,
              "#fdca26"
             ],
             [
              1,
              "#f0f921"
             ]
            ],
            "type": "heatmap"
           }
          ],
          "heatmapgl": [
           {
            "colorbar": {
             "outlinewidth": 0,
             "ticks": ""
            },
            "colorscale": [
             [
              0,
              "#0d0887"
             ],
             [
              0.1111111111111111,
              "#46039f"
             ],
             [
              0.2222222222222222,
              "#7201a8"
             ],
             [
              0.3333333333333333,
              "#9c179e"
             ],
             [
              0.4444444444444444,
              "#bd3786"
             ],
             [
              0.5555555555555556,
              "#d8576b"
             ],
             [
              0.6666666666666666,
              "#ed7953"
             ],
             [
              0.7777777777777778,
              "#fb9f3a"
             ],
             [
              0.8888888888888888,
              "#fdca26"
             ],
             [
              1,
              "#f0f921"
             ]
            ],
            "type": "heatmapgl"
           }
          ],
          "histogram": [
           {
            "marker": {
             "pattern": {
              "fillmode": "overlay",
              "size": 10,
              "solidity": 0.2
             }
            },
            "type": "histogram"
           }
          ],
          "histogram2d": [
           {
            "colorbar": {
             "outlinewidth": 0,
             "ticks": ""
            },
            "colorscale": [
             [
              0,
              "#0d0887"
             ],
             [
              0.1111111111111111,
              "#46039f"
             ],
             [
              0.2222222222222222,
              "#7201a8"
             ],
             [
              0.3333333333333333,
              "#9c179e"
             ],
             [
              0.4444444444444444,
              "#bd3786"
             ],
             [
              0.5555555555555556,
              "#d8576b"
             ],
             [
              0.6666666666666666,
              "#ed7953"
             ],
             [
              0.7777777777777778,
              "#fb9f3a"
             ],
             [
              0.8888888888888888,
              "#fdca26"
             ],
             [
              1,
              "#f0f921"
             ]
            ],
            "type": "histogram2d"
           }
          ],
          "histogram2dcontour": [
           {
            "colorbar": {
             "outlinewidth": 0,
             "ticks": ""
            },
            "colorscale": [
             [
              0,
              "#0d0887"
             ],
             [
              0.1111111111111111,
              "#46039f"
             ],
             [
              0.2222222222222222,
              "#7201a8"
             ],
             [
              0.3333333333333333,
              "#9c179e"
             ],
             [
              0.4444444444444444,
              "#bd3786"
             ],
             [
              0.5555555555555556,
              "#d8576b"
             ],
             [
              0.6666666666666666,
              "#ed7953"
             ],
             [
              0.7777777777777778,
              "#fb9f3a"
             ],
             [
              0.8888888888888888,
              "#fdca26"
             ],
             [
              1,
              "#f0f921"
             ]
            ],
            "type": "histogram2dcontour"
           }
          ],
          "mesh3d": [
           {
            "colorbar": {
             "outlinewidth": 0,
             "ticks": ""
            },
            "type": "mesh3d"
           }
          ],
          "parcoords": [
           {
            "line": {
             "colorbar": {
              "outlinewidth": 0,
              "ticks": ""
             }
            },
            "type": "parcoords"
           }
          ],
          "pie": [
           {
            "automargin": true,
            "type": "pie"
           }
          ],
          "scatter": [
           {
            "fillpattern": {
             "fillmode": "overlay",
             "size": 10,
             "solidity": 0.2
            },
            "type": "scatter"
           }
          ],
          "scatter3d": [
           {
            "line": {
             "colorbar": {
              "outlinewidth": 0,
              "ticks": ""
             }
            },
            "marker": {
             "colorbar": {
              "outlinewidth": 0,
              "ticks": ""
             }
            },
            "type": "scatter3d"
           }
          ],
          "scattercarpet": [
           {
            "marker": {
             "colorbar": {
              "outlinewidth": 0,
              "ticks": ""
             }
            },
            "type": "scattercarpet"
           }
          ],
          "scattergeo": [
           {
            "marker": {
             "colorbar": {
              "outlinewidth": 0,
              "ticks": ""
             }
            },
            "type": "scattergeo"
           }
          ],
          "scattergl": [
           {
            "marker": {
             "colorbar": {
              "outlinewidth": 0,
              "ticks": ""
             }
            },
            "type": "scattergl"
           }
          ],
          "scattermapbox": [
           {
            "marker": {
             "colorbar": {
              "outlinewidth": 0,
              "ticks": ""
             }
            },
            "type": "scattermapbox"
           }
          ],
          "scatterpolar": [
           {
            "marker": {
             "colorbar": {
              "outlinewidth": 0,
              "ticks": ""
             }
            },
            "type": "scatterpolar"
           }
          ],
          "scatterpolargl": [
           {
            "marker": {
             "colorbar": {
              "outlinewidth": 0,
              "ticks": ""
             }
            },
            "type": "scatterpolargl"
           }
          ],
          "scatterternary": [
           {
            "marker": {
             "colorbar": {
              "outlinewidth": 0,
              "ticks": ""
             }
            },
            "type": "scatterternary"
           }
          ],
          "surface": [
           {
            "colorbar": {
             "outlinewidth": 0,
             "ticks": ""
            },
            "colorscale": [
             [
              0,
              "#0d0887"
             ],
             [
              0.1111111111111111,
              "#46039f"
             ],
             [
              0.2222222222222222,
              "#7201a8"
             ],
             [
              0.3333333333333333,
              "#9c179e"
             ],
             [
              0.4444444444444444,
              "#bd3786"
             ],
             [
              0.5555555555555556,
              "#d8576b"
             ],
             [
              0.6666666666666666,
              "#ed7953"
             ],
             [
              0.7777777777777778,
              "#fb9f3a"
             ],
             [
              0.8888888888888888,
              "#fdca26"
             ],
             [
              1,
              "#f0f921"
             ]
            ],
            "type": "surface"
           }
          ],
          "table": [
           {
            "cells": {
             "fill": {
              "color": "#EBF0F8"
             },
             "line": {
              "color": "white"
             }
            },
            "header": {
             "fill": {
              "color": "#C8D4E3"
             },
             "line": {
              "color": "white"
             }
            },
            "type": "table"
           }
          ]
         },
         "layout": {
          "annotationdefaults": {
           "arrowcolor": "#2a3f5f",
           "arrowhead": 0,
           "arrowwidth": 1
          },
          "autotypenumbers": "strict",
          "coloraxis": {
           "colorbar": {
            "outlinewidth": 0,
            "ticks": ""
           }
          },
          "colorscale": {
           "diverging": [
            [
             0,
             "#8e0152"
            ],
            [
             0.1,
             "#c51b7d"
            ],
            [
             0.2,
             "#de77ae"
            ],
            [
             0.3,
             "#f1b6da"
            ],
            [
             0.4,
             "#fde0ef"
            ],
            [
             0.5,
             "#f7f7f7"
            ],
            [
             0.6,
             "#e6f5d0"
            ],
            [
             0.7,
             "#b8e186"
            ],
            [
             0.8,
             "#7fbc41"
            ],
            [
             0.9,
             "#4d9221"
            ],
            [
             1,
             "#276419"
            ]
           ],
           "sequential": [
            [
             0,
             "#0d0887"
            ],
            [
             0.1111111111111111,
             "#46039f"
            ],
            [
             0.2222222222222222,
             "#7201a8"
            ],
            [
             0.3333333333333333,
             "#9c179e"
            ],
            [
             0.4444444444444444,
             "#bd3786"
            ],
            [
             0.5555555555555556,
             "#d8576b"
            ],
            [
             0.6666666666666666,
             "#ed7953"
            ],
            [
             0.7777777777777778,
             "#fb9f3a"
            ],
            [
             0.8888888888888888,
             "#fdca26"
            ],
            [
             1,
             "#f0f921"
            ]
           ],
           "sequentialminus": [
            [
             0,
             "#0d0887"
            ],
            [
             0.1111111111111111,
             "#46039f"
            ],
            [
             0.2222222222222222,
             "#7201a8"
            ],
            [
             0.3333333333333333,
             "#9c179e"
            ],
            [
             0.4444444444444444,
             "#bd3786"
            ],
            [
             0.5555555555555556,
             "#d8576b"
            ],
            [
             0.6666666666666666,
             "#ed7953"
            ],
            [
             0.7777777777777778,
             "#fb9f3a"
            ],
            [
             0.8888888888888888,
             "#fdca26"
            ],
            [
             1,
             "#f0f921"
            ]
           ]
          },
          "colorway": [
           "#636efa",
           "#EF553B",
           "#00cc96",
           "#ab63fa",
           "#FFA15A",
           "#19d3f3",
           "#FF6692",
           "#B6E880",
           "#FF97FF",
           "#FECB52"
          ],
          "font": {
           "color": "#2a3f5f"
          },
          "geo": {
           "bgcolor": "white",
           "lakecolor": "white",
           "landcolor": "#E5ECF6",
           "showlakes": true,
           "showland": true,
           "subunitcolor": "white"
          },
          "hoverlabel": {
           "align": "left"
          },
          "hovermode": "closest",
          "mapbox": {
           "style": "light"
          },
          "paper_bgcolor": "white",
          "plot_bgcolor": "#E5ECF6",
          "polar": {
           "angularaxis": {
            "gridcolor": "white",
            "linecolor": "white",
            "ticks": ""
           },
           "bgcolor": "#E5ECF6",
           "radialaxis": {
            "gridcolor": "white",
            "linecolor": "white",
            "ticks": ""
           }
          },
          "scene": {
           "xaxis": {
            "backgroundcolor": "#E5ECF6",
            "gridcolor": "white",
            "gridwidth": 2,
            "linecolor": "white",
            "showbackground": true,
            "ticks": "",
            "zerolinecolor": "white"
           },
           "yaxis": {
            "backgroundcolor": "#E5ECF6",
            "gridcolor": "white",
            "gridwidth": 2,
            "linecolor": "white",
            "showbackground": true,
            "ticks": "",
            "zerolinecolor": "white"
           },
           "zaxis": {
            "backgroundcolor": "#E5ECF6",
            "gridcolor": "white",
            "gridwidth": 2,
            "linecolor": "white",
            "showbackground": true,
            "ticks": "",
            "zerolinecolor": "white"
           }
          },
          "shapedefaults": {
           "line": {
            "color": "#2a3f5f"
           }
          },
          "ternary": {
           "aaxis": {
            "gridcolor": "white",
            "linecolor": "white",
            "ticks": ""
           },
           "baxis": {
            "gridcolor": "white",
            "linecolor": "white",
            "ticks": ""
           },
           "bgcolor": "#E5ECF6",
           "caxis": {
            "gridcolor": "white",
            "linecolor": "white",
            "ticks": ""
           }
          },
          "title": {
           "x": 0.05
          },
          "xaxis": {
           "automargin": true,
           "gridcolor": "white",
           "linecolor": "white",
           "ticks": "",
           "title": {
            "standoff": 15
           },
           "zerolinecolor": "white",
           "zerolinewidth": 2
          },
          "yaxis": {
           "automargin": true,
           "gridcolor": "white",
           "linecolor": "white",
           "ticks": "",
           "title": {
            "standoff": 15
           },
           "zerolinecolor": "white",
           "zerolinewidth": 2
          }
         }
        },
        "title": {
         "text": "Graph 4. Emissions by type of energy"
        },
        "xaxis": {
         "anchor": "y",
         "autorange": true,
         "domain": [
          0,
          1
         ],
         "range": [
          0,
          50
         ],
         "title": {
          "text": "Year"
         },
         "type": "category"
        },
        "yaxis": {
         "anchor": "x",
         "autorange": true,
         "domain": [
          0,
          1
         ],
         "range": [
          674.2272777777778,
          2736.0417222222222
         ],
         "title": {
          "text": "Emissions (million tons of CO2e)"
         },
         "type": "linear"
        }
       }
      },
      "image/png": "[encoded data removed]",
      "text/html": [
       "<div>                            <div id=\"b79a77ca-9075-438e-87d9-d5530b0c8ebd\" class=\"plotly-graph-div\" style=\"height:525px; width:100%;\"></div>            <script type=\"text/javascript\">                require([\"plotly\"], function(Plotly) {                    window.PLOTLYENV=window.PLOTLYENV || {};                                    if (document.getElementById(\"b79a77ca-9075-438e-87d9-d5530b0c8ebd\")) {                    Plotly.newPlot(                        \"b79a77ca-9075-438e-87d9-d5530b0c8ebd\",                        [{\"hovertemplate\":\"Type of Energy=Coal, Including Coal Coke Net Imports, CO2 Emissions\\u003cbr\\u003eYear=%{x}\\u003cbr\\u003eEmissions (million tons of CO2e)=%{y}\\u003cextra\\u003e\\u003c\\u002fextra\\u003e\",\"legendgroup\":\"Coal, Including Coal Coke Net Imports, CO2 Emissions\",\"line\":{\"color\":\"#636efa\",\"dash\":\"solid\"},\"marker\":{\"symbol\":\"circle\"},\"mode\":\"lines\",\"name\":\"Coal, Including Coal Coke Net Imports, CO2 Emissions\",\"orientation\":\"v\",\"showlegend\":true,\"x\":[\"1973\",\"1974\",\"1975\",\"1976\",\"1977\",\"1978\",\"1979\",\"1980\",\"1981\",\"1982\",\"1983\",\"1984\",\"1985\",\"1986\",\"1987\",\"1988\",\"1989\",\"1990\",\"1991\",\"1992\",\"1993\",\"1994\",\"1995\",\"1996\",\"1997\",\"1998\",\"1999\",\"2000\",\"2001\",\"2002\",\"2003\",\"2004\",\"2005\",\"2006\",\"2007\",\"2008\",\"2009\",\"2010\",\"2011\",\"2012\",\"2013\",\"2014\",\"2015\",\"2016\",\"2017\",\"2018\",\"2019\",\"2020\",\"2021\",\"2022\",\"2023\"],\"xaxis\":\"x\",\"y\":[1220.714,1199.352,1195.102,1281.249,1315.802,1314.266,1427.55,1453.891,1503.037,1449.193,1504.91,1616.224,1655.15,1635.859,1709.615,1792.863,1813.282,1820.162,1806.099,1821.862,1881.855,1892.298,1912.311,1994.485,2038.836,2063.432,2061.388,2154.575,2087.517,2092.834,2134.157,2158.049,2180.383,2146.258,2170.982,2138.882,1875.146,1985.939,1875.601,1657.873,1717.845,1713.367,1481.898,1355.2,1317.952,1262.555,1077.52,876.195,1002.938,938.932,777.318],\"yaxis\":\"y\",\"type\":\"scatter\"},{\"hovertemplate\":\"Type of Energy=Natural Gas, Excluding Supplemental Gaseous Fuels, CO2 Emissions\\u003cbr\\u003eYear=%{x}\\u003cbr\\u003eEmissions (million tons of CO2e)=%{y}\\u003cextra\\u003e\\u003c\\u002fextra\\u003e\",\"legendgroup\":\"Natural Gas, Excluding Supplemental Gaseous Fuels, CO2 Emissions\",\"line\":{\"color\":\"#EF553B\",\"dash\":\"solid\"},\"marker\":{\"symbol\":\"circle\"},\"mode\":\"lines\",\"name\":\"Natural Gas, Excluding Supplemental Gaseous Fuels, CO2 Emissions\",\"orientation\":\"v\",\"showlegend\":true,\"x\":[\"1973\",\"1974\",\"1975\",\"1976\",\"1977\",\"1978\",\"1979\",\"1980\",\"1981\",\"1982\",\"1983\",\"1984\",\"1985\",\"1986\",\"1987\",\"1988\",\"1989\",\"1990\",\"1991\",\"1992\",\"1993\",\"1994\",\"1995\",\"1996\",\"1997\",\"1998\",\"1999\",\"2000\",\"2001\",\"2002\",\"2003\",\"2004\",\"2005\",\"2006\",\"2007\",\"2008\",\"2009\",\"2010\",\"2011\",\"2012\",\"2013\",\"2014\",\"2015\",\"2016\",\"2017\",\"2018\",\"2019\",\"2020\",\"2021\",\"2022\",\"2023\"],\"xaxis\":\"x\",\"y\":[1175.252,1134.594,1042.853,1063.161,1041.406,1045.577,1080.846,1058.408,1032.434,961.223,901.395,962.574,926.826,868.157,923.281,964.695,1027.299,1026.598,1047.623,1083.124,1110.563,1136.165,1185.835,1207.144,1214.178,1191.44,1196.782,1246.173,1191.883,1231.363,1195.504,1201.329,1182.588,1169.817,1244.998,1254.361,1233.512,1292.438,1312.328,1371.561,1408.38,1437.536,1478.884,1489.851,1470.964,1626.908,1684.624,1654.558,1656.12,1743.818,1759.732],\"yaxis\":\"y\",\"type\":\"scatter\"},{\"hovertemplate\":\"Type of Energy=Petroleum, Excluding Biofuels, CO2 Emissions\\u003cbr\\u003eYear=%{x}\\u003cbr\\u003eEmissions (million tons of CO2e)=%{y}\\u003cextra\\u003e\\u003c\\u002fextra\\u003e\",\"legendgroup\":\"Petroleum, Excluding Biofuels, CO2 Emissions\",\"line\":{\"color\":\"#00cc96\",\"dash\":\"solid\"},\"marker\":{\"symbol\":\"circle\"},\"mode\":\"lines\",\"name\":\"Petroleum, Excluding Biofuels, CO2 Emissions\",\"orientation\":\"v\",\"showlegend\":true,\"x\":[\"1973\",\"1974\",\"1975\",\"1976\",\"1977\",\"1978\",\"1979\",\"1980\",\"1981\",\"1982\",\"1983\",\"1984\",\"1985\",\"1986\",\"1987\",\"1988\",\"1989\",\"1990\",\"1991\",\"1992\",\"1993\",\"1994\",\"1995\",\"1996\",\"1997\",\"1998\",\"1999\",\"2000\",\"2001\",\"2002\",\"2003\",\"2004\",\"2005\",\"2006\",\"2007\",\"2008\",\"2009\",\"2010\",\"2011\",\"2012\",\"2013\",\"2014\",\"2015\",\"2016\",\"2017\",\"2018\",\"2019\",\"2020\",\"2021\",\"2022\",\"2023\"],\"xaxis\":\"x\",\"y\":[2325.281,2227.39,2190.27,2350.496,2478.228,2524.557,2441.816,2244.35,2101.535,1994.366,1977.975,2034.424,2023.738,2111.99,2143.02,2241.04,2239.66,2185.376,2131.524,2179.86,2184.274,2224.589,2216.64,2306.366,2326.434,2371.598,2431.127,2477.472,2487.697,2482.688,2545.489,2623.077,2632.951,2601.926,2587.614,2418.1,2283.68,2304.037,2255.2,2195.206,2221.313,2251.576,2289.93,2312.343,2331.516,2377.323,2373.897,2043.519,2234.824,2250.262,2250.87],\"yaxis\":\"y\",\"type\":\"scatter\"}],                        {\"template\":{\"data\":{\"histogram2dcontour\":[{\"type\":\"histogram2dcontour\",\"colorbar\":{\"outlinewidth\":0,\"ticks\":\"\"},\"colorscale\":[[0.0,\"#0d0887\"],[0.1111111111111111,\"#46039f\"],[0.2222222222222222,\"#7201a8\"],[0.3333333333333333,\"#9c179e\"],[0.4444444444444444,\"#bd3786\"],[0.5555555555555556,\"#d8576b\"],[0.6666666666666666,\"#ed7953\"],[0.7777777777777778,\"#fb9f3a\"],[0.8888888888888888,\"#fdca26\"],[1.0,\"#f0f921\"]]}],\"choropleth\":[{\"type\":\"choropleth\",\"colorbar\":{\"outlinewidth\":0,\"ticks\":\"\"}}],\"histogram2d\":[{\"type\":\"histogram2d\",\"colorbar\":{\"outlinewidth\":0,\"ticks\":\"\"},\"colorscale\":[[0.0,\"#0d0887\"],[0.1111111111111111,\"#46039f\"],[0.2222222222222222,\"#7201a8\"],[0.3333333333333333,\"#9c179e\"],[0.4444444444444444,\"#bd3786\"],[0.5555555555555556,\"#d8576b\"],[0.6666666666666666,\"#ed7953\"],[0.7777777777777778,\"#fb9f3a\"],[0.8888888888888888,\"#fdca26\"],[1.0,\"#f0f921\"]]}],\"heatmap\":[{\"type\":\"heatmap\",\"colorbar\":{\"outlinewidth\":0,\"ticks\":\"\"},\"colorscale\":[[0.0,\"#0d0887\"],[0.1111111111111111,\"#46039f\"],[0.2222222222222222,\"#7201a8\"],[0.3333333333333333,\"#9c179e\"],[0.4444444444444444,\"#bd3786\"],[0.5555555555555556,\"#d8576b\"],[0.6666666666666666,\"#ed7953\"],[0.7777777777777778,\"#fb9f3a\"],[0.8888888888888888,\"#fdca26\"],[1.0,\"#f0f921\"]]}],\"heatmapgl\":[{\"type\":\"heatmapgl\",\"colorbar\":{\"outlinewidth\":0,\"ticks\":\"\"},\"colorscale\":[[0.0,\"#0d0887\"],[0.1111111111111111,\"#46039f\"],[0.2222222222222222,\"#7201a8\"],[0.3333333333333333,\"#9c179e\"],[0.4444444444444444,\"#bd3786\"],[0.5555555555555556,\"#d8576b\"],[0.6666666666666666,\"#ed7953\"],[0.7777777777777778,\"#fb9f3a\"],[0.8888888888888888,\"#fdca26\"],[1.0,\"#f0f921\"]]}],\"contourcarpet\":[{\"type\":\"contourcarpet\",\"colorbar\":{\"outlinewidth\":0,\"ticks\":\"\"}}],\"contour\":[{\"type\":\"contour\",\"colorbar\":{\"outlinewidth\":0,\"ticks\":\"\"},\"colorscale\":[[0.0,\"#0d0887\"],[0.1111111111111111,\"#46039f\"],[0.2222222222222222,\"#7201a8\"],[0.3333333333333333,\"#9c179e\"],[0.4444444444444444,\"#bd3786\"],[0.5555555555555556,\"#d8576b\"],[0.6666666666666666,\"#ed7953\"],[0.7777777777777778,\"#fb9f3a\"],[0.8888888888888888,\"#fdca26\"],[1.0,\"#f0f921\"]]}],\"surface\":[{\"type\":\"surface\",\"colorbar\":{\"outlinewidth\":0,\"ticks\":\"\"},\"colorscale\":[[0.0,\"#0d0887\"],[0.1111111111111111,\"#46039f\"],[0.2222222222222222,\"#7201a8\"],[0.3333333333333333,\"#9c179e\"],[0.4444444444444444,\"#bd3786\"],[0.5555555555555556,\"#d8576b\"],[0.6666666666666666,\"#ed7953\"],[0.7777777777777778,\"#fb9f3a\"],[0.8888888888888888,\"#fdca26\"],[1.0,\"#f0f921\"]]}],\"mesh3d\":[{\"type\":\"mesh3d\",\"colorbar\":{\"outlinewidth\":0,\"ticks\":\"\"}}],\"scatter\":[{\"fillpattern\":{\"fillmode\":\"overlay\",\"size\":10,\"solidity\":0.2},\"type\":\"scatter\"}],\"parcoords\":[{\"type\":\"parcoords\",\"line\":{\"colorbar\":{\"outlinewidth\":0,\"ticks\":\"\"}}}],\"scatterpolargl\":[{\"type\":\"scatterpolargl\",\"marker\":{\"colorbar\":{\"outlinewidth\":0,\"ticks\":\"\"}}}],\"bar\":[{\"error_x\":{\"color\":\"#2a3f5f\"},\"error_y\":{\"color\":\"#2a3f5f\"},\"marker\":{\"line\":{\"color\":\"#E5ECF6\",\"width\":0.5},\"pattern\":{\"fillmode\":\"overlay\",\"size\":10,\"solidity\":0.2}},\"type\":\"bar\"}],\"scattergeo\":[{\"type\":\"scattergeo\",\"marker\":{\"colorbar\":{\"outlinewidth\":0,\"ticks\":\"\"}}}],\"scatterpolar\":[{\"type\":\"scatterpolar\",\"marker\":{\"colorbar\":{\"outlinewidth\":0,\"ticks\":\"\"}}}],\"histogram\":[{\"marker\":{\"pattern\":{\"fillmode\":\"overlay\",\"size\":10,\"solidity\":0.2}},\"type\":\"histogram\"}],\"scattergl\":[{\"type\":\"scattergl\",\"marker\":{\"colorbar\":{\"outlinewidth\":0,\"ticks\":\"\"}}}],\"scatter3d\":[{\"type\":\"scatter3d\",\"line\":{\"colorbar\":{\"outlinewidth\":0,\"ticks\":\"\"}},\"marker\":{\"colorbar\":{\"outlinewidth\":0,\"ticks\":\"\"}}}],\"scattermapbox\":[{\"type\":\"scattermapbox\",\"marker\":{\"colorbar\":{\"outlinewidth\":0,\"ticks\":\"\"}}}],\"scatterternary\":[{\"type\":\"scatterternary\",\"marker\":{\"colorbar\":{\"outlinewidth\":0,\"ticks\":\"\"}}}],\"scattercarpet\":[{\"type\":\"scattercarpet\",\"marker\":{\"colorbar\":{\"outlinewidth\":0,\"ticks\":\"\"}}}],\"carpet\":[{\"aaxis\":{\"endlinecolor\":\"#2a3f5f\",\"gridcolor\":\"white\",\"linecolor\":\"white\",\"minorgridcolor\":\"white\",\"startlinecolor\":\"#2a3f5f\"},\"baxis\":{\"endlinecolor\":\"#2a3f5f\",\"gridcolor\":\"white\",\"linecolor\":\"white\",\"minorgridcolor\":\"white\",\"startlinecolor\":\"#2a3f5f\"},\"type\":\"carpet\"}],\"table\":[{\"cells\":{\"fill\":{\"color\":\"#EBF0F8\"},\"line\":{\"color\":\"white\"}},\"header\":{\"fill\":{\"color\":\"#C8D4E3\"},\"line\":{\"color\":\"white\"}},\"type\":\"table\"}],\"barpolar\":[{\"marker\":{\"line\":{\"color\":\"#E5ECF6\",\"width\":0.5},\"pattern\":{\"fillmode\":\"overlay\",\"size\":10,\"solidity\":0.2}},\"type\":\"barpolar\"}],\"pie\":[{\"automargin\":true,\"type\":\"pie\"}]},\"layout\":{\"autotypenumbers\":\"strict\",\"colorway\":[\"#636efa\",\"#EF553B\",\"#00cc96\",\"#ab63fa\",\"#FFA15A\",\"#19d3f3\",\"#FF6692\",\"#B6E880\",\"#FF97FF\",\"#FECB52\"],\"font\":{\"color\":\"#2a3f5f\"},\"hovermode\":\"closest\",\"hoverlabel\":{\"align\":\"left\"},\"paper_bgcolor\":\"white\",\"plot_bgcolor\":\"#E5ECF6\",\"polar\":{\"bgcolor\":\"#E5ECF6\",\"angularaxis\":{\"gridcolor\":\"white\",\"linecolor\":\"white\",\"ticks\":\"\"},\"radialaxis\":{\"gridcolor\":\"white\",\"linecolor\":\"white\",\"ticks\":\"\"}},\"ternary\":{\"bgcolor\":\"#E5ECF6\",\"aaxis\":{\"gridcolor\":\"white\",\"linecolor\":\"white\",\"ticks\":\"\"},\"baxis\":{\"gridcolor\":\"white\",\"linecolor\":\"white\",\"ticks\":\"\"},\"caxis\":{\"gridcolor\":\"white\",\"linecolor\":\"white\",\"ticks\":\"\"}},\"coloraxis\":{\"colorbar\":{\"outlinewidth\":0,\"ticks\":\"\"}},\"colorscale\":{\"sequential\":[[0.0,\"#0d0887\"],[0.1111111111111111,\"#46039f\"],[0.2222222222222222,\"#7201a8\"],[0.3333333333333333,\"#9c179e\"],[0.4444444444444444,\"#bd3786\"],[0.5555555555555556,\"#d8576b\"],[0.6666666666666666,\"#ed7953\"],[0.7777777777777778,\"#fb9f3a\"],[0.8888888888888888,\"#fdca26\"],[1.0,\"#f0f921\"]],\"sequentialminus\":[[0.0,\"#0d0887\"],[0.1111111111111111,\"#46039f\"],[0.2222222222222222,\"#7201a8\"],[0.3333333333333333,\"#9c179e\"],[0.4444444444444444,\"#bd3786\"],[0.5555555555555556,\"#d8576b\"],[0.6666666666666666,\"#ed7953\"],[0.7777777777777778,\"#fb9f3a\"],[0.8888888888888888,\"#fdca26\"],[1.0,\"#f0f921\"]],\"diverging\":[[0,\"#8e0152\"],[0.1,\"#c51b7d\"],[0.2,\"#de77ae\"],[0.3,\"#f1b6da\"],[0.4,\"#fde0ef\"],[0.5,\"#f7f7f7\"],[0.6,\"#e6f5d0\"],[0.7,\"#b8e186\"],[0.8,\"#7fbc41\"],[0.9,\"#4d9221\"],[1,\"#276419\"]]},\"xaxis\":{\"gridcolor\":\"white\",\"linecolor\":\"white\",\"ticks\":\"\",\"title\":{\"standoff\":15},\"zerolinecolor\":\"white\",\"automargin\":true,\"zerolinewidth\":2},\"yaxis\":{\"gridcolor\":\"white\",\"linecolor\":\"white\",\"ticks\":\"\",\"title\":{\"standoff\":15},\"zerolinecolor\":\"white\",\"automargin\":true,\"zerolinewidth\":2},\"scene\":{\"xaxis\":{\"backgroundcolor\":\"#E5ECF6\",\"gridcolor\":\"white\",\"linecolor\":\"white\",\"showbackground\":true,\"ticks\":\"\",\"zerolinecolor\":\"white\",\"gridwidth\":2},\"yaxis\":{\"backgroundcolor\":\"#E5ECF6\",\"gridcolor\":\"white\",\"linecolor\":\"white\",\"showbackground\":true,\"ticks\":\"\",\"zerolinecolor\":\"white\",\"gridwidth\":2},\"zaxis\":{\"backgroundcolor\":\"#E5ECF6\",\"gridcolor\":\"white\",\"linecolor\":\"white\",\"showbackground\":true,\"ticks\":\"\",\"zerolinecolor\":\"white\",\"gridwidth\":2}},\"shapedefaults\":{\"line\":{\"color\":\"#2a3f5f\"}},\"annotationdefaults\":{\"arrowcolor\":\"#2a3f5f\",\"arrowhead\":0,\"arrowwidth\":1},\"geo\":{\"bgcolor\":\"white\",\"landcolor\":\"#E5ECF6\",\"subunitcolor\":\"white\",\"showland\":true,\"showlakes\":true,\"lakecolor\":\"white\"},\"title\":{\"x\":0.05},\"mapbox\":{\"style\":\"light\"}}},\"xaxis\":{\"anchor\":\"y\",\"domain\":[0.0,1.0],\"title\":{\"text\":\"Year\"}},\"yaxis\":{\"anchor\":\"x\",\"domain\":[0.0,1.0],\"title\":{\"text\":\"Emissions (million tons of CO2e)\"}},\"legend\":{\"title\":{\"text\":\"Type of Energy\"},\"tracegroupgap\":0},\"title\":{\"text\":\"Graph 4. Emissions by type of energy\"}},                        {\"responsive\": true}                    ).then(function(){\n",
       "                            \n",
       "var gd = document.getElementById('b79a77ca-9075-438e-87d9-d5530b0c8ebd');\n",
       "var x = new MutationObserver(function (mutations, observer) {{\n",
       "        var display = window.getComputedStyle(gd).display;\n",
       "        if (!display || display === 'none') {{\n",
       "            console.log([gd, 'removed!']);\n",
       "            Plotly.purge(gd);\n",
       "            observer.disconnect();\n",
       "        }}\n",
       "}});\n",
       "\n",
       "// Listen for the removal of the full notebook cells\n",
       "var notebookContainer = gd.closest('#notebook-container');\n",
       "if (notebookContainer) {{\n",
       "    x.observe(notebookContainer, {childList: true});\n",
       "}}\n",
       "\n",
       "// Listen for the clearing of the current output cell\n",
       "var outputEl = gd.closest('.output');\n",
       "if (outputEl) {{\n",
       "    x.observe(outputEl, {childList: true});\n",
       "}}\n",
       "\n",
       "                        })                };                });            </script>        </div>"
      ]
     },
     "metadata": {},
     "output_type": "display_data"
    }
   ],
   "source": [
    "\n",
    "melted_CO2_energy_aggregate=melted_CO2_energy[\n",
    "(melted_CO2_energy['Type of Energy']=='Coal, Including Coal Coke Net Imports, CO2 Emissions') |\n",
    "(melted_CO2_energy['Type of Energy']=='Natural Gas, Excluding Supplemental Gaseous Fuels, CO2 Emissions') |\n",
    "(melted_CO2_energy['Type of Energy']=='Petroleum, Excluding Biofuels, CO2 Emissions')\n",
    "]\n",
    "\n",
    "\n",
    "\n",
    "fig = px.line(\n",
    "    melted_CO2_energy_aggregate,\n",
    "    x=\"Year\",\n",
    "    y=\"Emissions (million tons of CO2e)\",\n",
    "    color=\"Type of Energy\",\n",
    "    title=\"Graph 4. Emissions by type of energy\"\n",
    ")\n",
    "\n",
    "\n",
    "fig.show()"
   ]
  },
  {
   "cell_type": "markdown",
   "metadata": {},
   "source": [
    "## Final considerations\n",
    "\n",
    "\n",
    "Section 3.1 shows that total US emissions peaked in 2005 at 5.8. After that, they steadily decreased in absolute and relative terms. Graph 2 shows that the share of US emissions worldwide decreased from almost one-third in the 1970s to about 14% in 2021. The evolution of the emissions relative to the world has to do with the progression of emerging economies, especially China. \n",
    "\n",
    "On the other hand, section 3.2 explores the importance of energy-related emissions in the total emissions. Graph 3 demonstrates that energy-related emissions explain most of the evolution of the US total emissions. Therefore, by analyzing the trends in energy consumption, it is possible to understand what explains the recent reduction in the emission level of the economy.\n",
    "\n",
    "Precisely, section 3.3 focuses on determining the evolution of the emissions by type of energy. Graph 4 shows how the emissions produced by coal consumption, which is explained by its use for electricity production, have dramatically decreased. Simultaneously, the emissions that come from natural gas have significantly increased. Here, we have two phenomena: first, the evolution of renewable energy, and second, the necessity of providing reliability by using sources such as natural gas. \n",
    "\n",
    "A continuation of this project should focus on understanding how much of the energy previously produced by coal has been replaced by renewables and how much by natural gas. In any case, it is possible to argue that natural gas, another fossil fuel, has helped to decarbonize the US economy.\n",
    "\n"
   ]
  }
 ],
 "metadata": {
  "kernelspec": {
   "display_name": "Python (computing-in-context)",
   "language": "python",
   "name": "computing-in-context"
  },
  "language_info": {
   "codemirror_mode": {
    "name": "ipython",
    "version": 3
   },
   "file_extension": ".py",
   "mimetype": "text/x-python",
   "name": "python",
   "nbconvert_exporter": "python",
   "pygments_lexer": "ipython3",
   "version": "3.12.2"
  }
 },
 "nbformat": 4,
 "nbformat_minor": 4
}
